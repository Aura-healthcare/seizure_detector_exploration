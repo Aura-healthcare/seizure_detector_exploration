{
 "cells": [
  {
   "cell_type": "code",
   "execution_count": 1,
   "metadata": {},
   "outputs": [],
   "source": [
    "from pathlib import Path\n",
    "import pandas as pd\n",
    "import json\n",
    "import re\n",
    "from tqdm import tqdm"
   ]
  },
  {
   "cell_type": "code",
   "execution_count": 2,
   "metadata": {},
   "outputs": [],
   "source": [
    "from functions import get_good_file, load_and_concat_feats, load_data, load_data_res"
   ]
  },
  {
   "cell_type": "code",
   "execution_count": 5,
   "metadata": {},
   "outputs": [
    {
     "output_type": "stream",
     "name": "stderr",
     "text": "5080it [06:27, 13.10it/s]\n5081it [03:40, 23.02it/s]\n4616it [03:27, 22.20it/s]CPU times: user 10min 32s, sys: 2min 44s, total: 13min 16s\nWall time: 13min 36s\n\n"
    }
   ],
   "source": [
    "%%time\n",
    "xqrs = load_and_concat_feats(\"../feats-v0_4\", \"xqrs\")\n",
    "swt = load_and_concat_feats(\"../feats-v0_4\", \"swt\")\n",
    "pan = load_and_concat_feats(\"../feats-v0_4\", \"pan\")"
   ]
  },
  {
   "cell_type": "code",
   "execution_count": 6,
   "metadata": {},
   "outputs": [
    {
     "output_type": "stream",
     "name": "stdout",
     "text": "CPU times: user 1min 7s, sys: 2.23 s, total: 1min 10s\nWall time: 1min 10s\n"
    }
   ],
   "source": [
    "%%time\n",
    "xqrs.to_csv(\"../to_csv/xqrs.csv\")\n",
    "swt.to_csv(\"../to_csv/swt.csv\")\n",
    "pan.to_csv(\"../to_csv/pan.csv\")"
   ]
  },
  {
   "cell_type": "code",
   "execution_count": 7,
   "metadata": {},
   "outputs": [
    {
     "output_type": "execute_result",
     "data": {
      "text/plain": "5610"
     },
     "metadata": {},
     "execution_count": 7
    }
   ],
   "source": [
    "res_paths = [str(p) for p in Path('../res-v0_4').rglob(f'*.json')]\n",
    "len(res_paths)"
   ]
  },
  {
   "cell_type": "code",
   "execution_count": 10,
   "metadata": {},
   "outputs": [
    {
     "output_type": "execute_result",
     "data": {
      "text/plain": "5277.5"
     },
     "metadata": {},
     "execution_count": 10
    }
   ],
   "source": [
    "feat_paths = [str(p) for p in Path('../feats-v0_4').rglob(f'*.json')]\n",
    "len(feat_paths)/2.8"
   ]
  },
  {
   "cell_type": "code",
   "execution_count": 35,
   "metadata": {},
   "outputs": [
    {
     "output_type": "execute_result",
     "data": {
      "text/plain": "'../res-v0_4/train/01_tcp_ar/086/00008643/s001_2012_02_22/00008643_s001_t000.json'"
     },
     "metadata": {},
     "execution_count": 35
    }
   ],
   "source": [
    "res_paths[0]"
   ]
  },
  {
   "cell_type": "code",
   "execution_count": 31,
   "metadata": {},
   "outputs": [],
   "source": [
    "import re"
   ]
  },
  {
   "cell_type": "code",
   "execution_count": 38,
   "metadata": {},
   "outputs": [
    {
     "output_type": "stream",
     "name": "stdout",
     "text": "['../res-v0_4/train/01_tcp_ar/086/00008643/s002_2012_02_22/00008643_s002_t005.json']\n"
    }
   ],
   "source": [
    "r = re.compile(\".*00008643_s002_t005.*\")\n",
    "newlist = list(filter(r.match, res_paths)) # Read Note\n",
    "print(newlist)"
   ]
  },
  {
   "cell_type": "code",
   "execution_count": 43,
   "metadata": {},
   "outputs": [],
   "source": [
    "feats_paths = '00000258_s002_t000-pan.json'"
   ]
  },
  {
   "cell_type": "code",
   "execution_count": 57,
   "metadata": {},
   "outputs": [
    {
     "output_type": "stream",
     "name": "stdout",
     "text": "../res-v0_4/dev/01_tcp_ar/002/00000258/s002_2003_07_21/00000258_s002_t000.json\n"
    }
   ],
   "source": [
    "\n",
    "r1 = re.search(\"([a-z0-9_]*)\", feats_paths)\n",
    "\n",
    "if r1:\n",
    "    \n",
    "\n",
    "    r = re.compile(f\".*{r1.group()}.*\")\n",
    "    res_path = list(filter(r.match, res_paths)) # Read Note\n",
    "    print(res_path[0])"
   ]
  },
  {
   "cell_type": "code",
   "execution_count": 58,
   "metadata": {},
   "outputs": [],
   "source": [
    "data_res = json.load(open(res_path[0], \"r\"))"
   ]
  },
  {
   "cell_type": "code",
   "execution_count": 3,
   "metadata": {},
   "outputs": [],
   "source": [
    "from functions import load_and_concat_feats_v2"
   ]
  },
  {
   "cell_type": "code",
   "execution_count": 5,
   "metadata": {},
   "outputs": [
    {
     "output_type": "stream",
     "name": "stderr",
     "text": "5080it [10:45,  7.88it/s]\n5081it [10:40,  7.93it/s]\n4616it [08:52,  8.67it/s]CPU times: user 21min 38s, sys: 8min 30s, total: 30min 9s\nWall time: 30min 19s\n\n"
    }
   ],
   "source": [
    "%%time\n",
    "xqrs = load_and_concat_feats_v2(\"../feats-v0_4\", \"xqrs\")\n",
    "swt = load_and_concat_feats_v2(\"../feats-v0_4\", \"swt\")\n",
    "pan = load_and_concat_feats_v2(\"../feats-v0_4\", \"pan\")"
   ]
  },
  {
   "cell_type": "code",
   "execution_count": 6,
   "metadata": {},
   "outputs": [
    {
     "output_type": "stream",
     "name": "stdout",
     "text": "CPU times: user 1min 10s, sys: 2.29 s, total: 1min 12s\nWall time: 1min 13s\n"
    }
   ],
   "source": [
    "%%time\n",
    "xqrs.to_csv(\"../to_csv/xqrs_v2.csv\")\n",
    "swt.to_csv(\"../to_csv/swt_v2.csv\")\n",
    "pan.to_csv(\"../to_csv/pan_v2.csv\")"
   ]
  },
  {
   "cell_type": "code",
   "execution_count": null,
   "metadata": {},
   "outputs": [],
   "source": []
  }
 ],
 "metadata": {
  "language_info": {
   "codemirror_mode": {
    "name": "ipython",
    "version": 3
   },
   "file_extension": ".py",
   "mimetype": "text/x-python",
   "name": "python",
   "nbconvert_exporter": "python",
   "pygments_lexer": "ipython3",
   "version": "3.8.2-final"
  },
  "orig_nbformat": 2,
  "kernelspec": {
   "name": "python38264bit98c2939411ca469e9e3aed6afb10a269",
   "display_name": "Python 3.8.2 64-bit"
  }
 },
 "nbformat": 4,
 "nbformat_minor": 2
}