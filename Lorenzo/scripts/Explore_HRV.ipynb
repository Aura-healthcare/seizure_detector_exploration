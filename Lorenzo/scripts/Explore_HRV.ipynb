{
 "cells": [
  {
   "cell_type": "code",
   "execution_count": 49,
   "metadata": {},
   "outputs": [],
   "source": [
    "import json\n",
    "import pandas as pd\n",
    "pd.set_option(\"display.max_columns\", 100)\n",
    "import numpy as np"
   ]
  },
  {
   "cell_type": "code",
   "execution_count": 140,
   "metadata": {},
   "outputs": [],
   "source": [
    "import hrvanalysis"
   ]
  },
  {
   "cell_type": "code",
   "execution_count": 142,
   "metadata": {},
   "outputs": [
    {
     "output_type": "stream",
     "name": "stdout",
     "text": "1.0.3\n"
    }
   ],
   "source": [
    "print(hrvanalysis.__version__)"
   ]
  },
  {
   "cell_type": "code",
   "execution_count": 3,
   "metadata": {},
   "outputs": [],
   "source": [
    "path = \"/home/zozi/Documents/Code/Projects/Epilepsy_Project/Aura/res-v0_4/dev/01_tcp_ar/002/00000258/s002_2003_07_21/00000258_s002_t000.json\"\n",
    "\n",
    "features = \"xqrs\""
   ]
  },
  {
   "cell_type": "code",
   "execution_count": 33,
   "metadata": {},
   "outputs": [],
   "source": [
    "data = json.load(open(path, \"r\"))\n",
    "df = pd.DataFrame(columns = list(data[features]), \n",
    "                    data = list(map(list, zip(*list(data[features].values())))))"
   ]
  },
  {
   "cell_type": "code",
   "execution_count": 22,
   "metadata": {},
   "outputs": [
    {
     "output_type": "execute_result",
     "data": {
      "text/plain": "{'sampling_freq': 400,\n 'start_datetime': '2003-07-21T17:12:54',\n 'exam_duration': 20,\n 'ref_file': '00000258_s002_t000.edf'}"
     },
     "metadata": {},
     "execution_count": 22
    }
   ],
   "source": [
    "data['infos']"
   ]
  },
  {
   "cell_type": "code",
   "execution_count": 37,
   "metadata": {},
   "outputs": [
    {
     "output_type": "execute_result",
     "data": {
      "text/plain": "     qrs  rr_intervals     hr\n0    124         377.5  158.0\n1    275         665.0   90.0\n2    541         667.5   89.0\n3    808         672.5   89.0\n4   1077         665.0   90.0\n5   1343         670.0   89.0\n6   1611         667.5   89.0\n7   1878         672.5   89.0\n8   2147         665.0   90.0\n9   2413         670.0   89.0\n10  2681         662.5   90.0\n11  2946         665.0   90.0\n12  3212         662.5   90.0\n13  3477         665.0   90.0\n14  3743         665.0   90.0\n15  4009         662.5   90.0\n16  4274         662.5   90.0\n17  4539         662.5   90.0\n18  4804         662.5   90.0\n19  5069         660.0   90.0\n20  5333         660.0   90.0\n21  5597         650.0   92.0\n22  5857         657.5   91.0\n23  6120         657.5   91.0\n24  6383         662.5   90.0\n25  6648         662.5   90.0\n26  6913         660.0   90.0\n27  7177         662.5   90.0\n28  7442         662.5   90.0\n29  7707         662.5   90.0",
      "text/html": "<div>\n<style scoped>\n    .dataframe tbody tr th:only-of-type {\n        vertical-align: middle;\n    }\n\n    .dataframe tbody tr th {\n        vertical-align: top;\n    }\n\n    .dataframe thead th {\n        text-align: right;\n    }\n</style>\n<table border=\"1\" class=\"dataframe\">\n  <thead>\n    <tr style=\"text-align: right;\">\n      <th></th>\n      <th>qrs</th>\n      <th>rr_intervals</th>\n      <th>hr</th>\n    </tr>\n  </thead>\n  <tbody>\n    <tr>\n      <th>0</th>\n      <td>124</td>\n      <td>377.5</td>\n      <td>158.0</td>\n    </tr>\n    <tr>\n      <th>1</th>\n      <td>275</td>\n      <td>665.0</td>\n      <td>90.0</td>\n    </tr>\n    <tr>\n      <th>2</th>\n      <td>541</td>\n      <td>667.5</td>\n      <td>89.0</td>\n    </tr>\n    <tr>\n      <th>3</th>\n      <td>808</td>\n      <td>672.5</td>\n      <td>89.0</td>\n    </tr>\n    <tr>\n      <th>4</th>\n      <td>1077</td>\n      <td>665.0</td>\n      <td>90.0</td>\n    </tr>\n    <tr>\n      <th>5</th>\n      <td>1343</td>\n      <td>670.0</td>\n      <td>89.0</td>\n    </tr>\n    <tr>\n      <th>6</th>\n      <td>1611</td>\n      <td>667.5</td>\n      <td>89.0</td>\n    </tr>\n    <tr>\n      <th>7</th>\n      <td>1878</td>\n      <td>672.5</td>\n      <td>89.0</td>\n    </tr>\n    <tr>\n      <th>8</th>\n      <td>2147</td>\n      <td>665.0</td>\n      <td>90.0</td>\n    </tr>\n    <tr>\n      <th>9</th>\n      <td>2413</td>\n      <td>670.0</td>\n      <td>89.0</td>\n    </tr>\n    <tr>\n      <th>10</th>\n      <td>2681</td>\n      <td>662.5</td>\n      <td>90.0</td>\n    </tr>\n    <tr>\n      <th>11</th>\n      <td>2946</td>\n      <td>665.0</td>\n      <td>90.0</td>\n    </tr>\n    <tr>\n      <th>12</th>\n      <td>3212</td>\n      <td>662.5</td>\n      <td>90.0</td>\n    </tr>\n    <tr>\n      <th>13</th>\n      <td>3477</td>\n      <td>665.0</td>\n      <td>90.0</td>\n    </tr>\n    <tr>\n      <th>14</th>\n      <td>3743</td>\n      <td>665.0</td>\n      <td>90.0</td>\n    </tr>\n    <tr>\n      <th>15</th>\n      <td>4009</td>\n      <td>662.5</td>\n      <td>90.0</td>\n    </tr>\n    <tr>\n      <th>16</th>\n      <td>4274</td>\n      <td>662.5</td>\n      <td>90.0</td>\n    </tr>\n    <tr>\n      <th>17</th>\n      <td>4539</td>\n      <td>662.5</td>\n      <td>90.0</td>\n    </tr>\n    <tr>\n      <th>18</th>\n      <td>4804</td>\n      <td>662.5</td>\n      <td>90.0</td>\n    </tr>\n    <tr>\n      <th>19</th>\n      <td>5069</td>\n      <td>660.0</td>\n      <td>90.0</td>\n    </tr>\n    <tr>\n      <th>20</th>\n      <td>5333</td>\n      <td>660.0</td>\n      <td>90.0</td>\n    </tr>\n    <tr>\n      <th>21</th>\n      <td>5597</td>\n      <td>650.0</td>\n      <td>92.0</td>\n    </tr>\n    <tr>\n      <th>22</th>\n      <td>5857</td>\n      <td>657.5</td>\n      <td>91.0</td>\n    </tr>\n    <tr>\n      <th>23</th>\n      <td>6120</td>\n      <td>657.5</td>\n      <td>91.0</td>\n    </tr>\n    <tr>\n      <th>24</th>\n      <td>6383</td>\n      <td>662.5</td>\n      <td>90.0</td>\n    </tr>\n    <tr>\n      <th>25</th>\n      <td>6648</td>\n      <td>662.5</td>\n      <td>90.0</td>\n    </tr>\n    <tr>\n      <th>26</th>\n      <td>6913</td>\n      <td>660.0</td>\n      <td>90.0</td>\n    </tr>\n    <tr>\n      <th>27</th>\n      <td>7177</td>\n      <td>662.5</td>\n      <td>90.0</td>\n    </tr>\n    <tr>\n      <th>28</th>\n      <td>7442</td>\n      <td>662.5</td>\n      <td>90.0</td>\n    </tr>\n    <tr>\n      <th>29</th>\n      <td>7707</td>\n      <td>662.5</td>\n      <td>90.0</td>\n    </tr>\n  </tbody>\n</table>\n</div>"
     },
     "metadata": {},
     "execution_count": 37
    }
   ],
   "source": [
    "df"
   ]
  },
  {
   "cell_type": "code",
   "execution_count": 38,
   "metadata": {},
   "outputs": [
    {
     "output_type": "execute_result",
     "data": {
      "text/plain": "19620.0"
     },
     "metadata": {},
     "execution_count": 38
    }
   ],
   "source": [
    "df.rr_intervals.sum()"
   ]
  },
  {
   "cell_type": "code",
   "execution_count": 34,
   "metadata": {},
   "outputs": [
    {
     "output_type": "execute_result",
     "data": {
      "text/plain": "30"
     },
     "metadata": {},
     "execution_count": 34
    }
   ],
   "source": [
    "len(df.rr_intervals.tolist())"
   ]
  },
  {
   "cell_type": "code",
   "execution_count": 24,
   "metadata": {},
   "outputs": [
    {
     "output_type": "execute_result",
     "data": {
      "text/plain": "<bound method Series.max of 0     377.5\n1     665.0\n2     667.5\n3     672.5\n4     665.0\n5     670.0\n6     667.5\n7     672.5\n8     665.0\n9     670.0\n10    662.5\n11    665.0\n12    662.5\n13    665.0\n14    665.0\n15    662.5\n16    662.5\n17    662.5\n18    662.5\n19    660.0\n20    660.0\n21    650.0\n22    657.5\n23    657.5\n24    662.5\n25    662.5\n26    660.0\n27    662.5\n28    662.5\n29    662.5\nName: rr_intervals, dtype: float64>"
     },
     "metadata": {},
     "execution_count": 24
    }
   ],
   "source": [
    "df.rr_intervals.max"
   ]
  },
  {
   "cell_type": "code",
   "execution_count": 137,
   "metadata": {},
   "outputs": [
    {
     "output_type": "stream",
     "name": "stdout",
     "text": "3 outlier(s) have been deleted.\nThe outlier(s) value(s) are : [377.5, 672.5, 672.5]\n1 ectopic beat(s) have been deleted with malik rule.\n"
    }
   ],
   "source": [
    "from hrvanalysis import remove_outliers, remove_ectopic_beats, interpolate_nan_values\n",
    "\n",
    "# rr_intervals_list contains integer values of RR-interval\n",
    "rr_intervals_list = df['rr_intervals']\n",
    "\n",
    "# This remove outliers from signal\n",
    "rr_intervals_without_outliers = remove_outliers(rr_intervals=rr_intervals_list,  \n",
    "                                                low_rri=600, high_rri=670)\n",
    "# This replace outliers nan values with linear interpolation\n",
    "interpolated_rr_intervals = interpolate_nan_values(rr_intervals=rr_intervals_without_outliers,\n",
    "                                                   interpolation_method=\"linear\",                       \n",
    "                                                   limit=10)#,\n",
    "                                                   #limit_area=None,\n",
    "                                                   #limit_direction='both')\n",
    "\n",
    "# This remove ectopic beats from signal\n",
    "nn_intervals_list = remove_ectopic_beats(rr_intervals=interpolated_rr_intervals, method=\"malik\")\n",
    "# This replace ectopic beats nan values with linear interpolation\n",
    "interpolated_nn_intervals = interpolate_nan_values(rr_intervals=nn_intervals_list)"
   ]
  },
  {
   "cell_type": "code",
   "execution_count": 138,
   "metadata": {},
   "outputs": [
    {
     "output_type": "execute_result",
     "data": {
      "text/plain": "[nan,\n nan,\n 667.5,\n 666.25,\n 665.0,\n 670.0,\n 667.5,\n 666.25,\n 665.0,\n 670.0,\n 662.5,\n 665.0,\n 662.5,\n 665.0,\n 665.0,\n 662.5,\n 662.5,\n 662.5,\n 662.5,\n 660.0,\n 660.0,\n 650.0,\n 657.5,\n 657.5,\n 662.5,\n 662.5,\n 660.0,\n 662.5,\n 662.5,\n 662.5]"
     },
     "metadata": {},
     "execution_count": 138
    }
   ],
   "source": [
    "interpolated_nn_intervals"
   ]
  },
  {
   "cell_type": "code",
   "execution_count": 117,
   "metadata": {},
   "outputs": [
    {
     "output_type": "execute_result",
     "data": {
      "text/plain": "0    0.0\n1    1.0\n2    NaN\n3    3.0\ndtype: float64"
     },
     "metadata": {},
     "execution_count": 117
    }
   ],
   "source": [
    "s = pd.Series([0, 1, np.nan, 3])\n",
    "s"
   ]
  },
  {
   "cell_type": "code",
   "execution_count": 118,
   "metadata": {},
   "outputs": [],
   "source": [
    "rr_intervals = df['rr_intervals']\n",
    "low_rri=600\n",
    "high_rri=700"
   ]
  },
  {
   "cell_type": "code",
   "execution_count": 120,
   "metadata": {},
   "outputs": [
    {
     "output_type": "execute_result",
     "data": {
      "text/plain": "[nan,\n 665.0,\n 667.5,\n 672.5,\n 665.0,\n 670.0,\n 667.5,\n 672.5,\n 665.0,\n 670.0,\n 662.5,\n 665.0,\n 662.5,\n 665.0,\n 665.0,\n 662.5,\n 662.5,\n 662.5,\n 662.5,\n 660.0,\n 660.0,\n 650.0,\n 657.5,\n 657.5,\n 662.5,\n 662.5,\n 660.0,\n 662.5,\n 662.5,\n 662.5]"
     },
     "metadata": {},
     "execution_count": 120
    }
   ],
   "source": [
    "rr_intervals_cleaned = [rri if high_rri >= rri >= low_rri else np.nan for rri in rr_intervals]\n",
    "rr_intervals_cleaned"
   ]
  },
  {
   "cell_type": "code",
   "execution_count": 125,
   "metadata": {},
   "outputs": [
    {
     "output_type": "execute_result",
     "data": {
      "text/plain": "0     665.0\n1     665.0\n2     667.5\n3     672.5\n4     665.0\n5     670.0\n6     667.5\n7     672.5\n8     665.0\n9     670.0\n10    662.5\n11    665.0\n12    662.5\n13    665.0\n14    665.0\n15    662.5\n16    662.5\n17    662.5\n18    662.5\n19    660.0\n20    660.0\n21    650.0\n22    657.5\n23    657.5\n24    662.5\n25    662.5\n26    660.0\n27    662.5\n28    662.5\n29    662.5\ndtype: float64"
     },
     "metadata": {},
     "execution_count": 125
    }
   ],
   "source": [
    "series_rr_intervals_cleaned = pd.Series(rr_intervals_cleaned)\n",
    "# Interpolate nan values and convert pandas object to list of values\n",
    "series_rr_intervals_cleaned.interpolate(method='linear',\n",
    "                                                                    #limit=None,\n",
    "                                                                    #limit_area=None,\n",
    "                                                                    limit_direction='both')"
   ]
  },
  {
   "cell_type": "code",
   "execution_count": 111,
   "metadata": {},
   "outputs": [
    {
     "output_type": "execute_result",
     "data": {
      "text/plain": "[nan,\n nan,\n 667.5,\n 672.5,\n 665.0,\n 670.0,\n 667.5,\n 672.5,\n 665.0,\n 670.0,\n 662.5,\n 665.0,\n 662.5,\n 665.0,\n 665.0,\n 662.5,\n 662.5,\n 662.5,\n 662.5,\n 660.0,\n 660.0,\n 650.0,\n 657.5,\n 657.5,\n 662.5,\n 662.5,\n 660.0,\n 662.5,\n 662.5,\n 662.5]"
     },
     "metadata": {},
     "execution_count": 111
    }
   ],
   "source": [
    "interpolated_nn_intervals"
   ]
  },
  {
   "cell_type": "code",
   "execution_count": 114,
   "metadata": {},
   "outputs": [
    {
     "output_type": "execute_result",
     "data": {
      "text/plain": "     qrs  rr_intervals     hr  rr_nan\n0    124         377.5  158.0   377.5\n1    275         665.0   90.0   665.0\n2    541         667.5   89.0   667.5\n3    808         672.5   89.0   672.5\n4   1077         665.0   90.0   665.0\n5   1343         670.0   89.0   670.0\n6   1611         667.5   89.0   667.5\n7   1878         672.5   89.0   672.5\n8   2147         665.0   90.0   665.0\n9   2413         670.0   89.0   670.0\n10  2681         662.5   90.0   662.5\n11  2946         665.0   90.0   665.0\n12  3212         662.5   90.0   662.5\n13  3477         665.0   90.0   665.0\n14  3743         665.0   90.0   665.0\n15  4009         662.5   90.0   662.5\n16  4274         662.5   90.0   662.5\n17  4539         662.5   90.0   662.5\n18  4804         662.5   90.0   662.5\n19  5069         660.0   90.0   660.0\n20  5333         660.0   90.0   660.0\n21  5597         650.0   92.0   650.0\n22  5857         657.5   91.0   657.5\n23  6120         657.5   91.0   657.5\n24  6383         662.5   90.0   662.5\n25  6648         662.5   90.0   662.5\n26  6913         660.0   90.0   660.0\n27  7177         662.5   90.0   662.5\n28  7442         662.5   90.0   662.5\n29  7707         662.5   90.0   662.5",
      "text/html": "<div>\n<style scoped>\n    .dataframe tbody tr th:only-of-type {\n        vertical-align: middle;\n    }\n\n    .dataframe tbody tr th {\n        vertical-align: top;\n    }\n\n    .dataframe thead th {\n        text-align: right;\n    }\n</style>\n<table border=\"1\" class=\"dataframe\">\n  <thead>\n    <tr style=\"text-align: right;\">\n      <th></th>\n      <th>qrs</th>\n      <th>rr_intervals</th>\n      <th>hr</th>\n      <th>rr_nan</th>\n    </tr>\n  </thead>\n  <tbody>\n    <tr>\n      <th>0</th>\n      <td>124</td>\n      <td>377.5</td>\n      <td>158.0</td>\n      <td>377.5</td>\n    </tr>\n    <tr>\n      <th>1</th>\n      <td>275</td>\n      <td>665.0</td>\n      <td>90.0</td>\n      <td>665.0</td>\n    </tr>\n    <tr>\n      <th>2</th>\n      <td>541</td>\n      <td>667.5</td>\n      <td>89.0</td>\n      <td>667.5</td>\n    </tr>\n    <tr>\n      <th>3</th>\n      <td>808</td>\n      <td>672.5</td>\n      <td>89.0</td>\n      <td>672.5</td>\n    </tr>\n    <tr>\n      <th>4</th>\n      <td>1077</td>\n      <td>665.0</td>\n      <td>90.0</td>\n      <td>665.0</td>\n    </tr>\n    <tr>\n      <th>5</th>\n      <td>1343</td>\n      <td>670.0</td>\n      <td>89.0</td>\n      <td>670.0</td>\n    </tr>\n    <tr>\n      <th>6</th>\n      <td>1611</td>\n      <td>667.5</td>\n      <td>89.0</td>\n      <td>667.5</td>\n    </tr>\n    <tr>\n      <th>7</th>\n      <td>1878</td>\n      <td>672.5</td>\n      <td>89.0</td>\n      <td>672.5</td>\n    </tr>\n    <tr>\n      <th>8</th>\n      <td>2147</td>\n      <td>665.0</td>\n      <td>90.0</td>\n      <td>665.0</td>\n    </tr>\n    <tr>\n      <th>9</th>\n      <td>2413</td>\n      <td>670.0</td>\n      <td>89.0</td>\n      <td>670.0</td>\n    </tr>\n    <tr>\n      <th>10</th>\n      <td>2681</td>\n      <td>662.5</td>\n      <td>90.0</td>\n      <td>662.5</td>\n    </tr>\n    <tr>\n      <th>11</th>\n      <td>2946</td>\n      <td>665.0</td>\n      <td>90.0</td>\n      <td>665.0</td>\n    </tr>\n    <tr>\n      <th>12</th>\n      <td>3212</td>\n      <td>662.5</td>\n      <td>90.0</td>\n      <td>662.5</td>\n    </tr>\n    <tr>\n      <th>13</th>\n      <td>3477</td>\n      <td>665.0</td>\n      <td>90.0</td>\n      <td>665.0</td>\n    </tr>\n    <tr>\n      <th>14</th>\n      <td>3743</td>\n      <td>665.0</td>\n      <td>90.0</td>\n      <td>665.0</td>\n    </tr>\n    <tr>\n      <th>15</th>\n      <td>4009</td>\n      <td>662.5</td>\n      <td>90.0</td>\n      <td>662.5</td>\n    </tr>\n    <tr>\n      <th>16</th>\n      <td>4274</td>\n      <td>662.5</td>\n      <td>90.0</td>\n      <td>662.5</td>\n    </tr>\n    <tr>\n      <th>17</th>\n      <td>4539</td>\n      <td>662.5</td>\n      <td>90.0</td>\n      <td>662.5</td>\n    </tr>\n    <tr>\n      <th>18</th>\n      <td>4804</td>\n      <td>662.5</td>\n      <td>90.0</td>\n      <td>662.5</td>\n    </tr>\n    <tr>\n      <th>19</th>\n      <td>5069</td>\n      <td>660.0</td>\n      <td>90.0</td>\n      <td>660.0</td>\n    </tr>\n    <tr>\n      <th>20</th>\n      <td>5333</td>\n      <td>660.0</td>\n      <td>90.0</td>\n      <td>660.0</td>\n    </tr>\n    <tr>\n      <th>21</th>\n      <td>5597</td>\n      <td>650.0</td>\n      <td>92.0</td>\n      <td>650.0</td>\n    </tr>\n    <tr>\n      <th>22</th>\n      <td>5857</td>\n      <td>657.5</td>\n      <td>91.0</td>\n      <td>657.5</td>\n    </tr>\n    <tr>\n      <th>23</th>\n      <td>6120</td>\n      <td>657.5</td>\n      <td>91.0</td>\n      <td>657.5</td>\n    </tr>\n    <tr>\n      <th>24</th>\n      <td>6383</td>\n      <td>662.5</td>\n      <td>90.0</td>\n      <td>662.5</td>\n    </tr>\n    <tr>\n      <th>25</th>\n      <td>6648</td>\n      <td>662.5</td>\n      <td>90.0</td>\n      <td>662.5</td>\n    </tr>\n    <tr>\n      <th>26</th>\n      <td>6913</td>\n      <td>660.0</td>\n      <td>90.0</td>\n      <td>660.0</td>\n    </tr>\n    <tr>\n      <th>27</th>\n      <td>7177</td>\n      <td>662.5</td>\n      <td>90.0</td>\n      <td>662.5</td>\n    </tr>\n    <tr>\n      <th>28</th>\n      <td>7442</td>\n      <td>662.5</td>\n      <td>90.0</td>\n      <td>662.5</td>\n    </tr>\n    <tr>\n      <th>29</th>\n      <td>7707</td>\n      <td>662.5</td>\n      <td>90.0</td>\n      <td>662.5</td>\n    </tr>\n  </tbody>\n</table>\n</div>"
     },
     "metadata": {},
     "execution_count": 114
    }
   ],
   "source": [
    "df['rr_nan'] = rr_intervals_without_outliers\n",
    "df.rr_nan = df.rr_intervals.interpolate(axis=0)\n",
    "df"
   ]
  },
  {
   "cell_type": "code",
   "execution_count": 97,
   "metadata": {},
   "outputs": [
    {
     "output_type": "execute_result",
     "data": {
      "text/plain": "0       NaN\n1     665.0\n2     667.5\n3     672.5\n4     665.0\n5     670.0\n6     667.5\n7     672.5\n8     665.0\n9     670.0\n10    662.5\n11    665.0\n12    662.5\n13    665.0\n14    665.0\n15    662.5\n16    662.5\n17    662.5\n18    662.5\n19    660.0\n20    660.0\n21    650.0\n22    657.5\n23    657.5\n24    662.5\n25    662.5\n26    660.0\n27    662.5\n28    662.5\n29    662.5\ndtype: float64"
     },
     "metadata": {},
     "execution_count": 97
    }
   ],
   "source": [
    "series_rr_intervals_cleaned = pd.Series(rr_intervals_without_outliers)\n",
    "# Interpolate nan values and convert pandas object to list of values\n",
    "series_rr_intervals_cleaned.interpolate(method='linear', limit_area=None)\n"
   ]
  },
  {
   "cell_type": "code",
   "execution_count": 45,
   "metadata": {},
   "outputs": [],
   "source": [
    "from hrvanalysis import get_sampen, get_csi_cvi_features"
   ]
  },
  {
   "cell_type": "code",
   "execution_count": 64,
   "metadata": {},
   "outputs": [
    {
     "output_type": "execute_result",
     "data": {
      "text/plain": "{'sampen': 0.9808292530117262}"
     },
     "metadata": {},
     "execution_count": 64
    }
   ],
   "source": [
    "sampen_features = get_sampen(nn_intervals_list)\n",
    "sampen_features"
   ]
  },
  {
   "cell_type": "code",
   "execution_count": 65,
   "metadata": {},
   "outputs": [
    {
     "output_type": "execute_result",
     "data": {
      "text/plain": "{'csi': 1.8886649765339554,\n 'cvi': 2.462436575543433,\n 'Modified_csi': 44.20289136458043}"
     },
     "metadata": {},
     "execution_count": 65
    }
   ],
   "source": [
    "csi_cvi_features = get_csi_cvi_features(nn_intervals_list)\n",
    "csi_cvi_features"
   ]
  },
  {
   "cell_type": "code",
   "execution_count": 61,
   "metadata": {},
   "outputs": [
    {
     "output_type": "execute_result",
     "data": {
      "text/plain": "[667.5,\n 672.5,\n 665.0,\n 670.0,\n 667.5,\n 672.5,\n 665.0,\n 670.0,\n 662.5,\n 665.0,\n 662.5,\n 665.0,\n 665.0,\n 662.5,\n 662.5,\n 662.5,\n 662.5,\n 660.0,\n 660.0,\n 650.0,\n 657.5,\n 657.5,\n 662.5,\n 662.5,\n 660.0,\n 662.5,\n 662.5,\n 662.5]"
     },
     "metadata": {},
     "execution_count": 61
    }
   ],
   "source": [
    "nn_intervals_list = nn_intervals_list[2:]\n",
    "nn_intervals_list"
   ]
  },
  {
   "cell_type": "code",
   "execution_count": 67,
   "metadata": {},
   "outputs": [],
   "source": [
    "diff_nn_intervals = np.diff(nn_intervals_list)\n",
    "# measures the width of poincare cloud\n",
    "sd1 = np.sqrt(np.std(diff_nn_intervals, ddof=1) ** 2 * 0.5)\n",
    "# measures the length of the poincare cloud\n",
    "sd2 = np.sqrt(2 * np.std(nn_intervals_list, ddof=1) ** 2 - 0.5 * np.std(diff_nn_intervals, ddof=1) ** 2)\n",
    "ratio_sd2_sd1 = sd2 / sd1"
   ]
  },
  {
   "cell_type": "code",
   "execution_count": 68,
   "metadata": {},
   "outputs": [
    {
     "output_type": "execute_result",
     "data": {
      "text/plain": "array([  nan,   nan,   5. ,  -7.5,   5. ,  -2.5,   5. ,  -7.5,   5. ,\n        -7.5,   2.5,  -2.5,   2.5,   0. ,  -2.5,   0. ,   0. ,   0. ,\n        -2.5,   0. , -10. ,   7.5,   0. ,   5. ,   0. ,  -2.5,   2.5,\n         0. ,   0. ])"
     },
     "metadata": {},
     "execution_count": 68
    }
   ],
   "source": [
    "diff_nn_intervals"
   ]
  },
  {
   "cell_type": "code",
   "execution_count": 69,
   "metadata": {},
   "outputs": [
    {
     "output_type": "execute_result",
     "data": {
      "text/plain": "nan"
     },
     "metadata": {},
     "execution_count": 69
    }
   ],
   "source": [
    "sd1"
   ]
  },
  {
   "cell_type": "code",
   "execution_count": 56,
   "metadata": {},
   "outputs": [
    {
     "output_type": "execute_result",
     "data": {
      "text/plain": "[nan,\n nan,\n 667.5,\n 672.5,\n 665.0,\n 670.0,\n 667.5,\n 672.5,\n 665.0,\n 670.0,\n 662.5,\n 665.0,\n 662.5,\n 665.0,\n 665.0,\n 662.5,\n 662.5,\n 662.5,\n 662.5,\n 660.0,\n 660.0,\n 650.0,\n 657.5,\n 657.5,\n 662.5,\n 662.5,\n 660.0,\n 662.5,\n 662.5,\n 662.5]"
     },
     "metadata": {},
     "execution_count": 56
    }
   ],
   "source": [
    "interpolated_nn_intervals"
   ]
  },
  {
   "cell_type": "code",
   "execution_count": 57,
   "metadata": {},
   "outputs": [
    {
     "output_type": "execute_result",
     "data": {
      "text/plain": "[nan,\n 665.0,\n 667.5,\n 672.5,\n 665.0,\n 670.0,\n 667.5,\n 672.5,\n 665.0,\n 670.0,\n 662.5,\n 665.0,\n 662.5,\n 665.0,\n 665.0,\n 662.5,\n 662.5,\n 662.5,\n 662.5,\n 660.0,\n 660.0,\n 650.0,\n 657.5,\n 657.5,\n 662.5,\n 662.5,\n 660.0,\n 662.5,\n 662.5,\n 662.5]"
     },
     "metadata": {},
     "execution_count": 57
    }
   ],
   "source": [
    "rr_intervals_without_outliers"
   ]
  },
  {
   "cell_type": "code",
   "execution_count": 25,
   "metadata": {},
   "outputs": [],
   "source": [
    "path_features = \"/home/zozi/Documents/Code/Projects/Epilepsy_Project/Aura/feats-v0_4/dev/01_tcp_ar/002/00000258/s002_2003_07_21/00000258_s002_t000-xqrs.json\""
   ]
  },
  {
   "cell_type": "code",
   "execution_count": 26,
   "metadata": {},
   "outputs": [],
   "source": [
    "def load_data(path):\n",
    "    data = json.load(open(path, \"r\"))\n",
    "    df = pd.DataFrame(columns = data['keys'], data = data['features'])\n",
    "    return df"
   ]
  },
  {
   "cell_type": "code",
   "execution_count": 35,
   "metadata": {},
   "outputs": [],
   "source": [
    "df_features = load_data(path_features)"
   ]
  },
  {
   "cell_type": "code",
   "execution_count": 36,
   "metadata": {},
   "outputs": [
    {
     "output_type": "execute_result",
     "data": {
      "text/plain": "   interval_index  interval_start_time  mean_nni       sdnn       sdsd  \\\n0             0.0                  0.0     637.5  80.932070  50.407776   \n1             1.0              10000.0     661.0   2.070197   1.336306   \n2             2.0              20000.0       NaN        NaN        NaN   \n\n   nni_50    pnni_50  nni_20    pnni_20      rmssd  median_nni  range_nni  \\\n0     2.0  13.333333     2.0  13.333333  54.363197       665.0      292.5   \n1     0.0   0.000000     0.0   0.000000   1.336306       662.5        5.0   \n2     NaN        NaN     NaN        NaN        NaN         NaN        NaN   \n\n       cvsd     cvnni    mean_hr      max_hr     min_hr     std_hr  lf  hf  \\\n0  0.085276  0.126952  96.289826  158.940397  89.552239  17.845787 NaN NaN   \n1  0.002022  0.003132  90.772391   91.254753  90.566038   0.275356 NaN NaN   \n2       NaN       NaN        NaN         NaN        NaN        NaN NaN NaN   \n\n   vlf  lf_hf_ratio  csi  cvi  Modified_csi  sampen  sd1  sd2  ratio_sd2_sd1  \\\n0  NaN          NaN  NaN  NaN           NaN     NaN  NaN  NaN            NaN   \n1  NaN          NaN  NaN  NaN           NaN     NaN  NaN  NaN            NaN   \n2  NaN          NaN  NaN  NaN           NaN     NaN  NaN  NaN            NaN   \n\n   label  \n0    0.0  \n1    0.0  \n2    NaN  ",
      "text/html": "<div>\n<style scoped>\n    .dataframe tbody tr th:only-of-type {\n        vertical-align: middle;\n    }\n\n    .dataframe tbody tr th {\n        vertical-align: top;\n    }\n\n    .dataframe thead th {\n        text-align: right;\n    }\n</style>\n<table border=\"1\" class=\"dataframe\">\n  <thead>\n    <tr style=\"text-align: right;\">\n      <th></th>\n      <th>interval_index</th>\n      <th>interval_start_time</th>\n      <th>mean_nni</th>\n      <th>sdnn</th>\n      <th>sdsd</th>\n      <th>nni_50</th>\n      <th>pnni_50</th>\n      <th>nni_20</th>\n      <th>pnni_20</th>\n      <th>rmssd</th>\n      <th>median_nni</th>\n      <th>range_nni</th>\n      <th>cvsd</th>\n      <th>cvnni</th>\n      <th>mean_hr</th>\n      <th>max_hr</th>\n      <th>min_hr</th>\n      <th>std_hr</th>\n      <th>lf</th>\n      <th>hf</th>\n      <th>vlf</th>\n      <th>lf_hf_ratio</th>\n      <th>csi</th>\n      <th>cvi</th>\n      <th>Modified_csi</th>\n      <th>sampen</th>\n      <th>sd1</th>\n      <th>sd2</th>\n      <th>ratio_sd2_sd1</th>\n      <th>label</th>\n    </tr>\n  </thead>\n  <tbody>\n    <tr>\n      <th>0</th>\n      <td>0.0</td>\n      <td>0.0</td>\n      <td>637.5</td>\n      <td>80.932070</td>\n      <td>50.407776</td>\n      <td>2.0</td>\n      <td>13.333333</td>\n      <td>2.0</td>\n      <td>13.333333</td>\n      <td>54.363197</td>\n      <td>665.0</td>\n      <td>292.5</td>\n      <td>0.085276</td>\n      <td>0.126952</td>\n      <td>96.289826</td>\n      <td>158.940397</td>\n      <td>89.552239</td>\n      <td>17.845787</td>\n      <td>NaN</td>\n      <td>NaN</td>\n      <td>NaN</td>\n      <td>NaN</td>\n      <td>NaN</td>\n      <td>NaN</td>\n      <td>NaN</td>\n      <td>NaN</td>\n      <td>NaN</td>\n      <td>NaN</td>\n      <td>NaN</td>\n      <td>0.0</td>\n    </tr>\n    <tr>\n      <th>1</th>\n      <td>1.0</td>\n      <td>10000.0</td>\n      <td>661.0</td>\n      <td>2.070197</td>\n      <td>1.336306</td>\n      <td>0.0</td>\n      <td>0.000000</td>\n      <td>0.0</td>\n      <td>0.000000</td>\n      <td>1.336306</td>\n      <td>662.5</td>\n      <td>5.0</td>\n      <td>0.002022</td>\n      <td>0.003132</td>\n      <td>90.772391</td>\n      <td>91.254753</td>\n      <td>90.566038</td>\n      <td>0.275356</td>\n      <td>NaN</td>\n      <td>NaN</td>\n      <td>NaN</td>\n      <td>NaN</td>\n      <td>NaN</td>\n      <td>NaN</td>\n      <td>NaN</td>\n      <td>NaN</td>\n      <td>NaN</td>\n      <td>NaN</td>\n      <td>NaN</td>\n      <td>0.0</td>\n    </tr>\n    <tr>\n      <th>2</th>\n      <td>2.0</td>\n      <td>20000.0</td>\n      <td>NaN</td>\n      <td>NaN</td>\n      <td>NaN</td>\n      <td>NaN</td>\n      <td>NaN</td>\n      <td>NaN</td>\n      <td>NaN</td>\n      <td>NaN</td>\n      <td>NaN</td>\n      <td>NaN</td>\n      <td>NaN</td>\n      <td>NaN</td>\n      <td>NaN</td>\n      <td>NaN</td>\n      <td>NaN</td>\n      <td>NaN</td>\n      <td>NaN</td>\n      <td>NaN</td>\n      <td>NaN</td>\n      <td>NaN</td>\n      <td>NaN</td>\n      <td>NaN</td>\n      <td>NaN</td>\n      <td>NaN</td>\n      <td>NaN</td>\n      <td>NaN</td>\n      <td>NaN</td>\n      <td>NaN</td>\n    </tr>\n  </tbody>\n</table>\n</div>"
     },
     "metadata": {},
     "execution_count": 36
    }
   ],
   "source": [
    "df_features"
   ]
  },
  {
   "cell_type": "code",
   "execution_count": null,
   "metadata": {},
   "outputs": [],
   "source": []
  }
 ],
 "metadata": {
  "language_info": {
   "codemirror_mode": {
    "name": "ipython",
    "version": 3
   },
   "file_extension": ".py",
   "mimetype": "text/x-python",
   "name": "python",
   "nbconvert_exporter": "python",
   "pygments_lexer": "ipython3",
   "version": "3.8.2-final"
  },
  "orig_nbformat": 2,
  "kernelspec": {
   "name": "python38264bit98c2939411ca469e9e3aed6afb10a269",
   "display_name": "Python 3.8.2 64-bit"
  }
 },
 "nbformat": 4,
 "nbformat_minor": 2
}