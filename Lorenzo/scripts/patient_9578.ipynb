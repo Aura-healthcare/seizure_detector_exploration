{
 "cells": [
  {
   "cell_type": "markdown",
   "metadata": {},
   "source": [
    "# Preprocessing"
   ]
  },
  {
   "cell_type": "code",
   "execution_count": 1,
   "metadata": {},
   "outputs": [],
   "source": [
    "import pandas as pd\n",
    "import numpy as np\n",
    "import matplotlib.pyplot as plt\n",
    "import seaborn as sns\n",
    "\n",
    "import json\n",
    "\n",
    "pd.set_option(\"display.max_columns\", 100)"
   ]
  },
  {
   "cell_type": "code",
   "execution_count": 2,
   "metadata": {},
   "outputs": [
    {
     "output_type": "execute_result",
     "data": {
      "text/plain": "        Set Categorie Montage  Dossier Patient  Patient          Session  \\\n263089  dev         01_tcp_ar               95     9578  s029_2013_08_23   \n263090  dev         01_tcp_ar               95     9578  s029_2013_08_23   \n263091  dev         01_tcp_ar               95     9578  s029_2013_08_23   \n263092  dev         01_tcp_ar               95     9578  s029_2013_08_23   \n263093  dev         01_tcp_ar               95     9578  s029_2013_08_23   \n\n       File N°  exam_duration  SWT_vs_XQRS  Pan_vs_XQRS  interval_index  \\\n263089    t003            735          1.0          1.0             0.0   \n263090    t003            735          1.0          1.0             1.0   \n263091    t003            735          1.0          1.0             2.0   \n263092    t003            735          1.0          1.0             3.0   \n263093    t003            735          1.0          1.0             4.0   \n\n        interval_start_time    mean_nni      sdnn      sdsd  nni_50  pnni_50  \\\n263089                  0.0  606.689453  8.989327  9.229190     0.0      0.0   \n263090              10000.0  602.481618  2.196468  1.953125     0.0      0.0   \n263091              20000.0  600.585938  1.746928  1.426361     0.0      0.0   \n263092              30000.0  593.979779  8.340391  8.621310     0.0      0.0   \n263093              40000.0  602.022059  2.344707  1.673744     0.0      0.0   \n\n        nni_20   pnni_20     rmssd  median_nni  range_nni      cvsd     cvnni  \\\n263089     1.0  6.250000  9.461407   609.37500   39.06250  0.015595  0.014817   \n263090     0.0  0.000000  1.953125   601.56250    7.81250  0.003242  0.003646   \n263091     0.0  0.000000  1.426361   601.56250    3.90625  0.002375  0.002909   \n263092     1.0  5.882353  8.896908   597.65625   35.15625  0.014978  0.014042   \n263093     0.0  0.000000  1.691456   601.56250    7.81250  0.002810  0.003895   \n\n           mean_hr      max_hr      min_hr    std_hr  lf  hf  vlf  \\\n263089   98.918721  104.489796   97.834395  1.487371 NaN NaN  NaN   \n263090   99.589346  100.392157   99.096774  0.352150 NaN NaN  NaN   \n263091   99.903234  100.392157   99.740260  0.282280 NaN NaN  NaN   \n263092  101.033206  106.666667  100.392157  1.443790 NaN NaN  NaN   \n263093   99.665545  100.392157   99.096774  0.376621 NaN NaN  NaN   \n\n        lf_hf_ratio  csi  cvi  Modified_csi  sampen  sd1  sd2  ratio_sd2_sd1  \\\n263089          NaN  NaN  NaN           NaN     NaN  NaN  NaN            NaN   \n263090          NaN  NaN  NaN           NaN     NaN  NaN  NaN            NaN   \n263091          NaN  NaN  NaN           NaN     NaN  NaN  NaN            NaN   \n263092          NaN  NaN  NaN           NaN     NaN  NaN  NaN            NaN   \n263093          NaN  NaN  NaN           NaN     NaN  NaN  NaN            NaN   \n\n        label  \n263089    0.0  \n263090    0.0  \n263091    0.0  \n263092    0.0  \n263093    0.0  ",
      "text/html": "<div>\n<style scoped>\n    .dataframe tbody tr th:only-of-type {\n        vertical-align: middle;\n    }\n\n    .dataframe tbody tr th {\n        vertical-align: top;\n    }\n\n    .dataframe thead th {\n        text-align: right;\n    }\n</style>\n<table border=\"1\" class=\"dataframe\">\n  <thead>\n    <tr style=\"text-align: right;\">\n      <th></th>\n      <th>Set</th>\n      <th>Categorie Montage</th>\n      <th>Dossier Patient</th>\n      <th>Patient</th>\n      <th>Session</th>\n      <th>File N°</th>\n      <th>exam_duration</th>\n      <th>SWT_vs_XQRS</th>\n      <th>Pan_vs_XQRS</th>\n      <th>interval_index</th>\n      <th>interval_start_time</th>\n      <th>mean_nni</th>\n      <th>sdnn</th>\n      <th>sdsd</th>\n      <th>nni_50</th>\n      <th>pnni_50</th>\n      <th>nni_20</th>\n      <th>pnni_20</th>\n      <th>rmssd</th>\n      <th>median_nni</th>\n      <th>range_nni</th>\n      <th>cvsd</th>\n      <th>cvnni</th>\n      <th>mean_hr</th>\n      <th>max_hr</th>\n      <th>min_hr</th>\n      <th>std_hr</th>\n      <th>lf</th>\n      <th>hf</th>\n      <th>vlf</th>\n      <th>lf_hf_ratio</th>\n      <th>csi</th>\n      <th>cvi</th>\n      <th>Modified_csi</th>\n      <th>sampen</th>\n      <th>sd1</th>\n      <th>sd2</th>\n      <th>ratio_sd2_sd1</th>\n      <th>label</th>\n    </tr>\n  </thead>\n  <tbody>\n    <tr>\n      <th>263089</th>\n      <td>dev</td>\n      <td>01_tcp_ar</td>\n      <td>95</td>\n      <td>9578</td>\n      <td>s029_2013_08_23</td>\n      <td>t003</td>\n      <td>735</td>\n      <td>1.0</td>\n      <td>1.0</td>\n      <td>0.0</td>\n      <td>0.0</td>\n      <td>606.689453</td>\n      <td>8.989327</td>\n      <td>9.229190</td>\n      <td>0.0</td>\n      <td>0.0</td>\n      <td>1.0</td>\n      <td>6.250000</td>\n      <td>9.461407</td>\n      <td>609.37500</td>\n      <td>39.06250</td>\n      <td>0.015595</td>\n      <td>0.014817</td>\n      <td>98.918721</td>\n      <td>104.489796</td>\n      <td>97.834395</td>\n      <td>1.487371</td>\n      <td>NaN</td>\n      <td>NaN</td>\n      <td>NaN</td>\n      <td>NaN</td>\n      <td>NaN</td>\n      <td>NaN</td>\n      <td>NaN</td>\n      <td>NaN</td>\n      <td>NaN</td>\n      <td>NaN</td>\n      <td>NaN</td>\n      <td>0.0</td>\n    </tr>\n    <tr>\n      <th>263090</th>\n      <td>dev</td>\n      <td>01_tcp_ar</td>\n      <td>95</td>\n      <td>9578</td>\n      <td>s029_2013_08_23</td>\n      <td>t003</td>\n      <td>735</td>\n      <td>1.0</td>\n      <td>1.0</td>\n      <td>1.0</td>\n      <td>10000.0</td>\n      <td>602.481618</td>\n      <td>2.196468</td>\n      <td>1.953125</td>\n      <td>0.0</td>\n      <td>0.0</td>\n      <td>0.0</td>\n      <td>0.000000</td>\n      <td>1.953125</td>\n      <td>601.56250</td>\n      <td>7.81250</td>\n      <td>0.003242</td>\n      <td>0.003646</td>\n      <td>99.589346</td>\n      <td>100.392157</td>\n      <td>99.096774</td>\n      <td>0.352150</td>\n      <td>NaN</td>\n      <td>NaN</td>\n      <td>NaN</td>\n      <td>NaN</td>\n      <td>NaN</td>\n      <td>NaN</td>\n      <td>NaN</td>\n      <td>NaN</td>\n      <td>NaN</td>\n      <td>NaN</td>\n      <td>NaN</td>\n      <td>0.0</td>\n    </tr>\n    <tr>\n      <th>263091</th>\n      <td>dev</td>\n      <td>01_tcp_ar</td>\n      <td>95</td>\n      <td>9578</td>\n      <td>s029_2013_08_23</td>\n      <td>t003</td>\n      <td>735</td>\n      <td>1.0</td>\n      <td>1.0</td>\n      <td>2.0</td>\n      <td>20000.0</td>\n      <td>600.585938</td>\n      <td>1.746928</td>\n      <td>1.426361</td>\n      <td>0.0</td>\n      <td>0.0</td>\n      <td>0.0</td>\n      <td>0.000000</td>\n      <td>1.426361</td>\n      <td>601.56250</td>\n      <td>3.90625</td>\n      <td>0.002375</td>\n      <td>0.002909</td>\n      <td>99.903234</td>\n      <td>100.392157</td>\n      <td>99.740260</td>\n      <td>0.282280</td>\n      <td>NaN</td>\n      <td>NaN</td>\n      <td>NaN</td>\n      <td>NaN</td>\n      <td>NaN</td>\n      <td>NaN</td>\n      <td>NaN</td>\n      <td>NaN</td>\n      <td>NaN</td>\n      <td>NaN</td>\n      <td>NaN</td>\n      <td>0.0</td>\n    </tr>\n    <tr>\n      <th>263092</th>\n      <td>dev</td>\n      <td>01_tcp_ar</td>\n      <td>95</td>\n      <td>9578</td>\n      <td>s029_2013_08_23</td>\n      <td>t003</td>\n      <td>735</td>\n      <td>1.0</td>\n      <td>1.0</td>\n      <td>3.0</td>\n      <td>30000.0</td>\n      <td>593.979779</td>\n      <td>8.340391</td>\n      <td>8.621310</td>\n      <td>0.0</td>\n      <td>0.0</td>\n      <td>1.0</td>\n      <td>5.882353</td>\n      <td>8.896908</td>\n      <td>597.65625</td>\n      <td>35.15625</td>\n      <td>0.014978</td>\n      <td>0.014042</td>\n      <td>101.033206</td>\n      <td>106.666667</td>\n      <td>100.392157</td>\n      <td>1.443790</td>\n      <td>NaN</td>\n      <td>NaN</td>\n      <td>NaN</td>\n      <td>NaN</td>\n      <td>NaN</td>\n      <td>NaN</td>\n      <td>NaN</td>\n      <td>NaN</td>\n      <td>NaN</td>\n      <td>NaN</td>\n      <td>NaN</td>\n      <td>0.0</td>\n    </tr>\n    <tr>\n      <th>263093</th>\n      <td>dev</td>\n      <td>01_tcp_ar</td>\n      <td>95</td>\n      <td>9578</td>\n      <td>s029_2013_08_23</td>\n      <td>t003</td>\n      <td>735</td>\n      <td>1.0</td>\n      <td>1.0</td>\n      <td>4.0</td>\n      <td>40000.0</td>\n      <td>602.022059</td>\n      <td>2.344707</td>\n      <td>1.673744</td>\n      <td>0.0</td>\n      <td>0.0</td>\n      <td>0.0</td>\n      <td>0.000000</td>\n      <td>1.691456</td>\n      <td>601.56250</td>\n      <td>7.81250</td>\n      <td>0.002810</td>\n      <td>0.003895</td>\n      <td>99.665545</td>\n      <td>100.392157</td>\n      <td>99.096774</td>\n      <td>0.376621</td>\n      <td>NaN</td>\n      <td>NaN</td>\n      <td>NaN</td>\n      <td>NaN</td>\n      <td>NaN</td>\n      <td>NaN</td>\n      <td>NaN</td>\n      <td>NaN</td>\n      <td>NaN</td>\n      <td>NaN</td>\n      <td>NaN</td>\n      <td>0.0</td>\n    </tr>\n  </tbody>\n</table>\n</div>"
     },
     "metadata": {},
     "execution_count": 2
    }
   ],
   "source": [
    "xqrs = pd.read_csv('../to_csv/xqrs_v2.csv').drop('Unnamed: 0', axis=1)\n",
    "xqrs = xqrs[xqrs['Patient'] == 9578]\n",
    "xqrs.head()"
   ]
  },
  {
   "cell_type": "code",
   "execution_count": 3,
   "metadata": {},
   "outputs": [
    {
     "output_type": "execute_result",
     "data": {
      "text/plain": "(11745, 39)"
     },
     "metadata": {},
     "execution_count": 3
    }
   ],
   "source": [
    "xqrs.shape"
   ]
  },
  {
   "cell_type": "code",
   "execution_count": 4,
   "metadata": {},
   "outputs": [
    {
     "output_type": "execute_result",
     "data": {
      "text/plain": "        Set Categorie Montage  Dossier Patient  Patient Session        Date  \\\n263089  dev         01_tcp_ar               95     9578    s029  23/08/2013   \n263090  dev         01_tcp_ar               95     9578    s029  23/08/2013   \n263091  dev         01_tcp_ar               95     9578    s029  23/08/2013   \n263092  dev         01_tcp_ar               95     9578    s029  23/08/2013   \n263093  dev         01_tcp_ar               95     9578    s029  23/08/2013   \n\n       File N°  exam_duration  SWT_vs_XQRS  Pan_vs_XQRS  interval_index  \\\n263089    t003            735          1.0          1.0             0.0   \n263090    t003            735          1.0          1.0             1.0   \n263091    t003            735          1.0          1.0             2.0   \n263092    t003            735          1.0          1.0             3.0   \n263093    t003            735          1.0          1.0             4.0   \n\n        interval_start_time    mean_nni      sdnn      sdsd  nni_50  pnni_50  \\\n263089                  0.0  606.689453  8.989327  9.229190     0.0      0.0   \n263090              10000.0  602.481618  2.196468  1.953125     0.0      0.0   \n263091              20000.0  600.585938  1.746928  1.426361     0.0      0.0   \n263092              30000.0  593.979779  8.340391  8.621310     0.0      0.0   \n263093              40000.0  602.022059  2.344707  1.673744     0.0      0.0   \n\n        nni_20   pnni_20     rmssd  median_nni  range_nni      cvsd     cvnni  \\\n263089     1.0  6.250000  9.461407   609.37500   39.06250  0.015595  0.014817   \n263090     0.0  0.000000  1.953125   601.56250    7.81250  0.003242  0.003646   \n263091     0.0  0.000000  1.426361   601.56250    3.90625  0.002375  0.002909   \n263092     1.0  5.882353  8.896908   597.65625   35.15625  0.014978  0.014042   \n263093     0.0  0.000000  1.691456   601.56250    7.81250  0.002810  0.003895   \n\n           mean_hr      max_hr      min_hr    std_hr  lf  hf  vlf  \\\n263089   98.918721  104.489796   97.834395  1.487371 NaN NaN  NaN   \n263090   99.589346  100.392157   99.096774  0.352150 NaN NaN  NaN   \n263091   99.903234  100.392157   99.740260  0.282280 NaN NaN  NaN   \n263092  101.033206  106.666667  100.392157  1.443790 NaN NaN  NaN   \n263093   99.665545  100.392157   99.096774  0.376621 NaN NaN  NaN   \n\n        lf_hf_ratio  csi  cvi  Modified_csi  sampen  sd1  sd2  ratio_sd2_sd1  \\\n263089          NaN  NaN  NaN           NaN     NaN  NaN  NaN            NaN   \n263090          NaN  NaN  NaN           NaN     NaN  NaN  NaN            NaN   \n263091          NaN  NaN  NaN           NaN     NaN  NaN  NaN            NaN   \n263092          NaN  NaN  NaN           NaN     NaN  NaN  NaN            NaN   \n263093          NaN  NaN  NaN           NaN     NaN  NaN  NaN            NaN   \n\n        label  \n263089    0.0  \n263090    0.0  \n263091    0.0  \n263092    0.0  \n263093    0.0  ",
      "text/html": "<div>\n<style scoped>\n    .dataframe tbody tr th:only-of-type {\n        vertical-align: middle;\n    }\n\n    .dataframe tbody tr th {\n        vertical-align: top;\n    }\n\n    .dataframe thead th {\n        text-align: right;\n    }\n</style>\n<table border=\"1\" class=\"dataframe\">\n  <thead>\n    <tr style=\"text-align: right;\">\n      <th></th>\n      <th>Set</th>\n      <th>Categorie Montage</th>\n      <th>Dossier Patient</th>\n      <th>Patient</th>\n      <th>Session</th>\n      <th>Date</th>\n      <th>File N°</th>\n      <th>exam_duration</th>\n      <th>SWT_vs_XQRS</th>\n      <th>Pan_vs_XQRS</th>\n      <th>interval_index</th>\n      <th>interval_start_time</th>\n      <th>mean_nni</th>\n      <th>sdnn</th>\n      <th>sdsd</th>\n      <th>nni_50</th>\n      <th>pnni_50</th>\n      <th>nni_20</th>\n      <th>pnni_20</th>\n      <th>rmssd</th>\n      <th>median_nni</th>\n      <th>range_nni</th>\n      <th>cvsd</th>\n      <th>cvnni</th>\n      <th>mean_hr</th>\n      <th>max_hr</th>\n      <th>min_hr</th>\n      <th>std_hr</th>\n      <th>lf</th>\n      <th>hf</th>\n      <th>vlf</th>\n      <th>lf_hf_ratio</th>\n      <th>csi</th>\n      <th>cvi</th>\n      <th>Modified_csi</th>\n      <th>sampen</th>\n      <th>sd1</th>\n      <th>sd2</th>\n      <th>ratio_sd2_sd1</th>\n      <th>label</th>\n    </tr>\n  </thead>\n  <tbody>\n    <tr>\n      <th>263089</th>\n      <td>dev</td>\n      <td>01_tcp_ar</td>\n      <td>95</td>\n      <td>9578</td>\n      <td>s029</td>\n      <td>23/08/2013</td>\n      <td>t003</td>\n      <td>735</td>\n      <td>1.0</td>\n      <td>1.0</td>\n      <td>0.0</td>\n      <td>0.0</td>\n      <td>606.689453</td>\n      <td>8.989327</td>\n      <td>9.229190</td>\n      <td>0.0</td>\n      <td>0.0</td>\n      <td>1.0</td>\n      <td>6.250000</td>\n      <td>9.461407</td>\n      <td>609.37500</td>\n      <td>39.06250</td>\n      <td>0.015595</td>\n      <td>0.014817</td>\n      <td>98.918721</td>\n      <td>104.489796</td>\n      <td>97.834395</td>\n      <td>1.487371</td>\n      <td>NaN</td>\n      <td>NaN</td>\n      <td>NaN</td>\n      <td>NaN</td>\n      <td>NaN</td>\n      <td>NaN</td>\n      <td>NaN</td>\n      <td>NaN</td>\n      <td>NaN</td>\n      <td>NaN</td>\n      <td>NaN</td>\n      <td>0.0</td>\n    </tr>\n    <tr>\n      <th>263090</th>\n      <td>dev</td>\n      <td>01_tcp_ar</td>\n      <td>95</td>\n      <td>9578</td>\n      <td>s029</td>\n      <td>23/08/2013</td>\n      <td>t003</td>\n      <td>735</td>\n      <td>1.0</td>\n      <td>1.0</td>\n      <td>1.0</td>\n      <td>10000.0</td>\n      <td>602.481618</td>\n      <td>2.196468</td>\n      <td>1.953125</td>\n      <td>0.0</td>\n      <td>0.0</td>\n      <td>0.0</td>\n      <td>0.000000</td>\n      <td>1.953125</td>\n      <td>601.56250</td>\n      <td>7.81250</td>\n      <td>0.003242</td>\n      <td>0.003646</td>\n      <td>99.589346</td>\n      <td>100.392157</td>\n      <td>99.096774</td>\n      <td>0.352150</td>\n      <td>NaN</td>\n      <td>NaN</td>\n      <td>NaN</td>\n      <td>NaN</td>\n      <td>NaN</td>\n      <td>NaN</td>\n      <td>NaN</td>\n      <td>NaN</td>\n      <td>NaN</td>\n      <td>NaN</td>\n      <td>NaN</td>\n      <td>0.0</td>\n    </tr>\n    <tr>\n      <th>263091</th>\n      <td>dev</td>\n      <td>01_tcp_ar</td>\n      <td>95</td>\n      <td>9578</td>\n      <td>s029</td>\n      <td>23/08/2013</td>\n      <td>t003</td>\n      <td>735</td>\n      <td>1.0</td>\n      <td>1.0</td>\n      <td>2.0</td>\n      <td>20000.0</td>\n      <td>600.585938</td>\n      <td>1.746928</td>\n      <td>1.426361</td>\n      <td>0.0</td>\n      <td>0.0</td>\n      <td>0.0</td>\n      <td>0.000000</td>\n      <td>1.426361</td>\n      <td>601.56250</td>\n      <td>3.90625</td>\n      <td>0.002375</td>\n      <td>0.002909</td>\n      <td>99.903234</td>\n      <td>100.392157</td>\n      <td>99.740260</td>\n      <td>0.282280</td>\n      <td>NaN</td>\n      <td>NaN</td>\n      <td>NaN</td>\n      <td>NaN</td>\n      <td>NaN</td>\n      <td>NaN</td>\n      <td>NaN</td>\n      <td>NaN</td>\n      <td>NaN</td>\n      <td>NaN</td>\n      <td>NaN</td>\n      <td>0.0</td>\n    </tr>\n    <tr>\n      <th>263092</th>\n      <td>dev</td>\n      <td>01_tcp_ar</td>\n      <td>95</td>\n      <td>9578</td>\n      <td>s029</td>\n      <td>23/08/2013</td>\n      <td>t003</td>\n      <td>735</td>\n      <td>1.0</td>\n      <td>1.0</td>\n      <td>3.0</td>\n      <td>30000.0</td>\n      <td>593.979779</td>\n      <td>8.340391</td>\n      <td>8.621310</td>\n      <td>0.0</td>\n      <td>0.0</td>\n      <td>1.0</td>\n      <td>5.882353</td>\n      <td>8.896908</td>\n      <td>597.65625</td>\n      <td>35.15625</td>\n      <td>0.014978</td>\n      <td>0.014042</td>\n      <td>101.033206</td>\n      <td>106.666667</td>\n      <td>100.392157</td>\n      <td>1.443790</td>\n      <td>NaN</td>\n      <td>NaN</td>\n      <td>NaN</td>\n      <td>NaN</td>\n      <td>NaN</td>\n      <td>NaN</td>\n      <td>NaN</td>\n      <td>NaN</td>\n      <td>NaN</td>\n      <td>NaN</td>\n      <td>NaN</td>\n      <td>0.0</td>\n    </tr>\n    <tr>\n      <th>263093</th>\n      <td>dev</td>\n      <td>01_tcp_ar</td>\n      <td>95</td>\n      <td>9578</td>\n      <td>s029</td>\n      <td>23/08/2013</td>\n      <td>t003</td>\n      <td>735</td>\n      <td>1.0</td>\n      <td>1.0</td>\n      <td>4.0</td>\n      <td>40000.0</td>\n      <td>602.022059</td>\n      <td>2.344707</td>\n      <td>1.673744</td>\n      <td>0.0</td>\n      <td>0.0</td>\n      <td>0.0</td>\n      <td>0.000000</td>\n      <td>1.691456</td>\n      <td>601.56250</td>\n      <td>7.81250</td>\n      <td>0.002810</td>\n      <td>0.003895</td>\n      <td>99.665545</td>\n      <td>100.392157</td>\n      <td>99.096774</td>\n      <td>0.376621</td>\n      <td>NaN</td>\n      <td>NaN</td>\n      <td>NaN</td>\n      <td>NaN</td>\n      <td>NaN</td>\n      <td>NaN</td>\n      <td>NaN</td>\n      <td>NaN</td>\n      <td>NaN</td>\n      <td>NaN</td>\n      <td>NaN</td>\n      <td>0.0</td>\n    </tr>\n  </tbody>\n</table>\n</div>"
     },
     "metadata": {},
     "execution_count": 4
    }
   ],
   "source": [
    "xqrs['Date'] = xqrs.Session.str[-10:]\n",
    "xqrs['Date'] = xqrs.Date.str.replace('_', '/')\n",
    "xqrs['Date'] =  pd.to_datetime(xqrs['Date'], format='%Y/%m/%d').dt.strftime('%d/%m/%Y')\n",
    "\n",
    "xqrs.Session = xqrs.Session.str[:4]\n",
    "\n",
    "cols = xqrs.columns.tolist()\n",
    "cols = cols[:5] + ['Date'] + cols[5:-1]\n",
    "\n",
    "xqrs = xqrs[cols]\n",
    "\n",
    "xqrs.head()"
   ]
  },
  {
   "cell_type": "code",
   "execution_count": 5,
   "metadata": {},
   "outputs": [
    {
     "output_type": "execute_result",
     "data": {
      "text/plain": "          Set Categorie Montage  Dossier Patient  Patient Session        Date  \\\ncount   11745             11745          11745.0  11745.0   11745       11745   \nunique      1                 1              NaN      NaN      32          23   \ntop       dev         01_tcp_ar              NaN      NaN    s029  23/08/2013   \nfreq    11745             11745              NaN      NaN     803        1101   \nmean      NaN               NaN             95.0   9578.0     NaN         NaN   \nstd       NaN               NaN              0.0      0.0     NaN         NaN   \nmin       NaN               NaN             95.0   9578.0     NaN         NaN   \n25%       NaN               NaN             95.0   9578.0     NaN         NaN   \n50%       NaN               NaN             95.0   9578.0     NaN         NaN   \n75%       NaN               NaN             95.0   9578.0     NaN         NaN   \nmax       NaN               NaN             95.0   9578.0     NaN         NaN   \n\n       File N°  exam_duration   SWT_vs_XQRS   Pan_vs_XQRS  interval_index  \\\ncount    11745   11745.000000  11745.000000  11745.000000    11745.000000   \nunique      16            NaN           NaN           NaN             NaN   \ntop       t001            NaN           NaN           NaN             NaN   \nfreq      1768            NaN           NaN           NaN             NaN   \nmean       NaN     850.236441      0.994316      0.950978       42.340315   \nstd        NaN     673.777058      0.033186      0.212699       46.070813   \nmin        NaN      17.000000      0.702519      0.000000        0.000000   \n25%        NaN     601.000000      0.998878      0.999187       14.000000   \n50%        NaN     601.000000      0.999469      1.000000       28.000000   \n75%        NaN    1074.000000      1.000000      1.000000       53.000000   \nmax        NaN    3404.000000      1.000000      1.000000      340.000000   \n\n        interval_start_time      mean_nni          sdnn          sdsd  \\\ncount          1.174500e+04  11662.000000  11597.000000  11597.000000   \nunique                  NaN           NaN           NaN           NaN   \ntop                     NaN           NaN           NaN           NaN   \nfreq                    NaN           NaN           NaN           NaN   \nmean           4.234032e+05    652.709862     11.234252      6.795161   \nstd            4.607081e+05     89.524072      9.472889      5.315611   \nmin            0.000000e+00      0.000000      0.000000      0.000000   \n25%            1.400000e+05    607.077206      5.330142      2.923170   \n50%            2.800000e+05    653.076172      9.067961      5.524272   \n75%            5.300000e+05    701.729911     14.099653      9.067007   \nmax            3.400000e+06    957.454545    226.234826    115.880877   \n\n              nni_50       pnni_50        nni_20       pnni_20         rmssd  \\\ncount   11679.000000  11679.000000  11679.000000  11679.000000  11597.000000   \nunique           NaN           NaN           NaN           NaN           NaN   \ntop              NaN           NaN           NaN           NaN           NaN   \nfreq             NaN           NaN           NaN           NaN           NaN   \nmean        0.042983      0.299179      0.584468      4.016915      7.057901   \nstd         0.282567      1.959569      1.002071      7.138725      5.429334   \nmin         0.000000      0.000000      0.000000      0.000000      0.000000   \n25%         0.000000      0.000000      0.000000      0.000000      3.088162   \n50%         0.000000      0.000000      0.000000      0.000000      5.812686   \n75%         0.000000      0.000000      1.000000      6.666667      9.407496   \nmax         7.000000     50.000000     10.000000     71.428571    115.902789   \n\n          median_nni     range_nni          cvsd         cvnni       mean_hr  \\\ncount   11662.000000  11678.000000  11584.000000  11584.000000  1.166200e+04   \nunique           NaN           NaN           NaN           NaN           NaN   \ntop              NaN           NaN           NaN           NaN           NaN   \nfreq             NaN           NaN           NaN           NaN           NaN   \nmean      653.440048     34.472693      0.010576      0.016997           inf   \nstd        89.850658     27.193253      0.007778      0.014129           NaN   \nmin         0.000000      0.000000      0.000000      0.000000  6.270795e+01   \n25%       609.375000     15.625000      0.004890      0.008282  8.554462e+01   \n50%       652.343750     31.250000      0.008745      0.013939  9.190415e+01   \n75%       703.125000     46.875000      0.014287      0.021406  9.887378e+01   \nmax       960.000000    558.593750      0.173897      0.354524           inf   \n\n              max_hr        min_hr        std_hr           lf           hf  \\\ncount   1.167800e+04  1.167800e+04  11584.000000  8361.000000  8361.000000   \nunique           NaN           NaN           NaN          NaN          NaN   \ntop              NaN           NaN           NaN          NaN          NaN   \nfreq             NaN           NaN           NaN          NaN          NaN   \nmean             inf           inf      1.530157   159.474745    13.551108   \nstd              NaN           NaN      1.324318   316.572670    31.586150   \nmin     6.493506e+01  5.976654e+01      0.000000     1.186754     0.402726   \n25%     8.827586e+01  8.393443e+01      0.738241    29.381131     2.528421   \n50%     9.423313e+01  9.035294e+01      1.230915    73.500826     5.615369   \n75%     1.020408e+02  9.721519e+01      1.925457   175.846722    12.838277   \nmax              inf           inf     29.235507  7108.100125  1023.599070   \n\n                vlf  lf_hf_ratio           csi           cvi  Modified_csi  \\\ncount   8361.000000  8361.000000  10228.000000  10228.000000  10228.000000   \nunique          NaN          NaN           NaN           NaN           NaN   \ntop             NaN          NaN           NaN           NaN           NaN   \nfreq            NaN          NaN           NaN           NaN           NaN   \nmean     125.809059    16.391615      5.439965      3.061063    613.188128   \nstd      244.417538    15.060656      3.003631      0.512933    808.885224   \nmin        0.128722     0.714182      0.771190      1.470822     12.482404   \n25%       18.392882     6.242627      3.467350      2.716680    168.997282   \n50%       51.266102    12.505527      4.751361      3.060295    355.223687   \n75%      127.724827    21.020076      6.617061      3.408740    738.280279   \nmax     3377.910241   160.387555     36.710563      4.978590  15007.698911   \n\n              sampen           sd1           sd2  ratio_sd2_sd1         label  \ncount   1.026400e+04  10228.000000  10228.000000   10228.000000  11585.000000  \nunique           NaN           NaN           NaN            NaN           NaN  \ntop              NaN           NaN           NaN            NaN           NaN  \nfreq             NaN           NaN           NaN            NaN           NaN  \nmean             inf      4.665022     23.403666       5.439965      0.114175  \nstd              NaN      3.205176     17.523645       3.003631      0.316702  \nmin     6.389893e-02      0.801546      2.059374       0.771190      0.000000  \n25%     4.935341e-01      2.519768     11.701570       3.467350      0.000000  \n50%     6.817942e-01      3.779708     18.452765       4.751361      0.000000  \n75%     9.108707e-01      5.858538     30.029738       6.617061      0.000000  \nmax              inf     47.205406    152.819491      36.710563      1.000000  ",
      "text/html": "<div>\n<style scoped>\n    .dataframe tbody tr th:only-of-type {\n        vertical-align: middle;\n    }\n\n    .dataframe tbody tr th {\n        vertical-align: top;\n    }\n\n    .dataframe thead th {\n        text-align: right;\n    }\n</style>\n<table border=\"1\" class=\"dataframe\">\n  <thead>\n    <tr style=\"text-align: right;\">\n      <th></th>\n      <th>Set</th>\n      <th>Categorie Montage</th>\n      <th>Dossier Patient</th>\n      <th>Patient</th>\n      <th>Session</th>\n      <th>Date</th>\n      <th>File N°</th>\n      <th>exam_duration</th>\n      <th>SWT_vs_XQRS</th>\n      <th>Pan_vs_XQRS</th>\n      <th>interval_index</th>\n      <th>interval_start_time</th>\n      <th>mean_nni</th>\n      <th>sdnn</th>\n      <th>sdsd</th>\n      <th>nni_50</th>\n      <th>pnni_50</th>\n      <th>nni_20</th>\n      <th>pnni_20</th>\n      <th>rmssd</th>\n      <th>median_nni</th>\n      <th>range_nni</th>\n      <th>cvsd</th>\n      <th>cvnni</th>\n      <th>mean_hr</th>\n      <th>max_hr</th>\n      <th>min_hr</th>\n      <th>std_hr</th>\n      <th>lf</th>\n      <th>hf</th>\n      <th>vlf</th>\n      <th>lf_hf_ratio</th>\n      <th>csi</th>\n      <th>cvi</th>\n      <th>Modified_csi</th>\n      <th>sampen</th>\n      <th>sd1</th>\n      <th>sd2</th>\n      <th>ratio_sd2_sd1</th>\n      <th>label</th>\n    </tr>\n  </thead>\n  <tbody>\n    <tr>\n      <th>count</th>\n      <td>11745</td>\n      <td>11745</td>\n      <td>11745.0</td>\n      <td>11745.0</td>\n      <td>11745</td>\n      <td>11745</td>\n      <td>11745</td>\n      <td>11745.000000</td>\n      <td>11745.000000</td>\n      <td>11745.000000</td>\n      <td>11745.000000</td>\n      <td>1.174500e+04</td>\n      <td>11662.000000</td>\n      <td>11597.000000</td>\n      <td>11597.000000</td>\n      <td>11679.000000</td>\n      <td>11679.000000</td>\n      <td>11679.000000</td>\n      <td>11679.000000</td>\n      <td>11597.000000</td>\n      <td>11662.000000</td>\n      <td>11678.000000</td>\n      <td>11584.000000</td>\n      <td>11584.000000</td>\n      <td>1.166200e+04</td>\n      <td>1.167800e+04</td>\n      <td>1.167800e+04</td>\n      <td>11584.000000</td>\n      <td>8361.000000</td>\n      <td>8361.000000</td>\n      <td>8361.000000</td>\n      <td>8361.000000</td>\n      <td>10228.000000</td>\n      <td>10228.000000</td>\n      <td>10228.000000</td>\n      <td>1.026400e+04</td>\n      <td>10228.000000</td>\n      <td>10228.000000</td>\n      <td>10228.000000</td>\n      <td>11585.000000</td>\n    </tr>\n    <tr>\n      <th>unique</th>\n      <td>1</td>\n      <td>1</td>\n      <td>NaN</td>\n      <td>NaN</td>\n      <td>32</td>\n      <td>23</td>\n      <td>16</td>\n      <td>NaN</td>\n      <td>NaN</td>\n      <td>NaN</td>\n      <td>NaN</td>\n      <td>NaN</td>\n      <td>NaN</td>\n      <td>NaN</td>\n      <td>NaN</td>\n      <td>NaN</td>\n      <td>NaN</td>\n      <td>NaN</td>\n      <td>NaN</td>\n      <td>NaN</td>\n      <td>NaN</td>\n      <td>NaN</td>\n      <td>NaN</td>\n      <td>NaN</td>\n      <td>NaN</td>\n      <td>NaN</td>\n      <td>NaN</td>\n      <td>NaN</td>\n      <td>NaN</td>\n      <td>NaN</td>\n      <td>NaN</td>\n      <td>NaN</td>\n      <td>NaN</td>\n      <td>NaN</td>\n      <td>NaN</td>\n      <td>NaN</td>\n      <td>NaN</td>\n      <td>NaN</td>\n      <td>NaN</td>\n      <td>NaN</td>\n    </tr>\n    <tr>\n      <th>top</th>\n      <td>dev</td>\n      <td>01_tcp_ar</td>\n      <td>NaN</td>\n      <td>NaN</td>\n      <td>s029</td>\n      <td>23/08/2013</td>\n      <td>t001</td>\n      <td>NaN</td>\n      <td>NaN</td>\n      <td>NaN</td>\n      <td>NaN</td>\n      <td>NaN</td>\n      <td>NaN</td>\n      <td>NaN</td>\n      <td>NaN</td>\n      <td>NaN</td>\n      <td>NaN</td>\n      <td>NaN</td>\n      <td>NaN</td>\n      <td>NaN</td>\n      <td>NaN</td>\n      <td>NaN</td>\n      <td>NaN</td>\n      <td>NaN</td>\n      <td>NaN</td>\n      <td>NaN</td>\n      <td>NaN</td>\n      <td>NaN</td>\n      <td>NaN</td>\n      <td>NaN</td>\n      <td>NaN</td>\n      <td>NaN</td>\n      <td>NaN</td>\n      <td>NaN</td>\n      <td>NaN</td>\n      <td>NaN</td>\n      <td>NaN</td>\n      <td>NaN</td>\n      <td>NaN</td>\n      <td>NaN</td>\n    </tr>\n    <tr>\n      <th>freq</th>\n      <td>11745</td>\n      <td>11745</td>\n      <td>NaN</td>\n      <td>NaN</td>\n      <td>803</td>\n      <td>1101</td>\n      <td>1768</td>\n      <td>NaN</td>\n      <td>NaN</td>\n      <td>NaN</td>\n      <td>NaN</td>\n      <td>NaN</td>\n      <td>NaN</td>\n      <td>NaN</td>\n      <td>NaN</td>\n      <td>NaN</td>\n      <td>NaN</td>\n      <td>NaN</td>\n      <td>NaN</td>\n      <td>NaN</td>\n      <td>NaN</td>\n      <td>NaN</td>\n      <td>NaN</td>\n      <td>NaN</td>\n      <td>NaN</td>\n      <td>NaN</td>\n      <td>NaN</td>\n      <td>NaN</td>\n      <td>NaN</td>\n      <td>NaN</td>\n      <td>NaN</td>\n      <td>NaN</td>\n      <td>NaN</td>\n      <td>NaN</td>\n      <td>NaN</td>\n      <td>NaN</td>\n      <td>NaN</td>\n      <td>NaN</td>\n      <td>NaN</td>\n      <td>NaN</td>\n    </tr>\n    <tr>\n      <th>mean</th>\n      <td>NaN</td>\n      <td>NaN</td>\n      <td>95.0</td>\n      <td>9578.0</td>\n      <td>NaN</td>\n      <td>NaN</td>\n      <td>NaN</td>\n      <td>850.236441</td>\n      <td>0.994316</td>\n      <td>0.950978</td>\n      <td>42.340315</td>\n      <td>4.234032e+05</td>\n      <td>652.709862</td>\n      <td>11.234252</td>\n      <td>6.795161</td>\n      <td>0.042983</td>\n      <td>0.299179</td>\n      <td>0.584468</td>\n      <td>4.016915</td>\n      <td>7.057901</td>\n      <td>653.440048</td>\n      <td>34.472693</td>\n      <td>0.010576</td>\n      <td>0.016997</td>\n      <td>inf</td>\n      <td>inf</td>\n      <td>inf</td>\n      <td>1.530157</td>\n      <td>159.474745</td>\n      <td>13.551108</td>\n      <td>125.809059</td>\n      <td>16.391615</td>\n      <td>5.439965</td>\n      <td>3.061063</td>\n      <td>613.188128</td>\n      <td>inf</td>\n      <td>4.665022</td>\n      <td>23.403666</td>\n      <td>5.439965</td>\n      <td>0.114175</td>\n    </tr>\n    <tr>\n      <th>std</th>\n      <td>NaN</td>\n      <td>NaN</td>\n      <td>0.0</td>\n      <td>0.0</td>\n      <td>NaN</td>\n      <td>NaN</td>\n      <td>NaN</td>\n      <td>673.777058</td>\n      <td>0.033186</td>\n      <td>0.212699</td>\n      <td>46.070813</td>\n      <td>4.607081e+05</td>\n      <td>89.524072</td>\n      <td>9.472889</td>\n      <td>5.315611</td>\n      <td>0.282567</td>\n      <td>1.959569</td>\n      <td>1.002071</td>\n      <td>7.138725</td>\n      <td>5.429334</td>\n      <td>89.850658</td>\n      <td>27.193253</td>\n      <td>0.007778</td>\n      <td>0.014129</td>\n      <td>NaN</td>\n      <td>NaN</td>\n      <td>NaN</td>\n      <td>1.324318</td>\n      <td>316.572670</td>\n      <td>31.586150</td>\n      <td>244.417538</td>\n      <td>15.060656</td>\n      <td>3.003631</td>\n      <td>0.512933</td>\n      <td>808.885224</td>\n      <td>NaN</td>\n      <td>3.205176</td>\n      <td>17.523645</td>\n      <td>3.003631</td>\n      <td>0.316702</td>\n    </tr>\n    <tr>\n      <th>min</th>\n      <td>NaN</td>\n      <td>NaN</td>\n      <td>95.0</td>\n      <td>9578.0</td>\n      <td>NaN</td>\n      <td>NaN</td>\n      <td>NaN</td>\n      <td>17.000000</td>\n      <td>0.702519</td>\n      <td>0.000000</td>\n      <td>0.000000</td>\n      <td>0.000000e+00</td>\n      <td>0.000000</td>\n      <td>0.000000</td>\n      <td>0.000000</td>\n      <td>0.000000</td>\n      <td>0.000000</td>\n      <td>0.000000</td>\n      <td>0.000000</td>\n      <td>0.000000</td>\n      <td>0.000000</td>\n      <td>0.000000</td>\n      <td>0.000000</td>\n      <td>0.000000</td>\n      <td>6.270795e+01</td>\n      <td>6.493506e+01</td>\n      <td>5.976654e+01</td>\n      <td>0.000000</td>\n      <td>1.186754</td>\n      <td>0.402726</td>\n      <td>0.128722</td>\n      <td>0.714182</td>\n      <td>0.771190</td>\n      <td>1.470822</td>\n      <td>12.482404</td>\n      <td>6.389893e-02</td>\n      <td>0.801546</td>\n      <td>2.059374</td>\n      <td>0.771190</td>\n      <td>0.000000</td>\n    </tr>\n    <tr>\n      <th>25%</th>\n      <td>NaN</td>\n      <td>NaN</td>\n      <td>95.0</td>\n      <td>9578.0</td>\n      <td>NaN</td>\n      <td>NaN</td>\n      <td>NaN</td>\n      <td>601.000000</td>\n      <td>0.998878</td>\n      <td>0.999187</td>\n      <td>14.000000</td>\n      <td>1.400000e+05</td>\n      <td>607.077206</td>\n      <td>5.330142</td>\n      <td>2.923170</td>\n      <td>0.000000</td>\n      <td>0.000000</td>\n      <td>0.000000</td>\n      <td>0.000000</td>\n      <td>3.088162</td>\n      <td>609.375000</td>\n      <td>15.625000</td>\n      <td>0.004890</td>\n      <td>0.008282</td>\n      <td>8.554462e+01</td>\n      <td>8.827586e+01</td>\n      <td>8.393443e+01</td>\n      <td>0.738241</td>\n      <td>29.381131</td>\n      <td>2.528421</td>\n      <td>18.392882</td>\n      <td>6.242627</td>\n      <td>3.467350</td>\n      <td>2.716680</td>\n      <td>168.997282</td>\n      <td>4.935341e-01</td>\n      <td>2.519768</td>\n      <td>11.701570</td>\n      <td>3.467350</td>\n      <td>0.000000</td>\n    </tr>\n    <tr>\n      <th>50%</th>\n      <td>NaN</td>\n      <td>NaN</td>\n      <td>95.0</td>\n      <td>9578.0</td>\n      <td>NaN</td>\n      <td>NaN</td>\n      <td>NaN</td>\n      <td>601.000000</td>\n      <td>0.999469</td>\n      <td>1.000000</td>\n      <td>28.000000</td>\n      <td>2.800000e+05</td>\n      <td>653.076172</td>\n      <td>9.067961</td>\n      <td>5.524272</td>\n      <td>0.000000</td>\n      <td>0.000000</td>\n      <td>0.000000</td>\n      <td>0.000000</td>\n      <td>5.812686</td>\n      <td>652.343750</td>\n      <td>31.250000</td>\n      <td>0.008745</td>\n      <td>0.013939</td>\n      <td>9.190415e+01</td>\n      <td>9.423313e+01</td>\n      <td>9.035294e+01</td>\n      <td>1.230915</td>\n      <td>73.500826</td>\n      <td>5.615369</td>\n      <td>51.266102</td>\n      <td>12.505527</td>\n      <td>4.751361</td>\n      <td>3.060295</td>\n      <td>355.223687</td>\n      <td>6.817942e-01</td>\n      <td>3.779708</td>\n      <td>18.452765</td>\n      <td>4.751361</td>\n      <td>0.000000</td>\n    </tr>\n    <tr>\n      <th>75%</th>\n      <td>NaN</td>\n      <td>NaN</td>\n      <td>95.0</td>\n      <td>9578.0</td>\n      <td>NaN</td>\n      <td>NaN</td>\n      <td>NaN</td>\n      <td>1074.000000</td>\n      <td>1.000000</td>\n      <td>1.000000</td>\n      <td>53.000000</td>\n      <td>5.300000e+05</td>\n      <td>701.729911</td>\n      <td>14.099653</td>\n      <td>9.067007</td>\n      <td>0.000000</td>\n      <td>0.000000</td>\n      <td>1.000000</td>\n      <td>6.666667</td>\n      <td>9.407496</td>\n      <td>703.125000</td>\n      <td>46.875000</td>\n      <td>0.014287</td>\n      <td>0.021406</td>\n      <td>9.887378e+01</td>\n      <td>1.020408e+02</td>\n      <td>9.721519e+01</td>\n      <td>1.925457</td>\n      <td>175.846722</td>\n      <td>12.838277</td>\n      <td>127.724827</td>\n      <td>21.020076</td>\n      <td>6.617061</td>\n      <td>3.408740</td>\n      <td>738.280279</td>\n      <td>9.108707e-01</td>\n      <td>5.858538</td>\n      <td>30.029738</td>\n      <td>6.617061</td>\n      <td>0.000000</td>\n    </tr>\n    <tr>\n      <th>max</th>\n      <td>NaN</td>\n      <td>NaN</td>\n      <td>95.0</td>\n      <td>9578.0</td>\n      <td>NaN</td>\n      <td>NaN</td>\n      <td>NaN</td>\n      <td>3404.000000</td>\n      <td>1.000000</td>\n      <td>1.000000</td>\n      <td>340.000000</td>\n      <td>3.400000e+06</td>\n      <td>957.454545</td>\n      <td>226.234826</td>\n      <td>115.880877</td>\n      <td>7.000000</td>\n      <td>50.000000</td>\n      <td>10.000000</td>\n      <td>71.428571</td>\n      <td>115.902789</td>\n      <td>960.000000</td>\n      <td>558.593750</td>\n      <td>0.173897</td>\n      <td>0.354524</td>\n      <td>inf</td>\n      <td>inf</td>\n      <td>inf</td>\n      <td>29.235507</td>\n      <td>7108.100125</td>\n      <td>1023.599070</td>\n      <td>3377.910241</td>\n      <td>160.387555</td>\n      <td>36.710563</td>\n      <td>4.978590</td>\n      <td>15007.698911</td>\n      <td>inf</td>\n      <td>47.205406</td>\n      <td>152.819491</td>\n      <td>36.710563</td>\n      <td>1.000000</td>\n    </tr>\n  </tbody>\n</table>\n</div>"
     },
     "metadata": {},
     "execution_count": 5
    }
   ],
   "source": [
    "xqrs.describe(include='all')"
   ]
  },
  {
   "cell_type": "code",
   "execution_count": 6,
   "metadata": {},
   "outputs": [],
   "source": [
    "xqrs['Dossier Patient'] = xqrs['Dossier Patient'].astype(str)\n",
    "xqrs['Patient'] = xqrs['Patient'].astype(str)"
   ]
  },
  {
   "cell_type": "code",
   "execution_count": 7,
   "metadata": {},
   "outputs": [],
   "source": [
    "xqrs['Key'] = xqrs.Set + '_' + xqrs['Categorie Montage'] + '_' + xqrs['Patient'] + '_' + xqrs.Session + '_' + xqrs['File N°']\n",
    "xqrs.drop(['Set', 'Categorie Montage', 'Patient', 'Session', 'File N°', 'Dossier Patient'], axis=1, inplace=True)"
   ]
  },
  {
   "cell_type": "code",
   "execution_count": 8,
   "metadata": {},
   "outputs": [
    {
     "output_type": "execute_result",
     "data": {
      "text/plain": "                                 Key        Date  exam_duration  SWT_vs_XQRS  \\\n263089  dev_01_tcp_ar_9578_s029_t003  23/08/2013            735          1.0   \n263090  dev_01_tcp_ar_9578_s029_t003  23/08/2013            735          1.0   \n263091  dev_01_tcp_ar_9578_s029_t003  23/08/2013            735          1.0   \n263092  dev_01_tcp_ar_9578_s029_t003  23/08/2013            735          1.0   \n263093  dev_01_tcp_ar_9578_s029_t003  23/08/2013            735          1.0   \n\n        Pan_vs_XQRS  interval_index  interval_start_time    mean_nni  \\\n263089          1.0             0.0                  0.0  606.689453   \n263090          1.0             1.0              10000.0  602.481618   \n263091          1.0             2.0              20000.0  600.585938   \n263092          1.0             3.0              30000.0  593.979779   \n263093          1.0             4.0              40000.0  602.022059   \n\n            sdnn      sdsd  nni_50  pnni_50  nni_20   pnni_20     rmssd  \\\n263089  8.989327  9.229190     0.0      0.0     1.0  6.250000  9.461407   \n263090  2.196468  1.953125     0.0      0.0     0.0  0.000000  1.953125   \n263091  1.746928  1.426361     0.0      0.0     0.0  0.000000  1.426361   \n263092  8.340391  8.621310     0.0      0.0     1.0  5.882353  8.896908   \n263093  2.344707  1.673744     0.0      0.0     0.0  0.000000  1.691456   \n\n        median_nni  range_nni      cvsd     cvnni     mean_hr      max_hr  \\\n263089   609.37500   39.06250  0.015595  0.014817   98.918721  104.489796   \n263090   601.56250    7.81250  0.003242  0.003646   99.589346  100.392157   \n263091   601.56250    3.90625  0.002375  0.002909   99.903234  100.392157   \n263092   597.65625   35.15625  0.014978  0.014042  101.033206  106.666667   \n263093   601.56250    7.81250  0.002810  0.003895   99.665545  100.392157   \n\n            min_hr    std_hr  lf  hf  vlf  lf_hf_ratio  csi  cvi  \\\n263089   97.834395  1.487371 NaN NaN  NaN          NaN  NaN  NaN   \n263090   99.096774  0.352150 NaN NaN  NaN          NaN  NaN  NaN   \n263091   99.740260  0.282280 NaN NaN  NaN          NaN  NaN  NaN   \n263092  100.392157  1.443790 NaN NaN  NaN          NaN  NaN  NaN   \n263093   99.096774  0.376621 NaN NaN  NaN          NaN  NaN  NaN   \n\n        Modified_csi  sampen  sd1  sd2  ratio_sd2_sd1  label  \n263089           NaN     NaN  NaN  NaN            NaN    0.0  \n263090           NaN     NaN  NaN  NaN            NaN    0.0  \n263091           NaN     NaN  NaN  NaN            NaN    0.0  \n263092           NaN     NaN  NaN  NaN            NaN    0.0  \n263093           NaN     NaN  NaN  NaN            NaN    0.0  ",
      "text/html": "<div>\n<style scoped>\n    .dataframe tbody tr th:only-of-type {\n        vertical-align: middle;\n    }\n\n    .dataframe tbody tr th {\n        vertical-align: top;\n    }\n\n    .dataframe thead th {\n        text-align: right;\n    }\n</style>\n<table border=\"1\" class=\"dataframe\">\n  <thead>\n    <tr style=\"text-align: right;\">\n      <th></th>\n      <th>Key</th>\n      <th>Date</th>\n      <th>exam_duration</th>\n      <th>SWT_vs_XQRS</th>\n      <th>Pan_vs_XQRS</th>\n      <th>interval_index</th>\n      <th>interval_start_time</th>\n      <th>mean_nni</th>\n      <th>sdnn</th>\n      <th>sdsd</th>\n      <th>nni_50</th>\n      <th>pnni_50</th>\n      <th>nni_20</th>\n      <th>pnni_20</th>\n      <th>rmssd</th>\n      <th>median_nni</th>\n      <th>range_nni</th>\n      <th>cvsd</th>\n      <th>cvnni</th>\n      <th>mean_hr</th>\n      <th>max_hr</th>\n      <th>min_hr</th>\n      <th>std_hr</th>\n      <th>lf</th>\n      <th>hf</th>\n      <th>vlf</th>\n      <th>lf_hf_ratio</th>\n      <th>csi</th>\n      <th>cvi</th>\n      <th>Modified_csi</th>\n      <th>sampen</th>\n      <th>sd1</th>\n      <th>sd2</th>\n      <th>ratio_sd2_sd1</th>\n      <th>label</th>\n    </tr>\n  </thead>\n  <tbody>\n    <tr>\n      <th>263089</th>\n      <td>dev_01_tcp_ar_9578_s029_t003</td>\n      <td>23/08/2013</td>\n      <td>735</td>\n      <td>1.0</td>\n      <td>1.0</td>\n      <td>0.0</td>\n      <td>0.0</td>\n      <td>606.689453</td>\n      <td>8.989327</td>\n      <td>9.229190</td>\n      <td>0.0</td>\n      <td>0.0</td>\n      <td>1.0</td>\n      <td>6.250000</td>\n      <td>9.461407</td>\n      <td>609.37500</td>\n      <td>39.06250</td>\n      <td>0.015595</td>\n      <td>0.014817</td>\n      <td>98.918721</td>\n      <td>104.489796</td>\n      <td>97.834395</td>\n      <td>1.487371</td>\n      <td>NaN</td>\n      <td>NaN</td>\n      <td>NaN</td>\n      <td>NaN</td>\n      <td>NaN</td>\n      <td>NaN</td>\n      <td>NaN</td>\n      <td>NaN</td>\n      <td>NaN</td>\n      <td>NaN</td>\n      <td>NaN</td>\n      <td>0.0</td>\n    </tr>\n    <tr>\n      <th>263090</th>\n      <td>dev_01_tcp_ar_9578_s029_t003</td>\n      <td>23/08/2013</td>\n      <td>735</td>\n      <td>1.0</td>\n      <td>1.0</td>\n      <td>1.0</td>\n      <td>10000.0</td>\n      <td>602.481618</td>\n      <td>2.196468</td>\n      <td>1.953125</td>\n      <td>0.0</td>\n      <td>0.0</td>\n      <td>0.0</td>\n      <td>0.000000</td>\n      <td>1.953125</td>\n      <td>601.56250</td>\n      <td>7.81250</td>\n      <td>0.003242</td>\n      <td>0.003646</td>\n      <td>99.589346</td>\n      <td>100.392157</td>\n      <td>99.096774</td>\n      <td>0.352150</td>\n      <td>NaN</td>\n      <td>NaN</td>\n      <td>NaN</td>\n      <td>NaN</td>\n      <td>NaN</td>\n      <td>NaN</td>\n      <td>NaN</td>\n      <td>NaN</td>\n      <td>NaN</td>\n      <td>NaN</td>\n      <td>NaN</td>\n      <td>0.0</td>\n    </tr>\n    <tr>\n      <th>263091</th>\n      <td>dev_01_tcp_ar_9578_s029_t003</td>\n      <td>23/08/2013</td>\n      <td>735</td>\n      <td>1.0</td>\n      <td>1.0</td>\n      <td>2.0</td>\n      <td>20000.0</td>\n      <td>600.585938</td>\n      <td>1.746928</td>\n      <td>1.426361</td>\n      <td>0.0</td>\n      <td>0.0</td>\n      <td>0.0</td>\n      <td>0.000000</td>\n      <td>1.426361</td>\n      <td>601.56250</td>\n      <td>3.90625</td>\n      <td>0.002375</td>\n      <td>0.002909</td>\n      <td>99.903234</td>\n      <td>100.392157</td>\n      <td>99.740260</td>\n      <td>0.282280</td>\n      <td>NaN</td>\n      <td>NaN</td>\n      <td>NaN</td>\n      <td>NaN</td>\n      <td>NaN</td>\n      <td>NaN</td>\n      <td>NaN</td>\n      <td>NaN</td>\n      <td>NaN</td>\n      <td>NaN</td>\n      <td>NaN</td>\n      <td>0.0</td>\n    </tr>\n    <tr>\n      <th>263092</th>\n      <td>dev_01_tcp_ar_9578_s029_t003</td>\n      <td>23/08/2013</td>\n      <td>735</td>\n      <td>1.0</td>\n      <td>1.0</td>\n      <td>3.0</td>\n      <td>30000.0</td>\n      <td>593.979779</td>\n      <td>8.340391</td>\n      <td>8.621310</td>\n      <td>0.0</td>\n      <td>0.0</td>\n      <td>1.0</td>\n      <td>5.882353</td>\n      <td>8.896908</td>\n      <td>597.65625</td>\n      <td>35.15625</td>\n      <td>0.014978</td>\n      <td>0.014042</td>\n      <td>101.033206</td>\n      <td>106.666667</td>\n      <td>100.392157</td>\n      <td>1.443790</td>\n      <td>NaN</td>\n      <td>NaN</td>\n      <td>NaN</td>\n      <td>NaN</td>\n      <td>NaN</td>\n      <td>NaN</td>\n      <td>NaN</td>\n      <td>NaN</td>\n      <td>NaN</td>\n      <td>NaN</td>\n      <td>NaN</td>\n      <td>0.0</td>\n    </tr>\n    <tr>\n      <th>263093</th>\n      <td>dev_01_tcp_ar_9578_s029_t003</td>\n      <td>23/08/2013</td>\n      <td>735</td>\n      <td>1.0</td>\n      <td>1.0</td>\n      <td>4.0</td>\n      <td>40000.0</td>\n      <td>602.022059</td>\n      <td>2.344707</td>\n      <td>1.673744</td>\n      <td>0.0</td>\n      <td>0.0</td>\n      <td>0.0</td>\n      <td>0.000000</td>\n      <td>1.691456</td>\n      <td>601.56250</td>\n      <td>7.81250</td>\n      <td>0.002810</td>\n      <td>0.003895</td>\n      <td>99.665545</td>\n      <td>100.392157</td>\n      <td>99.096774</td>\n      <td>0.376621</td>\n      <td>NaN</td>\n      <td>NaN</td>\n      <td>NaN</td>\n      <td>NaN</td>\n      <td>NaN</td>\n      <td>NaN</td>\n      <td>NaN</td>\n      <td>NaN</td>\n      <td>NaN</td>\n      <td>NaN</td>\n      <td>NaN</td>\n      <td>0.0</td>\n    </tr>\n  </tbody>\n</table>\n</div>"
     },
     "metadata": {},
     "execution_count": 8
    }
   ],
   "source": [
    "cols = xqrs.columns.tolist()\n",
    "cols = cols[-1:] + cols[:-1]\n",
    "xqrs = xqrs[cols]\n",
    "xqrs.head()"
   ]
  },
  {
   "cell_type": "code",
   "execution_count": 9,
   "metadata": {},
   "outputs": [],
   "source": [
    "xqrs.drop(['Date', 'exam_duration', 'interval_index'], axis=1, inplace=True)"
   ]
  },
  {
   "cell_type": "code",
   "execution_count": 10,
   "metadata": {},
   "outputs": [
    {
     "output_type": "execute_result",
     "data": {
      "text/plain": "215"
     },
     "metadata": {},
     "execution_count": 10
    }
   ],
   "source": [
    "len(xqrs.Key.unique())"
   ]
  },
  {
   "cell_type": "code",
   "execution_count": 11,
   "metadata": {},
   "outputs": [
    {
     "output_type": "execute_result",
     "data": {
      "text/plain": "'dev_01_tcp_ar_9578_s003_t003'"
     },
     "metadata": {},
     "execution_count": 11
    }
   ],
   "source": [
    "exam_to_delete = xqrs[(xqrs['Pan_vs_XQRS'] < 0.9) & (xqrs['SWT_vs_XQRS'] < 0.9)]['Key'].unique()\n",
    "exam_to_delete[0]"
   ]
  },
  {
   "cell_type": "code",
   "execution_count": 12,
   "metadata": {},
   "outputs": [],
   "source": [
    "xqrs = xqrs[xqrs.Key != exam_to_delete[0]]"
   ]
  },
  {
   "cell_type": "code",
   "execution_count": 13,
   "metadata": {},
   "outputs": [
    {
     "output_type": "execute_result",
     "data": {
      "text/plain": "                                 Key    mean_nni      sdnn      sdsd  nni_50  \\\n263089  dev_01_tcp_ar_9578_s029_t003  606.689453  8.989327  9.229190     0.0   \n263090  dev_01_tcp_ar_9578_s029_t003  602.481618  2.196468  1.953125     0.0   \n263091  dev_01_tcp_ar_9578_s029_t003  600.585938  1.746928  1.426361     0.0   \n263092  dev_01_tcp_ar_9578_s029_t003  593.979779  8.340391  8.621310     0.0   \n263093  dev_01_tcp_ar_9578_s029_t003  602.022059  2.344707  1.673744     0.0   \n\n        pnni_50  nni_20   pnni_20     rmssd  median_nni  range_nni      cvsd  \\\n263089      0.0     1.0  6.250000  9.461407   609.37500   39.06250  0.015595   \n263090      0.0     0.0  0.000000  1.953125   601.56250    7.81250  0.003242   \n263091      0.0     0.0  0.000000  1.426361   601.56250    3.90625  0.002375   \n263092      0.0     1.0  5.882353  8.896908   597.65625   35.15625  0.014978   \n263093      0.0     0.0  0.000000  1.691456   601.56250    7.81250  0.002810   \n\n           cvnni     mean_hr      max_hr      min_hr    std_hr  lf  hf  vlf  \\\n263089  0.014817   98.918721  104.489796   97.834395  1.487371 NaN NaN  NaN   \n263090  0.003646   99.589346  100.392157   99.096774  0.352150 NaN NaN  NaN   \n263091  0.002909   99.903234  100.392157   99.740260  0.282280 NaN NaN  NaN   \n263092  0.014042  101.033206  106.666667  100.392157  1.443790 NaN NaN  NaN   \n263093  0.003895   99.665545  100.392157   99.096774  0.376621 NaN NaN  NaN   \n\n        lf_hf_ratio  csi  cvi  Modified_csi  sampen  sd1  sd2  ratio_sd2_sd1  \\\n263089          NaN  NaN  NaN           NaN     NaN  NaN  NaN            NaN   \n263090          NaN  NaN  NaN           NaN     NaN  NaN  NaN            NaN   \n263091          NaN  NaN  NaN           NaN     NaN  NaN  NaN            NaN   \n263092          NaN  NaN  NaN           NaN     NaN  NaN  NaN            NaN   \n263093          NaN  NaN  NaN           NaN     NaN  NaN  NaN            NaN   \n\n        label  \n263089    0.0  \n263090    0.0  \n263091    0.0  \n263092    0.0  \n263093    0.0  ",
      "text/html": "<div>\n<style scoped>\n    .dataframe tbody tr th:only-of-type {\n        vertical-align: middle;\n    }\n\n    .dataframe tbody tr th {\n        vertical-align: top;\n    }\n\n    .dataframe thead th {\n        text-align: right;\n    }\n</style>\n<table border=\"1\" class=\"dataframe\">\n  <thead>\n    <tr style=\"text-align: right;\">\n      <th></th>\n      <th>Key</th>\n      <th>mean_nni</th>\n      <th>sdnn</th>\n      <th>sdsd</th>\n      <th>nni_50</th>\n      <th>pnni_50</th>\n      <th>nni_20</th>\n      <th>pnni_20</th>\n      <th>rmssd</th>\n      <th>median_nni</th>\n      <th>range_nni</th>\n      <th>cvsd</th>\n      <th>cvnni</th>\n      <th>mean_hr</th>\n      <th>max_hr</th>\n      <th>min_hr</th>\n      <th>std_hr</th>\n      <th>lf</th>\n      <th>hf</th>\n      <th>vlf</th>\n      <th>lf_hf_ratio</th>\n      <th>csi</th>\n      <th>cvi</th>\n      <th>Modified_csi</th>\n      <th>sampen</th>\n      <th>sd1</th>\n      <th>sd2</th>\n      <th>ratio_sd2_sd1</th>\n      <th>label</th>\n    </tr>\n  </thead>\n  <tbody>\n    <tr>\n      <th>263089</th>\n      <td>dev_01_tcp_ar_9578_s029_t003</td>\n      <td>606.689453</td>\n      <td>8.989327</td>\n      <td>9.229190</td>\n      <td>0.0</td>\n      <td>0.0</td>\n      <td>1.0</td>\n      <td>6.250000</td>\n      <td>9.461407</td>\n      <td>609.37500</td>\n      <td>39.06250</td>\n      <td>0.015595</td>\n      <td>0.014817</td>\n      <td>98.918721</td>\n      <td>104.489796</td>\n      <td>97.834395</td>\n      <td>1.487371</td>\n      <td>NaN</td>\n      <td>NaN</td>\n      <td>NaN</td>\n      <td>NaN</td>\n      <td>NaN</td>\n      <td>NaN</td>\n      <td>NaN</td>\n      <td>NaN</td>\n      <td>NaN</td>\n      <td>NaN</td>\n      <td>NaN</td>\n      <td>0.0</td>\n    </tr>\n    <tr>\n      <th>263090</th>\n      <td>dev_01_tcp_ar_9578_s029_t003</td>\n      <td>602.481618</td>\n      <td>2.196468</td>\n      <td>1.953125</td>\n      <td>0.0</td>\n      <td>0.0</td>\n      <td>0.0</td>\n      <td>0.000000</td>\n      <td>1.953125</td>\n      <td>601.56250</td>\n      <td>7.81250</td>\n      <td>0.003242</td>\n      <td>0.003646</td>\n      <td>99.589346</td>\n      <td>100.392157</td>\n      <td>99.096774</td>\n      <td>0.352150</td>\n      <td>NaN</td>\n      <td>NaN</td>\n      <td>NaN</td>\n      <td>NaN</td>\n      <td>NaN</td>\n      <td>NaN</td>\n      <td>NaN</td>\n      <td>NaN</td>\n      <td>NaN</td>\n      <td>NaN</td>\n      <td>NaN</td>\n      <td>0.0</td>\n    </tr>\n    <tr>\n      <th>263091</th>\n      <td>dev_01_tcp_ar_9578_s029_t003</td>\n      <td>600.585938</td>\n      <td>1.746928</td>\n      <td>1.426361</td>\n      <td>0.0</td>\n      <td>0.0</td>\n      <td>0.0</td>\n      <td>0.000000</td>\n      <td>1.426361</td>\n      <td>601.56250</td>\n      <td>3.90625</td>\n      <td>0.002375</td>\n      <td>0.002909</td>\n      <td>99.903234</td>\n      <td>100.392157</td>\n      <td>99.740260</td>\n      <td>0.282280</td>\n      <td>NaN</td>\n      <td>NaN</td>\n      <td>NaN</td>\n      <td>NaN</td>\n      <td>NaN</td>\n      <td>NaN</td>\n      <td>NaN</td>\n      <td>NaN</td>\n      <td>NaN</td>\n      <td>NaN</td>\n      <td>NaN</td>\n      <td>0.0</td>\n    </tr>\n    <tr>\n      <th>263092</th>\n      <td>dev_01_tcp_ar_9578_s029_t003</td>\n      <td>593.979779</td>\n      <td>8.340391</td>\n      <td>8.621310</td>\n      <td>0.0</td>\n      <td>0.0</td>\n      <td>1.0</td>\n      <td>5.882353</td>\n      <td>8.896908</td>\n      <td>597.65625</td>\n      <td>35.15625</td>\n      <td>0.014978</td>\n      <td>0.014042</td>\n      <td>101.033206</td>\n      <td>106.666667</td>\n      <td>100.392157</td>\n      <td>1.443790</td>\n      <td>NaN</td>\n      <td>NaN</td>\n      <td>NaN</td>\n      <td>NaN</td>\n      <td>NaN</td>\n      <td>NaN</td>\n      <td>NaN</td>\n      <td>NaN</td>\n      <td>NaN</td>\n      <td>NaN</td>\n      <td>NaN</td>\n      <td>0.0</td>\n    </tr>\n    <tr>\n      <th>263093</th>\n      <td>dev_01_tcp_ar_9578_s029_t003</td>\n      <td>602.022059</td>\n      <td>2.344707</td>\n      <td>1.673744</td>\n      <td>0.0</td>\n      <td>0.0</td>\n      <td>0.0</td>\n      <td>0.000000</td>\n      <td>1.691456</td>\n      <td>601.56250</td>\n      <td>7.81250</td>\n      <td>0.002810</td>\n      <td>0.003895</td>\n      <td>99.665545</td>\n      <td>100.392157</td>\n      <td>99.096774</td>\n      <td>0.376621</td>\n      <td>NaN</td>\n      <td>NaN</td>\n      <td>NaN</td>\n      <td>NaN</td>\n      <td>NaN</td>\n      <td>NaN</td>\n      <td>NaN</td>\n      <td>NaN</td>\n      <td>NaN</td>\n      <td>NaN</td>\n      <td>NaN</td>\n      <td>0.0</td>\n    </tr>\n  </tbody>\n</table>\n</div>"
     },
     "metadata": {},
     "execution_count": 13
    }
   ],
   "source": [
    "xqrs.drop(['SWT_vs_XQRS', 'Pan_vs_XQRS', 'interval_start_time'], axis=1, inplace=True)\n",
    "xqrs.head()"
   ]
  },
  {
   "cell_type": "code",
   "execution_count": 14,
   "metadata": {},
   "outputs": [],
   "source": [
    "params = {}\n",
    "for cols in xqrs.columns.tolist()[1:]:\n",
    "    params[cols] = [lambda x: x.isnull().sum(), \n",
    "                    lambda x: x.count() + x.isnull().sum(), \n",
    "                    lambda x: (x.isnull().sum() / (x.count() + x.isnull().sum())) * 100]"
   ]
  },
  {
   "cell_type": "code",
   "execution_count": 15,
   "metadata": {},
   "outputs": [],
   "source": [
    "count_nan_by_key = xqrs[['Key'] + xqrs.columns.tolist()[1:]]\\\n",
    "                                              .groupby('Key')\\\n",
    "                                              .agg(params)\\\n",
    "                                              .rename(columns={'<lambda_0>': 'NaN',\n",
    "                                                               '<lambda_1>': 'total',\n",
    "                                                               '<lambda_2>': '%'})"
   ]
  },
  {
   "cell_type": "code",
   "execution_count": 16,
   "metadata": {},
   "outputs": [],
   "source": [
    "total = np.zeros(count_nan_by_key.shape[0],)\n",
    "i = 0\n",
    "for cols in xqrs.columns.tolist()[1:]:\n",
    "    sub_total = []\n",
    "    for index, row in count_nan_by_key[(cols, '%')].iteritems():\n",
    "        sub_total.append(row)\n",
    "    i += 1\n",
    "    total = np.add(total, sub_total)\n",
    "\n",
    "\n",
    "total = total / 28"
   ]
  },
  {
   "cell_type": "code",
   "execution_count": 17,
   "metadata": {},
   "outputs": [],
   "source": [
    "count_nan_by_key[('Total', 'Percent')] = total"
   ]
  },
  {
   "cell_type": "code",
   "execution_count": 18,
   "metadata": {},
   "outputs": [],
   "source": [
    "crisis = xqrs[['Key', 'label']].groupby('Key').agg(lambda x: (x != 0).sum())"
   ]
  },
  {
   "cell_type": "code",
   "execution_count": 19,
   "metadata": {},
   "outputs": [],
   "source": [
    "count_nan_by_key[('Total', 'Crisis')] = crisis.label.values"
   ]
  },
  {
   "cell_type": "code",
   "execution_count": 20,
   "metadata": {},
   "outputs": [
    {
     "output_type": "execute_result",
     "data": {
      "text/plain": "ev_01_tcp_ar_9578_s029_t008     0.0  155.0  0.000000   0.0  155.0  0.000000   \n\n                             median_nni                  range_nni         \\\n                                    NaN  total         %       NaN  total   \nKey                                                                         \ndev_01_tcp_ar_9578_s004_t001        4.0  101.0  3.960396       1.0  101.0   \ndev_01_tcp_ar_9578_s004_t002        4.0  108.0  3.703704       2.0  108.0   \ndev_01_tcp_ar_9578_s004_t004        1.0   96.0  1.041667       0.0   96.0   \ndev_01_tcp_ar_9578_s005_t000        1.0  122.0  0.819672       0.0  122.0   \ndev_01_tcp_ar_9578_s006_t009        0.0  149.0  0.000000       0.0  149.0   \ndev_01_tcp_ar_9578_s011_t002        0.0  132.0  0.000000       0.0  132.0   \ndev_01_tcp_ar_9578_s011_t005        0.0  109.0  0.000000       0.0  109.0   \ndev_01_tcp_ar_9578_s011_t008        0.0  252.0  0.000000       0.0  252.0   \ndev_01_tcp_ar_9578_s015_t003        0.0  185.0  0.000000       0.0  185.0   \ndev_01_tcp_ar_9578_s017_t004        0.0  206.0  0.000000       0.0  206.0   \ndev_01_tcp_ar_9578_s021_t001        0.0  341.0  0.000000       0.0  341.0   \ndev_01_tcp_ar_9578_s027_t002        1.0   81.0  1.234568       1.0   81.0   \ndev_01_tcp_ar_9578_s027_t004        0.0   96.0  0.000000       0.0   96.0   \ndev_01_tcp_ar_9578_s029_t001        0.0  108.0  0.000000       0.0  108.0   \ndev_01_tcp_ar_9578_s029_t002        0.0   74.0  0.000000       0.0   74.0   \ndev_01_tcp_ar_9578_s029_t003        0.0   74.0  0.000000       0.0   74.0   \ndev_01_tcp_ar_9578_s029_t005        0.0  106.0  0.000000       0.0  106.0   \ndev_01_tcp_ar_9578_s029_t006        0.0  148.0  0.000000       0.0  148.0   \ndev_01_tcp_ar_9578_s029_t008        0.0  155.0  0.000000       0.0  155.0   \n\n                                       cvsd                  cvnni         \\\n                                     %  NaN  total         %   NaN  total   \nKey                                                                         \ndev_01_tcp_ar_9578_s004_t001  0.990099  5.0  101.0  4.950495   5.0  101.0   \ndev_01_tcp_ar_9578_s004_t002  1.851852  4.0  108.0  3.703704   4.0  108.0   \ndev_01_tcp_ar_9578_s004_t004  0.000000  1.0   96.0  1.041667   1.0   96.0   \ndev_01_tcp_ar_9578_s005_t000  0.000000  1.0  122.0  0.819672   1.0  122.0   \ndev_01_tcp_ar_9578_s006_t009  0.000000  0.0  149.0  0.000000   0.0  149.0   \ndev_01_tcp_ar_9578_s011_t002  0.000000  0.0  132.0  0.000000   0.0  132.0   \ndev_01_tcp_ar_9578_s011_t005  0.000000  0.0  109.0  0.000000   0.0  109.0   \ndev_01_tcp_ar_9578_s011_t008  0.000000  0.0  252.0  0.000000   0.0  252.0   \ndev_01_tcp_ar_9578_s015_t003  0.000000  0.0  185.0  0.000000   0.0  185.0   \ndev_01_tcp_ar_9578_s017_t004  0.000000  0.0  206.0  0.000000   0.0  206.0   \ndev_01_tcp_ar_9578_s021_t001  0.000000  0.0  341.0  0.000000   0.0  341.0   \ndev_01_tcp_ar_9578_s027_t002  1.234568  1.0   81.0  1.234568   1.0   81.0   \ndev_01_tcp_ar_9578_s027_t004  0.000000  0.0   96.0  0.000000   0.0   96.0   \ndev_01_tcp_ar_9578_s029_t001  0.000000  0.0  108.0  0.000000   0.0  108.0   \ndev_01_tcp_ar_9578_s029_t002  0.000000  0.0   74.0  0.000000   0.0   74.0   \ndev_01_tcp_ar_9578_s029_t003  0.000000  0.0   74.0  0.000000   0.0   74.0   \ndev_01_tcp_ar_9578_s029_t005  0.000000  0.0  106.0  0.000000   0.0  106.0   \ndev_01_tcp_ar_9578_s029_t006  0.000000  0.0  148.0  0.000000   0.0  148.0   \ndev_01_tcp_ar_9578_s029_t008  0.000000  0.0  155.0  0.000000   0.0  155.0   \n\n                                       mean_hr                  max_hr         \\\n                                     %     NaN  total         %    NaN  total   \nKey                                                                             \ndev_01_tcp_ar_9578_s004_t001  4.950495     4.0  101.0  3.960396    1.0  101.0   \ndev_01_tcp_ar_9578_s004_t002  3.703704     4.0  108.0  3.703704    2.0  108.0   \ndev_01_tcp_ar_9578_s004_t004  1.041667     1.0   96.0  1.041667    0.0   96.0   \ndev_01_tcp_ar_9578_s005_t000  0.819672     1.0  122.0  0.819672    0.0  122.0   \ndev_01_tcp_ar_9578_s006_t009  0.000000     0.0  149.0  0.000000    0.0  149.0   \ndev_01_tcp_ar_9578_s011_t002  0.000000     0.0  132.0  0.000000    0.0  132.0   \ndev_01_tcp_ar_9578_s011_t005  0.000000     0.0  109.0  0.000000    0.0  109.0   \ndev_01_tcp_ar_9578_s011_t008  0.000000     0.0  252.0  0.000000    0.0  252.0   \ndev_01_tcp_ar_9578_s015_t003  0.000000     0.0  185.0  0.000000    0.0  185.0   \ndev_01_tcp_ar_9578_s017_t004  0.000000     0.0  206.0  0.000000    0.0  206.0   \ndev_01_tcp_ar_9578_s021_t001  0.000000     0.0  341.0  0.000000    0.0  341.0   \ndev_01_tcp_ar_9578_s027_t002  1.234568     1.0   81.0  1.234568    1.0   81.0   \ndev_01_tcp_ar_9578_s027_t004  0.000000     0.0   96.0  0.000000    0.0   96.0   \ndev_01_tcp_ar_9578_s029_t001  0.000000     0.0  108.0  0.000000    0.0  108.0   \ndev_01_tcp_ar_9578_s029_t002  0.000000     0.0   74.0  0.000000    0.0   74.0   \ndev_01_tcp_ar_9578_s029_t003  0.000000     0.0   74.0  0.000000    0.0   74.0   \ndev_01_tcp_ar_9578_s029_t005  0.000000     0.0  106.0  0.000000    0.0  106.0   \ndev_01_tcp_ar_9578_s029_t006  0.000000     0.0  148.0  0.000000    0.0  148.0   \ndev_01_tcp_ar_9578_s029_t008  0.000000     0.0  155.0  0.000000    0.0  155.0   \n\n                                       min_hr                  std_hr         \\\n                                     %    NaN  total         %    NaN  total   \nKey                                                                            \ndev_01_tcp_ar_9578_s004_t001  0.990099    1.0  101.0  0.990099    5.0  101.0   \ndev_01_tcp_ar_9578_s004_t002  1.851852    2.0  108.0  1.851852    4.0  108.0   \ndev_01_tcp_ar_9578_s004_t004  0.000000    0.0   96.0  0.000000    1.0   96.0   \ndev_01_tcp_ar_9578_s005_t000  0.000000    0.0  122.0  0.000000    1.0  122.0   \ndev_01_tcp_ar_9578_s006_t009  0.000000    0.0  149.0  0.000000    0.0  149.0   \ndev_01_tcp_ar_9578_s011_t002  0.000000    0.0  132.0  0.000000    0.0  132.0   \ndev_01_tcp_ar_9578_s011_t005  0.000000    0.0  109.0  0.000000    0.0  109.0   \ndev_01_tcp_ar_9578_s011_t008  0.000000    0.0  252.0  0.000000    0.0  252.0   \ndev_01_tcp_ar_9578_s015_t003  0.000000    0.0  185.0  0.000000    0.0  185.0   \ndev_01_tcp_ar_9578_s017_t004  0.000000    0.0  206.0  0.000000    0.0  206.0   \ndev_01_tcp_ar_9578_s021_t001  0.000000    0.0  341.0  0.000000    0.0  341.0   \ndev_01_tcp_ar_9578_s027_t002  1.234568    1.0   81.0  1.234568    1.0   81.0   \ndev_01_tcp_ar_9578_s027_t004  0.000000    0.0   96.0  0.000000    0.0   96.0   \ndev_01_tcp_ar_9578_s029_t001  0.000000    0.0  108.0  0.000000    0.0  108.0   \ndev_01_tcp_ar_9578_s029_t002  0.000000    0.0   74.0  0.000000    0.0   74.0   \ndev_01_tcp_ar_9578_s029_t003  0.000000    0.0   74.0  0.000000    0.0   74.0   \ndev_01_tcp_ar_9578_s029_t005  0.000000    0.0  106.0  0.000000    0.0  106.0   \ndev_01_tcp_ar_9578_s029_t006  0.000000    0.0  148.0  0.000000    0.0  148.0   \ndev_01_tcp_ar_9578_s029_t008  0.000000    0.0  155.0  0.000000    0.0  155.0   \n\n                                          lf                      hf         \\\n                                     %   NaN  total          %   NaN  total   \nKey                                                                           \ndev_01_tcp_ar_9578_s004_t001  4.950495  33.0  101.0  32.673267  33.0  101.0   \ndev_01_tcp_ar_9578_s004_t002  3.703704  32.0  108.0  29.629630  32.0  108.0   \ndev_01_tcp_ar_9578_s004_t004  1.041667  17.0   96.0  17.708333  17.0   96.0   \ndev_01_tcp_ar_9578_s005_t000  0.819672  17.0  122.0  13.934426  17.0  122.0   \ndev_01_tcp_ar_9578_s006_t009  0.000000  16.0  149.0  10.738255  16.0  149.0   \ndev_01_tcp_ar_9578_s011_t002  0.000000  16.0  132.0  12.121212  16.0  132.0   \ndev_01_tcp_ar_9578_s011_t005  0.000000  16.0  109.0  14.678899  16.0  109.0   \ndev_01_tcp_ar_9578_s011_t008  0.000000  16.0  252.0   6.349206  16.0  252.0   \ndev_01_tcp_ar_9578_s015_t003  0.000000  16.0  185.0   8.648649  16.0  185.0   \ndev_01_tcp_ar_9578_s017_t004  0.000000  16.0  206.0   7.766990  16.0  206.0   \ndev_01_tcp_ar_9578_s021_t001  0.000000  16.0  341.0   4.692082  16.0  341.0   \ndev_01_tcp_ar_9578_s027_t002  1.234568  16.0   81.0  19.753086  16.0   81.0   \ndev_01_tcp_ar_9578_s027_t004  0.000000  16.0   96.0  16.666667  16.0   96.0   \ndev_01_tcp_ar_9578_s029_t001  0.000000  16.0  108.0  14.814815  16.0  108.0   \ndev_01_tcp_ar_9578_s029_t002  0.000000  16.0   74.0  21.621622  16.0   74.0   \ndev_01_tcp_ar_9578_s029_t003  0.000000  16.0   74.0  21.621622  16.0   74.0   \ndev_01_tcp_ar_9578_s029_t005  0.000000  16.0  106.0  15.094340  16.0  106.0   \ndev_01_tcp_ar_9578_s029_t006  0.000000  16.0  148.0  10.810811  16.0  148.0   \ndev_01_tcp_ar_9578_s029_t008  0.000000  16.0  155.0  10.322581  16.0  155.0   \n\n                                          vlf                   lf_hf_ratio  \\\n                                      %   NaN  total          %         NaN   \nKey                                                                           \ndev_01_tcp_ar_9578_s004_t001  32.673267  33.0  101.0  32.673267        33.0   \ndev_01_tcp_ar_9578_s004_t002  29.629630  32.0  108.0  29.629630        32.0   \ndev_01_tcp_ar_9578_s004_t004  17.708333  17.0   96.0  17.708333        17.0   \ndev_01_tcp_ar_9578_s005_t000  13.934426  17.0  122.0  13.934426        17.0   \ndev_01_tcp_ar_9578_s006_t009  10.738255  16.0  149.0  10.738255        16.0   \ndev_01_tcp_ar_9578_s011_t002  12.121212  16.0  132.0  12.121212        16.0   \ndev_01_tcp_ar_9578_s011_t005  14.678899  16.0  109.0  14.678899        16.0   \ndev_01_tcp_ar_9578_s011_t008   6.349206  16.0  252.0   6.349206        16.0   \ndev_01_tcp_ar_9578_s015_t003   8.648649  16.0  185.0   8.648649        16.0   \ndev_01_tcp_ar_9578_s017_t004   7.766990  16.0  206.0   7.766990        16.0   \ndev_01_tcp_ar_9578_s021_t001   4.692082  16.0  341.0   4.692082        16.0   \ndev_01_tcp_ar_9578_s027_t002  19.753086  16.0   81.0  19.753086        16.0   \ndev_01_tcp_ar_9578_s027_t004  16.666667  16.0   96.0  16.666667        16.0   \ndev_01_tcp_ar_9578_s029_t001  14.814815  16.0  108.0  14.814815        16.0   \ndev_01_tcp_ar_9578_s029_t002  21.621622  16.0   74.0  21.621622        16.0   \ndev_01_tcp_ar_9578_s029_t003  21.621622  16.0   74.0  21.621622        16.0   \ndev_01_tcp_ar_9578_s029_t005  15.094340  16.0  106.0  15.094340        16.0   \ndev_01_tcp_ar_9578_s029_t006  10.810811  16.0  148.0  10.810811        16.0   \ndev_01_tcp_ar_9578_s029_t008  10.322581  16.0  155.0  10.322581        16.0   \n\n                                                 csi                     cvi  \\\n                              total          %   NaN  total          %   NaN   \nKey                                                                            \ndev_01_tcp_ar_9578_s004_t001  101.0  32.673267  15.0  101.0  14.851485  15.0   \ndev_01_tcp_ar_9578_s004_t002  108.0  29.629630  14.0  108.0  12.962963  14.0   \ndev_01_tcp_ar_9578_s004_t004   96.0  17.708333   8.0   96.0   8.333333   8.0   \ndev_01_tcp_ar_9578_s005_t000  122.0  13.934426   8.0  122.0   6.557377   8.0   \ndev_01_tcp_ar_9578_s006_t009  149.0  10.738255   7.0  149.0   4.697987   7.0   \ndev_01_tcp_ar_9578_s011_t002  132.0  12.121212   7.0  132.0   5.303030   7.0   \ndev_01_tcp_ar_9578_s011_t005  109.0  14.678899   7.0  109.0   6.422018   7.0   \ndev_01_tcp_ar_9578_s011_t008  252.0   6.349206   7.0  252.0   2.777778   7.0   \ndev_01_tcp_ar_9578_s015_t003  185.0   8.648649   7.0  185.0   3.783784   7.0   \ndev_01_tcp_ar_9578_s017_t004  206.0   7.766990   7.0  206.0   3.398058   7.0   \ndev_01_tcp_ar_9578_s021_t001  341.0   4.692082   7.0  341.0   2.052786   7.0   \ndev_01_tcp_ar_9578_s027_t002   81.0  19.753086   7.0   81.0   8.641975   7.0   \ndev_01_tcp_ar_9578_s027_t004   96.0  16.666667   7.0   96.0   7.291667   7.0   \ndev_01_tcp_ar_9578_s029_t001  108.0  14.814815   7.0  108.0   6.481481   7.0   \ndev_01_tcp_ar_9578_s029_t002   74.0  21.621622   7.0   74.0   9.459459   7.0   \ndev_01_tcp_ar_9578_s029_t003   74.0  21.621622   7.0   74.0   9.459459   7.0   \ndev_01_tcp_ar_9578_s029_t005  106.0  15.094340   7.0  106.0   6.603774   7.0   \ndev_01_tcp_ar_9578_s029_t006  148.0  10.810811   7.0  148.0   4.729730   7.0   \ndev_01_tcp_ar_9578_s029_t008  155.0  10.322581   7.0  155.0   4.516129   7.0   \n\n                                               Modified_csi                    \\\n                              total          %          NaN  total          %   \nKey                                                                             \ndev_01_tcp_ar_9578_s004_t001  101.0  14.851485         15.0  101.0  14.851485   \ndev_01_tcp_ar_9578_s004_t002  108.0  12.962963         14.0  108.0  12.962963   \ndev_01_tcp_ar_9578_s004_t004   96.0   8.333333          8.0   96.0   8.333333   \ndev_01_tcp_ar_9578_s005_t000  122.0   6.557377          8.0  122.0   6.557377   \ndev_01_tcp_ar_9578_s006_t009  149.0   4.697987          7.0  149.0   4.697987   \ndev_01_tcp_ar_9578_s011_t002  132.0   5.303030          7.0  132.0   5.303030   \ndev_01_tcp_ar_9578_s011_t005  109.0   6.422018          7.0  109.0   6.422018   \ndev_01_tcp_ar_9578_s011_t008  252.0   2.777778          7.0  252.0   2.777778   \ndev_01_tcp_ar_9578_s015_t003  185.0   3.783784          7.0  185.0   3.783784   \ndev_01_tcp_ar_9578_s017_t004  206.0   3.398058          7.0  206.0   3.398058   \ndev_01_tcp_ar_9578_s021_t001  341.0   2.052786          7.0  341.0   2.052786   \ndev_01_tcp_ar_9578_s027_t002   81.0   8.641975          7.0   81.0   8.641975   \ndev_01_tcp_ar_9578_s027_t004   96.0   7.291667          7.0   96.0   7.291667   \ndev_01_tcp_ar_9578_s029_t001  108.0   6.481481          7.0  108.0   6.481481   \ndev_01_tcp_ar_9578_s029_t002   74.0   9.459459          7.0   74.0   9.459459   \ndev_01_tcp_ar_9578_s029_t003   74.0   9.459459          7.0   74.0   9.459459   \ndev_01_tcp_ar_9578_s029_t005  106.0   6.603774          7.0  106.0   6.603774   \ndev_01_tcp_ar_9578_s029_t006  148.0   4.729730          7.0  148.0   4.729730   \ndev_01_tcp_ar_9578_s029_t008  155.0   4.516129          7.0  155.0   4.516129   \n\n                             sampen                    sd1                    \\\n                                NaN  total         %   NaN  total          %   \nKey                                                                            \ndev_01_tcp_ar_9578_s004_t001    7.0  101.0  6.930693  15.0  101.0  14.851485   \ndev_01_tcp_ar_9578_s004_t002    7.0  108.0  6.481481  14.0  108.0  12.962963   \ndev_01_tcp_ar_9578_s004_t004    7.0   96.0  7.291667   8.0   96.0   8.333333   \ndev_01_tcp_ar_9578_s005_t000    7.0  122.0  5.737705   8.0  122.0   6.557377   \ndev_01_tcp_ar_9578_s006_t009    7.0  149.0  4.697987   7.0  149.0   4.697987   \ndev_01_tcp_ar_9578_s011_t002    7.0  132.0  5.303030   7.0  132.0   5.303030   \ndev_01_tcp_ar_9578_s011_t005    7.0  109.0  6.422018   7.0  109.0   6.422018   \ndev_01_tcp_ar_9578_s011_t008    7.0  252.0  2.777778   7.0  252.0   2.777778   \ndev_01_tcp_ar_9578_s015_t003    7.0  185.0  3.783784   7.0  185.0   3.783784   \ndev_01_tcp_ar_9578_s017_t004    7.0  206.0  3.398058   7.0  206.0   3.398058   \ndev_01_tcp_ar_9578_s021_t001    7.0  341.0  2.052786   7.0  341.0   2.052786   \ndev_01_tcp_ar_9578_s027_t002    7.0   81.0  8.641975   7.0   81.0   8.641975   \ndev_01_tcp_ar_9578_s027_t004    7.0   96.0  7.291667   7.0   96.0   7.291667   \ndev_01_tcp_ar_9578_s029_t001    7.0  108.0  6.481481   7.0  108.0   6.481481   \ndev_01_tcp_ar_9578_s029_t002    7.0   74.0  9.459459   7.0   74.0   9.459459   \ndev_01_tcp_ar_9578_s029_t003    7.0   74.0  9.459459   7.0   74.0   9.459459   \ndev_01_tcp_ar_9578_s029_t005    7.0  106.0  6.603774   7.0  106.0   6.603774   \ndev_01_tcp_ar_9578_s029_t006    7.0  148.0  4.729730   7.0  148.0   4.729730   \ndev_01_tcp_ar_9578_s029_t008    7.0  155.0  4.516129   7.0  155.0   4.516129   \n\n                               sd2                   ratio_sd2_sd1         \\\n                               NaN  total          %           NaN  total   \nKey                                                                         \ndev_01_tcp_ar_9578_s004_t001  15.0  101.0  14.851485          15.0  101.0   \ndev_01_tcp_ar_9578_s004_t002  14.0  108.0  12.962963          14.0  108.0   \ndev_01_tcp_ar_9578_s004_t004   8.0   96.0   8.333333           8.0   96.0   \ndev_01_tcp_ar_9578_s005_t000   8.0  122.0   6.557377           8.0  122.0   \ndev_01_tcp_ar_9578_s006_t009   7.0  149.0   4.697987           7.0  149.0   \ndev_01_tcp_ar_9578_s011_t002   7.0  132.0   5.303030           7.0  132.0   \ndev_01_tcp_ar_9578_s011_t005   7.0  109.0   6.422018           7.0  109.0   \ndev_01_tcp_ar_9578_s011_t008   7.0  252.0   2.777778           7.0  252.0   \ndev_01_tcp_ar_9578_s015_t003   7.0  185.0   3.783784           7.0  185.0   \ndev_01_tcp_ar_9578_s017_t004   7.0  206.0   3.398058           7.0  206.0   \ndev_01_tcp_ar_9578_s021_t001   7.0  341.0   2.052786           7.0  341.0   \ndev_01_tcp_ar_9578_s027_t002   7.0   81.0   8.641975           7.0   81.0   \ndev_01_tcp_ar_9578_s027_t004   7.0   96.0   7.291667           7.0   96.0   \ndev_01_tcp_ar_9578_s029_t001   7.0  108.0   6.481481           7.0  108.0   \ndev_01_tcp_ar_9578_s029_t002   7.0   74.0   9.459459           7.0   74.0   \ndev_01_tcp_ar_9578_s029_t003   7.0   74.0   9.459459           7.0   74.0   \ndev_01_tcp_ar_9578_s029_t005   7.0  106.0   6.603774           7.0  106.0   \ndev_01_tcp_ar_9578_s029_t006   7.0  148.0   4.729730           7.0  148.0   \ndev_01_tcp_ar_9578_s029_t008   7.0  155.0   4.516129           7.0  155.0   \n\n                                        label                      Total  \\\n                                      %   NaN  total         %   Percent   \nKey                                                                        \ndev_01_tcp_ar_9578_s004_t001  14.851485   1.0  101.0  0.990099  9.759547   \ndev_01_tcp_ar_9578_s004_t002  12.962963   1.0  108.0  0.925926  8.928571   \ndev_01_tcp_ar_9578_s004_t004   8.333333   0.0   96.0  0.000000  4.910714   \ndev_01_tcp_ar_9578_s005_t000   6.557377   1.0  122.0  0.819672  3.893443   \ndev_01_tcp_ar_9578_s006_t009   4.697987   0.0  149.0  0.000000  2.708533   \ndev_01_tcp_ar_9578_s011_t002   5.303030   0.0  132.0  0.000000  3.057359   \ndev_01_tcp_ar_9578_s011_t005   6.422018   1.0  109.0  0.917431  3.735256   \ndev_01_tcp_ar_9578_s011_t008   2.777778   1.0  252.0  0.396825  1.615646   \ndev_01_tcp_ar_9578_s015_t003   3.783784   1.0  185.0  0.540541  2.200772   \ndev_01_tcp_ar_9578_s017_t004   3.398058   1.0  206.0  0.485437  1.976422   \ndev_01_tcp_ar_9578_s021_t001   2.052786   1.0  341.0  0.293255  1.193967   \ndev_01_tcp_ar_9578_s027_t002   8.641975   1.0   81.0  1.234568  5.731922   \ndev_01_tcp_ar_9578_s027_t004   7.291667   1.0   96.0  1.041667  4.241071   \ndev_01_tcp_ar_9578_s029_t001   6.481481   1.0  108.0  0.925926  3.769841   \ndev_01_tcp_ar_9578_s029_t002   9.459459   1.0   74.0  1.351351  5.501931   \ndev_01_tcp_ar_9578_s029_t003   9.459459   1.0   74.0  1.351351  5.501931   \ndev_01_tcp_ar_9578_s029_t005   6.603774   1.0  106.0  0.943396  3.840970   \ndev_01_tcp_ar_9578_s029_t006   4.729730   1.0  148.0  0.675676  2.750965   \ndev_01_tcp_ar_9578_s029_t008   4.516129   1.0  155.0  0.645161  2.626728   \n\n                                     \n                             Crisis  \nKey                                  \ndev_01_tcp_ar_9578_s004_t001   12.0  \ndev_01_tcp_ar_9578_s004_t002   12.0  \ndev_01_tcp_ar_9578_s004_t004   16.0  \ndev_01_tcp_ar_9578_s005_t000  122.0  \ndev_01_tcp_ar_9578_s006_t009  108.0  \ndev_01_tcp_ar_9578_s011_t002   70.0  \ndev_01_tcp_ar_9578_s011_t005   34.0  \ndev_01_tcp_ar_9578_s011_t008  227.0  \ndev_01_tcp_ar_9578_s015_t003  104.0  \ndev_01_tcp_ar_9578_s017_t004  119.0  \ndev_01_tcp_ar_9578_s021_t001  239.0  \ndev_01_tcp_ar_9578_s027_t002   73.0  \ndev_01_tcp_ar_9578_s027_t004   48.0  \ndev_01_tcp_ar_9578_s029_t001   15.0  \ndev_01_tcp_ar_9578_s029_t002   11.0  \ndev_01_tcp_ar_9578_s029_t003   11.0  \ndev_01_tcp_ar_9578_s029_t005   18.0  \ndev_01_tcp_ar_9578_s029_t006   37.0  \ndev_01_tcp_ar_9578_s029_t008   41.0  ",
      "text/html": "<div>\n<style scoped>\n    .dataframe tbody tr th:only-of-type {\n        vertical-align: middle;\n    }\n\n    .dataframe tbody tr th {\n        vertical-align: top;\n    }\n\n    .dataframe thead tr th {\n        text-align: left;\n    }\n\n    .dataframe thead tr:last-of-type th {\n        text-align: right;\n    }\n</style>\n<table border=\"1\" class=\"dataframe\">\n  <thead>\n    <tr>\n      <th></th>\n      <th colspan=\"3\" halign=\"left\">mean_nni</th>\n      <th colspan=\"3\" halign=\"left\">sdnn</th>\n      <th colspan=\"3\" halign=\"left\">sdsd</th>\n      <th colspan=\"3\" halign=\"left\">nni_50</th>\n      <th colspan=\"3\" halign=\"left\">pnni_50</th>\n      <th colspan=\"3\" halign=\"left\">nni_20</th>\n      <th colspan=\"3\" halign=\"left\">pnni_20</th>\n      <th colspan=\"3\" halign=\"left\">rmssd</th>\n      <th colspan=\"3\" halign=\"left\">median_nni</th>\n      <th colspan=\"3\" halign=\"left\">range_nni</th>\n      <th colspan=\"3\" halign=\"left\">cvsd</th>\n      <th colspan=\"3\" halign=\"left\">cvnni</th>\n      <th colspan=\"3\" halign=\"left\">mean_hr</th>\n      <th colspan=\"3\" halign=\"left\">max_hr</th>\n      <th colspan=\"3\" halign=\"left\">min_hr</th>\n      <th colspan=\"3\" halign=\"left\">std_hr</th>\n      <th colspan=\"3\" halign=\"left\">lf</th>\n      <th colspan=\"3\" halign=\"left\">hf</th>\n      <th colspan=\"3\" halign=\"left\">vlf</th>\n      <th colspan=\"3\" halign=\"left\">lf_hf_ratio</th>\n      <th colspan=\"3\" halign=\"left\">csi</th>\n      <th colspan=\"3\" halign=\"left\">cvi</th>\n      <th colspan=\"3\" halign=\"left\">Modified_csi</th>\n      <th colspan=\"3\" halign=\"left\">sampen</th>\n      <th colspan=\"3\" halign=\"left\">sd1</th>\n      <th colspan=\"3\" halign=\"left\">sd2</th>\n      <th colspan=\"3\" halign=\"left\">ratio_sd2_sd1</th>\n      <th colspan=\"3\" halign=\"left\">label</th>\n      <th colspan=\"2\" halign=\"left\">Total</th>\n    </tr>\n    <tr>\n      <th></th>\n      <th>NaN</th>\n      <th>total</th>\n      <th>%</th>\n      <th>NaN</th>\n      <th>total</th>\n      <th>%</th>\n      <th>NaN</th>\n      <th>total</th>\n      <th>%</th>\n      <th>NaN</th>\n      <th>total</th>\n      <th>%</th>\n      <th>NaN</th>\n      <th>total</th>\n      <th>%</th>\n      <th>NaN</th>\n      <th>total</th>\n      <th>%</th>\n      <th>NaN</th>\n      <th>total</th>\n      <th>%</th>\n      <th>NaN</th>\n      <th>total</th>\n      <th>%</th>\n      <th>NaN</th>\n      <th>total</th>\n      <th>%</th>\n      <th>NaN</th>\n      <th>total</th>\n      <th>%</th>\n      <th>NaN</th>\n      <th>total</th>\n      <th>%</th>\n      <th>NaN</th>\n      <th>total</th>\n      <th>%</th>\n      <th>NaN</th>\n      <th>total</th>\n      <th>%</th>\n      <th>NaN</th>\n      <th>total</th>\n      <th>%</th>\n      <th>NaN</th>\n      <th>total</th>\n      <th>%</th>\n      <th>NaN</th>\n      <th>total</th>\n      <th>%</th>\n      <th>NaN</th>\n      <th>total</th>\n      <th>%</th>\n      <th>NaN</th>\n      <th>total</th>\n      <th>%</th>\n      <th>NaN</th>\n      <th>total</th>\n      <th>%</th>\n      <th>NaN</th>\n      <th>total</th>\n      <th>%</th>\n      <th>NaN</th>\n      <th>total</th>\n      <th>%</th>\n      <th>NaN</th>\n      <th>total</th>\n      <th>%</th>\n      <th>NaN</th>\n      <th>total</th>\n      <th>%</th>\n      <th>NaN</th>\n      <th>total</th>\n      <th>%</th>\n      <th>NaN</th>\n      <th>total</th>\n      <th>%</th>\n      <th>NaN</th>\n      <th>total</th>\n      <th>%</th>\n      <th>NaN</th>\n      <th>total</th>\n      <th>%</th>\n      <th>NaN</th>\n      <th>total</th>\n      <th>%</th>\n      <th>Percent</th>\n      <th>Crisis</th>\n    </tr>\n    <tr>\n      <th>Key</th>\n      <th></th>\n      <th></th>\n      <th></th>\n      <th></th>\n      <th></th>\n      <th></th>\n      <th></th>\n      <th></th>\n      <th></th>\n      <th></th>\n      <th></th>\n      <th></th>\n      <th></th>\n      <th></th>\n      <th></th>\n      <th></th>\n      <th></th>\n      <th></th>\n      <th></th>\n      <th></th>\n      <th></th>\n      <th></th>\n      <th></th>\n      <th></th>\n      <th></th>\n      <th></th>\n      <th></th>\n      <th></th>\n      <th></th>\n      <th></th>\n      <th></th>\n      <th></th>\n      <th></th>\n      <th></th>\n      <th></th>\n      <th></th>\n      <th></th>\n      <th></th>\n      <th></th>\n      <th></th>\n      <th></th>\n      <th></th>\n      <th></th>\n      <th></th>\n      <th></th>\n      <th></th>\n      <th></th>\n      <th></th>\n      <th></th>\n      <th></th>\n      <th></th>\n      <th></th>\n      <th></th>\n      <th></th>\n      <th></th>\n      <th></th>\n      <th></th>\n      <th></th>\n      <th></th>\n      <th></th>\n      <th></th>\n      <th></th>\n      <th></th>\n      <th></th>\n      <th></th>\n      <th></th>\n      <th></th>\n      <th></th>\n      <th></th>\n      <th></th>\n      <th></th>\n      <th></th>\n      <th></th>\n      <th></th>\n      <th></th>\n      <th></th>\n      <th></th>\n      <th></th>\n      <th></th>\n      <th></th>\n      <th></th>\n      <th></th>\n      <th></th>\n      <th></th>\n      <th></th>\n      <th></th>\n    </tr>\n  </thead>\n  <tbody>\n    <tr>\n      <th>dev_01_tcp_ar_9578_s004_t001</th>\n      <td>4.0</td>\n      <td>101.0</td>\n      <td>3.960396</td>\n      <td>4.0</td>\n      <td>101.0</td>\n      <td>3.960396</td>\n      <td>4.0</td>\n      <td>101.0</td>\n      <td>3.960396</td>\n      <td>1.0</td>\n      <td>101.0</td>\n      <td>0.990099</td>\n      <td>1.0</td>\n      <td>101.0</td>\n      <td>0.990099</td>\n      <td>1.0</td>\n      <td>101.0</td>\n      <td>0.990099</td>\n      <td>1.0</td>\n      <td>101.0</td>\n      <td>0.990099</td>\n      <td>4.0</td>\n      <td>101.0</td>\n      <td>3.960396</td>\n      <td>4.0</td>\n      <td>101.0</td>\n      <td>3.960396</td>\n      <td>1.0</td>\n      <td>101.0</td>\n      <td>0.990099</td>\n      <td>5.0</td>\n      <td>101.0</td>\n      <td>4.950495</td>\n      <td>5.0</td>\n      <td>101.0</td>\n      <td>4.950495</td>\n      <td>4.0</td>\n      <td>101.0</td>\n      <td>3.960396</td>\n      <td>1.0</td>\n      <td>101.0</td>\n      <td>0.990099</td>\n      <td>1.0</td>\n      <td>101.0</td>\n      <td>0.990099</td>\n      <td>5.0</td>\n      <td>101.0</td>\n      <td>4.950495</td>\n      <td>33.0</td>\n      <td>101.0</td>\n      <td>32.673267</td>\n      <td>33.0</td>\n      <td>101.0</td>\n      <td>32.673267</td>\n      <td>33.0</td>\n      <td>101.0</td>\n      <td>32.673267</td>\n      <td>33.0</td>\n      <td>101.0</td>\n      <td>32.673267</td>\n      <td>15.0</td>\n      <td>101.0</td>\n      <td>14.851485</td>\n      <td>15.0</td>\n      <td>101.0</td>\n      <td>14.851485</td>\n      <td>15.0</td>\n      <td>101.0</td>\n      <td>14.851485</td>\n      <td>7.0</td>\n      <td>101.0</td>\n      <td>6.930693</td>\n      <td>15.0</td>\n      <td>101.0</td>\n      <td>14.851485</td>\n      <td>15.0</td>\n      <td>101.0</td>\n      <td>14.851485</td>\n      <td>15.0</td>\n      <td>101.0</td>\n      <td>14.851485</td>\n      <td>1.0</td>\n      <td>101.0</td>\n      <td>0.990099</td>\n      <td>9.759547</td>\n      <td>12.0</td>\n    </tr>\n    <tr>\n      <th>dev_01_tcp_ar_9578_s004_t002</th>\n      <td>4.0</td>\n      <td>108.0</td>\n      <td>3.703704</td>\n      <td>4.0</td>\n      <td>108.0</td>\n      <td>3.703704</td>\n      <td>4.0</td>\n      <td>108.0</td>\n      <td>3.703704</td>\n      <td>2.0</td>\n      <td>108.0</td>\n      <td>1.851852</td>\n      <td>2.0</td>\n      <td>108.0</td>\n      <td>1.851852</td>\n      <td>2.0</td>\n      <td>108.0</td>\n      <td>1.851852</td>\n      <td>2.0</td>\n      <td>108.0</td>\n      <td>1.851852</td>\n      <td>4.0</td>\n      <td>108.0</td>\n      <td>3.703704</td>\n      <td>4.0</td>\n      <td>108.0</td>\n      <td>3.703704</td>\n      <td>2.0</td>\n      <td>108.0</td>\n      <td>1.851852</td>\n      <td>4.0</td>\n      <td>108.0</td>\n      <td>3.703704</td>\n      <td>4.0</td>\n      <td>108.0</td>\n      <td>3.703704</td>\n      <td>4.0</td>\n      <td>108.0</td>\n      <td>3.703704</td>\n      <td>2.0</td>\n      <td>108.0</td>\n      <td>1.851852</td>\n      <td>2.0</td>\n      <td>108.0</td>\n      <td>1.851852</td>\n      <td>4.0</td>\n      <td>108.0</td>\n      <td>3.703704</td>\n      <td>32.0</td>\n      <td>108.0</td>\n      <td>29.629630</td>\n      <td>32.0</td>\n      <td>108.0</td>\n      <td>29.629630</td>\n      <td>32.0</td>\n      <td>108.0</td>\n      <td>29.629630</td>\n      <td>32.0</td>\n      <td>108.0</td>\n      <td>29.629630</td>\n      <td>14.0</td>\n      <td>108.0</td>\n      <td>12.962963</td>\n      <td>14.0</td>\n      <td>108.0</td>\n      <td>12.962963</td>\n      <td>14.0</td>\n      <td>108.0</td>\n      <td>12.962963</td>\n      <td>7.0</td>\n      <td>108.0</td>\n      <td>6.481481</td>\n      <td>14.0</td>\n      <td>108.0</td>\n      <td>12.962963</td>\n      <td>14.0</td>\n      <td>108.0</td>\n      <td>12.962963</td>\n      <td>14.0</td>\n      <td>108.0</td>\n      <td>12.962963</td>\n      <td>1.0</td>\n      <td>108.0</td>\n      <td>0.925926</td>\n      <td>8.928571</td>\n      <td>12.0</td>\n    </tr>\n    <tr>\n      <th>dev_01_tcp_ar_9578_s004_t004</th>\n      <td>1.0</td>\n      <td>96.0</td>\n      <td>1.041667</td>\n      <td>1.0</td>\n      <td>96.0</td>\n      <td>1.041667</td>\n      <td>1.0</td>\n      <td>96.0</td>\n      <td>1.041667</td>\n      <td>0.0</td>\n      <td>96.0</td>\n      <td>0.000000</td>\n      <td>0.0</td>\n      <td>96.0</td>\n      <td>0.000000</td>\n      <td>0.0</td>\n      <td>96.0</td>\n      <td>0.000000</td>\n      <td>0.0</td>\n      <td>96.0</td>\n      <td>0.000000</td>\n      <td>1.0</td>\n      <td>96.0</td>\n      <td>1.041667</td>\n      <td>1.0</td>\n      <td>96.0</td>\n      <td>1.041667</td>\n      <td>0.0</td>\n      <td>96.0</td>\n      <td>0.000000</td>\n      <td>1.0</td>\n      <td>96.0</td>\n      <td>1.041667</td>\n      <td>1.0</td>\n      <td>96.0</td>\n      <td>1.041667</td>\n      <td>1.0</td>\n      <td>96.0</td>\n      <td>1.041667</td>\n      <td>0.0</td>\n      <td>96.0</td>\n      <td>0.000000</td>\n      <td>0.0</td>\n      <td>96.0</td>\n      <td>0.000000</td>\n      <td>1.0</td>\n      <td>96.0</td>\n      <td>1.041667</td>\n      <td>17.0</td>\n      <td>96.0</td>\n      <td>17.708333</td>\n      <td>17.0</td>\n      <td>96.0</td>\n      <td>17.708333</td>\n      <td>17.0</td>\n      <td>96.0</td>\n      <td>17.708333</td>\n      <td>17.0</td>\n      <td>96.0</td>\n      <td>17.708333</td>\n      <td>8.0</td>\n      <td>96.0</td>\n      <td>8.333333</td>\n      <td>8.0</td>\n      <td>96.0</td>\n      <td>8.333333</td>\n      <td>8.0</td>\n      <td>96.0</td>\n      <td>8.333333</td>\n      <td>7.0</td>\n      <td>96.0</td>\n      <td>7.291667</td>\n      <td>8.0</td>\n      <td>96.0</td>\n      <td>8.333333</td>\n      <td>8.0</td>\n      <td>96.0</td>\n      <td>8.333333</td>\n      <td>8.0</td>\n      <td>96.0</td>\n      <td>8.333333</td>\n      <td>0.0</td>\n      <td>96.0</td>\n      <td>0.000000</td>\n      <td>4.910714</td>\n      <td>16.0</td>\n    </tr>\n    <tr>\n      <th>dev_01_tcp_ar_9578_s005_t000</th>\n      <td>1.0</td>\n      <td>122.0</td>\n      <td>0.819672</td>\n      <td>1.0</td>\n      <td>122.0</td>\n      <td>0.819672</td>\n      <td>1.0</td>\n      <td>122.0</td>\n      <td>0.819672</td>\n      <td>0.0</td>\n      <td>122.0</td>\n      <td>0.000000</td>\n      <td>0.0</td>\n      <td>122.0</td>\n      <td>0.000000</td>\n      <td>0.0</td>\n      <td>122.0</td>\n      <td>0.000000</td>\n      <td>0.0</td>\n      <td>122.0</td>\n      <td>0.000000</td>\n      <td>1.0</td>\n      <td>122.0</td>\n      <td>0.819672</td>\n      <td>1.0</td>\n      <td>122.0</td>\n      <td>0.819672</td>\n      <td>0.0</td>\n      <td>122.0</td>\n      <td>0.000000</td>\n      <td>1.0</td>\n      <td>122.0</td>\n      <td>0.819672</td>\n      <td>1.0</td>\n      <td>122.0</td>\n      <td>0.819672</td>\n      <td>1.0</td>\n      <td>122.0</td>\n      <td>0.819672</td>\n      <td>0.0</td>\n      <td>122.0</td>\n      <td>0.000000</td>\n      <td>0.0</td>\n      <td>122.0</td>\n      <td>0.000000</td>\n      <td>1.0</td>\n      <td>122.0</td>\n      <td>0.819672</td>\n      <td>17.0</td>\n      <td>122.0</td>\n      <td>13.934426</td>\n      <td>17.0</td>\n      <td>122.0</td>\n      <td>13.934426</td>\n      <td>17.0</td>\n      <td>122.0</td>\n      <td>13.934426</td>\n      <td>17.0</td>\n      <td>122.0</td>\n      <td>13.934426</td>\n      <td>8.0</td>\n      <td>122.0</td>\n      <td>6.557377</td>\n      <td>8.0</td>\n      <td>122.0</td>\n      <td>6.557377</td>\n      <td>8.0</td>\n      <td>122.0</td>\n      <td>6.557377</td>\n      <td>7.0</td>\n      <td>122.0</td>\n      <td>5.737705</td>\n      <td>8.0</td>\n      <td>122.0</td>\n      <td>6.557377</td>\n      <td>8.0</td>\n      <td>122.0</td>\n      <td>6.557377</td>\n      <td>8.0</td>\n      <td>122.0</td>\n      <td>6.557377</td>\n      <td>1.0</td>\n      <td>122.0</td>\n      <td>0.819672</td>\n      <td>3.893443</td>\n      <td>122.0</td>\n    </tr>\n    <tr>\n      <th>dev_01_tcp_ar_9578_s006_t009</th>\n      <td>0.0</td>\n      <td>149.0</td>\n      <td>0.000000</td>\n      <td>0.0</td>\n      <td>149.0</td>\n      <td>0.000000</td>\n      <td>0.0</td>\n      <td>149.0</td>\n      <td>0.000000</td>\n      <td>0.0</td>\n      <td>149.0</td>\n      <td>0.000000</td>\n      <td>0.0</td>\n      <td>149.0</td>\n      <td>0.000000</td>\n      <td>0.0</td>\n      <td>149.0</td>\n      <td>0.000000</td>\n      <td>0.0</td>\n      <td>149.0</td>\n      <td>0.000000</td>\n      <td>0.0</td>\n      <td>149.0</td>\n      <td>0.000000</td>\n      <td>0.0</td>\n      <td>149.0</td>\n      <td>0.000000</td>\n      <td>0.0</td>\n      <td>149.0</td>\n      <td>0.000000</td>\n      <td>0.0</td>\n      <td>149.0</td>\n      <td>0.000000</td>\n      <td>0.0</td>\n      <td>149.0</td>\n      <td>0.000000</td>\n      <td>0.0</td>\n      <td>149.0</td>\n      <td>0.000000</td>\n      <td>0.0</td>\n      <td>149.0</td>\n      <td>0.000000</td>\n      <td>0.0</td>\n      <td>149.0</td>\n      <td>0.000000</td>\n      <td>0.0</td>\n      <td>149.0</td>\n      <td>0.000000</td>\n      <td>16.0</td>\n      <td>149.0</td>\n      <td>10.738255</td>\n      <td>16.0</td>\n      <td>149.0</td>\n      <td>10.738255</td>\n      <td>16.0</td>\n      <td>149.0</td>\n      <td>10.738255</td>\n      <td>16.0</td>\n      <td>149.0</td>\n      <td>10.738255</td>\n      <td>7.0</td>\n      <td>149.0</td>\n      <td>4.697987</td>\n      <td>7.0</td>\n      <td>149.0</td>\n      <td>4.697987</td>\n      <td>7.0</td>\n      <td>149.0</td>\n      <td>4.697987</td>\n      <td>7.0</td>\n      <td>149.0</td>\n      <td>4.697987</td>\n      <td>7.0</td>\n      <td>149.0</td>\n      <td>4.697987</td>\n      <td>7.0</td>\n      <td>149.0</td>\n      <td>4.697987</td>\n      <td>7.0</td>\n      <td>149.0</td>\n      <td>4.697987</td>\n      <td>0.0</td>\n      <td>149.0</td>\n      <td>0.000000</td>\n      <td>2.708533</td>\n      <td>108.0</td>\n    </tr>\n    <tr>\n      <th>dev_01_tcp_ar_9578_s011_t002</th>\n      <td>0.0</td>\n      <td>132.0</td>\n      <td>0.000000</td>\n      <td>0.0</td>\n      <td>132.0</td>\n      <td>0.000000</td>\n      <td>0.0</td>\n      <td>132.0</td>\n      <td>0.000000</td>\n      <td>0.0</td>\n      <td>132.0</td>\n      <td>0.000000</td>\n      <td>0.0</td>\n      <td>132.0</td>\n      <td>0.000000</td>\n      <td>0.0</td>\n      <td>132.0</td>\n      <td>0.000000</td>\n      <td>0.0</td>\n      <td>132.0</td>\n      <td>0.000000</td>\n      <td>0.0</td>\n      <td>132.0</td>\n      <td>0.000000</td>\n      <td>0.0</td>\n      <td>132.0</td>\n      <td>0.000000</td>\n      <td>0.0</td>\n      <td>132.0</td>\n      <td>0.000000</td>\n      <td>0.0</td>\n      <td>132.0</td>\n      <td>0.000000</td>\n      <td>0.0</td>\n      <td>132.0</td>\n      <td>0.000000</td>\n      <td>0.0</td>\n      <td>132.0</td>\n      <td>0.000000</td>\n      <td>0.0</td>\n      <td>132.0</td>\n      <td>0.000000</td>\n      <td>0.0</td>\n      <td>132.0</td>\n      <td>0.000000</td>\n      <td>0.0</td>\n      <td>132.0</td>\n      <td>0.000000</td>\n      <td>16.0</td>\n      <td>132.0</td>\n      <td>12.121212</td>\n      <td>16.0</td>\n      <td>132.0</td>\n      <td>12.121212</td>\n      <td>16.0</td>\n      <td>132.0</td>\n      <td>12.121212</td>\n      <td>16.0</td>\n      <td>132.0</td>\n      <td>12.121212</td>\n      <td>7.0</td>\n      <td>132.0</td>\n      <td>5.303030</td>\n      <td>7.0</td>\n      <td>132.0</td>\n      <td>5.303030</td>\n      <td>7.0</td>\n      <td>132.0</td>\n      <td>5.303030</td>\n      <td>7.0</td>\n      <td>132.0</td>\n      <td>5.303030</td>\n      <td>7.0</td>\n      <td>132.0</td>\n      <td>5.303030</td>\n      <td>7.0</td>\n      <td>132.0</td>\n      <td>5.303030</td>\n      <td>7.0</td>\n      <td>132.0</td>\n      <td>5.303030</td>\n      <td>0.0</td>\n      <td>132.0</td>\n      <td>0.000000</td>\n      <td>3.057359</td>\n      <td>70.0</td>\n    </tr>\n    <tr>\n      <th>dev_01_tcp_ar_9578_s011_t005</th>\n      <td>0.0</td>\n      <td>109.0</td>\n      <td>0.000000</td>\n      <td>0.0</td>\n      <td>109.0</td>\n      <td>0.000000</td>\n      <td>0.0</td>\n      <td>109.0</td>\n      <td>0.000000</td>\n      <td>0.0</td>\n      <td>109.0</td>\n      <td>0.000000</td>\n      <td>0.0</td>\n      <td>109.0</td>\n      <td>0.000000</td>\n      <td>0.0</td>\n      <td>109.0</td>\n      <td>0.000000</td>\n      <td>0.0</td>\n      <td>109.0</td>\n      <td>0.000000</td>\n      <td>0.0</td>\n      <td>109.0</td>\n      <td>0.000000</td>\n      <td>0.0</td>\n      <td>109.0</td>\n      <td>0.000000</td>\n      <td>0.0</td>\n      <td>109.0</td>\n      <td>0.000000</td>\n      <td>0.0</td>\n      <td>109.0</td>\n      <td>0.000000</td>\n      <td>0.0</td>\n      <td>109.0</td>\n      <td>0.000000</td>\n      <td>0.0</td>\n      <td>109.0</td>\n      <td>0.000000</td>\n      <td>0.0</td>\n      <td>109.0</td>\n      <td>0.000000</td>\n      <td>0.0</td>\n      <td>109.0</td>\n      <td>0.000000</td>\n      <td>0.0</td>\n      <td>109.0</td>\n      <td>0.000000</td>\n      <td>16.0</td>\n      <td>109.0</td>\n      <td>14.678899</td>\n      <td>16.0</td>\n      <td>109.0</td>\n      <td>14.678899</td>\n      <td>16.0</td>\n      <td>109.0</td>\n      <td>14.678899</td>\n      <td>16.0</td>\n      <td>109.0</td>\n      <td>14.678899</td>\n      <td>7.0</td>\n      <td>109.0</td>\n      <td>6.422018</td>\n      <td>7.0</td>\n      <td>109.0</td>\n      <td>6.422018</td>\n      <td>7.0</td>\n      <td>109.0</td>\n      <td>6.422018</td>\n      <td>7.0</td>\n      <td>109.0</td>\n      <td>6.422018</td>\n      <td>7.0</td>\n      <td>109.0</td>\n      <td>6.422018</td>\n      <td>7.0</td>\n      <td>109.0</td>\n      <td>6.422018</td>\n      <td>7.0</td>\n      <td>109.0</td>\n      <td>6.422018</td>\n      <td>1.0</td>\n      <td>109.0</td>\n      <td>0.917431</td>\n      <td>3.735256</td>\n      <td>34.0</td>\n    </tr>\n    <tr>\n      <th>dev_01_tcp_ar_9578_s011_t008</th>\n      <td>0.0</td>\n      <td>252.0</td>\n      <td>0.000000</td>\n      <td>0.0</td>\n      <td>252.0</td>\n      <td>0.000000</td>\n      <td>0.0</td>\n      <td>252.0</td>\n      <td>0.000000</td>\n      <td>0.0</td>\n      <td>252.0</td>\n      <td>0.000000</td>\n      <td>0.0</td>\n      <td>252.0</td>\n      <td>0.000000</td>\n      <td>0.0</td>\n      <td>252.0</td>\n      <td>0.000000</td>\n      <td>0.0</td>\n      <td>252.0</td>\n      <td>0.000000</td>\n      <td>0.0</td>\n      <td>252.0</td>\n      <td>0.000000</td>\n      <td>0.0</td>\n      <td>252.0</td>\n      <td>0.000000</td>\n      <td>0.0</td>\n      <td>252.0</td>\n      <td>0.000000</td>\n      <td>0.0</td>\n      <td>252.0</td>\n      <td>0.000000</td>\n      <td>0.0</td>\n      <td>252.0</td>\n      <td>0.000000</td>\n      <td>0.0</td>\n      <td>252.0</td>\n      <td>0.000000</td>\n      <td>0.0</td>\n      <td>252.0</td>\n      <td>0.000000</td>\n      <td>0.0</td>\n      <td>252.0</td>\n      <td>0.000000</td>\n      <td>0.0</td>\n      <td>252.0</td>\n      <td>0.000000</td>\n      <td>16.0</td>\n      <td>252.0</td>\n      <td>6.349206</td>\n      <td>16.0</td>\n      <td>252.0</td>\n      <td>6.349206</td>\n      <td>16.0</td>\n      <td>252.0</td>\n      <td>6.349206</td>\n      <td>16.0</td>\n      <td>252.0</td>\n      <td>6.349206</td>\n      <td>7.0</td>\n      <td>252.0</td>\n      <td>2.777778</td>\n      <td>7.0</td>\n      <td>252.0</td>\n      <td>2.777778</td>\n      <td>7.0</td>\n      <td>252.0</td>\n      <td>2.777778</td>\n      <td>7.0</td>\n      <td>252.0</td>\n      <td>2.777778</td>\n      <td>7.0</td>\n      <td>252.0</td>\n      <td>2.777778</td>\n      <td>7.0</td>\n      <td>252.0</td>\n      <td>2.777778</td>\n      <td>7.0</td>\n      <td>252.0</td>\n      <td>2.777778</td>\n      <td>1.0</td>\n      <td>252.0</td>\n      <td>0.396825</td>\n      <td>1.615646</td>\n      <td>227.0</td>\n    </tr>\n    <tr>\n      <th>dev_01_tcp_ar_9578_s015_t003</th>\n      <td>0.0</td>\n      <td>185.0</td>\n      <td>0.000000</td>\n      <td>0.0</td>\n      <td>185.0</td>\n      <td>0.000000</td>\n      <td>0.0</td>\n      <td>185.0</td>\n      <td>0.000000</td>\n      <td>0.0</td>\n      <td>185.0</td>\n      <td>0.000000</td>\n      <td>0.0</td>\n      <td>185.0</td>\n      <td>0.000000</td>\n      <td>0.0</td>\n      <td>185.0</td>\n      <td>0.000000</td>\n      <td>0.0</td>\n      <td>185.0</td>\n      <td>0.000000</td>\n      <td>0.0</td>\n      <td>185.0</td>\n      <td>0.000000</td>\n      <td>0.0</td>\n      <td>185.0</td>\n      <td>0.000000</td>\n      <td>0.0</td>\n      <td>185.0</td>\n      <td>0.000000</td>\n      <td>0.0</td>\n      <td>185.0</td>\n      <td>0.000000</td>\n      <td>0.0</td>\n      <td>185.0</td>\n      <td>0.000000</td>\n      <td>0.0</td>\n      <td>185.0</td>\n      <td>0.000000</td>\n      <td>0.0</td>\n      <td>185.0</td>\n      <td>0.000000</td>\n      <td>0.0</td>\n      <td>185.0</td>\n      <td>0.000000</td>\n      <td>0.0</td>\n      <td>185.0</td>\n      <td>0.000000</td>\n      <td>16.0</td>\n      <td>185.0</td>\n      <td>8.648649</td>\n      <td>16.0</td>\n      <td>185.0</td>\n      <td>8.648649</td>\n      <td>16.0</td>\n      <td>185.0</td>\n      <td>8.648649</td>\n      <td>16.0</td>\n      <td>185.0</td>\n      <td>8.648649</td>\n      <td>7.0</td>\n      <td>185.0</td>\n      <td>3.783784</td>\n      <td>7.0</td>\n      <td>185.0</td>\n      <td>3.783784</td>\n      <td>7.0</td>\n      <td>185.0</td>\n      <td>3.783784</td>\n      <td>7.0</td>\n      <td>185.0</td>\n      <td>3.783784</td>\n      <td>7.0</td>\n      <td>185.0</td>\n      <td>3.783784</td>\n      <td>7.0</td>\n      <td>185.0</td>\n      <td>3.783784</td>\n      <td>7.0</td>\n      <td>185.0</td>\n      <td>3.783784</td>\n      <td>1.0</td>\n      <td>185.0</td>\n      <td>0.540541</td>\n      <td>2.200772</td>\n      <td>104.0</td>\n    </tr>\n    <tr>\n      <th>dev_01_tcp_ar_9578_s017_t004</th>\n      <td>0.0</td>\n      <td>206.0</td>\n      <td>0.000000</td>\n      <td>0.0</td>\n      <td>206.0</td>\n      <td>0.000000</td>\n      <td>0.0</td>\n      <td>206.0</td>\n      <td>0.000000</td>\n      <td>0.0</td>\n      <td>206.0</td>\n      <td>0.000000</td>\n      <td>0.0</td>\n      <td>206.0</td>\n      <td>0.000000</td>\n      <td>0.0</td>\n      <td>206.0</td>\n      <td>0.000000</td>\n      <td>0.0</td>\n      <td>206.0</td>\n      <td>0.000000</td>\n      <td>0.0</td>\n      <td>206.0</td>\n      <td>0.000000</td>\n      <td>0.0</td>\n      <td>206.0</td>\n      <td>0.000000</td>\n      <td>0.0</td>\n      <td>206.0</td>\n      <td>0.000000</td>\n      <td>0.0</td>\n      <td>206.0</td>\n      <td>0.000000</td>\n      <td>0.0</td>\n      <td>206.0</td>\n      <td>0.000000</td>\n      <td>0.0</td>\n      <td>206.0</td>\n      <td>0.000000</td>\n      <td>0.0</td>\n      <td>206.0</td>\n      <td>0.000000</td>\n      <td>0.0</td>\n      <td>206.0</td>\n      <td>0.000000</td>\n      <td>0.0</td>\n      <td>206.0</td>\n      <td>0.000000</td>\n      <td>16.0</td>\n      <td>206.0</td>\n      <td>7.766990</td>\n      <td>16.0</td>\n      <td>206.0</td>\n      <td>7.766990</td>\n      <td>16.0</td>\n      <td>206.0</td>\n      <td>7.766990</td>\n      <td>16.0</td>\n      <td>206.0</td>\n      <td>7.766990</td>\n      <td>7.0</td>\n      <td>206.0</td>\n      <td>3.398058</td>\n      <td>7.0</td>\n      <td>206.0</td>\n      <td>3.398058</td>\n      <td>7.0</td>\n      <td>206.0</td>\n      <td>3.398058</td>\n      <td>7.0</td>\n      <td>206.0</td>\n      <td>3.398058</td>\n      <td>7.0</td>\n      <td>206.0</td>\n      <td>3.398058</td>\n      <td>7.0</td>\n      <td>206.0</td>\n      <td>3.398058</td>\n      <td>7.0</td>\n      <td>206.0</td>\n      <td>3.398058</td>\n      <td>1.0</td>\n      <td>206.0</td>\n      <td>0.485437</td>\n      <td>1.976422</td>\n      <td>119.0</td>\n    </tr>\n    <tr>\n      <th>dev_01_tcp_ar_9578_s021_t001</th>\n      <td>0.0</td>\n      <td>341.0</td>\n      <td>0.000000</td>\n      <td>0.0</td>\n      <td>341.0</td>\n      <td>0.000000</td>\n      <td>0.0</td>\n      <td>341.0</td>\n      <td>0.000000</td>\n      <td>0.0</td>\n      <td>341.0</td>\n      <td>0.000000</td>\n      <td>0.0</td>\n      <td>341.0</td>\n      <td>0.000000</td>\n      <td>0.0</td>\n      <td>341.0</td>\n      <td>0.000000</td>\n      <td>0.0</td>\n      <td>341.0</td>\n      <td>0.000000</td>\n      <td>0.0</td>\n      <td>341.0</td>\n      <td>0.000000</td>\n      <td>0.0</td>\n      <td>341.0</td>\n      <td>0.000000</td>\n      <td>0.0</td>\n      <td>341.0</td>\n      <td>0.000000</td>\n      <td>0.0</td>\n      <td>341.0</td>\n      <td>0.000000</td>\n      <td>0.0</td>\n      <td>341.0</td>\n      <td>0.000000</td>\n      <td>0.0</td>\n      <td>341.0</td>\n      <td>0.000000</td>\n      <td>0.0</td>\n      <td>341.0</td>\n      <td>0.000000</td>\n      <td>0.0</td>\n      <td>341.0</td>\n      <td>0.000000</td>\n      <td>0.0</td>\n      <td>341.0</td>\n      <td>0.000000</td>\n      <td>16.0</td>\n      <td>341.0</td>\n      <td>4.692082</td>\n      <td>16.0</td>\n      <td>341.0</td>\n      <td>4.692082</td>\n      <td>16.0</td>\n      <td>341.0</td>\n      <td>4.692082</td>\n      <td>16.0</td>\n      <td>341.0</td>\n      <td>4.692082</td>\n      <td>7.0</td>\n      <td>341.0</td>\n      <td>2.052786</td>\n      <td>7.0</td>\n      <td>341.0</td>\n      <td>2.052786</td>\n      <td>7.0</td>\n      <td>341.0</td>\n      <td>2.052786</td>\n      <td>7.0</td>\n      <td>341.0</td>\n      <td>2.052786</td>\n      <td>7.0</td>\n      <td>341.0</td>\n      <td>2.052786</td>\n      <td>7.0</td>\n      <td>341.0</td>\n      <td>2.052786</td>\n      <td>7.0</td>\n      <td>341.0</td>\n      <td>2.052786</td>\n      <td>1.0</td>\n      <td>341.0</td>\n      <td>0.293255</td>\n      <td>1.193967</td>\n      <td>239.0</td>\n    </tr>\n    <tr>\n      <th>dev_01_tcp_ar_9578_s027_t002</th>\n      <td>1.0</td>\n      <td>81.0</td>\n      <td>1.234568</td>\n      <td>1.0</td>\n      <td>81.0</td>\n      <td>1.234568</td>\n      <td>1.0</td>\n      <td>81.0</td>\n      <td>1.234568</td>\n      <td>1.0</td>\n      <td>81.0</td>\n      <td>1.234568</td>\n      <td>1.0</td>\n      <td>81.0</td>\n      <td>1.234568</td>\n      <td>1.0</td>\n      <td>81.0</td>\n      <td>1.234568</td>\n      <td>1.0</td>\n      <td>81.0</td>\n      <td>1.234568</td>\n      <td>1.0</td>\n      <td>81.0</td>\n      <td>1.234568</td>\n      <td>1.0</td>\n      <td>81.0</td>\n      <td>1.234568</td>\n      <td>1.0</td>\n      <td>81.0</td>\n      <td>1.234568</td>\n      <td>1.0</td>\n      <td>81.0</td>\n      <td>1.234568</td>\n      <td>1.0</td>\n      <td>81.0</td>\n      <td>1.234568</td>\n      <td>1.0</td>\n      <td>81.0</td>\n      <td>1.234568</td>\n      <td>1.0</td>\n      <td>81.0</td>\n      <td>1.234568</td>\n      <td>1.0</td>\n      <td>81.0</td>\n      <td>1.234568</td>\n      <td>1.0</td>\n      <td>81.0</td>\n      <td>1.234568</td>\n      <td>16.0</td>\n      <td>81.0</td>\n      <td>19.753086</td>\n      <td>16.0</td>\n      <td>81.0</td>\n      <td>19.753086</td>\n      <td>16.0</td>\n      <td>81.0</td>\n      <td>19.753086</td>\n      <td>16.0</td>\n      <td>81.0</td>\n      <td>19.753086</td>\n      <td>7.0</td>\n      <td>81.0</td>\n      <td>8.641975</td>\n      <td>7.0</td>\n      <td>81.0</td>\n      <td>8.641975</td>\n      <td>7.0</td>\n      <td>81.0</td>\n      <td>8.641975</td>\n      <td>7.0</td>\n      <td>81.0</td>\n      <td>8.641975</td>\n      <td>7.0</td>\n      <td>81.0</td>\n      <td>8.641975</td>\n      <td>7.0</td>\n      <td>81.0</td>\n      <td>8.641975</td>\n      <td>7.0</td>\n      <td>81.0</td>\n      <td>8.641975</td>\n      <td>1.0</td>\n      <td>81.0</td>\n      <td>1.234568</td>\n      <td>5.731922</td>\n      <td>73.0</td>\n    </tr>\n    <tr>\n      <th>dev_01_tcp_ar_9578_s027_t004</th>\n      <td>0.0</td>\n      <td>96.0</td>\n      <td>0.000000</td>\n      <td>0.0</td>\n      <td>96.0</td>\n      <td>0.000000</td>\n      <td>0.0</td>\n      <td>96.0</td>\n      <td>0.000000</td>\n      <td>0.0</td>\n      <td>96.0</td>\n      <td>0.000000</td>\n      <td>0.0</td>\n      <td>96.0</td>\n      <td>0.000000</td>\n      <td>0.0</td>\n      <td>96.0</td>\n      <td>0.000000</td>\n      <td>0.0</td>\n      <td>96.0</td>\n      <td>0.000000</td>\n      <td>0.0</td>\n      <td>96.0</td>\n      <td>0.000000</td>\n      <td>0.0</td>\n      <td>96.0</td>\n      <td>0.000000</td>\n      <td>0.0</td>\n      <td>96.0</td>\n      <td>0.000000</td>\n      <td>0.0</td>\n      <td>96.0</td>\n      <td>0.000000</td>\n      <td>0.0</td>\n      <td>96.0</td>\n      <td>0.000000</td>\n      <td>0.0</td>\n      <td>96.0</td>\n      <td>0.000000</td>\n      <td>0.0</td>\n      <td>96.0</td>\n      <td>0.000000</td>\n      <td>0.0</td>\n      <td>96.0</td>\n      <td>0.000000</td>\n      <td>0.0</td>\n      <td>96.0</td>\n      <td>0.000000</td>\n      <td>16.0</td>\n      <td>96.0</td>\n      <td>16.666667</td>\n      <td>16.0</td>\n      <td>96.0</td>\n      <td>16.666667</td>\n      <td>16.0</td>\n      <td>96.0</td>\n      <td>16.666667</td>\n      <td>16.0</td>\n      <td>96.0</td>\n      <td>16.666667</td>\n      <td>7.0</td>\n      <td>96.0</td>\n      <td>7.291667</td>\n      <td>7.0</td>\n      <td>96.0</td>\n      <td>7.291667</td>\n      <td>7.0</td>\n      <td>96.0</td>\n      <td>7.291667</td>\n      <td>7.0</td>\n      <td>96.0</td>\n      <td>7.291667</td>\n      <td>7.0</td>\n      <td>96.0</td>\n      <td>7.291667</td>\n      <td>7.0</td>\n      <td>96.0</td>\n      <td>7.291667</td>\n      <td>7.0</td>\n      <td>96.0</td>\n      <td>7.291667</td>\n      <td>1.0</td>\n      <td>96.0</td>\n      <td>1.041667</td>\n      <td>4.241071</td>\n      <td>48.0</td>\n    </tr>\n    <tr>\n      <th>dev_01_tcp_ar_9578_s029_t001</th>\n      <td>0.0</td>\n      <td>108.0</td>\n      <td>0.000000</td>\n      <td>0.0</td>\n      <td>108.0</td>\n      <td>0.000000</td>\n      <td>0.0</td>\n      <td>108.0</td>\n      <td>0.000000</td>\n      <td>0.0</td>\n      <td>108.0</td>\n      <td>0.000000</td>\n      <td>0.0</td>\n      <td>108.0</td>\n      <td>0.000000</td>\n      <td>0.0</td>\n      <td>108.0</td>\n      <td>0.000000</td>\n      <td>0.0</td>\n      <td>108.0</td>\n      <td>0.000000</td>\n      <td>0.0</td>\n      <td>108.0</td>\n      <td>0.000000</td>\n      <td>0.0</td>\n      <td>108.0</td>\n      <td>0.000000</td>\n      <td>0.0</td>\n      <td>108.0</td>\n      <td>0.000000</td>\n      <td>0.0</td>\n      <td>108.0</td>\n      <td>0.000000</td>\n      <td>0.0</td>\n      <td>108.0</td>\n      <td>0.000000</td>\n      <td>0.0</td>\n      <td>108.0</td>\n      <td>0.000000</td>\n      <td>0.0</td>\n      <td>108.0</td>\n      <td>0.000000</td>\n      <td>0.0</td>\n      <td>108.0</td>\n      <td>0.000000</td>\n      <td>0.0</td>\n      <td>108.0</td>\n      <td>0.000000</td>\n      <td>16.0</td>\n      <td>108.0</td>\n      <td>14.814815</td>\n      <td>16.0</td>\n      <td>108.0</td>\n      <td>14.814815</td>\n      <td>16.0</td>\n      <td>108.0</td>\n      <td>14.814815</td>\n      <td>16.0</td>\n      <td>108.0</td>\n      <td>14.814815</td>\n      <td>7.0</td>\n      <td>108.0</td>\n      <td>6.481481</td>\n      <td>7.0</td>\n      <td>108.0</td>\n      <td>6.481481</td>\n      <td>7.0</td>\n      <td>108.0</td>\n      <td>6.481481</td>\n      <td>7.0</td>\n      <td>108.0</td>\n      <td>6.481481</td>\n      <td>7.0</td>\n      <td>108.0</td>\n      <td>6.481481</td>\n      <td>7.0</td>\n      <td>108.0</td>\n      <td>6.481481</td>\n      <td>7.0</td>\n      <td>108.0</td>\n      <td>6.481481</td>\n      <td>1.0</td>\n      <td>108.0</td>\n      <td>0.925926</td>\n      <td>3.769841</td>\n      <td>15.0</td>\n    </tr>\n    <tr>\n      <th>dev_01_tcp_ar_9578_s029_t002</th>\n      <td>0.0</td>\n      <td>74.0</td>\n      <td>0.000000</td>\n      <td>0.0</td>\n      <td>74.0</td>\n      <td>0.000000</td>\n      <td>0.0</td>\n      <td>74.0</td>\n      <td>0.000000</td>\n      <td>0.0</td>\n      <td>74.0</td>\n      <td>0.000000</td>\n      <td>0.0</td>\n      <td>74.0</td>\n      <td>0.000000</td>\n      <td>0.0</td>\n      <td>74.0</td>\n      <td>0.000000</td>\n      <td>0.0</td>\n      <td>74.0</td>\n      <td>0.000000</td>\n      <td>0.0</td>\n      <td>74.0</td>\n      <td>0.000000</td>\n      <td>0.0</td>\n      <td>74.0</td>\n      <td>0.000000</td>\n      <td>0.0</td>\n      <td>74.0</td>\n      <td>0.000000</td>\n      <td>0.0</td>\n      <td>74.0</td>\n      <td>0.000000</td>\n      <td>0.0</td>\n      <td>74.0</td>\n      <td>0.000000</td>\n      <td>0.0</td>\n      <td>74.0</td>\n      <td>0.000000</td>\n      <td>0.0</td>\n      <td>74.0</td>\n      <td>0.000000</td>\n      <td>0.0</td>\n      <td>74.0</td>\n      <td>0.000000</td>\n      <td>0.0</td>\n      <td>74.0</td>\n      <td>0.000000</td>\n      <td>16.0</td>\n      <td>74.0</td>\n      <td>21.621622</td>\n      <td>16.0</td>\n      <td>74.0</td>\n      <td>21.621622</td>\n      <td>16.0</td>\n      <td>74.0</td>\n      <td>21.621622</td>\n      <td>16.0</td>\n      <td>74.0</td>\n      <td>21.621622</td>\n      <td>7.0</td>\n      <td>74.0</td>\n      <td>9.459459</td>\n      <td>7.0</td>\n      <td>74.0</td>\n      <td>9.459459</td>\n      <td>7.0</td>\n      <td>74.0</td>\n      <td>9.459459</td>\n      <td>7.0</td>\n      <td>74.0</td>\n      <td>9.459459</td>\n      <td>7.0</td>\n      <td>74.0</td>\n      <td>9.459459</td>\n      <td>7.0</td>\n      <td>74.0</td>\n      <td>9.459459</td>\n      <td>7.0</td>\n      <td>74.0</td>\n      <td>9.459459</td>\n      <td>1.0</td>\n      <td>74.0</td>\n      <td>1.351351</td>\n      <td>5.501931</td>\n      <td>11.0</td>\n    </tr>\n    <tr>\n      <th>dev_01_tcp_ar_9578_s029_t003</th>\n      <td>0.0</td>\n      <td>74.0</td>\n      <td>0.000000</td>\n      <td>0.0</td>\n      <td>74.0</td>\n      <td>0.000000</td>\n      <td>0.0</td>\n      <td>74.0</td>\n      <td>0.000000</td>\n      <td>0.0</td>\n      <td>74.0</td>\n      <td>0.000000</td>\n      <td>0.0</td>\n      <td>74.0</td>\n      <td>0.000000</td>\n      <td>0.0</td>\n      <td>74.0</td>\n      <td>0.000000</td>\n      <td>0.0</td>\n      <td>74.0</td>\n      <td>0.000000</td>\n      <td>0.0</td>\n      <td>74.0</td>\n      <td>0.000000</td>\n      <td>0.0</td>\n      <td>74.0</td>\n      <td>0.000000</td>\n      <td>0.0</td>\n      <td>74.0</td>\n      <td>0.000000</td>\n      <td>0.0</td>\n      <td>74.0</td>\n      <td>0.000000</td>\n      <td>0.0</td>\n      <td>74.0</td>\n      <td>0.000000</td>\n      <td>0.0</td>\n      <td>74.0</td>\n      <td>0.000000</td>\n      <td>0.0</td>\n      <td>74.0</td>\n      <td>0.000000</td>\n      <td>0.0</td>\n      <td>74.0</td>\n      <td>0.000000</td>\n      <td>0.0</td>\n      <td>74.0</td>\n      <td>0.000000</td>\n      <td>16.0</td>\n      <td>74.0</td>\n      <td>21.621622</td>\n      <td>16.0</td>\n      <td>74.0</td>\n      <td>21.621622</td>\n      <td>16.0</td>\n      <td>74.0</td>\n      <td>21.621622</td>\n      <td>16.0</td>\n      <td>74.0</td>\n      <td>21.621622</td>\n      <td>7.0</td>\n      <td>74.0</td>\n      <td>9.459459</td>\n      <td>7.0</td>\n      <td>74.0</td>\n      <td>9.459459</td>\n      <td>7.0</td>\n      <td>74.0</td>\n      <td>9.459459</td>\n      <td>7.0</td>\n      <td>74.0</td>\n      <td>9.459459</td>\n      <td>7.0</td>\n      <td>74.0</td>\n      <td>9.459459</td>\n      <td>7.0</td>\n      <td>74.0</td>\n      <td>9.459459</td>\n      <td>7.0</td>\n      <td>74.0</td>\n      <td>9.459459</td>\n      <td>1.0</td>\n      <td>74.0</td>\n      <td>1.351351</td>\n      <td>5.501931</td>\n      <td>11.0</td>\n    </tr>\n    <tr>\n      <th>dev_01_tcp_ar_9578_s029_t005</th>\n      <td>0.0</td>\n      <td>106.0</td>\n      <td>0.000000</td>\n      <td>0.0</td>\n      <td>106.0</td>\n      <td>0.000000</td>\n      <td>0.0</td>\n      <td>106.0</td>\n      <td>0.000000</td>\n      <td>0.0</td>\n      <td>106.0</td>\n      <td>0.000000</td>\n      <td>0.0</td>\n      <td>106.0</td>\n      <td>0.000000</td>\n      <td>0.0</td>\n      <td>106.0</td>\n      <td>0.000000</td>\n      <td>0.0</td>\n      <td>106.0</td>\n      <td>0.000000</td>\n      <td>0.0</td>\n      <td>106.0</td>\n      <td>0.000000</td>\n      <td>0.0</td>\n      <td>106.0</td>\n      <td>0.000000</td>\n      <td>0.0</td>\n      <td>106.0</td>\n      <td>0.000000</td>\n      <td>0.0</td>\n      <td>106.0</td>\n      <td>0.000000</td>\n      <td>0.0</td>\n      <td>106.0</td>\n      <td>0.000000</td>\n      <td>0.0</td>\n      <td>106.0</td>\n      <td>0.000000</td>\n      <td>0.0</td>\n      <td>106.0</td>\n      <td>0.000000</td>\n      <td>0.0</td>\n      <td>106.0</td>\n      <td>0.000000</td>\n      <td>0.0</td>\n      <td>106.0</td>\n      <td>0.000000</td>\n      <td>16.0</td>\n      <td>106.0</td>\n      <td>15.094340</td>\n      <td>16.0</td>\n      <td>106.0</td>\n      <td>15.094340</td>\n      <td>16.0</td>\n      <td>106.0</td>\n      <td>15.094340</td>\n      <td>16.0</td>\n      <td>106.0</td>\n      <td>15.094340</td>\n      <td>7.0</td>\n      <td>106.0</td>\n      <td>6.603774</td>\n      <td>7.0</td>\n      <td>106.0</td>\n      <td>6.603774</td>\n      <td>7.0</td>\n      <td>106.0</td>\n      <td>6.603774</td>\n      <td>7.0</td>\n      <td>106.0</td>\n      <td>6.603774</td>\n      <td>7.0</td>\n      <td>106.0</td>\n      <td>6.603774</td>\n      <td>7.0</td>\n      <td>106.0</td>\n      <td>6.603774</td>\n      <td>7.0</td>\n      <td>106.0</td>\n      <td>6.603774</td>\n      <td>1.0</td>\n      <td>106.0</td>\n      <td>0.943396</td>\n      <td>3.840970</td>\n      <td>18.0</td>\n    </tr>\n    <tr>\n      <th>dev_01_tcp_ar_9578_s029_t006</th>\n      <td>0.0</td>\n      <td>148.0</td>\n      <td>0.000000</td>\n      <td>0.0</td>\n      <td>148.0</td>\n      <td>0.000000</td>\n      <td>0.0</td>\n      <td>148.0</td>\n      <td>0.000000</td>\n      <td>0.0</td>\n      <td>148.0</td>\n      <td>0.000000</td>\n      <td>0.0</td>\n      <td>148.0</td>\n      <td>0.000000</td>\n      <td>0.0</td>\n      <td>148.0</td>\n      <td>0.000000</td>\n      <td>0.0</td>\n      <td>148.0</td>\n      <td>0.000000</td>\n      <td>0.0</td>\n      <td>148.0</td>\n      <td>0.000000</td>\n      <td>0.0</td>\n      <td>148.0</td>\n      <td>0.000000</td>\n      <td>0.0</td>\n      <td>148.0</td>\n      <td>0.000000</td>\n      <td>0.0</td>\n      <td>148.0</td>\n      <td>0.000000</td>\n      <td>0.0</td>\n      <td>148.0</td>\n      <td>0.000000</td>\n      <td>0.0</td>\n      <td>148.0</td>\n      <td>0.000000</td>\n      <td>0.0</td>\n      <td>148.0</td>\n      <td>0.000000</td>\n      <td>0.0</td>\n      <td>148.0</td>\n      <td>0.000000</td>\n      <td>0.0</td>\n      <td>148.0</td>\n      <td>0.000000</td>\n      <td>16.0</td>\n      <td>148.0</td>\n      <td>10.810811</td>\n      <td>16.0</td>\n      <td>148.0</td>\n      <td>10.810811</td>\n      <td>16.0</td>\n      <td>148.0</td>\n      <td>10.810811</td>\n      <td>16.0</td>\n      <td>148.0</td>\n      <td>10.810811</td>\n      <td>7.0</td>\n      <td>148.0</td>\n      <td>4.729730</td>\n      <td>7.0</td>\n      <td>148.0</td>\n      <td>4.729730</td>\n      <td>7.0</td>\n      <td>148.0</td>\n      <td>4.729730</td>\n      <td>7.0</td>\n      <td>148.0</td>\n      <td>4.729730</td>\n      <td>7.0</td>\n      <td>148.0</td>\n      <td>4.729730</td>\n      <td>7.0</td>\n      <td>148.0</td>\n      <td>4.729730</td>\n      <td>7.0</td>\n      <td>148.0</td>\n      <td>4.729730</td>\n      <td>1.0</td>\n      <td>148.0</td>\n      <td>0.675676</td>\n      <td>2.750965</td>\n      <td>37.0</td>\n    </tr>\n    <tr>\n      <th>dev_01_tcp_ar_9578_s029_t008</th>\n      <td>0.0</td>\n      <td>155.0</td>\n      <td>0.000000</td>\n      <td>0.0</td>\n      <td>155.0</td>\n      <td>0.000000</td>\n      <td>0.0</td>\n      <td>155.0</td>\n      <td>0.000000</td>\n      <td>0.0</td>\n      <td>155.0</td>\n      <td>0.000000</td>\n      <td>0.0</td>\n      <td>155.0</td>\n      <td>0.000000</td>\n      <td>0.0</td>\n      <td>155.0</td>\n      <td>0.000000</td>\n      <td>0.0</td>\n      <td>155.0</td>\n      <td>0.000000</td>\n      <td>0.0</td>\n      <td>155.0</td>\n      <td>0.000000</td>\n      <td>0.0</td>\n      <td>155.0</td>\n      <td>0.000000</td>\n      <td>0.0</td>\n      <td>155.0</td>\n      <td>0.000000</td>\n      <td>0.0</td>\n      <td>155.0</td>\n      <td>0.000000</td>\n      <td>0.0</td>\n      <td>155.0</td>\n      <td>0.000000</td>\n      <td>0.0</td>\n      <td>155.0</td>\n      <td>0.000000</td>\n      <td>0.0</td>\n      <td>155.0</td>\n      <td>0.000000</td>\n      <td>0.0</td>\n      <td>155.0</td>\n      <td>0.000000</td>\n      <td>0.0</td>\n      <td>155.0</td>\n      <td>0.000000</td>\n      <td>16.0</td>\n      <td>155.0</td>\n      <td>10.322581</td>\n      <td>16.0</td>\n      <td>155.0</td>\n      <td>10.322581</td>\n      <td>16.0</td>\n      <td>155.0</td>\n      <td>10.322581</td>\n      <td>16.0</td>\n      <td>155.0</td>\n      <td>10.322581</td>\n      <td>7.0</td>\n      <td>155.0</td>\n      <td>4.516129</td>\n      <td>7.0</td>\n      <td>155.0</td>\n      <td>4.516129</td>\n      <td>7.0</td>\n      <td>155.0</td>\n      <td>4.516129</td>\n      <td>7.0</td>\n      <td>155.0</td>\n      <td>4.516129</td>\n      <td>7.0</td>\n      <td>155.0</td>\n      <td>4.516129</td>\n      <td>7.0</td>\n      <td>155.0</td>\n      <td>4.516129</td>\n      <td>7.0</td>\n      <td>155.0</td>\n      <td>4.516129</td>\n      <td>1.0</td>\n      <td>155.0</td>\n      <td>0.645161</td>\n      <td>2.626728</td>\n      <td>41.0</td>\n    </tr>\n  </tbody>\n</table>\n</div>"
     },
     "metadata": {},
     "execution_count": 20
    }
   ],
   "source": [
    "count_nan_by_key[(count_nan_by_key[('Total', 'Percent')] < 10) &\\\n",
    "                 (count_nan_by_key[('Total', 'Crisis')] > 5)]"
   ]
  },
  {
   "cell_type": "code",
   "execution_count": 21,
   "metadata": {},
   "outputs": [],
   "source": [
    "key_to_loop_over = count_nan_by_key[(count_nan_by_key[('Total', 'Percent')] < 10) &\\\n",
    "                                    (count_nan_by_key[('Total', 'Crisis')] > 5)].index.tolist()"
   ]
  },
  {
   "cell_type": "code",
   "execution_count": 22,
   "metadata": {},
   "outputs": [],
   "source": [
    "xqrs_filtered = xqrs[xqrs.Key.isin(key_to_loop_over)]"
   ]
  },
  {
   "cell_type": "code",
   "execution_count": 23,
   "metadata": {},
   "outputs": [],
   "source": [
    "xqrs_filtered = xqrs_filtered.replace([np.inf, -np.inf], np.nan)"
   ]
  },
  {
   "cell_type": "code",
   "execution_count": 24,
   "metadata": {},
   "outputs": [],
   "source": [
    "xqrs_clean_imputed = xqrs_filtered.groupby(xqrs_filtered['Key']).transform(lambda x: x.fillna(x.mean()))\n",
    "xqrs_clean_imputed.insert(0, 'Key', xqrs_filtered.Key)\n",
    "xqrs_clean_imputed = xqrs_clean_imputed.reset_index().drop(['index'], axis=1)"
   ]
  },
  {
   "cell_type": "code",
   "execution_count": 25,
   "metadata": {},
   "outputs": [],
   "source": [
    "xqrs_clean_imputed.label = xqrs_clean_imputed.label.apply(lambda x: 1 if x != 0 else 0)"
   ]
  },
  {
   "cell_type": "code",
   "execution_count": 26,
   "metadata": {},
   "outputs": [
    {
     "output_type": "execute_result",
     "data": {
      "text/plain": "                            Key    mean_nni      sdnn      sdsd  nni_50  \\\n0  dev_01_tcp_ar_9578_s029_t003  606.689453  8.989327  9.229190     0.0   \n1  dev_01_tcp_ar_9578_s029_t003  602.481618  2.196468  1.953125     0.0   \n2  dev_01_tcp_ar_9578_s029_t003  600.585938  1.746928  1.426361     0.0   \n3  dev_01_tcp_ar_9578_s029_t003  593.979779  8.340391  8.621310     0.0   \n4  dev_01_tcp_ar_9578_s029_t003  602.022059  2.344707  1.673744     0.0   \n\n   pnni_50  nni_20   pnni_20     rmssd  median_nni  range_nni      cvsd  \\\n0      0.0     1.0  6.250000  9.461407   609.37500   39.06250  0.015595   \n1      0.0     0.0  0.000000  1.953125   601.56250    7.81250  0.003242   \n2      0.0     0.0  0.000000  1.426361   601.56250    3.90625  0.002375   \n3      0.0     1.0  5.882353  8.896908   597.65625   35.15625  0.014978   \n4      0.0     0.0  0.000000  1.691456   601.56250    7.81250  0.002810   \n\n      cvnni     mean_hr      max_hr      min_hr    std_hr        lf        hf  \\\n0  0.014817   98.918721  104.489796   97.834395  1.487371  8.662324  1.903058   \n1  0.003646   99.589346  100.392157   99.096774  0.352150  8.662324  1.903058   \n2  0.002909   99.903234  100.392157   99.740260  0.282280  8.662324  1.903058   \n3  0.014042  101.033206  106.666667  100.392157  1.443790  8.662324  1.903058   \n4  0.003895   99.665545  100.392157   99.096774  0.376621  8.662324  1.903058   \n\n        vlf  lf_hf_ratio       csi       cvi  Modified_csi    sampen  \\\n0  5.258661     4.740258  3.435316  2.331578     93.328734  0.465134   \n1  5.258661     4.740258  3.435316  2.331578     93.328734  0.465134   \n2  5.258661     4.740258  3.435316  2.331578     93.328734  0.465134   \n3  5.258661     4.740258  3.435316  2.331578     93.328734  0.465134   \n4  5.258661     4.740258  3.435316  2.331578     93.328734  0.465134   \n\n        sd1       sd2  ratio_sd2_sd1  label  \n0  2.231727  6.831398       3.435316      0  \n1  2.231727  6.831398       3.435316      0  \n2  2.231727  6.831398       3.435316      0  \n3  2.231727  6.831398       3.435316      0  \n4  2.231727  6.831398       3.435316      0  ",
      "text/html": "<div>\n<style scoped>\n    .dataframe tbody tr th:only-of-type {\n        vertical-align: middle;\n    }\n\n    .dataframe tbody tr th {\n        vertical-align: top;\n    }\n\n    .dataframe thead th {\n        text-align: right;\n    }\n</style>\n<table border=\"1\" class=\"dataframe\">\n  <thead>\n    <tr style=\"text-align: right;\">\n      <th></th>\n      <th>Key</th>\n      <th>mean_nni</th>\n      <th>sdnn</th>\n      <th>sdsd</th>\n      <th>nni_50</th>\n      <th>pnni_50</th>\n      <th>nni_20</th>\n      <th>pnni_20</th>\n      <th>rmssd</th>\n      <th>median_nni</th>\n      <th>range_nni</th>\n      <th>cvsd</th>\n      <th>cvnni</th>\n      <th>mean_hr</th>\n      <th>max_hr</th>\n      <th>min_hr</th>\n      <th>std_hr</th>\n      <th>lf</th>\n      <th>hf</th>\n      <th>vlf</th>\n      <th>lf_hf_ratio</th>\n      <th>csi</th>\n      <th>cvi</th>\n      <th>Modified_csi</th>\n      <th>sampen</th>\n      <th>sd1</th>\n      <th>sd2</th>\n      <th>ratio_sd2_sd1</th>\n      <th>label</th>\n    </tr>\n  </thead>\n  <tbody>\n    <tr>\n      <th>0</th>\n      <td>dev_01_tcp_ar_9578_s029_t003</td>\n      <td>606.689453</td>\n      <td>8.989327</td>\n      <td>9.229190</td>\n      <td>0.0</td>\n      <td>0.0</td>\n      <td>1.0</td>\n      <td>6.250000</td>\n      <td>9.461407</td>\n      <td>609.37500</td>\n      <td>39.06250</td>\n      <td>0.015595</td>\n      <td>0.014817</td>\n      <td>98.918721</td>\n      <td>104.489796</td>\n      <td>97.834395</td>\n      <td>1.487371</td>\n      <td>8.662324</td>\n      <td>1.903058</td>\n      <td>5.258661</td>\n      <td>4.740258</td>\n      <td>3.435316</td>\n      <td>2.331578</td>\n      <td>93.328734</td>\n      <td>0.465134</td>\n      <td>2.231727</td>\n      <td>6.831398</td>\n      <td>3.435316</td>\n      <td>0</td>\n    </tr>\n    <tr>\n      <th>1</th>\n      <td>dev_01_tcp_ar_9578_s029_t003</td>\n      <td>602.481618</td>\n      <td>2.196468</td>\n      <td>1.953125</td>\n      <td>0.0</td>\n      <td>0.0</td>\n      <td>0.0</td>\n      <td>0.000000</td>\n      <td>1.953125</td>\n      <td>601.56250</td>\n      <td>7.81250</td>\n      <td>0.003242</td>\n      <td>0.003646</td>\n      <td>99.589346</td>\n      <td>100.392157</td>\n      <td>99.096774</td>\n      <td>0.352150</td>\n      <td>8.662324</td>\n      <td>1.903058</td>\n      <td>5.258661</td>\n      <td>4.740258</td>\n      <td>3.435316</td>\n      <td>2.331578</td>\n      <td>93.328734</td>\n      <td>0.465134</td>\n      <td>2.231727</td>\n      <td>6.831398</td>\n      <td>3.435316</td>\n      <td>0</td>\n    </tr>\n    <tr>\n      <th>2</th>\n      <td>dev_01_tcp_ar_9578_s029_t003</td>\n      <td>600.585938</td>\n      <td>1.746928</td>\n      <td>1.426361</td>\n      <td>0.0</td>\n      <td>0.0</td>\n      <td>0.0</td>\n      <td>0.000000</td>\n      <td>1.426361</td>\n      <td>601.56250</td>\n      <td>3.90625</td>\n      <td>0.002375</td>\n      <td>0.002909</td>\n      <td>99.903234</td>\n      <td>100.392157</td>\n      <td>99.740260</td>\n      <td>0.282280</td>\n      <td>8.662324</td>\n      <td>1.903058</td>\n      <td>5.258661</td>\n      <td>4.740258</td>\n      <td>3.435316</td>\n      <td>2.331578</td>\n      <td>93.328734</td>\n      <td>0.465134</td>\n      <td>2.231727</td>\n      <td>6.831398</td>\n      <td>3.435316</td>\n      <td>0</td>\n    </tr>\n    <tr>\n      <th>3</th>\n      <td>dev_01_tcp_ar_9578_s029_t003</td>\n      <td>593.979779</td>\n      <td>8.340391</td>\n      <td>8.621310</td>\n      <td>0.0</td>\n      <td>0.0</td>\n      <td>1.0</td>\n      <td>5.882353</td>\n      <td>8.896908</td>\n      <td>597.65625</td>\n      <td>35.15625</td>\n      <td>0.014978</td>\n      <td>0.014042</td>\n      <td>101.033206</td>\n      <td>106.666667</td>\n      <td>100.392157</td>\n      <td>1.443790</td>\n      <td>8.662324</td>\n      <td>1.903058</td>\n      <td>5.258661</td>\n      <td>4.740258</td>\n      <td>3.435316</td>\n      <td>2.331578</td>\n      <td>93.328734</td>\n      <td>0.465134</td>\n      <td>2.231727</td>\n      <td>6.831398</td>\n      <td>3.435316</td>\n      <td>0</td>\n    </tr>\n    <tr>\n      <th>4</th>\n      <td>dev_01_tcp_ar_9578_s029_t003</td>\n      <td>602.022059</td>\n      <td>2.344707</td>\n      <td>1.673744</td>\n      <td>0.0</td>\n      <td>0.0</td>\n      <td>0.0</td>\n      <td>0.000000</td>\n      <td>1.691456</td>\n      <td>601.56250</td>\n      <td>7.81250</td>\n      <td>0.002810</td>\n      <td>0.003895</td>\n      <td>99.665545</td>\n      <td>100.392157</td>\n      <td>99.096774</td>\n      <td>0.376621</td>\n      <td>8.662324</td>\n      <td>1.903058</td>\n      <td>5.258661</td>\n      <td>4.740258</td>\n      <td>3.435316</td>\n      <td>2.331578</td>\n      <td>93.328734</td>\n      <td>0.465134</td>\n      <td>2.231727</td>\n      <td>6.831398</td>\n      <td>3.435316</td>\n      <td>0</td>\n    </tr>\n  </tbody>\n</table>\n</div>"
     },
     "metadata": {},
     "execution_count": 26
    }
   ],
   "source": [
    "xqrs_clean_imputed.head()"
   ]
  },
  {
   "cell_type": "code",
   "execution_count": 27,
   "metadata": {},
   "outputs": [
    {
     "output_type": "execute_result",
     "data": {
      "text/plain": "(2643, 29)"
     },
     "metadata": {},
     "execution_count": 27
    }
   ],
   "source": [
    "xqrs_clean_imputed.shape"
   ]
  },
  {
   "cell_type": "markdown",
   "metadata": {},
   "source": [
    "** Full dataset**"
   ]
  },
  {
   "cell_type": "code",
   "execution_count": 75,
   "metadata": {},
   "outputs": [],
   "source": [
    "long_exam_key = count_nan_by_key[count_nan_by_key[('label', 'total')] > 60].sort_values(('Total', 'Percent'), ascending=False).index.tolist()"
   ]
  },
  {
   "cell_type": "code",
   "execution_count": 76,
   "metadata": {},
   "outputs": [],
   "source": [
    "xqrs_full = xqrs[xqrs.Key.isin(long_exam_key)]"
   ]
  },
  {
   "cell_type": "code",
   "execution_count": 77,
   "metadata": {},
   "outputs": [],
   "source": [
    "xqrs_full = xqrs_full.replace([np.inf, -np.inf], np.nan)"
   ]
  },
  {
   "cell_type": "code",
   "execution_count": 78,
   "metadata": {},
   "outputs": [
    {
     "output_type": "execute_result",
     "data": {
      "text/plain": "Key                 0\nmean_nni           35\nsdnn               95\nsdsd               95\nnni_50             24\npnni_50            24\nnni_20             24\npnni_20            24\nrmssd              95\nmedian_nni         35\nrange_nni          24\ncvsd              107\ncvnni             107\nmean_hr           107\nmax_hr             96\nmin_hr             96\nstd_hr            107\nlf               1781\nhf               1781\nvlf              1781\nlf_hf_ratio      1781\ncsi               783\ncvi               783\nModified_csi      783\nsampen            784\nsd1               783\nsd2               783\nratio_sd2_sd1     783\nlabel             104\ndtype: int64"
     },
     "metadata": {},
     "execution_count": 78
    }
   ],
   "source": [
    "xqrs_full.isnull().sum()"
   ]
  },
  {
   "cell_type": "code",
   "execution_count": 79,
   "metadata": {},
   "outputs": [
    {
     "output_type": "execute_result",
     "data": {
      "text/plain": "(8674, 29)"
     },
     "metadata": {},
     "execution_count": 79
    }
   ],
   "source": [
    "xqrs_full.shape"
   ]
  },
  {
   "cell_type": "code",
   "execution_count": 80,
   "metadata": {},
   "outputs": [],
   "source": [
    "xqrs_full_clean = xqrs_full.groupby(xqrs_full['Key']).transform(lambda x: x.fillna(x.mean()))"
   ]
  },
  {
   "cell_type": "code",
   "execution_count": 81,
   "metadata": {},
   "outputs": [
    {
     "output_type": "execute_result",
     "data": {
      "text/plain": "mean_nni         0\nsdnn             0\nsdsd             0\nnni_50           0\npnni_50          0\nnni_20           0\npnni_20          0\nrmssd            0\nmedian_nni       0\nrange_nni        0\ncvsd             0\ncvnni            0\nmean_hr          0\nmax_hr           0\nmin_hr           0\nstd_hr           0\nlf               0\nhf               0\nvlf              0\nlf_hf_ratio      0\ncsi              0\ncvi              0\nModified_csi     0\nsampen           0\nsd1              0\nsd2              0\nratio_sd2_sd1    0\nlabel            0\ndtype: int64"
     },
     "metadata": {},
     "execution_count": 81
    }
   ],
   "source": [
    "xqrs_full_clean.isnull().sum()"
   ]
  },
  {
   "cell_type": "code",
   "execution_count": 82,
   "metadata": {},
   "outputs": [],
   "source": [
    "xqrs_full_clean.insert(0, 'Key', xqrs_full.Key)\n",
    "xqrs_full_clean = xqrs_full_clean.reset_index().drop(['index'], axis=1)"
   ]
  },
  {
   "cell_type": "code",
   "execution_count": 83,
   "metadata": {},
   "outputs": [],
   "source": [
    "xqrs_full_clean.label = xqrs_full_clean.label.apply(lambda x: 1 if x != 0 else 0)"
   ]
  },
  {
   "cell_type": "code",
   "execution_count": 84,
   "metadata": {},
   "outputs": [
    {
     "output_type": "execute_result",
     "data": {
      "text/plain": "                               Key    mean_nni       sdnn       sdsd  nni_50  \\\n0     dev_01_tcp_ar_9578_s029_t003  606.689453   8.989327   9.229190     0.0   \n1     dev_01_tcp_ar_9578_s029_t003  602.481618   2.196468   1.953125     0.0   \n2     dev_01_tcp_ar_9578_s029_t003  600.585938   1.746928   1.426361     0.0   \n3     dev_01_tcp_ar_9578_s029_t003  593.979779   8.340391   8.621310     0.0   \n4     dev_01_tcp_ar_9578_s029_t003  602.022059   2.344707   1.673744     0.0   \n...                            ...         ...        ...        ...     ...   \n8669  dev_01_tcp_ar_9578_s008_t010  655.729167  16.629714   4.533504     0.0   \n8670  dev_01_tcp_ar_9578_s008_t010  683.593750  22.097087  13.255551     0.0   \n8671  dev_01_tcp_ar_9578_s008_t010  664.583333  30.717657   8.333250     0.0   \n8672  dev_01_tcp_ar_9578_s008_t010  667.187500   7.978154   5.670313     0.0   \n8673  dev_01_tcp_ar_9578_s008_t010    0.000000  12.887065   5.249207     0.0   \n\n      pnni_50  nni_20    pnni_20      rmssd  median_nni  range_nni      cvsd  \\\n0         0.0     1.0   6.250000   9.461407   609.37500   39.06250  0.015595   \n1         0.0     0.0   0.000000   1.953125   601.56250    7.81250  0.003242   \n2         0.0     0.0   0.000000   1.426361   601.56250    3.90625  0.002375   \n3         0.0     1.0   5.882353   8.896908   597.65625   35.15625  0.014978   \n4         0.0     0.0   0.000000   1.691456   601.56250    7.81250  0.002810   \n...       ...     ...        ...        ...         ...        ...       ...   \n8669      0.0     0.0   0.000000   5.323321   667.96875   42.96875  0.008118   \n8670      0.0     2.0  13.333333  13.328762   683.59375   70.31250  0.019498   \n8671      0.0     1.0   6.666667   9.453725   656.25000   74.21875  0.014225   \n8672      0.0     0.0   0.000000   5.997262   671.87500   31.25000  0.008989   \n8673      0.0     0.0   0.000000   5.588624     0.00000    0.00000  0.008712   \n\n         cvnni     mean_hr      max_hr      min_hr    std_hr          lf  \\\n0     0.014817   98.918721  104.489796   97.834395  1.487371    8.662324   \n1     0.003646   99.589346  100.392157   99.096774  0.352150    8.662324   \n2     0.002909   99.903234  100.392157   99.740260  0.282280    8.662324   \n3     0.014042  101.033206  106.666667  100.392157  1.443790    8.662324   \n4     0.003895   99.665545  100.392157   99.096774  0.376621    8.662324   \n...        ...         ...         ...         ...       ...         ...   \n8669  0.025361   91.557015   95.403727   89.302326  2.278697  607.854756   \n8670  0.032325   87.857673   93.658537   84.395604  2.763137  454.388781   \n8671  0.046221   90.461741   94.814815   84.861878  4.022983  468.929104   \n8672  0.011958   89.941989   93.090909   88.786127  1.060190  324.935605   \n8673  0.020202   94.354762   97.276048   91.979530  1.847181  383.619966   \n\n             hf         vlf  lf_hf_ratio       csi       cvi  Modified_csi  \\\n0      1.903058    5.258661     4.740258  3.435316  2.331578     93.328734   \n1      1.903058    5.258661     4.740258  3.435316  2.331578     93.328734   \n2      1.903058    5.258661     4.740258  3.435316  2.331578     93.328734   \n3      1.903058    5.258661     4.740258  3.435316  2.331578     93.328734   \n4      1.903058    5.258661     4.740258  3.435316  2.331578     93.328734   \n...         ...         ...          ...       ...       ...           ...   \n8669  21.974399  161.036013    27.661951  7.167446  3.592930   1200.913889   \n8670  21.902793  121.948055    20.745700  7.247390  3.557202   1171.854139   \n8671  25.032300  139.443129    18.732961  5.913668  3.541523    848.295066   \n8672  26.313876  103.696674    12.348451  6.380041  3.587073   1001.777944   \n8673  22.084697   51.451730    17.370397  4.530029  3.464368    520.397482   \n\n        sampen       sd1        sd2  ratio_sd2_sd1  label  \n0     0.465134  2.231727   6.831398       3.435316      0  \n1     0.465134  2.231727   6.831398       3.435316      0  \n2     0.465134  2.231727   6.831398       3.435316      0  \n3     0.465134  2.231727   6.831398       3.435316      0  \n4     0.465134  2.231727   6.831398       3.435316      0  \n...        ...       ...        ...            ...    ...  \n8669  0.657429  5.844172  41.887789       7.167446      0  \n8670  0.662240  5.577638  40.423316       7.247390      0  \n8671  0.689040  6.064194  35.861628       5.913668      0  \n8672  0.702903  6.152683  39.254371       6.380041      0  \n8673  0.576325  6.339767  28.719327       4.530029      0  \n\n[8674 rows x 29 columns]",
      "text/html": "<div>\n<style scoped>\n    .dataframe tbody tr th:only-of-type {\n        vertical-align: middle;\n    }\n\n    .dataframe tbody tr th {\n        vertical-align: top;\n    }\n\n    .dataframe thead th {\n        text-align: right;\n    }\n</style>\n<table border=\"1\" class=\"dataframe\">\n  <thead>\n    <tr style=\"text-align: right;\">\n      <th></th>\n      <th>Key</th>\n      <th>mean_nni</th>\n      <th>sdnn</th>\n      <th>sdsd</th>\n      <th>nni_50</th>\n      <th>pnni_50</th>\n      <th>nni_20</th>\n      <th>pnni_20</th>\n      <th>rmssd</th>\n      <th>median_nni</th>\n      <th>range_nni</th>\n      <th>cvsd</th>\n      <th>cvnni</th>\n      <th>mean_hr</th>\n      <th>max_hr</th>\n      <th>min_hr</th>\n      <th>std_hr</th>\n      <th>lf</th>\n      <th>hf</th>\n      <th>vlf</th>\n      <th>lf_hf_ratio</th>\n      <th>csi</th>\n      <th>cvi</th>\n      <th>Modified_csi</th>\n      <th>sampen</th>\n      <th>sd1</th>\n      <th>sd2</th>\n      <th>ratio_sd2_sd1</th>\n      <th>label</th>\n    </tr>\n  </thead>\n  <tbody>\n    <tr>\n      <th>0</th>\n      <td>dev_01_tcp_ar_9578_s029_t003</td>\n      <td>606.689453</td>\n      <td>8.989327</td>\n      <td>9.229190</td>\n      <td>0.0</td>\n      <td>0.0</td>\n      <td>1.0</td>\n      <td>6.250000</td>\n      <td>9.461407</td>\n      <td>609.37500</td>\n      <td>39.06250</td>\n      <td>0.015595</td>\n      <td>0.014817</td>\n      <td>98.918721</td>\n      <td>104.489796</td>\n      <td>97.834395</td>\n      <td>1.487371</td>\n      <td>8.662324</td>\n      <td>1.903058</td>\n      <td>5.258661</td>\n      <td>4.740258</td>\n      <td>3.435316</td>\n      <td>2.331578</td>\n      <td>93.328734</td>\n      <td>0.465134</td>\n      <td>2.231727</td>\n      <td>6.831398</td>\n      <td>3.435316</td>\n      <td>0</td>\n    </tr>\n    <tr>\n      <th>1</th>\n      <td>dev_01_tcp_ar_9578_s029_t003</td>\n      <td>602.481618</td>\n      <td>2.196468</td>\n      <td>1.953125</td>\n      <td>0.0</td>\n      <td>0.0</td>\n      <td>0.0</td>\n      <td>0.000000</td>\n      <td>1.953125</td>\n      <td>601.56250</td>\n      <td>7.81250</td>\n      <td>0.003242</td>\n      <td>0.003646</td>\n      <td>99.589346</td>\n      <td>100.392157</td>\n      <td>99.096774</td>\n      <td>0.352150</td>\n      <td>8.662324</td>\n      <td>1.903058</td>\n      <td>5.258661</td>\n      <td>4.740258</td>\n      <td>3.435316</td>\n      <td>2.331578</td>\n      <td>93.328734</td>\n      <td>0.465134</td>\n      <td>2.231727</td>\n      <td>6.831398</td>\n      <td>3.435316</td>\n      <td>0</td>\n    </tr>\n    <tr>\n      <th>2</th>\n      <td>dev_01_tcp_ar_9578_s029_t003</td>\n      <td>600.585938</td>\n      <td>1.746928</td>\n      <td>1.426361</td>\n      <td>0.0</td>\n      <td>0.0</td>\n      <td>0.0</td>\n      <td>0.000000</td>\n      <td>1.426361</td>\n      <td>601.56250</td>\n      <td>3.90625</td>\n      <td>0.002375</td>\n      <td>0.002909</td>\n      <td>99.903234</td>\n      <td>100.392157</td>\n      <td>99.740260</td>\n      <td>0.282280</td>\n      <td>8.662324</td>\n      <td>1.903058</td>\n      <td>5.258661</td>\n      <td>4.740258</td>\n      <td>3.435316</td>\n      <td>2.331578</td>\n      <td>93.328734</td>\n      <td>0.465134</td>\n      <td>2.231727</td>\n      <td>6.831398</td>\n      <td>3.435316</td>\n      <td>0</td>\n    </tr>\n    <tr>\n      <th>3</th>\n      <td>dev_01_tcp_ar_9578_s029_t003</td>\n      <td>593.979779</td>\n      <td>8.340391</td>\n      <td>8.621310</td>\n      <td>0.0</td>\n      <td>0.0</td>\n      <td>1.0</td>\n      <td>5.882353</td>\n      <td>8.896908</td>\n      <td>597.65625</td>\n      <td>35.15625</td>\n      <td>0.014978</td>\n      <td>0.014042</td>\n      <td>101.033206</td>\n      <td>106.666667</td>\n      <td>100.392157</td>\n      <td>1.443790</td>\n      <td>8.662324</td>\n      <td>1.903058</td>\n      <td>5.258661</td>\n      <td>4.740258</td>\n      <td>3.435316</td>\n      <td>2.331578</td>\n      <td>93.328734</td>\n      <td>0.465134</td>\n      <td>2.231727</td>\n      <td>6.831398</td>\n      <td>3.435316</td>\n      <td>0</td>\n    </tr>\n    <tr>\n      <th>4</th>\n      <td>dev_01_tcp_ar_9578_s029_t003</td>\n      <td>602.022059</td>\n      <td>2.344707</td>\n      <td>1.673744</td>\n      <td>0.0</td>\n      <td>0.0</td>\n      <td>0.0</td>\n      <td>0.000000</td>\n      <td>1.691456</td>\n      <td>601.56250</td>\n      <td>7.81250</td>\n      <td>0.002810</td>\n      <td>0.003895</td>\n      <td>99.665545</td>\n      <td>100.392157</td>\n      <td>99.096774</td>\n      <td>0.376621</td>\n      <td>8.662324</td>\n      <td>1.903058</td>\n      <td>5.258661</td>\n      <td>4.740258</td>\n      <td>3.435316</td>\n      <td>2.331578</td>\n      <td>93.328734</td>\n      <td>0.465134</td>\n      <td>2.231727</td>\n      <td>6.831398</td>\n      <td>3.435316</td>\n      <td>0</td>\n    </tr>\n    <tr>\n      <th>...</th>\n      <td>...</td>\n      <td>...</td>\n      <td>...</td>\n      <td>...</td>\n      <td>...</td>\n      <td>...</td>\n      <td>...</td>\n      <td>...</td>\n      <td>...</td>\n      <td>...</td>\n      <td>...</td>\n      <td>...</td>\n      <td>...</td>\n      <td>...</td>\n      <td>...</td>\n      <td>...</td>\n      <td>...</td>\n      <td>...</td>\n      <td>...</td>\n      <td>...</td>\n      <td>...</td>\n      <td>...</td>\n      <td>...</td>\n      <td>...</td>\n      <td>...</td>\n      <td>...</td>\n      <td>...</td>\n      <td>...</td>\n      <td>...</td>\n    </tr>\n    <tr>\n      <th>8669</th>\n      <td>dev_01_tcp_ar_9578_s008_t010</td>\n      <td>655.729167</td>\n      <td>16.629714</td>\n      <td>4.533504</td>\n      <td>0.0</td>\n      <td>0.0</td>\n      <td>0.0</td>\n      <td>0.000000</td>\n      <td>5.323321</td>\n      <td>667.96875</td>\n      <td>42.96875</td>\n      <td>0.008118</td>\n      <td>0.025361</td>\n      <td>91.557015</td>\n      <td>95.403727</td>\n      <td>89.302326</td>\n      <td>2.278697</td>\n      <td>607.854756</td>\n      <td>21.974399</td>\n      <td>161.036013</td>\n      <td>27.661951</td>\n      <td>7.167446</td>\n      <td>3.592930</td>\n      <td>1200.913889</td>\n      <td>0.657429</td>\n      <td>5.844172</td>\n      <td>41.887789</td>\n      <td>7.167446</td>\n      <td>0</td>\n    </tr>\n    <tr>\n      <th>8670</th>\n      <td>dev_01_tcp_ar_9578_s008_t010</td>\n      <td>683.593750</td>\n      <td>22.097087</td>\n      <td>13.255551</td>\n      <td>0.0</td>\n      <td>0.0</td>\n      <td>2.0</td>\n      <td>13.333333</td>\n      <td>13.328762</td>\n      <td>683.59375</td>\n      <td>70.31250</td>\n      <td>0.019498</td>\n      <td>0.032325</td>\n      <td>87.857673</td>\n      <td>93.658537</td>\n      <td>84.395604</td>\n      <td>2.763137</td>\n      <td>454.388781</td>\n      <td>21.902793</td>\n      <td>121.948055</td>\n      <td>20.745700</td>\n      <td>7.247390</td>\n      <td>3.557202</td>\n      <td>1171.854139</td>\n      <td>0.662240</td>\n      <td>5.577638</td>\n      <td>40.423316</td>\n      <td>7.247390</td>\n      <td>0</td>\n    </tr>\n    <tr>\n      <th>8671</th>\n      <td>dev_01_tcp_ar_9578_s008_t010</td>\n      <td>664.583333</td>\n      <td>30.717657</td>\n      <td>8.333250</td>\n      <td>0.0</td>\n      <td>0.0</td>\n      <td>1.0</td>\n      <td>6.666667</td>\n      <td>9.453725</td>\n      <td>656.25000</td>\n      <td>74.21875</td>\n      <td>0.014225</td>\n      <td>0.046221</td>\n      <td>90.461741</td>\n      <td>94.814815</td>\n      <td>84.861878</td>\n      <td>4.022983</td>\n      <td>468.929104</td>\n      <td>25.032300</td>\n      <td>139.443129</td>\n      <td>18.732961</td>\n      <td>5.913668</td>\n      <td>3.541523</td>\n      <td>848.295066</td>\n      <td>0.689040</td>\n      <td>6.064194</td>\n      <td>35.861628</td>\n      <td>5.913668</td>\n      <td>0</td>\n    </tr>\n    <tr>\n      <th>8672</th>\n      <td>dev_01_tcp_ar_9578_s008_t010</td>\n      <td>667.187500</td>\n      <td>7.978154</td>\n      <td>5.670313</td>\n      <td>0.0</td>\n      <td>0.0</td>\n      <td>0.0</td>\n      <td>0.000000</td>\n      <td>5.997262</td>\n      <td>671.87500</td>\n      <td>31.25000</td>\n      <td>0.008989</td>\n      <td>0.011958</td>\n      <td>89.941989</td>\n      <td>93.090909</td>\n      <td>88.786127</td>\n      <td>1.060190</td>\n      <td>324.935605</td>\n      <td>26.313876</td>\n      <td>103.696674</td>\n      <td>12.348451</td>\n      <td>6.380041</td>\n      <td>3.587073</td>\n      <td>1001.777944</td>\n      <td>0.702903</td>\n      <td>6.152683</td>\n      <td>39.254371</td>\n      <td>6.380041</td>\n      <td>0</td>\n    </tr>\n    <tr>\n      <th>8673</th>\n      <td>dev_01_tcp_ar_9578_s008_t010</td>\n      <td>0.000000</td>\n      <td>12.887065</td>\n      <td>5.249207</td>\n      <td>0.0</td>\n      <td>0.0</td>\n      <td>0.0</td>\n      <td>0.000000</td>\n      <td>5.588624</td>\n      <td>0.00000</td>\n      <td>0.00000</td>\n      <td>0.008712</td>\n      <td>0.020202</td>\n      <td>94.354762</td>\n      <td>97.276048</td>\n      <td>91.979530</td>\n      <td>1.847181</td>\n      <td>383.619966</td>\n      <td>22.084697</td>\n      <td>51.451730</td>\n      <td>17.370397</td>\n      <td>4.530029</td>\n      <td>3.464368</td>\n      <td>520.397482</td>\n      <td>0.576325</td>\n      <td>6.339767</td>\n      <td>28.719327</td>\n      <td>4.530029</td>\n      <td>0</td>\n    </tr>\n  </tbody>\n</table>\n<p>8674 rows × 29 columns</p>\n</div>"
     },
     "metadata": {},
     "execution_count": 84
    }
   ],
   "source": [
    "xqrs_full_clean"
   ]
  },
  {
   "cell_type": "code",
   "execution_count": 85,
   "metadata": {},
   "outputs": [
    {
     "output_type": "execute_result",
     "data": {
      "text/plain": "0    7357\n1    1317\nName: label, dtype: int64"
     },
     "metadata": {},
     "execution_count": 85
    }
   ],
   "source": [
    "xqrs_full_clean.label.value_counts()"
   ]
  },
  {
   "cell_type": "markdown",
   "metadata": {},
   "source": [
    "# Time to do ml"
   ]
  },
  {
   "cell_type": "markdown",
   "metadata": {},
   "source": [
    "## DecisionTree"
   ]
  },
  {
   "cell_type": "markdown",
   "metadata": {},
   "source": [
    "### Full features, no lag"
   ]
  },
  {
   "cell_type": "code",
   "execution_count": 28,
   "metadata": {},
   "outputs": [],
   "source": [
    "from sklearn.tree import DecisionTreeClassifier"
   ]
  },
  {
   "cell_type": "code",
   "execution_count": 29,
   "metadata": {},
   "outputs": [],
   "source": [
    "from functions import simple_ml"
   ]
  },
  {
   "cell_type": "code",
   "execution_count": 30,
   "metadata": {},
   "outputs": [],
   "source": [
    "score, tree = simple_ml(xqrs_clean_imputed, DecisionTreeClassifier())"
   ]
  },
  {
   "cell_type": "code",
   "execution_count": 31,
   "metadata": {},
   "outputs": [
    {
     "output_type": "execute_result",
     "data": {
      "text/plain": "{'accuracy train': 0.9995269631031221,\n 'accuracy test': 0.6975425330812854,\n 'f1_score train': 0.9995249406175772,\n 'f1_score test': 0.700374531835206,\n 'cm train': array([[1061,    0],\n        [   1, 1052]]),\n 'cm test': array([[182,  83],\n        [ 77, 187]]),\n 'sensitivity train': 0.9990503323836657,\n 'sensitivity test': 0.7083333333333334,\n 'specificity train': 1.0,\n 'specificity test': 0.6867924528301886}"
     },
     "metadata": {},
     "execution_count": 31
    }
   ],
   "source": [
    "score"
   ]
  },
  {
   "cell_type": "markdown",
   "metadata": {},
   "source": [
    "**Full dataset**"
   ]
  },
  {
   "cell_type": "code",
   "execution_count": 86,
   "metadata": {},
   "outputs": [],
   "source": [
    "score, tree = simple_ml(xqrs_full_clean, DecisionTreeClassifier())"
   ]
  },
  {
   "cell_type": "code",
   "execution_count": 87,
   "metadata": {},
   "outputs": [
    {
     "output_type": "execute_result",
     "data": {
      "text/plain": "{'accuracy train': 1.0,\n 'accuracy test': 0.869164265129683,\n 'f1_score train': 1.0,\n 'f1_score test': 0.5819521178637201,\n 'cm train': array([[5885,    0],\n        [   0, 1054]]),\n 'cm test': array([[1350,  122],\n        [ 105,  158]]),\n 'sensitivity train': 1.0,\n 'sensitivity test': 0.6007604562737643,\n 'specificity train': 1.0,\n 'specificity test': 0.9171195652173914}"
     },
     "metadata": {},
     "execution_count": 87
    }
   ],
   "source": [
    "score"
   ]
  },
  {
   "cell_type": "markdown",
   "metadata": {},
   "source": [
    "### Features Importances"
   ]
  },
  {
   "cell_type": "code",
   "execution_count": 42,
   "metadata": {},
   "outputs": [],
   "source": [
    "dic_feats_imp = dict(zip(xqrs_clean_imputed.iloc[:,1:-1].columns, tree.steps[1][1].feature_importances_))"
   ]
  },
  {
   "cell_type": "code",
   "execution_count": 43,
   "metadata": {},
   "outputs": [
    {
     "output_type": "execute_result",
     "data": {
      "text/plain": "               Importance\nvlf              0.142240\nlf               0.084789\nsd1              0.077943\nModified_csi     0.076261\nhf               0.072054\nlf_hf_ratio      0.070507\nsampen           0.058979\nratio_sd2_sd1    0.048606\nstd_hr           0.043325\nmean_hr          0.039728\nsdsd             0.035795\nmax_hr           0.034589\ncsi              0.029455\ncvnni            0.029328\ncvi              0.025093\nsdnn             0.023032\nsd2              0.021583\nmean_nni         0.016530\nmin_hr           0.014499\nmedian_nni       0.013546\nrange_nni        0.013127\nrmssd            0.012899\ncvsd             0.007291\npnni_20          0.005355\nnni_20           0.002683\npnni_50          0.000762\nnni_50           0.000000",
      "text/html": "<div>\n<style scoped>\n    .dataframe tbody tr th:only-of-type {\n        vertical-align: middle;\n    }\n\n    .dataframe tbody tr th {\n        vertical-align: top;\n    }\n\n    .dataframe thead th {\n        text-align: right;\n    }\n</style>\n<table border=\"1\" class=\"dataframe\">\n  <thead>\n    <tr style=\"text-align: right;\">\n      <th></th>\n      <th>Importance</th>\n    </tr>\n  </thead>\n  <tbody>\n    <tr>\n      <th>vlf</th>\n      <td>0.142240</td>\n    </tr>\n    <tr>\n      <th>lf</th>\n      <td>0.084789</td>\n    </tr>\n    <tr>\n      <th>sd1</th>\n      <td>0.077943</td>\n    </tr>\n    <tr>\n      <th>Modified_csi</th>\n      <td>0.076261</td>\n    </tr>\n    <tr>\n      <th>hf</th>\n      <td>0.072054</td>\n    </tr>\n    <tr>\n      <th>lf_hf_ratio</th>\n      <td>0.070507</td>\n    </tr>\n    <tr>\n      <th>sampen</th>\n      <td>0.058979</td>\n    </tr>\n    <tr>\n      <th>ratio_sd2_sd1</th>\n      <td>0.048606</td>\n    </tr>\n    <tr>\n      <th>std_hr</th>\n      <td>0.043325</td>\n    </tr>\n    <tr>\n      <th>mean_hr</th>\n      <td>0.039728</td>\n    </tr>\n    <tr>\n      <th>sdsd</th>\n      <td>0.035795</td>\n    </tr>\n    <tr>\n      <th>max_hr</th>\n      <td>0.034589</td>\n    </tr>\n    <tr>\n      <th>csi</th>\n      <td>0.029455</td>\n    </tr>\n    <tr>\n      <th>cvnni</th>\n      <td>0.029328</td>\n    </tr>\n    <tr>\n      <th>cvi</th>\n      <td>0.025093</td>\n    </tr>\n    <tr>\n      <th>sdnn</th>\n      <td>0.023032</td>\n    </tr>\n    <tr>\n      <th>sd2</th>\n      <td>0.021583</td>\n    </tr>\n    <tr>\n      <th>mean_nni</th>\n      <td>0.016530</td>\n    </tr>\n    <tr>\n      <th>min_hr</th>\n      <td>0.014499</td>\n    </tr>\n    <tr>\n      <th>median_nni</th>\n      <td>0.013546</td>\n    </tr>\n    <tr>\n      <th>range_nni</th>\n      <td>0.013127</td>\n    </tr>\n    <tr>\n      <th>rmssd</th>\n      <td>0.012899</td>\n    </tr>\n    <tr>\n      <th>cvsd</th>\n      <td>0.007291</td>\n    </tr>\n    <tr>\n      <th>pnni_20</th>\n      <td>0.005355</td>\n    </tr>\n    <tr>\n      <th>nni_20</th>\n      <td>0.002683</td>\n    </tr>\n    <tr>\n      <th>pnni_50</th>\n      <td>0.000762</td>\n    </tr>\n    <tr>\n      <th>nni_50</th>\n      <td>0.000000</td>\n    </tr>\n  </tbody>\n</table>\n</div>"
     },
     "metadata": {},
     "execution_count": 43
    }
   ],
   "source": [
    "feats_importance = pd.DataFrame(dic_feats_imp, index=[0]).T.sort_values([0], ascending=False).rename(columns={0: 'Importance'})\n",
    "feats_importance"
   ]
  },
  {
   "cell_type": "code",
   "execution_count": 50,
   "metadata": {},
   "outputs": [
    {
     "output_type": "stream",
     "name": "stdout",
     "text": "0.7094339622641509\n0.7306967984934087\n0.7056603773584906\n0.7084870848708488\n0.7100371747211897\n0.7201492537313433\n0.7229357798165137\n0.7340823970037453\n0.7214953271028038\n0.7161410018552875\n0.6941838649155723\n0.7100371747211897\n0.725925925925926\n0.7052023121387283\n0.7317073170731707\n0.722117202268431\n0.7555555555555555\n0.7327102803738318\n0.7377938517179025\n0.7549909255898366\n0.7635009310986964\n"
    }
   ],
   "source": [
    "for i in range(len(feats_importance.index.tolist()), 6, -1):\n",
    "    score, model = simple_ml(xqrs_clean_imputed[['Key'] + feats_importance.index.tolist()[:i] + ['label']], DecisionTreeClassifier())\n",
    "    print(score['f1_score test'])"
   ]
  },
  {
   "cell_type": "markdown",
   "metadata": {},
   "source": [
    "## XGBoost"
   ]
  },
  {
   "cell_type": "code",
   "execution_count": 33,
   "metadata": {},
   "outputs": [],
   "source": [
    "from xgboost import XGBClassifier"
   ]
  },
  {
   "cell_type": "code",
   "execution_count": 44,
   "metadata": {},
   "outputs": [],
   "source": [
    "score, xgb = simple_ml(xqrs_clean_imputed, XGBClassifier())"
   ]
  },
  {
   "cell_type": "code",
   "execution_count": 45,
   "metadata": {},
   "outputs": [
    {
     "output_type": "execute_result",
     "data": {
      "text/plain": "{'accuracy train': 0.9995269631031221,\n 'accuracy test': 0.8166351606805293,\n 'f1_score train': 0.9995249406175772,\n 'f1_score test': 0.8166351606805293,\n 'cm train': array([[1061,    0],\n        [   1, 1052]]),\n 'cm test': array([[216,  49],\n        [ 48, 216]]),\n 'sensitivity train': 0.9990503323836657,\n 'sensitivity test': 0.8181818181818182,\n 'specificity train': 1.0,\n 'specificity test': 0.8150943396226416}"
     },
     "metadata": {},
     "execution_count": 45
    }
   ],
   "source": [
    "score"
   ]
  },
  {
   "cell_type": "code",
   "execution_count": 46,
   "metadata": {},
   "outputs": [
    {
     "output_type": "execute_result",
     "data": {
      "text/plain": "Pipeline(steps=[('preprocessor',\n                 ColumnTransformer(transformers=[('num',\n                                                  Pipeline(steps=[('scaler',\n                                                                   StandardScaler())]),\n                                                  Index(['mean_nni', 'sdnn', 'sdsd', 'nni_50', 'pnni_50', 'nni_20', 'pnni_20',\n       'rmssd', 'median_nni', 'range_nni', 'cvsd', 'cvnni', 'mean_hr',\n       'max_hr', 'min_hr', 'std_hr', 'lf', 'hf', 'vlf', 'lf_hf_ratio', 'csi',\n       'cvi', 'Modified_csi', 'sampen', 'sd1', 'sd2',...\n                               colsample_bytree=1, gamma=0, gpu_id=-1,\n                               importance_type='gain',\n                               interaction_constraints='',\n                               learning_rate=0.300000012, max_delta_step=0,\n                               max_depth=6, min_child_weight=1, missing=nan,\n                               monotone_constraints='()', n_estimators=100,\n                               n_jobs=0, num_parallel_tree=1, random_state=0,\n                               reg_alpha=0, reg_lambda=1, scale_pos_weight=1,\n                               subsample=1, tree_method='exact',\n                               validate_parameters=1, verbosity=None))])"
     },
     "metadata": {},
     "execution_count": 46
    }
   ],
   "source": [
    "xgb"
   ]
  },
  {
   "cell_type": "markdown",
   "metadata": {},
   "source": [
    "**Full dataset**"
   ]
  },
  {
   "cell_type": "code",
   "execution_count": 88,
   "metadata": {},
   "outputs": [
    {
     "output_type": "execute_result",
     "data": {
      "text/plain": "{'accuracy train': 0.9971177403084018,\n 'accuracy test': 0.8979827089337176,\n 'f1_score train': 0.9904214559386973,\n 'f1_score test': 0.5893271461716938,\n 'cm train': array([[5885,    0],\n        [  20, 1034]]),\n 'cm test': array([[1431,   41],\n        [ 136,  127]]),\n 'sensitivity train': 0.9810246679316889,\n 'sensitivity test': 0.4828897338403042,\n 'specificity train': 1.0,\n 'specificity test': 0.9721467391304348}"
     },
     "metadata": {},
     "execution_count": 88
    }
   ],
   "source": [
    "score, xgb = simple_ml(xqrs_full_clean, XGBClassifier())\n",
    "score"
   ]
  },
  {
   "cell_type": "code",
   "execution_count": null,
   "metadata": {},
   "outputs": [],
   "source": []
  }
 ],
 "metadata": {
  "language_info": {
   "codemirror_mode": {
    "name": "ipython",
    "version": 3
   },
   "file_extension": ".py",
   "mimetype": "text/x-python",
   "name": "python",
   "nbconvert_exporter": "python",
   "pygments_lexer": "ipython3",
   "version": "3.8.2-final"
  },
  "orig_nbformat": 2,
  "kernelspec": {
   "name": "python38264bite34a56b6e9a44db4af76022ac3c795eb",
   "display_name": "Python 3.8.2 64-bit"
  }
 },
 "nbformat": 4,
 "nbformat_minor": 2
}