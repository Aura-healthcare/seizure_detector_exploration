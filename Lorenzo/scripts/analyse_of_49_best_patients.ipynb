{
 "cells": [
  {
   "cell_type": "markdown",
   "metadata": {},
   "source": [
    "# Preprocessing"
   ]
  },
  {
   "cell_type": "code",
   "execution_count": 1,
   "metadata": {},
   "outputs": [],
   "source": [
    "import pandas as pd\n",
    "import numpy as np\n",
    "import matplotlib.pyplot as plt\n",
    "import seaborn as sns\n",
    "\n",
    "import json\n",
    "\n",
    "pd.set_option(\"display.max_columns\", 100)"
   ]
  },
  {
   "cell_type": "code",
   "execution_count": 2,
   "metadata": {},
   "outputs": [
    {
     "output_type": "execute_result",
     "data": {
      "text/plain": "                                         Key  hf  lf_hf_ratio  vlf  \\\n0  train_01_tcp_ar_7793_s001_2011_05_27_t001 NaN          NaN  NaN   \n1  train_01_tcp_ar_7793_s001_2011_05_27_t001 NaN          NaN  NaN   \n2  train_01_tcp_ar_7793_s001_2011_05_27_t001 NaN          NaN  NaN   \n3  train_01_tcp_ar_7793_s001_2011_05_27_t001 NaN          NaN  NaN   \n4  train_01_tcp_ar_7793_s001_2011_05_27_t001 NaN          NaN  NaN   \n\n       max_hr  lf  cvi  sd1      min_hr  sd2  sampen  median_nni     mean_hr  \\\n0  127.118644 NaN  NaN  NaN  105.633803  NaN     NaN       506.0  118.490493   \n1  120.000000 NaN  NaN  NaN  118.110236  NaN     NaN       504.0  119.049198   \n2  120.967742 NaN  NaN  NaN  118.110236  NaN     NaN       502.0  119.532917   \n3  120.967742 NaN  NaN  NaN  116.279070  NaN     NaN       512.0  117.713266   \n4  120.967742 NaN  NaN  NaN  118.110236  NaN     NaN       504.0  118.816291   \n\n   mean_nni  csi  Modified_csi  label  \n0     507.8  NaN           NaN  0.000  \n1     504.0  NaN           NaN  0.016  \n2     502.0  NaN           NaN  1.000  \n3     509.8  NaN           NaN  1.000  \n4     505.0  NaN           NaN  1.000  ",
      "text/html": "<div>\n<style scoped>\n    .dataframe tbody tr th:only-of-type {\n        vertical-align: middle;\n    }\n\n    .dataframe tbody tr th {\n        vertical-align: top;\n    }\n\n    .dataframe thead th {\n        text-align: right;\n    }\n</style>\n<table border=\"1\" class=\"dataframe\">\n  <thead>\n    <tr style=\"text-align: right;\">\n      <th></th>\n      <th>Key</th>\n      <th>hf</th>\n      <th>lf_hf_ratio</th>\n      <th>vlf</th>\n      <th>max_hr</th>\n      <th>lf</th>\n      <th>cvi</th>\n      <th>sd1</th>\n      <th>min_hr</th>\n      <th>sd2</th>\n      <th>sampen</th>\n      <th>median_nni</th>\n      <th>mean_hr</th>\n      <th>mean_nni</th>\n      <th>csi</th>\n      <th>Modified_csi</th>\n      <th>label</th>\n    </tr>\n  </thead>\n  <tbody>\n    <tr>\n      <th>0</th>\n      <td>train_01_tcp_ar_7793_s001_2011_05_27_t001</td>\n      <td>NaN</td>\n      <td>NaN</td>\n      <td>NaN</td>\n      <td>127.118644</td>\n      <td>NaN</td>\n      <td>NaN</td>\n      <td>NaN</td>\n      <td>105.633803</td>\n      <td>NaN</td>\n      <td>NaN</td>\n      <td>506.0</td>\n      <td>118.490493</td>\n      <td>507.8</td>\n      <td>NaN</td>\n      <td>NaN</td>\n      <td>0.000</td>\n    </tr>\n    <tr>\n      <th>1</th>\n      <td>train_01_tcp_ar_7793_s001_2011_05_27_t001</td>\n      <td>NaN</td>\n      <td>NaN</td>\n      <td>NaN</td>\n      <td>120.000000</td>\n      <td>NaN</td>\n      <td>NaN</td>\n      <td>NaN</td>\n      <td>118.110236</td>\n      <td>NaN</td>\n      <td>NaN</td>\n      <td>504.0</td>\n      <td>119.049198</td>\n      <td>504.0</td>\n      <td>NaN</td>\n      <td>NaN</td>\n      <td>0.016</td>\n    </tr>\n    <tr>\n      <th>2</th>\n      <td>train_01_tcp_ar_7793_s001_2011_05_27_t001</td>\n      <td>NaN</td>\n      <td>NaN</td>\n      <td>NaN</td>\n      <td>120.967742</td>\n      <td>NaN</td>\n      <td>NaN</td>\n      <td>NaN</td>\n      <td>118.110236</td>\n      <td>NaN</td>\n      <td>NaN</td>\n      <td>502.0</td>\n      <td>119.532917</td>\n      <td>502.0</td>\n      <td>NaN</td>\n      <td>NaN</td>\n      <td>1.000</td>\n    </tr>\n    <tr>\n      <th>3</th>\n      <td>train_01_tcp_ar_7793_s001_2011_05_27_t001</td>\n      <td>NaN</td>\n      <td>NaN</td>\n      <td>NaN</td>\n      <td>120.967742</td>\n      <td>NaN</td>\n      <td>NaN</td>\n      <td>NaN</td>\n      <td>116.279070</td>\n      <td>NaN</td>\n      <td>NaN</td>\n      <td>512.0</td>\n      <td>117.713266</td>\n      <td>509.8</td>\n      <td>NaN</td>\n      <td>NaN</td>\n      <td>1.000</td>\n    </tr>\n    <tr>\n      <th>4</th>\n      <td>train_01_tcp_ar_7793_s001_2011_05_27_t001</td>\n      <td>NaN</td>\n      <td>NaN</td>\n      <td>NaN</td>\n      <td>120.967742</td>\n      <td>NaN</td>\n      <td>NaN</td>\n      <td>NaN</td>\n      <td>118.110236</td>\n      <td>NaN</td>\n      <td>NaN</td>\n      <td>504.0</td>\n      <td>118.816291</td>\n      <td>505.0</td>\n      <td>NaN</td>\n      <td>NaN</td>\n      <td>1.000</td>\n    </tr>\n  </tbody>\n</table>\n</div>"
     },
     "metadata": {},
     "execution_count": 2
    }
   ],
   "source": [
    "xqrs = pd.read_csv('../to_csv/final_dataset/xqrs_filtered.csv')\n",
    "xqrs.head()"
   ]
  },
  {
   "cell_type": "code",
   "execution_count": 3,
   "metadata": {},
   "outputs": [],
   "source": [
    "xqrs.dropna(subset=['label'], inplace=True)"
   ]
  },
  {
   "cell_type": "code",
   "execution_count": 4,
   "metadata": {},
   "outputs": [
    {
     "output_type": "execute_result",
     "data": {
      "text/plain": "(50433, 17)"
     },
     "metadata": {},
     "execution_count": 4
    }
   ],
   "source": [
    "xqrs.shape"
   ]
  },
  {
   "cell_type": "code",
   "execution_count": 5,
   "metadata": {},
   "outputs": [
    {
     "output_type": "execute_result",
     "data": {
      "text/plain": "                                                Key            hf  \\\ncount                                         50433  37269.000000   \nunique                                          759           NaN   \ntop     train_03_tcp_ar_a_7128_s004_2010_10_13_t002           NaN   \nfreq                                            349           NaN   \nmean                                            NaN     43.549041   \nstd                                             NaN    146.340740   \nmin                                             NaN      0.000000   \n25%                                             NaN      0.984261   \n50%                                             NaN      3.444759   \n75%                                             NaN     19.413893   \nmax                                             NaN   2510.786865   \n\n         lf_hf_ratio           vlf        max_hr            lf           cvi  \\\ncount   37267.000000  37269.000000  5.040100e+04  37269.000000  4.447700e+04   \nunique           NaN           NaN           NaN           NaN           NaN   \ntop              NaN           NaN           NaN           NaN           NaN   \nfreq             NaN           NaN           NaN           NaN           NaN   \nmean       12.302054    130.074752           inf    171.677202          -inf   \nstd        13.418869    273.241909           NaN    388.056204           NaN   \nmin         0.255788      0.000000  4.000000e+01      0.000000          -inf   \n25%         3.639149      9.944022  8.064516e+01      9.878312  2.317795e+00   \n50%         8.198445     38.415731  9.197605e+01     40.619227  2.854672e+00   \n75%        16.064061    122.726651  1.037838e+02    155.762445  3.407243e+00   \nmax       173.733152   3853.722266           inf   7108.100125  5.693508e+00   \n\n                 sd1        min_hr           sd2        sampen    median_nni  \\\ncount   44477.000000  5.040100e+04  44477.000000  4.511900e+04  49878.000000   \nunique           NaN           NaN           NaN           NaN           NaN   \ntop              NaN           NaN           NaN           NaN           NaN   \nfreq             NaN           NaN           NaN           NaN           NaN   \nmean        4.961801           inf     22.974609           inf    681.805780   \nstd         5.929656           NaN     23.731553           NaN    128.514048   \nmin         0.000000  3.413333e+01      0.000000 -0.000000e+00      0.000000   \n25%         1.535319  7.757576e+01      7.805837  3.127717e-01    597.656250   \n50%         2.728740  8.777143e+01     15.626889  5.043947e-01    671.875000   \n75%         5.841606  9.868421e+01     29.488478  7.389567e-01    761.718750   \nmax        65.490753           inf    575.809952           inf   1500.000000   \n\n             mean_hr      mean_nni           csi  Modified_csi         label  \ncount   4.987800e+04  49878.000000  44460.000000  44460.000000  50433.000000  \nunique           NaN           NaN           NaN           NaN           NaN  \ntop              NaN           NaN           NaN           NaN           NaN  \nfreq             NaN           NaN           NaN           NaN           NaN  \nmean             inf    680.850544      5.576594    593.286819      0.191470  \nstd              NaN    127.927588      3.464795    876.107472      0.384665  \nmin     4.000000e+01      0.000000      0.256758      1.720771      0.000000  \n25%     7.907298e+01    597.426471      3.164550    120.614461      0.000000  \n50%     8.938258e+01    671.875000      4.691924    310.551061      0.000000  \n75%     1.004832e+02    759.314904      6.952262    704.451582      0.000000  \nmax              inf   1500.000000     38.413486  24746.253529      1.000000  ",
      "text/html": "<div>\n<style scoped>\n    .dataframe tbody tr th:only-of-type {\n        vertical-align: middle;\n    }\n\n    .dataframe tbody tr th {\n        vertical-align: top;\n    }\n\n    .dataframe thead th {\n        text-align: right;\n    }\n</style>\n<table border=\"1\" class=\"dataframe\">\n  <thead>\n    <tr style=\"text-align: right;\">\n      <th></th>\n      <th>Key</th>\n      <th>hf</th>\n      <th>lf_hf_ratio</th>\n      <th>vlf</th>\n      <th>max_hr</th>\n      <th>lf</th>\n      <th>cvi</th>\n      <th>sd1</th>\n      <th>min_hr</th>\n      <th>sd2</th>\n      <th>sampen</th>\n      <th>median_nni</th>\n      <th>mean_hr</th>\n      <th>mean_nni</th>\n      <th>csi</th>\n      <th>Modified_csi</th>\n      <th>label</th>\n    </tr>\n  </thead>\n  <tbody>\n    <tr>\n      <th>count</th>\n      <td>50433</td>\n      <td>37269.000000</td>\n      <td>37267.000000</td>\n      <td>37269.000000</td>\n      <td>5.040100e+04</td>\n      <td>37269.000000</td>\n      <td>4.447700e+04</td>\n      <td>44477.000000</td>\n      <td>5.040100e+04</td>\n      <td>44477.000000</td>\n      <td>4.511900e+04</td>\n      <td>49878.000000</td>\n      <td>4.987800e+04</td>\n      <td>49878.000000</td>\n      <td>44460.000000</td>\n      <td>44460.000000</td>\n      <td>50433.000000</td>\n    </tr>\n    <tr>\n      <th>unique</th>\n      <td>759</td>\n      <td>NaN</td>\n      <td>NaN</td>\n      <td>NaN</td>\n      <td>NaN</td>\n      <td>NaN</td>\n      <td>NaN</td>\n      <td>NaN</td>\n      <td>NaN</td>\n      <td>NaN</td>\n      <td>NaN</td>\n      <td>NaN</td>\n      <td>NaN</td>\n      <td>NaN</td>\n      <td>NaN</td>\n      <td>NaN</td>\n      <td>NaN</td>\n    </tr>\n    <tr>\n      <th>top</th>\n      <td>train_03_tcp_ar_a_7128_s004_2010_10_13_t002</td>\n      <td>NaN</td>\n      <td>NaN</td>\n      <td>NaN</td>\n      <td>NaN</td>\n      <td>NaN</td>\n      <td>NaN</td>\n      <td>NaN</td>\n      <td>NaN</td>\n      <td>NaN</td>\n      <td>NaN</td>\n      <td>NaN</td>\n      <td>NaN</td>\n      <td>NaN</td>\n      <td>NaN</td>\n      <td>NaN</td>\n      <td>NaN</td>\n    </tr>\n    <tr>\n      <th>freq</th>\n      <td>349</td>\n      <td>NaN</td>\n      <td>NaN</td>\n      <td>NaN</td>\n      <td>NaN</td>\n      <td>NaN</td>\n      <td>NaN</td>\n      <td>NaN</td>\n      <td>NaN</td>\n      <td>NaN</td>\n      <td>NaN</td>\n      <td>NaN</td>\n      <td>NaN</td>\n      <td>NaN</td>\n      <td>NaN</td>\n      <td>NaN</td>\n      <td>NaN</td>\n    </tr>\n    <tr>\n      <th>mean</th>\n      <td>NaN</td>\n      <td>43.549041</td>\n      <td>12.302054</td>\n      <td>130.074752</td>\n      <td>inf</td>\n      <td>171.677202</td>\n      <td>-inf</td>\n      <td>4.961801</td>\n      <td>inf</td>\n      <td>22.974609</td>\n      <td>inf</td>\n      <td>681.805780</td>\n      <td>inf</td>\n      <td>680.850544</td>\n      <td>5.576594</td>\n      <td>593.286819</td>\n      <td>0.191470</td>\n    </tr>\n    <tr>\n      <th>std</th>\n      <td>NaN</td>\n      <td>146.340740</td>\n      <td>13.418869</td>\n      <td>273.241909</td>\n      <td>NaN</td>\n      <td>388.056204</td>\n      <td>NaN</td>\n      <td>5.929656</td>\n      <td>NaN</td>\n      <td>23.731553</td>\n      <td>NaN</td>\n      <td>128.514048</td>\n      <td>NaN</td>\n      <td>127.927588</td>\n      <td>3.464795</td>\n      <td>876.107472</td>\n      <td>0.384665</td>\n    </tr>\n    <tr>\n      <th>min</th>\n      <td>NaN</td>\n      <td>0.000000</td>\n      <td>0.255788</td>\n      <td>0.000000</td>\n      <td>4.000000e+01</td>\n      <td>0.000000</td>\n      <td>-inf</td>\n      <td>0.000000</td>\n      <td>3.413333e+01</td>\n      <td>0.000000</td>\n      <td>-0.000000e+00</td>\n      <td>0.000000</td>\n      <td>4.000000e+01</td>\n      <td>0.000000</td>\n      <td>0.256758</td>\n      <td>1.720771</td>\n      <td>0.000000</td>\n    </tr>\n    <tr>\n      <th>25%</th>\n      <td>NaN</td>\n      <td>0.984261</td>\n      <td>3.639149</td>\n      <td>9.944022</td>\n      <td>8.064516e+01</td>\n      <td>9.878312</td>\n      <td>2.317795e+00</td>\n      <td>1.535319</td>\n      <td>7.757576e+01</td>\n      <td>7.805837</td>\n      <td>3.127717e-01</td>\n      <td>597.656250</td>\n      <td>7.907298e+01</td>\n      <td>597.426471</td>\n      <td>3.164550</td>\n      <td>120.614461</td>\n      <td>0.000000</td>\n    </tr>\n    <tr>\n      <th>50%</th>\n      <td>NaN</td>\n      <td>3.444759</td>\n      <td>8.198445</td>\n      <td>38.415731</td>\n      <td>9.197605e+01</td>\n      <td>40.619227</td>\n      <td>2.854672e+00</td>\n      <td>2.728740</td>\n      <td>8.777143e+01</td>\n      <td>15.626889</td>\n      <td>5.043947e-01</td>\n      <td>671.875000</td>\n      <td>8.938258e+01</td>\n      <td>671.875000</td>\n      <td>4.691924</td>\n      <td>310.551061</td>\n      <td>0.000000</td>\n    </tr>\n    <tr>\n      <th>75%</th>\n      <td>NaN</td>\n      <td>19.413893</td>\n      <td>16.064061</td>\n      <td>122.726651</td>\n      <td>1.037838e+02</td>\n      <td>155.762445</td>\n      <td>3.407243e+00</td>\n      <td>5.841606</td>\n      <td>9.868421e+01</td>\n      <td>29.488478</td>\n      <td>7.389567e-01</td>\n      <td>761.718750</td>\n      <td>1.004832e+02</td>\n      <td>759.314904</td>\n      <td>6.952262</td>\n      <td>704.451582</td>\n      <td>0.000000</td>\n    </tr>\n    <tr>\n      <th>max</th>\n      <td>NaN</td>\n      <td>2510.786865</td>\n      <td>173.733152</td>\n      <td>3853.722266</td>\n      <td>inf</td>\n      <td>7108.100125</td>\n      <td>5.693508e+00</td>\n      <td>65.490753</td>\n      <td>inf</td>\n      <td>575.809952</td>\n      <td>inf</td>\n      <td>1500.000000</td>\n      <td>inf</td>\n      <td>1500.000000</td>\n      <td>38.413486</td>\n      <td>24746.253529</td>\n      <td>1.000000</td>\n    </tr>\n  </tbody>\n</table>\n</div>"
     },
     "metadata": {},
     "execution_count": 5
    }
   ],
   "source": [
    "xqrs.describe(include='all')"
   ]
  },
  {
   "cell_type": "code",
   "execution_count": 6,
   "metadata": {},
   "outputs": [
    {
     "output_type": "execute_result",
     "data": {
      "text/plain": "759"
     },
     "metadata": {},
     "execution_count": 6
    }
   ],
   "source": [
    "len(xqrs.Key.unique())"
   ]
  },
  {
   "cell_type": "code",
   "execution_count": 7,
   "metadata": {},
   "outputs": [],
   "source": [
    "xqrs_filtered = xqrs.replace([np.inf, -np.inf], np.nan)"
   ]
  },
  {
   "cell_type": "code",
   "execution_count": 8,
   "metadata": {},
   "outputs": [],
   "source": [
    "xqrs_clean_imputed = xqrs_filtered.groupby(xqrs_filtered['Key']).transform(lambda x: x.fillna(x.mean()))\n",
    "xqrs_clean_imputed.insert(0, 'Key', xqrs_filtered.Key)\n",
    "xqrs_clean_imputed = xqrs_clean_imputed.reset_index().drop(['index'], axis=1)"
   ]
  },
  {
   "cell_type": "code",
   "execution_count": 9,
   "metadata": {},
   "outputs": [],
   "source": [
    "xqrs_clean_imputed.label = xqrs_clean_imputed.label.apply(lambda x: 1 if x != 0 else 0)"
   ]
  },
  {
   "cell_type": "code",
   "execution_count": 10,
   "metadata": {},
   "outputs": [
    {
     "output_type": "execute_result",
     "data": {
      "text/plain": "                                         Key         hf  lf_hf_ratio  \\\n0  train_01_tcp_ar_7793_s001_2011_05_27_t001  14.894991     4.073003   \n1  train_01_tcp_ar_7793_s001_2011_05_27_t001  14.894991     4.073003   \n2  train_01_tcp_ar_7793_s001_2011_05_27_t001  14.894991     4.073003   \n3  train_01_tcp_ar_7793_s001_2011_05_27_t001  14.894991     4.073003   \n4  train_01_tcp_ar_7793_s001_2011_05_27_t001  14.894991     4.073003   \n\n         vlf      max_hr         lf       cvi       sd1      min_hr  \\\n0  13.085253  127.118644  17.995638  2.418987  2.192229  105.633803   \n1  13.085253  120.000000  17.995638  2.418987  2.192229  118.110236   \n2  13.085253  120.967742  17.995638  2.418987  2.192229  118.110236   \n3  13.085253  120.967742  17.995638  2.418987  2.192229  116.279070   \n4  13.085253  120.967742  17.995638  2.418987  2.192229  118.110236   \n\n         sd2    sampen  median_nni     mean_hr  mean_nni      csi  \\\n0  11.531646  0.325657       506.0  118.490493     507.8  7.01144   \n1  11.531646  0.325657       504.0  119.049198     504.0  7.01144   \n2  11.531646  0.325657       502.0  119.532917     502.0  7.01144   \n3  11.531646  0.325657       512.0  117.713266     509.8  7.01144   \n4  11.531646  0.325657       504.0  118.816291     505.0  7.01144   \n\n   Modified_csi  label  \n0    329.814954      0  \n1    329.814954      1  \n2    329.814954      1  \n3    329.814954      1  \n4    329.814954      1  ",
      "text/html": "<div>\n<style scoped>\n    .dataframe tbody tr th:only-of-type {\n        vertical-align: middle;\n    }\n\n    .dataframe tbody tr th {\n        vertical-align: top;\n    }\n\n    .dataframe thead th {\n        text-align: right;\n    }\n</style>\n<table border=\"1\" class=\"dataframe\">\n  <thead>\n    <tr style=\"text-align: right;\">\n      <th></th>\n      <th>Key</th>\n      <th>hf</th>\n      <th>lf_hf_ratio</th>\n      <th>vlf</th>\n      <th>max_hr</th>\n      <th>lf</th>\n      <th>cvi</th>\n      <th>sd1</th>\n      <th>min_hr</th>\n      <th>sd2</th>\n      <th>sampen</th>\n      <th>median_nni</th>\n      <th>mean_hr</th>\n      <th>mean_nni</th>\n      <th>csi</th>\n      <th>Modified_csi</th>\n      <th>label</th>\n    </tr>\n  </thead>\n  <tbody>\n    <tr>\n      <th>0</th>\n      <td>train_01_tcp_ar_7793_s001_2011_05_27_t001</td>\n      <td>14.894991</td>\n      <td>4.073003</td>\n      <td>13.085253</td>\n      <td>127.118644</td>\n      <td>17.995638</td>\n      <td>2.418987</td>\n      <td>2.192229</td>\n      <td>105.633803</td>\n      <td>11.531646</td>\n      <td>0.325657</td>\n      <td>506.0</td>\n      <td>118.490493</td>\n      <td>507.8</td>\n      <td>7.01144</td>\n      <td>329.814954</td>\n      <td>0</td>\n    </tr>\n    <tr>\n      <th>1</th>\n      <td>train_01_tcp_ar_7793_s001_2011_05_27_t001</td>\n      <td>14.894991</td>\n      <td>4.073003</td>\n      <td>13.085253</td>\n      <td>120.000000</td>\n      <td>17.995638</td>\n      <td>2.418987</td>\n      <td>2.192229</td>\n      <td>118.110236</td>\n      <td>11.531646</td>\n      <td>0.325657</td>\n      <td>504.0</td>\n      <td>119.049198</td>\n      <td>504.0</td>\n      <td>7.01144</td>\n      <td>329.814954</td>\n      <td>1</td>\n    </tr>\n    <tr>\n      <th>2</th>\n      <td>train_01_tcp_ar_7793_s001_2011_05_27_t001</td>\n      <td>14.894991</td>\n      <td>4.073003</td>\n      <td>13.085253</td>\n      <td>120.967742</td>\n      <td>17.995638</td>\n      <td>2.418987</td>\n      <td>2.192229</td>\n      <td>118.110236</td>\n      <td>11.531646</td>\n      <td>0.325657</td>\n      <td>502.0</td>\n      <td>119.532917</td>\n      <td>502.0</td>\n      <td>7.01144</td>\n      <td>329.814954</td>\n      <td>1</td>\n    </tr>\n    <tr>\n      <th>3</th>\n      <td>train_01_tcp_ar_7793_s001_2011_05_27_t001</td>\n      <td>14.894991</td>\n      <td>4.073003</td>\n      <td>13.085253</td>\n      <td>120.967742</td>\n      <td>17.995638</td>\n      <td>2.418987</td>\n      <td>2.192229</td>\n      <td>116.279070</td>\n      <td>11.531646</td>\n      <td>0.325657</td>\n      <td>512.0</td>\n      <td>117.713266</td>\n      <td>509.8</td>\n      <td>7.01144</td>\n      <td>329.814954</td>\n      <td>1</td>\n    </tr>\n    <tr>\n      <th>4</th>\n      <td>train_01_tcp_ar_7793_s001_2011_05_27_t001</td>\n      <td>14.894991</td>\n      <td>4.073003</td>\n      <td>13.085253</td>\n      <td>120.967742</td>\n      <td>17.995638</td>\n      <td>2.418987</td>\n      <td>2.192229</td>\n      <td>118.110236</td>\n      <td>11.531646</td>\n      <td>0.325657</td>\n      <td>504.0</td>\n      <td>118.816291</td>\n      <td>505.0</td>\n      <td>7.01144</td>\n      <td>329.814954</td>\n      <td>1</td>\n    </tr>\n  </tbody>\n</table>\n</div>"
     },
     "metadata": {},
     "execution_count": 10
    }
   ],
   "source": [
    "xqrs_clean_imputed.head()"
   ]
  },
  {
   "cell_type": "code",
   "execution_count": 11,
   "metadata": {},
   "outputs": [
    {
     "output_type": "execute_result",
     "data": {
      "text/plain": "(50433, 17)"
     },
     "metadata": {},
     "execution_count": 11
    }
   ],
   "source": [
    "xqrs_clean_imputed.shape"
   ]
  },
  {
   "cell_type": "code",
   "execution_count": 12,
   "metadata": {},
   "outputs": [
    {
     "output_type": "execute_result",
     "data": {
      "text/plain": "0    78.962187\n1    21.037813\nName: label, dtype: float64"
     },
     "metadata": {},
     "execution_count": 12
    }
   ],
   "source": [
    "xqrs_clean_imputed.label.value_counts(normalize=True) * 100"
   ]
  },
  {
   "cell_type": "code",
   "execution_count": 13,
   "metadata": {},
   "outputs": [
    {
     "output_type": "execute_result",
     "data": {
      "text/plain": "21"
     },
     "metadata": {},
     "execution_count": 13
    }
   ],
   "source": [
    "int((xqrs_clean_imputed.label.value_counts(normalize=True) * 100).values[1])"
   ]
  },
  {
   "cell_type": "code",
   "execution_count": 14,
   "metadata": {},
   "outputs": [
    {
     "output_type": "execute_result",
     "data": {
      "text/plain": "array([], dtype=object)"
     },
     "metadata": {},
     "execution_count": 14
    }
   ],
   "source": [
    "xqrs_clean_imputed[xqrs_clean_imputed.isnull().any(axis=1)].Key.unique()"
   ]
  },
  {
   "cell_type": "markdown",
   "metadata": {},
   "source": [
    "### Lagged Dataset"
   ]
  },
  {
   "cell_type": "code",
   "execution_count": 25,
   "metadata": {},
   "outputs": [],
   "source": [
    "from functions import series_to_supervised, supervised_by_exam"
   ]
  },
  {
   "cell_type": "code",
   "execution_count": 26,
   "metadata": {},
   "outputs": [
    {
     "output_type": "execute_result",
     "data": {
      "text/plain": "                                         Key    hf(t-1) ID(t-1)  \\\n0  train_01_tcp_ar_7793_s001_2011_05_27_t001  14.894991    7793   \n1  train_01_tcp_ar_7793_s001_2011_05_27_t001  14.894991    7793   \n2  train_01_tcp_ar_7793_s001_2011_05_27_t001  14.894991    7793   \n3  train_01_tcp_ar_7793_s001_2011_05_27_t001  14.894991    7793   \n4  train_01_tcp_ar_7793_s001_2011_05_27_t001  14.894991    7793   \n\n   lf_hf_ratio(t-1)   vlf(t-1)  max_hr(t-1)    lf(t-1)  cvi(t-1)  sd1(t-1)  \\\n0          4.073003  13.085253   127.118644  17.995638  2.418987  2.192229   \n1          4.073003  13.085253   120.000000  17.995638  2.418987  2.192229   \n2          4.073003  13.085253   120.967742  17.995638  2.418987  2.192229   \n3          4.073003  13.085253   120.967742  17.995638  2.418987  2.192229   \n4          4.073003  13.085253   120.967742  17.995638  2.418987  2.192229   \n\n   min_hr(t-1)   sd2(t-1)  sampen(t-1)  median_nni(t-1)  mean_hr(t-1)  \\\n0   105.633803  11.531646     0.325657            506.0    118.490493   \n1   118.110236  11.531646     0.325657            504.0    119.049198   \n2   118.110236  11.531646     0.325657            502.0    119.532917   \n3   116.279070  11.531646     0.325657            512.0    117.713266   \n4   118.110236  11.531646     0.325657            504.0    118.816291   \n\n   mean_nni(t-1)  csi(t-1)  Modified_csi(t-1)      hf(t) ID(t)  \\\n0          507.8   7.01144         329.814954  14.894991  7793   \n1          504.0   7.01144         329.814954  14.894991  7793   \n2          502.0   7.01144         329.814954  14.894991  7793   \n3          509.8   7.01144         329.814954  14.894991  7793   \n4          505.0   7.01144         329.814954  14.894991  7793   \n\n   lf_hf_ratio(t)     vlf(t)   max_hr(t)      lf(t)    cvi(t)    sd1(t)  \\\n0        4.073003  13.085253  120.000000  17.995638  2.418987  2.192229   \n1        4.073003  13.085253  120.967742  17.995638  2.418987  2.192229   \n2        4.073003  13.085253  120.967742  17.995638  2.418987  2.192229   \n3        4.073003  13.085253  120.967742  17.995638  2.418987  2.192229   \n4        4.073003  13.085253  120.967742  17.995638  2.418987  2.192229   \n\n    min_hr(t)     sd2(t)  sampen(t)  median_nni(t)  mean_hr(t)  mean_nni(t)  \\\n0  118.110236  11.531646   0.325657          504.0  119.049198        504.0   \n1  118.110236  11.531646   0.325657          502.0  119.532917        502.0   \n2  116.279070  11.531646   0.325657          512.0  117.713266        509.8   \n3  118.110236  11.531646   0.325657          504.0  118.816291        505.0   \n4  118.110236  11.531646   0.325657          500.0  119.579768        501.8   \n\n    csi(t)  Modified_csi(t)  label  \n0  7.01144       329.814954      1  \n1  7.01144       329.814954      1  \n2  7.01144       329.814954      1  \n3  7.01144       329.814954      1  \n4  7.01144       329.814954      1  ",
      "text/html": "<div>\n<style scoped>\n    .dataframe tbody tr th:only-of-type {\n        vertical-align: middle;\n    }\n\n    .dataframe tbody tr th {\n        vertical-align: top;\n    }\n\n    .dataframe thead th {\n        text-align: right;\n    }\n</style>\n<table border=\"1\" class=\"dataframe\">\n  <thead>\n    <tr style=\"text-align: right;\">\n      <th></th>\n      <th>Key</th>\n      <th>hf(t-1)</th>\n      <th>ID(t-1)</th>\n      <th>lf_hf_ratio(t-1)</th>\n      <th>vlf(t-1)</th>\n      <th>max_hr(t-1)</th>\n      <th>lf(t-1)</th>\n      <th>cvi(t-1)</th>\n      <th>sd1(t-1)</th>\n      <th>min_hr(t-1)</th>\n      <th>sd2(t-1)</th>\n      <th>sampen(t-1)</th>\n      <th>median_nni(t-1)</th>\n      <th>mean_hr(t-1)</th>\n      <th>mean_nni(t-1)</th>\n      <th>csi(t-1)</th>\n      <th>Modified_csi(t-1)</th>\n      <th>hf(t)</th>\n      <th>ID(t)</th>\n      <th>lf_hf_ratio(t)</th>\n      <th>vlf(t)</th>\n      <th>max_hr(t)</th>\n      <th>lf(t)</th>\n      <th>cvi(t)</th>\n      <th>sd1(t)</th>\n      <th>min_hr(t)</th>\n      <th>sd2(t)</th>\n      <th>sampen(t)</th>\n      <th>median_nni(t)</th>\n      <th>mean_hr(t)</th>\n      <th>mean_nni(t)</th>\n      <th>csi(t)</th>\n      <th>Modified_csi(t)</th>\n      <th>label</th>\n    </tr>\n  </thead>\n  <tbody>\n    <tr>\n      <th>0</th>\n      <td>train_01_tcp_ar_7793_s001_2011_05_27_t001</td>\n      <td>14.894991</td>\n      <td>7793</td>\n      <td>4.073003</td>\n      <td>13.085253</td>\n      <td>127.118644</td>\n      <td>17.995638</td>\n      <td>2.418987</td>\n      <td>2.192229</td>\n      <td>105.633803</td>\n      <td>11.531646</td>\n      <td>0.325657</td>\n      <td>506.0</td>\n      <td>118.490493</td>\n      <td>507.8</td>\n      <td>7.01144</td>\n      <td>329.814954</td>\n      <td>14.894991</td>\n      <td>7793</td>\n      <td>4.073003</td>\n      <td>13.085253</td>\n      <td>120.000000</td>\n      <td>17.995638</td>\n      <td>2.418987</td>\n      <td>2.192229</td>\n      <td>118.110236</td>\n      <td>11.531646</td>\n      <td>0.325657</td>\n      <td>504.0</td>\n      <td>119.049198</td>\n      <td>504.0</td>\n      <td>7.01144</td>\n      <td>329.814954</td>\n      <td>1</td>\n    </tr>\n    <tr>\n      <th>1</th>\n      <td>train_01_tcp_ar_7793_s001_2011_05_27_t001</td>\n      <td>14.894991</td>\n      <td>7793</td>\n      <td>4.073003</td>\n      <td>13.085253</td>\n      <td>120.000000</td>\n      <td>17.995638</td>\n      <td>2.418987</td>\n      <td>2.192229</td>\n      <td>118.110236</td>\n      <td>11.531646</td>\n      <td>0.325657</td>\n      <td>504.0</td>\n      <td>119.049198</td>\n      <td>504.0</td>\n      <td>7.01144</td>\n      <td>329.814954</td>\n      <td>14.894991</td>\n      <td>7793</td>\n      <td>4.073003</td>\n      <td>13.085253</td>\n      <td>120.967742</td>\n      <td>17.995638</td>\n      <td>2.418987</td>\n      <td>2.192229</td>\n      <td>118.110236</td>\n      <td>11.531646</td>\n      <td>0.325657</td>\n      <td>502.0</td>\n      <td>119.532917</td>\n      <td>502.0</td>\n      <td>7.01144</td>\n      <td>329.814954</td>\n      <td>1</td>\n    </tr>\n    <tr>\n      <th>2</th>\n      <td>train_01_tcp_ar_7793_s001_2011_05_27_t001</td>\n      <td>14.894991</td>\n      <td>7793</td>\n      <td>4.073003</td>\n      <td>13.085253</td>\n      <td>120.967742</td>\n      <td>17.995638</td>\n      <td>2.418987</td>\n      <td>2.192229</td>\n      <td>118.110236</td>\n      <td>11.531646</td>\n      <td>0.325657</td>\n      <td>502.0</td>\n      <td>119.532917</td>\n      <td>502.0</td>\n      <td>7.01144</td>\n      <td>329.814954</td>\n      <td>14.894991</td>\n      <td>7793</td>\n      <td>4.073003</td>\n      <td>13.085253</td>\n      <td>120.967742</td>\n      <td>17.995638</td>\n      <td>2.418987</td>\n      <td>2.192229</td>\n      <td>116.279070</td>\n      <td>11.531646</td>\n      <td>0.325657</td>\n      <td>512.0</td>\n      <td>117.713266</td>\n      <td>509.8</td>\n      <td>7.01144</td>\n      <td>329.814954</td>\n      <td>1</td>\n    </tr>\n    <tr>\n      <th>3</th>\n      <td>train_01_tcp_ar_7793_s001_2011_05_27_t001</td>\n      <td>14.894991</td>\n      <td>7793</td>\n      <td>4.073003</td>\n      <td>13.085253</td>\n      <td>120.967742</td>\n      <td>17.995638</td>\n      <td>2.418987</td>\n      <td>2.192229</td>\n      <td>116.279070</td>\n      <td>11.531646</td>\n      <td>0.325657</td>\n      <td>512.0</td>\n      <td>117.713266</td>\n      <td>509.8</td>\n      <td>7.01144</td>\n      <td>329.814954</td>\n      <td>14.894991</td>\n      <td>7793</td>\n      <td>4.073003</td>\n      <td>13.085253</td>\n      <td>120.967742</td>\n      <td>17.995638</td>\n      <td>2.418987</td>\n      <td>2.192229</td>\n      <td>118.110236</td>\n      <td>11.531646</td>\n      <td>0.325657</td>\n      <td>504.0</td>\n      <td>118.816291</td>\n      <td>505.0</td>\n      <td>7.01144</td>\n      <td>329.814954</td>\n      <td>1</td>\n    </tr>\n    <tr>\n      <th>4</th>\n      <td>train_01_tcp_ar_7793_s001_2011_05_27_t001</td>\n      <td>14.894991</td>\n      <td>7793</td>\n      <td>4.073003</td>\n      <td>13.085253</td>\n      <td>120.967742</td>\n      <td>17.995638</td>\n      <td>2.418987</td>\n      <td>2.192229</td>\n      <td>118.110236</td>\n      <td>11.531646</td>\n      <td>0.325657</td>\n      <td>504.0</td>\n      <td>118.816291</td>\n      <td>505.0</td>\n      <td>7.01144</td>\n      <td>329.814954</td>\n      <td>14.894991</td>\n      <td>7793</td>\n      <td>4.073003</td>\n      <td>13.085253</td>\n      <td>120.967742</td>\n      <td>17.995638</td>\n      <td>2.418987</td>\n      <td>2.192229</td>\n      <td>118.110236</td>\n      <td>11.531646</td>\n      <td>0.325657</td>\n      <td>500.0</td>\n      <td>119.579768</td>\n      <td>501.8</td>\n      <td>7.01144</td>\n      <td>329.814954</td>\n      <td>1</td>\n    </tr>\n  </tbody>\n</table>\n</div>"
     },
     "metadata": {},
     "execution_count": 26
    }
   ],
   "source": [
    "xqrs_clean_lag_10 = supervised_by_exam(xqrs_clean_imputed)\n",
    "xqrs_clean_lag_10.head()"
   ]
  },
  {
   "cell_type": "code",
   "execution_count": 27,
   "metadata": {},
   "outputs": [
    {
     "output_type": "stream",
     "name": "stdout",
     "text": "CPU times: user 2min 29s, sys: 10.1 s, total: 2min 39s\nWall time: 2min 39s\n"
    }
   ],
   "source": [
    "%%time\n",
    "\n",
    "xqrs_clean_lag_30 = supervised_by_exam(xqrs_clean_imputed, 3)\n",
    "xqrs_clean_lag_60 = supervised_by_exam(xqrs_clean_imputed, 6)\n",
    "xqrs_clean_lag_120 = supervised_by_exam(xqrs_clean_imputed, 12)\n",
    "xqrs_clean_lag_240 = supervised_by_exam(xqrs_clean_imputed, 24)"
   ]
  },
  {
   "cell_type": "markdown",
   "metadata": {},
   "source": [
    "### Age & Gender"
   ]
  },
  {
   "cell_type": "code",
   "execution_count": 45,
   "metadata": {},
   "outputs": [
    {
     "output_type": "execute_result",
     "data": {
      "text/plain": "  Patient   Age                                               path      Genre\n0    1027  50.0  /home/zozi/Downloads/info-patients-v0_4/edf/de...       male\n1    3635   6.0  /home/zozi/Downloads/info-patients-v0_4/edf/de...       male\n2     795  27.0  /home/zozi/Downloads/info-patients-v0_4/edf/de...       male\n3    3306  13.0  /home/zozi/Downloads/info-patients-v0_4/edf/de...     female\n4    4671  22.0  /home/zozi/Downloads/info-patients-v0_4/edf/de...  gentleman",
      "text/html": "<div>\n<style scoped>\n    .dataframe tbody tr th:only-of-type {\n        vertical-align: middle;\n    }\n\n    .dataframe tbody tr th {\n        vertical-align: top;\n    }\n\n    .dataframe thead th {\n        text-align: right;\n    }\n</style>\n<table border=\"1\" class=\"dataframe\">\n  <thead>\n    <tr style=\"text-align: right;\">\n      <th></th>\n      <th>Patient</th>\n      <th>Age</th>\n      <th>path</th>\n      <th>Genre</th>\n    </tr>\n  </thead>\n  <tbody>\n    <tr>\n      <th>0</th>\n      <td>1027</td>\n      <td>50.0</td>\n      <td>/home/zozi/Downloads/info-patients-v0_4/edf/de...</td>\n      <td>male</td>\n    </tr>\n    <tr>\n      <th>1</th>\n      <td>3635</td>\n      <td>6.0</td>\n      <td>/home/zozi/Downloads/info-patients-v0_4/edf/de...</td>\n      <td>male</td>\n    </tr>\n    <tr>\n      <th>2</th>\n      <td>795</td>\n      <td>27.0</td>\n      <td>/home/zozi/Downloads/info-patients-v0_4/edf/de...</td>\n      <td>male</td>\n    </tr>\n    <tr>\n      <th>3</th>\n      <td>3306</td>\n      <td>13.0</td>\n      <td>/home/zozi/Downloads/info-patients-v0_4/edf/de...</td>\n      <td>female</td>\n    </tr>\n    <tr>\n      <th>4</th>\n      <td>4671</td>\n      <td>22.0</td>\n      <td>/home/zozi/Downloads/info-patients-v0_4/edf/de...</td>\n      <td>gentleman</td>\n    </tr>\n  </tbody>\n</table>\n</div>"
     },
     "metadata": {},
     "execution_count": 45
    }
   ],
   "source": [
    "age = pd.read_csv('../to_csv/age/age_gender_by_patient.csv')\n",
    "age.Patient = age.Patient.astype(str).str.lstrip('0')\n",
    "age.head()"
   ]
  },
  {
   "cell_type": "code",
   "execution_count": 55,
   "metadata": {},
   "outputs": [],
   "source": [
    "age.Patient = age.Patient.astype(str)"
   ]
  },
  {
   "cell_type": "code",
   "execution_count": 47,
   "metadata": {},
   "outputs": [],
   "source": [
    "def reg(text):\n",
    "    r = re.search(r'_(\\d+)_s', text)\n",
    "    if r:\n",
    "        return r.group(1)"
   ]
  },
  {
   "cell_type": "code",
   "execution_count": 48,
   "metadata": {},
   "outputs": [],
   "source": [
    "xqrs_clean_imputed_age = xqrs_clean_imputed\n",
    "xqrs_clean_imputed_age['Patient'] = xqrs_clean_imputed_age.Key.apply(reg)"
   ]
  },
  {
   "cell_type": "code",
   "execution_count": 51,
   "metadata": {},
   "outputs": [],
   "source": [
    "xqrs_clean_imputed_age.Patient = xqrs_clean_imputed_age.Patient.astype(str)"
   ]
  },
  {
   "cell_type": "code",
   "execution_count": 58,
   "metadata": {},
   "outputs": [
    {
     "output_type": "execute_result",
     "data": {
      "text/plain": "(51010, 19)"
     },
     "metadata": {},
     "execution_count": 58
    }
   ],
   "source": [
    "xqrs_clean_imputed_age.shape"
   ]
  },
  {
   "cell_type": "code",
   "execution_count": 59,
   "metadata": {},
   "outputs": [],
   "source": [
    "xqrs_clean_imputed_age = xqrs_clean_imputed_age.merge(age, on='Patient')"
   ]
  },
  {
   "cell_type": "markdown",
   "metadata": {},
   "source": [
    "# The Loop"
   ]
  },
  {
   "cell_type": "code",
   "execution_count": 16,
   "metadata": {},
   "outputs": [],
   "source": [
    "import re\n",
    "\n",
    "def reg(text):\n",
    "    r = re.search(r'_(\\d+)_s', text)\n",
    "    if r:\n",
    "        return r.group(1)"
   ]
  },
  {
   "cell_type": "code",
   "execution_count": 17,
   "metadata": {},
   "outputs": [
    {
     "output_type": "execute_result",
     "data": {
      "text/plain": "59"
     },
     "metadata": {},
     "execution_count": 17
    }
   ],
   "source": [
    "patients = set(xqrs_clean_imputed.Key.apply(reg))\n",
    "len(patients)"
   ]
  },
  {
   "cell_type": "code",
   "execution_count": 18,
   "metadata": {},
   "outputs": [
    {
     "output_type": "execute_result",
     "data": {
      "text/plain": "                                         Key         hf    ID  lf_hf_ratio  \\\n0  train_01_tcp_ar_7793_s001_2011_05_27_t001  14.894991  7793     4.073003   \n1  train_01_tcp_ar_7793_s001_2011_05_27_t001  14.894991  7793     4.073003   \n2  train_01_tcp_ar_7793_s001_2011_05_27_t001  14.894991  7793     4.073003   \n3  train_01_tcp_ar_7793_s001_2011_05_27_t001  14.894991  7793     4.073003   \n4  train_01_tcp_ar_7793_s001_2011_05_27_t001  14.894991  7793     4.073003   \n\n         vlf      max_hr         lf       cvi       sd1      min_hr  \\\n0  13.085253  127.118644  17.995638  2.418987  2.192229  105.633803   \n1  13.085253  120.000000  17.995638  2.418987  2.192229  118.110236   \n2  13.085253  120.967742  17.995638  2.418987  2.192229  118.110236   \n3  13.085253  120.967742  17.995638  2.418987  2.192229  116.279070   \n4  13.085253  120.967742  17.995638  2.418987  2.192229  118.110236   \n\n         sd2    sampen  median_nni     mean_hr  mean_nni      csi  \\\n0  11.531646  0.325657       506.0  118.490493     507.8  7.01144   \n1  11.531646  0.325657       504.0  119.049198     504.0  7.01144   \n2  11.531646  0.325657       502.0  119.532917     502.0  7.01144   \n3  11.531646  0.325657       512.0  117.713266     509.8  7.01144   \n4  11.531646  0.325657       504.0  118.816291     505.0  7.01144   \n\n   Modified_csi  label  \n0    329.814954      0  \n1    329.814954      1  \n2    329.814954      1  \n3    329.814954      1  \n4    329.814954      1  ",
      "text/html": "<div>\n<style scoped>\n    .dataframe tbody tr th:only-of-type {\n        vertical-align: middle;\n    }\n\n    .dataframe tbody tr th {\n        vertical-align: top;\n    }\n\n    .dataframe thead th {\n        text-align: right;\n    }\n</style>\n<table border=\"1\" class=\"dataframe\">\n  <thead>\n    <tr style=\"text-align: right;\">\n      <th></th>\n      <th>Key</th>\n      <th>hf</th>\n      <th>ID</th>\n      <th>lf_hf_ratio</th>\n      <th>vlf</th>\n      <th>max_hr</th>\n      <th>lf</th>\n      <th>cvi</th>\n      <th>sd1</th>\n      <th>min_hr</th>\n      <th>sd2</th>\n      <th>sampen</th>\n      <th>median_nni</th>\n      <th>mean_hr</th>\n      <th>mean_nni</th>\n      <th>csi</th>\n      <th>Modified_csi</th>\n      <th>label</th>\n    </tr>\n  </thead>\n  <tbody>\n    <tr>\n      <th>0</th>\n      <td>train_01_tcp_ar_7793_s001_2011_05_27_t001</td>\n      <td>14.894991</td>\n      <td>7793</td>\n      <td>4.073003</td>\n      <td>13.085253</td>\n      <td>127.118644</td>\n      <td>17.995638</td>\n      <td>2.418987</td>\n      <td>2.192229</td>\n      <td>105.633803</td>\n      <td>11.531646</td>\n      <td>0.325657</td>\n      <td>506.0</td>\n      <td>118.490493</td>\n      <td>507.8</td>\n      <td>7.01144</td>\n      <td>329.814954</td>\n      <td>0</td>\n    </tr>\n    <tr>\n      <th>1</th>\n      <td>train_01_tcp_ar_7793_s001_2011_05_27_t001</td>\n      <td>14.894991</td>\n      <td>7793</td>\n      <td>4.073003</td>\n      <td>13.085253</td>\n      <td>120.000000</td>\n      <td>17.995638</td>\n      <td>2.418987</td>\n      <td>2.192229</td>\n      <td>118.110236</td>\n      <td>11.531646</td>\n      <td>0.325657</td>\n      <td>504.0</td>\n      <td>119.049198</td>\n      <td>504.0</td>\n      <td>7.01144</td>\n      <td>329.814954</td>\n      <td>1</td>\n    </tr>\n    <tr>\n      <th>2</th>\n      <td>train_01_tcp_ar_7793_s001_2011_05_27_t001</td>\n      <td>14.894991</td>\n      <td>7793</td>\n      <td>4.073003</td>\n      <td>13.085253</td>\n      <td>120.967742</td>\n      <td>17.995638</td>\n      <td>2.418987</td>\n      <td>2.192229</td>\n      <td>118.110236</td>\n      <td>11.531646</td>\n      <td>0.325657</td>\n      <td>502.0</td>\n      <td>119.532917</td>\n      <td>502.0</td>\n      <td>7.01144</td>\n      <td>329.814954</td>\n      <td>1</td>\n    </tr>\n    <tr>\n      <th>3</th>\n      <td>train_01_tcp_ar_7793_s001_2011_05_27_t001</td>\n      <td>14.894991</td>\n      <td>7793</td>\n      <td>4.073003</td>\n      <td>13.085253</td>\n      <td>120.967742</td>\n      <td>17.995638</td>\n      <td>2.418987</td>\n      <td>2.192229</td>\n      <td>116.279070</td>\n      <td>11.531646</td>\n      <td>0.325657</td>\n      <td>512.0</td>\n      <td>117.713266</td>\n      <td>509.8</td>\n      <td>7.01144</td>\n      <td>329.814954</td>\n      <td>1</td>\n    </tr>\n    <tr>\n      <th>4</th>\n      <td>train_01_tcp_ar_7793_s001_2011_05_27_t001</td>\n      <td>14.894991</td>\n      <td>7793</td>\n      <td>4.073003</td>\n      <td>13.085253</td>\n      <td>120.967742</td>\n      <td>17.995638</td>\n      <td>2.418987</td>\n      <td>2.192229</td>\n      <td>118.110236</td>\n      <td>11.531646</td>\n      <td>0.325657</td>\n      <td>504.0</td>\n      <td>118.816291</td>\n      <td>505.0</td>\n      <td>7.01144</td>\n      <td>329.814954</td>\n      <td>1</td>\n    </tr>\n  </tbody>\n</table>\n</div>"
     },
     "metadata": {},
     "execution_count": 18
    }
   ],
   "source": [
    "xqrs_clean_imputed_cat = xqrs_clean_imputed\n",
    "xqrs_clean_imputed_cat.insert(2, 'ID', xqrs_clean_imputed_cat.Key.apply(reg))\n",
    "xqrs_clean_imputed_cat.head()"
   ]
  },
  {
   "cell_type": "code",
   "execution_count": 19,
   "metadata": {},
   "outputs": [],
   "source": [
    "xqrs_clean_imputed_cat['ID'] = xqrs_clean_imputed_cat['ID'].astype(str)"
   ]
  },
  {
   "cell_type": "code",
   "execution_count": 20,
   "metadata": {},
   "outputs": [
    {
     "output_type": "stream",
     "name": "stdout",
     "text": "50433 50433\n"
    }
   ],
   "source": [
    "total = 0\n",
    "for i in patients:\n",
    "    total += xqrs_clean_imputed[xqrs_clean_imputed.Key.str.contains(i)].shape[0]\n",
    "\n",
    "print(xqrs_clean_imputed.shape[0], total)"
   ]
  },
  {
   "cell_type": "markdown",
   "metadata": {},
   "source": [
    "## DecisionTreeClassifier"
   ]
  },
  {
   "cell_type": "code",
   "execution_count": 21,
   "metadata": {},
   "outputs": [],
   "source": [
    "from sklearn.tree import DecisionTreeClassifier\n",
    "from functions import simple_ml\n",
    "from xgboost import XGBClassifier"
   ]
  },
  {
   "cell_type": "code",
   "execution_count": 22,
   "metadata": {},
   "outputs": [],
   "source": [
    "import operator"
   ]
  },
  {
   "cell_type": "code",
   "execution_count": 24,
   "metadata": {},
   "outputs": [
    {
     "output_type": "stream",
     "name": "stdout",
     "text": "6440  -> f1 score test full features:  0.49032258064516127 nb lignes:  814 % of Crisis 33\n7793  -> f1 score test full features:  0.0 nb lignes:  137 % of Crisis 30\n6175  -> f1 score test full features:  0.7784431137724552 nb lignes:  540 % of Crisis 33\n10843  -> f1 score test full features:  0.0 nb lignes:  259 % of Crisis 27\n12941  -> f1 score test full features:  0.7499999999999999 nb lignes:  431 % of Crisis 39\n13085  -> f1 score test full features:  0.0 nb lignes:  281 % of Crisis 33\n3977  -> f1 score test full features:  0.5789473684210527 nb lignes:  138 % of Crisis 34\n10418  -> f1 score test full features:  0.16909620991253643 nb lignes:  3363 % of Crisis 15\n11333  -> f1 score test full features:  0.0 nb lignes:  1690 % of Crisis 42\n1324  -> f1 score test full features:  0.7692307692307693 nb lignes:  128 % of Crisis 17\n675  -> f1 score test full features:  0.07999999999999999 nb lignes:  247 % of Crisis 17\n5034  -> f1 score test full features:  0.0 nb lignes:  212 % of Crisis 35\n2448  -> f1 score test full features:  0.0 nb lignes:  221 % of Crisis 9\n473  -> f1 score test full features:  0.0 nb lignes:  251 % of Crisis 21\n473\n6083  -> f1 score test full features:  0.375 nb lignes:  361 % of Crisis 28\n9540  -> f1 score test full features:  0.0 nb lignes:  523 % of Crisis 21\n6904  -> f1 score test full features:  0.8703703703703703 nb lignes:  304 % of Crisis 28\n5943  -> f1 score test full features:  0.19753086419753085 nb lignes:  405 % of Crisis 42\n3401  -> f1 score test full features:  1.0 nb lignes:  172 % of Crisis 36\n3401\n3668  -> f1 score test full features:  0.28571428571428575 nb lignes:  126 % of Crisis 21\n6507  -> f1 score test full features:  0.125 nb lignes:  121 % of Crisis 46\n8544  -> f1 score test full features:  0.04048582995951417 nb lignes:  3720 % of Crisis 16\n8460  -> f1 score test full features:  0.4444444444444444 nb lignes:  1285 % of Crisis 14\n7835  -> f1 score test full features:  0.0 nb lignes:  150 % of Crisis 10\n2521  -> f1 score test full features:  0.9539748953974896 nb lignes:  622 % of Crisis 37\n7032  -> f1 score test full features:  0.3448275862068965 nb lignes:  631 % of Crisis 30\n2484  -> f1 score test full features:  0.0 nb lignes:  155 % of Crisis 9\n2484\n7252  -> f1 score test full features:  0.9142857142857143 nb lignes:  328 % of Crisis 49\n7234  -> f1 score test full features:  0.6753246753246753 nb lignes:  254 % of Crisis 36\n2991  -> f1 score test full features:  0.0 nb lignes:  927 % of Crisis 9\n258  -> f1 score test full features:  0.26666666666666666 nb lignes:  304 % of Crisis 46\n12973  -> f1 score test full features:  0.047619047619047616 nb lignes:  774 % of Crisis 17\n7128  -> f1 score test full features:  0.22 nb lignes:  933 % of Crisis 20\n5633  -> f1 score test full features:  0.37499999999999994 nb lignes:  180 % of Crisis 34\n7623  -> f1 score test full features:  0.0 nb lignes:  137 % of Crisis 17\n11077  -> f1 score test full features:  0.14285714285714285 nb lignes:  2489 % of Crisis 16\n6444  -> f1 score test full features:  0.5882352941176471 nb lignes:  228 % of Crisis 10\n5452  -> f1 score test full features:  0.0 nb lignes:  520 % of Crisis 16\n6413  -> f1 score test full features:  0.03773584905660377 nb lignes:  526 % of Crisis 21\n6546  -> f1 score test full features:  0.25 nb lignes:  1417 % of Crisis 10\n302  -> f1 score test full features:  0.6071428571428571 nb lignes:  498 % of Crisis 40\n4456  -> f1 score test full features:  0.9645390070921985 nb lignes:  728 % of Crisis 49\n1770  -> f1 score test full features:  0.0 nb lignes:  473 % of Crisis 49\n1770\n4151  -> f1 score test full features:  0.3 nb lignes:  260 % of Crisis 13\n5625  -> f1 score test full features:  0.0 nb lignes:  248 % of Crisis 12\n9866  -> f1 score test full features:  0.0 nb lignes:  988 % of Crisis 27\n9630  -> f1 score test full features:  0.0 nb lignes:  199 % of Crisis 36\n13103  -> f1 score test full features:  0.5714285714285715 nb lignes:  189 % of Crisis 31\n10106  -> f1 score test full features:  0.4578313253012048 nb lignes:  1233 % of Crisis 13\n9578  -> f1 score test full features:  0.05339805825242719 nb lignes:  11374 % of Crisis 11\n9842  -> f1 score test full features:  0.1276595744680851 nb lignes:  928 % of Crisis 12\n7584  -> f1 score test full features:  0.0 nb lignes:  678 % of Crisis 13\n9885  -> f1 score test full features:  0.380952380952381 nb lignes:  149 % of Crisis 26\n2760  -> f1 score test full features:  0.0 nb lignes:  120 % of Crisis 18\n11870  -> f1 score test full features:  0.43269230769230765 nb lignes:  2026 % of Crisis 16\n11869  -> f1 score test full features:  0.0 nb lignes:  1612 % of Crisis 10\n12759  -> f1 score test full features:  0.0 nb lignes:  279 % of Crisis 11\n2806  -> f1 score test full features:  0.5454545454545454 nb lignes:  191 % of Crisis 44\n6514  -> f1 score test full features:  0.19718309859154928 nb lignes:  1956 % of Crisis 10\n"
    }
   ],
   "source": [
    "results = pd.DataFrame()\n",
    "for i in patients:\n",
    "    df = xqrs_clean_imputed[xqrs_clean_imputed.Key.str.contains(i)]\n",
    "    score, tree = simple_ml(df, DecisionTreeClassifier())\n",
    "    percentage_of_crisis = int((df.label.value_counts(normalize=True) * 100).values[1])\n",
    "    #if score['f1_score test'] > 0.6:\n",
    "    #if percentage_of_crisis > 15:\n",
    "    print(i, ' -> f1 score test full features: ', \n",
    "            score['f1_score test'], 'nb lignes: ', \n",
    "            df.shape[0],\n",
    "            '% of Crisis', percentage_of_crisis)\n",
    "\n",
    "    try:\n",
    "        results = results.append(pd.DataFrame({\n",
    "            'Patient': i,\n",
    "            'accuracy train': score['accuracy train'],\n",
    "            'accuracy test': score['accuracy test'],\n",
    "            'f1_score train': score['f1_score train'],\n",
    "            'f1_score test': score['f1_score test'],\n",
    "            'cm train': [score['cm train']],\n",
    "            'cm test': [score['cm test']],\n",
    "            'sensitivity train': score['sensitivity train'],\n",
    "            'sensitivity test': score['sensitivity test'],\n",
    "            'specificity train': score['specificity train'],\n",
    "            'specificity test': score['specificity train']\n",
    "        }, index=[0]))\n",
    "    except KeyError:\n",
    "        print(i)\n",
    "        pass"
   ]
  },
  {
   "cell_type": "code",
   "execution_count": 28,
   "metadata": {},
   "outputs": [],
   "source": [
    "results.to_csv('../to_csv/results/decision_tree_results_normal.csv', index=False)"
   ]
  },
  {
   "cell_type": "markdown",
   "metadata": {},
   "source": [
    "*Lag comparison*"
   ]
  },
  {
   "cell_type": "code",
   "execution_count": 29,
   "metadata": {},
   "outputs": [],
   "source": [
    "from xgboost import XGBClassifier\n",
    "from sklearn.svm import SVC"
   ]
  },
  {
   "cell_type": "code",
   "execution_count": 34,
   "metadata": {
    "tags": [
     "outputPrepend",
     "outputPrepend",
     "outputPrepend",
     "outputPrepend",
     "outputPrepend",
     "outputPrepend",
     "outputPrepend",
     "outputPrepend",
     "outputPrepend",
     "outputPrepend",
     "outputPrepend",
     "outputPrepend",
     "outputPrepend",
     "outputPrepend",
     "outputPrepend",
     "outputPrepend",
     "outputPrepend",
     "outputPrepend",
     "outputPrepend"
    ]
   },
   "outputs": [
    {
     "output_type": "stream",
     "name": "stdout",
     "text": "7793  -  'sensitivity train'\n473  -  'sensitivity train'\n9540  -  'sensitivity train'\n3401  -  'sensitivity train'\n7835  -  'sensitivity train'\n2521  -  'sensitivity train'\n2484  -  'sensitivity train'\n7234  -  'sensitivity train'\n2991  -  'sensitivity train'\n6444  -  The number of classes has to be greater than one; got 1 class\n5452  -  'sensitivity train'\n6546  -  'sensitivity train'\n4456  -  'sensitivity train'\n1770  -  'sensitivity train'\n9630  -  'sensitivity train'\n2760  -  'sensitivity train'\n"
    }
   ],
   "source": [
    "results = pd.DataFrame()\n",
    "for i in patients:\n",
    "    try:\n",
    "        #print(i, '\\n')\n",
    "        df = xqrs_clean_imputed[xqrs_clean_imputed.Key.str.contains(i)]\n",
    "        score, tree = simple_ml(df, SVC())\n",
    "        #print(' -> f1 score test full features: ', score['f1_score test'])\n",
    "\n",
    "        results = results.append(pd.DataFrame({\n",
    "            'Patient': i,\n",
    "            'Dataset': 'Normal',\n",
    "            'accuracy train': score['accuracy train'],\n",
    "            'accuracy test': score['accuracy test'],\n",
    "            'f1_score train': score['f1_score train'],\n",
    "            'f1_score test': score['f1_score test'],\n",
    "            'cm train': [score['cm train']],\n",
    "            'cm test': [score['cm test']],\n",
    "            'sensitivity train': score['sensitivity train'],\n",
    "            'sensitivity test': score['sensitivity test'],\n",
    "            'specificity train': score['specificity train'],\n",
    "            'specificity test': score['specificity train']\n",
    "        }, index=[0]))\n",
    "\n",
    "        df = xqrs_clean_lag_10[xqrs_clean_lag_10.Key.str.contains(i)]\n",
    "        score, tree = simple_ml(df, SVC())\n",
    "        #print('  -> f1 score test full features: ', score['f1_score test'])\n",
    "\n",
    "        results = results.append(pd.DataFrame({\n",
    "            'Patient': i,\n",
    "            'Dataset': '10 sec',\n",
    "            'accuracy train': score['accuracy train'],\n",
    "            'accuracy test': score['accuracy test'],\n",
    "            'f1_score train': score['f1_score train'],\n",
    "            'f1_score test': score['f1_score test'],\n",
    "            'cm train': [score['cm train']],\n",
    "            'cm test': [score['cm test']],\n",
    "            'sensitivity train': score['sensitivity train'],\n",
    "            'sensitivity test': score['sensitivity test'],\n",
    "            'specificity train': score['specificity train'],\n",
    "            'specificity test': score['specificity train']\n",
    "        }, index=[0]))\n",
    "\n",
    "        df = xqrs_clean_lag_30[xqrs_clean_lag_30.Key.str.contains(i)]\n",
    "        score, tree = simple_ml(df, SVC())\n",
    "        #print('      -> f1 score test full features: ', score['f1_score test'])\n",
    "\n",
    "        results = results.append(pd.DataFrame({\n",
    "            'Patient': i,\n",
    "            'Dataset': '30 sec',\n",
    "            'accuracy train': score['accuracy train'],\n",
    "            'accuracy test': score['accuracy test'],\n",
    "            'f1_score train': score['f1_score train'],\n",
    "            'f1_score test': score['f1_score test'],\n",
    "            'cm train': [score['cm train']],\n",
    "            'cm test': [score['cm test']],\n",
    "            'sensitivity train': score['sensitivity train'],\n",
    "            'sensitivity test': score['sensitivity test'],\n",
    "            'specificity train': score['specificity train'],\n",
    "            'specificity test': score['specificity train']\n",
    "        }, index=[0]))\n",
    "\n",
    "        df = xqrs_clean_lag_60[xqrs_clean_lag_60.Key.str.contains(i)]\n",
    "        score, tree = simple_ml(df, SVC())\n",
    "        #print('          -> f1 score test full features: ', score['f1_score test'])\n",
    "\n",
    "        results = results.append(pd.DataFrame({\n",
    "            'Patient': i,\n",
    "            'Dataset': '60 sec',\n",
    "            'accuracy train': score['accuracy train'],\n",
    "            'accuracy test': score['accuracy test'],\n",
    "            'f1_score train': score['f1_score train'],\n",
    "            'f1_score test': score['f1_score test'],\n",
    "            'cm train': [score['cm train']],\n",
    "            'cm test': [score['cm test']],\n",
    "            'sensitivity train': score['sensitivity train'],\n",
    "            'sensitivity test': score['sensitivity test'],\n",
    "            'specificity train': score['specificity train'],\n",
    "            'specificity test': score['specificity train']\n",
    "        }, index=[0]))\n",
    "\n",
    "        df = xqrs_clean_lag_120[xqrs_clean_lag_120.Key.str.contains(i)]\n",
    "        score, tree = simple_ml(df, SVC())\n",
    "        #print('              -> f1 score test full features: ', score['f1_score test'])\n",
    "\n",
    "        results = results.append(pd.DataFrame({\n",
    "            'Patient': i,\n",
    "            'Dataset': '120 sec',\n",
    "            'accuracy train': score['accuracy train'],\n",
    "            'accuracy test': score['accuracy test'],\n",
    "            'f1_score train': score['f1_score train'],\n",
    "            'f1_score test': score['f1_score test'],\n",
    "            'cm train': [score['cm train']],\n",
    "            'cm test': [score['cm test']],\n",
    "            'sensitivity train': score['sensitivity train'],\n",
    "            'sensitivity test': score['sensitivity test'],\n",
    "            'specificity train': score['specificity train'],\n",
    "            'specificity test': score['specificity train']\n",
    "        }, index=[0]))\n",
    "\n",
    "        df = xqrs_clean_lag_240[xqrs_clean_lag_240.Key.str.contains(i)]\n",
    "        score, tree = simple_ml(df, SVC())\n",
    "        #print('                  -> f1 score test full features: ', score['f1_score test'])\n",
    "        #print('--------------------------------------------------------------')\n",
    "\n",
    "        results = results.append(pd.DataFrame({\n",
    "            'Patient': i,\n",
    "            'Dataset': '240 sec',\n",
    "            'accuracy train': score['accuracy train'],\n",
    "            'accuracy test': score['accuracy test'],\n",
    "            'f1_score train': score['f1_score train'],\n",
    "            'f1_score test': score['f1_score test'],\n",
    "            'cm train': [score['cm train']],\n",
    "            'cm test': [score['cm test']],\n",
    "            'sensitivity train': score['sensitivity train'],\n",
    "            'sensitivity test': score['sensitivity test'],\n",
    "            'specificity train': score['specificity train'],\n",
    "            'specificity test': score['specificity train']\n",
    "        }, index=[0]))\n",
    "\n",
    "\n",
    "    except (ValueError, KeyError) as e:\n",
    "        print(i, ' - ',e)\n",
    "        pass"
   ]
  },
  {
   "cell_type": "code",
   "execution_count": 35,
   "metadata": {},
   "outputs": [],
   "source": [
    "results.to_csv('../to_csv/results/SVC_results_compare.csv', index=False)"
   ]
  },
  {
   "cell_type": "markdown",
   "metadata": {},
   "source": [
    "**Normal Data**"
   ]
  },
  {
   "cell_type": "code",
   "execution_count": 33,
   "metadata": {},
   "outputs": [
    {
     "output_type": "execute_result",
     "data": {
      "text/plain": "{'accuracy train': 0.9999504287909582,\n 'accuracy test': 0.858035094676316,\n 'f1_score train': 0.9998821727347708,\n 'f1_score test': 0.664007508212107,\n 'cm train': array([[31858,     0],\n        [    2,  8486]]),\n 'cm test': array([[7240,  725],\n        [ 707, 1415]]),\n 'sensitivity train': 0.9997643732327992,\n 'sensitivity test': 0.6668237511781339,\n 'specificity train': 1.0,\n 'specificity test': 0.9089767733835531}"
     },
     "metadata": {},
     "execution_count": 33
    }
   ],
   "source": [
    "score, tree = simple_ml(xqrs_clean_imputed, DecisionTreeClassifier())\n",
    "score"
   ]
  },
  {
   "cell_type": "markdown",
   "metadata": {},
   "source": [
    "**With Patient ID**"
   ]
  },
  {
   "cell_type": "code",
   "execution_count": 34,
   "metadata": {},
   "outputs": [
    {
     "output_type": "execute_result",
     "data": {
      "text/plain": "{'accuracy train': 0.9999504287909582,\n 'accuracy test': 0.8590264697134926,\n 'f1_score train': 0.9998821727347708,\n 'f1_score test': 0.6655691439322673,\n 'cm train': array([[31858,     0],\n        [    2,  8486]]),\n 'cm test': array([[7250,  715],\n        [ 707, 1415]]),\n 'sensitivity train': 0.9997643732327992,\n 'sensitivity test': 0.6668237511781339,\n 'specificity train': 1.0,\n 'specificity test': 0.9102322661644695}"
     },
     "metadata": {},
     "execution_count": 34
    }
   ],
   "source": [
    "score, tree = simple_ml(xqrs_clean_imputed_cat, DecisionTreeClassifier())\n",
    "score"
   ]
  },
  {
   "cell_type": "markdown",
   "metadata": {},
   "source": [
    "**Lagged 10 sec Data**"
   ]
  },
  {
   "cell_type": "code",
   "execution_count": 35,
   "metadata": {},
   "outputs": [
    {
     "output_type": "execute_result",
     "data": {
      "text/plain": "{'accuracy train': 1.0,\n 'accuracy test': 0.7981882234524409,\n 'f1_score train': 1.0,\n 'f1_score test': 0.5318701844501518,\n 'cm train': array([[31325,     0],\n        [    0,  8414]]),\n 'cm test': array([[6791, 1041],\n        [ 964, 1139]]),\n 'sensitivity train': 1.0,\n 'sensitivity test': 0.5416072277698526,\n 'specificity train': 1.0,\n 'specificity test': 0.8670837589376915}"
     },
     "metadata": {},
     "execution_count": 35
    }
   ],
   "source": [
    "score, tree = simple_ml(xqrs_clean_lag_10, DecisionTreeClassifier())\n",
    "score"
   ]
  },
  {
   "cell_type": "markdown",
   "metadata": {},
   "source": [
    "**Lagged 30 sec Data**"
   ]
  },
  {
   "cell_type": "code",
   "execution_count": 36,
   "metadata": {},
   "outputs": [
    {
     "output_type": "execute_result",
     "data": {
      "text/plain": "{'accuracy train': 1.0,\n 'accuracy test': 0.7904900332225914,\n 'f1_score train': 1.0,\n 'f1_score test': 0.5211200759373517,\n 'cm train': array([[30276,     0],\n        [    0,  8248]]),\n 'cm test': array([[6516, 1054],\n        [ 964, 1098]]),\n 'sensitivity train': 1.0,\n 'sensitivity test': 0.5324927255092143,\n 'specificity train': 1.0,\n 'specificity test': 0.8607661822985468}"
     },
     "metadata": {},
     "execution_count": 36
    }
   ],
   "source": [
    "score, tree = simple_ml(xqrs_clean_lag_30, DecisionTreeClassifier())\n",
    "score"
   ]
  },
  {
   "cell_type": "markdown",
   "metadata": {},
   "source": [
    "**Lagged 60 sec Data**"
   ]
  },
  {
   "cell_type": "code",
   "execution_count": 37,
   "metadata": {},
   "outputs": [
    {
     "output_type": "execute_result",
     "data": {
      "text/plain": "{'accuracy train': 1.0,\n 'accuracy test': 0.7920662598081953,\n 'f1_score train': 1.0,\n 'f1_score test': 0.5302806499261449,\n 'cm train': array([[28725,     0],\n        [    0,  7978]]),\n 'cm test': array([[6191,  990],\n        [ 918, 1077]]),\n 'sensitivity train': 1.0,\n 'sensitivity test': 0.5398496240601504,\n 'specificity train': 1.0,\n 'specificity test': 0.8621361927308174}"
     },
     "metadata": {},
     "execution_count": 37
    }
   ],
   "source": [
    "score, tree = simple_ml(xqrs_clean_lag_60, DecisionTreeClassifier())\n",
    "score"
   ]
  },
  {
   "cell_type": "markdown",
   "metadata": {},
   "source": [
    "**Lagged 120 sec Data**"
   ]
  },
  {
   "cell_type": "code",
   "execution_count": 38,
   "metadata": {},
   "outputs": [
    {
     "output_type": "execute_result",
     "data": {
      "text/plain": "{'accuracy train': 1.0,\n 'accuracy test': 0.7904416212946158,\n 'f1_score train': 1.0,\n 'f1_score test': 0.5398512221041446,\n 'cm train': array([[25639,     0],\n        [    0,  7421]]),\n 'cm test': array([[5517,  893],\n        [ 839, 1016]]),\n 'sensitivity train': 1.0,\n 'sensitivity test': 0.5477088948787062,\n 'specificity train': 1.0,\n 'specificity test': 0.8606864274570983}"
     },
     "metadata": {},
     "execution_count": 38
    }
   ],
   "source": [
    "score, tree = simple_ml(xqrs_clean_lag_120, DecisionTreeClassifier())\n",
    "score"
   ]
  },
  {
   "cell_type": "markdown",
   "metadata": {},
   "source": [
    "**Lagged 240 sec Data**"
   ]
  },
  {
   "cell_type": "code",
   "execution_count": 39,
   "metadata": {},
   "outputs": [
    {
     "output_type": "execute_result",
     "data": {
      "text/plain": "{'accuracy train': 1.0,\n 'accuracy test': 0.7948281201610405,\n 'f1_score train': 1.0,\n 'f1_score test': 0.5881255828411563,\n 'cm train': array([[19509,     0],\n        [    0,  6322]]),\n 'cm test': array([[4187,  690],\n        [ 635,  946]]),\n 'sensitivity train': 1.0,\n 'sensitivity test': 0.5983554712207464,\n 'specificity train': 1.0,\n 'specificity test': 0.8585195817100677}"
     },
     "metadata": {},
     "execution_count": 39
    }
   ],
   "source": [
    "score, tree = simple_ml(xqrs_clean_lag_240, DecisionTreeClassifier())\n",
    "score"
   ]
  },
  {
   "cell_type": "markdown",
   "metadata": {},
   "source": [
    "**GridSearch on Normal Data**"
   ]
  },
  {
   "cell_type": "code",
   "execution_count": 40,
   "metadata": {},
   "outputs": [
    {
     "output_type": "stream",
     "name": "stdout",
     "text": "Fitting 5 folds for each of 960 candidates, totalling 4800 fits\n[Parallel(n_jobs=-1)]: Using backend LokyBackend with 12 concurrent workers.\n[Parallel(n_jobs=-1)]: Done  26 tasks      | elapsed:    1.4s\n[Parallel(n_jobs=-1)]: Done 176 tasks      | elapsed:    5.0s\n[Parallel(n_jobs=-1)]: Done 426 tasks      | elapsed:   11.5s\n[Parallel(n_jobs=-1)]: Done 776 tasks      | elapsed:   25.2s\n[Parallel(n_jobs=-1)]: Done 1226 tasks      | elapsed:  1.3min\n[Parallel(n_jobs=-1)]: Done 1776 tasks      | elapsed:  1.6min\n[Parallel(n_jobs=-1)]: Done 2426 tasks      | elapsed:  2.7min\n[Parallel(n_jobs=-1)]: Done 3176 tasks      | elapsed:  3.1min\n[Parallel(n_jobs=-1)]: Done 4026 tasks      | elapsed:  4.1min\n[Parallel(n_jobs=-1)]: Done 4800 out of 4800 | elapsed:  5.4min finished\n"
    },
    {
     "output_type": "execute_result",
     "data": {
      "text/plain": "{'accuracy train': 0.9621523818965945,\n 'accuracy test': 0.8440567066521265,\n 'f1_score train': 0.9174460723360546,\n 'f1_score test': 0.6620837808807734,\n 'cm train': array([[30334,  1524],\n        [    3,  8485]]),\n 'cm test': array([[6973,  992],\n        [ 581, 1541]]),\n 'sensitivity train': 0.9996465598491989,\n 'sensitivity test': 0.7262016965127238,\n 'specificity train': 0.9521627220792266,\n 'specificity test': 0.8754551161330822}"
     },
     "metadata": {},
     "execution_count": 40
    }
   ],
   "source": [
    "params = {\n",
    "    'classifier__criterion': ['gini', 'entropy'],\n",
    "    'classifier__splitter': ['best', 'random'],\n",
    "    'classifier__max_depth': [2, 3, 5, 8, 15, None],\n",
    "    'classifier__min_samples_split': [3, 5, 7, 9],\n",
    "    'classifier__min_samples_leaf': [2, 3, 4, 5, 6],\n",
    "    'classifier__class_weight': [{0:0.25, 1:0.75}, {0:0.2, 1:0.8}]\n",
    "}\n",
    "\n",
    "score, tree = simple_ml(xqrs_clean_imputed, DecisionTreeClassifier(), params, grid=True)\n",
    "score"
   ]
  },
  {
   "cell_type": "markdown",
   "metadata": {},
   "source": [
    "## XGBoostClassifier"
   ]
  },
  {
   "cell_type": "code",
   "execution_count": 41,
   "metadata": {},
   "outputs": [],
   "source": [
    "from xgboost import XGBClassifier"
   ]
  },
  {
   "cell_type": "code",
   "execution_count": 42,
   "metadata": {},
   "outputs": [
    {
     "output_type": "stream",
     "name": "stdout",
     "text": "7252  -> f1 score test full features:  0.9696969696969697 nb lignes:  328 % of Crisis 49\n6083  -> f1 score test full features:  0.6666666666666666 nb lignes:  361 % of Crisis 28\n8544  -> f1 score test full features:  0.6926829268292684 nb lignes:  3720 % of Crisis 16\n5943  -> f1 score test full features:  0.8529411764705882 nb lignes:  405 % of Crisis 42\n11870  -> f1 score test full features:  0.7692307692307692 nb lignes:  2026 % of Crisis 16\n12973  -> f1 score test full features:  0.6511627906976744 nb lignes:  774 % of Crisis 17\n7032  -> f1 score test full features:  0.9302325581395349 nb lignes:  631 % of Crisis 30\n12941  -> f1 score test full features:  0.9142857142857143 nb lignes:  431 % of Crisis 39\n302  -> f1 score test full features:  0.9043478260869564 nb lignes:  498 % of Crisis 40\n10843  -> f1 score test full features:  0.5454545454545454 nb lignes:  259 % of Crisis 27\n9578  -> f1 score test full features:  0.6409638554216867 nb lignes:  11374 % of Crisis 11\n473  -> f1 score test full features:  0.33333333333333326 nb lignes:  251 % of Crisis 21\n7835  -> f1 score test full features:  0.5 nb lignes:  150 % of Crisis 10\n2806  -> f1 score test full features:  0.5161290322580646 nb lignes:  191 % of Crisis 44\n7234  -> f1 score test full features:  0.7826086956521738 nb lignes:  254 % of Crisis 36\n7128  -> f1 score test full features:  0.7777777777777778 nb lignes:  933 % of Crisis 20\n6507  -> f1 score test full features:  0.9090909090909091 nb lignes:  121 % of Crisis 46\n1770  -> f1 score test full features:  1.0 nb lignes:  473 % of Crisis 49\n13085  -> f1 score test full features:  0.8888888888888888 nb lignes:  281 % of Crisis 33\n9866  -> f1 score test full features:  0.9724770642201834 nb lignes:  988 % of Crisis 27\n7584  -> f1 score test full features:  0.35714285714285715 nb lignes:  678 % of Crisis 13\n5452  -> f1 score test full features:  0.6666666666666667 nb lignes:  520 % of Crisis 16\n9842  -> f1 score test full features:  0.4390243902439025 nb lignes:  928 % of Crisis 12\n9540  -> f1 score test full features:  0.8571428571428572 nb lignes:  523 % of Crisis 21\n2760  -> f1 score test full features:  0.75 nb lignes:  120 % of Crisis 18\n10418  -> f1 score test full features:  0.5875706214689266 nb lignes:  3363 % of Crisis 15\n3401  -> f1 score test full features:  0.9767441860465117 nb lignes:  172 % of Crisis 36\n675  -> f1 score test full features:  0.0 nb lignes:  247 % of Crisis 17\n6904  -> f1 score test full features:  0.9090909090909092 nb lignes:  304 % of Crisis 28\n6440  -> f1 score test full features:  0.7818181818181819 nb lignes:  814 % of Crisis 33\n4151  -> f1 score test full features:  0.5454545454545454 nb lignes:  260 % of Crisis 13\n10106  -> f1 score test full features:  0.689655172413793 nb lignes:  1233 % of Crisis 13\n6514  -> f1 score test full features:  0.8108108108108107 nb lignes:  1956 % of Crisis 10\n9885  -> f1 score test full features:  0.3333333333333333 nb lignes:  149 % of Crisis 26\n11869  -> f1 score test full features:  0.5283018867924527 nb lignes:  1612 % of Crisis 10\n9630  -> f1 score test full features:  0.8461538461538461 nb lignes:  199 % of Crisis 36\n6444  -> f1 score test full features:  0.8333333333333333 nb lignes:  228 % of Crisis 10\n5034  -> f1 score test full features:  0.9824561403508771 nb lignes:  212 % of Crisis 35\n7793  -> f1 score test full features:  0.9411764705882353 nb lignes:  137 % of Crisis 30\n13103  -> f1 score test full features:  0.6 nb lignes:  189 % of Crisis 31\n7623  -> f1 score test full features:  0.8000000000000002 nb lignes:  137 % of Crisis 17\n1324  -> f1 score test full features:  0.6666666666666665 nb lignes:  128 % of Crisis 17\n3668  -> f1 score test full features:  0.6153846153846153 nb lignes:  126 % of Crisis 21\n258  -> f1 score test full features:  0.7241379310344827 nb lignes:  304 % of Crisis 46\n6413  -> f1 score test full features:  0.717948717948718 nb lignes:  526 % of Crisis 21\n5625  -> f1 score test full features:  0.8333333333333334 nb lignes:  248 % of Crisis 12\n6175  -> f1 score test full features:  0.888888888888889 nb lignes:  540 % of Crisis 33\n6546  -> f1 score test full features:  0.5833333333333334 nb lignes:  1417 % of Crisis 10\n2521  -> f1 score test full features:  1.0 nb lignes:  622 % of Crisis 37\n2448  -> f1 score test full features:  0.0 nb lignes:  221 % of Crisis 9\n2991  -> f1 score test full features:  0.35714285714285715 nb lignes:  927 % of Crisis 9\n2484  -> f1 score test full features:  0.5 nb lignes:  155 % of Crisis 9\n11077  -> f1 score test full features:  0.5343511450381679 nb lignes:  2489 % of Crisis 16\n3977  -> f1 score test full features:  0.8108108108108109 nb lignes:  138 % of Crisis 34\n11333  -> f1 score test full features:  0.9716312056737589 nb lignes:  1690 % of Crisis 42\n5633  -> f1 score test full features:  0.4444444444444445 nb lignes:  180 % of Crisis 34\n8460  -> f1 score test full features:  0.9066666666666667 nb lignes:  1285 % of Crisis 14\n12759  -> f1 score test full features:  0.6 nb lignes:  279 % of Crisis 11\n4456  -> f1 score test full features:  0.9444444444444444 nb lignes:  728 % of Crisis 49\n"
    }
   ],
   "source": [
    "for i in patients:\n",
    "    df = xqrs_clean_imputed[xqrs_clean_imputed.Key.str.contains(i)]\n",
    "    score, tree = simple_ml(df, XGBClassifier())\n",
    "    percentage_of_crisis = int((df.label.value_counts(normalize=True) * 100).values[1])\n",
    "    #if score['f1_score test'] > 0.6:\n",
    "    #if percentage_of_crisis > 15:\n",
    "    print(i, ' -> f1 score test full features: ', \n",
    "            score['f1_score test'], 'nb lignes: ', \n",
    "            df.shape[0],\n",
    "            '% of Crisis', percentage_of_crisis)"
   ]
  },
  {
   "cell_type": "code",
   "execution_count": 43,
   "metadata": {},
   "outputs": [],
   "source": [
    "score, tree = simple_ml(xqrs_clean_imputed, XGBClassifier())"
   ]
  },
  {
   "cell_type": "code",
   "execution_count": 44,
   "metadata": {},
   "outputs": [
    {
     "output_type": "execute_result",
     "data": {
      "text/plain": "{'accuracy train': 0.9190750012392802,\n 'accuracy test': 0.8823237830871419,\n 'f1_score train': 0.7702483991274364,\n 'f1_score test': 0.653632915086081,\n 'cm train': array([[31608,   250],\n        [ 3015,  5473]]),\n 'cm test': array([[7780,  185],\n        [1002, 1120]]),\n 'sensitivity train': 0.6447926484448633,\n 'sensitivity test': 0.527803958529689,\n 'specificity train': 0.9921526775064348,\n 'specificity test': 0.9767733835530445}"
     },
     "metadata": {},
     "execution_count": 44
    }
   ],
   "source": [
    "score"
   ]
  },
  {
   "cell_type": "markdown",
   "metadata": {},
   "source": [
    "## SVC"
   ]
  },
  {
   "cell_type": "code",
   "execution_count": 45,
   "metadata": {},
   "outputs": [],
   "source": [
    "from sklearn.svm import SVC"
   ]
  },
  {
   "cell_type": "code",
   "execution_count": 48,
   "metadata": {},
   "outputs": [
    {
     "output_type": "stream",
     "name": "stdout",
     "text": "7252  -> f1 score test full features:  0.9696969696969697 nb lignes:  328 % of Crisis 49\n6083  -> f1 score test full features:  0.6666666666666666 nb lignes:  361 % of Crisis 28\n8544  -> f1 score test full features:  0.6926829268292684 nb lignes:  3720 % of Crisis 16\n5943  -> f1 score test full features:  0.8529411764705882 nb lignes:  405 % of Crisis 42\n11870  -> f1 score test full features:  0.7692307692307692 nb lignes:  2026 % of Crisis 16\n12973  -> f1 score test full features:  0.6511627906976744 nb lignes:  774 % of Crisis 17\n7032  -> f1 score test full features:  0.9302325581395349 nb lignes:  631 % of Crisis 30\n12941  -> f1 score test full features:  0.9142857142857143 nb lignes:  431 % of Crisis 39\n302  -> f1 score test full features:  0.9043478260869564 nb lignes:  498 % of Crisis 40\n10843  -> f1 score test full features:  0.5454545454545454 nb lignes:  259 % of Crisis 27\n9578  -> f1 score test full features:  0.6409638554216867 nb lignes:  11374 % of Crisis 11\n473  -> f1 score test full features:  0.33333333333333326 nb lignes:  251 % of Crisis 21\n7835  -> f1 score test full features:  0.5 nb lignes:  150 % of Crisis 10\n2806  -> f1 score test full features:  0.5161290322580646 nb lignes:  191 % of Crisis 44\n7234  -> f1 score test full features:  0.7826086956521738 nb lignes:  254 % of Crisis 36\n7128  -> f1 score test full features:  0.7777777777777778 nb lignes:  933 % of Crisis 20\n6507  -> f1 score test full features:  0.9090909090909091 nb lignes:  121 % of Crisis 46\n1770  -> f1 score test full features:  1.0 nb lignes:  473 % of Crisis 49\n13085  -> f1 score test full features:  0.8888888888888888 nb lignes:  281 % of Crisis 33\n9866  -> f1 score test full features:  0.9724770642201834 nb lignes:  988 % of Crisis 27\n7584  -> f1 score test full features:  0.35714285714285715 nb lignes:  678 % of Crisis 13\n5452  -> f1 score test full features:  0.6666666666666667 nb lignes:  520 % of Crisis 16\n9842  -> f1 score test full features:  0.4390243902439025 nb lignes:  928 % of Crisis 12\n9540  -> f1 score test full features:  0.8571428571428572 nb lignes:  523 % of Crisis 21\n2760  -> f1 score test full features:  0.75 nb lignes:  120 % of Crisis 18\n10418  -> f1 score test full features:  0.5875706214689266 nb lignes:  3363 % of Crisis 15\n3401  -> f1 score test full features:  0.9767441860465117 nb lignes:  172 % of Crisis 36\n675  -> f1 score test full features:  0.0 nb lignes:  247 % of Crisis 17\n6904  -> f1 score test full features:  0.9090909090909092 nb lignes:  304 % of Crisis 28\n6440  -> f1 score test full features:  0.7818181818181819 nb lignes:  814 % of Crisis 33\n4151  -> f1 score test full features:  0.5454545454545454 nb lignes:  260 % of Crisis 13\n10106  -> f1 score test full features:  0.689655172413793 nb lignes:  1233 % of Crisis 13\n6514  -> f1 score test full features:  0.8108108108108107 nb lignes:  1956 % of Crisis 10\n9885  -> f1 score test full features:  0.3333333333333333 nb lignes:  149 % of Crisis 26\n11869  -> f1 score test full features:  0.5283018867924527 nb lignes:  1612 % of Crisis 10\n9630  -> f1 score test full features:  0.8461538461538461 nb lignes:  199 % of Crisis 36\n6444  -> f1 score test full features:  0.8333333333333333 nb lignes:  228 % of Crisis 10\n5034  -> f1 score test full features:  0.9824561403508771 nb lignes:  212 % of Crisis 35\n7793  -> f1 score test full features:  0.9411764705882353 nb lignes:  137 % of Crisis 30\n13103  -> f1 score test full features:  0.6 nb lignes:  189 % of Crisis 31\n7623  -> f1 score test full features:  0.8000000000000002 nb lignes:  137 % of Crisis 17\n1324  -> f1 score test full features:  0.6666666666666665 nb lignes:  128 % of Crisis 17\n3668  -> f1 score test full features:  0.6153846153846153 nb lignes:  126 % of Crisis 21\n258  -> f1 score test full features:  0.7241379310344827 nb lignes:  304 % of Crisis 46\n6413  -> f1 score test full features:  0.717948717948718 nb lignes:  526 % of Crisis 21\n5625  -> f1 score test full features:  0.8333333333333334 nb lignes:  248 % of Crisis 12\n6175  -> f1 score test full features:  0.888888888888889 nb lignes:  540 % of Crisis 33\n6546  -> f1 score test full features:  0.5833333333333334 nb lignes:  1417 % of Crisis 10\n2521  -> f1 score test full features:  1.0 nb lignes:  622 % of Crisis 37\n2448  -> f1 score test full features:  0.0 nb lignes:  221 % of Crisis 9\n2991  -> f1 score test full features:  0.35714285714285715 nb lignes:  927 % of Crisis 9\n2484  -> f1 score test full features:  0.5 nb lignes:  155 % of Crisis 9\n11077  -> f1 score test full features:  0.5343511450381679 nb lignes:  2489 % of Crisis 16\n3977  -> f1 score test full features:  0.8108108108108109 nb lignes:  138 % of Crisis 34\n11333  -> f1 score test full features:  0.9716312056737589 nb lignes:  1690 % of Crisis 42\n5633  -> f1 score test full features:  0.4444444444444445 nb lignes:  180 % of Crisis 34\n8460  -> f1 score test full features:  0.9066666666666667 nb lignes:  1285 % of Crisis 14\n12759  -> f1 score test full features:  0.6 nb lignes:  279 % of Crisis 11\n4456  -> f1 score test full features:  0.9444444444444444 nb lignes:  728 % of Crisis 49\n"
    }
   ],
   "source": [
    "results = pd.DataFrame()\n",
    "for i in patients:\n",
    "    df = xqrs_clean_imputed[xqrs_clean_imputed.Key.str.contains(i)]\n",
    "    score, tree = simple_ml(df, SVC())\n",
    "    percentage_of_crisis = int((df.label.value_counts(normalize=True) * 100).values[1])\n",
    "    #if score['f1_score test'] > 0.6:\n",
    "    #if percentage_of_crisis > 15:\n",
    "    print(i, ' -> f1 score test full features: ', \n",
    "            score['f1_score test'], 'nb lignes: ', \n",
    "            df.shape[0],\n",
    "            '% of Crisis', percentage_of_crisis)\n",
    "\n",
    "    results = results.append(pd.DataFrame({\n",
    "        'Patient': i,\n",
    "        'accuracy train': score['accuracy train'],\n",
    "        'accuracy test': score['accuracy test'],\n",
    "        'f1_score train': score['f1_score train'],\n",
    "        'f1_score test': score['f1_score test'],\n",
    "        'cm train': [score['cm train']],\n",
    "        'cm test': [score['cm test']],\n",
    "        'sensitivity train': score['sensitivity train'],\n",
    "        'sensitivity test': score['sensitivity test'],\n",
    "        'specificity train': score['specificity train'],\n",
    "        'specificity test': score['specificity train']\n",
    "    }, index=[0]))"
   ]
  },
  {
   "cell_type": "code",
   "execution_count": 49,
   "metadata": {},
   "outputs": [],
   "source": [
    "results.to_csv('../to_csv/results/SVC_results_normal.csv', index=False)"
   ]
  },
  {
   "cell_type": "code",
   "execution_count": 50,
   "metadata": {},
   "outputs": [
    {
     "output_type": "execute_result",
     "data": {
      "text/plain": "{'accuracy train': 0.856540921033064,\n 'accuracy test': 0.8490135818380093,\n 'f1_score train': 0.534502171465337,\n 'f1_score test': 0.5008194034742707,\n 'cm train': array([[31235,   623],\n        [ 5165,  3323]]),\n 'cm test': array([[7800,  165],\n        [1358,  764]]),\n 'sensitivity train': 0.39149387370405275,\n 'sensitivity test': 0.3600377002827521,\n 'specificity train': 0.9804444723460355,\n 'specificity test': 0.9792843691148776}"
     },
     "metadata": {},
     "execution_count": 50
    }
   ],
   "source": [
    "score, tree = simple_ml(xqrs_clean_imputed, SVC())\n",
    "score"
   ]
  },
  {
   "cell_type": "code",
   "execution_count": null,
   "metadata": {},
   "outputs": [],
   "source": []
  },
  {
   "cell_type": "code",
   "execution_count": null,
   "metadata": {},
   "outputs": [],
   "source": []
  }
 ],
 "metadata": {
  "language_info": {
   "codemirror_mode": {
    "name": "ipython",
    "version": 3
   },
   "file_extension": ".py",
   "mimetype": "text/x-python",
   "name": "python",
   "nbconvert_exporter": "python",
   "pygments_lexer": "ipython3",
   "version": "3.8.2-final"
  },
  "orig_nbformat": 2,
  "kernelspec": {
   "name": "python38264bite34a56b6e9a44db4af76022ac3c795eb",
   "display_name": "Python 3.8.2 64-bit"
  }
 },
 "nbformat": 4,
 "nbformat_minor": 2
}