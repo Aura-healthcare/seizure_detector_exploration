{
 "cells": [
  {
   "cell_type": "code",
   "execution_count": 1,
   "metadata": {},
   "outputs": [],
   "source": [
    "import pandas as pd\n",
    "import pathlib\n",
    "import numpy as np\n",
    "import json\n",
    "import re\n",
    "from matplotlib import pyplot\n",
    "from tqdm import tqdm"
   ]
  },
  {
   "cell_type": "code",
   "execution_count": 2,
   "metadata": {},
   "outputs": [
    {
     "data": {
      "text/plain": [
       "'2.1.0-rc1'"
      ]
     },
     "execution_count": 2,
     "metadata": {},
     "output_type": "execute_result"
    }
   ],
   "source": [
    "import tensorflow as tf \n",
    "tf.__version__"
   ]
  },
  {
   "cell_type": "code",
   "execution_count": 3,
   "metadata": {},
   "outputs": [],
   "source": [
    "pd.set_option('display.max_columns', 200)"
   ]
  },
  {
   "cell_type": "code",
   "execution_count": 4,
   "metadata": {},
   "outputs": [],
   "source": [
    "from sklearn.model_selection import train_test_split\n",
    "from sklearn.impute import SimpleImputer\n",
    "from sklearn.preprocessing import  OneHotEncoder, StandardScaler, LabelEncoder\n",
    "from sklearn.compose import ColumnTransformer\n",
    "from sklearn.linear_model import LogisticRegression\n",
    "from sklearn.metrics import accuracy_score, confusion_matrix, f1_score, recall_score, precision_score,classification_report\n",
    "from sklearn.metrics import roc_auc_score\n",
    "from sklearn.metrics import roc_curve\n",
    "from sklearn.model_selection import KFold\n",
    "from sklearn.model_selection import cross_val_score, cross_val_predict\n",
    "from sklearn.tree import DecisionTreeClassifier,export_graphviz"
   ]
  },
  {
   "cell_type": "code",
   "execution_count": 85,
   "metadata": {},
   "outputs": [],
   "source": [
    "df_swt = pd.read_csv(\"./swt_v2_cleaned.csv\").drop('Unnamed: 0', axis=1)"
   ]
  },
  {
   "cell_type": "markdown",
   "metadata": {},
   "source": [
    "8544\txavier\t18%\n",
    "9839\txavier\t6%\n",
    "10418\t"
   ]
  },
  {
   "cell_type": "code",
   "execution_count": 6,
   "metadata": {},
   "outputs": [],
   "source": [
    "patient_kept = [8544,9839,10418]  ## 9578 ##9104"
   ]
  },
  {
   "cell_type": "code",
   "execution_count": 86,
   "metadata": {},
   "outputs": [],
   "source": [
    "patient_kept = [9578,8544,11333,7032,11077,4456,11870,10418,302,9866,6175,1770,9231,6440,9104,8295,10489,2521,8460,7252,6904,9839,5943,11869,10106,1587,4892,7128,12941,7234,5034,258,6514,6544,281,9540,3401,8476,6413,12973,10591,8889,10455,9842,6546,3977,6083,13085,7584,5452,9630,10158,6811,5633,2806,13103,2991,8174]\n"
   ]
  },
  {
   "cell_type": "code",
   "execution_count": 87,
   "metadata": {},
   "outputs": [],
   "source": [
    "#filtrage sur le patient\n",
    "df_swt=df_swt[df_swt['Patient'].isin(patient_kept)]"
   ]
  },
  {
   "cell_type": "code",
   "execution_count": 88,
   "metadata": {
    "scrolled": true
   },
   "outputs": [],
   "source": [
    "#suppression des lignes où le label est vide\n",
    "df_swt.dropna(subset=['label'],inplace=True)"
   ]
  },
  {
   "cell_type": "code",
   "execution_count": 89,
   "metadata": {},
   "outputs": [],
   "source": [
    "#remplacement des valeurs de label par 0 si c'est inférieur à 0.5, et 1 sinon\n",
    "df_swt['label']= df_swt['label'].apply(lambda x: 0 if (x==0) else 1)"
   ]
  },
  {
   "cell_type": "code",
   "execution_count": 90,
   "metadata": {},
   "outputs": [],
   "source": [
    "#remplacement des valeurs \"inf\" par Nan\n",
    "df_swt = df_swt.replace([np.inf, -np.inf], np.nan)"
   ]
  },
  {
   "cell_type": "code",
   "execution_count": 91,
   "metadata": {},
   "outputs": [],
   "source": [
    "# remplacement des valeurs \"Nan\" par la moyenne de l'examen\n",
    "\n",
    "df_swt2 = df_swt.groupby(df_swt['cle_exam']).transform(lambda x: x.fillna(x.mean()))"
   ]
  },
  {
   "cell_type": "code",
   "execution_count": 92,
   "metadata": {},
   "outputs": [],
   "source": [
    "df_swt2['cle_exam'] = df_swt['cle_exam'].values"
   ]
  },
  {
   "cell_type": "code",
   "execution_count": 93,
   "metadata": {},
   "outputs": [],
   "source": [
    "#definition d'une fonction pour transformer les series temporelles:\n",
    "def series_to_supervised(data, n_in=1, n_out=1, dropnan=True):\n",
    "    n_vars = 1 if type(data) is list else data.shape[1]\n",
    "    df = pd.DataFrame(data)\n",
    "    cols, names = list(), list()\n",
    "\t# input sequence (t-n, ... t-1)\n",
    "    for i in range(n_in, 0, -1):\n",
    "        cols.append(df.shift(i))\n",
    "        names += [('%s(t-%d)' % (j, i)) for j in df.columns]\n",
    "\t# forecast sequence (t, t+1, ... t+n)\n",
    "    for i in range(0, n_out):\n",
    "        cols.append(df.shift(-i))\n",
    "        if i == 0:\n",
    "            names += [('%s(t)' % (j)) for j in df.columns]\n",
    "        else:\n",
    "            names += [('%s(t+%d)' % (j, i)) for j in df.columns]\n",
    "\t# put it all together\n",
    "    agg = pd.concat(cols, axis=1)\n",
    "    agg.columns = names\n",
    "\t# drop rows with NaN values\n",
    "    if dropnan:\n",
    "        agg = agg.iloc[n_in:,]\n",
    "    return agg"
   ]
  },
  {
   "cell_type": "code",
   "execution_count": 94,
   "metadata": {},
   "outputs": [],
   "source": [
    "#definition d'une variable qui indique le nombre de périodes que nous allons prendre en compte\n",
    "nb_period = 3"
   ]
  },
  {
   "cell_type": "code",
   "execution_count": 95,
   "metadata": {},
   "outputs": [],
   "source": [
    "# creation d'un dataframe où les series sont temporalisée examen par examen\n",
    "df_swt_temp = pd.DataFrame()\n",
    "\n",
    "for i in df_swt.cle_exam.unique():\n",
    "    df_swt_temp = pd.concat([df_swt_temp,series_to_supervised(df_swt2[df_swt2['cle_exam']== i],nb_period,1)])"
   ]
  },
  {
   "cell_type": "code",
   "execution_count": 96,
   "metadata": {},
   "outputs": [],
   "source": [
    "dropped_columns=[ \n",
    " 'interval_index',\n",
    " 'Dossier Patient',\n",
    " 'exam_duration',\n",
    " 'Pan_vs_SWT',\n",
    " 'SWT_vs_XQRS',\n",
    " 'interval_start_time',\n",
    " 'sampen',\n",
    " 'max_duration',\n",
    " 'mean_nni%',\n",
    " 'csi%',\n",
    " 'hf%']\n",
    "\n",
    "features_non_temp =['cle_exam']\n",
    "\n",
    "numerical_feat = ['mean_nni',\n",
    " 'sdnn',\n",
    " 'sdsd',\n",
    " 'nni_50',\n",
    " 'pnni_50',\n",
    " 'nni_20',\n",
    " 'pnni_20',\n",
    " 'rmssd',\n",
    " 'median_nni',\n",
    " 'range_nni',\n",
    " 'cvsd',\n",
    " 'cvnni',\n",
    " 'mean_hr',\n",
    " 'max_hr',\n",
    " 'min_hr',\n",
    " 'std_hr',\n",
    " 'lf',\n",
    " 'hf',\n",
    " 'vlf',\n",
    " 'lf_hf_ratio',\n",
    " 'csi',\n",
    " 'cvi',\n",
    " 'Modified_csi',\n",
    " 'sd1',\n",
    " 'sd2',\n",
    " 'ratio_sd2_sd1']\n",
    "\n",
    "categorical_feat = ['Patient']\n",
    "features_temp = numerical_feat+categorical_feat"
   ]
  },
  {
   "cell_type": "code",
   "execution_count": 97,
   "metadata": {},
   "outputs": [],
   "source": [
    "#definition de la liste des colonnes à dropper (dynamique en fonction du nombre de période)\n",
    "dropped_columns_temp = [s+ \"(t-\"+str(j)+\")\" for s in dropped_columns for j in range(1,nb_period+1)]\n",
    "dropped_columns_temp += [s+ \"(t)\" for s in dropped_columns]\n",
    "#dropped_columns_temp += [\"Patient(t-\"+str(j)+\")\" for j in range(1,nb_period+1)]"
   ]
  },
  {
   "cell_type": "code",
   "execution_count": 98,
   "metadata": {},
   "outputs": [],
   "source": [
    "df_swt_temp =df_swt_temp.drop(dropped_columns_temp,axis = 1)"
   ]
  },
  {
   "cell_type": "code",
   "execution_count": 99,
   "metadata": {},
   "outputs": [],
   "source": [
    "features_list = ['%s(t-%d)' % (i,j) for i in features_temp for j in range(1,nb_period+1)]\n",
    "features_list +=  ['%s(t)' % i for i in features_temp]\n",
    "features_list +=  ['%s(t)' % i for i in features_non_temp]\n",
    "features_list = sorted(features_list)\n",
    "target_variable = \"label(t)\"\n",
    "\n",
    "X = df_swt_temp.loc[:,features_list]\n",
    "Y = df_swt_temp.loc[:,target_variable]"
   ]
  },
  {
   "cell_type": "code",
   "execution_count": 100,
   "metadata": {},
   "outputs": [],
   "source": [
    "## split test/train\n",
    "\n",
    "X_train, X_test,Y_train, Y_test = train_test_split(X,Y,test_size = 0.2, random_state =42, stratify = Y)\n"
   ]
  },
  {
   "cell_type": "code",
   "execution_count": null,
   "metadata": {},
   "outputs": [],
   "source": [
    "#### methode de split test/train en utilisant le dossier \"dev/train\"\n",
    "#df_swt2_train = df_swt_temp[df_swt_temp['cle_exam(t)'].str.startswith('train')]\n",
    "#df_swt2_test  = df_swt_temp[df_swt_temp['cle_exam(t)'].str.startswith('dev')]\n",
    "\n",
    "#X_train = df_swt2_train.loc[:,features_list]\n",
    "#X_test = df_swt2_test.loc[:,features_list]\n",
    "#Y_train = df_swt2_train.loc[:,target_variable]\n",
    "#Y_test = df_swt2_test.loc[:,target_variable]"
   ]
  },
  {
   "cell_type": "code",
   "execution_count": 101,
   "metadata": {},
   "outputs": [
    {
     "name": "stdout",
     "output_type": "stream",
     "text": [
      "nb exams sur le train:  745\n",
      "nb exams sur le test:  745\n",
      "nb lignes sur le train:  46675\n",
      "nb lignes sur le test:  11669\n"
     ]
    }
   ],
   "source": [
    "# calculate basic figures to share ours results\n",
    "print(\"nb exams sur le train: \",X_train['cle_exam(t)'].unique().shape[0])\n",
    "print(\"nb exams sur le test: \",X_test['cle_exam(t)'].unique().shape[0])\n",
    "print(\"nb lignes sur le train: \",X_train.shape[0])\n",
    "print(\"nb lignes sur le test: \",X_test.shape[0])"
   ]
  },
  {
   "cell_type": "code",
   "execution_count": 102,
   "metadata": {},
   "outputs": [],
   "source": [
    "#drop \"cle_exam\"\n",
    "cle_exam_list = ['cle_exam(t)']\n",
    "\n",
    "X_train = X_train.drop(cle_exam_list,axis=1)\n",
    "X_test = X_test.drop(cle_exam_list,axis=1)"
   ]
  },
  {
   "cell_type": "code",
   "execution_count": 103,
   "metadata": {},
   "outputs": [
    {
     "name": "stdout",
     "output_type": "stream",
     "text": [
      "...Done\n",
      "[[ 0.          0.          0.         ... -0.05196005 -0.06998762\n",
      "  -0.08514056]\n",
      " [ 0.          0.          0.         ... -0.32281445 -0.33929791\n",
      "  -0.34252474]\n",
      " [ 0.          0.          0.         ... -0.23301859 -0.25968439\n",
      "  -0.27883636]\n",
      " [ 0.          0.          0.         ...  0.06643304  0.06862589\n",
      "   0.07095865]\n",
      " [ 0.          0.          0.         ...  0.91596119  0.85214506\n",
      "   0.80584775]]\n"
     ]
    }
   ],
   "source": [
    "# Normalization\n",
    "numeric_transformer = StandardScaler()\n",
    "\n",
    "# OHE / dummyfication\n",
    "\n",
    "categorical_indices =[X_train.columns.get_loc('%s(t-%d)' %  (i,j)) for i in categorical_feat for j in range(1,nb_period+1)]\n",
    "categorical_indices += [X_train.columns.get_loc('%s(t)' %  i) for i in categorical_feat]\n",
    "categorical_indices = sorted(categorical_indices)\n",
    "\n",
    "numeric_indices =[X_train.columns.get_loc('%s(t-%d)' %  (i,j)) for i in numerical_feat for j in range(1,nb_period+1)]\n",
    "numeric_indices += [X_train.columns.get_loc('%s(t)' %  i) for i in numerical_feat]\n",
    "numeric_indices = sorted(numeric_indices)\n",
    "\n",
    "\n",
    "categorical_transformer = OneHotEncoder(drop='first')\n",
    "\n",
    "featureencoder = ColumnTransformer(\n",
    "    transformers=[\n",
    "        ('cat', categorical_transformer, categorical_indices),    \n",
    "        ('num', numeric_transformer, numeric_indices)\n",
    "        ]\n",
    "    )\n",
    "\n",
    "X_train_fit = featureencoder.fit_transform(X_train)\n",
    "print(\"...Done\")\n",
    "print(X_train_fit[0:5,:])"
   ]
  },
  {
   "cell_type": "code",
   "execution_count": 104,
   "metadata": {},
   "outputs": [],
   "source": [
    "X_test_fit = featureencoder.transform(X_test)"
   ]
  },
  {
   "cell_type": "code",
   "execution_count": 105,
   "metadata": {},
   "outputs": [
    {
     "data": {
      "text/plain": [
       "(46675, 332)"
      ]
     },
     "execution_count": 105,
     "metadata": {},
     "output_type": "execute_result"
    }
   ],
   "source": [
    "X_train_fit.shape"
   ]
  },
  {
   "cell_type": "markdown",
   "metadata": {},
   "source": [
    "# Entrainement d'un Decision Tree"
   ]
  },
  {
   "cell_type": "code",
   "execution_count": 106,
   "metadata": {},
   "outputs": [],
   "source": [
    "classifier = DecisionTreeClassifier()"
   ]
  },
  {
   "cell_type": "code",
   "execution_count": 107,
   "metadata": {},
   "outputs": [
    {
     "data": {
      "text/plain": [
       "DecisionTreeClassifier(ccp_alpha=0.0, class_weight=None, criterion='gini',\n",
       "                       max_depth=None, max_features=None, max_leaf_nodes=None,\n",
       "                       min_impurity_decrease=0.0, min_impurity_split=None,\n",
       "                       min_samples_leaf=1, min_samples_split=2,\n",
       "                       min_weight_fraction_leaf=0.0, presort='deprecated',\n",
       "                       random_state=None, splitter='best')"
      ]
     },
     "execution_count": 107,
     "metadata": {},
     "output_type": "execute_result"
    }
   ],
   "source": [
    "classifier.fit(X_train_fit,Y_train)"
   ]
  },
  {
   "cell_type": "code",
   "execution_count": 108,
   "metadata": {},
   "outputs": [],
   "source": [
    "Y_train_pred = classifier.predict(X_train_fit)\n",
    "Y_test_pred = classifier.predict(X_test_fit)"
   ]
  },
  {
   "cell_type": "code",
   "execution_count": 109,
   "metadata": {},
   "outputs": [
    {
     "name": "stdout",
     "output_type": "stream",
     "text": [
      "Accuracy on train set :  1.0\n",
      "Accuracy on test set :  0.8613420173108236\n"
     ]
    }
   ],
   "source": [
    "print(\"Accuracy on train set : \", accuracy_score(Y_train, Y_train_pred))\n",
    "print(\"Accuracy on test set : \", accuracy_score(Y_test, Y_test_pred))"
   ]
  },
  {
   "cell_type": "code",
   "execution_count": 110,
   "metadata": {
    "scrolled": true
   },
   "outputs": [
    {
     "name": "stdout",
     "output_type": "stream",
     "text": [
      "Confusion matrix on train set : \n",
      "[[37695     0]\n",
      " [    0  8980]]\n",
      "\n",
      "Confusion matrix on test set : \n",
      "[[8567  857]\n",
      " [ 761 1484]]\n",
      "\n"
     ]
    }
   ],
   "source": [
    "print(\"Confusion matrix on train set : \")\n",
    "print(confusion_matrix(Y_train, Y_train_pred))\n",
    "print()\n",
    "print(\"Confusion matrix on test set : \")\n",
    "print(confusion_matrix(Y_test, Y_test_pred))\n",
    "print()"
   ]
  },
  {
   "cell_type": "code",
   "execution_count": 111,
   "metadata": {},
   "outputs": [
    {
     "name": "stdout",
     "output_type": "stream",
     "text": [
      "recall score on train set :  1.0\n",
      "recall score on test set :  0.6610244988864142\n"
     ]
    }
   ],
   "source": [
    "print(\"recall score on train set : \", recall_score(Y_train,Y_train_pred))\n",
    "print(\"recall score on test set : \", recall_score(Y_test,Y_test_pred))"
   ]
  },
  {
   "cell_type": "code",
   "execution_count": 112,
   "metadata": {},
   "outputs": [
    {
     "name": "stdout",
     "output_type": "stream",
     "text": [
      "precision score on train set :  1.0\n",
      "precision score on test set :  0.6339171294318667\n"
     ]
    }
   ],
   "source": [
    "print(\"precision score on train set : \", precision_score(Y_train,Y_train_pred))\n",
    "print(\"precision score on test set : \", precision_score(Y_test,Y_test_pred))"
   ]
  },
  {
   "cell_type": "code",
   "execution_count": 113,
   "metadata": {},
   "outputs": [
    {
     "name": "stdout",
     "output_type": "stream",
     "text": [
      "f1 score on train set :  1.0\n",
      "f1 score on test set :  0.6471870911469689\n"
     ]
    }
   ],
   "source": [
    "print(\"f1 score on train set : \", f1_score(Y_train,Y_train_pred))\n",
    "print(\"f1 score on test set : \", f1_score(Y_test, Y_test_pred))"
   ]
  },
  {
   "cell_type": "code",
   "execution_count": 114,
   "metadata": {},
   "outputs": [
    {
     "name": "stdout",
     "output_type": "stream",
     "text": [
      "Classification Report Train\n",
      "              precision    recall  f1-score   support\n",
      "\n",
      "           0       1.00      1.00      1.00     37695\n",
      "           1       1.00      1.00      1.00      8980\n",
      "\n",
      "    accuracy                           1.00     46675\n",
      "   macro avg       1.00      1.00      1.00     46675\n",
      "weighted avg       1.00      1.00      1.00     46675\n",
      "\n"
     ]
    }
   ],
   "source": [
    "print(\"Classification Report Train\")\n",
    "print(classification_report(Y_train,Y_train_pred))"
   ]
  },
  {
   "cell_type": "code",
   "execution_count": 115,
   "metadata": {},
   "outputs": [
    {
     "name": "stdout",
     "output_type": "stream",
     "text": [
      "Classification Report Test\n",
      "              precision    recall  f1-score   support\n",
      "\n",
      "           0       0.92      0.91      0.91      9424\n",
      "           1       0.63      0.66      0.65      2245\n",
      "\n",
      "    accuracy                           0.86     11669\n",
      "   macro avg       0.78      0.79      0.78     11669\n",
      "weighted avg       0.86      0.86      0.86     11669\n",
      "\n"
     ]
    }
   ],
   "source": [
    "print(\"Classification Report Test\")\n",
    "print(classification_report(Y_test,Y_test_pred))"
   ]
  },
  {
   "cell_type": "markdown",
   "metadata": {},
   "source": [
    "# Entrainement d'un LSTM"
   ]
  },
  {
   "cell_type": "code",
   "execution_count": 143,
   "metadata": {
    "scrolled": true
   },
   "outputs": [],
   "source": [
    "#reshape specifique en 3D pour le format attendu pour le LSTM\n",
    "\n",
    "param2 =int(X_train_fit.shape[1]/(nb_period+1))\n",
    "\n",
    "X_train_resh = X_train_fit.reshape((X_train_fit.shape[0],nb_period+1,param2))\n",
    "X_test_resh = X_test_fit.reshape((X_test_fit.shape[0], nb_period+1, param2))\n",
    "#print(X_train_resh.shape, Y_train.shape, X_test_resh.shape, Y_test.shape)"
   ]
  },
  {
   "cell_type": "code",
   "execution_count": 144,
   "metadata": {},
   "outputs": [],
   "source": [
    "# design network\n",
    "model = tf.keras.Sequential()\n",
    "model.add(tf.keras.layers.LSTM(50, input_shape=(X_train_resh.shape[1], X_train_resh.shape[2])))\n",
    "model.add(tf.keras.layers.Dense(units=1, activation='sigmoid'))"
   ]
  },
  {
   "cell_type": "code",
   "execution_count": 145,
   "metadata": {},
   "outputs": [],
   "source": [
    "# Créons un learning rate schedule pour décroitre le learning rate à mesure que nous entrainons le modèle \n",
    "initial_learning_rate = 0.001\n",
    "\n",
    "lr_schedule = tf.keras.optimizers.schedules.ExponentialDecay(\n",
    "    initial_learning_rate,\n",
    "    decay_steps=1090,\n",
    "    decay_rate=0.96,\n",
    "    staircase=True)\n",
    "\n",
    "# Utilisation d'un compileur simple avec un optimiseur Adam pour le calcul de nos gradients \n",
    "optimizer= tf.keras.optimizers.Adam(\n",
    "    learning_rate = lr_schedule\n",
    ")\n",
    "\n",
    "model.compile(optimizer=optimizer,\n",
    "              loss=tf.keras.losses.BinaryCrossentropy(),\n",
    "              metrics=[tf.keras.metrics.BinaryCrossentropy(),\n",
    "                       tf.keras.metrics.Precision(),\n",
    "                       tf.keras.metrics.Recall()])"
   ]
  },
  {
   "cell_type": "code",
   "execution_count": 146,
   "metadata": {},
   "outputs": [
    {
     "name": "stdout",
     "output_type": "stream",
     "text": [
      "Model: \"sequential_2\"\n",
      "_________________________________________________________________\n",
      "Layer (type)                 Output Shape              Param #   \n",
      "=================================================================\n",
      "lstm_2 (LSTM)                (None, 50)                26800     \n",
      "_________________________________________________________________\n",
      "dense_2 (Dense)              (None, 1)                 51        \n",
      "=================================================================\n",
      "Total params: 26,851\n",
      "Trainable params: 26,851\n",
      "Non-trainable params: 0\n",
      "_________________________________________________________________\n"
     ]
    }
   ],
   "source": [
    "model.summary()"
   ]
  },
  {
   "cell_type": "code",
   "execution_count": 150,
   "metadata": {},
   "outputs": [
    {
     "name": "stdout",
     "output_type": "stream",
     "text": [
      "Train on 46675 samples, validate on 11669 samples\n",
      "Epoch 1/100\n",
      "46675/46675 - 2s - loss: 0.1804 - binary_crossentropy: 0.1804 - precision_2: 0.8945 - recall_2: 0.7078 - val_loss: 0.2679 - val_binary_crossentropy: 0.2679 - val_precision_2: 0.7810 - val_recall_2: 0.6147\n",
      "Epoch 2/100\n",
      "46675/46675 - 2s - loss: 0.1793 - binary_crossentropy: 0.1793 - precision_2: 0.8955 - recall_2: 0.7099 - val_loss: 0.2679 - val_binary_crossentropy: 0.2679 - val_precision_2: 0.7812 - val_recall_2: 0.6156\n",
      "Epoch 3/100\n",
      "46675/46675 - 2s - loss: 0.1781 - binary_crossentropy: 0.1781 - precision_2: 0.8961 - recall_2: 0.7117 - val_loss: 0.2679 - val_binary_crossentropy: 0.2679 - val_precision_2: 0.7832 - val_recall_2: 0.6165\n",
      "Epoch 4/100\n",
      "46675/46675 - 2s - loss: 0.1772 - binary_crossentropy: 0.1772 - precision_2: 0.8970 - recall_2: 0.7138 - val_loss: 0.2679 - val_binary_crossentropy: 0.2679 - val_precision_2: 0.7827 - val_recall_2: 0.6160\n",
      "Epoch 5/100\n",
      "46675/46675 - 2s - loss: 0.1761 - binary_crossentropy: 0.1761 - precision_2: 0.8970 - recall_2: 0.7155 - val_loss: 0.2679 - val_binary_crossentropy: 0.2679 - val_precision_2: 0.7834 - val_recall_2: 0.6169\n",
      "Epoch 6/100\n",
      "46675/46675 - 2s - loss: 0.1752 - binary_crossentropy: 0.1752 - precision_2: 0.8979 - recall_2: 0.7171 - val_loss: 0.2679 - val_binary_crossentropy: 0.2679 - val_precision_2: 0.7820 - val_recall_2: 0.6169\n",
      "Epoch 7/100\n",
      "46675/46675 - 2s - loss: 0.1742 - binary_crossentropy: 0.1742 - precision_2: 0.8988 - recall_2: 0.7189 - val_loss: 0.2680 - val_binary_crossentropy: 0.2680 - val_precision_2: 0.7822 - val_recall_2: 0.6192\n",
      "Epoch 8/100\n",
      "46675/46675 - 2s - loss: 0.1732 - binary_crossentropy: 0.1732 - precision_2: 0.8997 - recall_2: 0.7205 - val_loss: 0.2680 - val_binary_crossentropy: 0.2680 - val_precision_2: 0.7825 - val_recall_2: 0.6200\n",
      "Epoch 9/100\n",
      "46675/46675 - 2s - loss: 0.1724 - binary_crossentropy: 0.1724 - precision_2: 0.9003 - recall_2: 0.7219 - val_loss: 0.2680 - val_binary_crossentropy: 0.2680 - val_precision_2: 0.7831 - val_recall_2: 0.6209\n",
      "Epoch 10/100\n",
      "46675/46675 - 2s - loss: 0.1715 - binary_crossentropy: 0.1715 - precision_2: 0.9007 - recall_2: 0.7235 - val_loss: 0.2681 - val_binary_crossentropy: 0.2681 - val_precision_2: 0.7831 - val_recall_2: 0.6209\n",
      "Epoch 11/100\n",
      "46675/46675 - 2s - loss: 0.1707 - binary_crossentropy: 0.1707 - precision_2: 0.9010 - recall_2: 0.7255 - val_loss: 0.2682 - val_binary_crossentropy: 0.2682 - val_precision_2: 0.7835 - val_recall_2: 0.6223\n",
      "Epoch 12/100\n",
      "46675/46675 - 2s - loss: 0.1698 - binary_crossentropy: 0.1698 - precision_2: 0.9010 - recall_2: 0.7266 - val_loss: 0.2683 - val_binary_crossentropy: 0.2683 - val_precision_2: 0.7836 - val_recall_2: 0.6241\n",
      "Epoch 13/100\n",
      "46675/46675 - 2s - loss: 0.1690 - binary_crossentropy: 0.1690 - precision_2: 0.9014 - recall_2: 0.7278 - val_loss: 0.2684 - val_binary_crossentropy: 0.2684 - val_precision_2: 0.7838 - val_recall_2: 0.6232\n",
      "Epoch 14/100\n",
      "46675/46675 - 2s - loss: 0.1683 - binary_crossentropy: 0.1683 - precision_2: 0.9019 - recall_2: 0.7300 - val_loss: 0.2684 - val_binary_crossentropy: 0.2684 - val_precision_2: 0.7816 - val_recall_2: 0.6232\n",
      "Epoch 15/100\n",
      "46675/46675 - 2s - loss: 0.1675 - binary_crossentropy: 0.1675 - precision_2: 0.9019 - recall_2: 0.7316 - val_loss: 0.2685 - val_binary_crossentropy: 0.2685 - val_precision_2: 0.7822 - val_recall_2: 0.6254\n",
      "Epoch 16/100\n",
      "46675/46675 - 2s - loss: 0.1668 - binary_crossentropy: 0.1668 - precision_2: 0.9022 - recall_2: 0.7337 - val_loss: 0.2686 - val_binary_crossentropy: 0.2686 - val_precision_2: 0.7821 - val_recall_2: 0.6236\n",
      "Epoch 17/100\n",
      "46675/46675 - 3s - loss: 0.1660 - binary_crossentropy: 0.1660 - precision_2: 0.9031 - recall_2: 0.7349 - val_loss: 0.2687 - val_binary_crossentropy: 0.2687 - val_precision_2: 0.7807 - val_recall_2: 0.6249\n",
      "Epoch 18/100\n",
      "46675/46675 - 2s - loss: 0.1653 - binary_crossentropy: 0.1653 - precision_2: 0.9035 - recall_2: 0.7354 - val_loss: 0.2688 - val_binary_crossentropy: 0.2688 - val_precision_2: 0.7812 - val_recall_2: 0.6236\n",
      "Epoch 19/100\n",
      "46675/46675 - 2s - loss: 0.1647 - binary_crossentropy: 0.1647 - precision_2: 0.9038 - recall_2: 0.7375 - val_loss: 0.2688 - val_binary_crossentropy: 0.2688 - val_precision_2: 0.7817 - val_recall_2: 0.6236\n",
      "Epoch 20/100\n",
      "46675/46675 - 2s - loss: 0.1640 - binary_crossentropy: 0.1640 - precision_2: 0.9047 - recall_2: 0.7383 - val_loss: 0.2690 - val_binary_crossentropy: 0.2690 - val_precision_2: 0.7816 - val_recall_2: 0.6249\n",
      "Epoch 21/100\n",
      "46675/46675 - 3s - loss: 0.1634 - binary_crossentropy: 0.1634 - precision_2: 0.9062 - recall_2: 0.7401 - val_loss: 0.2691 - val_binary_crossentropy: 0.2691 - val_precision_2: 0.7825 - val_recall_2: 0.6249\n",
      "Epoch 22/100\n",
      "46675/46675 - 2s - loss: 0.1628 - binary_crossentropy: 0.1628 - precision_2: 0.9066 - recall_2: 0.7419 - val_loss: 0.2692 - val_binary_crossentropy: 0.2692 - val_precision_2: 0.7817 - val_recall_2: 0.6254\n",
      "Epoch 23/100\n",
      "46675/46675 - 2s - loss: 0.1622 - binary_crossentropy: 0.1622 - precision_2: 0.9074 - recall_2: 0.7433 - val_loss: 0.2693 - val_binary_crossentropy: 0.2693 - val_precision_2: 0.7824 - val_recall_2: 0.6263\n",
      "Epoch 24/100\n",
      "46675/46675 - 2s - loss: 0.1616 - binary_crossentropy: 0.1616 - precision_2: 0.9078 - recall_2: 0.7438 - val_loss: 0.2693 - val_binary_crossentropy: 0.2693 - val_precision_2: 0.7827 - val_recall_2: 0.6258\n",
      "Epoch 25/100\n",
      "46675/46675 - 2s - loss: 0.1610 - binary_crossentropy: 0.1610 - precision_2: 0.9087 - recall_2: 0.7449 - val_loss: 0.2695 - val_binary_crossentropy: 0.2695 - val_precision_2: 0.7815 - val_recall_2: 0.6263\n",
      "Epoch 26/100\n",
      "46675/46675 - 2s - loss: 0.1605 - binary_crossentropy: 0.1605 - precision_2: 0.9096 - recall_2: 0.7459 - val_loss: 0.2696 - val_binary_crossentropy: 0.2696 - val_precision_2: 0.7804 - val_recall_2: 0.6254\n",
      "Epoch 27/100\n",
      "46675/46675 - 2s - loss: 0.1599 - binary_crossentropy: 0.1599 - precision_2: 0.9094 - recall_2: 0.7470 - val_loss: 0.2697 - val_binary_crossentropy: 0.2697 - val_precision_2: 0.7801 - val_recall_2: 0.6272\n",
      "Epoch 28/100\n",
      "46675/46675 - 2s - loss: 0.1594 - binary_crossentropy: 0.1594 - precision_2: 0.9098 - recall_2: 0.7481 - val_loss: 0.2698 - val_binary_crossentropy: 0.2698 - val_precision_2: 0.7801 - val_recall_2: 0.6272\n",
      "Epoch 29/100\n",
      "46675/46675 - 2s - loss: 0.1589 - binary_crossentropy: 0.1589 - precision_2: 0.9106 - recall_2: 0.7490 - val_loss: 0.2699 - val_binary_crossentropy: 0.2699 - val_precision_2: 0.7814 - val_recall_2: 0.6272\n",
      "Epoch 30/100\n",
      "46675/46675 - 2s - loss: 0.1584 - binary_crossentropy: 0.1584 - precision_2: 0.9107 - recall_2: 0.7493 - val_loss: 0.2700 - val_binary_crossentropy: 0.2700 - val_precision_2: 0.7815 - val_recall_2: 0.6276\n",
      "Epoch 31/100\n",
      "46675/46675 - 2s - loss: 0.1579 - binary_crossentropy: 0.1579 - precision_2: 0.9110 - recall_2: 0.7500 - val_loss: 0.2700 - val_binary_crossentropy: 0.2700 - val_precision_2: 0.7814 - val_recall_2: 0.6272\n",
      "Epoch 32/100\n",
      "46675/46675 - 2s - loss: 0.1574 - binary_crossentropy: 0.1574 - precision_2: 0.9114 - recall_2: 0.7511 - val_loss: 0.2702 - val_binary_crossentropy: 0.2702 - val_precision_2: 0.7816 - val_recall_2: 0.6281\n",
      "Epoch 33/100\n",
      "46675/46675 - 2s - loss: 0.1570 - binary_crossentropy: 0.1570 - precision_2: 0.9114 - recall_2: 0.7527 - val_loss: 0.2702 - val_binary_crossentropy: 0.2702 - val_precision_2: 0.7810 - val_recall_2: 0.6276\n",
      "Epoch 34/100\n",
      "46675/46675 - 2s - loss: 0.1565 - binary_crossentropy: 0.1565 - precision_2: 0.9117 - recall_2: 0.7539 - val_loss: 0.2703 - val_binary_crossentropy: 0.2703 - val_precision_2: 0.7817 - val_recall_2: 0.6285\n",
      "Epoch 35/100\n",
      "46675/46675 - 2s - loss: 0.1561 - binary_crossentropy: 0.1561 - precision_2: 0.9125 - recall_2: 0.7560 - val_loss: 0.2704 - val_binary_crossentropy: 0.2704 - val_precision_2: 0.7820 - val_recall_2: 0.6294\n",
      "Epoch 36/100\n",
      "46675/46675 - 2s - loss: 0.1557 - binary_crossentropy: 0.1557 - precision_2: 0.9123 - recall_2: 0.7577 - val_loss: 0.2705 - val_binary_crossentropy: 0.2705 - val_precision_2: 0.7829 - val_recall_2: 0.6298\n",
      "Epoch 37/100\n",
      "46675/46675 - 2s - loss: 0.1552 - binary_crossentropy: 0.1552 - precision_2: 0.9121 - recall_2: 0.7581 - val_loss: 0.2706 - val_binary_crossentropy: 0.2706 - val_precision_2: 0.7835 - val_recall_2: 0.6303\n",
      "Epoch 38/100\n",
      "46675/46675 - 2s - loss: 0.1548 - binary_crossentropy: 0.1548 - precision_2: 0.9129 - recall_2: 0.7588 - val_loss: 0.2707 - val_binary_crossentropy: 0.2707 - val_precision_2: 0.7842 - val_recall_2: 0.6312\n"
     ]
    },
    {
     "name": "stdout",
     "output_type": "stream",
     "text": [
      "Epoch 39/100\n",
      "46675/46675 - 2s - loss: 0.1544 - binary_crossentropy: 0.1544 - precision_2: 0.9139 - recall_2: 0.7590 - val_loss: 0.2708 - val_binary_crossentropy: 0.2708 - val_precision_2: 0.7847 - val_recall_2: 0.6316\n",
      "Epoch 40/100\n",
      "46675/46675 - 2s - loss: 0.1540 - binary_crossentropy: 0.1540 - precision_2: 0.9142 - recall_2: 0.7596 - val_loss: 0.2708 - val_binary_crossentropy: 0.2708 - val_precision_2: 0.7846 - val_recall_2: 0.6312\n",
      "Epoch 41/100\n",
      "46675/46675 - 2s - loss: 0.1537 - binary_crossentropy: 0.1537 - precision_2: 0.9146 - recall_2: 0.7600 - val_loss: 0.2709 - val_binary_crossentropy: 0.2709 - val_precision_2: 0.7847 - val_recall_2: 0.6316\n",
      "Epoch 42/100\n",
      "46675/46675 - 2s - loss: 0.1533 - binary_crossentropy: 0.1533 - precision_2: 0.9153 - recall_2: 0.7609 - val_loss: 0.2710 - val_binary_crossentropy: 0.2710 - val_precision_2: 0.7847 - val_recall_2: 0.6316\n",
      "Epoch 43/100\n",
      "46675/46675 - 2s - loss: 0.1530 - binary_crossentropy: 0.1530 - precision_2: 0.9153 - recall_2: 0.7617 - val_loss: 0.2711 - val_binary_crossentropy: 0.2711 - val_precision_2: 0.7853 - val_recall_2: 0.6321\n",
      "Epoch 44/100\n",
      "46675/46675 - 2s - loss: 0.1526 - binary_crossentropy: 0.1526 - precision_2: 0.9156 - recall_2: 0.7625 - val_loss: 0.2712 - val_binary_crossentropy: 0.2712 - val_precision_2: 0.7848 - val_recall_2: 0.6321\n",
      "Epoch 45/100\n",
      "46675/46675 - 2s - loss: 0.1523 - binary_crossentropy: 0.1523 - precision_2: 0.9155 - recall_2: 0.7628 - val_loss: 0.2712 - val_binary_crossentropy: 0.2712 - val_precision_2: 0.7856 - val_recall_2: 0.6316\n",
      "Epoch 46/100\n",
      "46675/46675 - 2s - loss: 0.1520 - binary_crossentropy: 0.1520 - precision_2: 0.9158 - recall_2: 0.7635 - val_loss: 0.2713 - val_binary_crossentropy: 0.2713 - val_precision_2: 0.7860 - val_recall_2: 0.6316\n",
      "Epoch 47/100\n",
      "46675/46675 - 2s - loss: 0.1516 - binary_crossentropy: 0.1516 - precision_2: 0.9163 - recall_2: 0.7641 - val_loss: 0.2714 - val_binary_crossentropy: 0.2714 - val_precision_2: 0.7853 - val_recall_2: 0.6321\n",
      "Epoch 48/100\n",
      "46675/46675 - 2s - loss: 0.1513 - binary_crossentropy: 0.1513 - precision_2: 0.9164 - recall_2: 0.7655 - val_loss: 0.2714 - val_binary_crossentropy: 0.2714 - val_precision_2: 0.7843 - val_recall_2: 0.6316\n",
      "Epoch 49/100\n",
      "46675/46675 - 2s - loss: 0.1510 - binary_crossentropy: 0.1510 - precision_2: 0.9166 - recall_2: 0.7657 - val_loss: 0.2715 - val_binary_crossentropy: 0.2715 - val_precision_2: 0.7834 - val_recall_2: 0.6316\n",
      "Epoch 50/100\n",
      "46675/46675 - 2s - loss: 0.1507 - binary_crossentropy: 0.1507 - precision_2: 0.9168 - recall_2: 0.7665 - val_loss: 0.2716 - val_binary_crossentropy: 0.2716 - val_precision_2: 0.7834 - val_recall_2: 0.6316\n",
      "Epoch 51/100\n",
      "46675/46675 - 2s - loss: 0.1504 - binary_crossentropy: 0.1504 - precision_2: 0.9172 - recall_2: 0.7668 - val_loss: 0.2716 - val_binary_crossentropy: 0.2716 - val_precision_2: 0.7830 - val_recall_2: 0.6316\n",
      "Epoch 52/100\n",
      "46675/46675 - 2s - loss: 0.1501 - binary_crossentropy: 0.1501 - precision_2: 0.9176 - recall_2: 0.7673 - val_loss: 0.2717 - val_binary_crossentropy: 0.2717 - val_precision_2: 0.7841 - val_recall_2: 0.6325\n",
      "Epoch 53/100\n",
      "46675/46675 - 2s - loss: 0.1499 - binary_crossentropy: 0.1499 - precision_2: 0.9176 - recall_2: 0.7678 - val_loss: 0.2718 - val_binary_crossentropy: 0.2718 - val_precision_2: 0.7841 - val_recall_2: 0.6325\n",
      "Epoch 54/100\n",
      "46675/46675 - 2s - loss: 0.1496 - binary_crossentropy: 0.1496 - precision_2: 0.9181 - recall_2: 0.7682 - val_loss: 0.2719 - val_binary_crossentropy: 0.2719 - val_precision_2: 0.7832 - val_recall_2: 0.6325\n",
      "Epoch 55/100\n",
      "46675/46675 - 2s - loss: 0.1493 - binary_crossentropy: 0.1493 - precision_2: 0.9191 - recall_2: 0.7688 - val_loss: 0.2719 - val_binary_crossentropy: 0.2719 - val_precision_2: 0.7832 - val_recall_2: 0.6325\n",
      "Epoch 56/100\n",
      "46675/46675 - 2s - loss: 0.1491 - binary_crossentropy: 0.1491 - precision_2: 0.9191 - recall_2: 0.7694 - val_loss: 0.2720 - val_binary_crossentropy: 0.2720 - val_precision_2: 0.7842 - val_recall_2: 0.6330\n",
      "Epoch 57/100\n",
      "46675/46675 - 2s - loss: 0.1488 - binary_crossentropy: 0.1488 - precision_2: 0.9198 - recall_2: 0.7700 - val_loss: 0.2721 - val_binary_crossentropy: 0.2721 - val_precision_2: 0.7841 - val_recall_2: 0.6325\n",
      "Epoch 58/100\n",
      "46675/46675 - 2s - loss: 0.1486 - binary_crossentropy: 0.1486 - precision_2: 0.9200 - recall_2: 0.7705 - val_loss: 0.2721 - val_binary_crossentropy: 0.2721 - val_precision_2: 0.7834 - val_recall_2: 0.6330\n",
      "Epoch 59/100\n",
      "46675/46675 - 2s - loss: 0.1484 - binary_crossentropy: 0.1484 - precision_2: 0.9202 - recall_2: 0.7713 - val_loss: 0.2722 - val_binary_crossentropy: 0.2722 - val_precision_2: 0.7838 - val_recall_2: 0.6330\n",
      "Epoch 60/100\n",
      "46675/46675 - 2s - loss: 0.1481 - binary_crossentropy: 0.1481 - precision_2: 0.9212 - recall_2: 0.7718 - val_loss: 0.2722 - val_binary_crossentropy: 0.2722 - val_precision_2: 0.7834 - val_recall_2: 0.6330\n",
      "Epoch 61/100\n",
      "46675/46675 - 2s - loss: 0.1479 - binary_crossentropy: 0.1479 - precision_2: 0.9212 - recall_2: 0.7720 - val_loss: 0.2723 - val_binary_crossentropy: 0.2723 - val_precision_2: 0.7837 - val_recall_2: 0.6343\n",
      "Epoch 62/100\n",
      "46675/46675 - 2s - loss: 0.1477 - binary_crossentropy: 0.1477 - precision_2: 0.9215 - recall_2: 0.7727 - val_loss: 0.2724 - val_binary_crossentropy: 0.2724 - val_precision_2: 0.7836 - val_recall_2: 0.6339\n",
      "Epoch 63/100\n",
      "46675/46675 - 2s - loss: 0.1475 - binary_crossentropy: 0.1475 - precision_2: 0.9214 - recall_2: 0.7731 - val_loss: 0.2724 - val_binary_crossentropy: 0.2724 - val_precision_2: 0.7850 - val_recall_2: 0.6343\n",
      "Epoch 64/100\n",
      "46675/46675 - 2s - loss: 0.1473 - binary_crossentropy: 0.1473 - precision_2: 0.9217 - recall_2: 0.7733 - val_loss: 0.2725 - val_binary_crossentropy: 0.2725 - val_precision_2: 0.7846 - val_recall_2: 0.6343\n",
      "Epoch 65/100\n",
      "46675/46675 - 2s - loss: 0.1471 - binary_crossentropy: 0.1471 - precision_2: 0.9219 - recall_2: 0.7741 - val_loss: 0.2725 - val_binary_crossentropy: 0.2725 - val_precision_2: 0.7841 - val_recall_2: 0.6343\n",
      "Epoch 66/100\n",
      "46675/46675 - 2s - loss: 0.1469 - binary_crossentropy: 0.1469 - precision_2: 0.9219 - recall_2: 0.7746 - val_loss: 0.2726 - val_binary_crossentropy: 0.2726 - val_precision_2: 0.7845 - val_recall_2: 0.6356\n",
      "Epoch 67/100\n",
      "46675/46675 - 2s - loss: 0.1467 - binary_crossentropy: 0.1467 - precision_2: 0.9218 - recall_2: 0.7749 - val_loss: 0.2726 - val_binary_crossentropy: 0.2726 - val_precision_2: 0.7849 - val_recall_2: 0.6356\n",
      "Epoch 68/100\n",
      "46675/46675 - 2s - loss: 0.1465 - binary_crossentropy: 0.1465 - precision_2: 0.9219 - recall_2: 0.7755 - val_loss: 0.2727 - val_binary_crossentropy: 0.2727 - val_precision_2: 0.7848 - val_recall_2: 0.6352\n",
      "Epoch 69/100\n",
      "46675/46675 - 2s - loss: 0.1463 - binary_crossentropy: 0.1463 - precision_2: 0.9218 - recall_2: 0.7761 - val_loss: 0.2727 - val_binary_crossentropy: 0.2727 - val_precision_2: 0.7849 - val_recall_2: 0.6356\n",
      "Epoch 70/100\n",
      "46675/46675 - 2s - loss: 0.1461 - binary_crossentropy: 0.1461 - precision_2: 0.9218 - recall_2: 0.7769 - val_loss: 0.2728 - val_binary_crossentropy: 0.2728 - val_precision_2: 0.7845 - val_recall_2: 0.6356\n",
      "Epoch 71/100\n",
      "46675/46675 - 2s - loss: 0.1460 - binary_crossentropy: 0.1460 - precision_2: 0.9219 - recall_2: 0.7773 - val_loss: 0.2728 - val_binary_crossentropy: 0.2728 - val_precision_2: 0.7847 - val_recall_2: 0.6365\n",
      "Epoch 72/100\n",
      "46675/46675 - 2s - loss: 0.1458 - binary_crossentropy: 0.1458 - precision_2: 0.9222 - recall_2: 0.7777 - val_loss: 0.2729 - val_binary_crossentropy: 0.2729 - val_precision_2: 0.7849 - val_recall_2: 0.6370\n",
      "Epoch 73/100\n",
      "46675/46675 - 2s - loss: 0.1456 - binary_crossentropy: 0.1456 - precision_2: 0.9220 - recall_2: 0.7782 - val_loss: 0.2729 - val_binary_crossentropy: 0.2729 - val_precision_2: 0.7839 - val_recall_2: 0.6365\n",
      "Epoch 74/100\n",
      "46675/46675 - 2s - loss: 0.1454 - binary_crossentropy: 0.1454 - precision_2: 0.9225 - recall_2: 0.7783 - val_loss: 0.2730 - val_binary_crossentropy: 0.2730 - val_precision_2: 0.7839 - val_recall_2: 0.6365\n",
      "Epoch 75/100\n",
      "46675/46675 - 2s - loss: 0.1453 - binary_crossentropy: 0.1453 - precision_2: 0.9227 - recall_2: 0.7785 - val_loss: 0.2730 - val_binary_crossentropy: 0.2730 - val_precision_2: 0.7839 - val_recall_2: 0.6365\n",
      "Epoch 76/100\n",
      "46675/46675 - 2s - loss: 0.1451 - binary_crossentropy: 0.1451 - precision_2: 0.9228 - recall_2: 0.7788 - val_loss: 0.2731 - val_binary_crossentropy: 0.2731 - val_precision_2: 0.7843 - val_recall_2: 0.6365\n"
     ]
    },
    {
     "name": "stdout",
     "output_type": "stream",
     "text": [
      "Epoch 77/100\n",
      "46675/46675 - 2s - loss: 0.1450 - binary_crossentropy: 0.1450 - precision_2: 0.9229 - recall_2: 0.7788 - val_loss: 0.2731 - val_binary_crossentropy: 0.2731 - val_precision_2: 0.7837 - val_recall_2: 0.6374\n",
      "Epoch 78/100\n",
      "46675/46675 - 2s - loss: 0.1448 - binary_crossentropy: 0.1448 - precision_2: 0.9226 - recall_2: 0.7792 - val_loss: 0.2732 - val_binary_crossentropy: 0.2732 - val_precision_2: 0.7833 - val_recall_2: 0.6374\n",
      "Epoch 79/100\n",
      "46675/46675 - 2s - loss: 0.1447 - binary_crossentropy: 0.1447 - precision_2: 0.9228 - recall_2: 0.7795 - val_loss: 0.2732 - val_binary_crossentropy: 0.2732 - val_precision_2: 0.7837 - val_recall_2: 0.6374\n",
      "Epoch 80/100\n",
      "46675/46675 - 2s - loss: 0.1445 - binary_crossentropy: 0.1445 - precision_2: 0.9230 - recall_2: 0.7795 - val_loss: 0.2733 - val_binary_crossentropy: 0.2733 - val_precision_2: 0.7837 - val_recall_2: 0.6374\n",
      "Epoch 81/100\n",
      "46675/46675 - 2s - loss: 0.1444 - binary_crossentropy: 0.1444 - precision_2: 0.9230 - recall_2: 0.7800 - val_loss: 0.2733 - val_binary_crossentropy: 0.2733 - val_precision_2: 0.7838 - val_recall_2: 0.6379\n",
      "Epoch 82/100\n",
      "46675/46675 - 2s - loss: 0.1443 - binary_crossentropy: 0.1443 - precision_2: 0.9232 - recall_2: 0.7802 - val_loss: 0.2733 - val_binary_crossentropy: 0.2733 - val_precision_2: 0.7838 - val_recall_2: 0.6379\n",
      "Epoch 83/100\n",
      "46675/46675 - 2s - loss: 0.1442 - binary_crossentropy: 0.1442 - precision_2: 0.9230 - recall_2: 0.7805 - val_loss: 0.2734 - val_binary_crossentropy: 0.2734 - val_precision_2: 0.7838 - val_recall_2: 0.6379\n",
      "Epoch 84/100\n",
      "46675/46675 - 2s - loss: 0.1440 - binary_crossentropy: 0.1440 - precision_2: 0.9234 - recall_2: 0.7810 - val_loss: 0.2734 - val_binary_crossentropy: 0.2734 - val_precision_2: 0.7838 - val_recall_2: 0.6379\n",
      "Epoch 85/100\n",
      "46675/46675 - 2s - loss: 0.1439 - binary_crossentropy: 0.1439 - precision_2: 0.9232 - recall_2: 0.7808 - val_loss: 0.2735 - val_binary_crossentropy: 0.2735 - val_precision_2: 0.7842 - val_recall_2: 0.6379\n",
      "Epoch 86/100\n",
      "46675/46675 - 2s - loss: 0.1438 - binary_crossentropy: 0.1438 - precision_2: 0.9231 - recall_2: 0.7812 - val_loss: 0.2735 - val_binary_crossentropy: 0.2735 - val_precision_2: 0.7838 - val_recall_2: 0.6379\n",
      "Epoch 87/100\n",
      "46675/46675 - 2s - loss: 0.1436 - binary_crossentropy: 0.1436 - precision_2: 0.9230 - recall_2: 0.7811 - val_loss: 0.2735 - val_binary_crossentropy: 0.2735 - val_precision_2: 0.7843 - val_recall_2: 0.6383\n",
      "Epoch 88/100\n",
      "46675/46675 - 2s - loss: 0.1435 - binary_crossentropy: 0.1435 - precision_2: 0.9232 - recall_2: 0.7810 - val_loss: 0.2736 - val_binary_crossentropy: 0.2736 - val_precision_2: 0.7845 - val_recall_2: 0.6388\n",
      "Epoch 89/100\n",
      "46675/46675 - 2s - loss: 0.1434 - binary_crossentropy: 0.1434 - precision_2: 0.9234 - recall_2: 0.7815 - val_loss: 0.2736 - val_binary_crossentropy: 0.2736 - val_precision_2: 0.7840 - val_recall_2: 0.6388\n",
      "Epoch 90/100\n",
      "46675/46675 - 2s - loss: 0.1433 - binary_crossentropy: 0.1433 - precision_2: 0.9235 - recall_2: 0.7821 - val_loss: 0.2736 - val_binary_crossentropy: 0.2736 - val_precision_2: 0.7842 - val_recall_2: 0.6392\n",
      "Epoch 91/100\n",
      "46675/46675 - 2s - loss: 0.1432 - binary_crossentropy: 0.1432 - precision_2: 0.9236 - recall_2: 0.7825 - val_loss: 0.2737 - val_binary_crossentropy: 0.2737 - val_precision_2: 0.7837 - val_recall_2: 0.6392\n",
      "Epoch 92/100\n",
      "46675/46675 - 2s - loss: 0.1431 - binary_crossentropy: 0.1431 - precision_2: 0.9239 - recall_2: 0.7827 - val_loss: 0.2737 - val_binary_crossentropy: 0.2737 - val_precision_2: 0.7840 - val_recall_2: 0.6401\n",
      "Epoch 93/100\n",
      "46675/46675 - 2s - loss: 0.1430 - binary_crossentropy: 0.1430 - precision_2: 0.9240 - recall_2: 0.7827 - val_loss: 0.2737 - val_binary_crossentropy: 0.2737 - val_precision_2: 0.7843 - val_recall_2: 0.6396\n",
      "Epoch 94/100\n",
      "46675/46675 - 2s - loss: 0.1429 - binary_crossentropy: 0.1429 - precision_2: 0.9240 - recall_2: 0.7830 - val_loss: 0.2738 - val_binary_crossentropy: 0.2738 - val_precision_2: 0.7841 - val_recall_2: 0.6405\n",
      "Epoch 95/100\n",
      "46675/46675 - 2s - loss: 0.1428 - binary_crossentropy: 0.1428 - precision_2: 0.9242 - recall_2: 0.7835 - val_loss: 0.2738 - val_binary_crossentropy: 0.2738 - val_precision_2: 0.7845 - val_recall_2: 0.6405\n",
      "Epoch 96/100\n",
      "46675/46675 - 2s - loss: 0.1427 - binary_crossentropy: 0.1427 - precision_2: 0.9242 - recall_2: 0.7839 - val_loss: 0.2738 - val_binary_crossentropy: 0.2738 - val_precision_2: 0.7845 - val_recall_2: 0.6405\n",
      "Epoch 97/100\n",
      "46675/46675 - 2s - loss: 0.1426 - binary_crossentropy: 0.1426 - precision_2: 0.9241 - recall_2: 0.7839 - val_loss: 0.2739 - val_binary_crossentropy: 0.2739 - val_precision_2: 0.7846 - val_recall_2: 0.6410\n",
      "Epoch 98/100\n",
      "46675/46675 - 3s - loss: 0.1425 - binary_crossentropy: 0.1425 - precision_2: 0.9241 - recall_2: 0.7842 - val_loss: 0.2739 - val_binary_crossentropy: 0.2739 - val_precision_2: 0.7842 - val_recall_2: 0.6410\n",
      "Epoch 99/100\n",
      "46675/46675 - 2s - loss: 0.1424 - binary_crossentropy: 0.1424 - precision_2: 0.9241 - recall_2: 0.7839 - val_loss: 0.2739 - val_binary_crossentropy: 0.2739 - val_precision_2: 0.7838 - val_recall_2: 0.6410\n",
      "Epoch 100/100\n",
      "46675/46675 - 2s - loss: 0.1423 - binary_crossentropy: 0.1423 - precision_2: 0.9242 - recall_2: 0.7843 - val_loss: 0.2739 - val_binary_crossentropy: 0.2739 - val_precision_2: 0.7833 - val_recall_2: 0.6410\n"
     ]
    }
   ],
   "source": [
    "# fit network\n",
    "history = model.fit(X_train_resh, Y_train, epochs=100, batch_size=72, validation_data=(X_test_resh, Y_test), verbose=2, shuffle=False)\n"
   ]
  },
  {
   "cell_type": "code",
   "execution_count": 155,
   "metadata": {},
   "outputs": [
    {
     "data": {
      "image/png": "[encoded data removed]",
      "text/plain": [
       "<Figure size 432x288 with 1 Axes>"
      ]
     },
     "metadata": {
      "needs_background": "light"
     },
     "output_type": "display_data"
    }
   ],
   "source": [
    "# plot history\n",
    "pyplot.plot(history.history['loss'], label='train')\n",
    "pyplot.plot(history.history['val_loss'], label='test')\n",
    "pyplot.legend()\n",
    "pyplot.show()"
   ]
  },
  {
   "cell_type": "code",
   "execution_count": 156,
   "metadata": {},
   "outputs": [],
   "source": [
    "Y_train_pred2 = model.predict_classes(X_train_resh)\n",
    "Y_test_pred2 = model.predict_classes(X_test_resh)"
   ]
  },
  {
   "cell_type": "code",
   "execution_count": 157,
   "metadata": {
    "scrolled": true
   },
   "outputs": [
    {
     "name": "stdout",
     "output_type": "stream",
     "text": [
      "Confusion matrix on train set : \n",
      "[[37175   520]\n",
      " [ 1996  6984]]\n",
      "\n",
      "Confusion matrix on test set : \n",
      "[[9026  398]\n",
      " [ 806 1439]]\n",
      "\n"
     ]
    }
   ],
   "source": [
    "print(\"Confusion matrix on train set : \")\n",
    "print(confusion_matrix(Y_train,Y_train_pred2))\n",
    "print()\n",
    "print(\"Confusion matrix on test set : \")\n",
    "print(confusion_matrix(Y_test, Y_test_pred2))\n",
    "print()"
   ]
  },
  {
   "cell_type": "code",
   "execution_count": 158,
   "metadata": {},
   "outputs": [
    {
     "name": "stdout",
     "output_type": "stream",
     "text": [
      "Sensitivity (recall) score on train set :  0.777728285077951\n",
      "Sensitivity (recall) score on test set :  0.6409799554565702\n"
     ]
    }
   ],
   "source": [
    "print(\"Sensitivity (recall) score on train set : \", recall_score(Y_train,Y_train_pred2))\n",
    "print(\"Sensitivity (recall) score on test set : \", recall_score(Y_test,Y_test_pred2))"
   ]
  },
  {
   "cell_type": "code",
   "execution_count": 159,
   "metadata": {},
   "outputs": [
    {
     "name": "stdout",
     "output_type": "stream",
     "text": [
      "Classification Report Train\n",
      "              precision    recall  f1-score   support\n",
      "\n",
      "           0       0.95      0.99      0.97     37695\n",
      "           1       0.93      0.78      0.85      8980\n",
      "\n",
      "    accuracy                           0.95     46675\n",
      "   macro avg       0.94      0.88      0.91     46675\n",
      "weighted avg       0.95      0.95      0.94     46675\n",
      "\n"
     ]
    }
   ],
   "source": [
    "print(\"Classification Report Train\")\n",
    "print(classification_report(Y_train,Y_train_pred2))"
   ]
  },
  {
   "cell_type": "code",
   "execution_count": 160,
   "metadata": {},
   "outputs": [
    {
     "name": "stdout",
     "output_type": "stream",
     "text": [
      "Classification Report Test\n",
      "              precision    recall  f1-score   support\n",
      "\n",
      "           0       0.92      0.96      0.94      9424\n",
      "           1       0.78      0.64      0.71      2245\n",
      "\n",
      "    accuracy                           0.90     11669\n",
      "   macro avg       0.85      0.80      0.82     11669\n",
      "weighted avg       0.89      0.90      0.89     11669\n",
      "\n"
     ]
    }
   ],
   "source": [
    "print(\"Classification Report Test\")\n",
    "print(classification_report(Y_test,Y_test_pred2))"
   ]
  },
  {
   "cell_type": "code",
   "execution_count": null,
   "metadata": {},
   "outputs": [],
   "source": []
  }
 ],
 "metadata": {
  "kernelspec": {
   "display_name": "Python 3",
   "language": "python",
   "name": "python3"
  },
  "language_info": {
   "codemirror_mode": {
    "name": "ipython",
    "version": 3
   },
   "file_extension": ".py",
   "mimetype": "text/x-python",
   "name": "python",
   "nbconvert_exporter": "python",
   "pygments_lexer": "ipython3",
   "version": "3.7.7"
  }
 },
 "nbformat": 4,
 "nbformat_minor": 4
}
