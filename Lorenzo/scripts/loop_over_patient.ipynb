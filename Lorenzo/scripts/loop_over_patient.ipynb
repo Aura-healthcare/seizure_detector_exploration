{
 "cells": [
  {
   "cell_type": "markdown",
   "metadata": {},
   "source": [
    "# Preprocessing"
   ]
  },
  {
   "cell_type": "code",
   "execution_count": 1,
   "metadata": {},
   "outputs": [],
   "source": [
    "import pandas as pd\n",
    "import numpy as np\n",
    "import matplotlib.pyplot as plt\n",
    "import seaborn as sns\n",
    "\n",
    "import json\n",
    "\n",
    "pd.set_option(\"display.max_columns\", 100)"
   ]
  },
  {
   "cell_type": "code",
   "execution_count": 2,
   "metadata": {},
   "outputs": [
    {
     "output_type": "execute_result",
     "data": {
      "text/plain": "     Set Categorie Montage  Dossier Patient  Patient          Session File N°  \\\n0  train         01_tcp_ar               86     8643  s001_2012_02_22    t000   \n1  train         01_tcp_ar               86     8643  s001_2012_02_22    t000   \n2  train         01_tcp_ar               86     8643  s001_2012_02_22    t000   \n3  train         01_tcp_ar               86     8643  s001_2012_02_22    t000   \n4  train         01_tcp_ar               86     8643  s001_2012_02_22    t000   \n\n   exam_duration  SWT_vs_XQRS  Pan_vs_XQRS  interval_index  \\\n0           1329     0.651163     0.476072             0.0   \n1           1329     0.651163     0.476072             1.0   \n2           1329     0.651163     0.476072             2.0   \n3           1329     0.651163     0.476072             3.0   \n4           1329     0.651163     0.476072             4.0   \n\n   interval_start_time    mean_nni       sdnn       sdsd  nni_50    pnni_50  \\\n0                  0.0         NaN        NaN        NaN     5.0  26.315789   \n1              10000.0  537.109375  56.359305  41.722014     4.0  21.052632   \n2              20000.0  602.213542  51.251884  26.831113     4.0  22.222222   \n3              30000.0  564.453125  33.125314  21.511084     1.0   5.555556   \n4              40000.0         NaN        NaN        NaN     2.0  11.111111   \n\n   nni_20    pnni_20      rmssd  median_nni   range_nni      cvsd     cvnni  \\\n0     6.0  31.578947        NaN         NaN  179.687500       NaN       NaN   \n1     4.0  21.052632  41.722578  546.875000  189.453125  0.077680  0.104931   \n2     4.0  22.222222  27.702479  585.937500  125.000000  0.046001  0.085106   \n3     2.0  11.111111  21.687087  548.828125   89.843750  0.038421  0.058686   \n4     2.0  11.111111        NaN         NaN  125.000000       NaN       NaN   \n\n      mean_hr      max_hr      min_hr     std_hr  lf  hf  vlf  lf_hf_ratio  \\\n0         NaN  132.987013   95.108359        NaN NaN NaN  NaN          NaN   \n1  113.041243  141.566820   97.834395  13.134853 NaN NaN  NaN          NaN   \n2  100.296032  108.936170   88.786127   8.031925 NaN NaN  NaN          NaN   \n3  106.617186  110.503597   94.814815   5.605881 NaN NaN  NaN          NaN   \n4         NaN  139.636364  108.169014        NaN NaN NaN  NaN          NaN   \n\n   csi  cvi  Modified_csi  sampen  sd1  sd2  ratio_sd2_sd1  label  \n0  NaN  NaN           NaN     NaN  NaN  NaN            NaN    0.0  \n1  NaN  NaN           NaN     NaN  NaN  NaN            NaN    0.0  \n2  NaN  NaN           NaN     NaN  NaN  NaN            NaN    0.0  \n3  NaN  NaN           NaN     NaN  NaN  NaN            NaN    0.0  \n4  NaN  NaN           NaN     NaN  NaN  NaN            NaN    0.0  ",
      "text/html": "<div>\n<style scoped>\n    .dataframe tbody tr th:only-of-type {\n        vertical-align: middle;\n    }\n\n    .dataframe tbody tr th {\n        vertical-align: top;\n    }\n\n    .dataframe thead th {\n        text-align: right;\n    }\n</style>\n<table border=\"1\" class=\"dataframe\">\n  <thead>\n    <tr style=\"text-align: right;\">\n      <th></th>\n      <th>Set</th>\n      <th>Categorie Montage</th>\n      <th>Dossier Patient</th>\n      <th>Patient</th>\n      <th>Session</th>\n      <th>File N°</th>\n      <th>exam_duration</th>\n      <th>SWT_vs_XQRS</th>\n      <th>Pan_vs_XQRS</th>\n      <th>interval_index</th>\n      <th>interval_start_time</th>\n      <th>mean_nni</th>\n      <th>sdnn</th>\n      <th>sdsd</th>\n      <th>nni_50</th>\n      <th>pnni_50</th>\n      <th>nni_20</th>\n      <th>pnni_20</th>\n      <th>rmssd</th>\n      <th>median_nni</th>\n      <th>range_nni</th>\n      <th>cvsd</th>\n      <th>cvnni</th>\n      <th>mean_hr</th>\n      <th>max_hr</th>\n      <th>min_hr</th>\n      <th>std_hr</th>\n      <th>lf</th>\n      <th>hf</th>\n      <th>vlf</th>\n      <th>lf_hf_ratio</th>\n      <th>csi</th>\n      <th>cvi</th>\n      <th>Modified_csi</th>\n      <th>sampen</th>\n      <th>sd1</th>\n      <th>sd2</th>\n      <th>ratio_sd2_sd1</th>\n      <th>label</th>\n    </tr>\n  </thead>\n  <tbody>\n    <tr>\n      <th>0</th>\n      <td>train</td>\n      <td>01_tcp_ar</td>\n      <td>86</td>\n      <td>8643</td>\n      <td>s001_2012_02_22</td>\n      <td>t000</td>\n      <td>1329</td>\n      <td>0.651163</td>\n      <td>0.476072</td>\n      <td>0.0</td>\n      <td>0.0</td>\n      <td>NaN</td>\n      <td>NaN</td>\n      <td>NaN</td>\n      <td>5.0</td>\n      <td>26.315789</td>\n      <td>6.0</td>\n      <td>31.578947</td>\n      <td>NaN</td>\n      <td>NaN</td>\n      <td>179.687500</td>\n      <td>NaN</td>\n      <td>NaN</td>\n      <td>NaN</td>\n      <td>132.987013</td>\n      <td>95.108359</td>\n      <td>NaN</td>\n      <td>NaN</td>\n      <td>NaN</td>\n      <td>NaN</td>\n      <td>NaN</td>\n      <td>NaN</td>\n      <td>NaN</td>\n      <td>NaN</td>\n      <td>NaN</td>\n      <td>NaN</td>\n      <td>NaN</td>\n      <td>NaN</td>\n      <td>0.0</td>\n    </tr>\n    <tr>\n      <th>1</th>\n      <td>train</td>\n      <td>01_tcp_ar</td>\n      <td>86</td>\n      <td>8643</td>\n      <td>s001_2012_02_22</td>\n      <td>t000</td>\n      <td>1329</td>\n      <td>0.651163</td>\n      <td>0.476072</td>\n      <td>1.0</td>\n      <td>10000.0</td>\n      <td>537.109375</td>\n      <td>56.359305</td>\n      <td>41.722014</td>\n      <td>4.0</td>\n      <td>21.052632</td>\n      <td>4.0</td>\n      <td>21.052632</td>\n      <td>41.722578</td>\n      <td>546.875000</td>\n      <td>189.453125</td>\n      <td>0.077680</td>\n      <td>0.104931</td>\n      <td>113.041243</td>\n      <td>141.566820</td>\n      <td>97.834395</td>\n      <td>13.134853</td>\n      <td>NaN</td>\n      <td>NaN</td>\n      <td>NaN</td>\n      <td>NaN</td>\n      <td>NaN</td>\n      <td>NaN</td>\n      <td>NaN</td>\n      <td>NaN</td>\n      <td>NaN</td>\n      <td>NaN</td>\n      <td>NaN</td>\n      <td>0.0</td>\n    </tr>\n    <tr>\n      <th>2</th>\n      <td>train</td>\n      <td>01_tcp_ar</td>\n      <td>86</td>\n      <td>8643</td>\n      <td>s001_2012_02_22</td>\n      <td>t000</td>\n      <td>1329</td>\n      <td>0.651163</td>\n      <td>0.476072</td>\n      <td>2.0</td>\n      <td>20000.0</td>\n      <td>602.213542</td>\n      <td>51.251884</td>\n      <td>26.831113</td>\n      <td>4.0</td>\n      <td>22.222222</td>\n      <td>4.0</td>\n      <td>22.222222</td>\n      <td>27.702479</td>\n      <td>585.937500</td>\n      <td>125.000000</td>\n      <td>0.046001</td>\n      <td>0.085106</td>\n      <td>100.296032</td>\n      <td>108.936170</td>\n      <td>88.786127</td>\n      <td>8.031925</td>\n      <td>NaN</td>\n      <td>NaN</td>\n      <td>NaN</td>\n      <td>NaN</td>\n      <td>NaN</td>\n      <td>NaN</td>\n      <td>NaN</td>\n      <td>NaN</td>\n      <td>NaN</td>\n      <td>NaN</td>\n      <td>NaN</td>\n      <td>0.0</td>\n    </tr>\n    <tr>\n      <th>3</th>\n      <td>train</td>\n      <td>01_tcp_ar</td>\n      <td>86</td>\n      <td>8643</td>\n      <td>s001_2012_02_22</td>\n      <td>t000</td>\n      <td>1329</td>\n      <td>0.651163</td>\n      <td>0.476072</td>\n      <td>3.0</td>\n      <td>30000.0</td>\n      <td>564.453125</td>\n      <td>33.125314</td>\n      <td>21.511084</td>\n      <td>1.0</td>\n      <td>5.555556</td>\n      <td>2.0</td>\n      <td>11.111111</td>\n      <td>21.687087</td>\n      <td>548.828125</td>\n      <td>89.843750</td>\n      <td>0.038421</td>\n      <td>0.058686</td>\n      <td>106.617186</td>\n      <td>110.503597</td>\n      <td>94.814815</td>\n      <td>5.605881</td>\n      <td>NaN</td>\n      <td>NaN</td>\n      <td>NaN</td>\n      <td>NaN</td>\n      <td>NaN</td>\n      <td>NaN</td>\n      <td>NaN</td>\n      <td>NaN</td>\n      <td>NaN</td>\n      <td>NaN</td>\n      <td>NaN</td>\n      <td>0.0</td>\n    </tr>\n    <tr>\n      <th>4</th>\n      <td>train</td>\n      <td>01_tcp_ar</td>\n      <td>86</td>\n      <td>8643</td>\n      <td>s001_2012_02_22</td>\n      <td>t000</td>\n      <td>1329</td>\n      <td>0.651163</td>\n      <td>0.476072</td>\n      <td>4.0</td>\n      <td>40000.0</td>\n      <td>NaN</td>\n      <td>NaN</td>\n      <td>NaN</td>\n      <td>2.0</td>\n      <td>11.111111</td>\n      <td>2.0</td>\n      <td>11.111111</td>\n      <td>NaN</td>\n      <td>NaN</td>\n      <td>125.000000</td>\n      <td>NaN</td>\n      <td>NaN</td>\n      <td>NaN</td>\n      <td>139.636364</td>\n      <td>108.169014</td>\n      <td>NaN</td>\n      <td>NaN</td>\n      <td>NaN</td>\n      <td>NaN</td>\n      <td>NaN</td>\n      <td>NaN</td>\n      <td>NaN</td>\n      <td>NaN</td>\n      <td>NaN</td>\n      <td>NaN</td>\n      <td>NaN</td>\n      <td>NaN</td>\n      <td>0.0</td>\n    </tr>\n  </tbody>\n</table>\n</div>"
     },
     "metadata": {},
     "execution_count": 2
    }
   ],
   "source": [
    "xqrs = pd.read_csv('../to_csv/xqrs_v2.csv').drop('Unnamed: 0', axis=1)\n",
    "xqrs.head()"
   ]
  },
  {
   "cell_type": "code",
   "execution_count": 3,
   "metadata": {},
   "outputs": [
    {
     "output_type": "execute_result",
     "data": {
      "text/plain": "(308945, 39)"
     },
     "metadata": {},
     "execution_count": 3
    }
   ],
   "source": [
    "xqrs.shape"
   ]
  },
  {
   "cell_type": "code",
   "execution_count": 4,
   "metadata": {},
   "outputs": [
    {
     "output_type": "execute_result",
     "data": {
      "text/plain": "     Set Categorie Montage  Dossier Patient  Patient Session        Date  \\\n0  train         01_tcp_ar               86     8643    s001  22/02/2012   \n1  train         01_tcp_ar               86     8643    s001  22/02/2012   \n2  train         01_tcp_ar               86     8643    s001  22/02/2012   \n3  train         01_tcp_ar               86     8643    s001  22/02/2012   \n4  train         01_tcp_ar               86     8643    s001  22/02/2012   \n\n  File N°  exam_duration  SWT_vs_XQRS  Pan_vs_XQRS  interval_index  \\\n0    t000           1329     0.651163     0.476072             0.0   \n1    t000           1329     0.651163     0.476072             1.0   \n2    t000           1329     0.651163     0.476072             2.0   \n3    t000           1329     0.651163     0.476072             3.0   \n4    t000           1329     0.651163     0.476072             4.0   \n\n   interval_start_time    mean_nni       sdnn       sdsd  nni_50    pnni_50  \\\n0                  0.0         NaN        NaN        NaN     5.0  26.315789   \n1              10000.0  537.109375  56.359305  41.722014     4.0  21.052632   \n2              20000.0  602.213542  51.251884  26.831113     4.0  22.222222   \n3              30000.0  564.453125  33.125314  21.511084     1.0   5.555556   \n4              40000.0         NaN        NaN        NaN     2.0  11.111111   \n\n   nni_20    pnni_20      rmssd  median_nni   range_nni      cvsd     cvnni  \\\n0     6.0  31.578947        NaN         NaN  179.687500       NaN       NaN   \n1     4.0  21.052632  41.722578  546.875000  189.453125  0.077680  0.104931   \n2     4.0  22.222222  27.702479  585.937500  125.000000  0.046001  0.085106   \n3     2.0  11.111111  21.687087  548.828125   89.843750  0.038421  0.058686   \n4     2.0  11.111111        NaN         NaN  125.000000       NaN       NaN   \n\n      mean_hr      max_hr      min_hr     std_hr  lf  hf  vlf  lf_hf_ratio  \\\n0         NaN  132.987013   95.108359        NaN NaN NaN  NaN          NaN   \n1  113.041243  141.566820   97.834395  13.134853 NaN NaN  NaN          NaN   \n2  100.296032  108.936170   88.786127   8.031925 NaN NaN  NaN          NaN   \n3  106.617186  110.503597   94.814815   5.605881 NaN NaN  NaN          NaN   \n4         NaN  139.636364  108.169014        NaN NaN NaN  NaN          NaN   \n\n   csi  cvi  Modified_csi  sampen  sd1  sd2  ratio_sd2_sd1  label  \n0  NaN  NaN           NaN     NaN  NaN  NaN            NaN    0.0  \n1  NaN  NaN           NaN     NaN  NaN  NaN            NaN    0.0  \n2  NaN  NaN           NaN     NaN  NaN  NaN            NaN    0.0  \n3  NaN  NaN           NaN     NaN  NaN  NaN            NaN    0.0  \n4  NaN  NaN           NaN     NaN  NaN  NaN            NaN    0.0  ",
      "text/html": "<div>\n<style scoped>\n    .dataframe tbody tr th:only-of-type {\n        vertical-align: middle;\n    }\n\n    .dataframe tbody tr th {\n        vertical-align: top;\n    }\n\n    .dataframe thead th {\n        text-align: right;\n    }\n</style>\n<table border=\"1\" class=\"dataframe\">\n  <thead>\n    <tr style=\"text-align: right;\">\n      <th></th>\n      <th>Set</th>\n      <th>Categorie Montage</th>\n      <th>Dossier Patient</th>\n      <th>Patient</th>\n      <th>Session</th>\n      <th>Date</th>\n      <th>File N°</th>\n      <th>exam_duration</th>\n      <th>SWT_vs_XQRS</th>\n      <th>Pan_vs_XQRS</th>\n      <th>interval_index</th>\n      <th>interval_start_time</th>\n      <th>mean_nni</th>\n      <th>sdnn</th>\n      <th>sdsd</th>\n      <th>nni_50</th>\n      <th>pnni_50</th>\n      <th>nni_20</th>\n      <th>pnni_20</th>\n      <th>rmssd</th>\n      <th>median_nni</th>\n      <th>range_nni</th>\n      <th>cvsd</th>\n      <th>cvnni</th>\n      <th>mean_hr</th>\n      <th>max_hr</th>\n      <th>min_hr</th>\n      <th>std_hr</th>\n      <th>lf</th>\n      <th>hf</th>\n      <th>vlf</th>\n      <th>lf_hf_ratio</th>\n      <th>csi</th>\n      <th>cvi</th>\n      <th>Modified_csi</th>\n      <th>sampen</th>\n      <th>sd1</th>\n      <th>sd2</th>\n      <th>ratio_sd2_sd1</th>\n      <th>label</th>\n    </tr>\n  </thead>\n  <tbody>\n    <tr>\n      <th>0</th>\n      <td>train</td>\n      <td>01_tcp_ar</td>\n      <td>86</td>\n      <td>8643</td>\n      <td>s001</td>\n      <td>22/02/2012</td>\n      <td>t000</td>\n      <td>1329</td>\n      <td>0.651163</td>\n      <td>0.476072</td>\n      <td>0.0</td>\n      <td>0.0</td>\n      <td>NaN</td>\n      <td>NaN</td>\n      <td>NaN</td>\n      <td>5.0</td>\n      <td>26.315789</td>\n      <td>6.0</td>\n      <td>31.578947</td>\n      <td>NaN</td>\n      <td>NaN</td>\n      <td>179.687500</td>\n      <td>NaN</td>\n      <td>NaN</td>\n      <td>NaN</td>\n      <td>132.987013</td>\n      <td>95.108359</td>\n      <td>NaN</td>\n      <td>NaN</td>\n      <td>NaN</td>\n      <td>NaN</td>\n      <td>NaN</td>\n      <td>NaN</td>\n      <td>NaN</td>\n      <td>NaN</td>\n      <td>NaN</td>\n      <td>NaN</td>\n      <td>NaN</td>\n      <td>NaN</td>\n      <td>0.0</td>\n    </tr>\n    <tr>\n      <th>1</th>\n      <td>train</td>\n      <td>01_tcp_ar</td>\n      <td>86</td>\n      <td>8643</td>\n      <td>s001</td>\n      <td>22/02/2012</td>\n      <td>t000</td>\n      <td>1329</td>\n      <td>0.651163</td>\n      <td>0.476072</td>\n      <td>1.0</td>\n      <td>10000.0</td>\n      <td>537.109375</td>\n      <td>56.359305</td>\n      <td>41.722014</td>\n      <td>4.0</td>\n      <td>21.052632</td>\n      <td>4.0</td>\n      <td>21.052632</td>\n      <td>41.722578</td>\n      <td>546.875000</td>\n      <td>189.453125</td>\n      <td>0.077680</td>\n      <td>0.104931</td>\n      <td>113.041243</td>\n      <td>141.566820</td>\n      <td>97.834395</td>\n      <td>13.134853</td>\n      <td>NaN</td>\n      <td>NaN</td>\n      <td>NaN</td>\n      <td>NaN</td>\n      <td>NaN</td>\n      <td>NaN</td>\n      <td>NaN</td>\n      <td>NaN</td>\n      <td>NaN</td>\n      <td>NaN</td>\n      <td>NaN</td>\n      <td>0.0</td>\n    </tr>\n    <tr>\n      <th>2</th>\n      <td>train</td>\n      <td>01_tcp_ar</td>\n      <td>86</td>\n      <td>8643</td>\n      <td>s001</td>\n      <td>22/02/2012</td>\n      <td>t000</td>\n      <td>1329</td>\n      <td>0.651163</td>\n      <td>0.476072</td>\n      <td>2.0</td>\n      <td>20000.0</td>\n      <td>602.213542</td>\n      <td>51.251884</td>\n      <td>26.831113</td>\n      <td>4.0</td>\n      <td>22.222222</td>\n      <td>4.0</td>\n      <td>22.222222</td>\n      <td>27.702479</td>\n      <td>585.937500</td>\n      <td>125.000000</td>\n      <td>0.046001</td>\n      <td>0.085106</td>\n      <td>100.296032</td>\n      <td>108.936170</td>\n      <td>88.786127</td>\n      <td>8.031925</td>\n      <td>NaN</td>\n      <td>NaN</td>\n      <td>NaN</td>\n      <td>NaN</td>\n      <td>NaN</td>\n      <td>NaN</td>\n      <td>NaN</td>\n      <td>NaN</td>\n      <td>NaN</td>\n      <td>NaN</td>\n      <td>NaN</td>\n      <td>0.0</td>\n    </tr>\n    <tr>\n      <th>3</th>\n      <td>train</td>\n      <td>01_tcp_ar</td>\n      <td>86</td>\n      <td>8643</td>\n      <td>s001</td>\n      <td>22/02/2012</td>\n      <td>t000</td>\n      <td>1329</td>\n      <td>0.651163</td>\n      <td>0.476072</td>\n      <td>3.0</td>\n      <td>30000.0</td>\n      <td>564.453125</td>\n      <td>33.125314</td>\n      <td>21.511084</td>\n      <td>1.0</td>\n      <td>5.555556</td>\n      <td>2.0</td>\n      <td>11.111111</td>\n      <td>21.687087</td>\n      <td>548.828125</td>\n      <td>89.843750</td>\n      <td>0.038421</td>\n      <td>0.058686</td>\n      <td>106.617186</td>\n      <td>110.503597</td>\n      <td>94.814815</td>\n      <td>5.605881</td>\n      <td>NaN</td>\n      <td>NaN</td>\n      <td>NaN</td>\n      <td>NaN</td>\n      <td>NaN</td>\n      <td>NaN</td>\n      <td>NaN</td>\n      <td>NaN</td>\n      <td>NaN</td>\n      <td>NaN</td>\n      <td>NaN</td>\n      <td>0.0</td>\n    </tr>\n    <tr>\n      <th>4</th>\n      <td>train</td>\n      <td>01_tcp_ar</td>\n      <td>86</td>\n      <td>8643</td>\n      <td>s001</td>\n      <td>22/02/2012</td>\n      <td>t000</td>\n      <td>1329</td>\n      <td>0.651163</td>\n      <td>0.476072</td>\n      <td>4.0</td>\n      <td>40000.0</td>\n      <td>NaN</td>\n      <td>NaN</td>\n      <td>NaN</td>\n      <td>2.0</td>\n      <td>11.111111</td>\n      <td>2.0</td>\n      <td>11.111111</td>\n      <td>NaN</td>\n      <td>NaN</td>\n      <td>125.000000</td>\n      <td>NaN</td>\n      <td>NaN</td>\n      <td>NaN</td>\n      <td>139.636364</td>\n      <td>108.169014</td>\n      <td>NaN</td>\n      <td>NaN</td>\n      <td>NaN</td>\n      <td>NaN</td>\n      <td>NaN</td>\n      <td>NaN</td>\n      <td>NaN</td>\n      <td>NaN</td>\n      <td>NaN</td>\n      <td>NaN</td>\n      <td>NaN</td>\n      <td>NaN</td>\n      <td>0.0</td>\n    </tr>\n  </tbody>\n</table>\n</div>"
     },
     "metadata": {},
     "execution_count": 4
    }
   ],
   "source": [
    "xqrs['Date'] = xqrs.Session.str[-10:]\n",
    "xqrs['Date'] = xqrs.Date.str.replace('_', '/')\n",
    "xqrs['Date'] =  pd.to_datetime(xqrs['Date'], format='%Y/%m/%d').dt.strftime('%d/%m/%Y')\n",
    "\n",
    "xqrs.Session = xqrs.Session.str[:4]\n",
    "\n",
    "cols = xqrs.columns.tolist()\n",
    "cols = cols[:5] + ['Date'] + cols[5:-1]\n",
    "\n",
    "xqrs = xqrs[cols]\n",
    "\n",
    "xqrs.head()"
   ]
  },
  {
   "cell_type": "code",
   "execution_count": 5,
   "metadata": {},
   "outputs": [
    {
     "output_type": "execute_result",
     "data": {
      "text/plain": "           Set Categorie Montage  Dossier Patient        Patient Session  \\\ncount   308945            308945    308945.000000  308945.000000  308945   \nunique       2                 3              NaN            NaN      39   \ntop      train         01_tcp_ar              NaN            NaN    s001   \nfreq    251812            232247              NaN            NaN   59243   \nmean       NaN               NaN        80.531823    8104.611789     NaN   \nstd        NaN               NaN        33.403979    3342.460990     NaN   \nmin        NaN               NaN         0.000000       2.000000     NaN   \n25%        NaN               NaN        65.000000    6514.000000     NaN   \n50%        NaN               NaN        87.000000    8738.000000     NaN   \n75%        NaN               NaN       104.000000   10418.000000     NaN   \nmax        NaN               NaN       134.000000   13407.000000     NaN   \n\n              Date File N°  exam_duration    SWT_vs_XQRS    Pan_vs_XQRS  \\\ncount       308945  308945  308945.000000  308945.000000  308945.000000   \nunique         915      33            NaN            NaN            NaN   \ntop     04/05/2014    t000            NaN            NaN            NaN   \nfreq          3516   84859            NaN            NaN            NaN   \nmean           NaN     NaN     943.447342       0.876299       0.637891   \nstd            NaN     NaN     647.782558       0.244073       0.377734   \nmin            NaN     NaN      11.000000       0.000000       0.000000   \n25%            NaN     NaN     601.000000       0.915835       0.322260   \n50%            NaN     NaN     605.000000       0.996379       0.790378   \n75%            NaN     NaN    1245.000000       0.999303       0.995221   \nmax            NaN     NaN    3598.000000       1.000000       1.000000   \n\n        interval_index  interval_start_time       mean_nni           sdnn  \\\ncount    308945.000000         3.089450e+05  271217.000000  268832.000000   \nunique             NaN                  NaN            NaN            NaN   \ntop                NaN                  NaN            NaN            NaN   \nfreq               NaN                  NaN            NaN            NaN   \nmean         46.626600         4.662660e+05     723.363894      19.870039   \nstd          46.158892         4.615889e+05     187.850494      30.802869   \nmin           0.000000         0.000000e+00       0.000000       0.000000   \n25%          15.000000         1.500000e+05     613.740809       3.725903   \n50%          33.000000         3.300000e+05     712.053571       9.451628   \n75%          60.000000         6.000000e+05     828.450521      21.913160   \nmax         359.000000         3.590000e+06    1777.343750     691.422539   \n\n                 sdsd         nni_50        pnni_50         nni_20  \\\ncount   268832.000000  296331.000000  296331.000000  296331.000000   \nunique            NaN            NaN            NaN            NaN   \ntop               NaN            NaN            NaN            NaN   \nfreq              NaN            NaN            NaN            NaN   \nmean        12.385944       0.584117       3.884792       1.364187   \nstd         18.404890       1.337946       8.686962       2.185912   \nmin          0.000000       0.000000       0.000000       0.000000   \n25%          2.432421       0.000000       0.000000       0.000000   \n50%          5.764221       0.000000       0.000000       0.000000   \n75%         13.963150       0.000000       0.000000       2.000000   \nmax        623.046875      13.000000      88.888889      17.000000   \n\n              pnni_20          rmssd     median_nni      range_nni  \\\ncount   296331.000000  268832.000000  271217.000000  294499.000000   \nunique            NaN            NaN            NaN            NaN   \ntop               NaN            NaN            NaN            NaN   \nfreq              NaN            NaN            NaN            NaN   \nmean         9.433415      12.976001     725.209764      71.234716   \nstd         14.107543      19.316882     189.611146     108.557431   \nmin          0.000000       0.000000       0.000000       0.000000   \n25%          0.000000       2.534710     615.234375      11.718750   \n50%          0.000000       6.149649     714.843750      31.250000   \n75%         15.384615      14.673734     832.000000      78.125000   \nmax         90.909091     623.046875    1777.343750    1476.562500   \n\n                 cvsd          cvnni       mean_hr        max_hr  \\\ncount   267555.000000  267555.000000  2.712170e+05  2.944990e+05   \nunique            NaN            NaN           NaN           NaN   \ntop               NaN            NaN           NaN           NaN   \nfreq              NaN            NaN           NaN           NaN   \nmean         0.017804       0.027814           inf           inf   \nstd          0.027168       0.044927           NaN           NaN   \nmin          0.000000       0.000000  3.375824e+01  3.375824e+01   \n25%          0.003947       0.005571  7.257354e+01  7.614213e+01   \n50%          0.008231       0.012934  8.445697e+01  8.928571e+01   \n75%          0.018708       0.028194  9.817092e+01  1.074126e+02   \nmax          0.710306       0.816433           inf           inf   \n\n              min_hr         std_hr             lf             hf  \\\ncount   2.944990e+05  267555.000000  190698.000000  190698.000000   \nunique           NaN            NaN            NaN            NaN   \ntop              NaN            NaN            NaN            NaN   \nfreq             NaN            NaN            NaN            NaN   \nmean             inf       2.557211     543.578071     133.407341   \nstd              NaN       4.975507    1672.736076     788.658214   \nmin     3.333333e+01       0.000000       0.000000       0.000000   \n25%     7.042254e+01       0.474731      20.314675       1.922804   \n50%     8.213904e+01       1.014296     113.232027      13.289671   \n75%     9.540373e+01       2.186647     456.565229      74.057179   \nmax              inf      66.786972  107239.354852   69460.672496   \n\n                  vlf    lf_hf_ratio            csi           cvi  \\\ncount   190698.000000  190075.000000  232138.000000  2.325810e+05   \nunique            NaN            NaN            NaN           NaN   \ntop               NaN            NaN            NaN           NaN   \nfreq              NaN            NaN            NaN           NaN   \nmean       357.658897      10.974066       5.106539          -inf   \nstd        845.394890      14.816918       3.031795           NaN   \nmin          0.000000       0.037210       0.256758          -inf   \n25%         19.189833       3.339780       3.110920  2.592831e+00   \n50%         88.703498       7.206585       4.333752  3.327306e+00   \n75%        338.092763      14.258062       6.191644  3.967830e+00   \nmax      36640.849670    1659.492596      50.675884  6.511706e+00   \n\n         Modified_csi        sampen            sd1            sd2  \\\ncount   232138.000000  2.655440e+05  232581.000000  232581.000000   \nunique            NaN           NaN            NaN            NaN   \ntop               NaN           NaN            NaN            NaN   \nfreq              NaN           NaN            NaN            NaN   \nmean       859.395808           inf       9.259266      39.410133   \nstd       1230.536350           NaN      11.291463      43.771038   \nmin          0.361010 -0.000000e+00       0.000000       0.000000   \n25%        184.109288  3.778332e-01       2.070292      11.176479   \n50%        467.497737  6.154200e-01       5.256634      25.192242   \n75%       1049.816390  9.426080e-01      11.898158      51.315977   \nmax      32040.696882           inf     310.970378     909.133418   \n\n        ratio_sd2_sd1          label  \ncount   232138.000000  304124.000000  \nunique            NaN            NaN  \ntop               NaN            NaN  \nfreq              NaN            NaN  \nmean         5.106539       0.067215  \nstd          3.031795       0.244909  \nmin          0.256758       0.000000  \n25%          3.110920       0.000000  \n50%          4.333752       0.000000  \n75%          6.191644       0.000000  \nmax         50.675884       1.000000  ",
      "text/html": "<div>\n<style scoped>\n    .dataframe tbody tr th:only-of-type {\n        vertical-align: middle;\n    }\n\n    .dataframe tbody tr th {\n        vertical-align: top;\n    }\n\n    .dataframe thead th {\n        text-align: right;\n    }\n</style>\n<table border=\"1\" class=\"dataframe\">\n  <thead>\n    <tr style=\"text-align: right;\">\n      <th></th>\n      <th>Set</th>\n      <th>Categorie Montage</th>\n      <th>Dossier Patient</th>\n      <th>Patient</th>\n      <th>Session</th>\n      <th>Date</th>\n      <th>File N°</th>\n      <th>exam_duration</th>\n      <th>SWT_vs_XQRS</th>\n      <th>Pan_vs_XQRS</th>\n      <th>interval_index</th>\n      <th>interval_start_time</th>\n      <th>mean_nni</th>\n      <th>sdnn</th>\n      <th>sdsd</th>\n      <th>nni_50</th>\n      <th>pnni_50</th>\n      <th>nni_20</th>\n      <th>pnni_20</th>\n      <th>rmssd</th>\n      <th>median_nni</th>\n      <th>range_nni</th>\n      <th>cvsd</th>\n      <th>cvnni</th>\n      <th>mean_hr</th>\n      <th>max_hr</th>\n      <th>min_hr</th>\n      <th>std_hr</th>\n      <th>lf</th>\n      <th>hf</th>\n      <th>vlf</th>\n      <th>lf_hf_ratio</th>\n      <th>csi</th>\n      <th>cvi</th>\n      <th>Modified_csi</th>\n      <th>sampen</th>\n      <th>sd1</th>\n      <th>sd2</th>\n      <th>ratio_sd2_sd1</th>\n      <th>label</th>\n    </tr>\n  </thead>\n  <tbody>\n    <tr>\n      <th>count</th>\n      <td>308945</td>\n      <td>308945</td>\n      <td>308945.000000</td>\n      <td>308945.000000</td>\n      <td>308945</td>\n      <td>308945</td>\n      <td>308945</td>\n      <td>308945.000000</td>\n      <td>308945.000000</td>\n      <td>308945.000000</td>\n      <td>308945.000000</td>\n      <td>3.089450e+05</td>\n      <td>271217.000000</td>\n      <td>268832.000000</td>\n      <td>268832.000000</td>\n      <td>296331.000000</td>\n      <td>296331.000000</td>\n      <td>296331.000000</td>\n      <td>296331.000000</td>\n      <td>268832.000000</td>\n      <td>271217.000000</td>\n      <td>294499.000000</td>\n      <td>267555.000000</td>\n      <td>267555.000000</td>\n      <td>2.712170e+05</td>\n      <td>2.944990e+05</td>\n      <td>2.944990e+05</td>\n      <td>267555.000000</td>\n      <td>190698.000000</td>\n      <td>190698.000000</td>\n      <td>190698.000000</td>\n      <td>190075.000000</td>\n      <td>232138.000000</td>\n      <td>2.325810e+05</td>\n      <td>232138.000000</td>\n      <td>2.655440e+05</td>\n      <td>232581.000000</td>\n      <td>232581.000000</td>\n      <td>232138.000000</td>\n      <td>304124.000000</td>\n    </tr>\n    <tr>\n      <th>unique</th>\n      <td>2</td>\n      <td>3</td>\n      <td>NaN</td>\n      <td>NaN</td>\n      <td>39</td>\n      <td>915</td>\n      <td>33</td>\n      <td>NaN</td>\n      <td>NaN</td>\n      <td>NaN</td>\n      <td>NaN</td>\n      <td>NaN</td>\n      <td>NaN</td>\n      <td>NaN</td>\n      <td>NaN</td>\n      <td>NaN</td>\n      <td>NaN</td>\n      <td>NaN</td>\n      <td>NaN</td>\n      <td>NaN</td>\n      <td>NaN</td>\n      <td>NaN</td>\n      <td>NaN</td>\n      <td>NaN</td>\n      <td>NaN</td>\n      <td>NaN</td>\n      <td>NaN</td>\n      <td>NaN</td>\n      <td>NaN</td>\n      <td>NaN</td>\n      <td>NaN</td>\n      <td>NaN</td>\n      <td>NaN</td>\n      <td>NaN</td>\n      <td>NaN</td>\n      <td>NaN</td>\n      <td>NaN</td>\n      <td>NaN</td>\n      <td>NaN</td>\n      <td>NaN</td>\n    </tr>\n    <tr>\n      <th>top</th>\n      <td>train</td>\n      <td>01_tcp_ar</td>\n      <td>NaN</td>\n      <td>NaN</td>\n      <td>s001</td>\n      <td>04/05/2014</td>\n      <td>t000</td>\n      <td>NaN</td>\n      <td>NaN</td>\n      <td>NaN</td>\n      <td>NaN</td>\n      <td>NaN</td>\n      <td>NaN</td>\n      <td>NaN</td>\n      <td>NaN</td>\n      <td>NaN</td>\n      <td>NaN</td>\n      <td>NaN</td>\n      <td>NaN</td>\n      <td>NaN</td>\n      <td>NaN</td>\n      <td>NaN</td>\n      <td>NaN</td>\n      <td>NaN</td>\n      <td>NaN</td>\n      <td>NaN</td>\n      <td>NaN</td>\n      <td>NaN</td>\n      <td>NaN</td>\n      <td>NaN</td>\n      <td>NaN</td>\n      <td>NaN</td>\n      <td>NaN</td>\n      <td>NaN</td>\n      <td>NaN</td>\n      <td>NaN</td>\n      <td>NaN</td>\n      <td>NaN</td>\n      <td>NaN</td>\n      <td>NaN</td>\n    </tr>\n    <tr>\n      <th>freq</th>\n      <td>251812</td>\n      <td>232247</td>\n      <td>NaN</td>\n      <td>NaN</td>\n      <td>59243</td>\n      <td>3516</td>\n      <td>84859</td>\n      <td>NaN</td>\n      <td>NaN</td>\n      <td>NaN</td>\n      <td>NaN</td>\n      <td>NaN</td>\n      <td>NaN</td>\n      <td>NaN</td>\n      <td>NaN</td>\n      <td>NaN</td>\n      <td>NaN</td>\n      <td>NaN</td>\n      <td>NaN</td>\n      <td>NaN</td>\n      <td>NaN</td>\n      <td>NaN</td>\n      <td>NaN</td>\n      <td>NaN</td>\n      <td>NaN</td>\n      <td>NaN</td>\n      <td>NaN</td>\n      <td>NaN</td>\n      <td>NaN</td>\n      <td>NaN</td>\n      <td>NaN</td>\n      <td>NaN</td>\n      <td>NaN</td>\n      <td>NaN</td>\n      <td>NaN</td>\n      <td>NaN</td>\n      <td>NaN</td>\n      <td>NaN</td>\n      <td>NaN</td>\n      <td>NaN</td>\n    </tr>\n    <tr>\n      <th>mean</th>\n      <td>NaN</td>\n      <td>NaN</td>\n      <td>80.531823</td>\n      <td>8104.611789</td>\n      <td>NaN</td>\n      <td>NaN</td>\n      <td>NaN</td>\n      <td>943.447342</td>\n      <td>0.876299</td>\n      <td>0.637891</td>\n      <td>46.626600</td>\n      <td>4.662660e+05</td>\n      <td>723.363894</td>\n      <td>19.870039</td>\n      <td>12.385944</td>\n      <td>0.584117</td>\n      <td>3.884792</td>\n      <td>1.364187</td>\n      <td>9.433415</td>\n      <td>12.976001</td>\n      <td>725.209764</td>\n      <td>71.234716</td>\n      <td>0.017804</td>\n      <td>0.027814</td>\n      <td>inf</td>\n      <td>inf</td>\n      <td>inf</td>\n      <td>2.557211</td>\n      <td>543.578071</td>\n      <td>133.407341</td>\n      <td>357.658897</td>\n      <td>10.974066</td>\n      <td>5.106539</td>\n      <td>-inf</td>\n      <td>859.395808</td>\n      <td>inf</td>\n      <td>9.259266</td>\n      <td>39.410133</td>\n      <td>5.106539</td>\n      <td>0.067215</td>\n    </tr>\n    <tr>\n      <th>std</th>\n      <td>NaN</td>\n      <td>NaN</td>\n      <td>33.403979</td>\n      <td>3342.460990</td>\n      <td>NaN</td>\n      <td>NaN</td>\n      <td>NaN</td>\n      <td>647.782558</td>\n      <td>0.244073</td>\n      <td>0.377734</td>\n      <td>46.158892</td>\n      <td>4.615889e+05</td>\n      <td>187.850494</td>\n      <td>30.802869</td>\n      <td>18.404890</td>\n      <td>1.337946</td>\n      <td>8.686962</td>\n      <td>2.185912</td>\n      <td>14.107543</td>\n      <td>19.316882</td>\n      <td>189.611146</td>\n      <td>108.557431</td>\n      <td>0.027168</td>\n      <td>0.044927</td>\n      <td>NaN</td>\n      <td>NaN</td>\n      <td>NaN</td>\n      <td>4.975507</td>\n      <td>1672.736076</td>\n      <td>788.658214</td>\n      <td>845.394890</td>\n      <td>14.816918</td>\n      <td>3.031795</td>\n      <td>NaN</td>\n      <td>1230.536350</td>\n      <td>NaN</td>\n      <td>11.291463</td>\n      <td>43.771038</td>\n      <td>3.031795</td>\n      <td>0.244909</td>\n    </tr>\n    <tr>\n      <th>min</th>\n      <td>NaN</td>\n      <td>NaN</td>\n      <td>0.000000</td>\n      <td>2.000000</td>\n      <td>NaN</td>\n      <td>NaN</td>\n      <td>NaN</td>\n      <td>11.000000</td>\n      <td>0.000000</td>\n      <td>0.000000</td>\n      <td>0.000000</td>\n      <td>0.000000e+00</td>\n      <td>0.000000</td>\n      <td>0.000000</td>\n      <td>0.000000</td>\n      <td>0.000000</td>\n      <td>0.000000</td>\n      <td>0.000000</td>\n      <td>0.000000</td>\n      <td>0.000000</td>\n      <td>0.000000</td>\n      <td>0.000000</td>\n      <td>0.000000</td>\n      <td>0.000000</td>\n      <td>3.375824e+01</td>\n      <td>3.375824e+01</td>\n      <td>3.333333e+01</td>\n      <td>0.000000</td>\n      <td>0.000000</td>\n      <td>0.000000</td>\n      <td>0.000000</td>\n      <td>0.037210</td>\n      <td>0.256758</td>\n      <td>-inf</td>\n      <td>0.361010</td>\n      <td>-0.000000e+00</td>\n      <td>0.000000</td>\n      <td>0.000000</td>\n      <td>0.256758</td>\n      <td>0.000000</td>\n    </tr>\n    <tr>\n      <th>25%</th>\n      <td>NaN</td>\n      <td>NaN</td>\n      <td>65.000000</td>\n      <td>6514.000000</td>\n      <td>NaN</td>\n      <td>NaN</td>\n      <td>NaN</td>\n      <td>601.000000</td>\n      <td>0.915835</td>\n      <td>0.322260</td>\n      <td>15.000000</td>\n      <td>1.500000e+05</td>\n      <td>613.740809</td>\n      <td>3.725903</td>\n      <td>2.432421</td>\n      <td>0.000000</td>\n      <td>0.000000</td>\n      <td>0.000000</td>\n      <td>0.000000</td>\n      <td>2.534710</td>\n      <td>615.234375</td>\n      <td>11.718750</td>\n      <td>0.003947</td>\n      <td>0.005571</td>\n      <td>7.257354e+01</td>\n      <td>7.614213e+01</td>\n      <td>7.042254e+01</td>\n      <td>0.474731</td>\n      <td>20.314675</td>\n      <td>1.922804</td>\n      <td>19.189833</td>\n      <td>3.339780</td>\n      <td>3.110920</td>\n      <td>2.592831e+00</td>\n      <td>184.109288</td>\n      <td>3.778332e-01</td>\n      <td>2.070292</td>\n      <td>11.176479</td>\n      <td>3.110920</td>\n      <td>0.000000</td>\n    </tr>\n    <tr>\n      <th>50%</th>\n      <td>NaN</td>\n      <td>NaN</td>\n      <td>87.000000</td>\n      <td>8738.000000</td>\n      <td>NaN</td>\n      <td>NaN</td>\n      <td>NaN</td>\n      <td>605.000000</td>\n      <td>0.996379</td>\n      <td>0.790378</td>\n      <td>33.000000</td>\n      <td>3.300000e+05</td>\n      <td>712.053571</td>\n      <td>9.451628</td>\n      <td>5.764221</td>\n      <td>0.000000</td>\n      <td>0.000000</td>\n      <td>0.000000</td>\n      <td>0.000000</td>\n      <td>6.149649</td>\n      <td>714.843750</td>\n      <td>31.250000</td>\n      <td>0.008231</td>\n      <td>0.012934</td>\n      <td>8.445697e+01</td>\n      <td>8.928571e+01</td>\n      <td>8.213904e+01</td>\n      <td>1.014296</td>\n      <td>113.232027</td>\n      <td>13.289671</td>\n      <td>88.703498</td>\n      <td>7.206585</td>\n      <td>4.333752</td>\n      <td>3.327306e+00</td>\n      <td>467.497737</td>\n      <td>6.154200e-01</td>\n      <td>5.256634</td>\n      <td>25.192242</td>\n      <td>4.333752</td>\n      <td>0.000000</td>\n    </tr>\n    <tr>\n      <th>75%</th>\n      <td>NaN</td>\n      <td>NaN</td>\n      <td>104.000000</td>\n      <td>10418.000000</td>\n      <td>NaN</td>\n      <td>NaN</td>\n      <td>NaN</td>\n      <td>1245.000000</td>\n      <td>0.999303</td>\n      <td>0.995221</td>\n      <td>60.000000</td>\n      <td>6.000000e+05</td>\n      <td>828.450521</td>\n      <td>21.913160</td>\n      <td>13.963150</td>\n      <td>0.000000</td>\n      <td>0.000000</td>\n      <td>2.000000</td>\n      <td>15.384615</td>\n      <td>14.673734</td>\n      <td>832.000000</td>\n      <td>78.125000</td>\n      <td>0.018708</td>\n      <td>0.028194</td>\n      <td>9.817092e+01</td>\n      <td>1.074126e+02</td>\n      <td>9.540373e+01</td>\n      <td>2.186647</td>\n      <td>456.565229</td>\n      <td>74.057179</td>\n      <td>338.092763</td>\n      <td>14.258062</td>\n      <td>6.191644</td>\n      <td>3.967830e+00</td>\n      <td>1049.816390</td>\n      <td>9.426080e-01</td>\n      <td>11.898158</td>\n      <td>51.315977</td>\n      <td>6.191644</td>\n      <td>0.000000</td>\n    </tr>\n    <tr>\n      <th>max</th>\n      <td>NaN</td>\n      <td>NaN</td>\n      <td>134.000000</td>\n      <td>13407.000000</td>\n      <td>NaN</td>\n      <td>NaN</td>\n      <td>NaN</td>\n      <td>3598.000000</td>\n      <td>1.000000</td>\n      <td>1.000000</td>\n      <td>359.000000</td>\n      <td>3.590000e+06</td>\n      <td>1777.343750</td>\n      <td>691.422539</td>\n      <td>623.046875</td>\n      <td>13.000000</td>\n      <td>88.888889</td>\n      <td>17.000000</td>\n      <td>90.909091</td>\n      <td>623.046875</td>\n      <td>1777.343750</td>\n      <td>1476.562500</td>\n      <td>0.710306</td>\n      <td>0.816433</td>\n      <td>inf</td>\n      <td>inf</td>\n      <td>inf</td>\n      <td>66.786972</td>\n      <td>107239.354852</td>\n      <td>69460.672496</td>\n      <td>36640.849670</td>\n      <td>1659.492596</td>\n      <td>50.675884</td>\n      <td>6.511706e+00</td>\n      <td>32040.696882</td>\n      <td>inf</td>\n      <td>310.970378</td>\n      <td>909.133418</td>\n      <td>50.675884</td>\n      <td>1.000000</td>\n    </tr>\n  </tbody>\n</table>\n</div>"
     },
     "metadata": {},
     "execution_count": 5
    }
   ],
   "source": [
    "xqrs.describe(include='all')"
   ]
  },
  {
   "cell_type": "code",
   "execution_count": 6,
   "metadata": {},
   "outputs": [],
   "source": [
    "xqrs['Dossier Patient'] = xqrs['Dossier Patient'].astype(str)\n",
    "xqrs['Patient'] = xqrs['Patient'].astype(str)"
   ]
  },
  {
   "cell_type": "code",
   "execution_count": 7,
   "metadata": {},
   "outputs": [],
   "source": [
    "xqrs['Key'] = xqrs.Set + '_' + xqrs['Categorie Montage'] + '_' + xqrs['Patient'] + '_' + xqrs.Session + '_' + xqrs['File N°']\n",
    "xqrs.drop(['Set', 'Categorie Montage', 'Patient', 'Session', 'File N°', 'Dossier Patient'], axis=1, inplace=True)"
   ]
  },
  {
   "cell_type": "code",
   "execution_count": 8,
   "metadata": {},
   "outputs": [
    {
     "output_type": "execute_result",
     "data": {
      "text/plain": "                              Key        Date  exam_duration  SWT_vs_XQRS  \\\n0  train_01_tcp_ar_8643_s001_t000  22/02/2012           1329     0.651163   \n1  train_01_tcp_ar_8643_s001_t000  22/02/2012           1329     0.651163   \n2  train_01_tcp_ar_8643_s001_t000  22/02/2012           1329     0.651163   \n3  train_01_tcp_ar_8643_s001_t000  22/02/2012           1329     0.651163   \n4  train_01_tcp_ar_8643_s001_t000  22/02/2012           1329     0.651163   \n\n   Pan_vs_XQRS  interval_index  interval_start_time    mean_nni       sdnn  \\\n0     0.476072             0.0                  0.0         NaN        NaN   \n1     0.476072             1.0              10000.0  537.109375  56.359305   \n2     0.476072             2.0              20000.0  602.213542  51.251884   \n3     0.476072             3.0              30000.0  564.453125  33.125314   \n4     0.476072             4.0              40000.0         NaN        NaN   \n\n        sdsd  nni_50    pnni_50  nni_20    pnni_20      rmssd  median_nni  \\\n0        NaN     5.0  26.315789     6.0  31.578947        NaN         NaN   \n1  41.722014     4.0  21.052632     4.0  21.052632  41.722578  546.875000   \n2  26.831113     4.0  22.222222     4.0  22.222222  27.702479  585.937500   \n3  21.511084     1.0   5.555556     2.0  11.111111  21.687087  548.828125   \n4        NaN     2.0  11.111111     2.0  11.111111        NaN         NaN   \n\n    range_nni      cvsd     cvnni     mean_hr      max_hr      min_hr  \\\n0  179.687500       NaN       NaN         NaN  132.987013   95.108359   \n1  189.453125  0.077680  0.104931  113.041243  141.566820   97.834395   \n2  125.000000  0.046001  0.085106  100.296032  108.936170   88.786127   \n3   89.843750  0.038421  0.058686  106.617186  110.503597   94.814815   \n4  125.000000       NaN       NaN         NaN  139.636364  108.169014   \n\n      std_hr  lf  hf  vlf  lf_hf_ratio  csi  cvi  Modified_csi  sampen  sd1  \\\n0        NaN NaN NaN  NaN          NaN  NaN  NaN           NaN     NaN  NaN   \n1  13.134853 NaN NaN  NaN          NaN  NaN  NaN           NaN     NaN  NaN   \n2   8.031925 NaN NaN  NaN          NaN  NaN  NaN           NaN     NaN  NaN   \n3   5.605881 NaN NaN  NaN          NaN  NaN  NaN           NaN     NaN  NaN   \n4        NaN NaN NaN  NaN          NaN  NaN  NaN           NaN     NaN  NaN   \n\n   sd2  ratio_sd2_sd1  label  \n0  NaN            NaN    0.0  \n1  NaN            NaN    0.0  \n2  NaN            NaN    0.0  \n3  NaN            NaN    0.0  \n4  NaN            NaN    0.0  ",
      "text/html": "<div>\n<style scoped>\n    .dataframe tbody tr th:only-of-type {\n        vertical-align: middle;\n    }\n\n    .dataframe tbody tr th {\n        vertical-align: top;\n    }\n\n    .dataframe thead th {\n        text-align: right;\n    }\n</style>\n<table border=\"1\" class=\"dataframe\">\n  <thead>\n    <tr style=\"text-align: right;\">\n      <th></th>\n      <th>Key</th>\n      <th>Date</th>\n      <th>exam_duration</th>\n      <th>SWT_vs_XQRS</th>\n      <th>Pan_vs_XQRS</th>\n      <th>interval_index</th>\n      <th>interval_start_time</th>\n      <th>mean_nni</th>\n      <th>sdnn</th>\n      <th>sdsd</th>\n      <th>nni_50</th>\n      <th>pnni_50</th>\n      <th>nni_20</th>\n      <th>pnni_20</th>\n      <th>rmssd</th>\n      <th>median_nni</th>\n      <th>range_nni</th>\n      <th>cvsd</th>\n      <th>cvnni</th>\n      <th>mean_hr</th>\n      <th>max_hr</th>\n      <th>min_hr</th>\n      <th>std_hr</th>\n      <th>lf</th>\n      <th>hf</th>\n      <th>vlf</th>\n      <th>lf_hf_ratio</th>\n      <th>csi</th>\n      <th>cvi</th>\n      <th>Modified_csi</th>\n      <th>sampen</th>\n      <th>sd1</th>\n      <th>sd2</th>\n      <th>ratio_sd2_sd1</th>\n      <th>label</th>\n    </tr>\n  </thead>\n  <tbody>\n    <tr>\n      <th>0</th>\n      <td>train_01_tcp_ar_8643_s001_t000</td>\n      <td>22/02/2012</td>\n      <td>1329</td>\n      <td>0.651163</td>\n      <td>0.476072</td>\n      <td>0.0</td>\n      <td>0.0</td>\n      <td>NaN</td>\n      <td>NaN</td>\n      <td>NaN</td>\n      <td>5.0</td>\n      <td>26.315789</td>\n      <td>6.0</td>\n      <td>31.578947</td>\n      <td>NaN</td>\n      <td>NaN</td>\n      <td>179.687500</td>\n      <td>NaN</td>\n      <td>NaN</td>\n      <td>NaN</td>\n      <td>132.987013</td>\n      <td>95.108359</td>\n      <td>NaN</td>\n      <td>NaN</td>\n      <td>NaN</td>\n      <td>NaN</td>\n      <td>NaN</td>\n      <td>NaN</td>\n      <td>NaN</td>\n      <td>NaN</td>\n      <td>NaN</td>\n      <td>NaN</td>\n      <td>NaN</td>\n      <td>NaN</td>\n      <td>0.0</td>\n    </tr>\n    <tr>\n      <th>1</th>\n      <td>train_01_tcp_ar_8643_s001_t000</td>\n      <td>22/02/2012</td>\n      <td>1329</td>\n      <td>0.651163</td>\n      <td>0.476072</td>\n      <td>1.0</td>\n      <td>10000.0</td>\n      <td>537.109375</td>\n      <td>56.359305</td>\n      <td>41.722014</td>\n      <td>4.0</td>\n      <td>21.052632</td>\n      <td>4.0</td>\n      <td>21.052632</td>\n      <td>41.722578</td>\n      <td>546.875000</td>\n      <td>189.453125</td>\n      <td>0.077680</td>\n      <td>0.104931</td>\n      <td>113.041243</td>\n      <td>141.566820</td>\n      <td>97.834395</td>\n      <td>13.134853</td>\n      <td>NaN</td>\n      <td>NaN</td>\n      <td>NaN</td>\n      <td>NaN</td>\n      <td>NaN</td>\n      <td>NaN</td>\n      <td>NaN</td>\n      <td>NaN</td>\n      <td>NaN</td>\n      <td>NaN</td>\n      <td>NaN</td>\n      <td>0.0</td>\n    </tr>\n    <tr>\n      <th>2</th>\n      <td>train_01_tcp_ar_8643_s001_t000</td>\n      <td>22/02/2012</td>\n      <td>1329</td>\n      <td>0.651163</td>\n      <td>0.476072</td>\n      <td>2.0</td>\n      <td>20000.0</td>\n      <td>602.213542</td>\n      <td>51.251884</td>\n      <td>26.831113</td>\n      <td>4.0</td>\n      <td>22.222222</td>\n      <td>4.0</td>\n      <td>22.222222</td>\n      <td>27.702479</td>\n      <td>585.937500</td>\n      <td>125.000000</td>\n      <td>0.046001</td>\n      <td>0.085106</td>\n      <td>100.296032</td>\n      <td>108.936170</td>\n      <td>88.786127</td>\n      <td>8.031925</td>\n      <td>NaN</td>\n      <td>NaN</td>\n      <td>NaN</td>\n      <td>NaN</td>\n      <td>NaN</td>\n      <td>NaN</td>\n      <td>NaN</td>\n      <td>NaN</td>\n      <td>NaN</td>\n      <td>NaN</td>\n      <td>NaN</td>\n      <td>0.0</td>\n    </tr>\n    <tr>\n      <th>3</th>\n      <td>train_01_tcp_ar_8643_s001_t000</td>\n      <td>22/02/2012</td>\n      <td>1329</td>\n      <td>0.651163</td>\n      <td>0.476072</td>\n      <td>3.0</td>\n      <td>30000.0</td>\n      <td>564.453125</td>\n      <td>33.125314</td>\n      <td>21.511084</td>\n      <td>1.0</td>\n      <td>5.555556</td>\n      <td>2.0</td>\n      <td>11.111111</td>\n      <td>21.687087</td>\n      <td>548.828125</td>\n      <td>89.843750</td>\n      <td>0.038421</td>\n      <td>0.058686</td>\n      <td>106.617186</td>\n      <td>110.503597</td>\n      <td>94.814815</td>\n      <td>5.605881</td>\n      <td>NaN</td>\n      <td>NaN</td>\n      <td>NaN</td>\n      <td>NaN</td>\n      <td>NaN</td>\n      <td>NaN</td>\n      <td>NaN</td>\n      <td>NaN</td>\n      <td>NaN</td>\n      <td>NaN</td>\n      <td>NaN</td>\n      <td>0.0</td>\n    </tr>\n    <tr>\n      <th>4</th>\n      <td>train_01_tcp_ar_8643_s001_t000</td>\n      <td>22/02/2012</td>\n      <td>1329</td>\n      <td>0.651163</td>\n      <td>0.476072</td>\n      <td>4.0</td>\n      <td>40000.0</td>\n      <td>NaN</td>\n      <td>NaN</td>\n      <td>NaN</td>\n      <td>2.0</td>\n      <td>11.111111</td>\n      <td>2.0</td>\n      <td>11.111111</td>\n      <td>NaN</td>\n      <td>NaN</td>\n      <td>125.000000</td>\n      <td>NaN</td>\n      <td>NaN</td>\n      <td>NaN</td>\n      <td>139.636364</td>\n      <td>108.169014</td>\n      <td>NaN</td>\n      <td>NaN</td>\n      <td>NaN</td>\n      <td>NaN</td>\n      <td>NaN</td>\n      <td>NaN</td>\n      <td>NaN</td>\n      <td>NaN</td>\n      <td>NaN</td>\n      <td>NaN</td>\n      <td>NaN</td>\n      <td>NaN</td>\n      <td>0.0</td>\n    </tr>\n  </tbody>\n</table>\n</div>"
     },
     "metadata": {},
     "execution_count": 8
    }
   ],
   "source": [
    "cols = xqrs.columns.tolist()\n",
    "cols = cols[-1:] + cols[:-1]\n",
    "xqrs = xqrs[cols]\n",
    "xqrs.head()"
   ]
  },
  {
   "cell_type": "code",
   "execution_count": 9,
   "metadata": {},
   "outputs": [],
   "source": [
    "xqrs.drop(['Date', 'exam_duration', 'interval_index'], axis=1, inplace=True)"
   ]
  },
  {
   "cell_type": "code",
   "execution_count": 10,
   "metadata": {},
   "outputs": [
    {
     "output_type": "execute_result",
     "data": {
      "text/plain": "5080"
     },
     "metadata": {},
     "execution_count": 10
    }
   ],
   "source": [
    "len(xqrs.Key.unique())"
   ]
  },
  {
   "cell_type": "code",
   "execution_count": 11,
   "metadata": {},
   "outputs": [
    {
     "output_type": "execute_result",
     "data": {
      "text/plain": "array(['train_01_tcp_ar_8643_s001_t000', 'train_01_tcp_ar_8643_s002_t010',\n       'train_01_tcp_ar_8643_s002_t002', ...,\n       'dev_02_tcp_le_4087_s002_t000', 'dev_02_tcp_le_4087_s001_t000',\n       'dev_02_tcp_le_1984_s001_t001'], dtype=object)"
     },
     "metadata": {},
     "execution_count": 11
    }
   ],
   "source": [
    "exam_to_delete = xqrs[(xqrs['Pan_vs_XQRS'] < 0.9) & (xqrs['SWT_vs_XQRS'] < 0.9)]['Key'].unique()\n",
    "exam_to_delete"
   ]
  },
  {
   "cell_type": "code",
   "execution_count": 12,
   "metadata": {},
   "outputs": [],
   "source": [
    "xqrs = xqrs[~xqrs.Key.isin(exam_to_delete)]"
   ]
  },
  {
   "cell_type": "code",
   "execution_count": 13,
   "metadata": {},
   "outputs": [
    {
     "output_type": "execute_result",
     "data": {
      "text/plain": "(238144, 32)"
     },
     "metadata": {},
     "execution_count": 13
    }
   ],
   "source": [
    "xqrs.shape"
   ]
  },
  {
   "cell_type": "code",
   "execution_count": 14,
   "metadata": {},
   "outputs": [
    {
     "output_type": "execute_result",
     "data": {
      "text/plain": "3870"
     },
     "metadata": {},
     "execution_count": 14
    }
   ],
   "source": [
    "len(xqrs.Key.unique())"
   ]
  },
  {
   "cell_type": "code",
   "execution_count": 15,
   "metadata": {},
   "outputs": [
    {
     "output_type": "execute_result",
     "data": {
      "text/plain": "                                Key    mean_nni       sdnn       sdsd  nni_50  \\\n193  train_01_tcp_ar_8643_s002_t005  665.457589   1.942364   1.532157     0.0   \n194  train_01_tcp_ar_8643_s002_t005  672.135417  11.762073  11.504201     0.0   \n195  train_01_tcp_ar_8643_s002_t005  657.031250  10.460751   9.002380     0.0   \n196  train_01_tcp_ar_8643_s002_t005  660.677083   2.499767   1.786586     0.0   \n197  train_01_tcp_ar_8643_s002_t005  663.330078   6.723404   2.240189     0.0   \n\n     pnni_50  nni_20   pnni_20      rmssd  median_nni  range_nni      cvsd  \\\n193      0.0     0.0  0.000000   1.532157   664.06250    3.90625  0.002302   \n194      0.0     1.0  6.666667  11.718750   675.78125   46.87500  0.017435   \n195      0.0     1.0  6.666667   9.511195   660.15625   42.96875  0.014476   \n196      0.0     0.0  0.000000   1.808242   660.15625    7.81250  0.002737   \n197      0.0     0.0  0.000000   2.470529   664.06250   15.62500  0.003724   \n\n        cvnni    mean_hr     max_hr     min_hr    std_hr  lf  hf  vlf  \\\n193  0.002919  90.164234  90.352941  89.824561  0.253177 NaN NaN  NaN   \n194  0.017500  89.294479  94.814815  88.275862  1.582749 NaN NaN  NaN   \n195  0.015921  91.342484  96.603774  90.352941  1.471285 NaN NaN  NaN   \n196  0.003784  90.817138  91.428571  90.352941  0.332091 NaN NaN  NaN   \n197  0.010136  90.461400  91.428571  89.302326  0.885948 NaN NaN  NaN   \n\n     lf_hf_ratio  csi  cvi  Modified_csi  sampen  sd1  sd2  ratio_sd2_sd1  \\\n193          NaN  NaN  NaN           NaN     NaN  NaN  NaN            NaN   \n194          NaN  NaN  NaN           NaN     NaN  NaN  NaN            NaN   \n195          NaN  NaN  NaN           NaN     NaN  NaN  NaN            NaN   \n196          NaN  NaN  NaN           NaN     NaN  NaN  NaN            NaN   \n197          NaN  NaN  NaN           NaN     NaN  NaN  NaN            NaN   \n\n     label  \n193    0.0  \n194    0.0  \n195    0.0  \n196    0.0  \n197    0.0  ",
      "text/html": "<div>\n<style scoped>\n    .dataframe tbody tr th:only-of-type {\n        vertical-align: middle;\n    }\n\n    .dataframe tbody tr th {\n        vertical-align: top;\n    }\n\n    .dataframe thead th {\n        text-align: right;\n    }\n</style>\n<table border=\"1\" class=\"dataframe\">\n  <thead>\n    <tr style=\"text-align: right;\">\n      <th></th>\n      <th>Key</th>\n      <th>mean_nni</th>\n      <th>sdnn</th>\n      <th>sdsd</th>\n      <th>nni_50</th>\n      <th>pnni_50</th>\n      <th>nni_20</th>\n      <th>pnni_20</th>\n      <th>rmssd</th>\n      <th>median_nni</th>\n      <th>range_nni</th>\n      <th>cvsd</th>\n      <th>cvnni</th>\n      <th>mean_hr</th>\n      <th>max_hr</th>\n      <th>min_hr</th>\n      <th>std_hr</th>\n      <th>lf</th>\n      <th>hf</th>\n      <th>vlf</th>\n      <th>lf_hf_ratio</th>\n      <th>csi</th>\n      <th>cvi</th>\n      <th>Modified_csi</th>\n      <th>sampen</th>\n      <th>sd1</th>\n      <th>sd2</th>\n      <th>ratio_sd2_sd1</th>\n      <th>label</th>\n    </tr>\n  </thead>\n  <tbody>\n    <tr>\n      <th>193</th>\n      <td>train_01_tcp_ar_8643_s002_t005</td>\n      <td>665.457589</td>\n      <td>1.942364</td>\n      <td>1.532157</td>\n      <td>0.0</td>\n      <td>0.0</td>\n      <td>0.0</td>\n      <td>0.000000</td>\n      <td>1.532157</td>\n      <td>664.06250</td>\n      <td>3.90625</td>\n      <td>0.002302</td>\n      <td>0.002919</td>\n      <td>90.164234</td>\n      <td>90.352941</td>\n      <td>89.824561</td>\n      <td>0.253177</td>\n      <td>NaN</td>\n      <td>NaN</td>\n      <td>NaN</td>\n      <td>NaN</td>\n      <td>NaN</td>\n      <td>NaN</td>\n      <td>NaN</td>\n      <td>NaN</td>\n      <td>NaN</td>\n      <td>NaN</td>\n      <td>NaN</td>\n      <td>0.0</td>\n    </tr>\n    <tr>\n      <th>194</th>\n      <td>train_01_tcp_ar_8643_s002_t005</td>\n      <td>672.135417</td>\n      <td>11.762073</td>\n      <td>11.504201</td>\n      <td>0.0</td>\n      <td>0.0</td>\n      <td>1.0</td>\n      <td>6.666667</td>\n      <td>11.718750</td>\n      <td>675.78125</td>\n      <td>46.87500</td>\n      <td>0.017435</td>\n      <td>0.017500</td>\n      <td>89.294479</td>\n      <td>94.814815</td>\n      <td>88.275862</td>\n      <td>1.582749</td>\n      <td>NaN</td>\n      <td>NaN</td>\n      <td>NaN</td>\n      <td>NaN</td>\n      <td>NaN</td>\n      <td>NaN</td>\n      <td>NaN</td>\n      <td>NaN</td>\n      <td>NaN</td>\n      <td>NaN</td>\n      <td>NaN</td>\n      <td>0.0</td>\n    </tr>\n    <tr>\n      <th>195</th>\n      <td>train_01_tcp_ar_8643_s002_t005</td>\n      <td>657.031250</td>\n      <td>10.460751</td>\n      <td>9.002380</td>\n      <td>0.0</td>\n      <td>0.0</td>\n      <td>1.0</td>\n      <td>6.666667</td>\n      <td>9.511195</td>\n      <td>660.15625</td>\n      <td>42.96875</td>\n      <td>0.014476</td>\n      <td>0.015921</td>\n      <td>91.342484</td>\n      <td>96.603774</td>\n      <td>90.352941</td>\n      <td>1.471285</td>\n      <td>NaN</td>\n      <td>NaN</td>\n      <td>NaN</td>\n      <td>NaN</td>\n      <td>NaN</td>\n      <td>NaN</td>\n      <td>NaN</td>\n      <td>NaN</td>\n      <td>NaN</td>\n      <td>NaN</td>\n      <td>NaN</td>\n      <td>0.0</td>\n    </tr>\n    <tr>\n      <th>196</th>\n      <td>train_01_tcp_ar_8643_s002_t005</td>\n      <td>660.677083</td>\n      <td>2.499767</td>\n      <td>1.786586</td>\n      <td>0.0</td>\n      <td>0.0</td>\n      <td>0.0</td>\n      <td>0.000000</td>\n      <td>1.808242</td>\n      <td>660.15625</td>\n      <td>7.81250</td>\n      <td>0.002737</td>\n      <td>0.003784</td>\n      <td>90.817138</td>\n      <td>91.428571</td>\n      <td>90.352941</td>\n      <td>0.332091</td>\n      <td>NaN</td>\n      <td>NaN</td>\n      <td>NaN</td>\n      <td>NaN</td>\n      <td>NaN</td>\n      <td>NaN</td>\n      <td>NaN</td>\n      <td>NaN</td>\n      <td>NaN</td>\n      <td>NaN</td>\n      <td>NaN</td>\n      <td>0.0</td>\n    </tr>\n    <tr>\n      <th>197</th>\n      <td>train_01_tcp_ar_8643_s002_t005</td>\n      <td>663.330078</td>\n      <td>6.723404</td>\n      <td>2.240189</td>\n      <td>0.0</td>\n      <td>0.0</td>\n      <td>0.0</td>\n      <td>0.000000</td>\n      <td>2.470529</td>\n      <td>664.06250</td>\n      <td>15.62500</td>\n      <td>0.003724</td>\n      <td>0.010136</td>\n      <td>90.461400</td>\n      <td>91.428571</td>\n      <td>89.302326</td>\n      <td>0.885948</td>\n      <td>NaN</td>\n      <td>NaN</td>\n      <td>NaN</td>\n      <td>NaN</td>\n      <td>NaN</td>\n      <td>NaN</td>\n      <td>NaN</td>\n      <td>NaN</td>\n      <td>NaN</td>\n      <td>NaN</td>\n      <td>NaN</td>\n      <td>0.0</td>\n    </tr>\n  </tbody>\n</table>\n</div>"
     },
     "metadata": {},
     "execution_count": 15
    }
   ],
   "source": [
    "xqrs.drop(['SWT_vs_XQRS', 'Pan_vs_XQRS', 'interval_start_time'], axis=1, inplace=True)\n",
    "xqrs.head()"
   ]
  },
  {
   "cell_type": "code",
   "execution_count": 16,
   "metadata": {},
   "outputs": [],
   "source": [
    "params = {}\n",
    "for cols in xqrs.columns.tolist()[1:]:\n",
    "    params[cols] = [lambda x: x.isnull().sum(), \n",
    "                    lambda x: x.count() + x.isnull().sum(), \n",
    "                    lambda x: (x.isnull().sum() / (x.count() + x.isnull().sum())) * 100]"
   ]
  },
  {
   "cell_type": "code",
   "execution_count": 17,
   "metadata": {},
   "outputs": [],
   "source": [
    "count_nan_by_key = xqrs[['Key'] + xqrs.columns.tolist()[1:]]\\\n",
    "                                              .groupby('Key')\\\n",
    "                                              .agg(params)\\\n",
    "                                              .rename(columns={'<lambda_0>': 'NaN',\n",
    "                                                               '<lambda_1>': 'total',\n",
    "                                                               '<lambda_2>': '%'})"
   ]
  },
  {
   "cell_type": "code",
   "execution_count": 18,
   "metadata": {},
   "outputs": [],
   "source": [
    "total = np.zeros(count_nan_by_key.shape[0],)\n",
    "i = 0\n",
    "for cols in xqrs.columns.tolist()[1:]:\n",
    "    sub_total = []\n",
    "    for index, row in count_nan_by_key[(cols, '%')].iteritems():\n",
    "        sub_total.append(row)\n",
    "    i += 1\n",
    "    total = np.add(total, sub_total)\n",
    "\n",
    "\n",
    "total = total / 28"
   ]
  },
  {
   "cell_type": "code",
   "execution_count": 19,
   "metadata": {},
   "outputs": [],
   "source": [
    "count_nan_by_key[('Total', 'Percent')] = total"
   ]
  },
  {
   "cell_type": "code",
   "execution_count": 20,
   "metadata": {},
   "outputs": [],
   "source": [
    "crisis = xqrs[['Key', 'label']].groupby('Key').agg(lambda x: (x != 0).sum())"
   ]
  },
  {
   "cell_type": "code",
   "execution_count": 21,
   "metadata": {},
   "outputs": [],
   "source": [
    "count_nan_by_key[('Total', 'Crisis')] = crisis.label.values"
   ]
  },
  {
   "cell_type": "code",
   "execution_count": 44,
   "metadata": {},
   "outputs": [
    {
     "output_type": "execute_result",
     "data": {
      "text/plain": "                                mean_nni                  sdnn         \\\n                                     NaN  total         %  NaN  total   \nKey                                                                     \ntrain_01_tcp_ar_9104_s002_t009       0.0   61.0  0.000000  1.0   61.0   \ntrain_01_tcp_ar_11870_s004_t001      1.0  227.0  0.440529  1.0  227.0   \ntrain_01_tcp_ar_11873_s003_t001      1.0  131.0  0.763359  1.0  131.0   \ntrain_02_tcp_le_1113_s001_t000       0.0  144.0  0.000000  0.0  144.0   \ntrain_01_tcp_ar_13145_s004_t006      0.0   61.0  0.000000  1.0   61.0   \n...                                  ...    ...       ...  ...    ...   \ntrain_01_tcp_ar_10489_s002_t001      0.0  232.0  0.000000  0.0  232.0   \ndev_01_tcp_ar_9578_s011_t008         0.0  252.0  0.000000  0.0  252.0   \ndev_02_tcp_le_1770_s003_t000         0.0  237.0  0.000000  0.0  237.0   \ndev_01_tcp_ar_9578_s021_t001         0.0  341.0  0.000000  0.0  341.0   \ntrain_01_tcp_ar_7032_s008_t000       0.0  245.0  0.000000  0.0  245.0   \n\n                                          sdsd                  nni_50         \\\n                                        %  NaN  total         %    NaN  total   \nKey                                                                             \ntrain_01_tcp_ar_9104_s002_t009   1.639344  1.0   61.0  1.639344    0.0   61.0   \ntrain_01_tcp_ar_11870_s004_t001  0.440529  1.0  227.0  0.440529    0.0  227.0   \ntrain_01_tcp_ar_11873_s003_t001  0.763359  1.0  131.0  0.763359    0.0  131.0   \ntrain_02_tcp_le_1113_s001_t000   0.000000  0.0  144.0  0.000000    0.0  144.0   \ntrain_01_tcp_ar_13145_s004_t006  1.639344  1.0   61.0  1.639344    0.0   61.0   \n...                                   ...  ...    ...       ...    ...    ...   \ntrain_01_tcp_ar_10489_s002_t001  0.000000  0.0  232.0  0.000000    0.0  232.0   \ndev_01_tcp_ar_9578_s011_t008     0.000000  0.0  252.0  0.000000    0.0  252.0   \ndev_02_tcp_le_1770_s003_t000     0.000000  0.0  237.0  0.000000    0.0  237.0   \ndev_01_tcp_ar_9578_s021_t001     0.000000  0.0  341.0  0.000000    0.0  341.0   \ntrain_01_tcp_ar_7032_s008_t000   0.000000  0.0  245.0  0.000000    0.0  245.0   \n\n                                     pnni_50             nni_20              \\\n                                   %     NaN  total    %    NaN  total    %   \nKey                                                                           \ntrain_01_tcp_ar_9104_s002_t009   0.0     0.0   61.0  0.0    0.0   61.0  0.0   \ntrain_01_tcp_ar_11870_s004_t001  0.0     0.0  227.0  0.0    0.0  227.0  0.0   \ntrain_01_tcp_ar_11873_s003_t001  0.0     0.0  131.0  0.0    0.0  131.0  0.0   \ntrain_02_tcp_le_1113_s001_t000   0.0     0.0  144.0  0.0    0.0  144.0  0.0   \ntrain_01_tcp_ar_13145_s004_t006  0.0     0.0   61.0  0.0    0.0   61.0  0.0   \n...                              ...     ...    ...  ...    ...    ...  ...   \ntrain_01_tcp_ar_10489_s002_t001  0.0     0.0  232.0  0.0    0.0  232.0  0.0   \ndev_01_tcp_ar_9578_s011_t008     0.0     0.0  252.0  0.0    0.0  252.0  0.0   \ndev_02_tcp_le_1770_s003_t000     0.0     0.0  237.0  0.0    0.0  237.0  0.0   \ndev_01_tcp_ar_9578_s021_t001     0.0     0.0  341.0  0.0    0.0  341.0  0.0   \ntrain_01_tcp_ar_7032_s008_t000   0.0     0.0  245.0  0.0    0.0  245.0  0.0   \n\n                                pnni_20             rmssd                   \\\n                                    NaN  total    %   NaN  total         %   \nKey                                                                          \ntrain_01_tcp_ar_9104_s002_t009      0.0   61.0  0.0   1.0   61.0  1.639344   \ntrain_01_tcp_ar_11870_s004_t001     0.0  227.0  0.0   1.0  227.0  0.440529   \ntrain_01_tcp_ar_11873_s003_t001     0.0  131.0  0.0   1.0  131.0  0.763359   \ntrain_02_tcp_le_1113_s001_t000      0.0  144.0  0.0   0.0  144.0  0.000000   \ntrain_01_tcp_ar_13145_s004_t006     0.0   61.0  0.0   1.0   61.0  1.639344   \n...                                 ...    ...  ...   ...    ...       ...   \ntrain_01_tcp_ar_10489_s002_t001     0.0  232.0  0.0   0.0  232.0  0.000000   \ndev_01_tcp_ar_9578_s011_t008        0.0  252.0  0.0   0.0  252.0  0.000000   \ndev_02_tcp_le_1770_s003_t000        0.0  237.0  0.0   0.0  237.0  0.000000   \ndev_01_tcp_ar_9578_s021_t001        0.0  341.0  0.0   0.0  341.0  0.000000   \ntrain_01_tcp_ar_7032_s008_t000      0.0  245.0  0.0   0.0  245.0  0.000000   \n\n                                median_nni                  range_nni         \\\n                                       NaN  total         %       NaN  total   \nKey                                                                            \ntrain_01_tcp_ar_9104_s002_t009         0.0   61.0  0.000000       0.0   61.0   \ntrain_01_tcp_ar_11870_s004_t001        1.0  227.0  0.440529       0.0  227.0   \ntrain_01_tcp_ar_11873_s003_t001        1.0  131.0  0.763359       0.0  131.0   \ntrain_02_tcp_le_1113_s001_t000         0.0  144.0  0.000000       0.0  144.0   \ntrain_01_tcp_ar_13145_s004_t006        0.0   61.0  0.000000       0.0   61.0   \n...                                    ...    ...       ...       ...    ...   \ntrain_01_tcp_ar_10489_s002_t001        0.0  232.0  0.000000       0.0  232.0   \ndev_01_tcp_ar_9578_s011_t008           0.0  252.0  0.000000       0.0  252.0   \ndev_02_tcp_le_1770_s003_t000           0.0  237.0  0.000000       0.0  237.0   \ndev_01_tcp_ar_9578_s021_t001           0.0  341.0  0.000000       0.0  341.0   \ntrain_01_tcp_ar_7032_s008_t000         0.0  245.0  0.000000       0.0  245.0   \n\n                                     cvsd                  cvnni         \\\n                                   %  NaN  total         %   NaN  total   \nKey                                                                       \ntrain_01_tcp_ar_9104_s002_t009   0.0  1.0   61.0  1.639344   1.0   61.0   \ntrain_01_tcp_ar_11870_s004_t001  0.0  1.0  227.0  0.440529   1.0  227.0   \ntrain_01_tcp_ar_11873_s003_t001  0.0  1.0  131.0  0.763359   1.0  131.0   \ntrain_02_tcp_le_1113_s001_t000   0.0  0.0  144.0  0.000000   0.0  144.0   \ntrain_01_tcp_ar_13145_s004_t006  0.0  1.0   61.0  1.639344   1.0   61.0   \n...                              ...  ...    ...       ...   ...    ...   \ntrain_01_tcp_ar_10489_s002_t001  0.0  0.0  232.0  0.000000   0.0  232.0   \ndev_01_tcp_ar_9578_s011_t008     0.0  0.0  252.0  0.000000   0.0  252.0   \ndev_02_tcp_le_1770_s003_t000     0.0  0.0  237.0  0.000000   0.0  237.0   \ndev_01_tcp_ar_9578_s021_t001     0.0  0.0  341.0  0.000000   0.0  341.0   \ntrain_01_tcp_ar_7032_s008_t000   0.0  0.0  245.0  0.000000   0.0  245.0   \n\n                                          mean_hr                  max_hr  \\\n                                        %     NaN  total         %    NaN   \nKey                                                                         \ntrain_01_tcp_ar_9104_s002_t009   1.639344     0.0   61.0  0.000000    0.0   \ntrain_01_tcp_ar_11870_s004_t001  0.440529     1.0  227.0  0.440529    0.0   \ntrain_01_tcp_ar_11873_s003_t001  0.763359     1.0  131.0  0.763359    0.0   \ntrain_02_tcp_le_1113_s001_t000   0.000000     0.0  144.0  0.000000    0.0   \ntrain_01_tcp_ar_13145_s004_t006  1.639344     0.0   61.0  0.000000    0.0   \n...                                   ...     ...    ...       ...    ...   \ntrain_01_tcp_ar_10489_s002_t001  0.000000     0.0  232.0  0.000000    0.0   \ndev_01_tcp_ar_9578_s011_t008     0.000000     0.0  252.0  0.000000    0.0   \ndev_02_tcp_le_1770_s003_t000     0.000000     0.0  237.0  0.000000    0.0   \ndev_01_tcp_ar_9578_s021_t001     0.000000     0.0  341.0  0.000000    0.0   \ntrain_01_tcp_ar_7032_s008_t000   0.000000     0.0  245.0  0.000000    0.0   \n\n                                            min_hr             std_hr         \\\n                                 total    %    NaN  total    %    NaN  total   \nKey                                                                            \ntrain_01_tcp_ar_9104_s002_t009    61.0  0.0    0.0   61.0  0.0    1.0   61.0   \ntrain_01_tcp_ar_11870_s004_t001  227.0  0.0    0.0  227.0  0.0    1.0  227.0   \ntrain_01_tcp_ar_11873_s003_t001  131.0  0.0    0.0  131.0  0.0    1.0  131.0   \ntrain_02_tcp_le_1113_s001_t000   144.0  0.0    0.0  144.0  0.0    0.0  144.0   \ntrain_01_tcp_ar_13145_s004_t006   61.0  0.0    0.0   61.0  0.0    1.0   61.0   \n...                                ...  ...    ...    ...  ...    ...    ...   \ntrain_01_tcp_ar_10489_s002_t001  232.0  0.0    0.0  232.0  0.0    0.0  232.0   \ndev_01_tcp_ar_9578_s011_t008     252.0  0.0    0.0  252.0  0.0    0.0  252.0   \ndev_02_tcp_le_1770_s003_t000     237.0  0.0    0.0  237.0  0.0    0.0  237.0   \ndev_01_tcp_ar_9578_s021_t001     341.0  0.0    0.0  341.0  0.0    0.0  341.0   \ntrain_01_tcp_ar_7032_s008_t000   245.0  0.0    0.0  245.0  0.0    0.0  245.0   \n\n                                             lf                      hf  \\\n                                        %   NaN  total          %   NaN   \nKey                                                                       \ntrain_01_tcp_ar_9104_s002_t009   1.639344  16.0   61.0  26.229508  16.0   \ntrain_01_tcp_ar_11870_s004_t001  0.440529  17.0  227.0   7.488987  17.0   \ntrain_01_tcp_ar_11873_s003_t001  0.763359  17.0  131.0  12.977099  17.0   \ntrain_02_tcp_le_1113_s001_t000   0.000000  16.0  144.0  11.111111  16.0   \ntrain_01_tcp_ar_13145_s004_t006  1.639344  16.0   61.0  26.229508  16.0   \n...                                   ...   ...    ...        ...   ...   \ntrain_01_tcp_ar_10489_s002_t001  0.000000  16.0  232.0   6.896552  16.0   \ndev_01_tcp_ar_9578_s011_t008     0.000000  16.0  252.0   6.349206  16.0   \ndev_02_tcp_le_1770_s003_t000     0.000000  16.0  237.0   6.751055  16.0   \ndev_01_tcp_ar_9578_s021_t001     0.000000  16.0  341.0   4.692082  16.0   \ntrain_01_tcp_ar_7032_s008_t000   0.000000  16.0  245.0   6.530612  16.0   \n\n                                                    vlf                    \\\n                                 total          %   NaN  total          %   \nKey                                                                         \ntrain_01_tcp_ar_9104_s002_t009    61.0  26.229508  16.0   61.0  26.229508   \ntrain_01_tcp_ar_11870_s004_t001  227.0   7.488987  17.0  227.0   7.488987   \ntrain_01_tcp_ar_11873_s003_t001  131.0  12.977099  17.0  131.0  12.977099   \ntrain_02_tcp_le_1113_s001_t000   144.0  11.111111  16.0  144.0  11.111111   \ntrain_01_tcp_ar_13145_s004_t006   61.0  26.229508  16.0   61.0  26.229508   \n...                                ...        ...   ...    ...        ...   \ntrain_01_tcp_ar_10489_s002_t001  232.0   6.896552  16.0  232.0   6.896552   \ndev_01_tcp_ar_9578_s011_t008     252.0   6.349206  16.0  252.0   6.349206   \ndev_02_tcp_le_1770_s003_t000     237.0   6.751055  16.0  237.0   6.751055   \ndev_01_tcp_ar_9578_s021_t001     341.0   4.692082  16.0  341.0   4.692082   \ntrain_01_tcp_ar_7032_s008_t000   245.0   6.530612  16.0  245.0   6.530612   \n\n                                lf_hf_ratio                    csi         \\\n                                        NaN  total          %  NaN  total   \nKey                                                                         \ntrain_01_tcp_ar_9104_s002_t009         16.0   61.0  26.229508  7.0   61.0   \ntrain_01_tcp_ar_11870_s004_t001        17.0  227.0   7.488987  8.0  227.0   \ntrain_01_tcp_ar_11873_s003_t001        17.0  131.0  12.977099  8.0  131.0   \ntrain_02_tcp_le_1113_s001_t000         16.0  144.0  11.111111  7.0  144.0   \ntrain_01_tcp_ar_13145_s004_t006        16.0   61.0  26.229508  7.0   61.0   \n...                                     ...    ...        ...  ...    ...   \ntrain_01_tcp_ar_10489_s002_t001        16.0  232.0   6.896552  7.0  232.0   \ndev_01_tcp_ar_9578_s011_t008           16.0  252.0   6.349206  7.0  252.0   \ndev_02_tcp_le_1770_s003_t000           16.0  237.0   6.751055  7.0  237.0   \ndev_01_tcp_ar_9578_s021_t001           16.0  341.0   4.692082  7.0  341.0   \ntrain_01_tcp_ar_7032_s008_t000         16.0  245.0   6.530612  7.0  245.0   \n\n                                            cvi                    \\\n                                         %  NaN  total          %   \nKey                                                                 \ntrain_01_tcp_ar_9104_s002_t009   11.475410  7.0   61.0  11.475410   \ntrain_01_tcp_ar_11870_s004_t001   3.524229  8.0  227.0   3.524229   \ntrain_01_tcp_ar_11873_s003_t001   6.106870  8.0  131.0   6.106870   \ntrain_02_tcp_le_1113_s001_t000    4.861111  7.0  144.0   4.861111   \ntrain_01_tcp_ar_13145_s004_t006  11.475410  7.0   61.0  11.475410   \n...                                    ...  ...    ...        ...   \ntrain_01_tcp_ar_10489_s002_t001   3.017241  7.0  232.0   3.017241   \ndev_01_tcp_ar_9578_s011_t008      2.777778  7.0  252.0   2.777778   \ndev_02_tcp_le_1770_s003_t000      2.953586  7.0  237.0   2.953586   \ndev_01_tcp_ar_9578_s021_t001      2.052786  7.0  341.0   2.052786   \ntrain_01_tcp_ar_7032_s008_t000    2.857143  7.0  245.0   2.857143   \n\n                                Modified_csi                   sampen         \\\n                                         NaN  total          %    NaN  total   \nKey                                                                            \ntrain_01_tcp_ar_9104_s002_t009           7.0   61.0  11.475410    7.0   61.0   \ntrain_01_tcp_ar_11870_s004_t001          8.0  227.0   3.524229    7.0  227.0   \ntrain_01_tcp_ar_11873_s003_t001          8.0  131.0   6.106870    7.0  131.0   \ntrain_02_tcp_le_1113_s001_t000           7.0  144.0   4.861111    7.0  144.0   \ntrain_01_tcp_ar_13145_s004_t006          7.0   61.0  11.475410    7.0   61.0   \n...                                      ...    ...        ...    ...    ...   \ntrain_01_tcp_ar_10489_s002_t001          7.0  232.0   3.017241    7.0  232.0   \ndev_01_tcp_ar_9578_s011_t008             7.0  252.0   2.777778    7.0  252.0   \ndev_02_tcp_le_1770_s003_t000             7.0  237.0   2.953586    7.0  237.0   \ndev_01_tcp_ar_9578_s021_t001             7.0  341.0   2.052786    7.0  341.0   \ntrain_01_tcp_ar_7032_s008_t000           7.0  245.0   2.857143    7.0  245.0   \n\n                                            sd1                    sd2         \\\n                                         %  NaN  total          %  NaN  total   \nKey                                                                             \ntrain_01_tcp_ar_9104_s002_t009   11.475410  7.0   61.0  11.475410  7.0   61.0   \ntrain_01_tcp_ar_11870_s004_t001   3.083700  8.0  227.0   3.524229  8.0  227.0   \ntrain_01_tcp_ar_11873_s003_t001   5.343511  8.0  131.0   6.106870  8.0  131.0   \ntrain_02_tcp_le_1113_s001_t000    4.861111  7.0  144.0   4.861111  7.0  144.0   \ntrain_01_tcp_ar_13145_s004_t006  11.475410  7.0   61.0  11.475410  7.0   61.0   \n...                                    ...  ...    ...        ...  ...    ...   \ntrain_01_tcp_ar_10489_s002_t001   3.017241  7.0  232.0   3.017241  7.0  232.0   \ndev_01_tcp_ar_9578_s011_t008      2.777778  7.0  252.0   2.777778  7.0  252.0   \ndev_02_tcp_le_1770_s003_t000      2.953586  7.0  237.0   2.953586  7.0  237.0   \ndev_01_tcp_ar_9578_s021_t001      2.052786  7.0  341.0   2.052786  7.0  341.0   \ntrain_01_tcp_ar_7032_s008_t000    2.857143  7.0  245.0   2.857143  7.0  245.0   \n\n                                           ratio_sd2_sd1                    \\\n                                         %           NaN  total          %   \nKey                                                                          \ntrain_01_tcp_ar_9104_s002_t009   11.475410           7.0   61.0  11.475410   \ntrain_01_tcp_ar_11870_s004_t001   3.524229           8.0  227.0   3.524229   \ntrain_01_tcp_ar_11873_s003_t001   6.106870           8.0  131.0   6.106870   \ntrain_02_tcp_le_1113_s001_t000    4.861111           7.0  144.0   4.861111   \ntrain_01_tcp_ar_13145_s004_t006  11.475410           7.0   61.0  11.475410   \n...                                    ...           ...    ...        ...   \ntrain_01_tcp_ar_10489_s002_t001   3.017241           7.0  232.0   3.017241   \ndev_01_tcp_ar_9578_s011_t008      2.777778           7.0  252.0   2.777778   \ndev_02_tcp_le_1770_s003_t000      2.953586           7.0  237.0   2.953586   \ndev_01_tcp_ar_9578_s021_t001      2.052786           7.0  341.0   2.052786   \ntrain_01_tcp_ar_7032_s008_t000    2.857143           7.0  245.0   2.857143   \n\n                                label                      Total         \n                                  NaN  total         %   Percent Crisis  \nKey                                                                      \ntrain_01_tcp_ar_9104_s002_t009    1.0   61.0  1.639344  7.025761    6.0  \ntrain_01_tcp_ar_11870_s004_t001   1.0  227.0  0.440529  2.092511    6.0  \ntrain_01_tcp_ar_11873_s003_t001   1.0  131.0  0.763359  3.625954    6.0  \ntrain_02_tcp_le_1113_s001_t000    1.0  144.0  0.694444  2.827381    6.0  \ntrain_01_tcp_ar_13145_s004_t006   1.0   61.0  1.639344  7.025761    6.0  \n...                               ...    ...       ...       ...    ...  \ntrain_01_tcp_ar_10489_s002_t001   1.0  232.0  0.431034  1.754926  223.0  \ndev_01_tcp_ar_9578_s011_t008      1.0  252.0  0.396825  1.615646  227.0  \ndev_02_tcp_le_1770_s003_t000      0.0  237.0  0.000000  1.702833  235.0  \ndev_01_tcp_ar_9578_s021_t001      1.0  341.0  0.293255  1.193967  239.0  \ntrain_01_tcp_ar_7032_s008_t000    0.0  245.0  0.000000  1.647230  245.0  \n\n[389 rows x 86 columns]",
      "text/html": "<div>\n<style scoped>\n    .dataframe tbody tr th:only-of-type {\n        vertical-align: middle;\n    }\n\n    .dataframe tbody tr th {\n        vertical-align: top;\n    }\n\n    .dataframe thead tr th {\n        text-align: left;\n    }\n\n    .dataframe thead tr:last-of-type th {\n        text-align: right;\n    }\n</style>\n<table border=\"1\" class=\"dataframe\">\n  <thead>\n    <tr>\n      <th></th>\n      <th colspan=\"3\" halign=\"left\">mean_nni</th>\n      <th colspan=\"3\" halign=\"left\">sdnn</th>\n      <th colspan=\"3\" halign=\"left\">sdsd</th>\n      <th colspan=\"3\" halign=\"left\">nni_50</th>\n      <th colspan=\"3\" halign=\"left\">pnni_50</th>\n      <th colspan=\"3\" halign=\"left\">nni_20</th>\n      <th colspan=\"3\" halign=\"left\">pnni_20</th>\n      <th colspan=\"3\" halign=\"left\">rmssd</th>\n      <th colspan=\"3\" halign=\"left\">median_nni</th>\n      <th colspan=\"3\" halign=\"left\">range_nni</th>\n      <th colspan=\"3\" halign=\"left\">cvsd</th>\n      <th colspan=\"3\" halign=\"left\">cvnni</th>\n      <th colspan=\"3\" halign=\"left\">mean_hr</th>\n      <th colspan=\"3\" halign=\"left\">max_hr</th>\n      <th colspan=\"3\" halign=\"left\">min_hr</th>\n      <th colspan=\"3\" halign=\"left\">std_hr</th>\n      <th colspan=\"3\" halign=\"left\">lf</th>\n      <th colspan=\"3\" halign=\"left\">hf</th>\n      <th colspan=\"3\" halign=\"left\">vlf</th>\n      <th colspan=\"3\" halign=\"left\">lf_hf_ratio</th>\n      <th colspan=\"3\" halign=\"left\">csi</th>\n      <th colspan=\"3\" halign=\"left\">cvi</th>\n      <th colspan=\"3\" halign=\"left\">Modified_csi</th>\n      <th colspan=\"3\" halign=\"left\">sampen</th>\n      <th colspan=\"3\" halign=\"left\">sd1</th>\n      <th colspan=\"3\" halign=\"left\">sd2</th>\n      <th colspan=\"3\" halign=\"left\">ratio_sd2_sd1</th>\n      <th colspan=\"3\" halign=\"left\">label</th>\n      <th colspan=\"2\" halign=\"left\">Total</th>\n    </tr>\n    <tr>\n      <th></th>\n      <th>NaN</th>\n      <th>total</th>\n      <th>%</th>\n      <th>NaN</th>\n      <th>total</th>\n      <th>%</th>\n      <th>NaN</th>\n      <th>total</th>\n      <th>%</th>\n      <th>NaN</th>\n      <th>total</th>\n      <th>%</th>\n      <th>NaN</th>\n      <th>total</th>\n      <th>%</th>\n      <th>NaN</th>\n      <th>total</th>\n      <th>%</th>\n      <th>NaN</th>\n      <th>total</th>\n      <th>%</th>\n      <th>NaN</th>\n      <th>total</th>\n      <th>%</th>\n      <th>NaN</th>\n      <th>total</th>\n      <th>%</th>\n      <th>NaN</th>\n      <th>total</th>\n      <th>%</th>\n      <th>NaN</th>\n      <th>total</th>\n      <th>%</th>\n      <th>NaN</th>\n      <th>total</th>\n      <th>%</th>\n      <th>NaN</th>\n      <th>total</th>\n      <th>%</th>\n      <th>NaN</th>\n      <th>total</th>\n      <th>%</th>\n      <th>NaN</th>\n      <th>total</th>\n      <th>%</th>\n      <th>NaN</th>\n      <th>total</th>\n      <th>%</th>\n      <th>NaN</th>\n      <th>total</th>\n      <th>%</th>\n      <th>NaN</th>\n      <th>total</th>\n      <th>%</th>\n      <th>NaN</th>\n      <th>total</th>\n      <th>%</th>\n      <th>NaN</th>\n      <th>total</th>\n      <th>%</th>\n      <th>NaN</th>\n      <th>total</th>\n      <th>%</th>\n      <th>NaN</th>\n      <th>total</th>\n      <th>%</th>\n      <th>NaN</th>\n      <th>total</th>\n      <th>%</th>\n      <th>NaN</th>\n      <th>total</th>\n      <th>%</th>\n      <th>NaN</th>\n      <th>total</th>\n      <th>%</th>\n      <th>NaN</th>\n      <th>total</th>\n      <th>%</th>\n      <th>NaN</th>\n      <th>total</th>\n      <th>%</th>\n      <th>NaN</th>\n      <th>total</th>\n      <th>%</th>\n      <th>Percent</th>\n      <th>Crisis</th>\n    </tr>\n    <tr>\n      <th>Key</th>\n      <th></th>\n      <th></th>\n      <th></th>\n      <th></th>\n      <th></th>\n      <th></th>\n      <th></th>\n      <th></th>\n      <th></th>\n      <th></th>\n      <th></th>\n      <th></th>\n      <th></th>\n      <th></th>\n      <th></th>\n      <th></th>\n      <th></th>\n      <th></th>\n      <th></th>\n      <th></th>\n      <th></th>\n      <th></th>\n      <th></th>\n      <th></th>\n      <th></th>\n      <th></th>\n      <th></th>\n      <th></th>\n      <th></th>\n      <th></th>\n      <th></th>\n      <th></th>\n      <th></th>\n      <th></th>\n      <th></th>\n      <th></th>\n      <th></th>\n      <th></th>\n      <th></th>\n      <th></th>\n      <th></th>\n      <th></th>\n      <th></th>\n      <th></th>\n      <th></th>\n      <th></th>\n      <th></th>\n      <th></th>\n      <th></th>\n      <th></th>\n      <th></th>\n      <th></th>\n      <th></th>\n      <th></th>\n      <th></th>\n      <th></th>\n      <th></th>\n      <th></th>\n      <th></th>\n      <th></th>\n      <th></th>\n      <th></th>\n      <th></th>\n      <th></th>\n      <th></th>\n      <th></th>\n      <th></th>\n      <th></th>\n      <th></th>\n      <th></th>\n      <th></th>\n      <th></th>\n      <th></th>\n      <th></th>\n      <th></th>\n      <th></th>\n      <th></th>\n      <th></th>\n      <th></th>\n      <th></th>\n      <th></th>\n      <th></th>\n      <th></th>\n      <th></th>\n      <th></th>\n      <th></th>\n    </tr>\n  </thead>\n  <tbody>\n    <tr>\n      <th>train_01_tcp_ar_9104_s002_t009</th>\n      <td>0.0</td>\n      <td>61.0</td>\n      <td>0.000000</td>\n      <td>1.0</td>\n      <td>61.0</td>\n      <td>1.639344</td>\n      <td>1.0</td>\n      <td>61.0</td>\n      <td>1.639344</td>\n      <td>0.0</td>\n      <td>61.0</td>\n      <td>0.0</td>\n      <td>0.0</td>\n      <td>61.0</td>\n      <td>0.0</td>\n      <td>0.0</td>\n      <td>61.0</td>\n      <td>0.0</td>\n      <td>0.0</td>\n      <td>61.0</td>\n      <td>0.0</td>\n      <td>1.0</td>\n      <td>61.0</td>\n      <td>1.639344</td>\n      <td>0.0</td>\n      <td>61.0</td>\n      <td>0.000000</td>\n      <td>0.0</td>\n      <td>61.0</td>\n      <td>0.0</td>\n      <td>1.0</td>\n      <td>61.0</td>\n      <td>1.639344</td>\n      <td>1.0</td>\n      <td>61.0</td>\n      <td>1.639344</td>\n      <td>0.0</td>\n      <td>61.0</td>\n      <td>0.000000</td>\n      <td>0.0</td>\n      <td>61.0</td>\n      <td>0.0</td>\n      <td>0.0</td>\n      <td>61.0</td>\n      <td>0.0</td>\n      <td>1.0</td>\n      <td>61.0</td>\n      <td>1.639344</td>\n      <td>16.0</td>\n      <td>61.0</td>\n      <td>26.229508</td>\n      <td>16.0</td>\n      <td>61.0</td>\n      <td>26.229508</td>\n      <td>16.0</td>\n      <td>61.0</td>\n      <td>26.229508</td>\n      <td>16.0</td>\n      <td>61.0</td>\n      <td>26.229508</td>\n      <td>7.0</td>\n      <td>61.0</td>\n      <td>11.475410</td>\n      <td>7.0</td>\n      <td>61.0</td>\n      <td>11.475410</td>\n      <td>7.0</td>\n      <td>61.0</td>\n      <td>11.475410</td>\n      <td>7.0</td>\n      <td>61.0</td>\n      <td>11.475410</td>\n      <td>7.0</td>\n      <td>61.0</td>\n      <td>11.475410</td>\n      <td>7.0</td>\n      <td>61.0</td>\n      <td>11.475410</td>\n      <td>7.0</td>\n      <td>61.0</td>\n      <td>11.475410</td>\n      <td>1.0</td>\n      <td>61.0</td>\n      <td>1.639344</td>\n      <td>7.025761</td>\n      <td>6.0</td>\n    </tr>\n    <tr>\n      <th>train_01_tcp_ar_11870_s004_t001</th>\n      <td>1.0</td>\n      <td>227.0</td>\n      <td>0.440529</td>\n      <td>1.0</td>\n      <td>227.0</td>\n      <td>0.440529</td>\n      <td>1.0</td>\n      <td>227.0</td>\n      <td>0.440529</td>\n      <td>0.0</td>\n      <td>227.0</td>\n      <td>0.0</td>\n      <td>0.0</td>\n      <td>227.0</td>\n      <td>0.0</td>\n      <td>0.0</td>\n      <td>227.0</td>\n      <td>0.0</td>\n      <td>0.0</td>\n      <td>227.0</td>\n      <td>0.0</td>\n      <td>1.0</td>\n      <td>227.0</td>\n      <td>0.440529</td>\n      <td>1.0</td>\n      <td>227.0</td>\n      <td>0.440529</td>\n      <td>0.0</td>\n      <td>227.0</td>\n      <td>0.0</td>\n      <td>1.0</td>\n      <td>227.0</td>\n      <td>0.440529</td>\n      <td>1.0</td>\n      <td>227.0</td>\n      <td>0.440529</td>\n      <td>1.0</td>\n      <td>227.0</td>\n      <td>0.440529</td>\n      <td>0.0</td>\n      <td>227.0</td>\n      <td>0.0</td>\n      <td>0.0</td>\n      <td>227.0</td>\n      <td>0.0</td>\n      <td>1.0</td>\n      <td>227.0</td>\n      <td>0.440529</td>\n      <td>17.0</td>\n      <td>227.0</td>\n      <td>7.488987</td>\n      <td>17.0</td>\n      <td>227.0</td>\n      <td>7.488987</td>\n      <td>17.0</td>\n      <td>227.0</td>\n      <td>7.488987</td>\n      <td>17.0</td>\n      <td>227.0</td>\n      <td>7.488987</td>\n      <td>8.0</td>\n      <td>227.0</td>\n      <td>3.524229</td>\n      <td>8.0</td>\n      <td>227.0</td>\n      <td>3.524229</td>\n      <td>8.0</td>\n      <td>227.0</td>\n      <td>3.524229</td>\n      <td>7.0</td>\n      <td>227.0</td>\n      <td>3.083700</td>\n      <td>8.0</td>\n      <td>227.0</td>\n      <td>3.524229</td>\n      <td>8.0</td>\n      <td>227.0</td>\n      <td>3.524229</td>\n      <td>8.0</td>\n      <td>227.0</td>\n      <td>3.524229</td>\n      <td>1.0</td>\n      <td>227.0</td>\n      <td>0.440529</td>\n      <td>2.092511</td>\n      <td>6.0</td>\n    </tr>\n    <tr>\n      <th>train_01_tcp_ar_11873_s003_t001</th>\n      <td>1.0</td>\n      <td>131.0</td>\n      <td>0.763359</td>\n      <td>1.0</td>\n      <td>131.0</td>\n      <td>0.763359</td>\n      <td>1.0</td>\n      <td>131.0</td>\n      <td>0.763359</td>\n      <td>0.0</td>\n      <td>131.0</td>\n      <td>0.0</td>\n      <td>0.0</td>\n      <td>131.0</td>\n      <td>0.0</td>\n      <td>0.0</td>\n      <td>131.0</td>\n      <td>0.0</td>\n      <td>0.0</td>\n      <td>131.0</td>\n      <td>0.0</td>\n      <td>1.0</td>\n      <td>131.0</td>\n      <td>0.763359</td>\n      <td>1.0</td>\n      <td>131.0</td>\n      <td>0.763359</td>\n      <td>0.0</td>\n      <td>131.0</td>\n      <td>0.0</td>\n      <td>1.0</td>\n      <td>131.0</td>\n      <td>0.763359</td>\n      <td>1.0</td>\n      <td>131.0</td>\n      <td>0.763359</td>\n      <td>1.0</td>\n      <td>131.0</td>\n      <td>0.763359</td>\n      <td>0.0</td>\n      <td>131.0</td>\n      <td>0.0</td>\n      <td>0.0</td>\n      <td>131.0</td>\n      <td>0.0</td>\n      <td>1.0</td>\n      <td>131.0</td>\n      <td>0.763359</td>\n      <td>17.0</td>\n      <td>131.0</td>\n      <td>12.977099</td>\n      <td>17.0</td>\n      <td>131.0</td>\n      <td>12.977099</td>\n      <td>17.0</td>\n      <td>131.0</td>\n      <td>12.977099</td>\n      <td>17.0</td>\n      <td>131.0</td>\n      <td>12.977099</td>\n      <td>8.0</td>\n      <td>131.0</td>\n      <td>6.106870</td>\n      <td>8.0</td>\n      <td>131.0</td>\n      <td>6.106870</td>\n      <td>8.0</td>\n      <td>131.0</td>\n      <td>6.106870</td>\n      <td>7.0</td>\n      <td>131.0</td>\n      <td>5.343511</td>\n      <td>8.0</td>\n      <td>131.0</td>\n      <td>6.106870</td>\n      <td>8.0</td>\n      <td>131.0</td>\n      <td>6.106870</td>\n      <td>8.0</td>\n      <td>131.0</td>\n      <td>6.106870</td>\n      <td>1.0</td>\n      <td>131.0</td>\n      <td>0.763359</td>\n      <td>3.625954</td>\n      <td>6.0</td>\n    </tr>\n    <tr>\n      <th>train_02_tcp_le_1113_s001_t000</th>\n      <td>0.0</td>\n      <td>144.0</td>\n      <td>0.000000</td>\n      <td>0.0</td>\n      <td>144.0</td>\n      <td>0.000000</td>\n      <td>0.0</td>\n      <td>144.0</td>\n      <td>0.000000</td>\n      <td>0.0</td>\n      <td>144.0</td>\n      <td>0.0</td>\n      <td>0.0</td>\n      <td>144.0</td>\n      <td>0.0</td>\n      <td>0.0</td>\n      <td>144.0</td>\n      <td>0.0</td>\n      <td>0.0</td>\n      <td>144.0</td>\n      <td>0.0</td>\n      <td>0.0</td>\n      <td>144.0</td>\n      <td>0.000000</td>\n      <td>0.0</td>\n      <td>144.0</td>\n      <td>0.000000</td>\n      <td>0.0</td>\n      <td>144.0</td>\n      <td>0.0</td>\n      <td>0.0</td>\n      <td>144.0</td>\n      <td>0.000000</td>\n      <td>0.0</td>\n      <td>144.0</td>\n      <td>0.000000</td>\n      <td>0.0</td>\n      <td>144.0</td>\n      <td>0.000000</td>\n      <td>0.0</td>\n      <td>144.0</td>\n      <td>0.0</td>\n      <td>0.0</td>\n      <td>144.0</td>\n      <td>0.0</td>\n      <td>0.0</td>\n      <td>144.0</td>\n      <td>0.000000</td>\n      <td>16.0</td>\n      <td>144.0</td>\n      <td>11.111111</td>\n      <td>16.0</td>\n      <td>144.0</td>\n      <td>11.111111</td>\n      <td>16.0</td>\n      <td>144.0</td>\n      <td>11.111111</td>\n      <td>16.0</td>\n      <td>144.0</td>\n      <td>11.111111</td>\n      <td>7.0</td>\n      <td>144.0</td>\n      <td>4.861111</td>\n      <td>7.0</td>\n      <td>144.0</td>\n      <td>4.861111</td>\n      <td>7.0</td>\n      <td>144.0</td>\n      <td>4.861111</td>\n      <td>7.0</td>\n      <td>144.0</td>\n      <td>4.861111</td>\n      <td>7.0</td>\n      <td>144.0</td>\n      <td>4.861111</td>\n      <td>7.0</td>\n      <td>144.0</td>\n      <td>4.861111</td>\n      <td>7.0</td>\n      <td>144.0</td>\n      <td>4.861111</td>\n      <td>1.0</td>\n      <td>144.0</td>\n      <td>0.694444</td>\n      <td>2.827381</td>\n      <td>6.0</td>\n    </tr>\n    <tr>\n      <th>train_01_tcp_ar_13145_s004_t006</th>\n      <td>0.0</td>\n      <td>61.0</td>\n      <td>0.000000</td>\n      <td>1.0</td>\n      <td>61.0</td>\n      <td>1.639344</td>\n      <td>1.0</td>\n      <td>61.0</td>\n      <td>1.639344</td>\n      <td>0.0</td>\n      <td>61.0</td>\n      <td>0.0</td>\n      <td>0.0</td>\n      <td>61.0</td>\n      <td>0.0</td>\n      <td>0.0</td>\n      <td>61.0</td>\n      <td>0.0</td>\n      <td>0.0</td>\n      <td>61.0</td>\n      <td>0.0</td>\n      <td>1.0</td>\n      <td>61.0</td>\n      <td>1.639344</td>\n      <td>0.0</td>\n      <td>61.0</td>\n      <td>0.000000</td>\n      <td>0.0</td>\n      <td>61.0</td>\n      <td>0.0</td>\n      <td>1.0</td>\n      <td>61.0</td>\n      <td>1.639344</td>\n      <td>1.0</td>\n      <td>61.0</td>\n      <td>1.639344</td>\n      <td>0.0</td>\n      <td>61.0</td>\n      <td>0.000000</td>\n      <td>0.0</td>\n      <td>61.0</td>\n      <td>0.0</td>\n      <td>0.0</td>\n      <td>61.0</td>\n      <td>0.0</td>\n      <td>1.0</td>\n      <td>61.0</td>\n      <td>1.639344</td>\n      <td>16.0</td>\n      <td>61.0</td>\n      <td>26.229508</td>\n      <td>16.0</td>\n      <td>61.0</td>\n      <td>26.229508</td>\n      <td>16.0</td>\n      <td>61.0</td>\n      <td>26.229508</td>\n      <td>16.0</td>\n      <td>61.0</td>\n      <td>26.229508</td>\n      <td>7.0</td>\n      <td>61.0</td>\n      <td>11.475410</td>\n      <td>7.0</td>\n      <td>61.0</td>\n      <td>11.475410</td>\n      <td>7.0</td>\n      <td>61.0</td>\n      <td>11.475410</td>\n      <td>7.0</td>\n      <td>61.0</td>\n      <td>11.475410</td>\n      <td>7.0</td>\n      <td>61.0</td>\n      <td>11.475410</td>\n      <td>7.0</td>\n      <td>61.0</td>\n      <td>11.475410</td>\n      <td>7.0</td>\n      <td>61.0</td>\n      <td>11.475410</td>\n      <td>1.0</td>\n      <td>61.0</td>\n      <td>1.639344</td>\n      <td>7.025761</td>\n      <td>6.0</td>\n    </tr>\n    <tr>\n      <th>...</th>\n      <td>...</td>\n      <td>...</td>\n      <td>...</td>\n      <td>...</td>\n      <td>...</td>\n      <td>...</td>\n      <td>...</td>\n      <td>...</td>\n      <td>...</td>\n      <td>...</td>\n      <td>...</td>\n      <td>...</td>\n      <td>...</td>\n      <td>...</td>\n      <td>...</td>\n      <td>...</td>\n      <td>...</td>\n      <td>...</td>\n      <td>...</td>\n      <td>...</td>\n      <td>...</td>\n      <td>...</td>\n      <td>...</td>\n      <td>...</td>\n      <td>...</td>\n      <td>...</td>\n      <td>...</td>\n      <td>...</td>\n      <td>...</td>\n      <td>...</td>\n      <td>...</td>\n      <td>...</td>\n      <td>...</td>\n      <td>...</td>\n      <td>...</td>\n      <td>...</td>\n      <td>...</td>\n      <td>...</td>\n      <td>...</td>\n      <td>...</td>\n      <td>...</td>\n      <td>...</td>\n      <td>...</td>\n      <td>...</td>\n      <td>...</td>\n      <td>...</td>\n      <td>...</td>\n      <td>...</td>\n      <td>...</td>\n      <td>...</td>\n      <td>...</td>\n      <td>...</td>\n      <td>...</td>\n      <td>...</td>\n      <td>...</td>\n      <td>...</td>\n      <td>...</td>\n      <td>...</td>\n      <td>...</td>\n      <td>...</td>\n      <td>...</td>\n      <td>...</td>\n      <td>...</td>\n      <td>...</td>\n      <td>...</td>\n      <td>...</td>\n      <td>...</td>\n      <td>...</td>\n      <td>...</td>\n      <td>...</td>\n      <td>...</td>\n      <td>...</td>\n      <td>...</td>\n      <td>...</td>\n      <td>...</td>\n      <td>...</td>\n      <td>...</td>\n      <td>...</td>\n      <td>...</td>\n      <td>...</td>\n      <td>...</td>\n      <td>...</td>\n      <td>...</td>\n      <td>...</td>\n      <td>...</td>\n      <td>...</td>\n    </tr>\n    <tr>\n      <th>train_01_tcp_ar_10489_s002_t001</th>\n      <td>0.0</td>\n      <td>232.0</td>\n      <td>0.000000</td>\n      <td>0.0</td>\n      <td>232.0</td>\n      <td>0.000000</td>\n      <td>0.0</td>\n      <td>232.0</td>\n      <td>0.000000</td>\n      <td>0.0</td>\n      <td>232.0</td>\n      <td>0.0</td>\n      <td>0.0</td>\n      <td>232.0</td>\n      <td>0.0</td>\n      <td>0.0</td>\n      <td>232.0</td>\n      <td>0.0</td>\n      <td>0.0</td>\n      <td>232.0</td>\n      <td>0.0</td>\n      <td>0.0</td>\n      <td>232.0</td>\n      <td>0.000000</td>\n      <td>0.0</td>\n      <td>232.0</td>\n      <td>0.000000</td>\n      <td>0.0</td>\n      <td>232.0</td>\n      <td>0.0</td>\n      <td>0.0</td>\n      <td>232.0</td>\n      <td>0.000000</td>\n      <td>0.0</td>\n      <td>232.0</td>\n      <td>0.000000</td>\n      <td>0.0</td>\n      <td>232.0</td>\n      <td>0.000000</td>\n      <td>0.0</td>\n      <td>232.0</td>\n      <td>0.0</td>\n      <td>0.0</td>\n      <td>232.0</td>\n      <td>0.0</td>\n      <td>0.0</td>\n      <td>232.0</td>\n      <td>0.000000</td>\n      <td>16.0</td>\n      <td>232.0</td>\n      <td>6.896552</td>\n      <td>16.0</td>\n      <td>232.0</td>\n      <td>6.896552</td>\n      <td>16.0</td>\n      <td>232.0</td>\n      <td>6.896552</td>\n      <td>16.0</td>\n      <td>232.0</td>\n      <td>6.896552</td>\n      <td>7.0</td>\n      <td>232.0</td>\n      <td>3.017241</td>\n      <td>7.0</td>\n      <td>232.0</td>\n      <td>3.017241</td>\n      <td>7.0</td>\n      <td>232.0</td>\n      <td>3.017241</td>\n      <td>7.0</td>\n      <td>232.0</td>\n      <td>3.017241</td>\n      <td>7.0</td>\n      <td>232.0</td>\n      <td>3.017241</td>\n      <td>7.0</td>\n      <td>232.0</td>\n      <td>3.017241</td>\n      <td>7.0</td>\n      <td>232.0</td>\n      <td>3.017241</td>\n      <td>1.0</td>\n      <td>232.0</td>\n      <td>0.431034</td>\n      <td>1.754926</td>\n      <td>223.0</td>\n    </tr>\n    <tr>\n      <th>dev_01_tcp_ar_9578_s011_t008</th>\n      <td>0.0</td>\n      <td>252.0</td>\n      <td>0.000000</td>\n      <td>0.0</td>\n      <td>252.0</td>\n      <td>0.000000</td>\n      <td>0.0</td>\n      <td>252.0</td>\n      <td>0.000000</td>\n      <td>0.0</td>\n      <td>252.0</td>\n      <td>0.0</td>\n      <td>0.0</td>\n      <td>252.0</td>\n      <td>0.0</td>\n      <td>0.0</td>\n      <td>252.0</td>\n      <td>0.0</td>\n      <td>0.0</td>\n      <td>252.0</td>\n      <td>0.0</td>\n      <td>0.0</td>\n      <td>252.0</td>\n      <td>0.000000</td>\n      <td>0.0</td>\n      <td>252.0</td>\n      <td>0.000000</td>\n      <td>0.0</td>\n      <td>252.0</td>\n      <td>0.0</td>\n      <td>0.0</td>\n      <td>252.0</td>\n      <td>0.000000</td>\n      <td>0.0</td>\n      <td>252.0</td>\n      <td>0.000000</td>\n      <td>0.0</td>\n      <td>252.0</td>\n      <td>0.000000</td>\n      <td>0.0</td>\n      <td>252.0</td>\n      <td>0.0</td>\n      <td>0.0</td>\n      <td>252.0</td>\n      <td>0.0</td>\n      <td>0.0</td>\n      <td>252.0</td>\n      <td>0.000000</td>\n      <td>16.0</td>\n      <td>252.0</td>\n      <td>6.349206</td>\n      <td>16.0</td>\n      <td>252.0</td>\n      <td>6.349206</td>\n      <td>16.0</td>\n      <td>252.0</td>\n      <td>6.349206</td>\n      <td>16.0</td>\n      <td>252.0</td>\n      <td>6.349206</td>\n      <td>7.0</td>\n      <td>252.0</td>\n      <td>2.777778</td>\n      <td>7.0</td>\n      <td>252.0</td>\n      <td>2.777778</td>\n      <td>7.0</td>\n      <td>252.0</td>\n      <td>2.777778</td>\n      <td>7.0</td>\n      <td>252.0</td>\n      <td>2.777778</td>\n      <td>7.0</td>\n      <td>252.0</td>\n      <td>2.777778</td>\n      <td>7.0</td>\n      <td>252.0</td>\n      <td>2.777778</td>\n      <td>7.0</td>\n      <td>252.0</td>\n      <td>2.777778</td>\n      <td>1.0</td>\n      <td>252.0</td>\n      <td>0.396825</td>\n      <td>1.615646</td>\n      <td>227.0</td>\n    </tr>\n    <tr>\n      <th>dev_02_tcp_le_1770_s003_t000</th>\n      <td>0.0</td>\n      <td>237.0</td>\n      <td>0.000000</td>\n      <td>0.0</td>\n      <td>237.0</td>\n      <td>0.000000</td>\n      <td>0.0</td>\n      <td>237.0</td>\n      <td>0.000000</td>\n      <td>0.0</td>\n      <td>237.0</td>\n      <td>0.0</td>\n      <td>0.0</td>\n      <td>237.0</td>\n      <td>0.0</td>\n      <td>0.0</td>\n      <td>237.0</td>\n      <td>0.0</td>\n      <td>0.0</td>\n      <td>237.0</td>\n      <td>0.0</td>\n      <td>0.0</td>\n      <td>237.0</td>\n      <td>0.000000</td>\n      <td>0.0</td>\n      <td>237.0</td>\n      <td>0.000000</td>\n      <td>0.0</td>\n      <td>237.0</td>\n      <td>0.0</td>\n      <td>0.0</td>\n      <td>237.0</td>\n      <td>0.000000</td>\n      <td>0.0</td>\n      <td>237.0</td>\n      <td>0.000000</td>\n      <td>0.0</td>\n      <td>237.0</td>\n      <td>0.000000</td>\n      <td>0.0</td>\n      <td>237.0</td>\n      <td>0.0</td>\n      <td>0.0</td>\n      <td>237.0</td>\n      <td>0.0</td>\n      <td>0.0</td>\n      <td>237.0</td>\n      <td>0.000000</td>\n      <td>16.0</td>\n      <td>237.0</td>\n      <td>6.751055</td>\n      <td>16.0</td>\n      <td>237.0</td>\n      <td>6.751055</td>\n      <td>16.0</td>\n      <td>237.0</td>\n      <td>6.751055</td>\n      <td>16.0</td>\n      <td>237.0</td>\n      <td>6.751055</td>\n      <td>7.0</td>\n      <td>237.0</td>\n      <td>2.953586</td>\n      <td>7.0</td>\n      <td>237.0</td>\n      <td>2.953586</td>\n      <td>7.0</td>\n      <td>237.0</td>\n      <td>2.953586</td>\n      <td>7.0</td>\n      <td>237.0</td>\n      <td>2.953586</td>\n      <td>7.0</td>\n      <td>237.0</td>\n      <td>2.953586</td>\n      <td>7.0</td>\n      <td>237.0</td>\n      <td>2.953586</td>\n      <td>7.0</td>\n      <td>237.0</td>\n      <td>2.953586</td>\n      <td>0.0</td>\n      <td>237.0</td>\n      <td>0.000000</td>\n      <td>1.702833</td>\n      <td>235.0</td>\n    </tr>\n    <tr>\n      <th>dev_01_tcp_ar_9578_s021_t001</th>\n      <td>0.0</td>\n      <td>341.0</td>\n      <td>0.000000</td>\n      <td>0.0</td>\n      <td>341.0</td>\n      <td>0.000000</td>\n      <td>0.0</td>\n      <td>341.0</td>\n      <td>0.000000</td>\n      <td>0.0</td>\n      <td>341.0</td>\n      <td>0.0</td>\n      <td>0.0</td>\n      <td>341.0</td>\n      <td>0.0</td>\n      <td>0.0</td>\n      <td>341.0</td>\n      <td>0.0</td>\n      <td>0.0</td>\n      <td>341.0</td>\n      <td>0.0</td>\n      <td>0.0</td>\n      <td>341.0</td>\n      <td>0.000000</td>\n      <td>0.0</td>\n      <td>341.0</td>\n      <td>0.000000</td>\n      <td>0.0</td>\n      <td>341.0</td>\n      <td>0.0</td>\n      <td>0.0</td>\n      <td>341.0</td>\n      <td>0.000000</td>\n      <td>0.0</td>\n      <td>341.0</td>\n      <td>0.000000</td>\n      <td>0.0</td>\n      <td>341.0</td>\n      <td>0.000000</td>\n      <td>0.0</td>\n      <td>341.0</td>\n      <td>0.0</td>\n      <td>0.0</td>\n      <td>341.0</td>\n      <td>0.0</td>\n      <td>0.0</td>\n      <td>341.0</td>\n      <td>0.000000</td>\n      <td>16.0</td>\n      <td>341.0</td>\n      <td>4.692082</td>\n      <td>16.0</td>\n      <td>341.0</td>\n      <td>4.692082</td>\n      <td>16.0</td>\n      <td>341.0</td>\n      <td>4.692082</td>\n      <td>16.0</td>\n      <td>341.0</td>\n      <td>4.692082</td>\n      <td>7.0</td>\n      <td>341.0</td>\n      <td>2.052786</td>\n      <td>7.0</td>\n      <td>341.0</td>\n      <td>2.052786</td>\n      <td>7.0</td>\n      <td>341.0</td>\n      <td>2.052786</td>\n      <td>7.0</td>\n      <td>341.0</td>\n      <td>2.052786</td>\n      <td>7.0</td>\n      <td>341.0</td>\n      <td>2.052786</td>\n      <td>7.0</td>\n      <td>341.0</td>\n      <td>2.052786</td>\n      <td>7.0</td>\n      <td>341.0</td>\n      <td>2.052786</td>\n      <td>1.0</td>\n      <td>341.0</td>\n      <td>0.293255</td>\n      <td>1.193967</td>\n      <td>239.0</td>\n    </tr>\n    <tr>\n      <th>train_01_tcp_ar_7032_s008_t000</th>\n      <td>0.0</td>\n      <td>245.0</td>\n      <td>0.000000</td>\n      <td>0.0</td>\n      <td>245.0</td>\n      <td>0.000000</td>\n      <td>0.0</td>\n      <td>245.0</td>\n      <td>0.000000</td>\n      <td>0.0</td>\n      <td>245.0</td>\n      <td>0.0</td>\n      <td>0.0</td>\n      <td>245.0</td>\n      <td>0.0</td>\n      <td>0.0</td>\n      <td>245.0</td>\n      <td>0.0</td>\n      <td>0.0</td>\n      <td>245.0</td>\n      <td>0.0</td>\n      <td>0.0</td>\n      <td>245.0</td>\n      <td>0.000000</td>\n      <td>0.0</td>\n      <td>245.0</td>\n      <td>0.000000</td>\n      <td>0.0</td>\n      <td>245.0</td>\n      <td>0.0</td>\n      <td>0.0</td>\n      <td>245.0</td>\n      <td>0.000000</td>\n      <td>0.0</td>\n      <td>245.0</td>\n      <td>0.000000</td>\n      <td>0.0</td>\n      <td>245.0</td>\n      <td>0.000000</td>\n      <td>0.0</td>\n      <td>245.0</td>\n      <td>0.0</td>\n      <td>0.0</td>\n      <td>245.0</td>\n      <td>0.0</td>\n      <td>0.0</td>\n      <td>245.0</td>\n      <td>0.000000</td>\n      <td>16.0</td>\n      <td>245.0</td>\n      <td>6.530612</td>\n      <td>16.0</td>\n      <td>245.0</td>\n      <td>6.530612</td>\n      <td>16.0</td>\n      <td>245.0</td>\n      <td>6.530612</td>\n      <td>16.0</td>\n      <td>245.0</td>\n      <td>6.530612</td>\n      <td>7.0</td>\n      <td>245.0</td>\n      <td>2.857143</td>\n      <td>7.0</td>\n      <td>245.0</td>\n      <td>2.857143</td>\n      <td>7.0</td>\n      <td>245.0</td>\n      <td>2.857143</td>\n      <td>7.0</td>\n      <td>245.0</td>\n      <td>2.857143</td>\n      <td>7.0</td>\n      <td>245.0</td>\n      <td>2.857143</td>\n      <td>7.0</td>\n      <td>245.0</td>\n      <td>2.857143</td>\n      <td>7.0</td>\n      <td>245.0</td>\n      <td>2.857143</td>\n      <td>0.0</td>\n      <td>245.0</td>\n      <td>0.000000</td>\n      <td>1.647230</td>\n      <td>245.0</td>\n    </tr>\n  </tbody>\n</table>\n<p>389 rows × 86 columns</p>\n</div>"
     },
     "metadata": {},
     "execution_count": 44
    }
   ],
   "source": [
    "count_nan_by_key[(count_nan_by_key[('Total', 'Percent')] < 10) &\\\n",
    "                 (count_nan_by_key[('Total', 'Crisis')] > 5)].sort_values(('Total', 'Crisis'))"
   ]
  },
  {
   "cell_type": "code",
   "execution_count": 23,
   "metadata": {},
   "outputs": [],
   "source": [
    "key_to_loop_over = count_nan_by_key[(count_nan_by_key[('Total', 'Percent')] < 10) &\\\n",
    "                                    (count_nan_by_key[('Total', 'Crisis')] > 5)].index.tolist()"
   ]
  },
  {
   "cell_type": "code",
   "execution_count": 24,
   "metadata": {},
   "outputs": [],
   "source": [
    "xqrs_filtered = xqrs[xqrs.Key.isin(key_to_loop_over)]"
   ]
  },
  {
   "cell_type": "code",
   "execution_count": 25,
   "metadata": {},
   "outputs": [],
   "source": [
    "xqrs_filtered = xqrs_filtered.replace([np.inf, -np.inf], np.nan)"
   ]
  },
  {
   "cell_type": "code",
   "execution_count": 26,
   "metadata": {},
   "outputs": [],
   "source": [
    "xqrs_clean_imputed = xqrs_filtered.groupby(xqrs_filtered['Key']).transform(lambda x: x.fillna(x.mean()))\n",
    "xqrs_clean_imputed.insert(0, 'Key', xqrs_filtered.Key)\n",
    "xqrs_clean_imputed = xqrs_clean_imputed.reset_index().drop(['index'], axis=1)"
   ]
  },
  {
   "cell_type": "code",
   "execution_count": 27,
   "metadata": {},
   "outputs": [],
   "source": [
    "xqrs_clean_imputed.label = xqrs_clean_imputed.label.apply(lambda x: 1 if x != 0 else 0)"
   ]
  },
  {
   "cell_type": "code",
   "execution_count": 28,
   "metadata": {},
   "outputs": [
    {
     "output_type": "execute_result",
     "data": {
      "text/plain": "                              Key  mean_nni       sdnn       sdsd  nni_50  \\\n0  train_01_tcp_ar_7793_s001_t001     507.8  28.535481  28.056137     2.0   \n1  train_01_tcp_ar_7793_s001_t001     504.0   1.885618   1.617802     0.0   \n2  train_01_tcp_ar_7793_s001_t001     502.0   4.941766   1.458569     0.0   \n3  train_01_tcp_ar_7793_s001_t001     509.8   6.802476   2.455138     0.0   \n4  train_01_tcp_ar_7793_s001_t001     505.0   3.145590   2.208019     0.0   \n\n   pnni_50  nni_20  pnni_20      rmssd  median_nni  range_nni      cvsd  \\\n0     10.0     2.0     10.0  28.135013       506.0       96.0  0.055406   \n1      0.0     0.0      0.0   1.632993       504.0        8.0  0.003240   \n2      0.0     0.0      0.0   1.589439       502.0       12.0  0.003166   \n3      0.0     0.0      0.0   2.595543       512.0       20.0  0.005091   \n4      0.0     0.0      0.0   2.247806       504.0       12.0  0.004451   \n\n      cvnni     mean_hr      max_hr      min_hr    std_hr        lf  \\\n0  0.056194  118.490493  127.118644  105.633803  6.102809  17.88672   \n1  0.003741  119.049198  120.000000  118.110236  0.433552  17.88672   \n2  0.009844  119.532917  120.967742  118.110236  1.146978  17.88672   \n3  0.013343  117.713266  120.967742  116.279070  1.541950  17.88672   \n4  0.006229  118.816291  120.967742  118.110236  0.726400  17.88672   \n\n          hf        vlf  lf_hf_ratio       csi       cvi  Modified_csi  \\\n0  14.777418  13.062283     4.109641  7.027576  2.417675    330.094102   \n1  14.777418  13.062283     4.109641  7.027576  2.417675    330.094102   \n2  14.777418  13.062283     4.109641  7.027576  2.417675    330.094102   \n3  14.777418  13.062283     4.109641  7.027576  2.417675    330.094102   \n4  14.777418  13.062283     4.109641  7.027576  2.417675    330.094102   \n\n     sampen       sd1       sd2  ratio_sd2_sd1  label  \n0  0.325376  2.183891  11.52024       7.027576      0  \n1  0.325376  2.183891  11.52024       7.027576      1  \n2  0.325376  2.183891  11.52024       7.027576      1  \n3  0.325376  2.183891  11.52024       7.027576      1  \n4  0.325376  2.183891  11.52024       7.027576      1  ",
      "text/html": "<div>\n<style scoped>\n    .dataframe tbody tr th:only-of-type {\n        vertical-align: middle;\n    }\n\n    .dataframe tbody tr th {\n        vertical-align: top;\n    }\n\n    .dataframe thead th {\n        text-align: right;\n    }\n</style>\n<table border=\"1\" class=\"dataframe\">\n  <thead>\n    <tr style=\"text-align: right;\">\n      <th></th>\n      <th>Key</th>\n      <th>mean_nni</th>\n      <th>sdnn</th>\n      <th>sdsd</th>\n      <th>nni_50</th>\n      <th>pnni_50</th>\n      <th>nni_20</th>\n      <th>pnni_20</th>\n      <th>rmssd</th>\n      <th>median_nni</th>\n      <th>range_nni</th>\n      <th>cvsd</th>\n      <th>cvnni</th>\n      <th>mean_hr</th>\n      <th>max_hr</th>\n      <th>min_hr</th>\n      <th>std_hr</th>\n      <th>lf</th>\n      <th>hf</th>\n      <th>vlf</th>\n      <th>lf_hf_ratio</th>\n      <th>csi</th>\n      <th>cvi</th>\n      <th>Modified_csi</th>\n      <th>sampen</th>\n      <th>sd1</th>\n      <th>sd2</th>\n      <th>ratio_sd2_sd1</th>\n      <th>label</th>\n    </tr>\n  </thead>\n  <tbody>\n    <tr>\n      <th>0</th>\n      <td>train_01_tcp_ar_7793_s001_t001</td>\n      <td>507.8</td>\n      <td>28.535481</td>\n      <td>28.056137</td>\n      <td>2.0</td>\n      <td>10.0</td>\n      <td>2.0</td>\n      <td>10.0</td>\n      <td>28.135013</td>\n      <td>506.0</td>\n      <td>96.0</td>\n      <td>0.055406</td>\n      <td>0.056194</td>\n      <td>118.490493</td>\n      <td>127.118644</td>\n      <td>105.633803</td>\n      <td>6.102809</td>\n      <td>17.88672</td>\n      <td>14.777418</td>\n      <td>13.062283</td>\n      <td>4.109641</td>\n      <td>7.027576</td>\n      <td>2.417675</td>\n      <td>330.094102</td>\n      <td>0.325376</td>\n      <td>2.183891</td>\n      <td>11.52024</td>\n      <td>7.027576</td>\n      <td>0</td>\n    </tr>\n    <tr>\n      <th>1</th>\n      <td>train_01_tcp_ar_7793_s001_t001</td>\n      <td>504.0</td>\n      <td>1.885618</td>\n      <td>1.617802</td>\n      <td>0.0</td>\n      <td>0.0</td>\n      <td>0.0</td>\n      <td>0.0</td>\n      <td>1.632993</td>\n      <td>504.0</td>\n      <td>8.0</td>\n      <td>0.003240</td>\n      <td>0.003741</td>\n      <td>119.049198</td>\n      <td>120.000000</td>\n      <td>118.110236</td>\n      <td>0.433552</td>\n      <td>17.88672</td>\n      <td>14.777418</td>\n      <td>13.062283</td>\n      <td>4.109641</td>\n      <td>7.027576</td>\n      <td>2.417675</td>\n      <td>330.094102</td>\n      <td>0.325376</td>\n      <td>2.183891</td>\n      <td>11.52024</td>\n      <td>7.027576</td>\n      <td>1</td>\n    </tr>\n    <tr>\n      <th>2</th>\n      <td>train_01_tcp_ar_7793_s001_t001</td>\n      <td>502.0</td>\n      <td>4.941766</td>\n      <td>1.458569</td>\n      <td>0.0</td>\n      <td>0.0</td>\n      <td>0.0</td>\n      <td>0.0</td>\n      <td>1.589439</td>\n      <td>502.0</td>\n      <td>12.0</td>\n      <td>0.003166</td>\n      <td>0.009844</td>\n      <td>119.532917</td>\n      <td>120.967742</td>\n      <td>118.110236</td>\n      <td>1.146978</td>\n      <td>17.88672</td>\n      <td>14.777418</td>\n      <td>13.062283</td>\n      <td>4.109641</td>\n      <td>7.027576</td>\n      <td>2.417675</td>\n      <td>330.094102</td>\n      <td>0.325376</td>\n      <td>2.183891</td>\n      <td>11.52024</td>\n      <td>7.027576</td>\n      <td>1</td>\n    </tr>\n    <tr>\n      <th>3</th>\n      <td>train_01_tcp_ar_7793_s001_t001</td>\n      <td>509.8</td>\n      <td>6.802476</td>\n      <td>2.455138</td>\n      <td>0.0</td>\n      <td>0.0</td>\n      <td>0.0</td>\n      <td>0.0</td>\n      <td>2.595543</td>\n      <td>512.0</td>\n      <td>20.0</td>\n      <td>0.005091</td>\n      <td>0.013343</td>\n      <td>117.713266</td>\n      <td>120.967742</td>\n      <td>116.279070</td>\n      <td>1.541950</td>\n      <td>17.88672</td>\n      <td>14.777418</td>\n      <td>13.062283</td>\n      <td>4.109641</td>\n      <td>7.027576</td>\n      <td>2.417675</td>\n      <td>330.094102</td>\n      <td>0.325376</td>\n      <td>2.183891</td>\n      <td>11.52024</td>\n      <td>7.027576</td>\n      <td>1</td>\n    </tr>\n    <tr>\n      <th>4</th>\n      <td>train_01_tcp_ar_7793_s001_t001</td>\n      <td>505.0</td>\n      <td>3.145590</td>\n      <td>2.208019</td>\n      <td>0.0</td>\n      <td>0.0</td>\n      <td>0.0</td>\n      <td>0.0</td>\n      <td>2.247806</td>\n      <td>504.0</td>\n      <td>12.0</td>\n      <td>0.004451</td>\n      <td>0.006229</td>\n      <td>118.816291</td>\n      <td>120.967742</td>\n      <td>118.110236</td>\n      <td>0.726400</td>\n      <td>17.88672</td>\n      <td>14.777418</td>\n      <td>13.062283</td>\n      <td>4.109641</td>\n      <td>7.027576</td>\n      <td>2.417675</td>\n      <td>330.094102</td>\n      <td>0.325376</td>\n      <td>2.183891</td>\n      <td>11.52024</td>\n      <td>7.027576</td>\n      <td>1</td>\n    </tr>\n  </tbody>\n</table>\n</div>"
     },
     "metadata": {},
     "execution_count": 28
    }
   ],
   "source": [
    "xqrs_clean_imputed.head()"
   ]
  },
  {
   "cell_type": "code",
   "execution_count": 29,
   "metadata": {},
   "outputs": [
    {
     "output_type": "execute_result",
     "data": {
      "text/plain": "(39877, 29)"
     },
     "metadata": {},
     "execution_count": 29
    }
   ],
   "source": [
    "xqrs_clean_imputed.shape"
   ]
  },
  {
   "cell_type": "markdown",
   "metadata": {},
   "source": [
    "# The Loop"
   ]
  },
  {
   "cell_type": "code",
   "execution_count": 30,
   "metadata": {},
   "outputs": [],
   "source": [
    "patient_to_find = ['9104', '9578', '11077', '8544', '983', '10418']"
   ]
  },
  {
   "cell_type": "code",
   "execution_count": 31,
   "metadata": {},
   "outputs": [
    {
     "output_type": "stream",
     "name": "stdout",
     "text": "(1977, 29)\n(2643, 29)\n(1523, 29)\n(1493, 29)\n(1634, 29)\n(859, 29)\n"
    }
   ],
   "source": [
    "for i in patient_to_find:\n",
    "    print(xqrs_clean_imputed[xqrs_clean_imputed.Key.str.contains(i)].shape)"
   ]
  },
  {
   "cell_type": "code",
   "execution_count": 32,
   "metadata": {},
   "outputs": [],
   "source": [
    "from sklearn.tree import DecisionTreeClassifier\n",
    "from functions import simple_ml"
   ]
  },
  {
   "cell_type": "code",
   "execution_count": 33,
   "metadata": {},
   "outputs": [],
   "source": [
    "import operator"
   ]
  },
  {
   "cell_type": "code",
   "execution_count": 34,
   "metadata": {},
   "outputs": [
    {
     "output_type": "stream",
     "name": "stdout",
     "text": "9104  -> f1 score test full features:  0.562874251497006\n9578  -> f1 score test full features:  0.7169811320754716\n11077  -> f1 score test full features:  0.5157232704402516\n8544  -> f1 score test full features:  0.6101694915254237\n983  -> f1 score test full features:  0.32323232323232326\n10418  -> f1 score test full features:  0.5045045045045045\n"
    }
   ],
   "source": [
    "global_score = {}\n",
    "all_patients_score = {}\n",
    "for i in patient_to_find:\n",
    "    df = xqrs_clean_imputed[xqrs_clean_imputed.Key.str.contains(i)]\n",
    "    score, tree = simple_ml(df, DecisionTreeClassifier())\n",
    "    print(i, ' -> f1 score test full features: ', score['f1_score test'])\n",
    "\n",
    "    dic_feats_imp = dict(zip(df.iloc[:,1:-1].columns, \n",
    "                                tree.steps[1][1].feature_importances_))\n",
    "\n",
    "    feats_importance = pd.DataFrame(dic_feats_imp, \n",
    "                                    index=[0]).T.sort_values([0], \n",
    "                                    ascending=False).rename(columns={0: 'Importance'})\n",
    "    patient_score = {}\n",
    "    for z in range(len(feats_importance.index.tolist()), 6, -1):\n",
    "        score, model = simple_ml(df[['Key']  + feats_importance.index.tolist()[:z] \n",
    "                                             + ['label']], DecisionTreeClassifier())\n",
    "        patient_score[z] = score['f1_score test']\n",
    "\n",
    "    all_patients_score[i] = patient_score\n",
    "\n",
    "    max_key = max(patient_score.items(), key=operator.itemgetter(1))[0]\n",
    "    global_score[i] = {max_key: patient_score[max_key], \n",
    "                      'features': feats_importance.index.tolist()[:max_key]}"
   ]
  },
  {
   "cell_type": "code",
   "execution_count": 35,
   "metadata": {},
   "outputs": [
    {
     "output_type": "execute_result",
     "data": {
      "text/plain": "{'9104': {9: 0.6415094339622641,\n  'features': ['mean_hr',\n   'lf',\n   'hf',\n   'vlf',\n   'sampen',\n   'lf_hf_ratio',\n   'median_nni',\n   'sd1',\n   'sd2']},\n '9578': {7: 0.7579737335834896,\n  'features': ['vlf',\n   'lf',\n   'sd1',\n   'Modified_csi',\n   'lf_hf_ratio',\n   'hf',\n   'sampen']},\n '11077': {8: 0.6545454545454544,\n  'features': ['lf_hf_ratio',\n   'vlf',\n   'cvi',\n   'sd1',\n   'sampen',\n   'hf',\n   'max_hr',\n   'lf']},\n '8544': {16: 0.6637931034482758,\n  'features': ['lf_hf_ratio',\n   'vlf',\n   'lf',\n   'max_hr',\n   'hf',\n   'cvi',\n   'sd1',\n   'sd2',\n   'sampen',\n   'ratio_sd2_sd1',\n   'min_hr',\n   'median_nni',\n   'mean_nni',\n   'mean_hr',\n   'sdsd',\n   'range_nni']},\n '983': {15: 0.4158415841584159,\n  'features': ['cvi',\n   'mean_nni',\n   'vlf',\n   'lf_hf_ratio',\n   'sampen',\n   'sd1',\n   'lf',\n   'range_nni',\n   'sd2',\n   'rmssd',\n   'sdsd',\n   'hf',\n   'median_nni',\n   'min_hr',\n   'Modified_csi']},\n '10418': {15: 0.5765765765765765,\n  'features': ['min_hr',\n   'lf_hf_ratio',\n   'hf',\n   'cvsd',\n   'sd1',\n   'sd2',\n   'mean_hr',\n   'cvi',\n   'Modified_csi',\n   'mean_nni',\n   'sampen',\n   'vlf',\n   'lf',\n   'rmssd',\n   'sdsd']}}"
     },
     "metadata": {},
     "execution_count": 35
    }
   ],
   "source": [
    "global_score"
   ]
  },
  {
   "cell_type": "code",
   "execution_count": 36,
   "metadata": {},
   "outputs": [],
   "source": [
    "all_feats = []\n",
    "for feats in global_score:\n",
    "    all_feats.append(global_score[feats]['features'])\n",
    "\n",
    "all_feats_flat = [item for sublist in all_feats for item in sublist]"
   ]
  },
  {
   "cell_type": "code",
   "execution_count": 37,
   "metadata": {},
   "outputs": [],
   "source": [
    "from collections import Counter"
   ]
  },
  {
   "cell_type": "code",
   "execution_count": 38,
   "metadata": {},
   "outputs": [
    {
     "output_type": "execute_result",
     "data": {
      "text/plain": "Counter({'mean_hr': 3,\n         'lf': 6,\n         'hf': 6,\n         'vlf': 6,\n         'sampen': 6,\n         'lf_hf_ratio': 6,\n         'median_nni': 3,\n         'sd1': 6,\n         'sd2': 4,\n         'Modified_csi': 3,\n         'cvi': 4,\n         'max_hr': 2,\n         'ratio_sd2_sd1': 1,\n         'min_hr': 3,\n         'mean_nni': 3,\n         'sdsd': 3,\n         'range_nni': 2,\n         'rmssd': 2,\n         'cvsd': 1})"
     },
     "metadata": {},
     "execution_count": 38
    }
   ],
   "source": [
    "d = Counter(all_feats_flat)\n",
    "d"
   ]
  },
  {
   "cell_type": "code",
   "execution_count": 39,
   "metadata": {},
   "outputs": [
    {
     "output_type": "execute_result",
     "data": {
      "text/plain": "{'ratio_sd2_sd1': 1,\n 'cvsd': 1,\n 'max_hr': 2,\n 'range_nni': 2,\n 'rmssd': 2,\n 'mean_hr': 3,\n 'median_nni': 3,\n 'Modified_csi': 3,\n 'min_hr': 3,\n 'mean_nni': 3,\n 'sdsd': 3,\n 'sd2': 4,\n 'cvi': 4,\n 'lf': 6,\n 'hf': 6,\n 'vlf': 6,\n 'sampen': 6,\n 'lf_hf_ratio': 6,\n 'sd1': 6}"
     },
     "metadata": {},
     "execution_count": 39
    }
   ],
   "source": [
    "{k: v for k, v in sorted(d.items(), key=lambda item: item[1])}"
   ]
  },
  {
   "cell_type": "markdown",
   "metadata": {},
   "source": [
    "## Loop over 68 Patients"
   ]
  },
  {
   "cell_type": "code",
   "execution_count": 64,
   "metadata": {},
   "outputs": [],
   "source": [
    "patients = ['11077', '7032', '4456', '9104', '302', '6440', '1770', '6514', '2521', '7128', '11869', '10106', '5943', '7252', '8476', '4892', '258', '5034', '9842', '281', '6413', '3401', '6083', '4671', '2991', '7584', '5452', '6811', '8480', '13103', '6507', '473', '11999', '675', '7793', '9994', '4151', '12759', '9934', '4473', '5625', '8453', '7235', '5479', '1113', '10427', '11321', '529', '7623', '1324', '2760', '5672', '574', '1413', '7835', '2484', '3884', '3635', '1891', '6103', '8204', '6986', '6139', '3306', '4126', '7458', '3760', '13095']"
   ]
  },
  {
   "cell_type": "code",
   "execution_count": 65,
   "metadata": {},
   "outputs": [
    {
     "output_type": "stream",
     "name": "stdout",
     "text": "11077  -> f1 score test full features:  0.5616438356164384\n7032  -> f1 score test full features:  0.979591836734694\n4456  -> f1 score test full features:  0.9014084507042254\n9104  -> f1 score test full features:  0.5802469135802469\n302  -> f1 score test full features:  0.7863247863247863\n6440  -> f1 score test full features:  0.6799999999999999\n1770  -> f1 score test full features:  1.0\n6514  -> f1 score test full features:  0.8181818181818182\n2521  -> f1 score test full features:  1.0\n7128  -> f1 score test full features:  0.6176470588235293\n11869  -> f1 score test full features:  0.46875\n10106  -> f1 score test full features:  0.5714285714285715\n5943  -> f1 score test full features:  0.8169014084507041\n7252  -> f1 score test full features:  0.9850746268656716\n8476  -> f1 score test full features:  0.72\n4892  -> f1 score test full features:  1.0\n258  -> f1 score test full features:  0.6451612903225806\n5034  -> f1 score test full features:  0.9824561403508771\n9842  -> f1 score test full features:  0.3636363636363636\n281  -> f1 score test full features:  1.0\n6413  -> f1 score test full features:  0.4444444444444445\n3401  -> f1 score test full features:  0.9130434782608695\n6083  -> f1 score test full features:  0.6086956521739131\n4671  -> f1 score test full features:  0.4166666666666667\n2991  -> f1 score test full features:  0.6000000000000001\n7584  -> f1 score test full features:  0.4347826086956522\n5452  -> f1 score test full features:  0.6666666666666667\n6811  -> f1 score test full features:  0.6153846153846154\n8480  -> f1 score test full features:  0.5\n13103  -> f1 score test full features:  0.5925925925925926\n6507  -> f1 score test full features:  0.64\n473  -> f1 score test full features:  0.6285714285714287\n11999  -> f1 score test full features:  0.7692307692307693\n675  -> f1 score test full features:  0.0\n7793  -> f1 score test full features:  0.6250000000000001\n9994  -> f1 score test full features:  0.0\n4151  -> f1 score test full features:  0.5333333333333333\n12759  -> f1 score test full features:  0.4\n9934  -> f1 score test full features:  0.6\n4473  -> f1 score test full features:  0.4444444444444444\n5625  -> f1 score test full features:  0.7272727272727272\n8453  -> f1 score test full features:  1.0\n7235  -> f1 score test full features:  0.5\n5479  -> f1 score test full features:  0.5454545454545454\n1113  -> f1 score test full features:  0.0\n10427  -> f1 score test full features:  0.0\n11321  -> f1 score test full features:  1.0\n529  -> f1 score test full features:  0.5\n7623  -> f1 score test full features:  0.7499999999999999\n1324  -> f1 score test full features:  0.3333333333333333\n2760  -> f1 score test full features:  0.28571428571428575\n5672  -> f1 score test full features:  0.6\n574  -> f1 score test full features:  0.6666666666666665\n1413  -> f1 score test full features:  0.0\n7835  -> f1 score test full features:  0.0\n2484  -> f1 score test full features:  0.5\n3884  -> f1 score test full features:  0.5\n3635  -> f1 score test full features:  0.0\n1891  -> f1 score test full features:  0.5\n6103  -> f1 score test full features:  1.0\n8204  -> f1 score test full features:  0.0\n6986  -> f1 score test full features:  1.0\n6139  -> f1 score test full features:  0.6666666666666666\n3306  -> f1 score test full features:  0.4\n4126  -> f1 score test full features:  0.0\n7458  -> f1 score test full features:  0.0\n3760  -> f1 score test full features:  0.0\n13095  -> f1 score test full features:  0.5\n"
    }
   ],
   "source": [
    "global_score = {}\n",
    "all_patients_score = {}\n",
    "for i in patients:\n",
    "    df = xqrs_clean_imputed[xqrs_clean_imputed.Key.str.contains(i)]\n",
    "    score, tree = simple_ml(df, DecisionTreeClassifier())\n",
    "    print(i, ' -> f1 score test full features: ', score['f1_score test'])\n",
    "\n",
    "    dic_feats_imp = dict(zip(df.iloc[:,1:-1].columns, \n",
    "                                tree.steps[1][1].feature_importances_))\n",
    "\n",
    "    feats_importance = pd.DataFrame(dic_feats_imp, \n",
    "                                    index=[0]).T.sort_values([0], \n",
    "                                    ascending=False).rename(columns={0: 'Importance'})\n",
    "    patient_score = {}\n",
    "    for z in range(len(feats_importance.index.tolist()), 6, -1):\n",
    "        score, model = simple_ml(df[['Key']  + feats_importance.index.tolist()[:z] \n",
    "                                             + ['label']], DecisionTreeClassifier())\n",
    "        patient_score[z] = score['f1_score test']\n",
    "\n",
    "    all_patients_score[i] = patient_score\n",
    "\n",
    "    max_key = max(patient_score.items(), key=operator.itemgetter(1))[0]\n",
    "    global_score[i] = {max_key: patient_score[max_key], \n",
    "                      'features': feats_importance.index.tolist()[:max_key]}"
   ]
  },
  {
   "cell_type": "code",
   "execution_count": 66,
   "metadata": {},
   "outputs": [],
   "source": [
    "all_feats = []\n",
    "for feats in global_score:\n",
    "    all_feats.append(global_score[feats]['features'])\n",
    "\n",
    "all_feats_flat = [item for sublist in all_feats for item in sublist]"
   ]
  },
  {
   "cell_type": "code",
   "execution_count": 67,
   "metadata": {},
   "outputs": [
    {
     "output_type": "execute_result",
     "data": {
      "text/plain": "{'sampen': 65,\n 'vlf': 64,\n 'lf': 63,\n 'lf_hf_ratio': 62,\n 'sd1': 62,\n 'hf': 59,\n 'Modified_csi': 56,\n 'cvi': 55,\n 'sd2': 55,\n 'mean_hr': 55,\n 'mean_nni': 54,\n 'min_hr': 54,\n 'median_nni': 53,\n 'csi': 53,\n 'std_hr': 53,\n 'rmssd': 52,\n 'cvsd': 51,\n 'sdnn': 51,\n 'max_hr': 50,\n 'cvnni': 49,\n 'sdsd': 48,\n 'range_nni': 46,\n 'pnni_20': 44,\n 'ratio_sd2_sd1': 44,\n 'nni_20': 42,\n 'pnni_50': 40,\n 'nni_50': 39}"
     },
     "metadata": {},
     "execution_count": 67
    }
   ],
   "source": [
    "d = Counter(all_feats_flat)\n",
    "counts = {k: v for k, v in sorted(d.items(), key=lambda item: item[1], reverse=True)}\n",
    "counts"
   ]
  },
  {
   "cell_type": "code",
   "execution_count": null,
   "metadata": {},
   "outputs": [],
   "source": []
  }
 ],
 "metadata": {
  "language_info": {
   "codemirror_mode": {
    "name": "ipython",
    "version": 3
   },
   "file_extension": ".py",
   "mimetype": "text/x-python",
   "name": "python",
   "nbconvert_exporter": "python",
   "pygments_lexer": "ipython3",
   "version": "3.8.2-final"
  },
  "orig_nbformat": 2,
  "kernelspec": {
   "name": "python38264bite34a56b6e9a44db4af76022ac3c795eb",
   "display_name": "Python 3.8.2 64-bit"
  }
 },
 "nbformat": 4,
 "nbformat_minor": 2
}