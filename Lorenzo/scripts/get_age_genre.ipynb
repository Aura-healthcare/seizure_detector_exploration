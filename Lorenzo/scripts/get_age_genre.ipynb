{
 "cells": [
  {
   "cell_type": "code",
   "execution_count": 200,
   "metadata": {},
   "outputs": [],
   "source": [
    "from pathlib import Path\n",
    "import re\n",
    "import pandas as pd\n",
    "import numpy as np"
   ]
  },
  {
   "cell_type": "code",
   "execution_count": 254,
   "metadata": {
    "tags": [
     "outputPrepend",
     "outputPrepend",
     "outputPrepend",
     "outputPrepend",
     "outputPrepend",
     "outputPrepend",
     "outputPrepend",
     "outputPrepend"
    ]
   },
   "outputs": [],
   "source": [
    "directory = '/home/zozi/Downloads/info-patients-v0_4/edf'\n",
    "\n",
    "df = pd.DataFrame()\n",
    "\n",
    "for path in Path(directory).rglob(f'*.txt'):\n",
    "    sub_df = pd.DataFrame(columns=['Patient', 'Age'], index=[0])\n",
    "    patient = path.parent.parent.name\n",
    "\n",
    "    try:\n",
    "        with open(path, 'r', encoding='utf-8') as f_open:\n",
    "            for line in f_open:\n",
    "                if line.startswith('CLINICAL HISTORY'):\n",
    "                    sub_df['path'] = path\n",
    "                    sub_df['Patient'] = path.parent.parent.name\n",
    "                    r = re.search(r'(\\d{1,2})[- ]', line)\n",
    "                    if r:\n",
    "                        sub_df['Age'] = r.group(1)\n",
    "                    \n",
    "                    r = re.search(r'woman|male|gentleman|female|man|toddler', line)\n",
    "                    if r:\n",
    "                        sub_df['Genre'] = r.group()\n",
    "                    \n",
    "                    df = df.append(sub_df)\n",
    "                        \n",
    "    except UnicodeDecodeError:\n",
    "        with open(path, 'r', encoding='cp1252') as f_open:\n",
    "            for line in f_open:\n",
    "                if line.startswith('CLINICAL HISTORY'):\n",
    "                    sub_df['path'] = path\n",
    "                    sub_df['Patient'] = path.parent.parent.name\n",
    "                    r = re.search(r'(\\d{1,2})[- ]', line)\n",
    "                    if r:\n",
    "                        sub_df['Age'] = r.group(1)\n",
    "                    \n",
    "                    r = re.search(r'woman|male|gentleman|female|man|toddler', line)\n",
    "                    if r:\n",
    "                        sub_df['Genre'] = r.group()\n",
    "                    \n",
    "                    df = df.append(sub_df)"
   ]
  },
  {
   "cell_type": "code",
   "execution_count": 255,
   "metadata": {},
   "outputs": [
    {
     "output_type": "execute_result",
     "data": {
      "text/plain": "Patient      0\nAge         72\npath         0\nGenre      101\ndtype: int64"
     },
     "metadata": {},
     "execution_count": 255
    }
   ],
   "source": [
    "df.isnull().sum()"
   ]
  },
  {
   "cell_type": "code",
   "execution_count": 256,
   "metadata": {},
   "outputs": [],
   "source": [
    "df.Age = df.Age.astype(float).groupby(df['Patient']).transform(lambda x: x.fillna(x.mean()))"
   ]
  },
  {
   "cell_type": "code",
   "execution_count": 257,
   "metadata": {},
   "outputs": [],
   "source": [
    "df.Genre = df['Genre'].groupby(df['Patient']).transform(lambda x: x.fillna(method ='bfill'))"
   ]
  },
  {
   "cell_type": "code",
   "execution_count": 258,
   "metadata": {},
   "outputs": [],
   "source": [
    "df.Genre = df['Genre'].groupby(df['Patient']).transform(lambda x: x.fillna(method ='ffill'))"
   ]
  },
  {
   "cell_type": "code",
   "execution_count": 259,
   "metadata": {},
   "outputs": [
    {
     "output_type": "execute_result",
     "data": {
      "text/plain": "Patient     0\nAge        30\npath        0\nGenre      50\ndtype: int64"
     },
     "metadata": {},
     "execution_count": 259
    }
   ],
   "source": [
    "df.isnull().sum()"
   ]
  },
  {
   "cell_type": "code",
   "execution_count": 260,
   "metadata": {},
   "outputs": [
    {
     "output_type": "stream",
     "name": "stdout",
     "text": "CLINICAL HISTORY: This is a 59-year-old woman with hypertension, diabetes, afib, status-post cardiac arrest the previous day.\n\n\n\nMEDICATIONS: Lisinopril, Amiodarone, Digoxin, others.\n\n\n\nINTRODUCTION: Digital video EEG is performed at the bedside in the ICU using standard 10-20 system of electrode placement with one channel of EKG. The patient is intubated and comatose without any motor signs whatsoever. Stimulation of the patient is performed.\n\n\n\nDESCRIPTION OF THE RECORD: The background EEG is markedly abnormal and does demonstrate variability.  The primary frequencies in the background are a mixture of theta and delta and there are some portions of the record that are richer than others in theta and.   There are frequent periodic epileptiform discharges identified in the frontotemporal regions bilaterally.  These are associated with theta frequency activity.  There is a somewhat poorly defined but ictal pattern identified in the record.  The pattern is one in which there is a theta frequency pattern, which makes the transition to a slightly discontinuous pattern and then a pattern of periodic epileptiform activity.  The actual on and off set of the activity is somewhat difficult to define and the seizure duration is one to two minutes. There are no clinical signs or symptoms associated with this.  The paroxysmal nature of the activity with waxing and waning is best seen at slow paper speeds.  There are no clinical features identified during these discharges and there seems to be no change in the patientÕs autonomic system. The patient is stimulated on one occasion during these discharges and there is no change in the background EEG.  Despite the difficulty with this pattern, there are at seven of these discharges in the recording, which is a 20-minute recording.\n\n\n\nHR:  84 BPM.\n\n\n\nIMPRESSION: Abnormal EEG due to:\n\n1. Post-anoxic patterns with discontinuity\n\n2. PLEDs,\n\n3. Seizures which evolve out of the PLEDs.\n\n\n\nCLINICAL CORRELATION: These seizures meet criteria for status epilepticus  Careful review of the history and exam is important. If these this pattern is post-anoxic in nature, prognosis is poor. These findings were discussed with the clinical team\n\n\n\n\n\n\n\n"
    }
   ],
   "source": [
    "with open('/home/zozi/Downloads/info-patients-v0_4/edf/train/02_tcp_le/007/00000752/s001_2003_05_16/00000752_s001.txt', 'r', encoding='cp1252') as f:\n",
    "    for line in f:\n",
    "        print(line)"
   ]
  },
  {
   "cell_type": "code",
   "execution_count": 261,
   "metadata": {},
   "outputs": [
    {
     "output_type": "execute_result",
     "data": {
      "text/plain": "[PosixPath('/home/zozi/Downloads/info-patients-v0_4/edf/train/02_tcp_le/007/00000752/s001_2003_05_16/00000752_s001.txt')]"
     },
     "metadata": {},
     "execution_count": 261
    }
   ],
   "source": [
    "df[df.Patient == '00000752'].path.tolist()"
   ]
  },
  {
   "cell_type": "code",
   "execution_count": 262,
   "metadata": {},
   "outputs": [],
   "source": [
    "clean_df = df.drop_duplicates(subset=['Patient'], keep='first')"
   ]
  },
  {
   "cell_type": "code",
   "execution_count": 263,
   "metadata": {},
   "outputs": [
    {
     "output_type": "execute_result",
     "data": {
      "text/plain": "Patient     0\nAge        18\npath        0\nGenre      40\ndtype: int64"
     },
     "metadata": {},
     "execution_count": 263
    }
   ],
   "source": [
    "clean_df.isnull().sum()"
   ]
  },
  {
   "cell_type": "code",
   "execution_count": 264,
   "metadata": {},
   "outputs": [
    {
     "output_type": "execute_result",
     "data": {
      "text/plain": "(554, 4)"
     },
     "metadata": {},
     "execution_count": 264
    }
   ],
   "source": [
    "clean_df.shape"
   ]
  },
  {
   "cell_type": "code",
   "execution_count": 265,
   "metadata": {},
   "outputs": [
    {
     "output_type": "execute_result",
     "data": {
      "text/plain": "     Patient   Age                                               path  \\\n0   00001027  50.0  /home/zozi/Downloads/info-patients-v0_4/edf/de...   \n0   00003635   6.0  /home/zozi/Downloads/info-patients-v0_4/edf/de...   \n0   00000795  27.0  /home/zozi/Downloads/info-patients-v0_4/edf/de...   \n0   00003306  13.0  /home/zozi/Downloads/info-patients-v0_4/edf/de...   \n0   00004671  22.0  /home/zozi/Downloads/info-patients-v0_4/edf/de...   \n..       ...   ...                                                ...   \n0   00008859  29.0  /home/zozi/Downloads/info-patients-v0_4/edf/tr...   \n0   00008829  48.0  /home/zozi/Downloads/info-patients-v0_4/edf/tr...   \n0   00008835  21.0  /home/zozi/Downloads/info-patients-v0_4/edf/tr...   \n0   00008886  81.0  /home/zozi/Downloads/info-patients-v0_4/edf/tr...   \n0   00005936  43.0  /home/zozi/Downloads/info-patients-v0_4/edf/tr...   \n\n        Genre  \n0        male  \n0        male  \n0        male  \n0      female  \n0   gentleman  \n..        ...  \n0       woman  \n0      female  \n0      female  \n0      female  \n0       woman  \n\n[554 rows x 4 columns]",
      "text/html": "<div>\n<style scoped>\n    .dataframe tbody tr th:only-of-type {\n        vertical-align: middle;\n    }\n\n    .dataframe tbody tr th {\n        vertical-align: top;\n    }\n\n    .dataframe thead th {\n        text-align: right;\n    }\n</style>\n<table border=\"1\" class=\"dataframe\">\n  <thead>\n    <tr style=\"text-align: right;\">\n      <th></th>\n      <th>Patient</th>\n      <th>Age</th>\n      <th>path</th>\n      <th>Genre</th>\n    </tr>\n  </thead>\n  <tbody>\n    <tr>\n      <th>0</th>\n      <td>00001027</td>\n      <td>50.0</td>\n      <td>/home/zozi/Downloads/info-patients-v0_4/edf/de...</td>\n      <td>male</td>\n    </tr>\n    <tr>\n      <th>0</th>\n      <td>00003635</td>\n      <td>6.0</td>\n      <td>/home/zozi/Downloads/info-patients-v0_4/edf/de...</td>\n      <td>male</td>\n    </tr>\n    <tr>\n      <th>0</th>\n      <td>00000795</td>\n      <td>27.0</td>\n      <td>/home/zozi/Downloads/info-patients-v0_4/edf/de...</td>\n      <td>male</td>\n    </tr>\n    <tr>\n      <th>0</th>\n      <td>00003306</td>\n      <td>13.0</td>\n      <td>/home/zozi/Downloads/info-patients-v0_4/edf/de...</td>\n      <td>female</td>\n    </tr>\n    <tr>\n      <th>0</th>\n      <td>00004671</td>\n      <td>22.0</td>\n      <td>/home/zozi/Downloads/info-patients-v0_4/edf/de...</td>\n      <td>gentleman</td>\n    </tr>\n    <tr>\n      <th>...</th>\n      <td>...</td>\n      <td>...</td>\n      <td>...</td>\n      <td>...</td>\n    </tr>\n    <tr>\n      <th>0</th>\n      <td>00008859</td>\n      <td>29.0</td>\n      <td>/home/zozi/Downloads/info-patients-v0_4/edf/tr...</td>\n      <td>woman</td>\n    </tr>\n    <tr>\n      <th>0</th>\n      <td>00008829</td>\n      <td>48.0</td>\n      <td>/home/zozi/Downloads/info-patients-v0_4/edf/tr...</td>\n      <td>female</td>\n    </tr>\n    <tr>\n      <th>0</th>\n      <td>00008835</td>\n      <td>21.0</td>\n      <td>/home/zozi/Downloads/info-patients-v0_4/edf/tr...</td>\n      <td>female</td>\n    </tr>\n    <tr>\n      <th>0</th>\n      <td>00008886</td>\n      <td>81.0</td>\n      <td>/home/zozi/Downloads/info-patients-v0_4/edf/tr...</td>\n      <td>female</td>\n    </tr>\n    <tr>\n      <th>0</th>\n      <td>00005936</td>\n      <td>43.0</td>\n      <td>/home/zozi/Downloads/info-patients-v0_4/edf/tr...</td>\n      <td>woman</td>\n    </tr>\n  </tbody>\n</table>\n<p>554 rows × 4 columns</p>\n</div>"
     },
     "metadata": {},
     "execution_count": 265
    }
   ],
   "source": [
    "clean_df"
   ]
  },
  {
   "cell_type": "code",
   "execution_count": 266,
   "metadata": {},
   "outputs": [],
   "source": [
    "clean_df[clean_df.Age.notna()].Age = clean_df[clean_df.Age.notna()].Age.astype(int)"
   ]
  },
  {
   "cell_type": "code",
   "execution_count": 267,
   "metadata": {},
   "outputs": [
    {
     "output_type": "execute_result",
     "data": {
      "text/plain": "     Patient   Age                                               path  \\\n0   00001027  50.0  /home/zozi/Downloads/info-patients-v0_4/edf/de...   \n0   00003635   6.0  /home/zozi/Downloads/info-patients-v0_4/edf/de...   \n0   00000795  27.0  /home/zozi/Downloads/info-patients-v0_4/edf/de...   \n0   00003306  13.0  /home/zozi/Downloads/info-patients-v0_4/edf/de...   \n0   00004671  22.0  /home/zozi/Downloads/info-patients-v0_4/edf/de...   \n..       ...   ...                                                ...   \n0   00008859  29.0  /home/zozi/Downloads/info-patients-v0_4/edf/tr...   \n0   00008829  48.0  /home/zozi/Downloads/info-patients-v0_4/edf/tr...   \n0   00008835  21.0  /home/zozi/Downloads/info-patients-v0_4/edf/tr...   \n0   00008886  81.0  /home/zozi/Downloads/info-patients-v0_4/edf/tr...   \n0   00005936  43.0  /home/zozi/Downloads/info-patients-v0_4/edf/tr...   \n\n        Genre  \n0        male  \n0        male  \n0        male  \n0      female  \n0   gentleman  \n..        ...  \n0       woman  \n0      female  \n0      female  \n0      female  \n0       woman  \n\n[554 rows x 4 columns]",
      "text/html": "<div>\n<style scoped>\n    .dataframe tbody tr th:only-of-type {\n        vertical-align: middle;\n    }\n\n    .dataframe tbody tr th {\n        vertical-align: top;\n    }\n\n    .dataframe thead th {\n        text-align: right;\n    }\n</style>\n<table border=\"1\" class=\"dataframe\">\n  <thead>\n    <tr style=\"text-align: right;\">\n      <th></th>\n      <th>Patient</th>\n      <th>Age</th>\n      <th>path</th>\n      <th>Genre</th>\n    </tr>\n  </thead>\n  <tbody>\n    <tr>\n      <th>0</th>\n      <td>00001027</td>\n      <td>50.0</td>\n      <td>/home/zozi/Downloads/info-patients-v0_4/edf/de...</td>\n      <td>male</td>\n    </tr>\n    <tr>\n      <th>0</th>\n      <td>00003635</td>\n      <td>6.0</td>\n      <td>/home/zozi/Downloads/info-patients-v0_4/edf/de...</td>\n      <td>male</td>\n    </tr>\n    <tr>\n      <th>0</th>\n      <td>00000795</td>\n      <td>27.0</td>\n      <td>/home/zozi/Downloads/info-patients-v0_4/edf/de...</td>\n      <td>male</td>\n    </tr>\n    <tr>\n      <th>0</th>\n      <td>00003306</td>\n      <td>13.0</td>\n      <td>/home/zozi/Downloads/info-patients-v0_4/edf/de...</td>\n      <td>female</td>\n    </tr>\n    <tr>\n      <th>0</th>\n      <td>00004671</td>\n      <td>22.0</td>\n      <td>/home/zozi/Downloads/info-patients-v0_4/edf/de...</td>\n      <td>gentleman</td>\n    </tr>\n    <tr>\n      <th>...</th>\n      <td>...</td>\n      <td>...</td>\n      <td>...</td>\n      <td>...</td>\n    </tr>\n    <tr>\n      <th>0</th>\n      <td>00008859</td>\n      <td>29.0</td>\n      <td>/home/zozi/Downloads/info-patients-v0_4/edf/tr...</td>\n      <td>woman</td>\n    </tr>\n    <tr>\n      <th>0</th>\n      <td>00008829</td>\n      <td>48.0</td>\n      <td>/home/zozi/Downloads/info-patients-v0_4/edf/tr...</td>\n      <td>female</td>\n    </tr>\n    <tr>\n      <th>0</th>\n      <td>00008835</td>\n      <td>21.0</td>\n      <td>/home/zozi/Downloads/info-patients-v0_4/edf/tr...</td>\n      <td>female</td>\n    </tr>\n    <tr>\n      <th>0</th>\n      <td>00008886</td>\n      <td>81.0</td>\n      <td>/home/zozi/Downloads/info-patients-v0_4/edf/tr...</td>\n      <td>female</td>\n    </tr>\n    <tr>\n      <th>0</th>\n      <td>00005936</td>\n      <td>43.0</td>\n      <td>/home/zozi/Downloads/info-patients-v0_4/edf/tr...</td>\n      <td>woman</td>\n    </tr>\n  </tbody>\n</table>\n<p>554 rows × 4 columns</p>\n</div>"
     },
     "metadata": {},
     "execution_count": 267
    }
   ],
   "source": [
    "clean_df"
   ]
  },
  {
   "cell_type": "code",
   "execution_count": 268,
   "metadata": {},
   "outputs": [],
   "source": [
    "clean_df.to_csv('../to_csv/age/age_gender_by_patient.csv', index=False)"
   ]
  },
  {
   "cell_type": "code",
   "execution_count": 245,
   "metadata": {},
   "outputs": [
    {
     "output_type": "execute_result",
     "data": {
      "text/plain": "    Patient   Age                                               path Genre\n0  00008174  91.0  /home/zozi/Downloads/info-patients-v0_4/edf/de...   NaN\n0  00004208  89.0  /home/zozi/Downloads/info-patients-v0_4/edf/tr...   NaN\n0  00000900   8.0  /home/zozi/Downloads/info-patients-v0_4/edf/tr...   NaN\n0  00001795   9.0  /home/zozi/Downloads/info-patients-v0_4/edf/tr...   NaN\n0  00004719  72.0  /home/zozi/Downloads/info-patients-v0_4/edf/tr...   NaN\n0  00002214   6.0  /home/zozi/Downloads/info-patients-v0_4/edf/tr...   NaN\n0  00002232   9.0  /home/zozi/Downloads/info-patients-v0_4/edf/tr...   NaN\n0  00005180  43.0  /home/zozi/Downloads/info-patients-v0_4/edf/tr...   NaN\n0  00005103  22.0  /home/zozi/Downloads/info-patients-v0_4/edf/tr...   NaN\n0  00002126   3.0  /home/zozi/Downloads/info-patients-v0_4/edf/tr...   NaN\n0  00002500  16.0  /home/zozi/Downloads/info-patients-v0_4/edf/tr...   NaN\n0  00002543  42.0  /home/zozi/Downloads/info-patients-v0_4/edf/tr...   NaN\n0  00004338  18.0  /home/zozi/Downloads/info-patients-v0_4/edf/tr...   NaN\n0  00005346   NaN  /home/zozi/Downloads/info-patients-v0_4/edf/tr...   NaN\n0  00001690   7.0  /home/zozi/Downloads/info-patients-v0_4/edf/tr...   NaN\n0  00004025  38.0  /home/zozi/Downloads/info-patients-v0_4/edf/tr...   NaN\n0  00005096  65.0  /home/zozi/Downloads/info-patients-v0_4/edf/tr...   NaN\n0  00006771  49.0  /home/zozi/Downloads/info-patients-v0_4/edf/tr...   NaN\n0  00000255   9.0  /home/zozi/Downloads/info-patients-v0_4/edf/tr...   NaN\n0  00005476  72.0  /home/zozi/Downloads/info-patients-v0_4/edf/tr...   NaN\n0  00005660  46.0  /home/zozi/Downloads/info-patients-v0_4/edf/tr...   NaN\n0  00006648  47.0  /home/zozi/Downloads/info-patients-v0_4/edf/tr...   NaN\n0  00003592   6.0  /home/zozi/Downloads/info-patients-v0_4/edf/tr...   NaN\n0  00012418   NaN  /home/zozi/Downloads/info-patients-v0_4/edf/tr...   NaN\n0  00008527  52.0  /home/zozi/Downloads/info-patients-v0_4/edf/tr...   NaN\n0  00009906   NaN  /home/zozi/Downloads/info-patients-v0_4/edf/tr...   NaN\n0  00009352  21.0  /home/zozi/Downloads/info-patients-v0_4/edf/tr...   NaN\n0  00008345   NaN  /home/zozi/Downloads/info-patients-v0_4/edf/tr...   NaN\n0  00013011  19.0  /home/zozi/Downloads/info-patients-v0_4/edf/tr...   NaN\n0  00009528  22.0  /home/zozi/Downloads/info-patients-v0_4/edf/tr...   NaN\n0  00011379  60.0  /home/zozi/Downloads/info-patients-v0_4/edf/tr...   NaN\n0  00011333   NaN  /home/zozi/Downloads/info-patients-v0_4/edf/tr...   NaN\n0  00009455   NaN  /home/zozi/Downloads/info-patients-v0_4/edf/tr...   NaN\n0  00008164  28.0  /home/zozi/Downloads/info-patients-v0_4/edf/tr...   NaN\n0  00009107  27.0  /home/zozi/Downloads/info-patients-v0_4/edf/tr...   NaN\n0  00010555   NaN  /home/zozi/Downloads/info-patients-v0_4/edf/tr...   NaN\n0  00007555   NaN  /home/zozi/Downloads/info-patients-v0_4/edf/tr...   NaN\n0  00010268   NaN  /home/zozi/Downloads/info-patients-v0_4/edf/tr...   NaN\n0  00006774   NaN  /home/zozi/Downloads/info-patients-v0_4/edf/tr...   NaN\n0  00001204  47.0  /home/zozi/Downloads/info-patients-v0_4/edf/tr...   NaN",
      "text/html": "<div>\n<style scoped>\n    .dataframe tbody tr th:only-of-type {\n        vertical-align: middle;\n    }\n\n    .dataframe tbody tr th {\n        vertical-align: top;\n    }\n\n    .dataframe thead th {\n        text-align: right;\n    }\n</style>\n<table border=\"1\" class=\"dataframe\">\n  <thead>\n    <tr style=\"text-align: right;\">\n      <th></th>\n      <th>Patient</th>\n      <th>Age</th>\n      <th>path</th>\n      <th>Genre</th>\n    </tr>\n  </thead>\n  <tbody>\n    <tr>\n      <th>0</th>\n      <td>00008174</td>\n      <td>91.0</td>\n      <td>/home/zozi/Downloads/info-patients-v0_4/edf/de...</td>\n      <td>NaN</td>\n    </tr>\n    <tr>\n      <th>0</th>\n      <td>00004208</td>\n      <td>89.0</td>\n      <td>/home/zozi/Downloads/info-patients-v0_4/edf/tr...</td>\n      <td>NaN</td>\n    </tr>\n    <tr>\n      <th>0</th>\n      <td>00000900</td>\n      <td>8.0</td>\n      <td>/home/zozi/Downloads/info-patients-v0_4/edf/tr...</td>\n      <td>NaN</td>\n    </tr>\n    <tr>\n      <th>0</th>\n      <td>00001795</td>\n      <td>9.0</td>\n      <td>/home/zozi/Downloads/info-patients-v0_4/edf/tr...</td>\n      <td>NaN</td>\n    </tr>\n    <tr>\n      <th>0</th>\n      <td>00004719</td>\n      <td>72.0</td>\n      <td>/home/zozi/Downloads/info-patients-v0_4/edf/tr...</td>\n      <td>NaN</td>\n    </tr>\n    <tr>\n      <th>0</th>\n      <td>00002214</td>\n      <td>6.0</td>\n      <td>/home/zozi/Downloads/info-patients-v0_4/edf/tr...</td>\n      <td>NaN</td>\n    </tr>\n    <tr>\n      <th>0</th>\n      <td>00002232</td>\n      <td>9.0</td>\n      <td>/home/zozi/Downloads/info-patients-v0_4/edf/tr...</td>\n      <td>NaN</td>\n    </tr>\n    <tr>\n      <th>0</th>\n      <td>00005180</td>\n      <td>43.0</td>\n      <td>/home/zozi/Downloads/info-patients-v0_4/edf/tr...</td>\n      <td>NaN</td>\n    </tr>\n    <tr>\n      <th>0</th>\n      <td>00005103</td>\n      <td>22.0</td>\n      <td>/home/zozi/Downloads/info-patients-v0_4/edf/tr...</td>\n      <td>NaN</td>\n    </tr>\n    <tr>\n      <th>0</th>\n      <td>00002126</td>\n      <td>3.0</td>\n      <td>/home/zozi/Downloads/info-patients-v0_4/edf/tr...</td>\n      <td>NaN</td>\n    </tr>\n    <tr>\n      <th>0</th>\n      <td>00002500</td>\n      <td>16.0</td>\n      <td>/home/zozi/Downloads/info-patients-v0_4/edf/tr...</td>\n      <td>NaN</td>\n    </tr>\n    <tr>\n      <th>0</th>\n      <td>00002543</td>\n      <td>42.0</td>\n      <td>/home/zozi/Downloads/info-patients-v0_4/edf/tr...</td>\n      <td>NaN</td>\n    </tr>\n    <tr>\n      <th>0</th>\n      <td>00004338</td>\n      <td>18.0</td>\n      <td>/home/zozi/Downloads/info-patients-v0_4/edf/tr...</td>\n      <td>NaN</td>\n    </tr>\n    <tr>\n      <th>0</th>\n      <td>00005346</td>\n      <td>NaN</td>\n      <td>/home/zozi/Downloads/info-patients-v0_4/edf/tr...</td>\n      <td>NaN</td>\n    </tr>\n    <tr>\n      <th>0</th>\n      <td>00001690</td>\n      <td>7.0</td>\n      <td>/home/zozi/Downloads/info-patients-v0_4/edf/tr...</td>\n      <td>NaN</td>\n    </tr>\n    <tr>\n      <th>0</th>\n      <td>00004025</td>\n      <td>38.0</td>\n      <td>/home/zozi/Downloads/info-patients-v0_4/edf/tr...</td>\n      <td>NaN</td>\n    </tr>\n    <tr>\n      <th>0</th>\n      <td>00005096</td>\n      <td>65.0</td>\n      <td>/home/zozi/Downloads/info-patients-v0_4/edf/tr...</td>\n      <td>NaN</td>\n    </tr>\n    <tr>\n      <th>0</th>\n      <td>00006771</td>\n      <td>49.0</td>\n      <td>/home/zozi/Downloads/info-patients-v0_4/edf/tr...</td>\n      <td>NaN</td>\n    </tr>\n    <tr>\n      <th>0</th>\n      <td>00000255</td>\n      <td>9.0</td>\n      <td>/home/zozi/Downloads/info-patients-v0_4/edf/tr...</td>\n      <td>NaN</td>\n    </tr>\n    <tr>\n      <th>0</th>\n      <td>00005476</td>\n      <td>72.0</td>\n      <td>/home/zozi/Downloads/info-patients-v0_4/edf/tr...</td>\n      <td>NaN</td>\n    </tr>\n    <tr>\n      <th>0</th>\n      <td>00005660</td>\n      <td>46.0</td>\n      <td>/home/zozi/Downloads/info-patients-v0_4/edf/tr...</td>\n      <td>NaN</td>\n    </tr>\n    <tr>\n      <th>0</th>\n      <td>00006648</td>\n      <td>47.0</td>\n      <td>/home/zozi/Downloads/info-patients-v0_4/edf/tr...</td>\n      <td>NaN</td>\n    </tr>\n    <tr>\n      <th>0</th>\n      <td>00003592</td>\n      <td>6.0</td>\n      <td>/home/zozi/Downloads/info-patients-v0_4/edf/tr...</td>\n      <td>NaN</td>\n    </tr>\n    <tr>\n      <th>0</th>\n      <td>00012418</td>\n      <td>NaN</td>\n      <td>/home/zozi/Downloads/info-patients-v0_4/edf/tr...</td>\n      <td>NaN</td>\n    </tr>\n    <tr>\n      <th>0</th>\n      <td>00008527</td>\n      <td>52.0</td>\n      <td>/home/zozi/Downloads/info-patients-v0_4/edf/tr...</td>\n      <td>NaN</td>\n    </tr>\n    <tr>\n      <th>0</th>\n      <td>00009906</td>\n      <td>NaN</td>\n      <td>/home/zozi/Downloads/info-patients-v0_4/edf/tr...</td>\n      <td>NaN</td>\n    </tr>\n    <tr>\n      <th>0</th>\n      <td>00009352</td>\n      <td>21.0</td>\n      <td>/home/zozi/Downloads/info-patients-v0_4/edf/tr...</td>\n      <td>NaN</td>\n    </tr>\n    <tr>\n      <th>0</th>\n      <td>00008345</td>\n      <td>NaN</td>\n      <td>/home/zozi/Downloads/info-patients-v0_4/edf/tr...</td>\n      <td>NaN</td>\n    </tr>\n    <tr>\n      <th>0</th>\n      <td>00013011</td>\n      <td>19.0</td>\n      <td>/home/zozi/Downloads/info-patients-v0_4/edf/tr...</td>\n      <td>NaN</td>\n    </tr>\n    <tr>\n      <th>0</th>\n      <td>00009528</td>\n      <td>22.0</td>\n      <td>/home/zozi/Downloads/info-patients-v0_4/edf/tr...</td>\n      <td>NaN</td>\n    </tr>\n    <tr>\n      <th>0</th>\n      <td>00011379</td>\n      <td>60.0</td>\n      <td>/home/zozi/Downloads/info-patients-v0_4/edf/tr...</td>\n      <td>NaN</td>\n    </tr>\n    <tr>\n      <th>0</th>\n      <td>00011333</td>\n      <td>NaN</td>\n      <td>/home/zozi/Downloads/info-patients-v0_4/edf/tr...</td>\n      <td>NaN</td>\n    </tr>\n    <tr>\n      <th>0</th>\n      <td>00009455</td>\n      <td>NaN</td>\n      <td>/home/zozi/Downloads/info-patients-v0_4/edf/tr...</td>\n      <td>NaN</td>\n    </tr>\n    <tr>\n      <th>0</th>\n      <td>00008164</td>\n      <td>28.0</td>\n      <td>/home/zozi/Downloads/info-patients-v0_4/edf/tr...</td>\n      <td>NaN</td>\n    </tr>\n    <tr>\n      <th>0</th>\n      <td>00009107</td>\n      <td>27.0</td>\n      <td>/home/zozi/Downloads/info-patients-v0_4/edf/tr...</td>\n      <td>NaN</td>\n    </tr>\n    <tr>\n      <th>0</th>\n      <td>00010555</td>\n      <td>NaN</td>\n      <td>/home/zozi/Downloads/info-patients-v0_4/edf/tr...</td>\n      <td>NaN</td>\n    </tr>\n    <tr>\n      <th>0</th>\n      <td>00007555</td>\n      <td>NaN</td>\n      <td>/home/zozi/Downloads/info-patients-v0_4/edf/tr...</td>\n      <td>NaN</td>\n    </tr>\n    <tr>\n      <th>0</th>\n      <td>00010268</td>\n      <td>NaN</td>\n      <td>/home/zozi/Downloads/info-patients-v0_4/edf/tr...</td>\n      <td>NaN</td>\n    </tr>\n    <tr>\n      <th>0</th>\n      <td>00006774</td>\n      <td>NaN</td>\n      <td>/home/zozi/Downloads/info-patients-v0_4/edf/tr...</td>\n      <td>NaN</td>\n    </tr>\n    <tr>\n      <th>0</th>\n      <td>00001204</td>\n      <td>47.0</td>\n      <td>/home/zozi/Downloads/info-patients-v0_4/edf/tr...</td>\n      <td>NaN</td>\n    </tr>\n  </tbody>\n</table>\n</div>"
     },
     "metadata": {},
     "execution_count": 245
    }
   ],
   "source": [
    "clean_df[clean_df.Genre.isnull()]"
   ]
  },
  {
   "cell_type": "code",
   "execution_count": 124,
   "metadata": {},
   "outputs": [
    {
     "output_type": "execute_result",
     "data": {
      "text/plain": "556"
     },
     "metadata": {},
     "execution_count": 124
    }
   ],
   "source": [
    "len(df.Patient.unique())"
   ]
  },
  {
   "cell_type": "code",
   "execution_count": 125,
   "metadata": {},
   "outputs": [
    {
     "output_type": "execute_result",
     "data": {
      "text/plain": "(1165, 4)"
     },
     "metadata": {},
     "execution_count": 125
    }
   ],
   "source": [
    "df.shape"
   ]
  },
  {
   "cell_type": "code",
   "execution_count": 136,
   "metadata": {},
   "outputs": [
    {
     "output_type": "execute_result",
     "data": {
      "text/plain": "    Patient Age                                               path Genre\n0  00002991  62  /home/zozi/Downloads/info-patients-v0_4/edf/tr...  male\n0  00002991  59  /home/zozi/Downloads/info-patients-v0_4/edf/tr...  male\n0  00002991  63  /home/zozi/Downloads/info-patients-v0_4/edf/tr...  male\n0  00002991  63  /home/zozi/Downloads/info-patients-v0_4/edf/tr...  male\n0  00002991  63  /home/zozi/Downloads/info-patients-v0_4/edf/tr...  male",
      "text/html": "<div>\n<style scoped>\n    .dataframe tbody tr th:only-of-type {\n        vertical-align: middle;\n    }\n\n    .dataframe tbody tr th {\n        vertical-align: top;\n    }\n\n    .dataframe thead th {\n        text-align: right;\n    }\n</style>\n<table border=\"1\" class=\"dataframe\">\n  <thead>\n    <tr style=\"text-align: right;\">\n      <th></th>\n      <th>Patient</th>\n      <th>Age</th>\n      <th>path</th>\n      <th>Genre</th>\n    </tr>\n  </thead>\n  <tbody>\n    <tr>\n      <th>0</th>\n      <td>00002991</td>\n      <td>62</td>\n      <td>/home/zozi/Downloads/info-patients-v0_4/edf/tr...</td>\n      <td>male</td>\n    </tr>\n    <tr>\n      <th>0</th>\n      <td>00002991</td>\n      <td>59</td>\n      <td>/home/zozi/Downloads/info-patients-v0_4/edf/tr...</td>\n      <td>male</td>\n    </tr>\n    <tr>\n      <th>0</th>\n      <td>00002991</td>\n      <td>63</td>\n      <td>/home/zozi/Downloads/info-patients-v0_4/edf/tr...</td>\n      <td>male</td>\n    </tr>\n    <tr>\n      <th>0</th>\n      <td>00002991</td>\n      <td>63</td>\n      <td>/home/zozi/Downloads/info-patients-v0_4/edf/tr...</td>\n      <td>male</td>\n    </tr>\n    <tr>\n      <th>0</th>\n      <td>00002991</td>\n      <td>63</td>\n      <td>/home/zozi/Downloads/info-patients-v0_4/edf/tr...</td>\n      <td>male</td>\n    </tr>\n  </tbody>\n</table>\n</div>"
     },
     "metadata": {},
     "execution_count": 136
    }
   ],
   "source": [
    "df[df.Patient == '00002991']"
   ]
  },
  {
   "cell_type": "code",
   "execution_count": null,
   "metadata": {},
   "outputs": [],
   "source": []
  },
  {
   "cell_type": "code",
   "execution_count": 128,
   "metadata": {},
   "outputs": [
    {
     "output_type": "execute_result",
     "data": {
      "text/plain": "{'00009578': 30,\n '00006514': 20,\n '00006546': 18,\n '00008295': 13,\n '00008453': 11,\n '00005427': 11,\n '00009623': 11,\n '00009839': 10,\n '00008544': 9,\n '00010062': 9,\n '00008552': 9,\n '00010418': 9,\n '00009158': 9,\n '00002289': 8,\n '00008512': 8,\n '00000883': 8,\n '00007032': 8,\n '00010489': 8,\n '00005479': 7,\n '00009994': 7,\n '00009245': 7,\n '00006440': 7,\n '00006059': 6,\n '00009697': 6,\n '00010022': 6,\n '00010639': 6,\n '00006811': 6,\n '00007235': 6,\n '00000906': 6,\n '00011972': 6,\n '00007936': 6,\n '00008738': 6,\n '00008303': 6,\n '00002348': 6,\n '00006535': 6,\n '00008480': 6,\n '00008476': 6,\n '00004087': 5,\n '00009866': 5,\n '00008889': 5,\n '00006904': 5,\n '00005765': 5,\n '00002991': 5,\n '00002521': 5,\n '00000492': 5,\n '00000254': 5,\n '00006230': 5,\n '00012262': 5,\n '00010480': 5,\n '00012229': 5,\n '00009231': 5,\n '00006455': 5,\n '00010591': 5,\n '00010209': 5,\n '00001027': 4,\n '00004671': 4,\n '00004594': 4,\n '00001981': 4,\n '00000258': 4,\n '00010106': 4,\n '00008460': 4,\n '00008479': 4,\n '00007633': 4,\n '00001006': 4,\n '00005554': 4,\n '00003101': 4,\n '00004473': 4,\n '00000526': 4,\n '00000529': 4,\n '00005101': 4,\n '00005371': 4,\n '00000002': 4,\n '00004569': 4,\n '00007170': 4,\n '00012484': 4,\n '00010158': 4,\n '00009932': 4,\n '00010455': 4,\n '00007773': 4,\n '00012742': 4,\n '00003437': 4,\n '00009232': 4,\n '00011379': 4,\n '00007122': 4,\n '00008444': 4,\n '00010563': 4,\n '00001770': 3,\n '00002297': 3,\n '00000629': 3,\n '00001278': 3,\n '00005943': 3,\n '00009570': 3,\n '00005672': 3,\n '00004434': 3,\n '00004456': 3,\n '00006083': 3,\n '00002806': 3,\n '00002868': 3,\n '00000418': 3,\n '00006413': 3,\n '00007128': 3,\n '00001413': 3,\n '00005426': 3,\n '00008029': 3,\n '00008053': 3,\n '00003995': 3,\n '00007092': 3,\n '00007584': 3,\n '00008527': 3,\n '00005533': 3,\n '00007929': 3,\n '00012960': 3,\n '00012707': 3,\n '00005740': 3,\n '00009630': 3,\n '00009297': 3,\n '00000458': 3,\n '00011333': 3,\n '00006444': 3,\n '00008481': 3,\n '00010549': 3,\n '00009880': 3,\n '00005625': 2,\n '00000675': 2,\n '00004151': 2,\n '00005031': 2,\n '00003281': 2,\n '00006900': 2,\n '00006986': 2,\n '00008174': 2,\n '00009842': 2,\n '00003849': 2,\n '00001113': 2,\n '00000302': 2,\n '00005804': 2,\n '00001753': 2,\n '00004523': 2,\n '00007234': 2,\n '00007252': 2,\n '00006087': 2,\n '00000850': 2,\n '00000574': 2,\n '00006134': 2,\n '00002707': 2,\n '00000473': 2,\n '00000499': 2,\n '00002484': 2,\n '00007307': 2,\n '00003005': 2,\n '00000609': 2,\n '00004126': 2,\n '00000077': 2,\n '00001587': 2,\n '00001543': 2,\n '00000244': 2,\n '00005265': 2,\n '00005275': 2,\n '00005476': 2,\n '00005452': 2,\n '00003156': 2,\n '00002042': 2,\n '00006000': 2,\n '00007793': 2,\n '00006103': 2,\n '00006175': 2,\n '00002886': 2,\n '00007828': 2,\n '00001642': 2,\n '00009162': 2,\n '00006520': 2,\n '00006529': 2,\n '00005044': 2,\n '00003282': 2,\n '00010135': 2,\n '00010164': 2,\n '00008092': 2,\n '00009934': 2,\n '00005649': 2,\n '00011974': 2,\n '00011272': 2,\n '00011562': 2,\n '00008971': 2,\n '00005169': 2,\n '00009669': 2,\n '00009540': 2,\n '00002384': 2,\n '00008643': 2,\n '00008660': 2,\n '00008615': 2,\n '00006864': 2,\n '00008143': 2,\n '00009152': 2,\n '00006563': 2,\n '00007130': 2,\n '00010020': 2,\n '00010023': 2,\n '00010736': 2,\n '00010555': 2,\n '00010551': 2,\n '00010587': 2,\n '00010584': 2,\n '00000272': 2,\n '00009852': 2,\n '00007617': 2,\n '00008829': 2,\n '00003635': 1,\n '00000795': 1,\n '00003306': 1,\n '00001640': 1,\n '00001984': 1,\n '00005213': 1,\n '00008550': 1,\n '00008606': 1,\n '00010547': 1,\n '00001046': 1,\n '00001026': 1,\n '00001081': 1,\n '00001050': 1,\n '00006351': 1,\n '00006352': 1,\n '00001878': 1,\n '00001843': 1,\n '00001891': 1,\n '00001864': 1,\n '00003668': 1,\n '00003674': 1,\n '00003884': 1,\n '00003843': 1,\n '00003885': 1,\n '00000762': 1,\n '00000704': 1,\n '00000775': 1,\n '00000752': 1,\n '00000705': 1,\n '00001169': 1,\n '00001188': 1,\n '00001116': 1,\n '00000327': 1,\n '00005526': 1,\n '00005575': 1,\n '00004294': 1,\n '00004220': 1,\n '00004208': 1,\n '00003346': 1,\n '00003318': 1,\n '00004692': 1,\n '00004657': 1,\n '00000900': 1,\n '00000940': 1,\n '00000922': 1,\n '00000908': 1,\n '00001797': 1,\n '00001781': 1,\n '00001795': 1,\n '00004512': 1,\n '00004596': 1,\n '00004526': 1,\n '00002614': 1,\n '00002657': 1,\n '00007255': 1,\n '00003144': 1,\n '00002000': 1,\n '00002044': 1,\n '00002021': 1,\n '00002056': 1,\n '00002051': 1,\n '00004759': 1,\n '00004799': 1,\n '00004719': 1,\n '00004746': 1,\n '00004774': 1,\n '00004921': 1,\n '00000820': 1,\n '00000827': 1,\n '00000502': 1,\n '00000576': 1,\n '00002214': 1,\n '00002235': 1,\n '00002236': 1,\n '00002225': 1,\n '00002232': 1,\n '00002260': 1,\n '00005180': 1,\n '00005103': 1,\n '00005183': 1,\n '00005130': 1,\n '00005762': 1,\n '00003960': 1,\n '00003988': 1,\n '00003977': 1,\n '00001317': 1,\n '00001369': 1,\n '00001331': 1,\n '00001349': 1,\n '00001357': 1,\n '00003489': 1,\n '00003419': 1,\n '00003401': 1,\n '00002921': 1,\n '00006139': 1,\n '00004842': 1,\n '00004801': 1,\n '00004836': 1,\n '00004803': 1,\n '00004892': 1,\n '00004865': 1,\n '00004841': 1,\n '00002126': 1,\n '00002827': 1,\n '00002847': 1,\n '00002881': 1,\n '00002807': 1,\n '00003546': 1,\n '00002500': 1,\n '00002543': 1,\n '00002796': 1,\n '00002752': 1,\n '00002724': 1,\n '00002760': 1,\n '00000404': 1,\n '00000427': 1,\n '00007835': 1,\n '00004338': 1,\n '00004374': 1,\n '00002394': 1,\n '00005346': 1,\n '00005301': 1,\n '00005347': 1,\n '00005300': 1,\n '00005323': 1,\n '00001698': 1,\n '00001653': 1,\n '00001605': 1,\n '00001681': 1,\n '00001620': 1,\n '00001690': 1,\n '00006507': 1,\n '00006501': 1,\n '00006544': 1,\n '00007067': 1,\n '00002448': 1,\n '00002478': 1,\n '00002445': 1,\n '00003053': 1,\n '00003038': 1,\n '00003011': 1,\n '00003036': 1,\n '00003061': 1,\n '00006482': 1,\n '00006408': 1,\n '00000604': 1,\n '00007108': 1,\n '00000107': 1,\n '00000148': 1,\n '00000175': 1,\n '00000143': 1,\n '00000184': 1,\n '00004141': 1,\n '00004185': 1,\n '00007446': 1,\n '00000017': 1,\n '00000021': 1,\n '00000054': 1,\n '00000032': 1,\n '00001945': 1,\n '00001986': 1,\n '00004025': 1,\n '00004030': 1,\n '00004041': 1,\n '00004047': 1,\n '00004045': 1,\n '00005096': 1,\n '00005034': 1,\n '00005025': 1,\n '00005095': 1,\n '00001545': 1,\n '00001503': 1,\n '00001548': 1,\n '00006771': 1,\n '00000287': 1,\n '00000216': 1,\n '00000281': 1,\n '00000255': 1,\n '00000289': 1,\n '00001402': 1,\n '00001479': 1,\n '00005208': 1,\n '00005233': 1,\n '00003284': 1,\n '00003208': 1,\n '00001291': 1,\n '00001217': 1,\n '00001267': 1,\n '00007623': 1,\n '00005512': 1,\n '00008018': 1,\n '00003319': 1,\n '00000929': 1,\n '00000975': 1,\n '00005660': 1,\n '00005633': 1,\n '00005605': 1,\n '00004552': 1,\n '00007221': 1,\n '00007264': 1,\n '00003127': 1,\n '00007771': 1,\n '00007797': 1,\n '00012957': 1,\n '00006648': 1,\n '00006251': 1,\n '00006107': 1,\n '00003592': 1,\n '00007802': 1,\n '00002365': 1,\n '00006561': 1,\n '00007196': 1,\n '00012418': 1,\n '00004008': 1,\n '00003210': 1,\n '00001246': 1,\n '00001034': 1,\n '00010104': 1,\n '00010301': 1,\n '00010321': 1,\n '00010364': 1,\n '00001820': 1,\n '00001851': 1,\n '00008573': 1,\n '00008579': 1,\n '00008561': 1,\n '00008574': 1,\n '00008056': 1,\n '00009906': 1,\n '00000924': 1,\n '00011981': 1,\n '00007296': 1,\n '00007216': 1,\n '00007279': 1,\n '00009030': 1,\n '00009097': 1,\n '00009044': 1,\n '00009050': 1,\n '00011248': 1,\n '00012046': 1,\n '00009734': 1,\n '00009762': 1,\n '00011596': 1,\n '00011575': 1,\n '00010435': 1,\n '00010461': 1,\n '00010427': 1,\n '00010412': 1,\n '00010450': 1,\n '00010421': 1,\n '00009347': 1,\n '00009352': 1,\n '00009307': 1,\n '00009370': 1,\n '00008760': 1,\n '00008706': 1,\n '00008730': 1,\n '00011815': 1,\n '00011873': 1,\n '00011455': 1,\n '00011454': 1,\n '00012941': 1,\n '00006698': 1,\n '00006699': 1,\n '00006607': 1,\n '00006236': 1,\n '00000577': 1,\n '00000569': 1,\n '00000598': 1,\n '00008980': 1,\n '00008953': 1,\n '00008941': 1,\n '00012642': 1,\n '00012700': 1,\n '00008345': 1,\n '00012887': 1,\n '00013011': 1,\n '00013010': 1,\n '00009694': 1,\n '00009632': 1,\n '00012218': 1,\n '00009532': 1,\n '00009525': 1,\n '00009510': 1,\n '00009528': 1,\n '00009572': 1,\n '00002322': 1,\n '00011684': 1,\n '00011622': 1,\n '00008616': 1,\n '00008608': 1,\n '00008628': 1,\n '00011330': 1,\n '00009455': 1,\n '00009444': 1,\n '00008164': 1,\n '00008188': 1,\n '00008100': 1,\n '00010912': 1,\n '00008204': 1,\n '00008292': 1,\n '00009104': 1,\n '00009110': 1,\n '00009107': 1,\n '00006515': 1,\n '00006562': 1,\n '00007094': 1,\n '00007038': 1,\n '00007095': 1,\n '00007313': 1,\n '00006452': 1,\n '00010850': 1,\n '00000659': 1,\n '00010035': 1,\n '00010061': 1,\n '00010079': 1,\n '00008461': 1,\n '00008471': 1,\n '00008492': 1,\n '00008487': 1,\n '00008440': 1,\n '00007458': 1,\n '00007475': 1,\n '00007431': 1,\n '00010517': 1,\n '00007555': 1,\n '00007504': 1,\n '00004049': 1,\n '00013400': 1,\n '00010201': 1,\n '00010268': 1,\n '00010275': 1,\n '00010234': 1,\n '00010247': 1,\n '00010291': 1,\n '00006774': 1,\n '00001482': 1,\n '00011149': 1,\n '00010678': 1,\n '00001204': 1,\n '00009881': 1,\n '00009885': 1,\n '00009854': 1,\n '00007684': 1,\n '00007656': 1,\n '00008823': 1,\n '00008884': 1,\n '00008859': 1,\n '00008835': 1,\n '00008886': 1,\n '00005936': 1}"
     },
     "metadata": {},
     "execution_count": 128
    }
   ],
   "source": [
    "from collections import Counter\n",
    "z = df.Patient.tolist()\n",
    "d = Counter(z)\n",
    "\n",
    "{k: v for k, v in sorted(d.items(), key=lambda item: item[1], reverse=True)}"
   ]
  },
  {
   "cell_type": "code",
   "execution_count": null,
   "metadata": {},
   "outputs": [],
   "source": []
  }
 ],
 "metadata": {
  "language_info": {
   "codemirror_mode": {
    "name": "ipython",
    "version": 3
   },
   "file_extension": ".py",
   "mimetype": "text/x-python",
   "name": "python",
   "nbconvert_exporter": "python",
   "pygments_lexer": "ipython3",
   "version": "3.8.2-final"
  },
  "orig_nbformat": 2,
  "kernelspec": {
   "name": "python38264bite34a56b6e9a44db4af76022ac3c795eb",
   "display_name": "Python 3.8.2 64-bit"
  }
 },
 "nbformat": 4,
 "nbformat_minor": 2
}