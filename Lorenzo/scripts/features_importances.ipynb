{
 "cells": [
  {
   "cell_type": "code",
   "execution_count": 1,
   "metadata": {},
   "outputs": [],
   "source": [
    "import pandas as pd\n",
    "import numpy as np\n",
    "import matplotlib.pyplot as plt\n",
    "import seaborn as sns\n",
    "import re\n",
    "\n",
    "pd.set_option('display.max_columns', 100)"
   ]
  },
  {
   "cell_type": "code",
   "execution_count": 2,
   "metadata": {},
   "outputs": [
    {
     "output_type": "execute_result",
     "data": {
      "text/plain": "                              Key  interval_start_time    mean_nni       sdnn  \\\n0  train_01_tcp_ar_8643_s002_t005                  0.0  665.457589   1.942364   \n1  train_01_tcp_ar_8643_s002_t005              10000.0  672.135417  11.762073   \n2  train_01_tcp_ar_8643_s002_t005              20000.0  657.031250  10.460751   \n3  train_01_tcp_ar_8643_s002_t005              30000.0  660.677083   2.499767   \n4  train_01_tcp_ar_8643_s002_t005              40000.0  663.330078   6.723404   \n\n        sdsd  nni_50  pnni_50  nni_20   pnni_20      rmssd  median_nni  \\\n0   1.532157     0.0      0.0     0.0  0.000000   1.532157   664.06250   \n1  11.504201     0.0      0.0     1.0  6.666667  11.718750   675.78125   \n2   9.002380     0.0      0.0     1.0  6.666667   9.511195   660.15625   \n3   1.786586     0.0      0.0     0.0  0.000000   1.808242   660.15625   \n4   2.240189     0.0      0.0     0.0  0.000000   2.470529   664.06250   \n\n   range_nni      cvsd     cvnni    mean_hr     max_hr     min_hr    std_hr  \\\n0    3.90625  0.002302  0.002919  90.164234  90.352941  89.824561  0.253177   \n1   46.87500  0.017435  0.017500  89.294479  94.814815  88.275862  1.582749   \n2   42.96875  0.014476  0.015921  91.342484  96.603774  90.352941  1.471285   \n3    7.81250  0.002737  0.003784  90.817138  91.428571  90.352941  0.332091   \n4   15.62500  0.003724  0.010136  90.461400  91.428571  89.302326  0.885948   \n\n          lf       hf        vlf  lf_hf_ratio       csi       cvi  \\\n0  46.079051  5.06351  50.863572    22.475111  4.732654  3.087285   \n1  46.079051  5.06351  50.863572    22.475111  4.732654  3.087285   \n2  46.079051  5.06351  50.863572    22.475111  4.732654  3.087285   \n3  46.079051  5.06351  50.863572    22.475111  4.732654  3.087285   \n4  46.079051  5.06351  50.863572    22.475111  4.732654  3.087285   \n\n   Modified_csi    sampen       sd1        sd2  ratio_sd2_sd1  label  \n0      354.7016  0.517062  6.555356  19.970406       4.732654    0.0  \n1      354.7016  0.517062  6.555356  19.970406       4.732654    0.0  \n2      354.7016  0.517062  6.555356  19.970406       4.732654    0.0  \n3      354.7016  0.517062  6.555356  19.970406       4.732654    0.0  \n4      354.7016  0.517062  6.555356  19.970406       4.732654    0.0  ",
      "text/html": "<div>\n<style scoped>\n    .dataframe tbody tr th:only-of-type {\n        vertical-align: middle;\n    }\n\n    .dataframe tbody tr th {\n        vertical-align: top;\n    }\n\n    .dataframe thead th {\n        text-align: right;\n    }\n</style>\n<table border=\"1\" class=\"dataframe\">\n  <thead>\n    <tr style=\"text-align: right;\">\n      <th></th>\n      <th>Key</th>\n      <th>interval_start_time</th>\n      <th>mean_nni</th>\n      <th>sdnn</th>\n      <th>sdsd</th>\n      <th>nni_50</th>\n      <th>pnni_50</th>\n      <th>nni_20</th>\n      <th>pnni_20</th>\n      <th>rmssd</th>\n      <th>median_nni</th>\n      <th>range_nni</th>\n      <th>cvsd</th>\n      <th>cvnni</th>\n      <th>mean_hr</th>\n      <th>max_hr</th>\n      <th>min_hr</th>\n      <th>std_hr</th>\n      <th>lf</th>\n      <th>hf</th>\n      <th>vlf</th>\n      <th>lf_hf_ratio</th>\n      <th>csi</th>\n      <th>cvi</th>\n      <th>Modified_csi</th>\n      <th>sampen</th>\n      <th>sd1</th>\n      <th>sd2</th>\n      <th>ratio_sd2_sd1</th>\n      <th>label</th>\n    </tr>\n  </thead>\n  <tbody>\n    <tr>\n      <th>0</th>\n      <td>train_01_tcp_ar_8643_s002_t005</td>\n      <td>0.0</td>\n      <td>665.457589</td>\n      <td>1.942364</td>\n      <td>1.532157</td>\n      <td>0.0</td>\n      <td>0.0</td>\n      <td>0.0</td>\n      <td>0.000000</td>\n      <td>1.532157</td>\n      <td>664.06250</td>\n      <td>3.90625</td>\n      <td>0.002302</td>\n      <td>0.002919</td>\n      <td>90.164234</td>\n      <td>90.352941</td>\n      <td>89.824561</td>\n      <td>0.253177</td>\n      <td>46.079051</td>\n      <td>5.06351</td>\n      <td>50.863572</td>\n      <td>22.475111</td>\n      <td>4.732654</td>\n      <td>3.087285</td>\n      <td>354.7016</td>\n      <td>0.517062</td>\n      <td>6.555356</td>\n      <td>19.970406</td>\n      <td>4.732654</td>\n      <td>0.0</td>\n    </tr>\n    <tr>\n      <th>1</th>\n      <td>train_01_tcp_ar_8643_s002_t005</td>\n      <td>10000.0</td>\n      <td>672.135417</td>\n      <td>11.762073</td>\n      <td>11.504201</td>\n      <td>0.0</td>\n      <td>0.0</td>\n      <td>1.0</td>\n      <td>6.666667</td>\n      <td>11.718750</td>\n      <td>675.78125</td>\n      <td>46.87500</td>\n      <td>0.017435</td>\n      <td>0.017500</td>\n      <td>89.294479</td>\n      <td>94.814815</td>\n      <td>88.275862</td>\n      <td>1.582749</td>\n      <td>46.079051</td>\n      <td>5.06351</td>\n      <td>50.863572</td>\n      <td>22.475111</td>\n      <td>4.732654</td>\n      <td>3.087285</td>\n      <td>354.7016</td>\n      <td>0.517062</td>\n      <td>6.555356</td>\n      <td>19.970406</td>\n      <td>4.732654</td>\n      <td>0.0</td>\n    </tr>\n    <tr>\n      <th>2</th>\n      <td>train_01_tcp_ar_8643_s002_t005</td>\n      <td>20000.0</td>\n      <td>657.031250</td>\n      <td>10.460751</td>\n      <td>9.002380</td>\n      <td>0.0</td>\n      <td>0.0</td>\n      <td>1.0</td>\n      <td>6.666667</td>\n      <td>9.511195</td>\n      <td>660.15625</td>\n      <td>42.96875</td>\n      <td>0.014476</td>\n      <td>0.015921</td>\n      <td>91.342484</td>\n      <td>96.603774</td>\n      <td>90.352941</td>\n      <td>1.471285</td>\n      <td>46.079051</td>\n      <td>5.06351</td>\n      <td>50.863572</td>\n      <td>22.475111</td>\n      <td>4.732654</td>\n      <td>3.087285</td>\n      <td>354.7016</td>\n      <td>0.517062</td>\n      <td>6.555356</td>\n      <td>19.970406</td>\n      <td>4.732654</td>\n      <td>0.0</td>\n    </tr>\n    <tr>\n      <th>3</th>\n      <td>train_01_tcp_ar_8643_s002_t005</td>\n      <td>30000.0</td>\n      <td>660.677083</td>\n      <td>2.499767</td>\n      <td>1.786586</td>\n      <td>0.0</td>\n      <td>0.0</td>\n      <td>0.0</td>\n      <td>0.000000</td>\n      <td>1.808242</td>\n      <td>660.15625</td>\n      <td>7.81250</td>\n      <td>0.002737</td>\n      <td>0.003784</td>\n      <td>90.817138</td>\n      <td>91.428571</td>\n      <td>90.352941</td>\n      <td>0.332091</td>\n      <td>46.079051</td>\n      <td>5.06351</td>\n      <td>50.863572</td>\n      <td>22.475111</td>\n      <td>4.732654</td>\n      <td>3.087285</td>\n      <td>354.7016</td>\n      <td>0.517062</td>\n      <td>6.555356</td>\n      <td>19.970406</td>\n      <td>4.732654</td>\n      <td>0.0</td>\n    </tr>\n    <tr>\n      <th>4</th>\n      <td>train_01_tcp_ar_8643_s002_t005</td>\n      <td>40000.0</td>\n      <td>663.330078</td>\n      <td>6.723404</td>\n      <td>2.240189</td>\n      <td>0.0</td>\n      <td>0.0</td>\n      <td>0.0</td>\n      <td>0.000000</td>\n      <td>2.470529</td>\n      <td>664.06250</td>\n      <td>15.62500</td>\n      <td>0.003724</td>\n      <td>0.010136</td>\n      <td>90.461400</td>\n      <td>91.428571</td>\n      <td>89.302326</td>\n      <td>0.885948</td>\n      <td>46.079051</td>\n      <td>5.06351</td>\n      <td>50.863572</td>\n      <td>22.475111</td>\n      <td>4.732654</td>\n      <td>3.087285</td>\n      <td>354.7016</td>\n      <td>0.517062</td>\n      <td>6.555356</td>\n      <td>19.970406</td>\n      <td>4.732654</td>\n      <td>0.0</td>\n    </tr>\n  </tbody>\n</table>\n</div>"
     },
     "metadata": {},
     "execution_count": 2
    }
   ],
   "source": [
    "xqrs = pd.read_csv('../to_csv/ml_data/xqrs_clean_mean.csv')\n",
    "xqrs.head()"
   ]
  },
  {
   "cell_type": "code",
   "execution_count": 5,
   "metadata": {},
   "outputs": [],
   "source": [
    "from sklearn.tree import DecisionTreeClassifier\n",
    "from sklearn.preprocessing import StandardScaler"
   ]
  },
  {
   "cell_type": "code",
   "execution_count": 6,
   "metadata": {},
   "outputs": [],
   "source": [
    "X = xqrs.iloc[:,2:-1]\n",
    "y = xqrs.iloc[:,-1:]"
   ]
  },
  {
   "cell_type": "code",
   "execution_count": 11,
   "metadata": {},
   "outputs": [],
   "source": [
    "X = StandardScaler().fit_transform(X)"
   ]
  },
  {
   "cell_type": "code",
   "execution_count": 12,
   "metadata": {},
   "outputs": [],
   "source": [
    "y.label = y.label.apply(lambda x: 1 if x != 0 else 0)"
   ]
  },
  {
   "cell_type": "code",
   "execution_count": 13,
   "metadata": {},
   "outputs": [],
   "source": [
    "clf = DecisionTreeClassifier()"
   ]
  },
  {
   "cell_type": "code",
   "execution_count": 14,
   "metadata": {},
   "outputs": [],
   "source": [
    "clf = clf.fit(X, y)"
   ]
  },
  {
   "cell_type": "code",
   "execution_count": 16,
   "metadata": {},
   "outputs": [
    {
     "output_type": "stream",
     "name": "stdout",
     "text": "{'mean_nni': 0.04008598617525708, 'sdnn': 0.01954776638625675, 'sdsd': 0.02501994643317926, 'nni_50': 0.0019309162912988479, 'pnni_50': 0.0023003486498703886, 'nni_20': 0.0030825947459212862, 'pnni_20': 0.005749024715446894, 'rmssd': 0.017027230150283335, 'median_nni': 0.031046741865958634, 'range_nni': 0.022907667156047556, 'cvsd': 0.024257076557220054, 'cvnni': 0.020132873935362713, 'mean_hr': 0.048720035355429056, 'max_hr': 0.03374629090902209, 'min_hr': 0.03565187358511047, 'std_hr': 0.026122169440844854, 'lf': 0.07663118718484802, 'hf': 0.08770260412774804, 'vlf': 0.09502214908326692, 'lf_hf_ratio': 0.07638664572309202, 'csi': 0.03387327793270884, 'cvi': 0.042643170098246835, 'Modified_csi': 0.03400734920226332, 'sampen': 0.0741372668073128, 'sd1': 0.05126926283687707, 'sd2': 0.039685267816913235, 'ratio_sd2_sd1': 0.03131327683421366}\n"
    }
   ],
   "source": [
    "print(dict(zip(xqrs.iloc[:,2:-1].columns, clf.feature_importances_)))"
   ]
  },
  {
   "cell_type": "code",
   "execution_count": 32,
   "metadata": {},
   "outputs": [
    {
     "output_type": "execute_result",
     "data": {
      "text/plain": "               Importance\nvlf              0.095022\nhf               0.087703\nlf               0.076631\nlf_hf_ratio      0.076387\nsampen           0.074137\nsd1              0.051269\nmean_hr          0.048720\ncvi              0.042643\nmean_nni         0.040086\nsd2              0.039685\nmin_hr           0.035652\nModified_csi     0.034007\ncsi              0.033873\nmax_hr           0.033746\nratio_sd2_sd1    0.031313\nmedian_nni       0.031047\nstd_hr           0.026122\nsdsd             0.025020\ncvsd             0.024257\nrange_nni        0.022908\ncvnni            0.020133\nsdnn             0.019548\nrmssd            0.017027\npnni_20          0.005749\nnni_20           0.003083\npnni_50          0.002300\nnni_50           0.001931",
      "text/html": "<div>\n<style scoped>\n    .dataframe tbody tr th:only-of-type {\n        vertical-align: middle;\n    }\n\n    .dataframe tbody tr th {\n        vertical-align: top;\n    }\n\n    .dataframe thead th {\n        text-align: right;\n    }\n</style>\n<table border=\"1\" class=\"dataframe\">\n  <thead>\n    <tr style=\"text-align: right;\">\n      <th></th>\n      <th>Importance</th>\n    </tr>\n  </thead>\n  <tbody>\n    <tr>\n      <th>vlf</th>\n      <td>0.095022</td>\n    </tr>\n    <tr>\n      <th>hf</th>\n      <td>0.087703</td>\n    </tr>\n    <tr>\n      <th>lf</th>\n      <td>0.076631</td>\n    </tr>\n    <tr>\n      <th>lf_hf_ratio</th>\n      <td>0.076387</td>\n    </tr>\n    <tr>\n      <th>sampen</th>\n      <td>0.074137</td>\n    </tr>\n    <tr>\n      <th>sd1</th>\n      <td>0.051269</td>\n    </tr>\n    <tr>\n      <th>mean_hr</th>\n      <td>0.048720</td>\n    </tr>\n    <tr>\n      <th>cvi</th>\n      <td>0.042643</td>\n    </tr>\n    <tr>\n      <th>mean_nni</th>\n      <td>0.040086</td>\n    </tr>\n    <tr>\n      <th>sd2</th>\n      <td>0.039685</td>\n    </tr>\n    <tr>\n      <th>min_hr</th>\n      <td>0.035652</td>\n    </tr>\n    <tr>\n      <th>Modified_csi</th>\n      <td>0.034007</td>\n    </tr>\n    <tr>\n      <th>csi</th>\n      <td>0.033873</td>\n    </tr>\n    <tr>\n      <th>max_hr</th>\n      <td>0.033746</td>\n    </tr>\n    <tr>\n      <th>ratio_sd2_sd1</th>\n      <td>0.031313</td>\n    </tr>\n    <tr>\n      <th>median_nni</th>\n      <td>0.031047</td>\n    </tr>\n    <tr>\n      <th>std_hr</th>\n      <td>0.026122</td>\n    </tr>\n    <tr>\n      <th>sdsd</th>\n      <td>0.025020</td>\n    </tr>\n    <tr>\n      <th>cvsd</th>\n      <td>0.024257</td>\n    </tr>\n    <tr>\n      <th>range_nni</th>\n      <td>0.022908</td>\n    </tr>\n    <tr>\n      <th>cvnni</th>\n      <td>0.020133</td>\n    </tr>\n    <tr>\n      <th>sdnn</th>\n      <td>0.019548</td>\n    </tr>\n    <tr>\n      <th>rmssd</th>\n      <td>0.017027</td>\n    </tr>\n    <tr>\n      <th>pnni_20</th>\n      <td>0.005749</td>\n    </tr>\n    <tr>\n      <th>nni_20</th>\n      <td>0.003083</td>\n    </tr>\n    <tr>\n      <th>pnni_50</th>\n      <td>0.002300</td>\n    </tr>\n    <tr>\n      <th>nni_50</th>\n      <td>0.001931</td>\n    </tr>\n  </tbody>\n</table>\n</div>"
     },
     "metadata": {},
     "execution_count": 32
    }
   ],
   "source": [
    "dic_feats_imp = dict(zip(xqrs.iloc[:,2:-1].columns, clf.feature_importances_))\n",
    "\n",
    "feats_importance = pd.DataFrame(dic_feats_imp, index=[0]).T.sort_values([0], ascending=False).rename(columns={0: 'Importance'})\n",
    "feats_importance"
   ]
  },
  {
   "cell_type": "code",
   "execution_count": 34,
   "metadata": {},
   "outputs": [],
   "source": [
    "feats_importance.to_csv('../to_csv/less_feats/features_importances.csv')"
   ]
  },
  {
   "cell_type": "code",
   "execution_count": null,
   "metadata": {},
   "outputs": [],
   "source": []
  }
 ],
 "metadata": {
  "language_info": {
   "codemirror_mode": {
    "name": "ipython",
    "version": 3
   },
   "file_extension": ".py",
   "mimetype": "text/x-python",
   "name": "python",
   "nbconvert_exporter": "python",
   "pygments_lexer": "ipython3",
   "version": "3.8.2-final"
  },
  "orig_nbformat": 2,
  "kernelspec": {
   "name": "python38264bite34a56b6e9a44db4af76022ac3c795eb",
   "display_name": "Python 3.8.2 64-bit"
  }
 },
 "nbformat": 4,
 "nbformat_minor": 2
}