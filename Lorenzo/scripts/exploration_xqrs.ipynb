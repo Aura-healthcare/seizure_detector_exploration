{
 "cells": [
  {
   "cell_type": "code",
   "execution_count": 1,
   "metadata": {},
   "outputs": [],
   "source": [
    "import pandas as pd\n",
    "import numpy as np\n",
    "import matplotlib.pyplot as plt\n",
    "import seaborn as sns\n",
    "\n",
    "from hrvanalysis import remove_outliers, remove_ectopic_beats, interpolate_nan_values\n",
    "import json\n",
    "\n",
    "pd.set_option(\"display.max_columns\", 100)"
   ]
  },
  {
   "cell_type": "code",
   "execution_count": 2,
   "metadata": {},
   "outputs": [
    {
     "output_type": "execute_result",
     "data": {
      "text/plain": "     Set Categorie Montage  Dossier Patient  Patient          Session File N°  \\\n0  train         01_tcp_ar               86     8643  s001_2012_02_22    t000   \n1  train         01_tcp_ar               86     8643  s001_2012_02_22    t000   \n2  train         01_tcp_ar               86     8643  s001_2012_02_22    t000   \n3  train         01_tcp_ar               86     8643  s001_2012_02_22    t000   \n4  train         01_tcp_ar               86     8643  s001_2012_02_22    t000   \n\n   interval_index  interval_start_time    mean_nni       sdnn  ...  vlf  \\\n0             0.0                  0.0         NaN        NaN  ...  NaN   \n1             1.0              10000.0  537.109375  56.359305  ...  NaN   \n2             2.0              20000.0  602.213542  51.251884  ...  NaN   \n3             3.0              30000.0  564.453125  33.125314  ...  NaN   \n4             4.0              40000.0         NaN        NaN  ...  NaN   \n\n   lf_hf_ratio  csi  cvi  Modified_csi  sampen  sd1  sd2  ratio_sd2_sd1  label  \n0          NaN  NaN  NaN           NaN     NaN  NaN  NaN            NaN    0.0  \n1          NaN  NaN  NaN           NaN     NaN  NaN  NaN            NaN    0.0  \n2          NaN  NaN  NaN           NaN     NaN  NaN  NaN            NaN    0.0  \n3          NaN  NaN  NaN           NaN     NaN  NaN  NaN            NaN    0.0  \n4          NaN  NaN  NaN           NaN     NaN  NaN  NaN            NaN    0.0  \n\n[5 rows x 36 columns]",
      "text/html": "<div>\n<style scoped>\n    .dataframe tbody tr th:only-of-type {\n        vertical-align: middle;\n    }\n\n    .dataframe tbody tr th {\n        vertical-align: top;\n    }\n\n    .dataframe thead th {\n        text-align: right;\n    }\n</style>\n<table border=\"1\" class=\"dataframe\">\n  <thead>\n    <tr style=\"text-align: right;\">\n      <th></th>\n      <th>Set</th>\n      <th>Categorie Montage</th>\n      <th>Dossier Patient</th>\n      <th>Patient</th>\n      <th>Session</th>\n      <th>File N°</th>\n      <th>interval_index</th>\n      <th>interval_start_time</th>\n      <th>mean_nni</th>\n      <th>sdnn</th>\n      <th>...</th>\n      <th>vlf</th>\n      <th>lf_hf_ratio</th>\n      <th>csi</th>\n      <th>cvi</th>\n      <th>Modified_csi</th>\n      <th>sampen</th>\n      <th>sd1</th>\n      <th>sd2</th>\n      <th>ratio_sd2_sd1</th>\n      <th>label</th>\n    </tr>\n  </thead>\n  <tbody>\n    <tr>\n      <th>0</th>\n      <td>train</td>\n      <td>01_tcp_ar</td>\n      <td>86</td>\n      <td>8643</td>\n      <td>s001_2012_02_22</td>\n      <td>t000</td>\n      <td>0.0</td>\n      <td>0.0</td>\n      <td>NaN</td>\n      <td>NaN</td>\n      <td>...</td>\n      <td>NaN</td>\n      <td>NaN</td>\n      <td>NaN</td>\n      <td>NaN</td>\n      <td>NaN</td>\n      <td>NaN</td>\n      <td>NaN</td>\n      <td>NaN</td>\n      <td>NaN</td>\n      <td>0.0</td>\n    </tr>\n    <tr>\n      <th>1</th>\n      <td>train</td>\n      <td>01_tcp_ar</td>\n      <td>86</td>\n      <td>8643</td>\n      <td>s001_2012_02_22</td>\n      <td>t000</td>\n      <td>1.0</td>\n      <td>10000.0</td>\n      <td>537.109375</td>\n      <td>56.359305</td>\n      <td>...</td>\n      <td>NaN</td>\n      <td>NaN</td>\n      <td>NaN</td>\n      <td>NaN</td>\n      <td>NaN</td>\n      <td>NaN</td>\n      <td>NaN</td>\n      <td>NaN</td>\n      <td>NaN</td>\n      <td>0.0</td>\n    </tr>\n    <tr>\n      <th>2</th>\n      <td>train</td>\n      <td>01_tcp_ar</td>\n      <td>86</td>\n      <td>8643</td>\n      <td>s001_2012_02_22</td>\n      <td>t000</td>\n      <td>2.0</td>\n      <td>20000.0</td>\n      <td>602.213542</td>\n      <td>51.251884</td>\n      <td>...</td>\n      <td>NaN</td>\n      <td>NaN</td>\n      <td>NaN</td>\n      <td>NaN</td>\n      <td>NaN</td>\n      <td>NaN</td>\n      <td>NaN</td>\n      <td>NaN</td>\n      <td>NaN</td>\n      <td>0.0</td>\n    </tr>\n    <tr>\n      <th>3</th>\n      <td>train</td>\n      <td>01_tcp_ar</td>\n      <td>86</td>\n      <td>8643</td>\n      <td>s001_2012_02_22</td>\n      <td>t000</td>\n      <td>3.0</td>\n      <td>30000.0</td>\n      <td>564.453125</td>\n      <td>33.125314</td>\n      <td>...</td>\n      <td>NaN</td>\n      <td>NaN</td>\n      <td>NaN</td>\n      <td>NaN</td>\n      <td>NaN</td>\n      <td>NaN</td>\n      <td>NaN</td>\n      <td>NaN</td>\n      <td>NaN</td>\n      <td>0.0</td>\n    </tr>\n    <tr>\n      <th>4</th>\n      <td>train</td>\n      <td>01_tcp_ar</td>\n      <td>86</td>\n      <td>8643</td>\n      <td>s001_2012_02_22</td>\n      <td>t000</td>\n      <td>4.0</td>\n      <td>40000.0</td>\n      <td>NaN</td>\n      <td>NaN</td>\n      <td>...</td>\n      <td>NaN</td>\n      <td>NaN</td>\n      <td>NaN</td>\n      <td>NaN</td>\n      <td>NaN</td>\n      <td>NaN</td>\n      <td>NaN</td>\n      <td>NaN</td>\n      <td>NaN</td>\n      <td>0.0</td>\n    </tr>\n  </tbody>\n</table>\n<p>5 rows × 36 columns</p>\n</div>"
     },
     "metadata": {},
     "execution_count": 2
    }
   ],
   "source": [
    "xqrs = pd.read_csv('../to_csv/xqrs.csv').drop('Unnamed: 0', axis=1)\n",
    "xqrs.head()"
   ]
  },
  {
   "cell_type": "code",
   "execution_count": 3,
   "metadata": {},
   "outputs": [
    {
     "output_type": "execute_result",
     "data": {
      "text/plain": "     Set Categorie Montage  Dossier Patient  Patient Session        Date  \\\n0  train         01_tcp_ar               86     8643    s001  22/02/2012   \n1  train         01_tcp_ar               86     8643    s001  22/02/2012   \n2  train         01_tcp_ar               86     8643    s001  22/02/2012   \n3  train         01_tcp_ar               86     8643    s001  22/02/2012   \n4  train         01_tcp_ar               86     8643    s001  22/02/2012   \n\n  File N°  interval_index  interval_start_time    mean_nni  ...  vlf  \\\n0    t000             0.0                  0.0         NaN  ...  NaN   \n1    t000             1.0              10000.0  537.109375  ...  NaN   \n2    t000             2.0              20000.0  602.213542  ...  NaN   \n3    t000             3.0              30000.0  564.453125  ...  NaN   \n4    t000             4.0              40000.0         NaN  ...  NaN   \n\n   lf_hf_ratio  csi  cvi  Modified_csi  sampen  sd1  sd2  ratio_sd2_sd1  label  \n0          NaN  NaN  NaN           NaN     NaN  NaN  NaN            NaN    0.0  \n1          NaN  NaN  NaN           NaN     NaN  NaN  NaN            NaN    0.0  \n2          NaN  NaN  NaN           NaN     NaN  NaN  NaN            NaN    0.0  \n3          NaN  NaN  NaN           NaN     NaN  NaN  NaN            NaN    0.0  \n4          NaN  NaN  NaN           NaN     NaN  NaN  NaN            NaN    0.0  \n\n[5 rows x 37 columns]",
      "text/html": "<div>\n<style scoped>\n    .dataframe tbody tr th:only-of-type {\n        vertical-align: middle;\n    }\n\n    .dataframe tbody tr th {\n        vertical-align: top;\n    }\n\n    .dataframe thead th {\n        text-align: right;\n    }\n</style>\n<table border=\"1\" class=\"dataframe\">\n  <thead>\n    <tr style=\"text-align: right;\">\n      <th></th>\n      <th>Set</th>\n      <th>Categorie Montage</th>\n      <th>Dossier Patient</th>\n      <th>Patient</th>\n      <th>Session</th>\n      <th>Date</th>\n      <th>File N°</th>\n      <th>interval_index</th>\n      <th>interval_start_time</th>\n      <th>mean_nni</th>\n      <th>...</th>\n      <th>vlf</th>\n      <th>lf_hf_ratio</th>\n      <th>csi</th>\n      <th>cvi</th>\n      <th>Modified_csi</th>\n      <th>sampen</th>\n      <th>sd1</th>\n      <th>sd2</th>\n      <th>ratio_sd2_sd1</th>\n      <th>label</th>\n    </tr>\n  </thead>\n  <tbody>\n    <tr>\n      <th>0</th>\n      <td>train</td>\n      <td>01_tcp_ar</td>\n      <td>86</td>\n      <td>8643</td>\n      <td>s001</td>\n      <td>22/02/2012</td>\n      <td>t000</td>\n      <td>0.0</td>\n      <td>0.0</td>\n      <td>NaN</td>\n      <td>...</td>\n      <td>NaN</td>\n      <td>NaN</td>\n      <td>NaN</td>\n      <td>NaN</td>\n      <td>NaN</td>\n      <td>NaN</td>\n      <td>NaN</td>\n      <td>NaN</td>\n      <td>NaN</td>\n      <td>0.0</td>\n    </tr>\n    <tr>\n      <th>1</th>\n      <td>train</td>\n      <td>01_tcp_ar</td>\n      <td>86</td>\n      <td>8643</td>\n      <td>s001</td>\n      <td>22/02/2012</td>\n      <td>t000</td>\n      <td>1.0</td>\n      <td>10000.0</td>\n      <td>537.109375</td>\n      <td>...</td>\n      <td>NaN</td>\n      <td>NaN</td>\n      <td>NaN</td>\n      <td>NaN</td>\n      <td>NaN</td>\n      <td>NaN</td>\n      <td>NaN</td>\n      <td>NaN</td>\n      <td>NaN</td>\n      <td>0.0</td>\n    </tr>\n    <tr>\n      <th>2</th>\n      <td>train</td>\n      <td>01_tcp_ar</td>\n      <td>86</td>\n      <td>8643</td>\n      <td>s001</td>\n      <td>22/02/2012</td>\n      <td>t000</td>\n      <td>2.0</td>\n      <td>20000.0</td>\n      <td>602.213542</td>\n      <td>...</td>\n      <td>NaN</td>\n      <td>NaN</td>\n      <td>NaN</td>\n      <td>NaN</td>\n      <td>NaN</td>\n      <td>NaN</td>\n      <td>NaN</td>\n      <td>NaN</td>\n      <td>NaN</td>\n      <td>0.0</td>\n    </tr>\n    <tr>\n      <th>3</th>\n      <td>train</td>\n      <td>01_tcp_ar</td>\n      <td>86</td>\n      <td>8643</td>\n      <td>s001</td>\n      <td>22/02/2012</td>\n      <td>t000</td>\n      <td>3.0</td>\n      <td>30000.0</td>\n      <td>564.453125</td>\n      <td>...</td>\n      <td>NaN</td>\n      <td>NaN</td>\n      <td>NaN</td>\n      <td>NaN</td>\n      <td>NaN</td>\n      <td>NaN</td>\n      <td>NaN</td>\n      <td>NaN</td>\n      <td>NaN</td>\n      <td>0.0</td>\n    </tr>\n    <tr>\n      <th>4</th>\n      <td>train</td>\n      <td>01_tcp_ar</td>\n      <td>86</td>\n      <td>8643</td>\n      <td>s001</td>\n      <td>22/02/2012</td>\n      <td>t000</td>\n      <td>4.0</td>\n      <td>40000.0</td>\n      <td>NaN</td>\n      <td>...</td>\n      <td>NaN</td>\n      <td>NaN</td>\n      <td>NaN</td>\n      <td>NaN</td>\n      <td>NaN</td>\n      <td>NaN</td>\n      <td>NaN</td>\n      <td>NaN</td>\n      <td>NaN</td>\n      <td>0.0</td>\n    </tr>\n  </tbody>\n</table>\n<p>5 rows × 37 columns</p>\n</div>"
     },
     "metadata": {},
     "execution_count": 3
    }
   ],
   "source": [
    "xqrs['Date'] = xqrs.Session.str[-10:]\n",
    "xqrs['Date'] = xqrs.Date.str.replace('_', '/')\n",
    "xqrs['Date'] =  pd.to_datetime(xqrs['Date'], format='%Y/%m/%d').dt.strftime('%d/%m/%Y')\n",
    "\n",
    "xqrs.Session = xqrs.Session.str[:4]\n",
    "\n",
    "cols = xqrs.columns.tolist()\n",
    "cols = cols[:5] + ['Date'] + cols[5:-1]\n",
    "\n",
    "xqrs = xqrs[cols]\n",
    "\n",
    "xqrs.head()"
   ]
  },
  {
   "cell_type": "code",
   "execution_count": 4,
   "metadata": {},
   "outputs": [
    {
     "output_type": "execute_result",
     "data": {
      "text/plain": "           Set Categorie Montage  Dossier Patient        Patient Session  \\\ncount   308945            308945    308945.000000  308945.000000  308945   \nunique       2                 3              NaN            NaN      39   \ntop      train         01_tcp_ar              NaN            NaN    s001   \nfreq    251812            232247              NaN            NaN   59243   \nmean       NaN               NaN        80.531823    8104.611789     NaN   \nstd        NaN               NaN        33.403979    3342.460990     NaN   \nmin        NaN               NaN         0.000000       2.000000     NaN   \n25%        NaN               NaN        65.000000    6514.000000     NaN   \n50%        NaN               NaN        87.000000    8738.000000     NaN   \n75%        NaN               NaN       104.000000   10418.000000     NaN   \nmax        NaN               NaN       134.000000   13407.000000     NaN   \n\n              Date File N°  interval_index  interval_start_time  \\\ncount       308945  308945   308945.000000         3.089450e+05   \nunique         915      33             NaN                  NaN   \ntop     04/05/2014    t000             NaN                  NaN   \nfreq          3516   84859             NaN                  NaN   \nmean           NaN     NaN       46.626600         4.662660e+05   \nstd            NaN     NaN       46.158892         4.615889e+05   \nmin            NaN     NaN        0.000000         0.000000e+00   \n25%            NaN     NaN       15.000000         1.500000e+05   \n50%            NaN     NaN       33.000000         3.300000e+05   \n75%            NaN     NaN       60.000000         6.000000e+05   \nmax            NaN     NaN      359.000000         3.590000e+06   \n\n             mean_nni  ...            vlf    lf_hf_ratio            csi  \\\ncount   271217.000000  ...  190698.000000  190075.000000  232138.000000   \nunique            NaN  ...            NaN            NaN            NaN   \ntop               NaN  ...            NaN            NaN            NaN   \nfreq              NaN  ...            NaN            NaN            NaN   \nmean       723.363894  ...     357.658897      10.974066       5.106539   \nstd        187.850494  ...     845.394890      14.816918       3.031795   \nmin          0.000000  ...       0.000000       0.037210       0.256758   \n25%        613.740809  ...      19.189833       3.339780       3.110920   \n50%        712.053571  ...      88.703498       7.206585       4.333752   \n75%        828.450521  ...     338.092763      14.258062       6.191644   \nmax       1777.343750  ...   36640.849670    1659.492596      50.675884   \n\n                 cvi   Modified_csi        sampen            sd1  \\\ncount   2.325810e+05  232138.000000  2.655440e+05  232581.000000   \nunique           NaN            NaN           NaN            NaN   \ntop              NaN            NaN           NaN            NaN   \nfreq             NaN            NaN           NaN            NaN   \nmean            -inf     859.395808           inf       9.259266   \nstd              NaN    1230.536350           NaN      11.291463   \nmin             -inf       0.361010 -0.000000e+00       0.000000   \n25%     2.592831e+00     184.109288  3.778332e-01       2.070292   \n50%     3.327306e+00     467.497737  6.154200e-01       5.256634   \n75%     3.967830e+00    1049.816390  9.426080e-01      11.898158   \nmax     6.511706e+00   32040.696882           inf     310.970378   \n\n                  sd2  ratio_sd2_sd1          label  \ncount   232581.000000  232138.000000  304124.000000  \nunique            NaN            NaN            NaN  \ntop               NaN            NaN            NaN  \nfreq              NaN            NaN            NaN  \nmean        39.410133       5.106539       0.067215  \nstd         43.771038       3.031795       0.244909  \nmin          0.000000       0.256758       0.000000  \n25%         11.176479       3.110920       0.000000  \n50%         25.192242       4.333752       0.000000  \n75%         51.315977       6.191644       0.000000  \nmax        909.133418      50.675884       1.000000  \n\n[11 rows x 37 columns]",
      "text/html": "<div>\n<style scoped>\n    .dataframe tbody tr th:only-of-type {\n        vertical-align: middle;\n    }\n\n    .dataframe tbody tr th {\n        vertical-align: top;\n    }\n\n    .dataframe thead th {\n        text-align: right;\n    }\n</style>\n<table border=\"1\" class=\"dataframe\">\n  <thead>\n    <tr style=\"text-align: right;\">\n      <th></th>\n      <th>Set</th>\n      <th>Categorie Montage</th>\n      <th>Dossier Patient</th>\n      <th>Patient</th>\n      <th>Session</th>\n      <th>Date</th>\n      <th>File N°</th>\n      <th>interval_index</th>\n      <th>interval_start_time</th>\n      <th>mean_nni</th>\n      <th>...</th>\n      <th>vlf</th>\n      <th>lf_hf_ratio</th>\n      <th>csi</th>\n      <th>cvi</th>\n      <th>Modified_csi</th>\n      <th>sampen</th>\n      <th>sd1</th>\n      <th>sd2</th>\n      <th>ratio_sd2_sd1</th>\n      <th>label</th>\n    </tr>\n  </thead>\n  <tbody>\n    <tr>\n      <th>count</th>\n      <td>308945</td>\n      <td>308945</td>\n      <td>308945.000000</td>\n      <td>308945.000000</td>\n      <td>308945</td>\n      <td>308945</td>\n      <td>308945</td>\n      <td>308945.000000</td>\n      <td>3.089450e+05</td>\n      <td>271217.000000</td>\n      <td>...</td>\n      <td>190698.000000</td>\n      <td>190075.000000</td>\n      <td>232138.000000</td>\n      <td>2.325810e+05</td>\n      <td>232138.000000</td>\n      <td>2.655440e+05</td>\n      <td>232581.000000</td>\n      <td>232581.000000</td>\n      <td>232138.000000</td>\n      <td>304124.000000</td>\n    </tr>\n    <tr>\n      <th>unique</th>\n      <td>2</td>\n      <td>3</td>\n      <td>NaN</td>\n      <td>NaN</td>\n      <td>39</td>\n      <td>915</td>\n      <td>33</td>\n      <td>NaN</td>\n      <td>NaN</td>\n      <td>NaN</td>\n      <td>...</td>\n      <td>NaN</td>\n      <td>NaN</td>\n      <td>NaN</td>\n      <td>NaN</td>\n      <td>NaN</td>\n      <td>NaN</td>\n      <td>NaN</td>\n      <td>NaN</td>\n      <td>NaN</td>\n      <td>NaN</td>\n    </tr>\n    <tr>\n      <th>top</th>\n      <td>train</td>\n      <td>01_tcp_ar</td>\n      <td>NaN</td>\n      <td>NaN</td>\n      <td>s001</td>\n      <td>04/05/2014</td>\n      <td>t000</td>\n      <td>NaN</td>\n      <td>NaN</td>\n      <td>NaN</td>\n      <td>...</td>\n      <td>NaN</td>\n      <td>NaN</td>\n      <td>NaN</td>\n      <td>NaN</td>\n      <td>NaN</td>\n      <td>NaN</td>\n      <td>NaN</td>\n      <td>NaN</td>\n      <td>NaN</td>\n      <td>NaN</td>\n    </tr>\n    <tr>\n      <th>freq</th>\n      <td>251812</td>\n      <td>232247</td>\n      <td>NaN</td>\n      <td>NaN</td>\n      <td>59243</td>\n      <td>3516</td>\n      <td>84859</td>\n      <td>NaN</td>\n      <td>NaN</td>\n      <td>NaN</td>\n      <td>...</td>\n      <td>NaN</td>\n      <td>NaN</td>\n      <td>NaN</td>\n      <td>NaN</td>\n      <td>NaN</td>\n      <td>NaN</td>\n      <td>NaN</td>\n      <td>NaN</td>\n      <td>NaN</td>\n      <td>NaN</td>\n    </tr>\n    <tr>\n      <th>mean</th>\n      <td>NaN</td>\n      <td>NaN</td>\n      <td>80.531823</td>\n      <td>8104.611789</td>\n      <td>NaN</td>\n      <td>NaN</td>\n      <td>NaN</td>\n      <td>46.626600</td>\n      <td>4.662660e+05</td>\n      <td>723.363894</td>\n      <td>...</td>\n      <td>357.658897</td>\n      <td>10.974066</td>\n      <td>5.106539</td>\n      <td>-inf</td>\n      <td>859.395808</td>\n      <td>inf</td>\n      <td>9.259266</td>\n      <td>39.410133</td>\n      <td>5.106539</td>\n      <td>0.067215</td>\n    </tr>\n    <tr>\n      <th>std</th>\n      <td>NaN</td>\n      <td>NaN</td>\n      <td>33.403979</td>\n      <td>3342.460990</td>\n      <td>NaN</td>\n      <td>NaN</td>\n      <td>NaN</td>\n      <td>46.158892</td>\n      <td>4.615889e+05</td>\n      <td>187.850494</td>\n      <td>...</td>\n      <td>845.394890</td>\n      <td>14.816918</td>\n      <td>3.031795</td>\n      <td>NaN</td>\n      <td>1230.536350</td>\n      <td>NaN</td>\n      <td>11.291463</td>\n      <td>43.771038</td>\n      <td>3.031795</td>\n      <td>0.244909</td>\n    </tr>\n    <tr>\n      <th>min</th>\n      <td>NaN</td>\n      <td>NaN</td>\n      <td>0.000000</td>\n      <td>2.000000</td>\n      <td>NaN</td>\n      <td>NaN</td>\n      <td>NaN</td>\n      <td>0.000000</td>\n      <td>0.000000e+00</td>\n      <td>0.000000</td>\n      <td>...</td>\n      <td>0.000000</td>\n      <td>0.037210</td>\n      <td>0.256758</td>\n      <td>-inf</td>\n      <td>0.361010</td>\n      <td>-0.000000e+00</td>\n      <td>0.000000</td>\n      <td>0.000000</td>\n      <td>0.256758</td>\n      <td>0.000000</td>\n    </tr>\n    <tr>\n      <th>25%</th>\n      <td>NaN</td>\n      <td>NaN</td>\n      <td>65.000000</td>\n      <td>6514.000000</td>\n      <td>NaN</td>\n      <td>NaN</td>\n      <td>NaN</td>\n      <td>15.000000</td>\n      <td>1.500000e+05</td>\n      <td>613.740809</td>\n      <td>...</td>\n      <td>19.189833</td>\n      <td>3.339780</td>\n      <td>3.110920</td>\n      <td>2.592831e+00</td>\n      <td>184.109288</td>\n      <td>3.778332e-01</td>\n      <td>2.070292</td>\n      <td>11.176479</td>\n      <td>3.110920</td>\n      <td>0.000000</td>\n    </tr>\n    <tr>\n      <th>50%</th>\n      <td>NaN</td>\n      <td>NaN</td>\n      <td>87.000000</td>\n      <td>8738.000000</td>\n      <td>NaN</td>\n      <td>NaN</td>\n      <td>NaN</td>\n      <td>33.000000</td>\n      <td>3.300000e+05</td>\n      <td>712.053571</td>\n      <td>...</td>\n      <td>88.703498</td>\n      <td>7.206585</td>\n      <td>4.333752</td>\n      <td>3.327306e+00</td>\n      <td>467.497737</td>\n      <td>6.154200e-01</td>\n      <td>5.256634</td>\n      <td>25.192242</td>\n      <td>4.333752</td>\n      <td>0.000000</td>\n    </tr>\n    <tr>\n      <th>75%</th>\n      <td>NaN</td>\n      <td>NaN</td>\n      <td>104.000000</td>\n      <td>10418.000000</td>\n      <td>NaN</td>\n      <td>NaN</td>\n      <td>NaN</td>\n      <td>60.000000</td>\n      <td>6.000000e+05</td>\n      <td>828.450521</td>\n      <td>...</td>\n      <td>338.092763</td>\n      <td>14.258062</td>\n      <td>6.191644</td>\n      <td>3.967830e+00</td>\n      <td>1049.816390</td>\n      <td>9.426080e-01</td>\n      <td>11.898158</td>\n      <td>51.315977</td>\n      <td>6.191644</td>\n      <td>0.000000</td>\n    </tr>\n    <tr>\n      <th>max</th>\n      <td>NaN</td>\n      <td>NaN</td>\n      <td>134.000000</td>\n      <td>13407.000000</td>\n      <td>NaN</td>\n      <td>NaN</td>\n      <td>NaN</td>\n      <td>359.000000</td>\n      <td>3.590000e+06</td>\n      <td>1777.343750</td>\n      <td>...</td>\n      <td>36640.849670</td>\n      <td>1659.492596</td>\n      <td>50.675884</td>\n      <td>6.511706e+00</td>\n      <td>32040.696882</td>\n      <td>inf</td>\n      <td>310.970378</td>\n      <td>909.133418</td>\n      <td>50.675884</td>\n      <td>1.000000</td>\n    </tr>\n  </tbody>\n</table>\n<p>11 rows × 37 columns</p>\n</div>"
     },
     "metadata": {},
     "execution_count": 4
    }
   ],
   "source": [
    "xqrs.describe(include='all')"
   ]
  },
  {
   "cell_type": "code",
   "execution_count": 5,
   "metadata": {},
   "outputs": [],
   "source": [
    "xqrs['Dossier Patient'] = xqrs['Dossier Patient'].astype(str)\n",
    "xqrs['Patient'] = xqrs['Patient'].astype(str)"
   ]
  },
  {
   "cell_type": "code",
   "execution_count": 6,
   "metadata": {},
   "outputs": [
    {
     "output_type": "execute_result",
     "data": {
      "text/plain": "           Set Categorie Montage Dossier Patient Patient Session        Date  \\\ncount   308945            308945          308945  308945  308945      308945   \nunique       2                 3             132     603      39         915   \ntop      train         01_tcp_ar             104    9578    s001  04/05/2014   \nfreq    251812            232247           14065   11745   59243        3516   \nmean       NaN               NaN             NaN     NaN     NaN         NaN   \nstd        NaN               NaN             NaN     NaN     NaN         NaN   \nmin        NaN               NaN             NaN     NaN     NaN         NaN   \n25%        NaN               NaN             NaN     NaN     NaN         NaN   \n50%        NaN               NaN             NaN     NaN     NaN         NaN   \n75%        NaN               NaN             NaN     NaN     NaN         NaN   \nmax        NaN               NaN             NaN     NaN     NaN         NaN   \n\n       File N°  interval_index  interval_start_time       mean_nni  ...  \\\ncount   308945   308945.000000         3.089450e+05  271217.000000  ...   \nunique      33             NaN                  NaN            NaN  ...   \ntop       t000             NaN                  NaN            NaN  ...   \nfreq     84859             NaN                  NaN            NaN  ...   \nmean       NaN       46.626600         4.662660e+05     723.363894  ...   \nstd        NaN       46.158892         4.615889e+05     187.850494  ...   \nmin        NaN        0.000000         0.000000e+00       0.000000  ...   \n25%        NaN       15.000000         1.500000e+05     613.740809  ...   \n50%        NaN       33.000000         3.300000e+05     712.053571  ...   \n75%        NaN       60.000000         6.000000e+05     828.450521  ...   \nmax        NaN      359.000000         3.590000e+06    1777.343750  ...   \n\n                  vlf    lf_hf_ratio            csi           cvi  \\\ncount   190698.000000  190075.000000  232138.000000  2.325810e+05   \nunique            NaN            NaN            NaN           NaN   \ntop               NaN            NaN            NaN           NaN   \nfreq              NaN            NaN            NaN           NaN   \nmean       357.658897      10.974066       5.106539          -inf   \nstd        845.394890      14.816918       3.031795           NaN   \nmin          0.000000       0.037210       0.256758          -inf   \n25%         19.189833       3.339780       3.110920  2.592831e+00   \n50%         88.703498       7.206585       4.333752  3.327306e+00   \n75%        338.092763      14.258062       6.191644  3.967830e+00   \nmax      36640.849670    1659.492596      50.675884  6.511706e+00   \n\n         Modified_csi        sampen            sd1            sd2  \\\ncount   232138.000000  2.655440e+05  232581.000000  232581.000000   \nunique            NaN           NaN            NaN            NaN   \ntop               NaN           NaN            NaN            NaN   \nfreq              NaN           NaN            NaN            NaN   \nmean       859.395808           inf       9.259266      39.410133   \nstd       1230.536350           NaN      11.291463      43.771038   \nmin          0.361010 -0.000000e+00       0.000000       0.000000   \n25%        184.109288  3.778332e-01       2.070292      11.176479   \n50%        467.497737  6.154200e-01       5.256634      25.192242   \n75%       1049.816390  9.426080e-01      11.898158      51.315977   \nmax      32040.696882           inf     310.970378     909.133418   \n\n        ratio_sd2_sd1          label  \ncount   232138.000000  304124.000000  \nunique            NaN            NaN  \ntop               NaN            NaN  \nfreq              NaN            NaN  \nmean         5.106539       0.067215  \nstd          3.031795       0.244909  \nmin          0.256758       0.000000  \n25%          3.110920       0.000000  \n50%          4.333752       0.000000  \n75%          6.191644       0.000000  \nmax         50.675884       1.000000  \n\n[11 rows x 37 columns]",
      "text/html": "<div>\n<style scoped>\n    .dataframe tbody tr th:only-of-type {\n        vertical-align: middle;\n    }\n\n    .dataframe tbody tr th {\n        vertical-align: top;\n    }\n\n    .dataframe thead th {\n        text-align: right;\n    }\n</style>\n<table border=\"1\" class=\"dataframe\">\n  <thead>\n    <tr style=\"text-align: right;\">\n      <th></th>\n      <th>Set</th>\n      <th>Categorie Montage</th>\n      <th>Dossier Patient</th>\n      <th>Patient</th>\n      <th>Session</th>\n      <th>Date</th>\n      <th>File N°</th>\n      <th>interval_index</th>\n      <th>interval_start_time</th>\n      <th>mean_nni</th>\n      <th>...</th>\n      <th>vlf</th>\n      <th>lf_hf_ratio</th>\n      <th>csi</th>\n      <th>cvi</th>\n      <th>Modified_csi</th>\n      <th>sampen</th>\n      <th>sd1</th>\n      <th>sd2</th>\n      <th>ratio_sd2_sd1</th>\n      <th>label</th>\n    </tr>\n  </thead>\n  <tbody>\n    <tr>\n      <th>count</th>\n      <td>308945</td>\n      <td>308945</td>\n      <td>308945</td>\n      <td>308945</td>\n      <td>308945</td>\n      <td>308945</td>\n      <td>308945</td>\n      <td>308945.000000</td>\n      <td>3.089450e+05</td>\n      <td>271217.000000</td>\n      <td>...</td>\n      <td>190698.000000</td>\n      <td>190075.000000</td>\n      <td>232138.000000</td>\n      <td>2.325810e+05</td>\n      <td>232138.000000</td>\n      <td>2.655440e+05</td>\n      <td>232581.000000</td>\n      <td>232581.000000</td>\n      <td>232138.000000</td>\n      <td>304124.000000</td>\n    </tr>\n    <tr>\n      <th>unique</th>\n      <td>2</td>\n      <td>3</td>\n      <td>132</td>\n      <td>603</td>\n      <td>39</td>\n      <td>915</td>\n      <td>33</td>\n      <td>NaN</td>\n      <td>NaN</td>\n      <td>NaN</td>\n      <td>...</td>\n      <td>NaN</td>\n      <td>NaN</td>\n      <td>NaN</td>\n      <td>NaN</td>\n      <td>NaN</td>\n      <td>NaN</td>\n      <td>NaN</td>\n      <td>NaN</td>\n      <td>NaN</td>\n      <td>NaN</td>\n    </tr>\n    <tr>\n      <th>top</th>\n      <td>train</td>\n      <td>01_tcp_ar</td>\n      <td>104</td>\n      <td>9578</td>\n      <td>s001</td>\n      <td>04/05/2014</td>\n      <td>t000</td>\n      <td>NaN</td>\n      <td>NaN</td>\n      <td>NaN</td>\n      <td>...</td>\n      <td>NaN</td>\n      <td>NaN</td>\n      <td>NaN</td>\n      <td>NaN</td>\n      <td>NaN</td>\n      <td>NaN</td>\n      <td>NaN</td>\n      <td>NaN</td>\n      <td>NaN</td>\n      <td>NaN</td>\n    </tr>\n    <tr>\n      <th>freq</th>\n      <td>251812</td>\n      <td>232247</td>\n      <td>14065</td>\n      <td>11745</td>\n      <td>59243</td>\n      <td>3516</td>\n      <td>84859</td>\n      <td>NaN</td>\n      <td>NaN</td>\n      <td>NaN</td>\n      <td>...</td>\n      <td>NaN</td>\n      <td>NaN</td>\n      <td>NaN</td>\n      <td>NaN</td>\n      <td>NaN</td>\n      <td>NaN</td>\n      <td>NaN</td>\n      <td>NaN</td>\n      <td>NaN</td>\n      <td>NaN</td>\n    </tr>\n    <tr>\n      <th>mean</th>\n      <td>NaN</td>\n      <td>NaN</td>\n      <td>NaN</td>\n      <td>NaN</td>\n      <td>NaN</td>\n      <td>NaN</td>\n      <td>NaN</td>\n      <td>46.626600</td>\n      <td>4.662660e+05</td>\n      <td>723.363894</td>\n      <td>...</td>\n      <td>357.658897</td>\n      <td>10.974066</td>\n      <td>5.106539</td>\n      <td>-inf</td>\n      <td>859.395808</td>\n      <td>inf</td>\n      <td>9.259266</td>\n      <td>39.410133</td>\n      <td>5.106539</td>\n      <td>0.067215</td>\n    </tr>\n    <tr>\n      <th>std</th>\n      <td>NaN</td>\n      <td>NaN</td>\n      <td>NaN</td>\n      <td>NaN</td>\n      <td>NaN</td>\n      <td>NaN</td>\n      <td>NaN</td>\n      <td>46.158892</td>\n      <td>4.615889e+05</td>\n      <td>187.850494</td>\n      <td>...</td>\n      <td>845.394890</td>\n      <td>14.816918</td>\n      <td>3.031795</td>\n      <td>NaN</td>\n      <td>1230.536350</td>\n      <td>NaN</td>\n      <td>11.291463</td>\n      <td>43.771038</td>\n      <td>3.031795</td>\n      <td>0.244909</td>\n    </tr>\n    <tr>\n      <th>min</th>\n      <td>NaN</td>\n      <td>NaN</td>\n      <td>NaN</td>\n      <td>NaN</td>\n      <td>NaN</td>\n      <td>NaN</td>\n      <td>NaN</td>\n      <td>0.000000</td>\n      <td>0.000000e+00</td>\n      <td>0.000000</td>\n      <td>...</td>\n      <td>0.000000</td>\n      <td>0.037210</td>\n      <td>0.256758</td>\n      <td>-inf</td>\n      <td>0.361010</td>\n      <td>-0.000000e+00</td>\n      <td>0.000000</td>\n      <td>0.000000</td>\n      <td>0.256758</td>\n      <td>0.000000</td>\n    </tr>\n    <tr>\n      <th>25%</th>\n      <td>NaN</td>\n      <td>NaN</td>\n      <td>NaN</td>\n      <td>NaN</td>\n      <td>NaN</td>\n      <td>NaN</td>\n      <td>NaN</td>\n      <td>15.000000</td>\n      <td>1.500000e+05</td>\n      <td>613.740809</td>\n      <td>...</td>\n      <td>19.189833</td>\n      <td>3.339780</td>\n      <td>3.110920</td>\n      <td>2.592831e+00</td>\n      <td>184.109288</td>\n      <td>3.778332e-01</td>\n      <td>2.070292</td>\n      <td>11.176479</td>\n      <td>3.110920</td>\n      <td>0.000000</td>\n    </tr>\n    <tr>\n      <th>50%</th>\n      <td>NaN</td>\n      <td>NaN</td>\n      <td>NaN</td>\n      <td>NaN</td>\n      <td>NaN</td>\n      <td>NaN</td>\n      <td>NaN</td>\n      <td>33.000000</td>\n      <td>3.300000e+05</td>\n      <td>712.053571</td>\n      <td>...</td>\n      <td>88.703498</td>\n      <td>7.206585</td>\n      <td>4.333752</td>\n      <td>3.327306e+00</td>\n      <td>467.497737</td>\n      <td>6.154200e-01</td>\n      <td>5.256634</td>\n      <td>25.192242</td>\n      <td>4.333752</td>\n      <td>0.000000</td>\n    </tr>\n    <tr>\n      <th>75%</th>\n      <td>NaN</td>\n      <td>NaN</td>\n      <td>NaN</td>\n      <td>NaN</td>\n      <td>NaN</td>\n      <td>NaN</td>\n      <td>NaN</td>\n      <td>60.000000</td>\n      <td>6.000000e+05</td>\n      <td>828.450521</td>\n      <td>...</td>\n      <td>338.092763</td>\n      <td>14.258062</td>\n      <td>6.191644</td>\n      <td>3.967830e+00</td>\n      <td>1049.816390</td>\n      <td>9.426080e-01</td>\n      <td>11.898158</td>\n      <td>51.315977</td>\n      <td>6.191644</td>\n      <td>0.000000</td>\n    </tr>\n    <tr>\n      <th>max</th>\n      <td>NaN</td>\n      <td>NaN</td>\n      <td>NaN</td>\n      <td>NaN</td>\n      <td>NaN</td>\n      <td>NaN</td>\n      <td>NaN</td>\n      <td>359.000000</td>\n      <td>3.590000e+06</td>\n      <td>1777.343750</td>\n      <td>...</td>\n      <td>36640.849670</td>\n      <td>1659.492596</td>\n      <td>50.675884</td>\n      <td>6.511706e+00</td>\n      <td>32040.696882</td>\n      <td>inf</td>\n      <td>310.970378</td>\n      <td>909.133418</td>\n      <td>50.675884</td>\n      <td>1.000000</td>\n    </tr>\n  </tbody>\n</table>\n<p>11 rows × 37 columns</p>\n</div>"
     },
     "metadata": {},
     "execution_count": 6
    }
   ],
   "source": [
    "xqrs.describe(include='all')"
   ]
  },
  {
   "cell_type": "markdown",
   "metadata": {},
   "source": [
    "**On cherche à savoir le pourcentage de crise d'un patient sur la durée totale du test**"
   ]
  },
  {
   "cell_type": "code",
   "execution_count": 7,
   "metadata": {},
   "outputs": [],
   "source": [
    "percentage = xqrs[['Patient', 'label']].groupby(['Patient']).agg(['sum', 'count'])"
   ]
  },
  {
   "cell_type": "code",
   "execution_count": 8,
   "metadata": {},
   "outputs": [
    {
     "output_type": "execute_result",
     "data": {
      "text/plain": "MultiIndex([('label',   'sum'),\n            ('label', 'count')],\n           )"
     },
     "metadata": {},
     "execution_count": 8
    }
   ],
   "source": [
    "percentage.columns"
   ]
  },
  {
   "cell_type": "code",
   "execution_count": 9,
   "metadata": {},
   "outputs": [],
   "source": [
    "percentage[('label', 'percent')] = (percentage[('label',   'sum')] / percentage[('label',   'count')]) * 100"
   ]
  },
  {
   "cell_type": "code",
   "execution_count": 10,
   "metadata": {},
   "outputs": [
    {
     "output_type": "execute_result",
     "data": {
      "text/plain": "             label                 \n               sum count    percent\nPatient                            \n10020    111.74689   351  31.836721\n10022     55.13887  2740   2.012368\n10023      0.00000   373   0.000000\n10035      0.00000   132   0.000000\n1006      17.65080   495   3.565818\n...            ...   ...        ...\n9906       0.00000   282   0.000000\n9932       9.93164  1309   0.758720\n9934      14.51991   683   2.125902\n9958       0.00000   258   0.000000\n9994      10.59720  1540   0.688130\n\n[603 rows x 3 columns]",
      "text/html": "<div>\n<style scoped>\n    .dataframe tbody tr th:only-of-type {\n        vertical-align: middle;\n    }\n\n    .dataframe tbody tr th {\n        vertical-align: top;\n    }\n\n    .dataframe thead tr th {\n        text-align: left;\n    }\n\n    .dataframe thead tr:last-of-type th {\n        text-align: right;\n    }\n</style>\n<table border=\"1\" class=\"dataframe\">\n  <thead>\n    <tr>\n      <th></th>\n      <th colspan=\"3\" halign=\"left\">label</th>\n    </tr>\n    <tr>\n      <th></th>\n      <th>sum</th>\n      <th>count</th>\n      <th>percent</th>\n    </tr>\n    <tr>\n      <th>Patient</th>\n      <th></th>\n      <th></th>\n      <th></th>\n    </tr>\n  </thead>\n  <tbody>\n    <tr>\n      <th>10020</th>\n      <td>111.74689</td>\n      <td>351</td>\n      <td>31.836721</td>\n    </tr>\n    <tr>\n      <th>10022</th>\n      <td>55.13887</td>\n      <td>2740</td>\n      <td>2.012368</td>\n    </tr>\n    <tr>\n      <th>10023</th>\n      <td>0.00000</td>\n      <td>373</td>\n      <td>0.000000</td>\n    </tr>\n    <tr>\n      <th>10035</th>\n      <td>0.00000</td>\n      <td>132</td>\n      <td>0.000000</td>\n    </tr>\n    <tr>\n      <th>1006</th>\n      <td>17.65080</td>\n      <td>495</td>\n      <td>3.565818</td>\n    </tr>\n    <tr>\n      <th>...</th>\n      <td>...</td>\n      <td>...</td>\n      <td>...</td>\n    </tr>\n    <tr>\n      <th>9906</th>\n      <td>0.00000</td>\n      <td>282</td>\n      <td>0.000000</td>\n    </tr>\n    <tr>\n      <th>9932</th>\n      <td>9.93164</td>\n      <td>1309</td>\n      <td>0.758720</td>\n    </tr>\n    <tr>\n      <th>9934</th>\n      <td>14.51991</td>\n      <td>683</td>\n      <td>2.125902</td>\n    </tr>\n    <tr>\n      <th>9958</th>\n      <td>0.00000</td>\n      <td>258</td>\n      <td>0.000000</td>\n    </tr>\n    <tr>\n      <th>9994</th>\n      <td>10.59720</td>\n      <td>1540</td>\n      <td>0.688130</td>\n    </tr>\n  </tbody>\n</table>\n<p>603 rows × 3 columns</p>\n</div>"
     },
     "metadata": {},
     "execution_count": 10
    }
   ],
   "source": [
    "percentage"
   ]
  },
  {
   "cell_type": "code",
   "execution_count": 11,
   "metadata": {},
   "outputs": [
    {
     "output_type": "execute_result",
     "data": {
      "text/plain": "label  sum         59.059200\n       count      298.000000\n       percent     19.818523\nName: 2, dtype: float64"
     },
     "metadata": {},
     "execution_count": 11
    }
   ],
   "source": [
    "percentage.loc[\"2\",:]"
   ]
  },
  {
   "cell_type": "code",
   "execution_count": 12,
   "metadata": {},
   "outputs": [
    {
     "output_type": "execute_result",
     "data": {
      "text/plain": "             label                 \n               sum count    percent\nPatient                            \n10020    111.74689   351  31.836721\n10022     55.13887  2740   2.012368\n10023      0.00000   373   0.000000\n10035      0.00000   132   0.000000\n1006      17.65080   495   3.565818\n...            ...   ...        ...\n9906       0.00000   282   0.000000\n9932       9.93164  1309   0.758720\n9934      14.51991   683   2.125902\n9958       0.00000   258   0.000000\n9994      10.59720  1540   0.688130\n\n[603 rows x 3 columns]",
      "text/html": "<div>\n<style scoped>\n    .dataframe tbody tr th:only-of-type {\n        vertical-align: middle;\n    }\n\n    .dataframe tbody tr th {\n        vertical-align: top;\n    }\n\n    .dataframe thead tr th {\n        text-align: left;\n    }\n\n    .dataframe thead tr:last-of-type th {\n        text-align: right;\n    }\n</style>\n<table border=\"1\" class=\"dataframe\">\n  <thead>\n    <tr>\n      <th></th>\n      <th colspan=\"3\" halign=\"left\">label</th>\n    </tr>\n    <tr>\n      <th></th>\n      <th>sum</th>\n      <th>count</th>\n      <th>percent</th>\n    </tr>\n    <tr>\n      <th>Patient</th>\n      <th></th>\n      <th></th>\n      <th></th>\n    </tr>\n  </thead>\n  <tbody>\n    <tr>\n      <th>10020</th>\n      <td>111.74689</td>\n      <td>351</td>\n      <td>31.836721</td>\n    </tr>\n    <tr>\n      <th>10022</th>\n      <td>55.13887</td>\n      <td>2740</td>\n      <td>2.012368</td>\n    </tr>\n    <tr>\n      <th>10023</th>\n      <td>0.00000</td>\n      <td>373</td>\n      <td>0.000000</td>\n    </tr>\n    <tr>\n      <th>10035</th>\n      <td>0.00000</td>\n      <td>132</td>\n      <td>0.000000</td>\n    </tr>\n    <tr>\n      <th>1006</th>\n      <td>17.65080</td>\n      <td>495</td>\n      <td>3.565818</td>\n    </tr>\n    <tr>\n      <th>...</th>\n      <td>...</td>\n      <td>...</td>\n      <td>...</td>\n    </tr>\n    <tr>\n      <th>9906</th>\n      <td>0.00000</td>\n      <td>282</td>\n      <td>0.000000</td>\n    </tr>\n    <tr>\n      <th>9932</th>\n      <td>9.93164</td>\n      <td>1309</td>\n      <td>0.758720</td>\n    </tr>\n    <tr>\n      <th>9934</th>\n      <td>14.51991</td>\n      <td>683</td>\n      <td>2.125902</td>\n    </tr>\n    <tr>\n      <th>9958</th>\n      <td>0.00000</td>\n      <td>258</td>\n      <td>0.000000</td>\n    </tr>\n    <tr>\n      <th>9994</th>\n      <td>10.59720</td>\n      <td>1540</td>\n      <td>0.688130</td>\n    </tr>\n  </tbody>\n</table>\n<p>603 rows × 3 columns</p>\n</div>"
     },
     "metadata": {},
     "execution_count": 12
    }
   ],
   "source": [
    "percentage"
   ]
  },
  {
   "cell_type": "markdown",
   "metadata": {},
   "source": [
    "**On cherche à savoir le pourcentage de NaN pour chaque features**"
   ]
  },
  {
   "cell_type": "code",
   "execution_count": 13,
   "metadata": {},
   "outputs": [],
   "source": [
    "params = {}\n",
    "for cols in xqrs.columns.tolist()[9:]:\n",
    "    params[cols] = [lambda x: x.isnull().sum(), 'count']"
   ]
  },
  {
   "cell_type": "code",
   "execution_count": 14,
   "metadata": {},
   "outputs": [],
   "source": [
    "count_nan = xqrs[['Patient'] + xqrs.columns.tolist()[9:]].groupby('Patient').agg(params)"
   ]
  },
  {
   "cell_type": "code",
   "execution_count": 15,
   "metadata": {},
   "outputs": [],
   "source": [
    "for cols in xqrs.columns.tolist()[9:]:\n",
    "    count_nan[(cols, 'count')] = (count_nan[(cols, '<lambda_0>')] + count_nan[(cols, 'count')])\n",
    "    count_nan[(cols, 'percent')] = (count_nan[(cols, '<lambda_0>')] / count_nan[(cols, 'count')]) * 100"
   ]
  },
  {
   "cell_type": "code",
   "execution_count": 16,
   "metadata": {},
   "outputs": [
    {
     "output_type": "execute_result",
     "data": {
      "text/plain": "          mean_nni               sdnn               sdsd             nni_50  \\\n        <lambda_0>   count <lambda_0>   count <lambda_0>   count <lambda_0>   \nPatient                                                                       \n10020        154.0   354.0      154.0   354.0      154.0   354.0        0.0   \n10022        432.0  2777.0      469.0  2777.0      469.0  2777.0       99.0   \n10023          3.0   381.0        6.0   381.0        6.0   381.0        3.0   \n10035          2.0   133.0        2.0   133.0        2.0   133.0        0.0   \n1006          19.0   506.0       21.0   506.0       21.0   506.0        2.0   \n...            ...     ...        ...     ...        ...     ...        ...   \n9906          22.0   283.0       22.0   283.0       22.0   283.0        0.0   \n9932         191.0  1327.0      199.0  1327.0      199.0  1327.0       30.0   \n9934           4.0   693.0        7.0   693.0        7.0   693.0        4.0   \n9958           2.0   259.0        2.0   259.0        2.0   259.0        0.0   \n9994           3.0  1563.0       13.0  1563.0       13.0  1563.0        3.0   \n\n                   pnni_50          ...        vlf lf_hf_ratio        csi  \\\n          count <lambda_0>   count  ...    percent     percent    percent   \nPatient                             ...                                     \n10020     354.0        0.0   354.0  ...  79.661017   79.661017  65.819209   \n10022    2777.0       99.0  2777.0  ...  42.635938   42.671948  28.555996   \n10023     381.0        3.0   381.0  ...  29.133858   29.133858  13.648294   \n10035     133.0        0.0   133.0  ...  13.533835   13.533835   6.766917   \n1006      506.0        2.0   506.0  ...  40.316206   40.316206  21.541502   \n...         ...        ...     ...  ...        ...         ...        ...   \n9906      283.0        0.0   283.0  ...  17.667845   17.667845  12.367491   \n9932     1327.0       30.0  1327.0  ...  46.420497   46.420497  31.348907   \n9934      693.0        4.0   693.0  ...  25.396825   25.396825  11.111111   \n9958      259.0        0.0   259.0  ...   6.177606    6.177606   4.633205   \n9994     1563.0        3.0  1563.0  ...  23.224568   23.224568  10.428663   \n\n               cvi Modified_csi     sampen        sd1        sd2  \\\n           percent      percent    percent    percent    percent   \nPatient                                                            \n10020    65.819209    65.819209   5.932203  65.819209  65.819209   \n10022    28.555996    28.555996  12.747569  28.555996  28.555996   \n10023    13.648294    13.648294  13.648294  13.648294  13.648294   \n10035     6.766917     6.766917   5.263158   6.766917   6.766917   \n1006     21.541502    21.541502  17.786561  21.541502  21.541502   \n...            ...          ...        ...        ...        ...   \n9906     12.367491    12.367491   4.946996  12.367491  12.367491   \n9932     31.198191    31.348907  14.920874  31.198191  31.198191   \n9934     11.111111    11.111111  11.111111  11.111111  11.111111   \n9958      4.633205     4.633205   2.702703   4.633205   4.633205   \n9994     10.428663    10.428663  10.428663  10.428663  10.428663   \n\n        ratio_sd2_sd1     label  \n              percent   percent  \nPatient                          \n10020       65.819209  0.847458  \n10022       28.555996  1.332373  \n10023       13.648294  2.099738  \n10035        6.766917  0.751880  \n1006        21.541502  2.173913  \n...               ...       ...  \n9906        12.367491  0.353357  \n9932        31.348907  1.356443  \n9934        11.111111  1.443001  \n9958         4.633205  0.386100  \n9994        10.428663  1.471529  \n\n[603 rows x 84 columns]",
      "text/html": "<div>\n<style scoped>\n    .dataframe tbody tr th:only-of-type {\n        vertical-align: middle;\n    }\n\n    .dataframe tbody tr th {\n        vertical-align: top;\n    }\n\n    .dataframe thead tr th {\n        text-align: left;\n    }\n\n    .dataframe thead tr:last-of-type th {\n        text-align: right;\n    }\n</style>\n<table border=\"1\" class=\"dataframe\">\n  <thead>\n    <tr>\n      <th></th>\n      <th colspan=\"2\" halign=\"left\">mean_nni</th>\n      <th colspan=\"2\" halign=\"left\">sdnn</th>\n      <th colspan=\"2\" halign=\"left\">sdsd</th>\n      <th colspan=\"2\" halign=\"left\">nni_50</th>\n      <th colspan=\"2\" halign=\"left\">pnni_50</th>\n      <th>...</th>\n      <th>vlf</th>\n      <th>lf_hf_ratio</th>\n      <th>csi</th>\n      <th>cvi</th>\n      <th>Modified_csi</th>\n      <th>sampen</th>\n      <th>sd1</th>\n      <th>sd2</th>\n      <th>ratio_sd2_sd1</th>\n      <th>label</th>\n    </tr>\n    <tr>\n      <th></th>\n      <th>&lt;lambda_0&gt;</th>\n      <th>count</th>\n      <th>&lt;lambda_0&gt;</th>\n      <th>count</th>\n      <th>&lt;lambda_0&gt;</th>\n      <th>count</th>\n      <th>&lt;lambda_0&gt;</th>\n      <th>count</th>\n      <th>&lt;lambda_0&gt;</th>\n      <th>count</th>\n      <th>...</th>\n      <th>percent</th>\n      <th>percent</th>\n      <th>percent</th>\n      <th>percent</th>\n      <th>percent</th>\n      <th>percent</th>\n      <th>percent</th>\n      <th>percent</th>\n      <th>percent</th>\n      <th>percent</th>\n    </tr>\n    <tr>\n      <th>Patient</th>\n      <th></th>\n      <th></th>\n      <th></th>\n      <th></th>\n      <th></th>\n      <th></th>\n      <th></th>\n      <th></th>\n      <th></th>\n      <th></th>\n      <th></th>\n      <th></th>\n      <th></th>\n      <th></th>\n      <th></th>\n      <th></th>\n      <th></th>\n      <th></th>\n      <th></th>\n      <th></th>\n      <th></th>\n    </tr>\n  </thead>\n  <tbody>\n    <tr>\n      <th>10020</th>\n      <td>154.0</td>\n      <td>354.0</td>\n      <td>154.0</td>\n      <td>354.0</td>\n      <td>154.0</td>\n      <td>354.0</td>\n      <td>0.0</td>\n      <td>354.0</td>\n      <td>0.0</td>\n      <td>354.0</td>\n      <td>...</td>\n      <td>79.661017</td>\n      <td>79.661017</td>\n      <td>65.819209</td>\n      <td>65.819209</td>\n      <td>65.819209</td>\n      <td>5.932203</td>\n      <td>65.819209</td>\n      <td>65.819209</td>\n      <td>65.819209</td>\n      <td>0.847458</td>\n    </tr>\n    <tr>\n      <th>10022</th>\n      <td>432.0</td>\n      <td>2777.0</td>\n      <td>469.0</td>\n      <td>2777.0</td>\n      <td>469.0</td>\n      <td>2777.0</td>\n      <td>99.0</td>\n      <td>2777.0</td>\n      <td>99.0</td>\n      <td>2777.0</td>\n      <td>...</td>\n      <td>42.635938</td>\n      <td>42.671948</td>\n      <td>28.555996</td>\n      <td>28.555996</td>\n      <td>28.555996</td>\n      <td>12.747569</td>\n      <td>28.555996</td>\n      <td>28.555996</td>\n      <td>28.555996</td>\n      <td>1.332373</td>\n    </tr>\n    <tr>\n      <th>10023</th>\n      <td>3.0</td>\n      <td>381.0</td>\n      <td>6.0</td>\n      <td>381.0</td>\n      <td>6.0</td>\n      <td>381.0</td>\n      <td>3.0</td>\n      <td>381.0</td>\n      <td>3.0</td>\n      <td>381.0</td>\n      <td>...</td>\n      <td>29.133858</td>\n      <td>29.133858</td>\n      <td>13.648294</td>\n      <td>13.648294</td>\n      <td>13.648294</td>\n      <td>13.648294</td>\n      <td>13.648294</td>\n      <td>13.648294</td>\n      <td>13.648294</td>\n      <td>2.099738</td>\n    </tr>\n    <tr>\n      <th>10035</th>\n      <td>2.0</td>\n      <td>133.0</td>\n      <td>2.0</td>\n      <td>133.0</td>\n      <td>2.0</td>\n      <td>133.0</td>\n      <td>0.0</td>\n      <td>133.0</td>\n      <td>0.0</td>\n      <td>133.0</td>\n      <td>...</td>\n      <td>13.533835</td>\n      <td>13.533835</td>\n      <td>6.766917</td>\n      <td>6.766917</td>\n      <td>6.766917</td>\n      <td>5.263158</td>\n      <td>6.766917</td>\n      <td>6.766917</td>\n      <td>6.766917</td>\n      <td>0.751880</td>\n    </tr>\n    <tr>\n      <th>1006</th>\n      <td>19.0</td>\n      <td>506.0</td>\n      <td>21.0</td>\n      <td>506.0</td>\n      <td>21.0</td>\n      <td>506.0</td>\n      <td>2.0</td>\n      <td>506.0</td>\n      <td>2.0</td>\n      <td>506.0</td>\n      <td>...</td>\n      <td>40.316206</td>\n      <td>40.316206</td>\n      <td>21.541502</td>\n      <td>21.541502</td>\n      <td>21.541502</td>\n      <td>17.786561</td>\n      <td>21.541502</td>\n      <td>21.541502</td>\n      <td>21.541502</td>\n      <td>2.173913</td>\n    </tr>\n    <tr>\n      <th>...</th>\n      <td>...</td>\n      <td>...</td>\n      <td>...</td>\n      <td>...</td>\n      <td>...</td>\n      <td>...</td>\n      <td>...</td>\n      <td>...</td>\n      <td>...</td>\n      <td>...</td>\n      <td>...</td>\n      <td>...</td>\n      <td>...</td>\n      <td>...</td>\n      <td>...</td>\n      <td>...</td>\n      <td>...</td>\n      <td>...</td>\n      <td>...</td>\n      <td>...</td>\n      <td>...</td>\n    </tr>\n    <tr>\n      <th>9906</th>\n      <td>22.0</td>\n      <td>283.0</td>\n      <td>22.0</td>\n      <td>283.0</td>\n      <td>22.0</td>\n      <td>283.0</td>\n      <td>0.0</td>\n      <td>283.0</td>\n      <td>0.0</td>\n      <td>283.0</td>\n      <td>...</td>\n      <td>17.667845</td>\n      <td>17.667845</td>\n      <td>12.367491</td>\n      <td>12.367491</td>\n      <td>12.367491</td>\n      <td>4.946996</td>\n      <td>12.367491</td>\n      <td>12.367491</td>\n      <td>12.367491</td>\n      <td>0.353357</td>\n    </tr>\n    <tr>\n      <th>9932</th>\n      <td>191.0</td>\n      <td>1327.0</td>\n      <td>199.0</td>\n      <td>1327.0</td>\n      <td>199.0</td>\n      <td>1327.0</td>\n      <td>30.0</td>\n      <td>1327.0</td>\n      <td>30.0</td>\n      <td>1327.0</td>\n      <td>...</td>\n      <td>46.420497</td>\n      <td>46.420497</td>\n      <td>31.348907</td>\n      <td>31.198191</td>\n      <td>31.348907</td>\n      <td>14.920874</td>\n      <td>31.198191</td>\n      <td>31.198191</td>\n      <td>31.348907</td>\n      <td>1.356443</td>\n    </tr>\n    <tr>\n      <th>9934</th>\n      <td>4.0</td>\n      <td>693.0</td>\n      <td>7.0</td>\n      <td>693.0</td>\n      <td>7.0</td>\n      <td>693.0</td>\n      <td>4.0</td>\n      <td>693.0</td>\n      <td>4.0</td>\n      <td>693.0</td>\n      <td>...</td>\n      <td>25.396825</td>\n      <td>25.396825</td>\n      <td>11.111111</td>\n      <td>11.111111</td>\n      <td>11.111111</td>\n      <td>11.111111</td>\n      <td>11.111111</td>\n      <td>11.111111</td>\n      <td>11.111111</td>\n      <td>1.443001</td>\n    </tr>\n    <tr>\n      <th>9958</th>\n      <td>2.0</td>\n      <td>259.0</td>\n      <td>2.0</td>\n      <td>259.0</td>\n      <td>2.0</td>\n      <td>259.0</td>\n      <td>0.0</td>\n      <td>259.0</td>\n      <td>0.0</td>\n      <td>259.0</td>\n      <td>...</td>\n      <td>6.177606</td>\n      <td>6.177606</td>\n      <td>4.633205</td>\n      <td>4.633205</td>\n      <td>4.633205</td>\n      <td>2.702703</td>\n      <td>4.633205</td>\n      <td>4.633205</td>\n      <td>4.633205</td>\n      <td>0.386100</td>\n    </tr>\n    <tr>\n      <th>9994</th>\n      <td>3.0</td>\n      <td>1563.0</td>\n      <td>13.0</td>\n      <td>1563.0</td>\n      <td>13.0</td>\n      <td>1563.0</td>\n      <td>3.0</td>\n      <td>1563.0</td>\n      <td>3.0</td>\n      <td>1563.0</td>\n      <td>...</td>\n      <td>23.224568</td>\n      <td>23.224568</td>\n      <td>10.428663</td>\n      <td>10.428663</td>\n      <td>10.428663</td>\n      <td>10.428663</td>\n      <td>10.428663</td>\n      <td>10.428663</td>\n      <td>10.428663</td>\n      <td>1.471529</td>\n    </tr>\n  </tbody>\n</table>\n<p>603 rows × 84 columns</p>\n</div>"
     },
     "metadata": {},
     "execution_count": 16
    }
   ],
   "source": [
    "count_nan"
   ]
  },
  {
   "cell_type": "code",
   "execution_count": 17,
   "metadata": {},
   "outputs": [
    {
     "output_type": "execute_result",
     "data": {
      "text/plain": "         Set Categorie Montage Dossier Patient Patient Session        Date  \\\n14073  train         01_tcp_ar             115   11575    s002  20/05/2014   \n14074  train         01_tcp_ar             115   11575    s002  20/05/2014   \n14075  train         01_tcp_ar             115   11575    s002  20/05/2014   \n14076  train         01_tcp_ar             115   11575    s002  20/05/2014   \n14077  train         01_tcp_ar             115   11575    s002  20/05/2014   \n14078  train         01_tcp_ar             115   11575    s002  20/05/2014   \n14079  train         01_tcp_ar             115   11575    s002  20/05/2014   \n14080  train         01_tcp_ar             115   11575    s002  20/05/2014   \n\n      File N°  interval_index  interval_start_time  mean_nni  ...  vlf  \\\n14073    t001             0.0                  0.0       NaN  ...  NaN   \n14074    t001             1.0              10000.0       NaN  ...  NaN   \n14075    t001             2.0              20000.0       NaN  ...  NaN   \n14076    t001             3.0              30000.0       NaN  ...  NaN   \n14077    t001             4.0              40000.0       NaN  ...  NaN   \n14078    t001             5.0              50000.0       NaN  ...  NaN   \n14079    t001             6.0              60000.0       NaN  ...  NaN   \n14080    t001             7.0              70000.0       NaN  ...  NaN   \n\n       lf_hf_ratio  csi  cvi  Modified_csi  sampen  sd1  sd2  ratio_sd2_sd1  \\\n14073          NaN  NaN  NaN           NaN     NaN  NaN  NaN            NaN   \n14074          NaN  NaN  NaN           NaN     NaN  NaN  NaN            NaN   \n14075          NaN  NaN  NaN           NaN     NaN  NaN  NaN            NaN   \n14076          NaN  NaN  NaN           NaN     NaN  NaN  NaN            NaN   \n14077          NaN  NaN  NaN           NaN     NaN  NaN  NaN            NaN   \n14078          NaN  NaN  NaN           NaN     NaN  NaN  NaN            NaN   \n14079          NaN  NaN  NaN           NaN     NaN  NaN  NaN            NaN   \n14080          NaN  NaN  NaN           NaN     inf  NaN  NaN            NaN   \n\n       label  \n14073    0.0  \n14074    0.0  \n14075    0.0  \n14076    0.0  \n14077    0.0  \n14078    0.0  \n14079    0.0  \n14080    0.0  \n\n[8 rows x 37 columns]",
      "text/html": "<div>\n<style scoped>\n    .dataframe tbody tr th:only-of-type {\n        vertical-align: middle;\n    }\n\n    .dataframe tbody tr th {\n        vertical-align: top;\n    }\n\n    .dataframe thead th {\n        text-align: right;\n    }\n</style>\n<table border=\"1\" class=\"dataframe\">\n  <thead>\n    <tr style=\"text-align: right;\">\n      <th></th>\n      <th>Set</th>\n      <th>Categorie Montage</th>\n      <th>Dossier Patient</th>\n      <th>Patient</th>\n      <th>Session</th>\n      <th>Date</th>\n      <th>File N°</th>\n      <th>interval_index</th>\n      <th>interval_start_time</th>\n      <th>mean_nni</th>\n      <th>...</th>\n      <th>vlf</th>\n      <th>lf_hf_ratio</th>\n      <th>csi</th>\n      <th>cvi</th>\n      <th>Modified_csi</th>\n      <th>sampen</th>\n      <th>sd1</th>\n      <th>sd2</th>\n      <th>ratio_sd2_sd1</th>\n      <th>label</th>\n    </tr>\n  </thead>\n  <tbody>\n    <tr>\n      <th>14073</th>\n      <td>train</td>\n      <td>01_tcp_ar</td>\n      <td>115</td>\n      <td>11575</td>\n      <td>s002</td>\n      <td>20/05/2014</td>\n      <td>t001</td>\n      <td>0.0</td>\n      <td>0.0</td>\n      <td>NaN</td>\n      <td>...</td>\n      <td>NaN</td>\n      <td>NaN</td>\n      <td>NaN</td>\n      <td>NaN</td>\n      <td>NaN</td>\n      <td>NaN</td>\n      <td>NaN</td>\n      <td>NaN</td>\n      <td>NaN</td>\n      <td>0.0</td>\n    </tr>\n    <tr>\n      <th>14074</th>\n      <td>train</td>\n      <td>01_tcp_ar</td>\n      <td>115</td>\n      <td>11575</td>\n      <td>s002</td>\n      <td>20/05/2014</td>\n      <td>t001</td>\n      <td>1.0</td>\n      <td>10000.0</td>\n      <td>NaN</td>\n      <td>...</td>\n      <td>NaN</td>\n      <td>NaN</td>\n      <td>NaN</td>\n      <td>NaN</td>\n      <td>NaN</td>\n      <td>NaN</td>\n      <td>NaN</td>\n      <td>NaN</td>\n      <td>NaN</td>\n      <td>0.0</td>\n    </tr>\n    <tr>\n      <th>14075</th>\n      <td>train</td>\n      <td>01_tcp_ar</td>\n      <td>115</td>\n      <td>11575</td>\n      <td>s002</td>\n      <td>20/05/2014</td>\n      <td>t001</td>\n      <td>2.0</td>\n      <td>20000.0</td>\n      <td>NaN</td>\n      <td>...</td>\n      <td>NaN</td>\n      <td>NaN</td>\n      <td>NaN</td>\n      <td>NaN</td>\n      <td>NaN</td>\n      <td>NaN</td>\n      <td>NaN</td>\n      <td>NaN</td>\n      <td>NaN</td>\n      <td>0.0</td>\n    </tr>\n    <tr>\n      <th>14076</th>\n      <td>train</td>\n      <td>01_tcp_ar</td>\n      <td>115</td>\n      <td>11575</td>\n      <td>s002</td>\n      <td>20/05/2014</td>\n      <td>t001</td>\n      <td>3.0</td>\n      <td>30000.0</td>\n      <td>NaN</td>\n      <td>...</td>\n      <td>NaN</td>\n      <td>NaN</td>\n      <td>NaN</td>\n      <td>NaN</td>\n      <td>NaN</td>\n      <td>NaN</td>\n      <td>NaN</td>\n      <td>NaN</td>\n      <td>NaN</td>\n      <td>0.0</td>\n    </tr>\n    <tr>\n      <th>14077</th>\n      <td>train</td>\n      <td>01_tcp_ar</td>\n      <td>115</td>\n      <td>11575</td>\n      <td>s002</td>\n      <td>20/05/2014</td>\n      <td>t001</td>\n      <td>4.0</td>\n      <td>40000.0</td>\n      <td>NaN</td>\n      <td>...</td>\n      <td>NaN</td>\n      <td>NaN</td>\n      <td>NaN</td>\n      <td>NaN</td>\n      <td>NaN</td>\n      <td>NaN</td>\n      <td>NaN</td>\n      <td>NaN</td>\n      <td>NaN</td>\n      <td>0.0</td>\n    </tr>\n    <tr>\n      <th>14078</th>\n      <td>train</td>\n      <td>01_tcp_ar</td>\n      <td>115</td>\n      <td>11575</td>\n      <td>s002</td>\n      <td>20/05/2014</td>\n      <td>t001</td>\n      <td>5.0</td>\n      <td>50000.0</td>\n      <td>NaN</td>\n      <td>...</td>\n      <td>NaN</td>\n      <td>NaN</td>\n      <td>NaN</td>\n      <td>NaN</td>\n      <td>NaN</td>\n      <td>NaN</td>\n      <td>NaN</td>\n      <td>NaN</td>\n      <td>NaN</td>\n      <td>0.0</td>\n    </tr>\n    <tr>\n      <th>14079</th>\n      <td>train</td>\n      <td>01_tcp_ar</td>\n      <td>115</td>\n      <td>11575</td>\n      <td>s002</td>\n      <td>20/05/2014</td>\n      <td>t001</td>\n      <td>6.0</td>\n      <td>60000.0</td>\n      <td>NaN</td>\n      <td>...</td>\n      <td>NaN</td>\n      <td>NaN</td>\n      <td>NaN</td>\n      <td>NaN</td>\n      <td>NaN</td>\n      <td>NaN</td>\n      <td>NaN</td>\n      <td>NaN</td>\n      <td>NaN</td>\n      <td>0.0</td>\n    </tr>\n    <tr>\n      <th>14080</th>\n      <td>train</td>\n      <td>01_tcp_ar</td>\n      <td>115</td>\n      <td>11575</td>\n      <td>s002</td>\n      <td>20/05/2014</td>\n      <td>t001</td>\n      <td>7.0</td>\n      <td>70000.0</td>\n      <td>NaN</td>\n      <td>...</td>\n      <td>NaN</td>\n      <td>NaN</td>\n      <td>NaN</td>\n      <td>NaN</td>\n      <td>NaN</td>\n      <td>inf</td>\n      <td>NaN</td>\n      <td>NaN</td>\n      <td>NaN</td>\n      <td>0.0</td>\n    </tr>\n  </tbody>\n</table>\n<p>8 rows × 37 columns</p>\n</div>"
     },
     "metadata": {},
     "execution_count": 17
    }
   ],
   "source": [
    "xqrs[xqrs['Patient'] == '11575']"
   ]
  },
  {
   "cell_type": "markdown",
   "metadata": {},
   "source": [
    "**On crée un dictionnaire avec en clé le nom de colonne et en valeur l'ID des patients ayant plus de 40% de NaN dans cette colonne**"
   ]
  },
  {
   "cell_type": "code",
   "execution_count": 18,
   "metadata": {},
   "outputs": [],
   "source": [
    "too_much_nan = {}\n",
    "for cols in xqrs.columns.tolist()[9:]:\n",
    "    too_much_nan[cols] = count_nan[count_nan[(cols, 'percent')] > 40].index"
   ]
  },
  {
   "cell_type": "code",
   "execution_count": 19,
   "metadata": {},
   "outputs": [
    {
     "output_type": "execute_result",
     "data": {
      "text/plain": "          Set Categorie Montage Dossier Patient Patient Session        Date  \\\n2719    train         01_tcp_ar             120   12046    s001  09/10/2014   \n2720    train         01_tcp_ar             120   12046    s001  09/10/2014   \n2721    train         01_tcp_ar             120   12046    s001  09/10/2014   \n2722    train         01_tcp_ar             120   12046    s001  09/10/2014   \n2723    train         01_tcp_ar             120   12046    s001  09/10/2014   \n...       ...               ...             ...     ...     ...         ...   \n308164    dev         02_tcp_le              19    1984    s001  17/02/2004   \n308165    dev         02_tcp_le              19    1984    s001  17/02/2004   \n308166    dev         02_tcp_le              19    1984    s001  17/02/2004   \n308167    dev         02_tcp_le              19    1984    s001  17/02/2004   \n308168    dev         02_tcp_le              19    1984    s001  17/02/2004   \n\n       File N°  interval_index  interval_start_time    mean_nni  ...  vlf  \\\n2719      t000             0.0                  0.0    0.000000  ...  NaN   \n2720      t000             1.0              10000.0         NaN  ...  NaN   \n2721      t000             2.0              20000.0    0.000000  ...  NaN   \n2722      t000             3.0              30000.0         NaN  ...  NaN   \n2723      t000             4.0              40000.0         NaN  ...  NaN   \n...        ...             ...                  ...         ...  ...  ...   \n308164    t001           141.0            1410000.0  728.615385  ...  NaN   \n308165    t001           142.0            1420000.0  727.692308  ...  NaN   \n308166    t001           143.0            1430000.0         NaN  ...  NaN   \n308167    t001           144.0            1440000.0         NaN  ...  NaN   \n308168    t001           145.0            1450000.0         NaN  ...  NaN   \n\n        lf_hf_ratio       csi       cvi  Modified_csi    sampen        sd1  \\\n2719            NaN       NaN       NaN           NaN       NaN        NaN   \n2720            NaN       NaN       NaN           NaN       NaN        NaN   \n2721            NaN       NaN       NaN           NaN       NaN        NaN   \n2722            NaN       NaN       NaN           NaN       NaN        NaN   \n2723            NaN       NaN       NaN           NaN       NaN        NaN   \n...             ...       ...       ...           ...       ...        ...   \n308164          NaN       NaN       NaN           NaN       inf        NaN   \n308165          NaN  3.018914  4.091587    582.866953  0.869604  15.988507   \n308166          NaN  3.138890  4.120422    638.815256  0.940555  16.209254   \n308167          NaN       NaN       NaN           NaN       inf        NaN   \n308168          NaN       NaN       NaN           NaN       inf        NaN   \n\n              sd2  ratio_sd2_sd1  label  \n2719          NaN            NaN    0.0  \n2720          NaN            NaN    0.0  \n2721          NaN            NaN    0.0  \n2722          NaN            NaN    0.0  \n2723          NaN            NaN    0.0  \n...           ...            ...    ...  \n308164        NaN            NaN    0.0  \n308165  48.267931       3.018914    0.0  \n308166  50.879070       3.138890    0.0  \n308167        NaN            NaN    0.0  \n308168        NaN            NaN    0.0  \n\n[18377 rows x 37 columns]",
      "text/html": "<div>\n<style scoped>\n    .dataframe tbody tr th:only-of-type {\n        vertical-align: middle;\n    }\n\n    .dataframe tbody tr th {\n        vertical-align: top;\n    }\n\n    .dataframe thead th {\n        text-align: right;\n    }\n</style>\n<table border=\"1\" class=\"dataframe\">\n  <thead>\n    <tr style=\"text-align: right;\">\n      <th></th>\n      <th>Set</th>\n      <th>Categorie Montage</th>\n      <th>Dossier Patient</th>\n      <th>Patient</th>\n      <th>Session</th>\n      <th>Date</th>\n      <th>File N°</th>\n      <th>interval_index</th>\n      <th>interval_start_time</th>\n      <th>mean_nni</th>\n      <th>...</th>\n      <th>vlf</th>\n      <th>lf_hf_ratio</th>\n      <th>csi</th>\n      <th>cvi</th>\n      <th>Modified_csi</th>\n      <th>sampen</th>\n      <th>sd1</th>\n      <th>sd2</th>\n      <th>ratio_sd2_sd1</th>\n      <th>label</th>\n    </tr>\n  </thead>\n  <tbody>\n    <tr>\n      <th>2719</th>\n      <td>train</td>\n      <td>01_tcp_ar</td>\n      <td>120</td>\n      <td>12046</td>\n      <td>s001</td>\n      <td>09/10/2014</td>\n      <td>t000</td>\n      <td>0.0</td>\n      <td>0.0</td>\n      <td>0.000000</td>\n      <td>...</td>\n      <td>NaN</td>\n      <td>NaN</td>\n      <td>NaN</td>\n      <td>NaN</td>\n      <td>NaN</td>\n      <td>NaN</td>\n      <td>NaN</td>\n      <td>NaN</td>\n      <td>NaN</td>\n      <td>0.0</td>\n    </tr>\n    <tr>\n      <th>2720</th>\n      <td>train</td>\n      <td>01_tcp_ar</td>\n      <td>120</td>\n      <td>12046</td>\n      <td>s001</td>\n      <td>09/10/2014</td>\n      <td>t000</td>\n      <td>1.0</td>\n      <td>10000.0</td>\n      <td>NaN</td>\n      <td>...</td>\n      <td>NaN</td>\n      <td>NaN</td>\n      <td>NaN</td>\n      <td>NaN</td>\n      <td>NaN</td>\n      <td>NaN</td>\n      <td>NaN</td>\n      <td>NaN</td>\n      <td>NaN</td>\n      <td>0.0</td>\n    </tr>\n    <tr>\n      <th>2721</th>\n      <td>train</td>\n      <td>01_tcp_ar</td>\n      <td>120</td>\n      <td>12046</td>\n      <td>s001</td>\n      <td>09/10/2014</td>\n      <td>t000</td>\n      <td>2.0</td>\n      <td>20000.0</td>\n      <td>0.000000</td>\n      <td>...</td>\n      <td>NaN</td>\n      <td>NaN</td>\n      <td>NaN</td>\n      <td>NaN</td>\n      <td>NaN</td>\n      <td>NaN</td>\n      <td>NaN</td>\n      <td>NaN</td>\n      <td>NaN</td>\n      <td>0.0</td>\n    </tr>\n    <tr>\n      <th>2722</th>\n      <td>train</td>\n      <td>01_tcp_ar</td>\n      <td>120</td>\n      <td>12046</td>\n      <td>s001</td>\n      <td>09/10/2014</td>\n      <td>t000</td>\n      <td>3.0</td>\n      <td>30000.0</td>\n      <td>NaN</td>\n      <td>...</td>\n      <td>NaN</td>\n      <td>NaN</td>\n      <td>NaN</td>\n      <td>NaN</td>\n      <td>NaN</td>\n      <td>NaN</td>\n      <td>NaN</td>\n      <td>NaN</td>\n      <td>NaN</td>\n      <td>0.0</td>\n    </tr>\n    <tr>\n      <th>2723</th>\n      <td>train</td>\n      <td>01_tcp_ar</td>\n      <td>120</td>\n      <td>12046</td>\n      <td>s001</td>\n      <td>09/10/2014</td>\n      <td>t000</td>\n      <td>4.0</td>\n      <td>40000.0</td>\n      <td>NaN</td>\n      <td>...</td>\n      <td>NaN</td>\n      <td>NaN</td>\n      <td>NaN</td>\n      <td>NaN</td>\n      <td>NaN</td>\n      <td>NaN</td>\n      <td>NaN</td>\n      <td>NaN</td>\n      <td>NaN</td>\n      <td>0.0</td>\n    </tr>\n    <tr>\n      <th>...</th>\n      <td>...</td>\n      <td>...</td>\n      <td>...</td>\n      <td>...</td>\n      <td>...</td>\n      <td>...</td>\n      <td>...</td>\n      <td>...</td>\n      <td>...</td>\n      <td>...</td>\n      <td>...</td>\n      <td>...</td>\n      <td>...</td>\n      <td>...</td>\n      <td>...</td>\n      <td>...</td>\n      <td>...</td>\n      <td>...</td>\n      <td>...</td>\n      <td>...</td>\n      <td>...</td>\n    </tr>\n    <tr>\n      <th>308164</th>\n      <td>dev</td>\n      <td>02_tcp_le</td>\n      <td>19</td>\n      <td>1984</td>\n      <td>s001</td>\n      <td>17/02/2004</td>\n      <td>t001</td>\n      <td>141.0</td>\n      <td>1410000.0</td>\n      <td>728.615385</td>\n      <td>...</td>\n      <td>NaN</td>\n      <td>NaN</td>\n      <td>NaN</td>\n      <td>NaN</td>\n      <td>NaN</td>\n      <td>inf</td>\n      <td>NaN</td>\n      <td>NaN</td>\n      <td>NaN</td>\n      <td>0.0</td>\n    </tr>\n    <tr>\n      <th>308165</th>\n      <td>dev</td>\n      <td>02_tcp_le</td>\n      <td>19</td>\n      <td>1984</td>\n      <td>s001</td>\n      <td>17/02/2004</td>\n      <td>t001</td>\n      <td>142.0</td>\n      <td>1420000.0</td>\n      <td>727.692308</td>\n      <td>...</td>\n      <td>NaN</td>\n      <td>NaN</td>\n      <td>3.018914</td>\n      <td>4.091587</td>\n      <td>582.866953</td>\n      <td>0.869604</td>\n      <td>15.988507</td>\n      <td>48.267931</td>\n      <td>3.018914</td>\n      <td>0.0</td>\n    </tr>\n    <tr>\n      <th>308166</th>\n      <td>dev</td>\n      <td>02_tcp_le</td>\n      <td>19</td>\n      <td>1984</td>\n      <td>s001</td>\n      <td>17/02/2004</td>\n      <td>t001</td>\n      <td>143.0</td>\n      <td>1430000.0</td>\n      <td>NaN</td>\n      <td>...</td>\n      <td>NaN</td>\n      <td>NaN</td>\n      <td>3.138890</td>\n      <td>4.120422</td>\n      <td>638.815256</td>\n      <td>0.940555</td>\n      <td>16.209254</td>\n      <td>50.879070</td>\n      <td>3.138890</td>\n      <td>0.0</td>\n    </tr>\n    <tr>\n      <th>308167</th>\n      <td>dev</td>\n      <td>02_tcp_le</td>\n      <td>19</td>\n      <td>1984</td>\n      <td>s001</td>\n      <td>17/02/2004</td>\n      <td>t001</td>\n      <td>144.0</td>\n      <td>1440000.0</td>\n      <td>NaN</td>\n      <td>...</td>\n      <td>NaN</td>\n      <td>NaN</td>\n      <td>NaN</td>\n      <td>NaN</td>\n      <td>NaN</td>\n      <td>inf</td>\n      <td>NaN</td>\n      <td>NaN</td>\n      <td>NaN</td>\n      <td>0.0</td>\n    </tr>\n    <tr>\n      <th>308168</th>\n      <td>dev</td>\n      <td>02_tcp_le</td>\n      <td>19</td>\n      <td>1984</td>\n      <td>s001</td>\n      <td>17/02/2004</td>\n      <td>t001</td>\n      <td>145.0</td>\n      <td>1450000.0</td>\n      <td>NaN</td>\n      <td>...</td>\n      <td>NaN</td>\n      <td>NaN</td>\n      <td>NaN</td>\n      <td>NaN</td>\n      <td>NaN</td>\n      <td>inf</td>\n      <td>NaN</td>\n      <td>NaN</td>\n      <td>NaN</td>\n      <td>0.0</td>\n    </tr>\n  </tbody>\n</table>\n<p>18377 rows × 37 columns</p>\n</div>"
     },
     "metadata": {},
     "execution_count": 19
    }
   ],
   "source": [
    "xqrs[xqrs['Patient'].isin(too_much_nan['mean_nni'].values.tolist())]"
   ]
  },
  {
   "cell_type": "code",
   "execution_count": 20,
   "metadata": {},
   "outputs": [
    {
     "output_type": "execute_result",
     "data": {
      "text/plain": "45"
     },
     "metadata": {},
     "execution_count": 20
    }
   ],
   "source": [
    "len(too_much_nan['mean_nni'].values.tolist())"
   ]
  },
  {
   "cell_type": "markdown",
   "metadata": {},
   "source": [
    "**On crée un dictionnaire avec en clé le nom de colonne et en valeur l'ID des patients ayant moins de 10% de NaN dans cette colonne**"
   ]
  },
  {
   "cell_type": "code",
   "execution_count": 21,
   "metadata": {},
   "outputs": [],
   "source": [
    "less_10_nan = {}\n",
    "for cols in xqrs.columns.tolist()[9:]:\n",
    "    less_10_nan[cols] = set(count_nan[count_nan[(cols, 'percent')] < 10].index.tolist())"
   ]
  },
  {
   "cell_type": "code",
   "execution_count": 22,
   "metadata": {},
   "outputs": [
    {
     "output_type": "execute_result",
     "data": {
      "text/plain": "419"
     },
     "metadata": {},
     "execution_count": 22
    }
   ],
   "source": [
    "len(less_10_nan['mean_nni'])"
   ]
  },
  {
   "cell_type": "markdown",
   "metadata": {},
   "source": [
    "**On cherche les patients apparaissant dans chaque colonne**"
   ]
  },
  {
   "cell_type": "code",
   "execution_count": 23,
   "metadata": {},
   "outputs": [
    {
     "output_type": "execute_result",
     "data": {
      "text/plain": "{'10301',\n '10547',\n '11063',\n '11149',\n '11596',\n '12070',\n '1482',\n '1690',\n '2126',\n '2225',\n '3635',\n '5034',\n '5411',\n '5469',\n '5943',\n '6607',\n '7937',\n '8188',\n '850',\n '8550',\n '8573',\n '9762',\n '9958'}"
     },
     "metadata": {},
     "execution_count": 23
    }
   ],
   "source": [
    "set.intersection(*less_10_nan.values())"
   ]
  },
  {
   "cell_type": "code",
   "execution_count": 24,
   "metadata": {},
   "outputs": [
    {
     "output_type": "execute_result",
     "data": {
      "text/plain": "        Set Categorie Montage Dossier Patient Patient Session        Date  \\\n305207  dev         02_tcp_le              59    5943    s005  08/07/2009   \n305208  dev         02_tcp_le              59    5943    s005  08/07/2009   \n305209  dev         02_tcp_le              59    5943    s005  08/07/2009   \n305210  dev         02_tcp_le              59    5943    s005  08/07/2009   \n305211  dev         02_tcp_le              59    5943    s005  08/07/2009   \n...     ...               ...             ...     ...     ...         ...   \n305607  dev         02_tcp_le              59    5943    s001  28/06/2009   \n305608  dev         02_tcp_le              59    5943    s001  28/06/2009   \n305609  dev         02_tcp_le              59    5943    s001  28/06/2009   \n305610  dev         02_tcp_le              59    5943    s001  28/06/2009   \n305611  dev         02_tcp_le              59    5943    s001  28/06/2009   \n\n       File N°  interval_index  interval_start_time    mean_nni  ...  \\\n305207    t000             0.0                  0.0  543.333333  ...   \n305208    t000             1.0              10000.0  543.555556  ...   \n305209    t000             2.0              20000.0  533.263158  ...   \n305210    t000             3.0              30000.0  545.555556  ...   \n305211    t000             4.0              40000.0  545.777778  ...   \n...        ...             ...                  ...         ...  ...   \n305607    t000           275.0            2750000.0  642.250000  ...   \n305608    t000           276.0            2760000.0  645.866667  ...   \n305609    t000           277.0            2770000.0  642.250000  ...   \n305610    t000           278.0            2780000.0  642.666667  ...   \n305611    t000           279.0            2790000.0  640.857143  ...   \n\n             vlf  lf_hf_ratio       csi       cvi  Modified_csi    sampen  \\\n305207       NaN          NaN       NaN       NaN           NaN       NaN   \n305208       NaN          NaN       NaN       NaN           NaN       NaN   \n305209       NaN          NaN       NaN       NaN           NaN       NaN   \n305210       NaN          NaN       NaN       NaN           NaN       NaN   \n305211       NaN          NaN       NaN       NaN           NaN       NaN   \n...          ...          ...       ...       ...           ...       ...   \n305607  2.577752     4.436143  2.442496  2.283853     52.927012  0.371808   \n305608  1.837404     3.732497  1.986720  2.231558     36.558122  0.458811   \n305609  1.685554     6.365177  1.727814  2.178057     27.878803  0.572735   \n305610  0.703117     3.571622  1.423337  2.204566     21.490413  0.803932   \n305611  1.111886     6.437666  1.443939  2.176949     21.271490  0.704824   \n\n             sd1       sd2  ratio_sd2_sd1  label  \n305207       NaN       NaN            NaN    0.0  \n305208       NaN       NaN            NaN    0.0  \n305209       NaN       NaN            NaN    0.0  \n305210       NaN       NaN            NaN    0.0  \n305211       NaN       NaN            NaN    0.0  \n...          ...       ...            ...    ...  \n305607  2.217939  5.417308       2.442496    0.0  \n305608  2.315531  4.600311       1.986720    0.0  \n305609  2.334641  4.033826       1.727814    0.0  \n305610  2.651974  3.774653       1.423337    0.0  \n305611  2.550587  3.682892       1.443939    0.0  \n\n[405 rows x 37 columns]",
      "text/html": "<div>\n<style scoped>\n    .dataframe tbody tr th:only-of-type {\n        vertical-align: middle;\n    }\n\n    .dataframe tbody tr th {\n        vertical-align: top;\n    }\n\n    .dataframe thead th {\n        text-align: right;\n    }\n</style>\n<table border=\"1\" class=\"dataframe\">\n  <thead>\n    <tr style=\"text-align: right;\">\n      <th></th>\n      <th>Set</th>\n      <th>Categorie Montage</th>\n      <th>Dossier Patient</th>\n      <th>Patient</th>\n      <th>Session</th>\n      <th>Date</th>\n      <th>File N°</th>\n      <th>interval_index</th>\n      <th>interval_start_time</th>\n      <th>mean_nni</th>\n      <th>...</th>\n      <th>vlf</th>\n      <th>lf_hf_ratio</th>\n      <th>csi</th>\n      <th>cvi</th>\n      <th>Modified_csi</th>\n      <th>sampen</th>\n      <th>sd1</th>\n      <th>sd2</th>\n      <th>ratio_sd2_sd1</th>\n      <th>label</th>\n    </tr>\n  </thead>\n  <tbody>\n    <tr>\n      <th>305207</th>\n      <td>dev</td>\n      <td>02_tcp_le</td>\n      <td>59</td>\n      <td>5943</td>\n      <td>s005</td>\n      <td>08/07/2009</td>\n      <td>t000</td>\n      <td>0.0</td>\n      <td>0.0</td>\n      <td>543.333333</td>\n      <td>...</td>\n      <td>NaN</td>\n      <td>NaN</td>\n      <td>NaN</td>\n      <td>NaN</td>\n      <td>NaN</td>\n      <td>NaN</td>\n      <td>NaN</td>\n      <td>NaN</td>\n      <td>NaN</td>\n      <td>0.0</td>\n    </tr>\n    <tr>\n      <th>305208</th>\n      <td>dev</td>\n      <td>02_tcp_le</td>\n      <td>59</td>\n      <td>5943</td>\n      <td>s005</td>\n      <td>08/07/2009</td>\n      <td>t000</td>\n      <td>1.0</td>\n      <td>10000.0</td>\n      <td>543.555556</td>\n      <td>...</td>\n      <td>NaN</td>\n      <td>NaN</td>\n      <td>NaN</td>\n      <td>NaN</td>\n      <td>NaN</td>\n      <td>NaN</td>\n      <td>NaN</td>\n      <td>NaN</td>\n      <td>NaN</td>\n      <td>0.0</td>\n    </tr>\n    <tr>\n      <th>305209</th>\n      <td>dev</td>\n      <td>02_tcp_le</td>\n      <td>59</td>\n      <td>5943</td>\n      <td>s005</td>\n      <td>08/07/2009</td>\n      <td>t000</td>\n      <td>2.0</td>\n      <td>20000.0</td>\n      <td>533.263158</td>\n      <td>...</td>\n      <td>NaN</td>\n      <td>NaN</td>\n      <td>NaN</td>\n      <td>NaN</td>\n      <td>NaN</td>\n      <td>NaN</td>\n      <td>NaN</td>\n      <td>NaN</td>\n      <td>NaN</td>\n      <td>0.0</td>\n    </tr>\n    <tr>\n      <th>305210</th>\n      <td>dev</td>\n      <td>02_tcp_le</td>\n      <td>59</td>\n      <td>5943</td>\n      <td>s005</td>\n      <td>08/07/2009</td>\n      <td>t000</td>\n      <td>3.0</td>\n      <td>30000.0</td>\n      <td>545.555556</td>\n      <td>...</td>\n      <td>NaN</td>\n      <td>NaN</td>\n      <td>NaN</td>\n      <td>NaN</td>\n      <td>NaN</td>\n      <td>NaN</td>\n      <td>NaN</td>\n      <td>NaN</td>\n      <td>NaN</td>\n      <td>0.0</td>\n    </tr>\n    <tr>\n      <th>305211</th>\n      <td>dev</td>\n      <td>02_tcp_le</td>\n      <td>59</td>\n      <td>5943</td>\n      <td>s005</td>\n      <td>08/07/2009</td>\n      <td>t000</td>\n      <td>4.0</td>\n      <td>40000.0</td>\n      <td>545.777778</td>\n      <td>...</td>\n      <td>NaN</td>\n      <td>NaN</td>\n      <td>NaN</td>\n      <td>NaN</td>\n      <td>NaN</td>\n      <td>NaN</td>\n      <td>NaN</td>\n      <td>NaN</td>\n      <td>NaN</td>\n      <td>0.0</td>\n    </tr>\n    <tr>\n      <th>...</th>\n      <td>...</td>\n      <td>...</td>\n      <td>...</td>\n      <td>...</td>\n      <td>...</td>\n      <td>...</td>\n      <td>...</td>\n      <td>...</td>\n      <td>...</td>\n      <td>...</td>\n      <td>...</td>\n      <td>...</td>\n      <td>...</td>\n      <td>...</td>\n      <td>...</td>\n      <td>...</td>\n      <td>...</td>\n      <td>...</td>\n      <td>...</td>\n      <td>...</td>\n      <td>...</td>\n    </tr>\n    <tr>\n      <th>305607</th>\n      <td>dev</td>\n      <td>02_tcp_le</td>\n      <td>59</td>\n      <td>5943</td>\n      <td>s001</td>\n      <td>28/06/2009</td>\n      <td>t000</td>\n      <td>275.0</td>\n      <td>2750000.0</td>\n      <td>642.250000</td>\n      <td>...</td>\n      <td>2.577752</td>\n      <td>4.436143</td>\n      <td>2.442496</td>\n      <td>2.283853</td>\n      <td>52.927012</td>\n      <td>0.371808</td>\n      <td>2.217939</td>\n      <td>5.417308</td>\n      <td>2.442496</td>\n      <td>0.0</td>\n    </tr>\n    <tr>\n      <th>305608</th>\n      <td>dev</td>\n      <td>02_tcp_le</td>\n      <td>59</td>\n      <td>5943</td>\n      <td>s001</td>\n      <td>28/06/2009</td>\n      <td>t000</td>\n      <td>276.0</td>\n      <td>2760000.0</td>\n      <td>645.866667</td>\n      <td>...</td>\n      <td>1.837404</td>\n      <td>3.732497</td>\n      <td>1.986720</td>\n      <td>2.231558</td>\n      <td>36.558122</td>\n      <td>0.458811</td>\n      <td>2.315531</td>\n      <td>4.600311</td>\n      <td>1.986720</td>\n      <td>0.0</td>\n    </tr>\n    <tr>\n      <th>305609</th>\n      <td>dev</td>\n      <td>02_tcp_le</td>\n      <td>59</td>\n      <td>5943</td>\n      <td>s001</td>\n      <td>28/06/2009</td>\n      <td>t000</td>\n      <td>277.0</td>\n      <td>2770000.0</td>\n      <td>642.250000</td>\n      <td>...</td>\n      <td>1.685554</td>\n      <td>6.365177</td>\n      <td>1.727814</td>\n      <td>2.178057</td>\n      <td>27.878803</td>\n      <td>0.572735</td>\n      <td>2.334641</td>\n      <td>4.033826</td>\n      <td>1.727814</td>\n      <td>0.0</td>\n    </tr>\n    <tr>\n      <th>305610</th>\n      <td>dev</td>\n      <td>02_tcp_le</td>\n      <td>59</td>\n      <td>5943</td>\n      <td>s001</td>\n      <td>28/06/2009</td>\n      <td>t000</td>\n      <td>278.0</td>\n      <td>2780000.0</td>\n      <td>642.666667</td>\n      <td>...</td>\n      <td>0.703117</td>\n      <td>3.571622</td>\n      <td>1.423337</td>\n      <td>2.204566</td>\n      <td>21.490413</td>\n      <td>0.803932</td>\n      <td>2.651974</td>\n      <td>3.774653</td>\n      <td>1.423337</td>\n      <td>0.0</td>\n    </tr>\n    <tr>\n      <th>305611</th>\n      <td>dev</td>\n      <td>02_tcp_le</td>\n      <td>59</td>\n      <td>5943</td>\n      <td>s001</td>\n      <td>28/06/2009</td>\n      <td>t000</td>\n      <td>279.0</td>\n      <td>2790000.0</td>\n      <td>640.857143</td>\n      <td>...</td>\n      <td>1.111886</td>\n      <td>6.437666</td>\n      <td>1.443939</td>\n      <td>2.176949</td>\n      <td>21.271490</td>\n      <td>0.704824</td>\n      <td>2.550587</td>\n      <td>3.682892</td>\n      <td>1.443939</td>\n      <td>0.0</td>\n    </tr>\n  </tbody>\n</table>\n<p>405 rows × 37 columns</p>\n</div>"
     },
     "metadata": {},
     "execution_count": 24
    }
   ],
   "source": [
    "xqrs[xqrs['Patient'] == '5943']"
   ]
  },
  {
   "cell_type": "code",
   "execution_count": 25,
   "metadata": {},
   "outputs": [
    {
     "output_type": "execute_result",
     "data": {
      "text/plain": "161.08875999999998"
     },
     "metadata": {},
     "execution_count": 25
    }
   ],
   "source": [
    "xqrs[(xqrs['Patient'] == '5943') & (xqrs['Session'] == 's001')]['label'].sum()"
   ]
  },
  {
   "cell_type": "code",
   "execution_count": 26,
   "metadata": {},
   "outputs": [
    {
     "output_type": "execute_result",
     "data": {
      "text/plain": "1.00000    150\n0.00000    109\n0.03073      1\n0.85749      1\n0.64440      1\n0.57801      1\n0.27213      1\n0.75530      1\n0.91171      1\n0.90000      1\n0.53322      1\n0.67949      1\n0.35418      1\n0.56343      1\n0.70401      1\n0.73061      1\n0.58885      1\n0.36318      1\n0.54705      1\n0.36499      1\n0.40400      1\n0.07320      1\n0.23278      1\nName: label, dtype: int64"
     },
     "metadata": {},
     "execution_count": 26
    }
   ],
   "source": [
    "xqrs[(xqrs['Patient'] == '5943') & (xqrs['Session'] == 's001')]['label'].value_counts()"
   ]
  },
  {
   "cell_type": "code",
   "execution_count": 27,
   "metadata": {},
   "outputs": [
    {
     "output_type": "error",
     "ename": "NameError",
     "evalue": "name 'json' is not defined",
     "traceback": [
      "\u001b[0;31m---------------------------------------------------------------------------\u001b[0m",
      "\u001b[0;31mNameError\u001b[0m                                 Traceback (most recent call last)",
      "\u001b[0;32m<ipython-input-27-3d197bd712cd>\u001b[0m in \u001b[0;36m<module>\u001b[0;34m\u001b[0m\n\u001b[1;32m      3\u001b[0m \u001b[0mSWT_FILE\u001b[0m \u001b[0;34m=\u001b[0m \u001b[0;34m\"../feats-v0_4/dev/02_tcp_le/059/00005943/s001_2009_06_28/00005943_s001_t000-swt.json\"\u001b[0m\u001b[0;34m\u001b[0m\u001b[0;34m\u001b[0m\u001b[0m\n\u001b[1;32m      4\u001b[0m \u001b[0;34m\u001b[0m\u001b[0m\n\u001b[0;32m----> 5\u001b[0;31m \u001b[0mxqrs_data\u001b[0m \u001b[0;34m=\u001b[0m \u001b[0mjson\u001b[0m\u001b[0;34m.\u001b[0m\u001b[0mload\u001b[0m\u001b[0;34m(\u001b[0m\u001b[0mopen\u001b[0m\u001b[0;34m(\u001b[0m\u001b[0mXQRS_FEATS_FILE\u001b[0m\u001b[0;34m,\u001b[0m \u001b[0;34m\"r\"\u001b[0m\u001b[0;34m)\u001b[0m\u001b[0;34m)\u001b[0m\u001b[0;34m\u001b[0m\u001b[0;34m\u001b[0m\u001b[0m\n\u001b[0m\u001b[1;32m      6\u001b[0m \u001b[0mpanTompkins_data\u001b[0m \u001b[0;34m=\u001b[0m \u001b[0mjson\u001b[0m\u001b[0;34m.\u001b[0m\u001b[0mload\u001b[0m\u001b[0;34m(\u001b[0m\u001b[0mopen\u001b[0m\u001b[0;34m(\u001b[0m\u001b[0mPAN_TOMPKINS_FEATS_FILE\u001b[0m\u001b[0;34m,\u001b[0m \u001b[0;34m\"r\"\u001b[0m\u001b[0;34m)\u001b[0m\u001b[0;34m)\u001b[0m\u001b[0;34m\u001b[0m\u001b[0;34m\u001b[0m\u001b[0m\n\u001b[1;32m      7\u001b[0m \u001b[0mswt_data\u001b[0m \u001b[0;34m=\u001b[0m \u001b[0mjson\u001b[0m\u001b[0;34m.\u001b[0m\u001b[0mload\u001b[0m\u001b[0;34m(\u001b[0m\u001b[0mopen\u001b[0m\u001b[0;34m(\u001b[0m\u001b[0mSWT_FILE\u001b[0m\u001b[0;34m,\u001b[0m \u001b[0;34m\"r\"\u001b[0m\u001b[0;34m)\u001b[0m\u001b[0;34m)\u001b[0m\u001b[0;34m\u001b[0m\u001b[0;34m\u001b[0m\u001b[0m\n",
      "\u001b[0;31mNameError\u001b[0m: name 'json' is not defined"
     ]
    }
   ],
   "source": [
    "XQRS_FEATS_FILE = \"../feats-v0_4/dev/02_tcp_le/059/00005943/s001_2009_06_28/00005943_s001_t000-xqrs.json\"\n",
    "PAN_TOMPKINS_FEATS_FILE = \"../feats-v0_4/dev/02_tcp_le/059/00005943/s001_2009_06_28/00005943_s001_t000-pan.json\"\n",
    "SWT_FILE = \"../feats-v0_4/dev/02_tcp_le/059/00005943/s001_2009_06_28/00005943_s001_t000-swt.json\"\n",
    "\n",
    "xqrs_data = json.load(open(XQRS_FEATS_FILE, \"r\"))\n",
    "panTompkins_data = json.load(open(PAN_TOMPKINS_FEATS_FILE, \"r\"))\n",
    "swt_data = json.load(open(SWT_FILE, \"r\"))\n",
    "\n",
    "xqrs_features = np.array(xqrs_data[\"features\"])\n",
    "panTompkins_features = np.array(panTompkins_data[\"features\"])\n",
    "swt_features = np.array(swt_data[\"features\"])\n",
    "\n",
    "xqrs_features_tp = np.transpose(xqrs_features)\n",
    "panTompkins_features_tp = np.transpose(panTompkins_features)\n",
    "swt_features_tp =np.transpose(swt_features)\n",
    "\n",
    "for i in range(0, len(xqrs_data[\"keys\"][:-1])):\n",
    "    plt.figure(1, figsize = (20,2))\n",
    "    #print(xqrs_data[\"keys\"][i])\n",
    "    plt.title(xqrs_data[\"keys\"][i])\n",
    "    plt.plot(xqrs_features_tp[i], color='red', alpha=0.5, label=\"xqrs\")\n",
    "    plt.plot(panTompkins_features_tp[i], color='blue', alpha=0.8, label=\"pan-tompkins\")\n",
    "    plt.plot(swt_features_tp[i], color='green', alpha=0.5, label=\"swt\")\n",
    "    plt.legend(bbox_to_anchor=(0.80, 1), loc='upper left', fontsize='x-large')\n",
    "    \n",
    "    for j in range(0, len(xqrs_features_tp[29])):\n",
    "        plt.axvspan(j, (j + 1), facecolor='grey', alpha=0.5 * xqrs_features_tp[29][j])\n",
    "    plt.plot()\n",
    "    plt.show()"
   ]
  },
  {
   "cell_type": "markdown",
   "metadata": {},
   "source": [
    "**On cherche à identifier les meilleurs enregistrements**"
   ]
  },
  {
   "cell_type": "code",
   "execution_count": 28,
   "metadata": {},
   "outputs": [],
   "source": [
    "xqrs['Key'] = xqrs.Set + '_' + xqrs['Categorie Montage'] + '_' + xqrs['Patient'] + '_' + xqrs.Session + '_' + xqrs['File N°']"
   ]
  },
  {
   "cell_type": "code",
   "execution_count": 29,
   "metadata": {},
   "outputs": [
    {
     "output_type": "execute_result",
     "data": {
      "text/plain": "                              Key    Set Categorie Montage Dossier Patient  \\\n0  train_01_tcp_ar_8643_s001_t000  train         01_tcp_ar              86   \n1  train_01_tcp_ar_8643_s001_t000  train         01_tcp_ar              86   \n2  train_01_tcp_ar_8643_s001_t000  train         01_tcp_ar              86   \n3  train_01_tcp_ar_8643_s001_t000  train         01_tcp_ar              86   \n4  train_01_tcp_ar_8643_s001_t000  train         01_tcp_ar              86   \n\n  Patient Session        Date File N°  interval_index  interval_start_time  \\\n0    8643    s001  22/02/2012    t000             0.0                  0.0   \n1    8643    s001  22/02/2012    t000             1.0              10000.0   \n2    8643    s001  22/02/2012    t000             2.0              20000.0   \n3    8643    s001  22/02/2012    t000             3.0              30000.0   \n4    8643    s001  22/02/2012    t000             4.0              40000.0   \n\n   ...  vlf  lf_hf_ratio  csi  cvi  Modified_csi  sampen  sd1  sd2  \\\n0  ...  NaN          NaN  NaN  NaN           NaN     NaN  NaN  NaN   \n1  ...  NaN          NaN  NaN  NaN           NaN     NaN  NaN  NaN   \n2  ...  NaN          NaN  NaN  NaN           NaN     NaN  NaN  NaN   \n3  ...  NaN          NaN  NaN  NaN           NaN     NaN  NaN  NaN   \n4  ...  NaN          NaN  NaN  NaN           NaN     NaN  NaN  NaN   \n\n   ratio_sd2_sd1  label  \n0            NaN    0.0  \n1            NaN    0.0  \n2            NaN    0.0  \n3            NaN    0.0  \n4            NaN    0.0  \n\n[5 rows x 38 columns]",
      "text/html": "<div>\n<style scoped>\n    .dataframe tbody tr th:only-of-type {\n        vertical-align: middle;\n    }\n\n    .dataframe tbody tr th {\n        vertical-align: top;\n    }\n\n    .dataframe thead th {\n        text-align: right;\n    }\n</style>\n<table border=\"1\" class=\"dataframe\">\n  <thead>\n    <tr style=\"text-align: right;\">\n      <th></th>\n      <th>Key</th>\n      <th>Set</th>\n      <th>Categorie Montage</th>\n      <th>Dossier Patient</th>\n      <th>Patient</th>\n      <th>Session</th>\n      <th>Date</th>\n      <th>File N°</th>\n      <th>interval_index</th>\n      <th>interval_start_time</th>\n      <th>...</th>\n      <th>vlf</th>\n      <th>lf_hf_ratio</th>\n      <th>csi</th>\n      <th>cvi</th>\n      <th>Modified_csi</th>\n      <th>sampen</th>\n      <th>sd1</th>\n      <th>sd2</th>\n      <th>ratio_sd2_sd1</th>\n      <th>label</th>\n    </tr>\n  </thead>\n  <tbody>\n    <tr>\n      <th>0</th>\n      <td>train_01_tcp_ar_8643_s001_t000</td>\n      <td>train</td>\n      <td>01_tcp_ar</td>\n      <td>86</td>\n      <td>8643</td>\n      <td>s001</td>\n      <td>22/02/2012</td>\n      <td>t000</td>\n      <td>0.0</td>\n      <td>0.0</td>\n      <td>...</td>\n      <td>NaN</td>\n      <td>NaN</td>\n      <td>NaN</td>\n      <td>NaN</td>\n      <td>NaN</td>\n      <td>NaN</td>\n      <td>NaN</td>\n      <td>NaN</td>\n      <td>NaN</td>\n      <td>0.0</td>\n    </tr>\n    <tr>\n      <th>1</th>\n      <td>train_01_tcp_ar_8643_s001_t000</td>\n      <td>train</td>\n      <td>01_tcp_ar</td>\n      <td>86</td>\n      <td>8643</td>\n      <td>s001</td>\n      <td>22/02/2012</td>\n      <td>t000</td>\n      <td>1.0</td>\n      <td>10000.0</td>\n      <td>...</td>\n      <td>NaN</td>\n      <td>NaN</td>\n      <td>NaN</td>\n      <td>NaN</td>\n      <td>NaN</td>\n      <td>NaN</td>\n      <td>NaN</td>\n      <td>NaN</td>\n      <td>NaN</td>\n      <td>0.0</td>\n    </tr>\n    <tr>\n      <th>2</th>\n      <td>train_01_tcp_ar_8643_s001_t000</td>\n      <td>train</td>\n      <td>01_tcp_ar</td>\n      <td>86</td>\n      <td>8643</td>\n      <td>s001</td>\n      <td>22/02/2012</td>\n      <td>t000</td>\n      <td>2.0</td>\n      <td>20000.0</td>\n      <td>...</td>\n      <td>NaN</td>\n      <td>NaN</td>\n      <td>NaN</td>\n      <td>NaN</td>\n      <td>NaN</td>\n      <td>NaN</td>\n      <td>NaN</td>\n      <td>NaN</td>\n      <td>NaN</td>\n      <td>0.0</td>\n    </tr>\n    <tr>\n      <th>3</th>\n      <td>train_01_tcp_ar_8643_s001_t000</td>\n      <td>train</td>\n      <td>01_tcp_ar</td>\n      <td>86</td>\n      <td>8643</td>\n      <td>s001</td>\n      <td>22/02/2012</td>\n      <td>t000</td>\n      <td>3.0</td>\n      <td>30000.0</td>\n      <td>...</td>\n      <td>NaN</td>\n      <td>NaN</td>\n      <td>NaN</td>\n      <td>NaN</td>\n      <td>NaN</td>\n      <td>NaN</td>\n      <td>NaN</td>\n      <td>NaN</td>\n      <td>NaN</td>\n      <td>0.0</td>\n    </tr>\n    <tr>\n      <th>4</th>\n      <td>train_01_tcp_ar_8643_s001_t000</td>\n      <td>train</td>\n      <td>01_tcp_ar</td>\n      <td>86</td>\n      <td>8643</td>\n      <td>s001</td>\n      <td>22/02/2012</td>\n      <td>t000</td>\n      <td>4.0</td>\n      <td>40000.0</td>\n      <td>...</td>\n      <td>NaN</td>\n      <td>NaN</td>\n      <td>NaN</td>\n      <td>NaN</td>\n      <td>NaN</td>\n      <td>NaN</td>\n      <td>NaN</td>\n      <td>NaN</td>\n      <td>NaN</td>\n      <td>0.0</td>\n    </tr>\n  </tbody>\n</table>\n<p>5 rows × 38 columns</p>\n</div>"
     },
     "metadata": {},
     "execution_count": 29
    }
   ],
   "source": [
    "cols = xqrs.columns.tolist()\n",
    "cols = cols[-1:] + cols[:-1]\n",
    "xqrs = xqrs[cols]\n",
    "xqrs.head()"
   ]
  },
  {
   "cell_type": "code",
   "execution_count": 30,
   "metadata": {},
   "outputs": [],
   "source": [
    "params = {}\n",
    "for cols in xqrs.columns.tolist()[10:]:\n",
    "    params[cols] = [lambda x: x.isnull().sum(), \n",
    "                    lambda x: x.count() + x.isnull().sum(), \n",
    "                    lambda x: (x.isnull().sum() / (x.count() + x.isnull().sum())) * 100]"
   ]
  },
  {
   "cell_type": "code",
   "execution_count": 31,
   "metadata": {},
   "outputs": [],
   "source": [
    "count_nan_by_key = xqrs[['Key'] + xqrs.columns.tolist()[10:]]\\\n",
    "                                              .groupby('Key')\\\n",
    "                                              .agg(params)\\\n",
    "                                              .rename(columns={'<lambda_0>': 'NaN',\n",
    "                                                               '<lambda_1>': 'total',\n",
    "                                                               '<lambda_2>': '%'})"
   ]
  },
  {
   "cell_type": "code",
   "execution_count": 32,
   "metadata": {},
   "outputs": [
    {
     "output_type": "execute_result",
     "data": {
      "text/plain": "                                 mean_nni                    sdnn         \\\n                                      NaN  total          %   NaN  total   \nKey                                                                        \ndev_01_tcp_ar_10022_s001_t000         0.0    3.0   0.000000   0.0    3.0   \ndev_01_tcp_ar_10022_s001_t001         7.0  127.0   5.511811  10.0  127.0   \ndev_01_tcp_ar_10022_s002_t000         2.0   61.0   3.278689   2.0   61.0   \ndev_01_tcp_ar_10022_s002_t001         1.0   61.0   1.639344   2.0   61.0   \ndev_01_tcp_ar_10022_s002_t002         0.0   61.0   0.000000   1.0   61.0   \n...                                   ...    ...        ...   ...    ...   \ntrain_03_tcp_ar_a_9162_s003_t006     46.0   61.0  75.409836  47.0   61.0   \ntrain_03_tcp_ar_a_9162_s003_t007     12.0   17.0  70.588235  12.0   17.0   \ntrain_03_tcp_ar_a_9162_s003_t008     15.0   61.0  24.590164  16.0   61.0   \ntrain_03_tcp_ar_a_9162_s003_t009     28.0   30.0  93.333333  29.0   30.0   \ntrain_03_tcp_ar_a_9162_s003_t010     13.0   61.0  21.311475  14.0   61.0   \n\n                                             sdsd                   nni_50  \\\n                                          %   NaN  total          %    NaN   \nKey                                                                          \ndev_01_tcp_ar_10022_s001_t000      0.000000   0.0    3.0   0.000000    0.0   \ndev_01_tcp_ar_10022_s001_t001      7.874016  10.0  127.0   7.874016    3.0   \ndev_01_tcp_ar_10022_s002_t000      3.278689   2.0   61.0   3.278689    1.0   \ndev_01_tcp_ar_10022_s002_t001      3.278689   2.0   61.0   3.278689    0.0   \ndev_01_tcp_ar_10022_s002_t002      1.639344   1.0   61.0   1.639344    0.0   \n...                                     ...   ...    ...        ...    ...   \ntrain_03_tcp_ar_a_9162_s003_t006  77.049180  47.0   61.0  77.049180    0.0   \ntrain_03_tcp_ar_a_9162_s003_t007  70.588235  12.0   17.0  70.588235    0.0   \ntrain_03_tcp_ar_a_9162_s003_t008  26.229508  16.0   61.0  26.229508    0.0   \ntrain_03_tcp_ar_a_9162_s003_t009  96.666667  29.0   30.0  96.666667   27.0   \ntrain_03_tcp_ar_a_9162_s003_t010  22.950820  14.0   61.0  22.950820    0.0   \n\n                                  ...         sd1   sd2                     \\\n                                  ...           %   NaN  total           %   \nKey                               ...                                        \ndev_01_tcp_ar_10022_s001_t000     ...  100.000000   3.0    3.0  100.000000   \ndev_01_tcp_ar_10022_s001_t001     ...   12.598425  16.0  127.0   12.598425   \ndev_01_tcp_ar_10022_s002_t000     ...   13.114754   8.0   61.0   13.114754   \ndev_01_tcp_ar_10022_s002_t001     ...   11.475410   7.0   61.0   11.475410   \ndev_01_tcp_ar_10022_s002_t002     ...   11.475410   7.0   61.0   11.475410   \n...                               ...         ...   ...    ...         ...   \ntrain_03_tcp_ar_a_9162_s003_t006  ...   98.360656  60.0   61.0   98.360656   \ntrain_03_tcp_ar_a_9162_s003_t007  ...  100.000000  17.0   17.0  100.000000   \ntrain_03_tcp_ar_a_9162_s003_t008  ...   45.901639  28.0   61.0   45.901639   \ntrain_03_tcp_ar_a_9162_s003_t009  ...  100.000000  30.0   30.0  100.000000   \ntrain_03_tcp_ar_a_9162_s003_t010  ...   50.819672  31.0   61.0   50.819672   \n\n                                 ratio_sd2_sd1                    label  \\\n                                           NaN  total           %   NaN   \nKey                                                                       \ndev_01_tcp_ar_10022_s001_t000              3.0    3.0  100.000000   0.0   \ndev_01_tcp_ar_10022_s001_t001             16.0  127.0   12.598425   0.0   \ndev_01_tcp_ar_10022_s002_t000              8.0   61.0   13.114754   1.0   \ndev_01_tcp_ar_10022_s002_t001              7.0   61.0   11.475410   1.0   \ndev_01_tcp_ar_10022_s002_t002              7.0   61.0   11.475410   1.0   \n...                                        ...    ...         ...   ...   \ntrain_03_tcp_ar_a_9162_s003_t006          60.0   61.0   98.360656   1.0   \ntrain_03_tcp_ar_a_9162_s003_t007          17.0   17.0  100.000000   0.0   \ntrain_03_tcp_ar_a_9162_s003_t008          28.0   61.0   45.901639   1.0   \ntrain_03_tcp_ar_a_9162_s003_t009          30.0   30.0  100.000000   0.0   \ntrain_03_tcp_ar_a_9162_s003_t010          31.0   61.0   50.819672   1.0   \n\n                                                   \n                                  total         %  \nKey                                                \ndev_01_tcp_ar_10022_s001_t000       3.0  0.000000  \ndev_01_tcp_ar_10022_s001_t001     127.0  0.000000  \ndev_01_tcp_ar_10022_s002_t000      61.0  1.639344  \ndev_01_tcp_ar_10022_s002_t001      61.0  1.639344  \ndev_01_tcp_ar_10022_s002_t002      61.0  1.639344  \n...                                 ...       ...  \ntrain_03_tcp_ar_a_9162_s003_t006   61.0  1.639344  \ntrain_03_tcp_ar_a_9162_s003_t007   17.0  0.000000  \ntrain_03_tcp_ar_a_9162_s003_t008   61.0  1.639344  \ntrain_03_tcp_ar_a_9162_s003_t009   30.0  0.000000  \ntrain_03_tcp_ar_a_9162_s003_t010   61.0  1.639344  \n\n[5080 rows x 84 columns]",
      "text/html": "<div>\n<style scoped>\n    .dataframe tbody tr th:only-of-type {\n        vertical-align: middle;\n    }\n\n    .dataframe tbody tr th {\n        vertical-align: top;\n    }\n\n    .dataframe thead tr th {\n        text-align: left;\n    }\n\n    .dataframe thead tr:last-of-type th {\n        text-align: right;\n    }\n</style>\n<table border=\"1\" class=\"dataframe\">\n  <thead>\n    <tr>\n      <th></th>\n      <th colspan=\"3\" halign=\"left\">mean_nni</th>\n      <th colspan=\"3\" halign=\"left\">sdnn</th>\n      <th colspan=\"3\" halign=\"left\">sdsd</th>\n      <th>nni_50</th>\n      <th>...</th>\n      <th>sd1</th>\n      <th colspan=\"3\" halign=\"left\">sd2</th>\n      <th colspan=\"3\" halign=\"left\">ratio_sd2_sd1</th>\n      <th colspan=\"3\" halign=\"left\">label</th>\n    </tr>\n    <tr>\n      <th></th>\n      <th>NaN</th>\n      <th>total</th>\n      <th>%</th>\n      <th>NaN</th>\n      <th>total</th>\n      <th>%</th>\n      <th>NaN</th>\n      <th>total</th>\n      <th>%</th>\n      <th>NaN</th>\n      <th>...</th>\n      <th>%</th>\n      <th>NaN</th>\n      <th>total</th>\n      <th>%</th>\n      <th>NaN</th>\n      <th>total</th>\n      <th>%</th>\n      <th>NaN</th>\n      <th>total</th>\n      <th>%</th>\n    </tr>\n    <tr>\n      <th>Key</th>\n      <th></th>\n      <th></th>\n      <th></th>\n      <th></th>\n      <th></th>\n      <th></th>\n      <th></th>\n      <th></th>\n      <th></th>\n      <th></th>\n      <th></th>\n      <th></th>\n      <th></th>\n      <th></th>\n      <th></th>\n      <th></th>\n      <th></th>\n      <th></th>\n      <th></th>\n      <th></th>\n      <th></th>\n    </tr>\n  </thead>\n  <tbody>\n    <tr>\n      <th>dev_01_tcp_ar_10022_s001_t000</th>\n      <td>0.0</td>\n      <td>3.0</td>\n      <td>0.000000</td>\n      <td>0.0</td>\n      <td>3.0</td>\n      <td>0.000000</td>\n      <td>0.0</td>\n      <td>3.0</td>\n      <td>0.000000</td>\n      <td>0.0</td>\n      <td>...</td>\n      <td>100.000000</td>\n      <td>3.0</td>\n      <td>3.0</td>\n      <td>100.000000</td>\n      <td>3.0</td>\n      <td>3.0</td>\n      <td>100.000000</td>\n      <td>0.0</td>\n      <td>3.0</td>\n      <td>0.000000</td>\n    </tr>\n    <tr>\n      <th>dev_01_tcp_ar_10022_s001_t001</th>\n      <td>7.0</td>\n      <td>127.0</td>\n      <td>5.511811</td>\n      <td>10.0</td>\n      <td>127.0</td>\n      <td>7.874016</td>\n      <td>10.0</td>\n      <td>127.0</td>\n      <td>7.874016</td>\n      <td>3.0</td>\n      <td>...</td>\n      <td>12.598425</td>\n      <td>16.0</td>\n      <td>127.0</td>\n      <td>12.598425</td>\n      <td>16.0</td>\n      <td>127.0</td>\n      <td>12.598425</td>\n      <td>0.0</td>\n      <td>127.0</td>\n      <td>0.000000</td>\n    </tr>\n    <tr>\n      <th>dev_01_tcp_ar_10022_s002_t000</th>\n      <td>2.0</td>\n      <td>61.0</td>\n      <td>3.278689</td>\n      <td>2.0</td>\n      <td>61.0</td>\n      <td>3.278689</td>\n      <td>2.0</td>\n      <td>61.0</td>\n      <td>3.278689</td>\n      <td>1.0</td>\n      <td>...</td>\n      <td>13.114754</td>\n      <td>8.0</td>\n      <td>61.0</td>\n      <td>13.114754</td>\n      <td>8.0</td>\n      <td>61.0</td>\n      <td>13.114754</td>\n      <td>1.0</td>\n      <td>61.0</td>\n      <td>1.639344</td>\n    </tr>\n    <tr>\n      <th>dev_01_tcp_ar_10022_s002_t001</th>\n      <td>1.0</td>\n      <td>61.0</td>\n      <td>1.639344</td>\n      <td>2.0</td>\n      <td>61.0</td>\n      <td>3.278689</td>\n      <td>2.0</td>\n      <td>61.0</td>\n      <td>3.278689</td>\n      <td>0.0</td>\n      <td>...</td>\n      <td>11.475410</td>\n      <td>7.0</td>\n      <td>61.0</td>\n      <td>11.475410</td>\n      <td>7.0</td>\n      <td>61.0</td>\n      <td>11.475410</td>\n      <td>1.0</td>\n      <td>61.0</td>\n      <td>1.639344</td>\n    </tr>\n    <tr>\n      <th>dev_01_tcp_ar_10022_s002_t002</th>\n      <td>0.0</td>\n      <td>61.0</td>\n      <td>0.000000</td>\n      <td>1.0</td>\n      <td>61.0</td>\n      <td>1.639344</td>\n      <td>1.0</td>\n      <td>61.0</td>\n      <td>1.639344</td>\n      <td>0.0</td>\n      <td>...</td>\n      <td>11.475410</td>\n      <td>7.0</td>\n      <td>61.0</td>\n      <td>11.475410</td>\n      <td>7.0</td>\n      <td>61.0</td>\n      <td>11.475410</td>\n      <td>1.0</td>\n      <td>61.0</td>\n      <td>1.639344</td>\n    </tr>\n    <tr>\n      <th>...</th>\n      <td>...</td>\n      <td>...</td>\n      <td>...</td>\n      <td>...</td>\n      <td>...</td>\n      <td>...</td>\n      <td>...</td>\n      <td>...</td>\n      <td>...</td>\n      <td>...</td>\n      <td>...</td>\n      <td>...</td>\n      <td>...</td>\n      <td>...</td>\n      <td>...</td>\n      <td>...</td>\n      <td>...</td>\n      <td>...</td>\n      <td>...</td>\n      <td>...</td>\n      <td>...</td>\n    </tr>\n    <tr>\n      <th>train_03_tcp_ar_a_9162_s003_t006</th>\n      <td>46.0</td>\n      <td>61.0</td>\n      <td>75.409836</td>\n      <td>47.0</td>\n      <td>61.0</td>\n      <td>77.049180</td>\n      <td>47.0</td>\n      <td>61.0</td>\n      <td>77.049180</td>\n      <td>0.0</td>\n      <td>...</td>\n      <td>98.360656</td>\n      <td>60.0</td>\n      <td>61.0</td>\n      <td>98.360656</td>\n      <td>60.0</td>\n      <td>61.0</td>\n      <td>98.360656</td>\n      <td>1.0</td>\n      <td>61.0</td>\n      <td>1.639344</td>\n    </tr>\n    <tr>\n      <th>train_03_tcp_ar_a_9162_s003_t007</th>\n      <td>12.0</td>\n      <td>17.0</td>\n      <td>70.588235</td>\n      <td>12.0</td>\n      <td>17.0</td>\n      <td>70.588235</td>\n      <td>12.0</td>\n      <td>17.0</td>\n      <td>70.588235</td>\n      <td>0.0</td>\n      <td>...</td>\n      <td>100.000000</td>\n      <td>17.0</td>\n      <td>17.0</td>\n      <td>100.000000</td>\n      <td>17.0</td>\n      <td>17.0</td>\n      <td>100.000000</td>\n      <td>0.0</td>\n      <td>17.0</td>\n      <td>0.000000</td>\n    </tr>\n    <tr>\n      <th>train_03_tcp_ar_a_9162_s003_t008</th>\n      <td>15.0</td>\n      <td>61.0</td>\n      <td>24.590164</td>\n      <td>16.0</td>\n      <td>61.0</td>\n      <td>26.229508</td>\n      <td>16.0</td>\n      <td>61.0</td>\n      <td>26.229508</td>\n      <td>0.0</td>\n      <td>...</td>\n      <td>45.901639</td>\n      <td>28.0</td>\n      <td>61.0</td>\n      <td>45.901639</td>\n      <td>28.0</td>\n      <td>61.0</td>\n      <td>45.901639</td>\n      <td>1.0</td>\n      <td>61.0</td>\n      <td>1.639344</td>\n    </tr>\n    <tr>\n      <th>train_03_tcp_ar_a_9162_s003_t009</th>\n      <td>28.0</td>\n      <td>30.0</td>\n      <td>93.333333</td>\n      <td>29.0</td>\n      <td>30.0</td>\n      <td>96.666667</td>\n      <td>29.0</td>\n      <td>30.0</td>\n      <td>96.666667</td>\n      <td>27.0</td>\n      <td>...</td>\n      <td>100.000000</td>\n      <td>30.0</td>\n      <td>30.0</td>\n      <td>100.000000</td>\n      <td>30.0</td>\n      <td>30.0</td>\n      <td>100.000000</td>\n      <td>0.0</td>\n      <td>30.0</td>\n      <td>0.000000</td>\n    </tr>\n    <tr>\n      <th>train_03_tcp_ar_a_9162_s003_t010</th>\n      <td>13.0</td>\n      <td>61.0</td>\n      <td>21.311475</td>\n      <td>14.0</td>\n      <td>61.0</td>\n      <td>22.950820</td>\n      <td>14.0</td>\n      <td>61.0</td>\n      <td>22.950820</td>\n      <td>0.0</td>\n      <td>...</td>\n      <td>50.819672</td>\n      <td>31.0</td>\n      <td>61.0</td>\n      <td>50.819672</td>\n      <td>31.0</td>\n      <td>61.0</td>\n      <td>50.819672</td>\n      <td>1.0</td>\n      <td>61.0</td>\n      <td>1.639344</td>\n    </tr>\n  </tbody>\n</table>\n<p>5080 rows × 84 columns</p>\n</div>"
     },
     "metadata": {},
     "execution_count": 32
    }
   ],
   "source": [
    "count_nan_by_key"
   ]
  },
  {
   "cell_type": "code",
   "execution_count": 33,
   "metadata": {
    "tags": [
     "outputPrepend"
    ]
   },
   "outputs": [],
   "source": [
    "total = np.zeros(5080,)\n",
    "i = 0\n",
    "for cols in xqrs.columns.tolist()[10:]:\n",
    "    sub_total = []\n",
    "    for index, row in count_nan_by_key[(cols, '%')].iteritems():\n",
    "        sub_total.append(row)\n",
    "    i += 1\n",
    "    total = np.add(total, sub_total)\n",
    "\n",
    "\n",
    "total = total / 28"
   ]
  },
  {
   "cell_type": "code",
   "execution_count": 34,
   "metadata": {},
   "outputs": [],
   "source": [
    "count_nan_by_key[('Total', 'Percent')] = total"
   ]
  },
  {
   "cell_type": "code",
   "execution_count": 35,
   "metadata": {},
   "outputs": [
    {
     "output_type": "execute_result",
     "data": {
      "text/plain": "                                 mean_nni                    sdnn         \\\n                                      NaN  total          %   NaN  total   \nKey                                                                        \ndev_01_tcp_ar_10022_s001_t000         0.0    3.0   0.000000   0.0    3.0   \ndev_01_tcp_ar_10022_s001_t001         7.0  127.0   5.511811  10.0  127.0   \ndev_01_tcp_ar_10022_s002_t000         2.0   61.0   3.278689   2.0   61.0   \ndev_01_tcp_ar_10022_s002_t001         1.0   61.0   1.639344   2.0   61.0   \ndev_01_tcp_ar_10022_s002_t002         0.0   61.0   0.000000   1.0   61.0   \n...                                   ...    ...        ...   ...    ...   \ntrain_03_tcp_ar_a_9162_s003_t006     46.0   61.0  75.409836  47.0   61.0   \ntrain_03_tcp_ar_a_9162_s003_t007     12.0   17.0  70.588235  12.0   17.0   \ntrain_03_tcp_ar_a_9162_s003_t008     15.0   61.0  24.590164  16.0   61.0   \ntrain_03_tcp_ar_a_9162_s003_t009     28.0   30.0  93.333333  29.0   30.0   \ntrain_03_tcp_ar_a_9162_s003_t010     13.0   61.0  21.311475  14.0   61.0   \n\n                                             sdsd                   nni_50  \\\n                                          %   NaN  total          %    NaN   \nKey                                                                          \ndev_01_tcp_ar_10022_s001_t000      0.000000   0.0    3.0   0.000000    0.0   \ndev_01_tcp_ar_10022_s001_t001      7.874016  10.0  127.0   7.874016    3.0   \ndev_01_tcp_ar_10022_s002_t000      3.278689   2.0   61.0   3.278689    1.0   \ndev_01_tcp_ar_10022_s002_t001      3.278689   2.0   61.0   3.278689    0.0   \ndev_01_tcp_ar_10022_s002_t002      1.639344   1.0   61.0   1.639344    0.0   \n...                                     ...   ...    ...        ...    ...   \ntrain_03_tcp_ar_a_9162_s003_t006  77.049180  47.0   61.0  77.049180    0.0   \ntrain_03_tcp_ar_a_9162_s003_t007  70.588235  12.0   17.0  70.588235    0.0   \ntrain_03_tcp_ar_a_9162_s003_t008  26.229508  16.0   61.0  26.229508    0.0   \ntrain_03_tcp_ar_a_9162_s003_t009  96.666667  29.0   30.0  96.666667   27.0   \ntrain_03_tcp_ar_a_9162_s003_t010  22.950820  14.0   61.0  22.950820    0.0   \n\n                                  ...   sd2                    ratio_sd2_sd1  \\\n                                  ...   NaN  total           %           NaN   \nKey                               ...                                          \ndev_01_tcp_ar_10022_s001_t000     ...   3.0    3.0  100.000000           3.0   \ndev_01_tcp_ar_10022_s001_t001     ...  16.0  127.0   12.598425          16.0   \ndev_01_tcp_ar_10022_s002_t000     ...   8.0   61.0   13.114754           8.0   \ndev_01_tcp_ar_10022_s002_t001     ...   7.0   61.0   11.475410           7.0   \ndev_01_tcp_ar_10022_s002_t002     ...   7.0   61.0   11.475410           7.0   \n...                               ...   ...    ...         ...           ...   \ntrain_03_tcp_ar_a_9162_s003_t006  ...  60.0   61.0   98.360656          60.0   \ntrain_03_tcp_ar_a_9162_s003_t007  ...  17.0   17.0  100.000000          17.0   \ntrain_03_tcp_ar_a_9162_s003_t008  ...  28.0   61.0   45.901639          28.0   \ntrain_03_tcp_ar_a_9162_s003_t009  ...  30.0   30.0  100.000000          30.0   \ntrain_03_tcp_ar_a_9162_s003_t010  ...  31.0   61.0   50.819672          31.0   \n\n                                                    label                   \\\n                                  total           %   NaN  total         %   \nKey                                                                          \ndev_01_tcp_ar_10022_s001_t000       3.0  100.000000   0.0    3.0  0.000000   \ndev_01_tcp_ar_10022_s001_t001     127.0   12.598425   0.0  127.0  0.000000   \ndev_01_tcp_ar_10022_s002_t000      61.0   13.114754   1.0   61.0  1.639344   \ndev_01_tcp_ar_10022_s002_t001      61.0   11.475410   1.0   61.0  1.639344   \ndev_01_tcp_ar_10022_s002_t002      61.0   11.475410   1.0   61.0  1.639344   \n...                                 ...         ...   ...    ...       ...   \ntrain_03_tcp_ar_a_9162_s003_t006   61.0   98.360656   1.0   61.0  1.639344   \ntrain_03_tcp_ar_a_9162_s003_t007   17.0  100.000000   0.0   17.0  0.000000   \ntrain_03_tcp_ar_a_9162_s003_t008   61.0   45.901639   1.0   61.0  1.639344   \ntrain_03_tcp_ar_a_9162_s003_t009   30.0  100.000000   0.0   30.0  0.000000   \ntrain_03_tcp_ar_a_9162_s003_t010   61.0   50.819672   1.0   61.0  1.639344   \n\n                                      Total  \n                                    Percent  \nKey                                          \ndev_01_tcp_ar_10022_s001_t000     39.285714  \ndev_01_tcp_ar_10022_s001_t001      9.476940  \ndev_01_tcp_ar_10022_s002_t000      8.723653  \ndev_01_tcp_ar_10022_s002_t001      7.552693  \ndev_01_tcp_ar_10022_s002_t002      7.025761  \n...                                     ...  \ntrain_03_tcp_ar_a_9162_s003_t006  60.070258  \ntrain_03_tcp_ar_a_9162_s003_t007  60.504202  \ntrain_03_tcp_ar_a_9162_s003_t008  27.693208  \ntrain_03_tcp_ar_a_9162_s003_t009  90.000000  \ntrain_03_tcp_ar_a_9162_s003_t010  31.206089  \n\n[5080 rows x 85 columns]",
      "text/html": "<div>\n<style scoped>\n    .dataframe tbody tr th:only-of-type {\n        vertical-align: middle;\n    }\n\n    .dataframe tbody tr th {\n        vertical-align: top;\n    }\n\n    .dataframe thead tr th {\n        text-align: left;\n    }\n\n    .dataframe thead tr:last-of-type th {\n        text-align: right;\n    }\n</style>\n<table border=\"1\" class=\"dataframe\">\n  <thead>\n    <tr>\n      <th></th>\n      <th colspan=\"3\" halign=\"left\">mean_nni</th>\n      <th colspan=\"3\" halign=\"left\">sdnn</th>\n      <th colspan=\"3\" halign=\"left\">sdsd</th>\n      <th>nni_50</th>\n      <th>...</th>\n      <th colspan=\"3\" halign=\"left\">sd2</th>\n      <th colspan=\"3\" halign=\"left\">ratio_sd2_sd1</th>\n      <th colspan=\"3\" halign=\"left\">label</th>\n      <th>Total</th>\n    </tr>\n    <tr>\n      <th></th>\n      <th>NaN</th>\n      <th>total</th>\n      <th>%</th>\n      <th>NaN</th>\n      <th>total</th>\n      <th>%</th>\n      <th>NaN</th>\n      <th>total</th>\n      <th>%</th>\n      <th>NaN</th>\n      <th>...</th>\n      <th>NaN</th>\n      <th>total</th>\n      <th>%</th>\n      <th>NaN</th>\n      <th>total</th>\n      <th>%</th>\n      <th>NaN</th>\n      <th>total</th>\n      <th>%</th>\n      <th>Percent</th>\n    </tr>\n    <tr>\n      <th>Key</th>\n      <th></th>\n      <th></th>\n      <th></th>\n      <th></th>\n      <th></th>\n      <th></th>\n      <th></th>\n      <th></th>\n      <th></th>\n      <th></th>\n      <th></th>\n      <th></th>\n      <th></th>\n      <th></th>\n      <th></th>\n      <th></th>\n      <th></th>\n      <th></th>\n      <th></th>\n      <th></th>\n      <th></th>\n    </tr>\n  </thead>\n  <tbody>\n    <tr>\n      <th>dev_01_tcp_ar_10022_s001_t000</th>\n      <td>0.0</td>\n      <td>3.0</td>\n      <td>0.000000</td>\n      <td>0.0</td>\n      <td>3.0</td>\n      <td>0.000000</td>\n      <td>0.0</td>\n      <td>3.0</td>\n      <td>0.000000</td>\n      <td>0.0</td>\n      <td>...</td>\n      <td>3.0</td>\n      <td>3.0</td>\n      <td>100.000000</td>\n      <td>3.0</td>\n      <td>3.0</td>\n      <td>100.000000</td>\n      <td>0.0</td>\n      <td>3.0</td>\n      <td>0.000000</td>\n      <td>39.285714</td>\n    </tr>\n    <tr>\n      <th>dev_01_tcp_ar_10022_s001_t001</th>\n      <td>7.0</td>\n      <td>127.0</td>\n      <td>5.511811</td>\n      <td>10.0</td>\n      <td>127.0</td>\n      <td>7.874016</td>\n      <td>10.0</td>\n      <td>127.0</td>\n      <td>7.874016</td>\n      <td>3.0</td>\n      <td>...</td>\n      <td>16.0</td>\n      <td>127.0</td>\n      <td>12.598425</td>\n      <td>16.0</td>\n      <td>127.0</td>\n      <td>12.598425</td>\n      <td>0.0</td>\n      <td>127.0</td>\n      <td>0.000000</td>\n      <td>9.476940</td>\n    </tr>\n    <tr>\n      <th>dev_01_tcp_ar_10022_s002_t000</th>\n      <td>2.0</td>\n      <td>61.0</td>\n      <td>3.278689</td>\n      <td>2.0</td>\n      <td>61.0</td>\n      <td>3.278689</td>\n      <td>2.0</td>\n      <td>61.0</td>\n      <td>3.278689</td>\n      <td>1.0</td>\n      <td>...</td>\n      <td>8.0</td>\n      <td>61.0</td>\n      <td>13.114754</td>\n      <td>8.0</td>\n      <td>61.0</td>\n      <td>13.114754</td>\n      <td>1.0</td>\n      <td>61.0</td>\n      <td>1.639344</td>\n      <td>8.723653</td>\n    </tr>\n    <tr>\n      <th>dev_01_tcp_ar_10022_s002_t001</th>\n      <td>1.0</td>\n      <td>61.0</td>\n      <td>1.639344</td>\n      <td>2.0</td>\n      <td>61.0</td>\n      <td>3.278689</td>\n      <td>2.0</td>\n      <td>61.0</td>\n      <td>3.278689</td>\n      <td>0.0</td>\n      <td>...</td>\n      <td>7.0</td>\n      <td>61.0</td>\n      <td>11.475410</td>\n      <td>7.0</td>\n      <td>61.0</td>\n      <td>11.475410</td>\n      <td>1.0</td>\n      <td>61.0</td>\n      <td>1.639344</td>\n      <td>7.552693</td>\n    </tr>\n    <tr>\n      <th>dev_01_tcp_ar_10022_s002_t002</th>\n      <td>0.0</td>\n      <td>61.0</td>\n      <td>0.000000</td>\n      <td>1.0</td>\n      <td>61.0</td>\n      <td>1.639344</td>\n      <td>1.0</td>\n      <td>61.0</td>\n      <td>1.639344</td>\n      <td>0.0</td>\n      <td>...</td>\n      <td>7.0</td>\n      <td>61.0</td>\n      <td>11.475410</td>\n      <td>7.0</td>\n      <td>61.0</td>\n      <td>11.475410</td>\n      <td>1.0</td>\n      <td>61.0</td>\n      <td>1.639344</td>\n      <td>7.025761</td>\n    </tr>\n    <tr>\n      <th>...</th>\n      <td>...</td>\n      <td>...</td>\n      <td>...</td>\n      <td>...</td>\n      <td>...</td>\n      <td>...</td>\n      <td>...</td>\n      <td>...</td>\n      <td>...</td>\n      <td>...</td>\n      <td>...</td>\n      <td>...</td>\n      <td>...</td>\n      <td>...</td>\n      <td>...</td>\n      <td>...</td>\n      <td>...</td>\n      <td>...</td>\n      <td>...</td>\n      <td>...</td>\n      <td>...</td>\n    </tr>\n    <tr>\n      <th>train_03_tcp_ar_a_9162_s003_t006</th>\n      <td>46.0</td>\n      <td>61.0</td>\n      <td>75.409836</td>\n      <td>47.0</td>\n      <td>61.0</td>\n      <td>77.049180</td>\n      <td>47.0</td>\n      <td>61.0</td>\n      <td>77.049180</td>\n      <td>0.0</td>\n      <td>...</td>\n      <td>60.0</td>\n      <td>61.0</td>\n      <td>98.360656</td>\n      <td>60.0</td>\n      <td>61.0</td>\n      <td>98.360656</td>\n      <td>1.0</td>\n      <td>61.0</td>\n      <td>1.639344</td>\n      <td>60.070258</td>\n    </tr>\n    <tr>\n      <th>train_03_tcp_ar_a_9162_s003_t007</th>\n      <td>12.0</td>\n      <td>17.0</td>\n      <td>70.588235</td>\n      <td>12.0</td>\n      <td>17.0</td>\n      <td>70.588235</td>\n      <td>12.0</td>\n      <td>17.0</td>\n      <td>70.588235</td>\n      <td>0.0</td>\n      <td>...</td>\n      <td>17.0</td>\n      <td>17.0</td>\n      <td>100.000000</td>\n      <td>17.0</td>\n      <td>17.0</td>\n      <td>100.000000</td>\n      <td>0.0</td>\n      <td>17.0</td>\n      <td>0.000000</td>\n      <td>60.504202</td>\n    </tr>\n    <tr>\n      <th>train_03_tcp_ar_a_9162_s003_t008</th>\n      <td>15.0</td>\n      <td>61.0</td>\n      <td>24.590164</td>\n      <td>16.0</td>\n      <td>61.0</td>\n      <td>26.229508</td>\n      <td>16.0</td>\n      <td>61.0</td>\n      <td>26.229508</td>\n      <td>0.0</td>\n      <td>...</td>\n      <td>28.0</td>\n      <td>61.0</td>\n      <td>45.901639</td>\n      <td>28.0</td>\n      <td>61.0</td>\n      <td>45.901639</td>\n      <td>1.0</td>\n      <td>61.0</td>\n      <td>1.639344</td>\n      <td>27.693208</td>\n    </tr>\n    <tr>\n      <th>train_03_tcp_ar_a_9162_s003_t009</th>\n      <td>28.0</td>\n      <td>30.0</td>\n      <td>93.333333</td>\n      <td>29.0</td>\n      <td>30.0</td>\n      <td>96.666667</td>\n      <td>29.0</td>\n      <td>30.0</td>\n      <td>96.666667</td>\n      <td>27.0</td>\n      <td>...</td>\n      <td>30.0</td>\n      <td>30.0</td>\n      <td>100.000000</td>\n      <td>30.0</td>\n      <td>30.0</td>\n      <td>100.000000</td>\n      <td>0.0</td>\n      <td>30.0</td>\n      <td>0.000000</td>\n      <td>90.000000</td>\n    </tr>\n    <tr>\n      <th>train_03_tcp_ar_a_9162_s003_t010</th>\n      <td>13.0</td>\n      <td>61.0</td>\n      <td>21.311475</td>\n      <td>14.0</td>\n      <td>61.0</td>\n      <td>22.950820</td>\n      <td>14.0</td>\n      <td>61.0</td>\n      <td>22.950820</td>\n      <td>0.0</td>\n      <td>...</td>\n      <td>31.0</td>\n      <td>61.0</td>\n      <td>50.819672</td>\n      <td>31.0</td>\n      <td>61.0</td>\n      <td>50.819672</td>\n      <td>1.0</td>\n      <td>61.0</td>\n      <td>1.639344</td>\n      <td>31.206089</td>\n    </tr>\n  </tbody>\n</table>\n<p>5080 rows × 85 columns</p>\n</div>"
     },
     "metadata": {},
     "execution_count": 35
    }
   ],
   "source": [
    "count_nan_by_key"
   ]
  },
  {
   "cell_type": "code",
   "execution_count": 46,
   "metadata": {},
   "outputs": [
    {
     "output_type": "execute_result",
     "data": {
      "text/plain": "                                  mean_nni                  sdnn         \\\n                                       NaN  total         %  NaN  total   \nKey                                                                       \ndev_01_tcp_ar_8544_s002_t005           0.0  312.0  0.000000  0.0  312.0   \ndev_01_tcp_ar_9578_s011_t008           0.0  252.0  0.000000  0.0  252.0   \ndev_01_tcp_ar_9578_s017_t004           0.0  206.0  0.000000  0.0  206.0   \ndev_01_tcp_ar_9578_s021_t001           0.0  341.0  0.000000  0.0  341.0   \ndev_01_tcp_ar_9842_s002_t001           0.0  341.0  0.000000  0.0  341.0   \ndev_02_tcp_le_1770_s003_t000           0.0  237.0  0.000000  0.0  237.0   \ndev_02_tcp_le_5943_s001_t000           1.0  280.0  0.357143  1.0  280.0   \ntrain_01_tcp_ar_10209_s008_t000        0.0  303.0  0.000000  0.0  303.0   \ntrain_01_tcp_ar_10489_s002_t001        0.0  232.0  0.000000  0.0  232.0   \ntrain_01_tcp_ar_10969_s008_t001        0.0  239.0  0.000000  0.0  239.0   \ntrain_01_tcp_ar_11063_s002_t001        0.0  237.0  0.000000  0.0  237.0   \ntrain_01_tcp_ar_11596_s002_t001        1.0  357.0  0.280112  1.0  357.0   \ntrain_01_tcp_ar_11869_s001_t004        0.0  211.0  0.000000  0.0  211.0   \ntrain_01_tcp_ar_11870_s005_t002        1.0  235.0  0.425532  1.0  235.0   \ntrain_01_tcp_ar_1482_s004_t001         3.0  346.0  0.867052  3.0  346.0   \ntrain_01_tcp_ar_7032_s008_t000         0.0  245.0  0.000000  0.0  245.0   \ntrain_01_tcp_ar_8164_s004_t003         0.0  225.0  0.000000  0.0  225.0   \ntrain_01_tcp_ar_8476_s007_t001         0.0  212.0  0.000000  0.0  212.0   \ntrain_01_tcp_ar_8480_s002_t004         0.0  281.0  0.000000  0.0  281.0   \ntrain_01_tcp_ar_8480_s004_t001         0.0  268.0  0.000000  0.0  268.0   \ntrain_01_tcp_ar_8552_s007_t004         1.0  260.0  0.384615  2.0  260.0   \ntrain_02_tcp_le_1690_s001_t000         0.0  351.0  0.000000  0.0  351.0   \ntrain_02_tcp_le_2126_s001_t000         0.0  254.0  0.000000  0.0  254.0   \ntrain_02_tcp_le_499_s002_t002          0.0  235.0  0.000000  0.0  235.0   \ntrain_02_tcp_le_5411_s002_t000         0.0  244.0  0.000000  0.0  244.0   \ntrain_03_tcp_ar_a_13112_s002_t001      2.0  272.0  0.735294  2.0  272.0   \n\n                                            sdsd                  nni_50  ...  \\\n                                          %  NaN  total         %    NaN  ...   \nKey                                                                       ...   \ndev_01_tcp_ar_8544_s002_t005       0.000000  0.0  312.0  0.000000    0.0  ...   \ndev_01_tcp_ar_9578_s011_t008       0.000000  0.0  252.0  0.000000    0.0  ...   \ndev_01_tcp_ar_9578_s017_t004       0.000000  0.0  206.0  0.000000    0.0  ...   \ndev_01_tcp_ar_9578_s021_t001       0.000000  0.0  341.0  0.000000    0.0  ...   \ndev_01_tcp_ar_9842_s002_t001       0.000000  0.0  341.0  0.000000    0.0  ...   \ndev_02_tcp_le_1770_s003_t000       0.000000  0.0  237.0  0.000000    0.0  ...   \ndev_02_tcp_le_5943_s001_t000       0.357143  1.0  280.0  0.357143    0.0  ...   \ntrain_01_tcp_ar_10209_s008_t000    0.000000  0.0  303.0  0.000000    0.0  ...   \ntrain_01_tcp_ar_10489_s002_t001    0.000000  0.0  232.0  0.000000    0.0  ...   \ntrain_01_tcp_ar_10969_s008_t001    0.000000  0.0  239.0  0.000000    0.0  ...   \ntrain_01_tcp_ar_11063_s002_t001    0.000000  0.0  237.0  0.000000    0.0  ...   \ntrain_01_tcp_ar_11596_s002_t001    0.280112  1.0  357.0  0.280112    0.0  ...   \ntrain_01_tcp_ar_11869_s001_t004    0.000000  0.0  211.0  0.000000    0.0  ...   \ntrain_01_tcp_ar_11870_s005_t002    0.425532  1.0  235.0  0.425532    1.0  ...   \ntrain_01_tcp_ar_1482_s004_t001     0.867052  3.0  346.0  0.867052    0.0  ...   \ntrain_01_tcp_ar_7032_s008_t000     0.000000  0.0  245.0  0.000000    0.0  ...   \ntrain_01_tcp_ar_8164_s004_t003     0.000000  0.0  225.0  0.000000    0.0  ...   \ntrain_01_tcp_ar_8476_s007_t001     0.000000  0.0  212.0  0.000000    0.0  ...   \ntrain_01_tcp_ar_8480_s002_t004     0.000000  0.0  281.0  0.000000    0.0  ...   \ntrain_01_tcp_ar_8480_s004_t001     0.000000  0.0  268.0  0.000000    0.0  ...   \ntrain_01_tcp_ar_8552_s007_t004     0.769231  2.0  260.0  0.769231    0.0  ...   \ntrain_02_tcp_le_1690_s001_t000     0.000000  0.0  351.0  0.000000    0.0  ...   \ntrain_02_tcp_le_2126_s001_t000     0.000000  0.0  254.0  0.000000    0.0  ...   \ntrain_02_tcp_le_499_s002_t002      0.000000  0.0  235.0  0.000000    0.0  ...   \ntrain_02_tcp_le_5411_s002_t000     0.000000  0.0  244.0  0.000000    0.0  ...   \ntrain_03_tcp_ar_a_13112_s002_t001  0.735294  2.0  272.0  0.735294    0.0  ...   \n\n                                    sd2                  ratio_sd2_sd1         \\\n                                    NaN  total         %           NaN  total   \nKey                                                                             \ndev_01_tcp_ar_8544_s002_t005        7.0  312.0  2.243590           7.0  312.0   \ndev_01_tcp_ar_9578_s011_t008        7.0  252.0  2.777778           7.0  252.0   \ndev_01_tcp_ar_9578_s017_t004        7.0  206.0  3.398058           7.0  206.0   \ndev_01_tcp_ar_9578_s021_t001        7.0  341.0  2.052786           7.0  341.0   \ndev_01_tcp_ar_9842_s002_t001        7.0  341.0  2.052786           7.0  341.0   \ndev_02_tcp_le_1770_s003_t000        7.0  237.0  2.953586           7.0  237.0   \ndev_02_tcp_le_5943_s001_t000        8.0  280.0  2.857143           8.0  280.0   \ntrain_01_tcp_ar_10209_s008_t000     7.0  303.0  2.310231           7.0  303.0   \ntrain_01_tcp_ar_10489_s002_t001     7.0  232.0  3.017241           7.0  232.0   \ntrain_01_tcp_ar_10969_s008_t001     7.0  239.0  2.928870           7.0  239.0   \ntrain_01_tcp_ar_11063_s002_t001     7.0  237.0  2.953586           7.0  237.0   \ntrain_01_tcp_ar_11596_s002_t001     8.0  357.0  2.240896           8.0  357.0   \ntrain_01_tcp_ar_11869_s001_t004     7.0  211.0  3.317536           7.0  211.0   \ntrain_01_tcp_ar_11870_s005_t002     7.0  235.0  2.978723           7.0  235.0   \ntrain_01_tcp_ar_1482_s004_t001     10.0  346.0  2.890173          10.0  346.0   \ntrain_01_tcp_ar_7032_s008_t000      7.0  245.0  2.857143           7.0  245.0   \ntrain_01_tcp_ar_8164_s004_t003      7.0  225.0  3.111111           7.0  225.0   \ntrain_01_tcp_ar_8476_s007_t001      7.0  212.0  3.301887           7.0  212.0   \ntrain_01_tcp_ar_8480_s002_t004      7.0  281.0  2.491103           7.0  281.0   \ntrain_01_tcp_ar_8480_s004_t001      7.0  268.0  2.611940           7.0  268.0   \ntrain_01_tcp_ar_8552_s007_t004      8.0  260.0  3.076923           8.0  260.0   \ntrain_02_tcp_le_1690_s001_t000      7.0  351.0  1.994302           7.0  351.0   \ntrain_02_tcp_le_2126_s001_t000      7.0  254.0  2.755906           7.0  254.0   \ntrain_02_tcp_le_499_s002_t002       7.0  235.0  2.978723           8.0  235.0   \ntrain_02_tcp_le_5411_s002_t000      7.0  244.0  2.868852           7.0  244.0   \ntrain_03_tcp_ar_a_13112_s002_t001   9.0  272.0  3.308824           9.0  272.0   \n\n                                            label                      Total  \n                                          %   NaN  total         %   Percent  \nKey                                                                           \ndev_01_tcp_ar_8544_s002_t005       2.243590   0.0  312.0  0.000000  1.293498  \ndev_01_tcp_ar_9578_s011_t008       2.777778   1.0  252.0  0.396825  1.615646  \ndev_01_tcp_ar_9578_s017_t004       3.398058   1.0  206.0  0.485437  1.976422  \ndev_01_tcp_ar_9578_s021_t001       2.052786   1.0  341.0  0.293255  1.193967  \ndev_01_tcp_ar_9842_s002_t001       2.052786   1.0  341.0  0.293255  1.193967  \ndev_02_tcp_le_1770_s003_t000       2.953586   0.0  237.0  0.000000  1.702833  \ndev_02_tcp_le_5943_s001_t000       2.857143   0.0  280.0  0.000000  1.683673  \ntrain_01_tcp_ar_10209_s008_t000    2.310231   0.0  303.0  0.000000  1.331919  \ntrain_01_tcp_ar_10489_s002_t001    3.017241   1.0  232.0  0.431034  1.754926  \ntrain_01_tcp_ar_10969_s008_t001    2.928870   1.0  239.0  0.418410  1.703527  \ntrain_01_tcp_ar_11063_s002_t001    2.953586   0.0  237.0  0.000000  1.702833  \ntrain_01_tcp_ar_11596_s002_t001    2.240896   0.0  357.0  0.000000  1.320528  \ntrain_01_tcp_ar_11869_s001_t004    3.317536   1.0  211.0  0.473934  1.929587  \ntrain_01_tcp_ar_11870_s005_t002    2.978723   1.0  235.0  0.425532  1.975684  \ntrain_01_tcp_ar_1482_s004_t001     2.890173   0.0  346.0  0.000000  1.754748  \ntrain_01_tcp_ar_7032_s008_t000     2.857143   0.0  245.0  0.000000  1.647230  \ntrain_01_tcp_ar_8164_s004_t003     3.111111   1.0  225.0  0.444444  1.809524  \ntrain_01_tcp_ar_8476_s007_t001     3.301887   1.0  212.0  0.471698  1.920485  \ntrain_01_tcp_ar_8480_s002_t004     2.491103   1.0  281.0  0.355872  1.448907  \ntrain_01_tcp_ar_8480_s004_t001     2.611940   1.0  268.0  0.373134  1.519190  \ntrain_01_tcp_ar_8552_s007_t004     3.076923   1.0  260.0  0.384615  1.909341  \ntrain_02_tcp_le_1690_s001_t000     1.994302   0.0  351.0  0.000000  1.149776  \ntrain_02_tcp_le_2126_s001_t000     2.755906   0.0  254.0  0.000000  1.588864  \ntrain_02_tcp_le_499_s002_t002      3.404255   1.0  235.0  0.425532  1.778116  \ntrain_02_tcp_le_5411_s002_t000     2.868852   0.0  244.0  0.000000  1.653981  \ntrain_03_tcp_ar_a_13112_s002_t001  3.308824   1.0  272.0  0.367647  1.995798  \n\n[26 rows x 85 columns]",
      "text/html": "<div>\n<style scoped>\n    .dataframe tbody tr th:only-of-type {\n        vertical-align: middle;\n    }\n\n    .dataframe tbody tr th {\n        vertical-align: top;\n    }\n\n    .dataframe thead tr th {\n        text-align: left;\n    }\n\n    .dataframe thead tr:last-of-type th {\n        text-align: right;\n    }\n</style>\n<table border=\"1\" class=\"dataframe\">\n  <thead>\n    <tr>\n      <th></th>\n      <th colspan=\"3\" halign=\"left\">mean_nni</th>\n      <th colspan=\"3\" halign=\"left\">sdnn</th>\n      <th colspan=\"3\" halign=\"left\">sdsd</th>\n      <th>nni_50</th>\n      <th>...</th>\n      <th colspan=\"3\" halign=\"left\">sd2</th>\n      <th colspan=\"3\" halign=\"left\">ratio_sd2_sd1</th>\n      <th colspan=\"3\" halign=\"left\">label</th>\n      <th>Total</th>\n    </tr>\n    <tr>\n      <th></th>\n      <th>NaN</th>\n      <th>total</th>\n      <th>%</th>\n      <th>NaN</th>\n      <th>total</th>\n      <th>%</th>\n      <th>NaN</th>\n      <th>total</th>\n      <th>%</th>\n      <th>NaN</th>\n      <th>...</th>\n      <th>NaN</th>\n      <th>total</th>\n      <th>%</th>\n      <th>NaN</th>\n      <th>total</th>\n      <th>%</th>\n      <th>NaN</th>\n      <th>total</th>\n      <th>%</th>\n      <th>Percent</th>\n    </tr>\n    <tr>\n      <th>Key</th>\n      <th></th>\n      <th></th>\n      <th></th>\n      <th></th>\n      <th></th>\n      <th></th>\n      <th></th>\n      <th></th>\n      <th></th>\n      <th></th>\n      <th></th>\n      <th></th>\n      <th></th>\n      <th></th>\n      <th></th>\n      <th></th>\n      <th></th>\n      <th></th>\n      <th></th>\n      <th></th>\n      <th></th>\n    </tr>\n  </thead>\n  <tbody>\n    <tr>\n      <th>dev_01_tcp_ar_8544_s002_t005</th>\n      <td>0.0</td>\n      <td>312.0</td>\n      <td>0.000000</td>\n      <td>0.0</td>\n      <td>312.0</td>\n      <td>0.000000</td>\n      <td>0.0</td>\n      <td>312.0</td>\n      <td>0.000000</td>\n      <td>0.0</td>\n      <td>...</td>\n      <td>7.0</td>\n      <td>312.0</td>\n      <td>2.243590</td>\n      <td>7.0</td>\n      <td>312.0</td>\n      <td>2.243590</td>\n      <td>0.0</td>\n      <td>312.0</td>\n      <td>0.000000</td>\n      <td>1.293498</td>\n    </tr>\n    <tr>\n      <th>dev_01_tcp_ar_9578_s011_t008</th>\n      <td>0.0</td>\n      <td>252.0</td>\n      <td>0.000000</td>\n      <td>0.0</td>\n      <td>252.0</td>\n      <td>0.000000</td>\n      <td>0.0</td>\n      <td>252.0</td>\n      <td>0.000000</td>\n      <td>0.0</td>\n      <td>...</td>\n      <td>7.0</td>\n      <td>252.0</td>\n      <td>2.777778</td>\n      <td>7.0</td>\n      <td>252.0</td>\n      <td>2.777778</td>\n      <td>1.0</td>\n      <td>252.0</td>\n      <td>0.396825</td>\n      <td>1.615646</td>\n    </tr>\n    <tr>\n      <th>dev_01_tcp_ar_9578_s017_t004</th>\n      <td>0.0</td>\n      <td>206.0</td>\n      <td>0.000000</td>\n      <td>0.0</td>\n      <td>206.0</td>\n      <td>0.000000</td>\n      <td>0.0</td>\n      <td>206.0</td>\n      <td>0.000000</td>\n      <td>0.0</td>\n      <td>...</td>\n      <td>7.0</td>\n      <td>206.0</td>\n      <td>3.398058</td>\n      <td>7.0</td>\n      <td>206.0</td>\n      <td>3.398058</td>\n      <td>1.0</td>\n      <td>206.0</td>\n      <td>0.485437</td>\n      <td>1.976422</td>\n    </tr>\n    <tr>\n      <th>dev_01_tcp_ar_9578_s021_t001</th>\n      <td>0.0</td>\n      <td>341.0</td>\n      <td>0.000000</td>\n      <td>0.0</td>\n      <td>341.0</td>\n      <td>0.000000</td>\n      <td>0.0</td>\n      <td>341.0</td>\n      <td>0.000000</td>\n      <td>0.0</td>\n      <td>...</td>\n      <td>7.0</td>\n      <td>341.0</td>\n      <td>2.052786</td>\n      <td>7.0</td>\n      <td>341.0</td>\n      <td>2.052786</td>\n      <td>1.0</td>\n      <td>341.0</td>\n      <td>0.293255</td>\n      <td>1.193967</td>\n    </tr>\n    <tr>\n      <th>dev_01_tcp_ar_9842_s002_t001</th>\n      <td>0.0</td>\n      <td>341.0</td>\n      <td>0.000000</td>\n      <td>0.0</td>\n      <td>341.0</td>\n      <td>0.000000</td>\n      <td>0.0</td>\n      <td>341.0</td>\n      <td>0.000000</td>\n      <td>0.0</td>\n      <td>...</td>\n      <td>7.0</td>\n      <td>341.0</td>\n      <td>2.052786</td>\n      <td>7.0</td>\n      <td>341.0</td>\n      <td>2.052786</td>\n      <td>1.0</td>\n      <td>341.0</td>\n      <td>0.293255</td>\n      <td>1.193967</td>\n    </tr>\n    <tr>\n      <th>dev_02_tcp_le_1770_s003_t000</th>\n      <td>0.0</td>\n      <td>237.0</td>\n      <td>0.000000</td>\n      <td>0.0</td>\n      <td>237.0</td>\n      <td>0.000000</td>\n      <td>0.0</td>\n      <td>237.0</td>\n      <td>0.000000</td>\n      <td>0.0</td>\n      <td>...</td>\n      <td>7.0</td>\n      <td>237.0</td>\n      <td>2.953586</td>\n      <td>7.0</td>\n      <td>237.0</td>\n      <td>2.953586</td>\n      <td>0.0</td>\n      <td>237.0</td>\n      <td>0.000000</td>\n      <td>1.702833</td>\n    </tr>\n    <tr>\n      <th>dev_02_tcp_le_5943_s001_t000</th>\n      <td>1.0</td>\n      <td>280.0</td>\n      <td>0.357143</td>\n      <td>1.0</td>\n      <td>280.0</td>\n      <td>0.357143</td>\n      <td>1.0</td>\n      <td>280.0</td>\n      <td>0.357143</td>\n      <td>0.0</td>\n      <td>...</td>\n      <td>8.0</td>\n      <td>280.0</td>\n      <td>2.857143</td>\n      <td>8.0</td>\n      <td>280.0</td>\n      <td>2.857143</td>\n      <td>0.0</td>\n      <td>280.0</td>\n      <td>0.000000</td>\n      <td>1.683673</td>\n    </tr>\n    <tr>\n      <th>train_01_tcp_ar_10209_s008_t000</th>\n      <td>0.0</td>\n      <td>303.0</td>\n      <td>0.000000</td>\n      <td>0.0</td>\n      <td>303.0</td>\n      <td>0.000000</td>\n      <td>0.0</td>\n      <td>303.0</td>\n      <td>0.000000</td>\n      <td>0.0</td>\n      <td>...</td>\n      <td>7.0</td>\n      <td>303.0</td>\n      <td>2.310231</td>\n      <td>7.0</td>\n      <td>303.0</td>\n      <td>2.310231</td>\n      <td>0.0</td>\n      <td>303.0</td>\n      <td>0.000000</td>\n      <td>1.331919</td>\n    </tr>\n    <tr>\n      <th>train_01_tcp_ar_10489_s002_t001</th>\n      <td>0.0</td>\n      <td>232.0</td>\n      <td>0.000000</td>\n      <td>0.0</td>\n      <td>232.0</td>\n      <td>0.000000</td>\n      <td>0.0</td>\n      <td>232.0</td>\n      <td>0.000000</td>\n      <td>0.0</td>\n      <td>...</td>\n      <td>7.0</td>\n      <td>232.0</td>\n      <td>3.017241</td>\n      <td>7.0</td>\n      <td>232.0</td>\n      <td>3.017241</td>\n      <td>1.0</td>\n      <td>232.0</td>\n      <td>0.431034</td>\n      <td>1.754926</td>\n    </tr>\n    <tr>\n      <th>train_01_tcp_ar_10969_s008_t001</th>\n      <td>0.0</td>\n      <td>239.0</td>\n      <td>0.000000</td>\n      <td>0.0</td>\n      <td>239.0</td>\n      <td>0.000000</td>\n      <td>0.0</td>\n      <td>239.0</td>\n      <td>0.000000</td>\n      <td>0.0</td>\n      <td>...</td>\n      <td>7.0</td>\n      <td>239.0</td>\n      <td>2.928870</td>\n      <td>7.0</td>\n      <td>239.0</td>\n      <td>2.928870</td>\n      <td>1.0</td>\n      <td>239.0</td>\n      <td>0.418410</td>\n      <td>1.703527</td>\n    </tr>\n    <tr>\n      <th>train_01_tcp_ar_11063_s002_t001</th>\n      <td>0.0</td>\n      <td>237.0</td>\n      <td>0.000000</td>\n      <td>0.0</td>\n      <td>237.0</td>\n      <td>0.000000</td>\n      <td>0.0</td>\n      <td>237.0</td>\n      <td>0.000000</td>\n      <td>0.0</td>\n      <td>...</td>\n      <td>7.0</td>\n      <td>237.0</td>\n      <td>2.953586</td>\n      <td>7.0</td>\n      <td>237.0</td>\n      <td>2.953586</td>\n      <td>0.0</td>\n      <td>237.0</td>\n      <td>0.000000</td>\n      <td>1.702833</td>\n    </tr>\n    <tr>\n      <th>train_01_tcp_ar_11596_s002_t001</th>\n      <td>1.0</td>\n      <td>357.0</td>\n      <td>0.280112</td>\n      <td>1.0</td>\n      <td>357.0</td>\n      <td>0.280112</td>\n      <td>1.0</td>\n      <td>357.0</td>\n      <td>0.280112</td>\n      <td>0.0</td>\n      <td>...</td>\n      <td>8.0</td>\n      <td>357.0</td>\n      <td>2.240896</td>\n      <td>8.0</td>\n      <td>357.0</td>\n      <td>2.240896</td>\n      <td>0.0</td>\n      <td>357.0</td>\n      <td>0.000000</td>\n      <td>1.320528</td>\n    </tr>\n    <tr>\n      <th>train_01_tcp_ar_11869_s001_t004</th>\n      <td>0.0</td>\n      <td>211.0</td>\n      <td>0.000000</td>\n      <td>0.0</td>\n      <td>211.0</td>\n      <td>0.000000</td>\n      <td>0.0</td>\n      <td>211.0</td>\n      <td>0.000000</td>\n      <td>0.0</td>\n      <td>...</td>\n      <td>7.0</td>\n      <td>211.0</td>\n      <td>3.317536</td>\n      <td>7.0</td>\n      <td>211.0</td>\n      <td>3.317536</td>\n      <td>1.0</td>\n      <td>211.0</td>\n      <td>0.473934</td>\n      <td>1.929587</td>\n    </tr>\n    <tr>\n      <th>train_01_tcp_ar_11870_s005_t002</th>\n      <td>1.0</td>\n      <td>235.0</td>\n      <td>0.425532</td>\n      <td>1.0</td>\n      <td>235.0</td>\n      <td>0.425532</td>\n      <td>1.0</td>\n      <td>235.0</td>\n      <td>0.425532</td>\n      <td>1.0</td>\n      <td>...</td>\n      <td>7.0</td>\n      <td>235.0</td>\n      <td>2.978723</td>\n      <td>7.0</td>\n      <td>235.0</td>\n      <td>2.978723</td>\n      <td>1.0</td>\n      <td>235.0</td>\n      <td>0.425532</td>\n      <td>1.975684</td>\n    </tr>\n    <tr>\n      <th>train_01_tcp_ar_1482_s004_t001</th>\n      <td>3.0</td>\n      <td>346.0</td>\n      <td>0.867052</td>\n      <td>3.0</td>\n      <td>346.0</td>\n      <td>0.867052</td>\n      <td>3.0</td>\n      <td>346.0</td>\n      <td>0.867052</td>\n      <td>0.0</td>\n      <td>...</td>\n      <td>10.0</td>\n      <td>346.0</td>\n      <td>2.890173</td>\n      <td>10.0</td>\n      <td>346.0</td>\n      <td>2.890173</td>\n      <td>0.0</td>\n      <td>346.0</td>\n      <td>0.000000</td>\n      <td>1.754748</td>\n    </tr>\n    <tr>\n      <th>train_01_tcp_ar_7032_s008_t000</th>\n      <td>0.0</td>\n      <td>245.0</td>\n      <td>0.000000</td>\n      <td>0.0</td>\n      <td>245.0</td>\n      <td>0.000000</td>\n      <td>0.0</td>\n      <td>245.0</td>\n      <td>0.000000</td>\n      <td>0.0</td>\n      <td>...</td>\n      <td>7.0</td>\n      <td>245.0</td>\n      <td>2.857143</td>\n      <td>7.0</td>\n      <td>245.0</td>\n      <td>2.857143</td>\n      <td>0.0</td>\n      <td>245.0</td>\n      <td>0.000000</td>\n      <td>1.647230</td>\n    </tr>\n    <tr>\n      <th>train_01_tcp_ar_8164_s004_t003</th>\n      <td>0.0</td>\n      <td>225.0</td>\n      <td>0.000000</td>\n      <td>0.0</td>\n      <td>225.0</td>\n      <td>0.000000</td>\n      <td>0.0</td>\n      <td>225.0</td>\n      <td>0.000000</td>\n      <td>0.0</td>\n      <td>...</td>\n      <td>7.0</td>\n      <td>225.0</td>\n      <td>3.111111</td>\n      <td>7.0</td>\n      <td>225.0</td>\n      <td>3.111111</td>\n      <td>1.0</td>\n      <td>225.0</td>\n      <td>0.444444</td>\n      <td>1.809524</td>\n    </tr>\n    <tr>\n      <th>train_01_tcp_ar_8476_s007_t001</th>\n      <td>0.0</td>\n      <td>212.0</td>\n      <td>0.000000</td>\n      <td>0.0</td>\n      <td>212.0</td>\n      <td>0.000000</td>\n      <td>0.0</td>\n      <td>212.0</td>\n      <td>0.000000</td>\n      <td>0.0</td>\n      <td>...</td>\n      <td>7.0</td>\n      <td>212.0</td>\n      <td>3.301887</td>\n      <td>7.0</td>\n      <td>212.0</td>\n      <td>3.301887</td>\n      <td>1.0</td>\n      <td>212.0</td>\n      <td>0.471698</td>\n      <td>1.920485</td>\n    </tr>\n    <tr>\n      <th>train_01_tcp_ar_8480_s002_t004</th>\n      <td>0.0</td>\n      <td>281.0</td>\n      <td>0.000000</td>\n      <td>0.0</td>\n      <td>281.0</td>\n      <td>0.000000</td>\n      <td>0.0</td>\n      <td>281.0</td>\n      <td>0.000000</td>\n      <td>0.0</td>\n      <td>...</td>\n      <td>7.0</td>\n      <td>281.0</td>\n      <td>2.491103</td>\n      <td>7.0</td>\n      <td>281.0</td>\n      <td>2.491103</td>\n      <td>1.0</td>\n      <td>281.0</td>\n      <td>0.355872</td>\n      <td>1.448907</td>\n    </tr>\n    <tr>\n      <th>train_01_tcp_ar_8480_s004_t001</th>\n      <td>0.0</td>\n      <td>268.0</td>\n      <td>0.000000</td>\n      <td>0.0</td>\n      <td>268.0</td>\n      <td>0.000000</td>\n      <td>0.0</td>\n      <td>268.0</td>\n      <td>0.000000</td>\n      <td>0.0</td>\n      <td>...</td>\n      <td>7.0</td>\n      <td>268.0</td>\n      <td>2.611940</td>\n      <td>7.0</td>\n      <td>268.0</td>\n      <td>2.611940</td>\n      <td>1.0</td>\n      <td>268.0</td>\n      <td>0.373134</td>\n      <td>1.519190</td>\n    </tr>\n    <tr>\n      <th>train_01_tcp_ar_8552_s007_t004</th>\n      <td>1.0</td>\n      <td>260.0</td>\n      <td>0.384615</td>\n      <td>2.0</td>\n      <td>260.0</td>\n      <td>0.769231</td>\n      <td>2.0</td>\n      <td>260.0</td>\n      <td>0.769231</td>\n      <td>0.0</td>\n      <td>...</td>\n      <td>8.0</td>\n      <td>260.0</td>\n      <td>3.076923</td>\n      <td>8.0</td>\n      <td>260.0</td>\n      <td>3.076923</td>\n      <td>1.0</td>\n      <td>260.0</td>\n      <td>0.384615</td>\n      <td>1.909341</td>\n    </tr>\n    <tr>\n      <th>train_02_tcp_le_1690_s001_t000</th>\n      <td>0.0</td>\n      <td>351.0</td>\n      <td>0.000000</td>\n      <td>0.0</td>\n      <td>351.0</td>\n      <td>0.000000</td>\n      <td>0.0</td>\n      <td>351.0</td>\n      <td>0.000000</td>\n      <td>0.0</td>\n      <td>...</td>\n      <td>7.0</td>\n      <td>351.0</td>\n      <td>1.994302</td>\n      <td>7.0</td>\n      <td>351.0</td>\n      <td>1.994302</td>\n      <td>0.0</td>\n      <td>351.0</td>\n      <td>0.000000</td>\n      <td>1.149776</td>\n    </tr>\n    <tr>\n      <th>train_02_tcp_le_2126_s001_t000</th>\n      <td>0.0</td>\n      <td>254.0</td>\n      <td>0.000000</td>\n      <td>0.0</td>\n      <td>254.0</td>\n      <td>0.000000</td>\n      <td>0.0</td>\n      <td>254.0</td>\n      <td>0.000000</td>\n      <td>0.0</td>\n      <td>...</td>\n      <td>7.0</td>\n      <td>254.0</td>\n      <td>2.755906</td>\n      <td>7.0</td>\n      <td>254.0</td>\n      <td>2.755906</td>\n      <td>0.0</td>\n      <td>254.0</td>\n      <td>0.000000</td>\n      <td>1.588864</td>\n    </tr>\n    <tr>\n      <th>train_02_tcp_le_499_s002_t002</th>\n      <td>0.0</td>\n      <td>235.0</td>\n      <td>0.000000</td>\n      <td>0.0</td>\n      <td>235.0</td>\n      <td>0.000000</td>\n      <td>0.0</td>\n      <td>235.0</td>\n      <td>0.000000</td>\n      <td>0.0</td>\n      <td>...</td>\n      <td>7.0</td>\n      <td>235.0</td>\n      <td>2.978723</td>\n      <td>8.0</td>\n      <td>235.0</td>\n      <td>3.404255</td>\n      <td>1.0</td>\n      <td>235.0</td>\n      <td>0.425532</td>\n      <td>1.778116</td>\n    </tr>\n    <tr>\n      <th>train_02_tcp_le_5411_s002_t000</th>\n      <td>0.0</td>\n      <td>244.0</td>\n      <td>0.000000</td>\n      <td>0.0</td>\n      <td>244.0</td>\n      <td>0.000000</td>\n      <td>0.0</td>\n      <td>244.0</td>\n      <td>0.000000</td>\n      <td>0.0</td>\n      <td>...</td>\n      <td>7.0</td>\n      <td>244.0</td>\n      <td>2.868852</td>\n      <td>7.0</td>\n      <td>244.0</td>\n      <td>2.868852</td>\n      <td>0.0</td>\n      <td>244.0</td>\n      <td>0.000000</td>\n      <td>1.653981</td>\n    </tr>\n    <tr>\n      <th>train_03_tcp_ar_a_13112_s002_t001</th>\n      <td>2.0</td>\n      <td>272.0</td>\n      <td>0.735294</td>\n      <td>2.0</td>\n      <td>272.0</td>\n      <td>0.735294</td>\n      <td>2.0</td>\n      <td>272.0</td>\n      <td>0.735294</td>\n      <td>0.0</td>\n      <td>...</td>\n      <td>9.0</td>\n      <td>272.0</td>\n      <td>3.308824</td>\n      <td>9.0</td>\n      <td>272.0</td>\n      <td>3.308824</td>\n      <td>1.0</td>\n      <td>272.0</td>\n      <td>0.367647</td>\n      <td>1.995798</td>\n    </tr>\n  </tbody>\n</table>\n<p>26 rows × 85 columns</p>\n</div>"
     },
     "metadata": {},
     "execution_count": 46
    }
   ],
   "source": [
    "count_nan_by_key[count_nan_by_key[('Total', 'Percent')] < 2]"
   ]
  },
  {
   "cell_type": "code",
   "execution_count": 47,
   "metadata": {},
   "outputs": [
    {
     "output_type": "execute_result",
     "data": {
      "text/plain": "Index(['dev_01_tcp_ar_8544_s002_t005', 'dev_01_tcp_ar_9578_s011_t008',\n       'dev_01_tcp_ar_9578_s017_t004', 'dev_01_tcp_ar_9578_s021_t001',\n       'dev_01_tcp_ar_9842_s002_t001', 'dev_02_tcp_le_1770_s003_t000',\n       'dev_02_tcp_le_5943_s001_t000', 'train_01_tcp_ar_10209_s008_t000',\n       'train_01_tcp_ar_10489_s002_t001', 'train_01_tcp_ar_10969_s008_t001',\n       'train_01_tcp_ar_11063_s002_t001', 'train_01_tcp_ar_11596_s002_t001',\n       'train_01_tcp_ar_11869_s001_t004', 'train_01_tcp_ar_11870_s005_t002',\n       'train_01_tcp_ar_1482_s004_t001', 'train_01_tcp_ar_7032_s008_t000',\n       'train_01_tcp_ar_8164_s004_t003', 'train_01_tcp_ar_8476_s007_t001',\n       'train_01_tcp_ar_8480_s002_t004', 'train_01_tcp_ar_8480_s004_t001',\n       'train_01_tcp_ar_8552_s007_t004', 'train_02_tcp_le_1690_s001_t000',\n       'train_02_tcp_le_2126_s001_t000', 'train_02_tcp_le_499_s002_t002',\n       'train_02_tcp_le_5411_s002_t000', 'train_03_tcp_ar_a_13112_s002_t001'],\n      dtype='object', name='Key')"
     },
     "metadata": {},
     "execution_count": 47
    }
   ],
   "source": [
    "count_nan_by_key[count_nan_by_key[('Total', 'Percent')] < 2].index"
   ]
  },
  {
   "cell_type": "code",
   "execution_count": 37,
   "metadata": {},
   "outputs": [
    {
     "output_type": "error",
     "ename": "ModuleNotFoundError",
     "evalue": "No module named 'tqdm'",
     "traceback": [
      "\u001b[0;31m---------------------------------------------------------------------------\u001b[0m",
      "\u001b[0;31mModuleNotFoundError\u001b[0m                       Traceback (most recent call last)",
      "\u001b[0;32m<ipython-input-37-acf0d42453af>\u001b[0m in \u001b[0;36m<module>\u001b[0;34m\u001b[0m\n\u001b[0;32m----> 1\u001b[0;31m \u001b[0;32mfrom\u001b[0m \u001b[0mfunctions\u001b[0m \u001b[0;32mimport\u001b[0m \u001b[0mget_good_file\u001b[0m\u001b[0;34m\u001b[0m\u001b[0;34m\u001b[0m\u001b[0m\n\u001b[0m",
      "\u001b[0;32m~/Documents/Code/Projects/Epilepsy_Project/Aura/scripts/functions.py\u001b[0m in \u001b[0;36m<module>\u001b[0;34m\u001b[0m\n\u001b[1;32m      3\u001b[0m \u001b[0;32mimport\u001b[0m \u001b[0mjson\u001b[0m\u001b[0;34m\u001b[0m\u001b[0;34m\u001b[0m\u001b[0m\n\u001b[1;32m      4\u001b[0m \u001b[0;32mimport\u001b[0m \u001b[0mre\u001b[0m\u001b[0;34m\u001b[0m\u001b[0;34m\u001b[0m\u001b[0m\n\u001b[0;32m----> 5\u001b[0;31m \u001b[0;32mfrom\u001b[0m \u001b[0mtqdm\u001b[0m \u001b[0;32mimport\u001b[0m \u001b[0mtqdm\u001b[0m\u001b[0;34m\u001b[0m\u001b[0;34m\u001b[0m\u001b[0m\n\u001b[0m\u001b[1;32m      6\u001b[0m \u001b[0;34m\u001b[0m\u001b[0m\n\u001b[1;32m      7\u001b[0m \u001b[0;34m\u001b[0m\u001b[0m\n",
      "\u001b[0;31mModuleNotFoundError\u001b[0m: No module named 'tqdm'"
     ]
    }
   ],
   "source": [
    "from functions import get_good_file"
   ]
  },
  {
   "cell_type": "code",
   "execution_count": 38,
   "metadata": {},
   "outputs": [
    {
     "output_type": "error",
     "ename": "NameError",
     "evalue": "name 'get_good_file' is not defined",
     "traceback": [
      "\u001b[0;31m---------------------------------------------------------------------------\u001b[0m",
      "\u001b[0;31mNameError\u001b[0m                                 Traceback (most recent call last)",
      "\u001b[0;32m<ipython-input-38-21de99c5cf02>\u001b[0m in \u001b[0;36m<module>\u001b[0;34m\u001b[0m\n\u001b[0;32m----> 1\u001b[0;31m \u001b[0mpaths\u001b[0m\u001b[0;34m,\u001b[0m \u001b[0mcle_exams\u001b[0m\u001b[0;34m,\u001b[0m \u001b[0mcoefs\u001b[0m \u001b[0;34m=\u001b[0m \u001b[0mget_good_file\u001b[0m\u001b[0;34m(\u001b[0m\u001b[0;34m'../res-v0_4'\u001b[0m\u001b[0;34m,\u001b[0m \u001b[0;36m0.8\u001b[0m\u001b[0;34m)\u001b[0m\u001b[0;34m\u001b[0m\u001b[0;34m\u001b[0m\u001b[0m\n\u001b[0m",
      "\u001b[0;31mNameError\u001b[0m: name 'get_good_file' is not defined"
     ]
    }
   ],
   "source": [
    "paths, cle_exams, coefs = get_good_file('../res-v0_4', 0.8)"
   ]
  },
  {
   "cell_type": "code",
   "execution_count": 39,
   "metadata": {},
   "outputs": [
    {
     "output_type": "error",
     "ename": "NameError",
     "evalue": "name 'keys' is not defined",
     "traceback": [
      "\u001b[0;31m---------------------------------------------------------------------------\u001b[0m",
      "\u001b[0;31mNameError\u001b[0m                                 Traceback (most recent call last)",
      "\u001b[0;32m<ipython-input-39-0c02acf43573>\u001b[0m in \u001b[0;36m<module>\u001b[0;34m\u001b[0m\n\u001b[0;32m----> 1\u001b[0;31m \u001b[0mkeys\u001b[0m\u001b[0;34m[\u001b[0m\u001b[0;34m:\u001b[0m\u001b[0;36m5\u001b[0m\u001b[0;34m]\u001b[0m\u001b[0;34m\u001b[0m\u001b[0;34m\u001b[0m\u001b[0m\n\u001b[0m",
      "\u001b[0;31mNameError\u001b[0m: name 'keys' is not defined"
     ]
    }
   ],
   "source": [
    "keys[:5]"
   ]
  },
  {
   "cell_type": "code",
   "execution_count": 40,
   "metadata": {},
   "outputs": [
    {
     "output_type": "error",
     "ename": "NameError",
     "evalue": "name 'paths' is not defined",
     "traceback": [
      "\u001b[0;31m---------------------------------------------------------------------------\u001b[0m",
      "\u001b[0;31mNameError\u001b[0m                                 Traceback (most recent call last)",
      "\u001b[0;32m<ipython-input-40-c2eac093d8c2>\u001b[0m in \u001b[0;36m<module>\u001b[0;34m\u001b[0m\n\u001b[0;32m----> 1\u001b[0;31m \u001b[0mpaths\u001b[0m\u001b[0;34m[\u001b[0m\u001b[0;36m0\u001b[0m\u001b[0;34m]\u001b[0m\u001b[0;34m\u001b[0m\u001b[0;34m\u001b[0m\u001b[0m\n\u001b[0m",
      "\u001b[0;31mNameError\u001b[0m: name 'paths' is not defined"
     ]
    }
   ],
   "source": [
    "paths[0]"
   ]
  },
  {
   "cell_type": "code",
   "execution_count": 41,
   "metadata": {},
   "outputs": [
    {
     "output_type": "execute_result",
     "data": {
      "text/plain": "(5080, 85)"
     },
     "metadata": {},
     "execution_count": 41
    }
   ],
   "source": [
    "count_nan_by_key.shape"
   ]
  },
  {
   "cell_type": "code",
   "execution_count": 42,
   "metadata": {},
   "outputs": [
    {
     "output_type": "error",
     "ename": "NameError",
     "evalue": "name 'keys' is not defined",
     "traceback": [
      "\u001b[0;31m---------------------------------------------------------------------------\u001b[0m",
      "\u001b[0;31mNameError\u001b[0m                                 Traceback (most recent call last)",
      "\u001b[0;32m<ipython-input-42-5c923964d853>\u001b[0m in \u001b[0;36m<module>\u001b[0;34m\u001b[0m\n\u001b[0;32m----> 1\u001b[0;31m \u001b[0mfilter_count_nan_by_key\u001b[0m \u001b[0;34m=\u001b[0m \u001b[0mcount_nan_by_key\u001b[0m\u001b[0;34m[\u001b[0m\u001b[0mcount_nan_by_key\u001b[0m\u001b[0;34m.\u001b[0m\u001b[0mindex\u001b[0m\u001b[0;34m.\u001b[0m\u001b[0misin\u001b[0m\u001b[0;34m(\u001b[0m\u001b[0mkeys\u001b[0m\u001b[0;34m)\u001b[0m\u001b[0;34m]\u001b[0m\u001b[0;34m\u001b[0m\u001b[0;34m\u001b[0m\u001b[0m\n\u001b[0m",
      "\u001b[0;31mNameError\u001b[0m: name 'keys' is not defined"
     ]
    }
   ],
   "source": [
    "filter_count_nan_by_key = count_nan_by_key[count_nan_by_key.index.isin(keys)]"
   ]
  },
  {
   "cell_type": "code",
   "execution_count": 43,
   "metadata": {},
   "outputs": [
    {
     "output_type": "error",
     "ename": "NameError",
     "evalue": "name 'filter_count_nan_by_key' is not defined",
     "traceback": [
      "\u001b[0;31m---------------------------------------------------------------------------\u001b[0m",
      "\u001b[0;31mNameError\u001b[0m                                 Traceback (most recent call last)",
      "\u001b[0;32m<ipython-input-43-93be9a151777>\u001b[0m in \u001b[0;36m<module>\u001b[0;34m\u001b[0m\n\u001b[0;32m----> 1\u001b[0;31m \u001b[0mfilter_count_nan_by_key\u001b[0m\u001b[0;34m.\u001b[0m\u001b[0mshape\u001b[0m\u001b[0;34m\u001b[0m\u001b[0;34m\u001b[0m\u001b[0m\n\u001b[0m",
      "\u001b[0;31mNameError\u001b[0m: name 'filter_count_nan_by_key' is not defined"
     ]
    }
   ],
   "source": [
    "filter_count_nan_by_key.shape"
   ]
  },
  {
   "cell_type": "code",
   "execution_count": null,
   "metadata": {},
   "outputs": [],
   "source": []
  }
 ],
 "metadata": {
  "language_info": {
   "codemirror_mode": {
    "name": "ipython",
    "version": 3
   },
   "file_extension": ".py",
   "mimetype": "text/x-python",
   "name": "python",
   "nbconvert_exporter": "python",
   "pygments_lexer": "ipython3",
   "version": "3.8.2-final"
  },
  "orig_nbformat": 2,
  "kernelspec": {
   "name": "python38264bite34a56b6e9a44db4af76022ac3c795eb",
   "display_name": "Python 3.8.2 64-bit"
  }
 },
 "nbformat": 4,
 "nbformat_minor": 2
}