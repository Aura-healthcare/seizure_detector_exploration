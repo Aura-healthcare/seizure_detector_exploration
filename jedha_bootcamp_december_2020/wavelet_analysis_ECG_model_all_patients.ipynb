{
 "cells": [
  {
   "cell_type": "code",
   "execution_count": null,
   "metadata": {},
   "outputs": [],
   "source": [
    "# Command for Google Colab\n",
    "# !gsutil -m cp -r \"gs://butqdb-1.0.0.physionet.org\" \".\"\n",
    "# !mv \"/content/butqdb-1.0.0.physionet.org\" \"/content/aura-data\"\n",
    "# !ln -s \"/content/aura-data\" \"../aura-data\""
   ]
  },
  {
   "cell_type": "code",
   "execution_count": null,
   "metadata": {},
   "outputs": [],
   "source": [
    "# Install package \n",
    "# !pip install scaleogram wfdb mat4py"
   ]
  },
  {
   "cell_type": "code",
   "execution_count": 2,
   "metadata": {},
   "outputs": [],
   "source": [
    "%matplotlib inline\n",
    "import numpy as np\n",
    "import pandas as pd\n",
    "pd.set_option(\"display.max_columns\", 50)\n",
    "import seaborn as sns\n",
    "import matplotlib.pyplot as plt\n",
    "import matplotlib.gridspec as GridSpec\n",
    "import plotly.express as px\n",
    "import plotly.graph_objects as go\n",
    "from plotly.subplots import make_subplots\n",
    "from tensorflow import keras\n",
    "import pywt\n",
    "import scaleogram as scg \n",
    "from mat4py import loadmat\n",
    "from scipy.fftpack import fft, ifft\n",
    "import wfdb\n",
    "import re\n",
    "from math import *\n",
    "#from tqdm import tqdm\n",
    "from tqdm.notebook import tqdm\n",
    "import warnings\n",
    "warnings.filterwarnings('ignore')\n",
    "import time\n",
    "import sys\n",
    "from scipy import stats"
   ]
  },
  {
   "cell_type": "markdown",
   "metadata": {},
   "source": [
    "# Read source for create a dataset of annotations\n",
    "As inputs we have : \n",
    "- Signal frequence is 1000Hz so we have 1000 records per seconds\n",
    "- 18 patients with 24H records per patient\n",
    "- df_data : signal records data from .dat file (list of 90 millions records)\n",
    "- df_annotation : labels quality class from .csv file (1, 2 or 3; 0 means the quality was not annotated in this segment) \n",
    "- Source : https://physionet.org/content/butqdb/1.0.0/"
   ]
  },
  {
   "cell_type": "markdown",
   "metadata": {},
   "source": [
    "-> At first step, we will take we will take data only from the 111001 patient which seems to have the best balance of data in each class"
   ]
  },
  {
   "cell_type": "markdown",
   "metadata": {},
   "source": [
    "## Analysis with patient 111001"
   ]
  },
  {
   "cell_type": "markdown",
   "metadata": {},
   "source": [
    "- The signal frequence is 1000Hz, so we have 1000 records per seconds\n",
    "- The average ECG period is 1 second\n",
    "- We choice to split the dataset in records of 2 seconds partitions\n",
    "- So the dataset will have 2000 features which is the value of the signal in period of 2 seconds\n",
    "- The 2001th feature of our dataset will be the label of our signal (value extract from the final label feature in the annotation file)\n",
    "- In order to low the data loaded in RAM and speed the model training, we will reduce the signal length frequence from 1000Hz to 250Hz (so to take one 1 in 8 in our 2 seconds period, we will check after if this method doesn't bias the model training)"
   ]
  },
  {
   "cell_type": "code",
   "execution_count": 3,
   "metadata": {},
   "outputs": [
    {
     "name": "stdout",
     "output_type": "stream",
     "text": [
      "['../aura-data/118001/118001_ECG.hea', '../aura-data/118001/118001_ACC.hea', '../aura-data/118001/118001_ANN.csv', '../aura-data/118001/118001_ACC.dat', '../aura-data/118001/118001_ECG.dat']\n",
      "['../aura-data/100001/100001_ECG.dat', '../aura-data/111001/111001_ECG.dat', '../aura-data/105001/105001_ECG.dat']\n",
      "['../aura-data/100001/100001_ANN.csv', '../aura-data/111001/111001_ANN.csv', '../aura-data/105001/105001_ANN.csv']\n"
     ]
    },
    {
     "data": {
      "text/plain": [
       "['100001', '111001', '105001']"
      ]
     },
     "execution_count": 3,
     "metadata": {},
     "output_type": "execute_result"
    }
   ],
   "source": [
    "# Read the file path we have in the current folder \n",
    "\n",
    "# Save image path of training data\n",
    "import pathlib \n",
    "file_paths = pathlib.Path('../aura-data')\n",
    "\n",
    "# Convert all paths into a string with comprehension list\n",
    "file_paths = [str(file_path) for file_path in list(file_paths.glob(\"*/*\"))] # list python files in the directory tree\n",
    "print(file_paths[:5])\n",
    "# Select dat_path_file for patients 111001, 100001, 105001\n",
    "r = re.compile(\".*(111001|100001|105001)_ECG\\.dat$\") # create regex to match ECG.dat files\n",
    "ecg_file_dat_paths = list(filter(r.match, file_paths)) # Filter only paths for .dat files\n",
    "print(ecg_file_dat_paths[:5])\n",
    "# Select csv_path_file for patients 111001, 100001, 105001\n",
    "r = re.compile(\".*(111001|100001|105001)_ANN\\.csv$\") # create regex to match ECG.dat files\n",
    "ecg_file_csv_paths = list(filter(r.match, file_paths)) # Filter only paths for .dat files\n",
    "print(ecg_file_csv_paths[:5])\n",
    "# Create list of patient ids for patients 111001, 100001, 105001\n",
    "r = re.compile(\".*(111001|100001|105001)\")\n",
    "folder_paths = pathlib.Path('../aura-data')\n",
    "patient_ids = [str(folder_name) for folder_name in list(folder_paths.iterdir()) if folder_name.is_dir()] # extract folder paths in the current directory\n",
    "patient_ids = list(filter(r.findall, patient_ids))\n",
    "patient_ids = [re.findall('\\d+', x )[0] for x in patient_ids]\n",
    "patient_ids"
   ]
  },
  {
   "cell_type": "code",
   "execution_count": 4,
   "metadata": {},
   "outputs": [],
   "source": [
    "def resampling_data(sample_size, dat_file_path, csv_file_path):\n",
    "    # Import csv annotation file and remove lines with null start/ end/ class values\n",
    "    header_list = [\"start1\", \"end1\", \"class1\",\"start2\", \"end2\", \"class2\",\"start3\", \"end3\", \"class3\",\"start\", \"end\", \"class\"]\n",
    "    df_csv = pd.read_csv(csv_file_path, names=header_list)\n",
    "    df_csv = df_csv[df_csv[\"class\"].notnull() & df_csv[\"start\"].notnull() & df_csv[\"end\"].notnull()]\n",
    "    df_csv[\"start\"] = df_csv[\"start\"].astype(int)\n",
    "    df_csv[\"end\"] = df_csv[\"end\"].astype(int)\n",
    "    df_csv[\"class\"] = df_csv[\"class\"].astype(int)\n",
    "    df_csv = df_csv[df_csv[\"class\"]!=0].reset_index(drop=True)\n",
    "    df_csv['signal_length']=df_csv['end'] - df_csv['start'] \n",
    "    #df_csv[\"sample\"]=round(df_csv[\"signal_length\"]/sample_size)+1\n",
    "    display(df_csv.head())\n",
    "    display(df_csv.tail())\n",
    "    display(df_csv[\"class\"].value_counts()/len(df_csv))\n",
    "\n",
    "    # Import data and reshape it to array matrix with 1000 features \n",
    "    # Import all data in array\n",
    "    arr_data = wfdb.rdrecord(dat_file_path.replace(\".dat\",\"\"))\n",
    "    arr_data = arr_data.adc()\n",
    "    display(f\"Input dat file size : {arr_data.shape}\")\n",
    "\n",
    "    # Create a second column to set label value\n",
    "    arr_zero = np.zeros((arr_data.shape[0],arr_data.shape[1]), dtype=int)\n",
    "    arr_data = np.append(arr_data, arr_zero, axis=1)\n",
    "\n",
    "    # Create list with class label for each range of 1000 values\n",
    "    arr_data[0,1] = df_csv[\"class\"][0]\n",
    "    for i in tqdm(range(0,len(df_csv))):\n",
    "        label = df_csv[\"class\"][i]\n",
    "        start = int(df_csv.start[i])\n",
    "        end = int(df_csv.end[i])\n",
    "        for ii in range(start, end):\n",
    "            arr_data[ii,1] = label\n",
    "\n",
    "    # Display the number of row with null label\n",
    "    display(f\"Number of element with label == 0 : {arr_data[arr_data[:,1]==0].shape[0]}\")\n",
    "\n",
    "    # Remove row with null label\n",
    "    # arr_data = arr_data[arr_data[:,1]!=0]\n",
    "    # need to have number of rows which is a multiple of sample_size\n",
    "    arr_data_size = (arr_data.shape[0]//sample_size)*sample_size\n",
    "\n",
    "    # Reshape vector data into 2 Matrix (values, labels)\n",
    "    arr_data_values = arr_data[:,0]\n",
    "    arr_data_labels = arr_data[:,1]\n",
    "    arr_data_values = arr_data_values[:arr_data_size].reshape(arr_data[:arr_data_size].shape[0]//sample_size,sample_size)\n",
    "    arr_data_labels = arr_data_labels[:arr_data_size].reshape(arr_data[:arr_data_size].shape[0]//sample_size,sample_size)\n",
    "\n",
    "    # Choose the mode as final label for each sample\n",
    "    arr_data_label_results = np.zeros((arr_data_labels.shape[0],1), dtype=int)\n",
    "    for i in range(len(arr_data_labels)):\n",
    "        arr_data_label_results[i]=stats.mode(arr_data_labels[i])[0]\n",
    "\n",
    "    # Concatenate data array matrix with label column vector array\n",
    "    arr_data_resampled = np.concatenate((arr_data_values,arr_data_label_results), axis=1)\n",
    "\n",
    "    # Remove rows with null element in label column\n",
    "    arr_data_resampled = arr_data_resampled[arr_data_resampled[:,sample_size]!=0]\n",
    "    display(f\"Final array size : {arr_data_resampled.shape}\")\n",
    "    return arr_data_resampled"
   ]
  },
  {
   "cell_type": "code",
   "execution_count": 5,
   "metadata": {},
   "outputs": [],
   "source": [
    "def prepare_class(sample_size, arr_data_all, resample_scale):\n",
    "    arr_class_1 = arr_data_all[arr_data_all[:,sample_size]==1][:,:sample_size:resample_scale]\n",
    "    arr_class_1 = arr_class_1/1000\n",
    "    display(arr_class_1.shape)\n",
    "    display(arr_class_1)\n",
    "    np.random.shuffle(arr_class_1)\n",
    "    display(arr_class_1)\n",
    "    arr_class_2 = arr_data_all[arr_data_all[:,sample_size]==2][:,:sample_size:resample_scale]\n",
    "    arr_class_2 = arr_class_2/1000\n",
    "    display(arr_class_2.shape)\n",
    "    display(arr_class_2)\n",
    "    np.random.shuffle(arr_class_2)\n",
    "    display(arr_class_2)\n",
    "    arr_class_3 = arr_data_all[arr_data_all[:,sample_size]==3][:,:sample_size:resample_scale]\n",
    "    arr_class_3 = arr_class_3/1000\n",
    "    display(arr_class_3.shape)\n",
    "    display(arr_class_3)\n",
    "    np.random.shuffle(arr_class_3)\n",
    "    display(arr_class_3)\n",
    "    return arr_class_1, arr_class_2, arr_class_3"
   ]
  },
  {
   "cell_type": "code",
   "execution_count": 6,
   "metadata": {},
   "outputs": [
    {
     "data": {
      "text/plain": [
       "'patient id : 100001'"
      ]
     },
     "metadata": {},
     "output_type": "display_data"
    },
    {
     "data": {
      "text/html": [
       "<div>\n",
       "<style scoped>\n",
       "    .dataframe tbody tr th:only-of-type {\n",
       "        vertical-align: middle;\n",
       "    }\n",
       "\n",
       "    .dataframe tbody tr th {\n",
       "        vertical-align: top;\n",
       "    }\n",
       "\n",
       "    .dataframe thead th {\n",
       "        text-align: right;\n",
       "    }\n",
       "</style>\n",
       "<table border=\"1\" class=\"dataframe\">\n",
       "  <thead>\n",
       "    <tr style=\"text-align: right;\">\n",
       "      <th></th>\n",
       "      <th>start1</th>\n",
       "      <th>end1</th>\n",
       "      <th>class1</th>\n",
       "      <th>start2</th>\n",
       "      <th>end2</th>\n",
       "      <th>class2</th>\n",
       "      <th>start3</th>\n",
       "      <th>end3</th>\n",
       "      <th>class3</th>\n",
       "      <th>start</th>\n",
       "      <th>end</th>\n",
       "      <th>class</th>\n",
       "      <th>signal_length</th>\n",
       "    </tr>\n",
       "  </thead>\n",
       "  <tbody>\n",
       "    <tr>\n",
       "      <th>0</th>\n",
       "      <td>1.0</td>\n",
       "      <td>198867.0</td>\n",
       "      <td>2.0</td>\n",
       "      <td>1.0</td>\n",
       "      <td>19525.0</td>\n",
       "      <td>1.0</td>\n",
       "      <td>1</td>\n",
       "      <td>7047</td>\n",
       "      <td>2</td>\n",
       "      <td>1</td>\n",
       "      <td>7047</td>\n",
       "      <td>2</td>\n",
       "      <td>7046</td>\n",
       "    </tr>\n",
       "    <tr>\n",
       "      <th>1</th>\n",
       "      <td>198868.0</td>\n",
       "      <td>320282.0</td>\n",
       "      <td>1.0</td>\n",
       "      <td>19526.0</td>\n",
       "      <td>28694.0</td>\n",
       "      <td>2.0</td>\n",
       "      <td>7048</td>\n",
       "      <td>17209</td>\n",
       "      <td>1</td>\n",
       "      <td>7048</td>\n",
       "      <td>17209</td>\n",
       "      <td>1</td>\n",
       "      <td>10161</td>\n",
       "    </tr>\n",
       "    <tr>\n",
       "      <th>2</th>\n",
       "      <td>320283.0</td>\n",
       "      <td>373109.0</td>\n",
       "      <td>2.0</td>\n",
       "      <td>28695.0</td>\n",
       "      <td>32739.0</td>\n",
       "      <td>1.0</td>\n",
       "      <td>17210</td>\n",
       "      <td>28390</td>\n",
       "      <td>2</td>\n",
       "      <td>17210</td>\n",
       "      <td>28694</td>\n",
       "      <td>2</td>\n",
       "      <td>11484</td>\n",
       "    </tr>\n",
       "    <tr>\n",
       "      <th>3</th>\n",
       "      <td>373110.0</td>\n",
       "      <td>2197974.0</td>\n",
       "      <td>1.0</td>\n",
       "      <td>32740.0</td>\n",
       "      <td>96699.0</td>\n",
       "      <td>2.0</td>\n",
       "      <td>28391</td>\n",
       "      <td>32653</td>\n",
       "      <td>1</td>\n",
       "      <td>28695</td>\n",
       "      <td>32653</td>\n",
       "      <td>1</td>\n",
       "      <td>3958</td>\n",
       "    </tr>\n",
       "    <tr>\n",
       "      <th>4</th>\n",
       "      <td>2197975.0</td>\n",
       "      <td>2582746.0</td>\n",
       "      <td>2.0</td>\n",
       "      <td>96700.0</td>\n",
       "      <td>110564.0</td>\n",
       "      <td>1.0</td>\n",
       "      <td>32654</td>\n",
       "      <td>71061</td>\n",
       "      <td>2</td>\n",
       "      <td>32654</td>\n",
       "      <td>112474</td>\n",
       "      <td>2</td>\n",
       "      <td>79820</td>\n",
       "    </tr>\n",
       "  </tbody>\n",
       "</table>\n",
       "</div>"
      ],
      "text/plain": [
       "      start1       end1  class1   start2      end2  class2  start3   end3  \\\n",
       "0        1.0   198867.0     2.0      1.0   19525.0     1.0       1   7047   \n",
       "1   198868.0   320282.0     1.0  19526.0   28694.0     2.0    7048  17209   \n",
       "2   320283.0   373109.0     2.0  28695.0   32739.0     1.0   17210  28390   \n",
       "3   373110.0  2197974.0     1.0  32740.0   96699.0     2.0   28391  32653   \n",
       "4  2197975.0  2582746.0     2.0  96700.0  110564.0     1.0   32654  71061   \n",
       "\n",
       "   class3  start     end  class  signal_length  \n",
       "0       2      1    7047      2           7046  \n",
       "1       1   7048   17209      1          10161  \n",
       "2       2  17210   28694      2          11484  \n",
       "3       1  28695   32653      1           3958  \n",
       "4       2  32654  112474      2          79820  "
      ]
     },
     "metadata": {},
     "output_type": "display_data"
    },
    {
     "data": {
      "text/html": [
       "<div>\n",
       "<style scoped>\n",
       "    .dataframe tbody tr th:only-of-type {\n",
       "        vertical-align: middle;\n",
       "    }\n",
       "\n",
       "    .dataframe tbody tr th {\n",
       "        vertical-align: top;\n",
       "    }\n",
       "\n",
       "    .dataframe thead th {\n",
       "        text-align: right;\n",
       "    }\n",
       "</style>\n",
       "<table border=\"1\" class=\"dataframe\">\n",
       "  <thead>\n",
       "    <tr style=\"text-align: right;\">\n",
       "      <th></th>\n",
       "      <th>start1</th>\n",
       "      <th>end1</th>\n",
       "      <th>class1</th>\n",
       "      <th>start2</th>\n",
       "      <th>end2</th>\n",
       "      <th>class2</th>\n",
       "      <th>start3</th>\n",
       "      <th>end3</th>\n",
       "      <th>class3</th>\n",
       "      <th>start</th>\n",
       "      <th>end</th>\n",
       "      <th>class</th>\n",
       "      <th>signal_length</th>\n",
       "    </tr>\n",
       "  </thead>\n",
       "  <tbody>\n",
       "    <tr>\n",
       "      <th>758</th>\n",
       "      <td>NaN</td>\n",
       "      <td>NaN</td>\n",
       "      <td>NaN</td>\n",
       "      <td>NaN</td>\n",
       "      <td>NaN</td>\n",
       "      <td>NaN</td>\n",
       "      <td>59818365</td>\n",
       "      <td>59824575</td>\n",
       "      <td>1</td>\n",
       "      <td>86486096</td>\n",
       "      <td>86580752</td>\n",
       "      <td>2</td>\n",
       "      <td>94656</td>\n",
       "    </tr>\n",
       "    <tr>\n",
       "      <th>759</th>\n",
       "      <td>NaN</td>\n",
       "      <td>NaN</td>\n",
       "      <td>NaN</td>\n",
       "      <td>NaN</td>\n",
       "      <td>NaN</td>\n",
       "      <td>NaN</td>\n",
       "      <td>59824576</td>\n",
       "      <td>59826028</td>\n",
       "      <td>2</td>\n",
       "      <td>86580753</td>\n",
       "      <td>86588415</td>\n",
       "      <td>1</td>\n",
       "      <td>7662</td>\n",
       "    </tr>\n",
       "    <tr>\n",
       "      <th>760</th>\n",
       "      <td>NaN</td>\n",
       "      <td>NaN</td>\n",
       "      <td>NaN</td>\n",
       "      <td>NaN</td>\n",
       "      <td>NaN</td>\n",
       "      <td>NaN</td>\n",
       "      <td>59826029</td>\n",
       "      <td>59830915</td>\n",
       "      <td>1</td>\n",
       "      <td>86588416</td>\n",
       "      <td>86757975</td>\n",
       "      <td>2</td>\n",
       "      <td>169559</td>\n",
       "    </tr>\n",
       "    <tr>\n",
       "      <th>761</th>\n",
       "      <td>NaN</td>\n",
       "      <td>NaN</td>\n",
       "      <td>NaN</td>\n",
       "      <td>NaN</td>\n",
       "      <td>NaN</td>\n",
       "      <td>NaN</td>\n",
       "      <td>59830916</td>\n",
       "      <td>59832492</td>\n",
       "      <td>2</td>\n",
       "      <td>86757976</td>\n",
       "      <td>86827127</td>\n",
       "      <td>1</td>\n",
       "      <td>69151</td>\n",
       "    </tr>\n",
       "    <tr>\n",
       "      <th>762</th>\n",
       "      <td>NaN</td>\n",
       "      <td>NaN</td>\n",
       "      <td>NaN</td>\n",
       "      <td>NaN</td>\n",
       "      <td>NaN</td>\n",
       "      <td>NaN</td>\n",
       "      <td>59832493</td>\n",
       "      <td>59858995</td>\n",
       "      <td>1</td>\n",
       "      <td>86827128</td>\n",
       "      <td>87087000</td>\n",
       "      <td>2</td>\n",
       "      <td>259872</td>\n",
       "    </tr>\n",
       "  </tbody>\n",
       "</table>\n",
       "</div>"
      ],
      "text/plain": [
       "     start1  end1  class1  start2  end2  class2    start3      end3  class3  \\\n",
       "758     NaN   NaN     NaN     NaN   NaN     NaN  59818365  59824575       1   \n",
       "759     NaN   NaN     NaN     NaN   NaN     NaN  59824576  59826028       2   \n",
       "760     NaN   NaN     NaN     NaN   NaN     NaN  59826029  59830915       1   \n",
       "761     NaN   NaN     NaN     NaN   NaN     NaN  59830916  59832492       2   \n",
       "762     NaN   NaN     NaN     NaN   NaN     NaN  59832493  59858995       1   \n",
       "\n",
       "        start       end  class  signal_length  \n",
       "758  86486096  86580752      2          94656  \n",
       "759  86580753  86588415      1           7662  \n",
       "760  86588416  86757975      2         169559  \n",
       "761  86757976  86827127      1          69151  \n",
       "762  86827128  87087000      2         259872  "
      ]
     },
     "metadata": {},
     "output_type": "display_data"
    },
    {
     "data": {
      "text/plain": [
       "2    0.500655\n",
       "1    0.496723\n",
       "3    0.002621\n",
       "Name: class, dtype: float64"
      ]
     },
     "metadata": {},
     "output_type": "display_data"
    },
    {
     "data": {
      "text/plain": [
       "'Input dat file size : (87087000, 1)'"
      ]
     },
     "metadata": {},
     "output_type": "display_data"
    },
    {
     "data": {
      "application/vnd.jupyter.widget-view+json": {
       "model_id": "a3d534556d924ed38139afca6f5af2dd",
       "version_major": 2,
       "version_minor": 0
      },
      "text/plain": [
       "HBox(children=(HTML(value=''), FloatProgress(value=0.0, max=763.0), HTML(value='')))"
      ]
     },
     "metadata": {},
     "output_type": "display_data"
    },
    {
     "name": "stdout",
     "output_type": "stream",
     "text": [
      "\n"
     ]
    },
    {
     "data": {
      "text/plain": [
       "'Number of element with label == 0 : 762'"
      ]
     },
     "metadata": {},
     "output_type": "display_data"
    },
    {
     "data": {
      "text/plain": [
       "'Final array size : (43543, 2001)'"
      ]
     },
     "metadata": {},
     "output_type": "display_data"
    },
    {
     "data": {
      "text/plain": [
       "'patient id : 111001'"
      ]
     },
     "metadata": {},
     "output_type": "display_data"
    },
    {
     "data": {
      "text/html": [
       "<div>\n",
       "<style scoped>\n",
       "    .dataframe tbody tr th:only-of-type {\n",
       "        vertical-align: middle;\n",
       "    }\n",
       "\n",
       "    .dataframe tbody tr th {\n",
       "        vertical-align: top;\n",
       "    }\n",
       "\n",
       "    .dataframe thead th {\n",
       "        text-align: right;\n",
       "    }\n",
       "</style>\n",
       "<table border=\"1\" class=\"dataframe\">\n",
       "  <thead>\n",
       "    <tr style=\"text-align: right;\">\n",
       "      <th></th>\n",
       "      <th>start1</th>\n",
       "      <th>end1</th>\n",
       "      <th>class1</th>\n",
       "      <th>start2</th>\n",
       "      <th>end2</th>\n",
       "      <th>class2</th>\n",
       "      <th>start3</th>\n",
       "      <th>end3</th>\n",
       "      <th>class3</th>\n",
       "      <th>start</th>\n",
       "      <th>end</th>\n",
       "      <th>class</th>\n",
       "      <th>signal_length</th>\n",
       "    </tr>\n",
       "  </thead>\n",
       "  <tbody>\n",
       "    <tr>\n",
       "      <th>0</th>\n",
       "      <td>1.0</td>\n",
       "      <td>4315694.0</td>\n",
       "      <td>2.0</td>\n",
       "      <td>1.0</td>\n",
       "      <td>411254.0</td>\n",
       "      <td>2.0</td>\n",
       "      <td>1</td>\n",
       "      <td>7523</td>\n",
       "      <td>1</td>\n",
       "      <td>1</td>\n",
       "      <td>415143</td>\n",
       "      <td>2</td>\n",
       "      <td>415142</td>\n",
       "    </tr>\n",
       "    <tr>\n",
       "      <th>1</th>\n",
       "      <td>4315695.0</td>\n",
       "      <td>4334794.0</td>\n",
       "      <td>1.0</td>\n",
       "      <td>411255.0</td>\n",
       "      <td>421291.0</td>\n",
       "      <td>1.0</td>\n",
       "      <td>7524</td>\n",
       "      <td>16977</td>\n",
       "      <td>2</td>\n",
       "      <td>415144</td>\n",
       "      <td>421291</td>\n",
       "      <td>1</td>\n",
       "      <td>6147</td>\n",
       "    </tr>\n",
       "    <tr>\n",
       "      <th>2</th>\n",
       "      <td>4334795.0</td>\n",
       "      <td>7908996.0</td>\n",
       "      <td>2.0</td>\n",
       "      <td>421292.0</td>\n",
       "      <td>433271.0</td>\n",
       "      <td>2.0</td>\n",
       "      <td>16978</td>\n",
       "      <td>18848</td>\n",
       "      <td>1</td>\n",
       "      <td>421292</td>\n",
       "      <td>433515</td>\n",
       "      <td>2</td>\n",
       "      <td>12223</td>\n",
       "    </tr>\n",
       "    <tr>\n",
       "      <th>3</th>\n",
       "      <td>7908997.0</td>\n",
       "      <td>7915643.0</td>\n",
       "      <td>1.0</td>\n",
       "      <td>433272.0</td>\n",
       "      <td>447315.0</td>\n",
       "      <td>1.0</td>\n",
       "      <td>18849</td>\n",
       "      <td>105566</td>\n",
       "      <td>2</td>\n",
       "      <td>433516</td>\n",
       "      <td>447315</td>\n",
       "      <td>1</td>\n",
       "      <td>13799</td>\n",
       "    </tr>\n",
       "    <tr>\n",
       "      <th>4</th>\n",
       "      <td>7915644.0</td>\n",
       "      <td>13719093.0</td>\n",
       "      <td>2.0</td>\n",
       "      <td>447316.0</td>\n",
       "      <td>451027.0</td>\n",
       "      <td>2.0</td>\n",
       "      <td>105567</td>\n",
       "      <td>108563</td>\n",
       "      <td>1</td>\n",
       "      <td>447316</td>\n",
       "      <td>451027</td>\n",
       "      <td>2</td>\n",
       "      <td>3711</td>\n",
       "    </tr>\n",
       "  </tbody>\n",
       "</table>\n",
       "</div>"
      ],
      "text/plain": [
       "      start1        end1  class1    start2      end2  class2  start3    end3  \\\n",
       "0        1.0   4315694.0     2.0       1.0  411254.0     2.0       1    7523   \n",
       "1  4315695.0   4334794.0     1.0  411255.0  421291.0     1.0    7524   16977   \n",
       "2  4334795.0   7908996.0     2.0  421292.0  433271.0     2.0   16978   18848   \n",
       "3  7908997.0   7915643.0     1.0  433272.0  447315.0     1.0   18849  105566   \n",
       "4  7915644.0  13719093.0     2.0  447316.0  451027.0     2.0  105567  108563   \n",
       "\n",
       "   class3   start     end  class  signal_length  \n",
       "0       1       1  415143      2         415142  \n",
       "1       2  415144  421291      1           6147  \n",
       "2       1  421292  433515      2          12223  \n",
       "3       2  433516  447315      1          13799  \n",
       "4       1  447316  451027      2           3711  "
      ]
     },
     "metadata": {},
     "output_type": "display_data"
    },
    {
     "data": {
      "text/html": [
       "<div>\n",
       "<style scoped>\n",
       "    .dataframe tbody tr th:only-of-type {\n",
       "        vertical-align: middle;\n",
       "    }\n",
       "\n",
       "    .dataframe tbody tr th {\n",
       "        vertical-align: top;\n",
       "    }\n",
       "\n",
       "    .dataframe thead th {\n",
       "        text-align: right;\n",
       "    }\n",
       "</style>\n",
       "<table border=\"1\" class=\"dataframe\">\n",
       "  <thead>\n",
       "    <tr style=\"text-align: right;\">\n",
       "      <th></th>\n",
       "      <th>start1</th>\n",
       "      <th>end1</th>\n",
       "      <th>class1</th>\n",
       "      <th>start2</th>\n",
       "      <th>end2</th>\n",
       "      <th>class2</th>\n",
       "      <th>start3</th>\n",
       "      <th>end3</th>\n",
       "      <th>class3</th>\n",
       "      <th>start</th>\n",
       "      <th>end</th>\n",
       "      <th>class</th>\n",
       "      <th>signal_length</th>\n",
       "    </tr>\n",
       "  </thead>\n",
       "  <tbody>\n",
       "    <tr>\n",
       "      <th>2734</th>\n",
       "      <td>NaN</td>\n",
       "      <td>NaN</td>\n",
       "      <td>NaN</td>\n",
       "      <td>NaN</td>\n",
       "      <td>NaN</td>\n",
       "      <td>NaN</td>\n",
       "      <td>35206925</td>\n",
       "      <td>35212255</td>\n",
       "      <td>1</td>\n",
       "      <td>88835329</td>\n",
       "      <td>88857959</td>\n",
       "      <td>1</td>\n",
       "      <td>22630</td>\n",
       "    </tr>\n",
       "    <tr>\n",
       "      <th>2735</th>\n",
       "      <td>NaN</td>\n",
       "      <td>NaN</td>\n",
       "      <td>NaN</td>\n",
       "      <td>NaN</td>\n",
       "      <td>NaN</td>\n",
       "      <td>NaN</td>\n",
       "      <td>35212256</td>\n",
       "      <td>35217108</td>\n",
       "      <td>2</td>\n",
       "      <td>88857960</td>\n",
       "      <td>89860280</td>\n",
       "      <td>2</td>\n",
       "      <td>1002320</td>\n",
       "    </tr>\n",
       "    <tr>\n",
       "      <th>2736</th>\n",
       "      <td>NaN</td>\n",
       "      <td>NaN</td>\n",
       "      <td>NaN</td>\n",
       "      <td>NaN</td>\n",
       "      <td>NaN</td>\n",
       "      <td>NaN</td>\n",
       "      <td>35217109</td>\n",
       "      <td>35222483</td>\n",
       "      <td>1</td>\n",
       "      <td>89860281</td>\n",
       "      <td>89872911</td>\n",
       "      <td>1</td>\n",
       "      <td>12630</td>\n",
       "    </tr>\n",
       "    <tr>\n",
       "      <th>2737</th>\n",
       "      <td>NaN</td>\n",
       "      <td>NaN</td>\n",
       "      <td>NaN</td>\n",
       "      <td>NaN</td>\n",
       "      <td>NaN</td>\n",
       "      <td>NaN</td>\n",
       "      <td>35222484</td>\n",
       "      <td>35270820</td>\n",
       "      <td>2</td>\n",
       "      <td>89872912</td>\n",
       "      <td>90622551</td>\n",
       "      <td>2</td>\n",
       "      <td>749639</td>\n",
       "    </tr>\n",
       "    <tr>\n",
       "      <th>2738</th>\n",
       "      <td>NaN</td>\n",
       "      <td>NaN</td>\n",
       "      <td>NaN</td>\n",
       "      <td>NaN</td>\n",
       "      <td>NaN</td>\n",
       "      <td>NaN</td>\n",
       "      <td>35270821</td>\n",
       "      <td>35273851</td>\n",
       "      <td>1</td>\n",
       "      <td>90622552</td>\n",
       "      <td>90645000</td>\n",
       "      <td>3</td>\n",
       "      <td>22448</td>\n",
       "    </tr>\n",
       "  </tbody>\n",
       "</table>\n",
       "</div>"
      ],
      "text/plain": [
       "      start1  end1  class1  start2  end2  class2    start3      end3  class3  \\\n",
       "2734     NaN   NaN     NaN     NaN   NaN     NaN  35206925  35212255       1   \n",
       "2735     NaN   NaN     NaN     NaN   NaN     NaN  35212256  35217108       2   \n",
       "2736     NaN   NaN     NaN     NaN   NaN     NaN  35217109  35222483       1   \n",
       "2737     NaN   NaN     NaN     NaN   NaN     NaN  35222484  35270820       2   \n",
       "2738     NaN   NaN     NaN     NaN   NaN     NaN  35270821  35273851       1   \n",
       "\n",
       "         start       end  class  signal_length  \n",
       "2734  88835329  88857959      1          22630  \n",
       "2735  88857960  89860280      2        1002320  \n",
       "2736  89860281  89872911      1          12630  \n",
       "2737  89872912  90622551      2         749639  \n",
       "2738  90622552  90645000      3          22448  "
      ]
     },
     "metadata": {},
     "output_type": "display_data"
    },
    {
     "data": {
      "text/plain": [
       "2    0.495071\n",
       "1    0.396130\n",
       "3    0.108799\n",
       "Name: class, dtype: float64"
      ]
     },
     "metadata": {},
     "output_type": "display_data"
    },
    {
     "data": {
      "text/plain": [
       "'Input dat file size : (90645000, 1)'"
      ]
     },
     "metadata": {},
     "output_type": "display_data"
    },
    {
     "data": {
      "application/vnd.jupyter.widget-view+json": {
       "model_id": "8967ea6c31544bb78c0139616b0af79e",
       "version_major": 2,
       "version_minor": 0
      },
      "text/plain": [
       "HBox(children=(HTML(value=''), FloatProgress(value=0.0, max=2739.0), HTML(value='')))"
      ]
     },
     "metadata": {},
     "output_type": "display_data"
    },
    {
     "name": "stdout",
     "output_type": "stream",
     "text": [
      "\n"
     ]
    },
    {
     "data": {
      "text/plain": [
       "'Number of element with label == 0 : 2738'"
      ]
     },
     "metadata": {},
     "output_type": "display_data"
    },
    {
     "data": {
      "text/plain": [
       "'Final array size : (45322, 2001)'"
      ]
     },
     "metadata": {},
     "output_type": "display_data"
    },
    {
     "data": {
      "text/plain": [
       "'patient id : 105001'"
      ]
     },
     "metadata": {},
     "output_type": "display_data"
    },
    {
     "data": {
      "text/html": [
       "<div>\n",
       "<style scoped>\n",
       "    .dataframe tbody tr th:only-of-type {\n",
       "        vertical-align: middle;\n",
       "    }\n",
       "\n",
       "    .dataframe tbody tr th {\n",
       "        vertical-align: top;\n",
       "    }\n",
       "\n",
       "    .dataframe thead th {\n",
       "        text-align: right;\n",
       "    }\n",
       "</style>\n",
       "<table border=\"1\" class=\"dataframe\">\n",
       "  <thead>\n",
       "    <tr style=\"text-align: right;\">\n",
       "      <th></th>\n",
       "      <th>start1</th>\n",
       "      <th>end1</th>\n",
       "      <th>class1</th>\n",
       "      <th>start2</th>\n",
       "      <th>end2</th>\n",
       "      <th>class2</th>\n",
       "      <th>start3</th>\n",
       "      <th>end3</th>\n",
       "      <th>class3</th>\n",
       "      <th>start</th>\n",
       "      <th>end</th>\n",
       "      <th>class</th>\n",
       "      <th>signal_length</th>\n",
       "    </tr>\n",
       "  </thead>\n",
       "  <tbody>\n",
       "    <tr>\n",
       "      <th>0</th>\n",
       "      <td>1.0</td>\n",
       "      <td>47323379.0</td>\n",
       "      <td>3.0</td>\n",
       "      <td>1.0</td>\n",
       "      <td>47323871.0</td>\n",
       "      <td>3.0</td>\n",
       "      <td>1</td>\n",
       "      <td>47323500</td>\n",
       "      <td>3</td>\n",
       "      <td>1</td>\n",
       "      <td>47323500</td>\n",
       "      <td>3</td>\n",
       "      <td>47323499</td>\n",
       "    </tr>\n",
       "    <tr>\n",
       "      <th>1</th>\n",
       "      <td>47323380.0</td>\n",
       "      <td>47388207.0</td>\n",
       "      <td>2.0</td>\n",
       "      <td>47323872.0</td>\n",
       "      <td>47329547.0</td>\n",
       "      <td>1.0</td>\n",
       "      <td>47323501</td>\n",
       "      <td>47323539</td>\n",
       "      <td>1</td>\n",
       "      <td>47323501</td>\n",
       "      <td>47326788</td>\n",
       "      <td>2</td>\n",
       "      <td>3287</td>\n",
       "    </tr>\n",
       "    <tr>\n",
       "      <th>2</th>\n",
       "      <td>47388208.0</td>\n",
       "      <td>47404719.0</td>\n",
       "      <td>1.0</td>\n",
       "      <td>47329548.0</td>\n",
       "      <td>47333899.0</td>\n",
       "      <td>2.0</td>\n",
       "      <td>47323540</td>\n",
       "      <td>47326788</td>\n",
       "      <td>2</td>\n",
       "      <td>47326789</td>\n",
       "      <td>47329547</td>\n",
       "      <td>1</td>\n",
       "      <td>2758</td>\n",
       "    </tr>\n",
       "    <tr>\n",
       "      <th>3</th>\n",
       "      <td>47404720.0</td>\n",
       "      <td>47449035.0</td>\n",
       "      <td>2.0</td>\n",
       "      <td>47333900.0</td>\n",
       "      <td>47370615.0</td>\n",
       "      <td>1.0</td>\n",
       "      <td>47326789</td>\n",
       "      <td>47329715</td>\n",
       "      <td>1</td>\n",
       "      <td>47329548</td>\n",
       "      <td>47333904</td>\n",
       "      <td>2</td>\n",
       "      <td>4356</td>\n",
       "    </tr>\n",
       "    <tr>\n",
       "      <th>4</th>\n",
       "      <td>47449036.0</td>\n",
       "      <td>47492819.0</td>\n",
       "      <td>1.0</td>\n",
       "      <td>47370616.0</td>\n",
       "      <td>47377747.0</td>\n",
       "      <td>2.0</td>\n",
       "      <td>47329716</td>\n",
       "      <td>47333904</td>\n",
       "      <td>2</td>\n",
       "      <td>47333905</td>\n",
       "      <td>47370615</td>\n",
       "      <td>1</td>\n",
       "      <td>36710</td>\n",
       "    </tr>\n",
       "  </tbody>\n",
       "</table>\n",
       "</div>"
      ],
      "text/plain": [
       "       start1        end1  class1      start2        end2  class2    start3  \\\n",
       "0         1.0  47323379.0     3.0         1.0  47323871.0     3.0         1   \n",
       "1  47323380.0  47388207.0     2.0  47323872.0  47329547.0     1.0  47323501   \n",
       "2  47388208.0  47404719.0     1.0  47329548.0  47333899.0     2.0  47323540   \n",
       "3  47404720.0  47449035.0     2.0  47333900.0  47370615.0     1.0  47326789   \n",
       "4  47449036.0  47492819.0     1.0  47370616.0  47377747.0     2.0  47329716   \n",
       "\n",
       "       end3  class3     start       end  class  signal_length  \n",
       "0  47323500       3         1  47323500      3       47323499  \n",
       "1  47323539       1  47323501  47326788      2           3287  \n",
       "2  47326788       2  47326789  47329547      1           2758  \n",
       "3  47329715       1  47329548  47333904      2           4356  \n",
       "4  47333904       2  47333905  47370615      1          36710  "
      ]
     },
     "metadata": {},
     "output_type": "display_data"
    },
    {
     "data": {
      "text/html": [
       "<div>\n",
       "<style scoped>\n",
       "    .dataframe tbody tr th:only-of-type {\n",
       "        vertical-align: middle;\n",
       "    }\n",
       "\n",
       "    .dataframe tbody tr th {\n",
       "        vertical-align: top;\n",
       "    }\n",
       "\n",
       "    .dataframe thead th {\n",
       "        text-align: right;\n",
       "    }\n",
       "</style>\n",
       "<table border=\"1\" class=\"dataframe\">\n",
       "  <thead>\n",
       "    <tr style=\"text-align: right;\">\n",
       "      <th></th>\n",
       "      <th>start1</th>\n",
       "      <th>end1</th>\n",
       "      <th>class1</th>\n",
       "      <th>start2</th>\n",
       "      <th>end2</th>\n",
       "      <th>class2</th>\n",
       "      <th>start3</th>\n",
       "      <th>end3</th>\n",
       "      <th>class3</th>\n",
       "      <th>start</th>\n",
       "      <th>end</th>\n",
       "      <th>class</th>\n",
       "      <th>signal_length</th>\n",
       "    </tr>\n",
       "  </thead>\n",
       "  <tbody>\n",
       "    <tr>\n",
       "      <th>1349</th>\n",
       "      <td>NaN</td>\n",
       "      <td>NaN</td>\n",
       "      <td>NaN</td>\n",
       "      <td>NaN</td>\n",
       "      <td>NaN</td>\n",
       "      <td>NaN</td>\n",
       "      <td>79063217</td>\n",
       "      <td>79158543</td>\n",
       "      <td>1</td>\n",
       "      <td>138907088</td>\n",
       "      <td>138909568</td>\n",
       "      <td>2</td>\n",
       "      <td>2480</td>\n",
       "    </tr>\n",
       "    <tr>\n",
       "      <th>1350</th>\n",
       "      <td>NaN</td>\n",
       "      <td>NaN</td>\n",
       "      <td>NaN</td>\n",
       "      <td>NaN</td>\n",
       "      <td>NaN</td>\n",
       "      <td>NaN</td>\n",
       "      <td>79158544</td>\n",
       "      <td>79159920</td>\n",
       "      <td>2</td>\n",
       "      <td>138909569</td>\n",
       "      <td>138989087</td>\n",
       "      <td>1</td>\n",
       "      <td>79518</td>\n",
       "    </tr>\n",
       "    <tr>\n",
       "      <th>1351</th>\n",
       "      <td>NaN</td>\n",
       "      <td>NaN</td>\n",
       "      <td>NaN</td>\n",
       "      <td>NaN</td>\n",
       "      <td>NaN</td>\n",
       "      <td>NaN</td>\n",
       "      <td>79159921</td>\n",
       "      <td>79163967</td>\n",
       "      <td>1</td>\n",
       "      <td>138989088</td>\n",
       "      <td>138997600</td>\n",
       "      <td>2</td>\n",
       "      <td>8512</td>\n",
       "    </tr>\n",
       "    <tr>\n",
       "      <th>1352</th>\n",
       "      <td>NaN</td>\n",
       "      <td>NaN</td>\n",
       "      <td>NaN</td>\n",
       "      <td>NaN</td>\n",
       "      <td>NaN</td>\n",
       "      <td>NaN</td>\n",
       "      <td>79163968</td>\n",
       "      <td>79166160</td>\n",
       "      <td>2</td>\n",
       "      <td>138997601</td>\n",
       "      <td>139120079</td>\n",
       "      <td>1</td>\n",
       "      <td>122478</td>\n",
       "    </tr>\n",
       "    <tr>\n",
       "      <th>1353</th>\n",
       "      <td>NaN</td>\n",
       "      <td>NaN</td>\n",
       "      <td>NaN</td>\n",
       "      <td>NaN</td>\n",
       "      <td>NaN</td>\n",
       "      <td>NaN</td>\n",
       "      <td>79166161</td>\n",
       "      <td>79174599</td>\n",
       "      <td>1</td>\n",
       "      <td>139120080</td>\n",
       "      <td>139147000</td>\n",
       "      <td>3</td>\n",
       "      <td>26920</td>\n",
       "    </tr>\n",
       "  </tbody>\n",
       "</table>\n",
       "</div>"
      ],
      "text/plain": [
       "      start1  end1  class1  start2  end2  class2    start3      end3  class3  \\\n",
       "1349     NaN   NaN     NaN     NaN   NaN     NaN  79063217  79158543       1   \n",
       "1350     NaN   NaN     NaN     NaN   NaN     NaN  79158544  79159920       2   \n",
       "1351     NaN   NaN     NaN     NaN   NaN     NaN  79159921  79163967       1   \n",
       "1352     NaN   NaN     NaN     NaN   NaN     NaN  79163968  79166160       2   \n",
       "1353     NaN   NaN     NaN     NaN   NaN     NaN  79166161  79174599       1   \n",
       "\n",
       "          start        end  class  signal_length  \n",
       "1349  138907088  138909568      2           2480  \n",
       "1350  138909569  138989087      1          79518  \n",
       "1351  138989088  138997600      2           8512  \n",
       "1352  138997601  139120079      1         122478  \n",
       "1353  139120080  139147000      3          26920  "
      ]
     },
     "metadata": {},
     "output_type": "display_data"
    },
    {
     "data": {
      "text/plain": [
       "2    0.499261\n",
       "1    0.499261\n",
       "3    0.001477\n",
       "Name: class, dtype: float64"
      ]
     },
     "metadata": {},
     "output_type": "display_data"
    },
    {
     "data": {
      "text/plain": [
       "'Input dat file size : (139147000, 1)'"
      ]
     },
     "metadata": {},
     "output_type": "display_data"
    },
    {
     "data": {
      "application/vnd.jupyter.widget-view+json": {
       "model_id": "554b16b79bdd4422af063e8e94c85ee8",
       "version_major": 2,
       "version_minor": 0
      },
      "text/plain": [
       "HBox(children=(HTML(value=''), FloatProgress(value=0.0, max=1354.0), HTML(value='')))"
      ]
     },
     "metadata": {},
     "output_type": "display_data"
    },
    {
     "name": "stdout",
     "output_type": "stream",
     "text": [
      "\n"
     ]
    },
    {
     "data": {
      "text/plain": [
       "'Number of element with label == 0 : 1353'"
      ]
     },
     "metadata": {},
     "output_type": "display_data"
    },
    {
     "data": {
      "text/plain": [
       "'Final array size : (69573, 2001)'"
      ]
     },
     "metadata": {},
     "output_type": "display_data"
    },
    {
     "data": {
      "text/plain": [
       "array([[32292, 32270, 32272, ..., 15422, 15422,     2],\n",
       "       [15450, 15486, 15498, ...,  6051,  6037,     2],\n",
       "       [ 6019,  5995,  5957, ..., -1206, -1200,     2],\n",
       "       ...,\n",
       "       [  -77,  -323,  -441, ...,  -293,  -516,     3],\n",
       "       [ -530,  -615,  -661, ...,  -529,  -540,     3],\n",
       "       [ -698,  -817,  -845, ...,   133,   -72,     3]])"
      ]
     },
     "execution_count": 6,
     "metadata": {},
     "output_type": "execute_result"
    }
   ],
   "source": [
    "# Use function for all patients \n",
    "sample_size = 2000\n",
    "arr_data_all = np.zeros((0,sample_size+1), dtype=int)\n",
    "for patient_id, dat_file_path, csv_file_path in zip(patient_ids, ecg_file_dat_paths,ecg_file_csv_paths):\n",
    "    display(f\"patient id : {patient_id}\")\n",
    "    arr_data_labelized = resampling_data(sample_size, dat_file_path, csv_file_path)\n",
    "    arr_data_all = np.concatenate((arr_data_all,arr_data_labelized), axis=0)\n",
    "arr_data_all"
   ]
  },
  {
   "cell_type": "code",
   "execution_count": 7,
   "metadata": {
    "scrolled": false
   },
   "outputs": [
    {
     "data": {
      "text/plain": [
       "(158438, 2001)"
      ]
     },
     "execution_count": 7,
     "metadata": {},
     "output_type": "execute_result"
    }
   ],
   "source": [
    "arr_data_all.shape"
   ]
  },
  {
   "cell_type": "code",
   "execution_count": 8,
   "metadata": {
    "scrolled": true
   },
   "outputs": [
    {
     "data": {
      "text/plain": [
       "(78077, 250)"
      ]
     },
     "metadata": {},
     "output_type": "display_data"
    },
    {
     "data": {
      "text/plain": [
       "array([[-6.122, -6.16 , -6.276, ..., -7.36 , -7.416, -7.505],\n",
       "       [-7.559, -7.581, -7.647, ..., -9.1  , -9.102, -9.002],\n",
       "       [-8.939, -8.857, -8.827, ..., -9.222, -9.27 , -9.156],\n",
       "       ...,\n",
       "       [-0.03 ,  0.259,  0.314, ...,  0.293,  0.266,  0.278],\n",
       "       [ 0.279,  0.294,  0.31 , ..., -0.17 , -0.088, -0.166],\n",
       "       [-0.235, -0.09 , -0.13 , ..., -1.456, -1.381, -1.29 ]])"
      ]
     },
     "metadata": {},
     "output_type": "display_data"
    },
    {
     "data": {
      "text/plain": [
       "array([[-12.591, -12.513, -12.493, ..., -12.372, -12.142, -12.082],\n",
       "       [ -0.039,  -0.026,   0.062, ...,  -0.072,  -0.063,  -0.055],\n",
       "       [ -0.063,  -0.069,  -0.062, ...,   0.077,   0.129,   0.148],\n",
       "       ...,\n",
       "       [ -0.15 ,  -0.149,  -0.137, ...,  -0.296,  -0.275,  -0.226],\n",
       "       [-12.386, -12.384, -12.406, ..., -12.266, -12.196, -12.106],\n",
       "       [ -0.106,  -0.109,  -0.101, ...,  -0.092,  -0.098,  -0.088]])"
      ]
     },
     "metadata": {},
     "output_type": "display_data"
    },
    {
     "data": {
      "text/plain": [
       "(54563, 250)"
      ]
     },
     "metadata": {},
     "output_type": "display_data"
    },
    {
     "data": {
      "text/plain": [
       "array([[ 3.2292e+01,  3.2181e+01,  3.2051e+01, ...,  1.5440e+01,\n",
       "         1.5580e+01,  1.5518e+01],\n",
       "       [ 1.5450e+01,  1.5644e+01,  1.5470e+01, ...,  6.3930e+00,\n",
       "         6.3650e+00,  6.2170e+00],\n",
       "       [ 6.0190e+00,  5.8220e+00,  5.6840e+00, ..., -8.4300e-01,\n",
       "        -1.0250e+00, -1.1620e+00],\n",
       "       ...,\n",
       "       [-6.2000e-02, -1.7500e-01, -1.6800e-01, ..., -3.0000e-03,\n",
       "        -1.2700e-01, -1.8100e-01],\n",
       "       [-1.4800e-01, -1.4300e-01, -8.2000e-02, ..., -1.8900e-01,\n",
       "        -7.7000e-02, -1.3300e-01],\n",
       "       [-6.1000e-02, -1.4300e-01, -1.1100e-01, ..., -1.4100e-01,\n",
       "        -1.2500e-01, -1.5700e-01]])"
      ]
     },
     "metadata": {},
     "output_type": "display_data"
    },
    {
     "data": {
      "text/plain": [
       "array([[-12.897, -10.919,  -9.609, ..., -14.108, -14.21 , -14.346],\n",
       "       [  0.217,   0.184,   0.133, ...,  -0.063,  -0.063,  -0.053],\n",
       "       [ -0.186,  -0.219,  -0.188, ...,  -0.045,   0.   ,   0.031],\n",
       "       ...,\n",
       "       [-11.613, -11.635, -11.627, ..., -10.691, -11.871, -11.831],\n",
       "       [-12.651, -12.811, -12.641, ..., -12.104, -11.988, -11.841],\n",
       "       [  0.399,   0.332,   0.314, ...,   0.373,   0.317,   0.282]])"
      ]
     },
     "metadata": {},
     "output_type": "display_data"
    },
    {
     "data": {
      "text/plain": [
       "(25798, 250)"
      ]
     },
     "metadata": {},
     "output_type": "display_data"
    },
    {
     "data": {
      "text/plain": [
       "array([[-1.3495e+01, -1.3386e+01, -1.3202e+01, ..., -1.2811e+01,\n",
       "        -1.2743e+01, -1.2699e+01],\n",
       "       [-1.2587e+01, -1.2382e+01, -1.2296e+01, ..., -1.2943e+01,\n",
       "        -1.2767e+01, -1.3296e+01],\n",
       "       [-1.4076e+01, -1.4513e+01, -1.4437e+01, ..., -1.3489e+01,\n",
       "        -1.3657e+01, -1.3773e+01],\n",
       "       ...,\n",
       "       [-7.7000e-02, -1.1900e-01, -2.7800e-01, ..., -9.0000e-02,\n",
       "        -5.6800e-01,  4.2900e-01],\n",
       "       [-5.3000e-01,  6.9000e-02,  8.6000e-02, ..., -3.8700e-01,\n",
       "        -8.1800e-01, -5.0000e-03],\n",
       "       [-6.9800e-01, -3.1500e-01, -4.4300e-01, ...,  1.8900e-01,\n",
       "        -3.6000e-02,  3.9500e-01]])"
      ]
     },
     "metadata": {},
     "output_type": "display_data"
    },
    {
     "data": {
      "text/plain": [
       "array([[-0.011, -0.026,  0.036, ...,  0.013,  0.   , -0.005],\n",
       "       [ 0.013, -0.01 ,  0.038, ...,  0.   , -0.018,  0.005],\n",
       "       [-0.001, -0.003, -0.086, ...,  0.023,  0.123,  0.007],\n",
       "       ...,\n",
       "       [ 0.23 , -0.01 ,  0.018, ..., -0.035, -0.017, -0.007],\n",
       "       [ 0.003,  0.031,  0.007, ..., -0.045, -0.013, -0.175],\n",
       "       [ 0.042,  0.019, -0.036, ..., -0.035,  0.003,  0.033]])"
      ]
     },
     "metadata": {},
     "output_type": "display_data"
    }
   ],
   "source": [
    "resample_scale = 8\n",
    "arr_class_1, arr_class_2, arr_class_3 = prepare_class(sample_size, arr_data_all, resample_scale)"
   ]
  },
  {
   "cell_type": "markdown",
   "metadata": {},
   "source": [
    "## Analysis Wavelet Transformation & Scaleogram"
   ]
  },
  {
   "cell_type": "code",
   "execution_count": 24,
   "metadata": {},
   "outputs": [
    {
     "name": "stdout",
     "output_type": "stream",
     "text": [
      "Default wavelet function used to compute the transform: morl ( Morlet wavelet )\n"
     ]
    },
    {
     "data": {
      "image/png": "[encoded data removed]",
      "text/plain": [
       "<Figure size 648x252 with 1 Axes>"
      ]
     },
     "metadata": {
      "needs_background": "light"
     },
     "output_type": "display_data"
    },
    {
     "data": {
      "image/png": "[encoded data removed]",
      "text/plain": [
       "<Figure size 720x288 with 2 Axes>"
      ]
     },
     "metadata": {
      "needs_background": "light"
     },
     "output_type": "display_data"
    }
   ],
   "source": [
    "# Display Scaleogram of signal labelled in class 1\n",
    "# choose default wavelet function \n",
    "scg.set_default_wavelet('morl')\n",
    "\n",
    "# Choice 5 random values in the array indice range\n",
    "# alist = np.random.choice(range(len(ecg_data_111001)),5)\n",
    "nn = np.random.randint(0,len(arr_class_1))\n",
    "data = arr_class_1[nn]\n",
    "label = 1\n",
    "\n",
    "# Display signal & his scaleogram for each index\n",
    "signal_length = 250\n",
    "# range of scales to perform the transform\n",
    "scales = scg.periods2scales( np.arange(1, signal_length+1) )\n",
    "x_values_wvt_arr = range(0,len(data),1)\n",
    "\n",
    "# plot the signal \n",
    "fig1, ax1 = plt.subplots(1, 1, figsize=(9, 3.5));  \n",
    "ax1.plot(x_values_wvt_arr, data, linewidth=3, color='blue')\n",
    "ax1.set_xlim(0, signal_length)\n",
    "ax1.set_title(f\"Signal class ECG: {label}\")\n",
    "\n",
    "# the scaleogram\n",
    "scg.cws(data[:signal_length], scales=scales, figsize=(10, 4.0), coi = False, ylabel=\"Period\", xlabel=\"Time\",\n",
    "        title=f\"Class ECG {label}: scaleogram with linear period\"); \n",
    "\n",
    "print(\"Default wavelet function used to compute the transform:\", scg.get_default_wavelet(), \"(\",\n",
    "      pywt.ContinuousWavelet(scg.get_default_wavelet()).family_name, \")\")\n",
    "    "
   ]
  },
  {
   "cell_type": "code",
   "execution_count": 21,
   "metadata": {},
   "outputs": [
    {
     "name": "stdout",
     "output_type": "stream",
     "text": [
      "Default wavelet function used to compute the transform: morl ( Morlet wavelet )\n"
     ]
    },
    {
     "data": {
      "image/png": "[encoded data removed]",
      "text/plain": [
       "<Figure size 648x252 with 1 Axes>"
      ]
     },
     "metadata": {
      "needs_background": "light"
     },
     "output_type": "display_data"
    },
    {
     "data": {
      "image/png": "[encoded data removed]",
      "text/plain": [
       "<Figure size 720x288 with 2 Axes>"
      ]
     },
     "metadata": {
      "needs_background": "light"
     },
     "output_type": "display_data"
    }
   ],
   "source": [
    "# Display Scaleogram of signal labelled in class 2\n",
    "# choose default wavelet function \n",
    "scg.set_default_wavelet('morl')\n",
    "\n",
    "# Choice 5 random values in the array indice range\n",
    "# alist = np.random.choice(range(len(ecg_data_111001)),5)\n",
    "nn = np.random.randint(0,len(arr_class_2))\n",
    "data = arr_class_2[nn]\n",
    "label = 2\n",
    "\n",
    "# Display signal & his scaleogram for each index\n",
    "signal_length = 250\n",
    "# range of scales to perform the transform\n",
    "scales = scg.periods2scales( np.arange(1, signal_length+1) )\n",
    "x_values_wvt_arr = range(0,len(data),1)\n",
    "\n",
    "# plot the signal \n",
    "fig1, ax1 = plt.subplots(1, 1, figsize=(9, 3.5));  \n",
    "ax1.plot(x_values_wvt_arr, data, linewidth=3, color='blue')\n",
    "ax1.set_xlim(0, signal_length)\n",
    "ax1.set_title(f\"Signal class ECG: {label}\")\n",
    "\n",
    "# the scaleogram\n",
    "scg.cws(data[:signal_length], scales=scales, figsize=(10, 4.0), coi = False, ylabel=\"Period\", xlabel=\"Time\",\n",
    "        title=f\"Class ECG {label}: scaleogram with linear period\"); \n",
    "\n",
    "print(\"Default wavelet function used to compute the transform:\", scg.get_default_wavelet(), \"(\",\n",
    "      pywt.ContinuousWavelet(scg.get_default_wavelet()).family_name, \")\")"
   ]
  },
  {
   "cell_type": "code",
   "execution_count": 23,
   "metadata": {
    "scrolled": false
   },
   "outputs": [
    {
     "name": "stdout",
     "output_type": "stream",
     "text": [
      "Default wavelet function used to compute the transform: morl ( Morlet wavelet )\n"
     ]
    },
    {
     "data": {
      "image/png": "[encoded data removed]",
      "text/plain": [
       "<Figure size 648x252 with 1 Axes>"
      ]
     },
     "metadata": {
      "needs_background": "light"
     },
     "output_type": "display_data"
    },
    {
     "data": {
      "image/png": "[encoded data removed]",
      "text/plain": [
       "<Figure size 720x288 with 2 Axes>"
      ]
     },
     "metadata": {
      "needs_background": "light"
     },
     "output_type": "display_data"
    }
   ],
   "source": [
    "# Display Scaleogram of signal labelled in class 3\n",
    "# choose default wavelet function \n",
    "scg.set_default_wavelet('morl')\n",
    "\n",
    "# Choice 5 random values in the array indice range\n",
    "# alist = np.random.choice(range(len(ecg_data_111001)),5)\n",
    "nn = np.random.randint(0,len(arr_class_3))\n",
    "data = arr_class_3[nn]\n",
    "label = 3\n",
    "\n",
    "# Display signal & his scaleogram for each index\n",
    "signal_length = 250\n",
    "# range of scales to perform the transform\n",
    "scales = scg.periods2scales( np.arange(1, signal_length+1) )\n",
    "x_values_wvt_arr = range(0,len(data),1)\n",
    "\n",
    "# plot the signal \n",
    "fig1, ax1 = plt.subplots(1, 1, figsize=(9, 3.5));  \n",
    "ax1.plot(x_values_wvt_arr, data, linewidth=3, color='blue')\n",
    "ax1.set_xlim(0, signal_length)\n",
    "ax1.set_title(f\"Signal class ECG: {label}\")\n",
    "\n",
    "# the scaleogram\n",
    "scg.cws(data[:signal_length], scales=scales, figsize=(10, 4.0), coi = False, ylabel=\"Period\", xlabel=\"Time\",\n",
    "        title=f\"Class ECG {label}: scaleogram with linear period\"); \n",
    "\n",
    "print(\"Default wavelet function used to compute the transform:\", scg.get_default_wavelet(), \"(\",\n",
    "      pywt.ContinuousWavelet(scg.get_default_wavelet()).family_name, \")\")"
   ]
  },
  {
   "cell_type": "markdown",
   "metadata": {},
   "source": [
    "# Create model classification prediction"
   ]
  },
  {
   "cell_type": "markdown",
   "metadata": {},
   "source": [
    "## 1- Train & test NN model"
   ]
  },
  {
   "cell_type": "code",
   "execution_count": 37,
   "metadata": {},
   "outputs": [
    {
     "data": {
      "application/vnd.jupyter.widget-view+json": {
       "model_id": "e1d1351d801d4612a18a2d49964f210e",
       "version_major": 2,
       "version_minor": 0
      },
      "text/plain": [
       "HBox(children=(HTML(value=''), FloatProgress(value=0.0, max=4500.0), HTML(value='')))"
      ]
     },
     "metadata": {},
     "output_type": "display_data"
    },
    {
     "name": "stdout",
     "output_type": "stream",
     "text": [
      "0 done!\n",
      "500 done!\n",
      "1000 done!\n",
      "1500 done!\n",
      "2000 done!\n",
      "2500 done!\n",
      "3000 done!\n",
      "3500 done!\n",
      "4000 done!\n",
      "\n",
      "Time spent : 534.2458288669586 seconds\n",
      " X_full dimension : (4500, 249, 249, 3)\n",
      " X_train dimension : (3375, 249, 249, 3)\n"
     ]
    }
   ],
   "source": [
    "# Convert array into list to train our model\n",
    "arr_class_1_flatten = list(arr_class_1)\n",
    "arr_class_2_flatten = list(arr_class_2)\n",
    "arr_class_3_flatten = list(arr_class_3)\n",
    "# Reduce samples data for each class to reduce_size\n",
    "reduce_size = 1500\n",
    "full_1500 = (arr_class_1_flatten[0:reduce_size] + arr_class_2_flatten[0:reduce_size] + arr_class_3_flatten[0:reduce_size])\n",
    "\n",
    "# create the data set with scaleogramme image for each signal data\n",
    "# We create a X_full \n",
    "from sklearn import preprocessing\n",
    "from sklearn.model_selection import train_test_split\n",
    "\n",
    "start_time = time.time()\n",
    "\n",
    "fs = len(full_1500[0])\n",
    "# sgn_length = 1000   #65536   Pay atention with ram memory! \n",
    "size_dataset = len(full_1500)\n",
    "scales = range(1, fs)\n",
    "waveletname = 'morl'\n",
    " \n",
    "X_full = np.ndarray(shape=(size_dataset, fs-1, fs-1, 3))\n",
    "                 \n",
    "for i in tqdm(range(0, size_dataset)):\n",
    "    if i % 500 == 0:\n",
    "        print (i, 'done!')\n",
    "    for j in range(0, 3):\n",
    "        signal = full_1500[i]\n",
    "        coeff, freq = pywt.cwt(signal, scales, waveletname, 1)\n",
    "        X_full[i, :, :, j] = coeff[:,:fs-1]\n",
    "\n",
    "end_time = time.time()\n",
    "\n",
    "print(f\"Time spent : {end_time - start_time} seconds\")\n",
    "print(f\" X_full dimension : {X_full.shape}\")\n",
    "\n",
    "# Create label encoder\n",
    "list_labels_class_1 = ['1']*reduce_size \n",
    "list_labels_class_2 = ['2']*reduce_size \n",
    "list_labels_class_3 = ['3']*reduce_size \n",
    "list_labels = (list_labels_class_1 + list_labels_class_2 + list_labels_class_3)\n",
    "\n",
    "le = preprocessing.LabelEncoder()\n",
    "list_labels_encoded = le.fit_transform(list_labels)\n",
    "X_train, X_test, y_train, y_test = train_test_split(X_full, list_labels_encoded, test_size=0.25, random_state=42)\n",
    "print(f\" X_train dimension : {X_train.shape}\")"
   ]
  },
  {
   "cell_type": "code",
   "execution_count": 38,
   "metadata": {},
   "outputs": [
    {
     "data": {
      "image/png": "[encoded data removed]",
      "text/plain": [
       "<Figure size 540x345.6 with 15 Axes>"
      ]
     },
     "metadata": {
      "needs_background": "light"
     },
     "output_type": "display_data"
    }
   ],
   "source": [
    "#Inspecting DATA that we will give as input for the model\n",
    "n_rows = 3\n",
    "n_cols = 5\n",
    "class_names = ['1', '2', '3']\n",
    "plt.figure(figsize=(n_cols*1.5, n_rows * 1.6))\n",
    "for row in range(n_rows):\n",
    "    for col in range(n_cols):\n",
    "        index = n_cols * row + col\n",
    "        plt.subplot(n_rows, n_cols, index + 1)\n",
    "        plt.imshow((X_train[index]*255).astype(np.uint8), cmap=\"binary\", interpolation=\"spline36\")\n",
    "        plt.axis('off')\n",
    "        plt.title(class_names[y_train[index]])\n",
    "plt.show()"
   ]
  },
  {
   "cell_type": "markdown",
   "metadata": {},
   "source": [
    "## 2- Train & test CNN model"
   ]
  },
  {
   "cell_type": "code",
   "execution_count": 39,
   "metadata": {},
   "outputs": [],
   "source": [
    "#!pip install tensorflow\n",
    "import tensorflow as tf \n",
    "from keras.layers import Dense, Convolution1D, MaxPool1D, Flatten, Dropout\n",
    "from keras.layers import Input\n",
    "from keras.models import Model\n",
    "from keras.layers.normalization import BatchNormalization\n",
    "import keras\n",
    "from keras.callbacks import EarlyStopping, ModelCheckpoint"
   ]
  },
  {
   "cell_type": "code",
   "execution_count": 40,
   "metadata": {},
   "outputs": [],
   "source": [
    "# Create a model\n",
    "model = tf.keras.Sequential([\n",
    "    tf.keras.layers.Conv2D(filters=32, kernel_size=3, padding=\"same\", activation=\"relu\", input_shape=[249, 249, 3]), #-> output matrix 249 x 249 x 3\n",
    "    tf.keras.layers.MaxPool2D(pool_size=2, strides=2, padding='valid'),\n",
    "    tf.keras.layers.Conv2D(filters=32, kernel_size=3, padding=\"same\", activation=\"relu\"), #-> output matrix 16 x 16 x 32\n",
    "    tf.keras.layers.MaxPool2D(pool_size=2, strides=2, padding='valid'),\n",
    "    tf.keras.layers.Conv2D(filters=64, kernel_size=3, padding=\"same\", activation=\"relu\"), #-> output matrix 8 x 8 x 64\n",
    "    tf.keras.layers.MaxPool2D(pool_size=2, strides=2, padding='valid'),\n",
    "    tf.keras.layers.Flatten(), # -> 1024\n",
    "    tf.keras.layers.Dense(units=64, activation='relu'), #-> 64\n",
    "    tf.keras.layers.Dropout(0.05),\n",
    "    tf.keras.layers.Dense(units=32, activation =\"relu\"), #-> 32\n",
    "    tf.keras.layers.Dense(units=16, activation =\"relu\"), #-> 16\n",
    "    tf.keras.layers.Dense(units=3, activation='softmax') #-> 3\n",
    "])"
   ]
  },
  {
   "cell_type": "code",
   "execution_count": 41,
   "metadata": {},
   "outputs": [],
   "source": [
    "# Create a schedule learning rate\n",
    "initial_learning_rate = 0.0001\n",
    "\n",
    "lr_schedule = tf.keras.optimizers.schedules.ExponentialDecay(\n",
    "    initial_learning_rate,\n",
    "    decay_steps=500,\n",
    "    decay_rate=0.96,\n",
    "    staircase=True)"
   ]
  },
  {
   "cell_type": "code",
   "execution_count": 42,
   "metadata": {},
   "outputs": [],
   "source": [
    "# Create a compiler\n",
    "#model.compile(optimizer='adam', loss=tf.keras.losses.MeanSquaredError)\n",
    "#model.compile(optimizer='adam', loss=tf.keras.losses.MeanSquaredError())\n",
    "model.compile(optimizer = tf.keras.optimizers.Adam(lr_schedule),\n",
    "              loss= tf.keras.losses.SparseCategoricalCrossentropy(),\n",
    "              metrics = [tf.keras.metrics.SparseCategoricalAccuracy()])"
   ]
  },
  {
   "cell_type": "code",
   "execution_count": 43,
   "metadata": {
    "scrolled": true
   },
   "outputs": [
    {
     "name": "stdout",
     "output_type": "stream",
     "text": [
      "Model: \"sequential_1\"\n",
      "_________________________________________________________________\n",
      "Layer (type)                 Output Shape              Param #   \n",
      "=================================================================\n",
      "conv2d_3 (Conv2D)            (None, 249, 249, 32)      896       \n",
      "_________________________________________________________________\n",
      "max_pooling2d_3 (MaxPooling2 (None, 124, 124, 32)      0         \n",
      "_________________________________________________________________\n",
      "conv2d_4 (Conv2D)            (None, 124, 124, 32)      9248      \n",
      "_________________________________________________________________\n",
      "max_pooling2d_4 (MaxPooling2 (None, 62, 62, 32)        0         \n",
      "_________________________________________________________________\n",
      "conv2d_5 (Conv2D)            (None, 62, 62, 64)        18496     \n",
      "_________________________________________________________________\n",
      "max_pooling2d_5 (MaxPooling2 (None, 31, 31, 64)        0         \n",
      "_________________________________________________________________\n",
      "flatten_1 (Flatten)          (None, 61504)             0         \n",
      "_________________________________________________________________\n",
      "dense_4 (Dense)              (None, 64)                3936320   \n",
      "_________________________________________________________________\n",
      "dropout_1 (Dropout)          (None, 64)                0         \n",
      "_________________________________________________________________\n",
      "dense_5 (Dense)              (None, 32)                2080      \n",
      "_________________________________________________________________\n",
      "dense_6 (Dense)              (None, 16)                528       \n",
      "_________________________________________________________________\n",
      "dense_7 (Dense)              (None, 3)                 51        \n",
      "=================================================================\n",
      "Total params: 3,967,619\n",
      "Trainable params: 3,967,619\n",
      "Non-trainable params: 0\n",
      "_________________________________________________________________\n"
     ]
    }
   ],
   "source": [
    "model.summary()"
   ]
  },
  {
   "cell_type": "code",
   "execution_count": 44,
   "metadata": {},
   "outputs": [
    {
     "name": "stdout",
     "output_type": "stream",
     "text": [
      "Epoch 1/30\n",
      "106/106 [==============================] - 131s 1s/step - loss: 0.9057 - sparse_categorical_accuracy: 0.6187 - val_loss: 0.6801 - val_sparse_categorical_accuracy: 0.6933\n",
      "Epoch 2/30\n",
      "106/106 [==============================] - 125s 1s/step - loss: 0.5533 - sparse_categorical_accuracy: 0.7526 - val_loss: 0.6127 - val_sparse_categorical_accuracy: 0.6578\n",
      "Epoch 3/30\n",
      "106/106 [==============================] - 123s 1s/step - loss: 0.4939 - sparse_categorical_accuracy: 0.7603 - val_loss: 0.5311 - val_sparse_categorical_accuracy: 0.7316\n",
      "Epoch 4/30\n",
      "106/106 [==============================] - 120s 1s/step - loss: 0.4607 - sparse_categorical_accuracy: 0.7745 - val_loss: 0.4921 - val_sparse_categorical_accuracy: 0.7591\n",
      "Epoch 5/30\n",
      "106/106 [==============================] - 130s 1s/step - loss: 0.4357 - sparse_categorical_accuracy: 0.7908 - val_loss: 0.4960 - val_sparse_categorical_accuracy: 0.7644\n",
      "Epoch 6/30\n",
      "106/106 [==============================] - 121s 1s/step - loss: 0.4218 - sparse_categorical_accuracy: 0.8012 - val_loss: 0.4825 - val_sparse_categorical_accuracy: 0.7796\n",
      "Epoch 7/30\n",
      "106/106 [==============================] - 122s 1s/step - loss: 0.3970 - sparse_categorical_accuracy: 0.8116 - val_loss: 0.4572 - val_sparse_categorical_accuracy: 0.7893\n",
      "Epoch 8/30\n",
      "106/106 [==============================] - 120s 1s/step - loss: 0.3850 - sparse_categorical_accuracy: 0.8160 - val_loss: 0.4384 - val_sparse_categorical_accuracy: 0.8080\n",
      "Epoch 9/30\n",
      "106/106 [==============================] - 120s 1s/step - loss: 0.3775 - sparse_categorical_accuracy: 0.8258 - val_loss: 0.4304 - val_sparse_categorical_accuracy: 0.7982\n",
      "Epoch 10/30\n",
      "106/106 [==============================] - 128s 1s/step - loss: 0.3530 - sparse_categorical_accuracy: 0.8421 - val_loss: 0.4333 - val_sparse_categorical_accuracy: 0.8062\n",
      "Epoch 11/30\n",
      "106/106 [==============================] - 119s 1s/step - loss: 0.3467 - sparse_categorical_accuracy: 0.8450 - val_loss: 0.4283 - val_sparse_categorical_accuracy: 0.7938\n",
      "Epoch 12/30\n",
      "106/106 [==============================] - 120s 1s/step - loss: 0.3219 - sparse_categorical_accuracy: 0.8640 - val_loss: 0.4163 - val_sparse_categorical_accuracy: 0.8320\n",
      "Epoch 13/30\n",
      "106/106 [==============================] - 121s 1s/step - loss: 0.3180 - sparse_categorical_accuracy: 0.8652 - val_loss: 0.4027 - val_sparse_categorical_accuracy: 0.8213\n",
      "Epoch 14/30\n",
      "106/106 [==============================] - 121s 1s/step - loss: 0.3078 - sparse_categorical_accuracy: 0.8735 - val_loss: 0.4198 - val_sparse_categorical_accuracy: 0.8204\n",
      "Epoch 15/30\n",
      "106/106 [==============================] - 127s 1s/step - loss: 0.2871 - sparse_categorical_accuracy: 0.8841 - val_loss: 0.4143 - val_sparse_categorical_accuracy: 0.8276\n",
      "Epoch 16/30\n",
      "106/106 [==============================] - 122s 1s/step - loss: 0.2778 - sparse_categorical_accuracy: 0.8833 - val_loss: 0.4077 - val_sparse_categorical_accuracy: 0.8329\n",
      "Epoch 17/30\n",
      "106/106 [==============================] - 120s 1s/step - loss: 0.2677 - sparse_categorical_accuracy: 0.8933 - val_loss: 0.3962 - val_sparse_categorical_accuracy: 0.8347\n",
      "Epoch 18/30\n",
      "106/106 [==============================] - 119s 1s/step - loss: 0.2516 - sparse_categorical_accuracy: 0.9028 - val_loss: 0.3998 - val_sparse_categorical_accuracy: 0.8436\n",
      "Epoch 19/30\n",
      "106/106 [==============================] - 120s 1s/step - loss: 0.2555 - sparse_categorical_accuracy: 0.8951 - val_loss: 0.4226 - val_sparse_categorical_accuracy: 0.8427\n",
      "Epoch 20/30\n",
      "106/106 [==============================] - 130s 1s/step - loss: 0.2410 - sparse_categorical_accuracy: 0.9031 - val_loss: 0.4037 - val_sparse_categorical_accuracy: 0.8347\n",
      "Epoch 21/30\n",
      "106/106 [==============================] - 130s 1s/step - loss: 0.2320 - sparse_categorical_accuracy: 0.9084 - val_loss: 0.4272 - val_sparse_categorical_accuracy: 0.8347\n",
      "Epoch 22/30\n",
      "106/106 [==============================] - 120s 1s/step - loss: 0.2264 - sparse_categorical_accuracy: 0.9164 - val_loss: 0.4411 - val_sparse_categorical_accuracy: 0.8418\n",
      "Epoch 23/30\n",
      "106/106 [==============================] - 123s 1s/step - loss: 0.2172 - sparse_categorical_accuracy: 0.9161 - val_loss: 0.3941 - val_sparse_categorical_accuracy: 0.8444\n",
      "Epoch 24/30\n",
      "106/106 [==============================] - 126s 1s/step - loss: 0.1988 - sparse_categorical_accuracy: 0.9239 - val_loss: 0.4463 - val_sparse_categorical_accuracy: 0.8409\n",
      "Epoch 25/30\n",
      "106/106 [==============================] - 120s 1s/step - loss: 0.1912 - sparse_categorical_accuracy: 0.9283 - val_loss: 0.4089 - val_sparse_categorical_accuracy: 0.8409\n",
      "Epoch 26/30\n",
      "106/106 [==============================] - 120s 1s/step - loss: 0.1998 - sparse_categorical_accuracy: 0.9197 - val_loss: 0.4244 - val_sparse_categorical_accuracy: 0.8471\n",
      "Epoch 27/30\n",
      "106/106 [==============================] - 122s 1s/step - loss: 0.1823 - sparse_categorical_accuracy: 0.9321 - val_loss: 0.4475 - val_sparse_categorical_accuracy: 0.8249\n",
      "Epoch 28/30\n",
      "106/106 [==============================] - 120s 1s/step - loss: 0.1789 - sparse_categorical_accuracy: 0.9333 - val_loss: 0.4433 - val_sparse_categorical_accuracy: 0.8480\n",
      "Epoch 29/30\n",
      "106/106 [==============================] - 127s 1s/step - loss: 0.1643 - sparse_categorical_accuracy: 0.9434 - val_loss: 0.4638 - val_sparse_categorical_accuracy: 0.8356\n",
      "Epoch 30/30\n",
      "106/106 [==============================] - 120s 1s/step - loss: 0.1556 - sparse_categorical_accuracy: 0.9422 - val_loss: 0.4746 - val_sparse_categorical_accuracy: 0.8462\n"
     ]
    }
   ],
   "source": [
    "# Train the model with training and validation data - first try\n",
    "history = model.fit(X_train, y_train, epochs=30, validation_data=(X_test, y_test))"
   ]
  },
  {
   "cell_type": "code",
   "execution_count": 45,
   "metadata": {},
   "outputs": [
    {
     "name": "stdout",
     "output_type": "stream",
     "text": [
      "36/36 [==============================] - 10s 280ms/step - loss: 0.4746 - sparse_categorical_accuracy: 0.8462\n"
     ]
    },
    {
     "data": {
      "text/plain": [
       "[0.47460705041885376, 0.8462222218513489]"
      ]
     },
     "execution_count": 45,
     "metadata": {},
     "output_type": "execute_result"
    }
   ],
   "source": [
    "model.evaluate(X_test, y_test)"
   ]
  },
  {
   "cell_type": "code",
   "execution_count": 32,
   "metadata": {},
   "outputs": [],
   "source": [
    "#print(history.history.keys())"
   ]
  },
  {
   "cell_type": "code",
   "execution_count": 46,
   "metadata": {
    "scrolled": false
   },
   "outputs": [
    {
     "data": {
      "text/plain": [
       "[<matplotlib.lines.Line2D at 0x1a40162a50>]"
      ]
     },
     "execution_count": 46,
     "metadata": {},
     "output_type": "execute_result"
    },
    {
     "data": {
      "image/png": "[encoded data removed]",
      "text/plain": [
       "<Figure size 720x432 with 1 Axes>"
      ]
     },
     "metadata": {
      "needs_background": "light"
     },
     "output_type": "display_data"
    }
   ],
   "source": [
    "plt.figure(figsize = (10,6))\n",
    "loss = history.history[\"loss\"]\n",
    "val_loss = history.history[\"val_loss\"]\n",
    "plt.plot(loss)\n",
    "plt.plot(val_loss)"
   ]
  },
  {
   "cell_type": "code",
   "execution_count": 47,
   "metadata": {},
   "outputs": [
    {
     "data": {
      "application/vnd.plotly.v1+json": {
       "config": {
        "plotlyServerURL": "https://plot.ly"
       },
       "data": [
        {
         "hovertemplate": "Legend=Training loss<br>Epochs=%{x}<br>Loss rate=%{y}<extra></extra>",
         "legendgroup": "Training loss",
         "line": {
          "color": "#636efa",
          "dash": "solid"
         },
         "mode": "lines",
         "name": "Training loss",
         "orientation": "v",
         "showlegend": true,
         "type": "scatter",
         "x": [
          0,
          1,
          2,
          3,
          4,
          5,
          6,
          7,
          8,
          9,
          10,
          11,
          12,
          13,
          14,
          15,
          16,
          17,
          18,
          19,
          20,
          21,
          22,
          23,
          24,
          25,
          26,
          27,
          28,
          29
         ],
         "xaxis": "x",
         "y": [
          0.9057329893112183,
          0.5532724261283875,
          0.49392053484916687,
          0.4606890082359314,
          0.4356973469257355,
          0.4217510521411896,
          0.39703574776649475,
          0.38503149151802063,
          0.3775438666343689,
          0.3529919385910034,
          0.3467142581939697,
          0.3218809962272644,
          0.31796589493751526,
          0.3078439235687256,
          0.28705987334251404,
          0.2778405547142029,
          0.2677353322505951,
          0.25164392590522766,
          0.2554778456687927,
          0.24098818004131317,
          0.23204408586025238,
          0.22636213898658752,
          0.21720294654369354,
          0.19875586032867432,
          0.19119416177272797,
          0.19975979626178741,
          0.1823274791240692,
          0.17894873023033142,
          0.16429691016674042,
          0.15555725991725922
         ],
         "yaxis": "y"
        },
        {
         "name": "Validation loss",
         "type": "scatter",
         "y": [
          0.6800655126571655,
          0.6127241253852844,
          0.5311493873596191,
          0.4920933246612549,
          0.4959573447704315,
          0.48250511288642883,
          0.4571695923805237,
          0.4384378492832184,
          0.43041905760765076,
          0.4332600235939026,
          0.42826682329177856,
          0.41631126403808594,
          0.4026997983455658,
          0.41978681087493896,
          0.4143383800983429,
          0.40768614411354065,
          0.39621642231941223,
          0.3997902274131775,
          0.4226375222206116,
          0.4036576747894287,
          0.42715632915496826,
          0.441082626581192,
          0.39407026767730713,
          0.4463062584400177,
          0.4089074432849884,
          0.42441749572753906,
          0.4475017786026001,
          0.44329458475112915,
          0.46381884813308716,
          0.47460705041885376
         ]
        }
       ],
       "layout": {
        "legend": {
         "title": {
          "text": "Legend"
         },
         "tracegroupgap": 0
        },
        "template": {
         "data": {
          "bar": [
           {
            "error_x": {
             "color": "#2a3f5f"
            },
            "error_y": {
             "color": "#2a3f5f"
            },
            "marker": {
             "line": {
              "color": "#E5ECF6",
              "width": 0.5
             }
            },
            "type": "bar"
           }
          ],
          "barpolar": [
           {
            "marker": {
             "line": {
              "color": "#E5ECF6",
              "width": 0.5
             }
            },
            "type": "barpolar"
           }
          ],
          "carpet": [
           {
            "aaxis": {
             "endlinecolor": "#2a3f5f",
             "gridcolor": "white",
             "linecolor": "white",
             "minorgridcolor": "white",
             "startlinecolor": "#2a3f5f"
            },
            "baxis": {
             "endlinecolor": "#2a3f5f",
             "gridcolor": "white",
             "linecolor": "white",
             "minorgridcolor": "white",
             "startlinecolor": "#2a3f5f"
            },
            "type": "carpet"
           }
          ],
          "choropleth": [
           {
            "colorbar": {
             "outlinewidth": 0,
             "ticks": ""
            },
            "type": "choropleth"
           }
          ],
          "contour": [
           {
            "colorbar": {
             "outlinewidth": 0,
             "ticks": ""
            },
            "colorscale": [
             [
              0,
              "#0d0887"
             ],
             [
              0.1111111111111111,
              "#46039f"
             ],
             [
              0.2222222222222222,
              "#7201a8"
             ],
             [
              0.3333333333333333,
              "#9c179e"
             ],
             [
              0.4444444444444444,
              "#bd3786"
             ],
             [
              0.5555555555555556,
              "#d8576b"
             ],
             [
              0.6666666666666666,
              "#ed7953"
             ],
             [
              0.7777777777777778,
              "#fb9f3a"
             ],
             [
              0.8888888888888888,
              "#fdca26"
             ],
             [
              1,
              "#f0f921"
             ]
            ],
            "type": "contour"
           }
          ],
          "contourcarpet": [
           {
            "colorbar": {
             "outlinewidth": 0,
             "ticks": ""
            },
            "type": "contourcarpet"
           }
          ],
          "heatmap": [
           {
            "colorbar": {
             "outlinewidth": 0,
             "ticks": ""
            },
            "colorscale": [
             [
              0,
              "#0d0887"
             ],
             [
              0.1111111111111111,
              "#46039f"
             ],
             [
              0.2222222222222222,
              "#7201a8"
             ],
             [
              0.3333333333333333,
              "#9c179e"
             ],
             [
              0.4444444444444444,
              "#bd3786"
             ],
             [
              0.5555555555555556,
              "#d8576b"
             ],
             [
              0.6666666666666666,
              "#ed7953"
             ],
             [
              0.7777777777777778,
              "#fb9f3a"
             ],
             [
              0.8888888888888888,
              "#fdca26"
             ],
             [
              1,
              "#f0f921"
             ]
            ],
            "type": "heatmap"
           }
          ],
          "heatmapgl": [
           {
            "colorbar": {
             "outlinewidth": 0,
             "ticks": ""
            },
            "colorscale": [
             [
              0,
              "#0d0887"
             ],
             [
              0.1111111111111111,
              "#46039f"
             ],
             [
              0.2222222222222222,
              "#7201a8"
             ],
             [
              0.3333333333333333,
              "#9c179e"
             ],
             [
              0.4444444444444444,
              "#bd3786"
             ],
             [
              0.5555555555555556,
              "#d8576b"
             ],
             [
              0.6666666666666666,
              "#ed7953"
             ],
             [
              0.7777777777777778,
              "#fb9f3a"
             ],
             [
              0.8888888888888888,
              "#fdca26"
             ],
             [
              1,
              "#f0f921"
             ]
            ],
            "type": "heatmapgl"
           }
          ],
          "histogram": [
           {
            "marker": {
             "colorbar": {
              "outlinewidth": 0,
              "ticks": ""
             }
            },
            "type": "histogram"
           }
          ],
          "histogram2d": [
           {
            "colorbar": {
             "outlinewidth": 0,
             "ticks": ""
            },
            "colorscale": [
             [
              0,
              "#0d0887"
             ],
             [
              0.1111111111111111,
              "#46039f"
             ],
             [
              0.2222222222222222,
              "#7201a8"
             ],
             [
              0.3333333333333333,
              "#9c179e"
             ],
             [
              0.4444444444444444,
              "#bd3786"
             ],
             [
              0.5555555555555556,
              "#d8576b"
             ],
             [
              0.6666666666666666,
              "#ed7953"
             ],
             [
              0.7777777777777778,
              "#fb9f3a"
             ],
             [
              0.8888888888888888,
              "#fdca26"
             ],
             [
              1,
              "#f0f921"
             ]
            ],
            "type": "histogram2d"
           }
          ],
          "histogram2dcontour": [
           {
            "colorbar": {
             "outlinewidth": 0,
             "ticks": ""
            },
            "colorscale": [
             [
              0,
              "#0d0887"
             ],
             [
              0.1111111111111111,
              "#46039f"
             ],
             [
              0.2222222222222222,
              "#7201a8"
             ],
             [
              0.3333333333333333,
              "#9c179e"
             ],
             [
              0.4444444444444444,
              "#bd3786"
             ],
             [
              0.5555555555555556,
              "#d8576b"
             ],
             [
              0.6666666666666666,
              "#ed7953"
             ],
             [
              0.7777777777777778,
              "#fb9f3a"
             ],
             [
              0.8888888888888888,
              "#fdca26"
             ],
             [
              1,
              "#f0f921"
             ]
            ],
            "type": "histogram2dcontour"
           }
          ],
          "mesh3d": [
           {
            "colorbar": {
             "outlinewidth": 0,
             "ticks": ""
            },
            "type": "mesh3d"
           }
          ],
          "parcoords": [
           {
            "line": {
             "colorbar": {
              "outlinewidth": 0,
              "ticks": ""
             }
            },
            "type": "parcoords"
           }
          ],
          "pie": [
           {
            "automargin": true,
            "type": "pie"
           }
          ],
          "scatter": [
           {
            "marker": {
             "colorbar": {
              "outlinewidth": 0,
              "ticks": ""
             }
            },
            "type": "scatter"
           }
          ],
          "scatter3d": [
           {
            "line": {
             "colorbar": {
              "outlinewidth": 0,
              "ticks": ""
             }
            },
            "marker": {
             "colorbar": {
              "outlinewidth": 0,
              "ticks": ""
             }
            },
            "type": "scatter3d"
           }
          ],
          "scattercarpet": [
           {
            "marker": {
             "colorbar": {
              "outlinewidth": 0,
              "ticks": ""
             }
            },
            "type": "scattercarpet"
           }
          ],
          "scattergeo": [
           {
            "marker": {
             "colorbar": {
              "outlinewidth": 0,
              "ticks": ""
             }
            },
            "type": "scattergeo"
           }
          ],
          "scattergl": [
           {
            "marker": {
             "colorbar": {
              "outlinewidth": 0,
              "ticks": ""
             }
            },
            "type": "scattergl"
           }
          ],
          "scattermapbox": [
           {
            "marker": {
             "colorbar": {
              "outlinewidth": 0,
              "ticks": ""
             }
            },
            "type": "scattermapbox"
           }
          ],
          "scatterpolar": [
           {
            "marker": {
             "colorbar": {
              "outlinewidth": 0,
              "ticks": ""
             }
            },
            "type": "scatterpolar"
           }
          ],
          "scatterpolargl": [
           {
            "marker": {
             "colorbar": {
              "outlinewidth": 0,
              "ticks": ""
             }
            },
            "type": "scatterpolargl"
           }
          ],
          "scatterternary": [
           {
            "marker": {
             "colorbar": {
              "outlinewidth": 0,
              "ticks": ""
             }
            },
            "type": "scatterternary"
           }
          ],
          "surface": [
           {
            "colorbar": {
             "outlinewidth": 0,
             "ticks": ""
            },
            "colorscale": [
             [
              0,
              "#0d0887"
             ],
             [
              0.1111111111111111,
              "#46039f"
             ],
             [
              0.2222222222222222,
              "#7201a8"
             ],
             [
              0.3333333333333333,
              "#9c179e"
             ],
             [
              0.4444444444444444,
              "#bd3786"
             ],
             [
              0.5555555555555556,
              "#d8576b"
             ],
             [
              0.6666666666666666,
              "#ed7953"
             ],
             [
              0.7777777777777778,
              "#fb9f3a"
             ],
             [
              0.8888888888888888,
              "#fdca26"
             ],
             [
              1,
              "#f0f921"
             ]
            ],
            "type": "surface"
           }
          ],
          "table": [
           {
            "cells": {
             "fill": {
              "color": "#EBF0F8"
             },
             "line": {
              "color": "white"
             }
            },
            "header": {
             "fill": {
              "color": "#C8D4E3"
             },
             "line": {
              "color": "white"
             }
            },
            "type": "table"
           }
          ]
         },
         "layout": {
          "annotationdefaults": {
           "arrowcolor": "#2a3f5f",
           "arrowhead": 0,
           "arrowwidth": 1
          },
          "coloraxis": {
           "colorbar": {
            "outlinewidth": 0,
            "ticks": ""
           }
          },
          "colorscale": {
           "diverging": [
            [
             0,
             "#8e0152"
            ],
            [
             0.1,
             "#c51b7d"
            ],
            [
             0.2,
             "#de77ae"
            ],
            [
             0.3,
             "#f1b6da"
            ],
            [
             0.4,
             "#fde0ef"
            ],
            [
             0.5,
             "#f7f7f7"
            ],
            [
             0.6,
             "#e6f5d0"
            ],
            [
             0.7,
             "#b8e186"
            ],
            [
             0.8,
             "#7fbc41"
            ],
            [
             0.9,
             "#4d9221"
            ],
            [
             1,
             "#276419"
            ]
           ],
           "sequential": [
            [
             0,
             "#0d0887"
            ],
            [
             0.1111111111111111,
             "#46039f"
            ],
            [
             0.2222222222222222,
             "#7201a8"
            ],
            [
             0.3333333333333333,
             "#9c179e"
            ],
            [
             0.4444444444444444,
             "#bd3786"
            ],
            [
             0.5555555555555556,
             "#d8576b"
            ],
            [
             0.6666666666666666,
             "#ed7953"
            ],
            [
             0.7777777777777778,
             "#fb9f3a"
            ],
            [
             0.8888888888888888,
             "#fdca26"
            ],
            [
             1,
             "#f0f921"
            ]
           ],
           "sequentialminus": [
            [
             0,
             "#0d0887"
            ],
            [
             0.1111111111111111,
             "#46039f"
            ],
            [
             0.2222222222222222,
             "#7201a8"
            ],
            [
             0.3333333333333333,
             "#9c179e"
            ],
            [
             0.4444444444444444,
             "#bd3786"
            ],
            [
             0.5555555555555556,
             "#d8576b"
            ],
            [
             0.6666666666666666,
             "#ed7953"
            ],
            [
             0.7777777777777778,
             "#fb9f3a"
            ],
            [
             0.8888888888888888,
             "#fdca26"
            ],
            [
             1,
             "#f0f921"
            ]
           ]
          },
          "colorway": [
           "#636efa",
           "#EF553B",
           "#00cc96",
           "#ab63fa",
           "#FFA15A",
           "#19d3f3",
           "#FF6692",
           "#B6E880",
           "#FF97FF",
           "#FECB52"
          ],
          "font": {
           "color": "#2a3f5f"
          },
          "geo": {
           "bgcolor": "white",
           "lakecolor": "white",
           "landcolor": "#E5ECF6",
           "showlakes": true,
           "showland": true,
           "subunitcolor": "white"
          },
          "hoverlabel": {
           "align": "left"
          },
          "hovermode": "closest",
          "mapbox": {
           "style": "light"
          },
          "paper_bgcolor": "white",
          "plot_bgcolor": "#E5ECF6",
          "polar": {
           "angularaxis": {
            "gridcolor": "white",
            "linecolor": "white",
            "ticks": ""
           },
           "bgcolor": "#E5ECF6",
           "radialaxis": {
            "gridcolor": "white",
            "linecolor": "white",
            "ticks": ""
           }
          },
          "scene": {
           "xaxis": {
            "backgroundcolor": "#E5ECF6",
            "gridcolor": "white",
            "gridwidth": 2,
            "linecolor": "white",
            "showbackground": true,
            "ticks": "",
            "zerolinecolor": "white"
           },
           "yaxis": {
            "backgroundcolor": "#E5ECF6",
            "gridcolor": "white",
            "gridwidth": 2,
            "linecolor": "white",
            "showbackground": true,
            "ticks": "",
            "zerolinecolor": "white"
           },
           "zaxis": {
            "backgroundcolor": "#E5ECF6",
            "gridcolor": "white",
            "gridwidth": 2,
            "linecolor": "white",
            "showbackground": true,
            "ticks": "",
            "zerolinecolor": "white"
           }
          },
          "shapedefaults": {
           "line": {
            "color": "#2a3f5f"
           }
          },
          "ternary": {
           "aaxis": {
            "gridcolor": "white",
            "linecolor": "white",
            "ticks": ""
           },
           "baxis": {
            "gridcolor": "white",
            "linecolor": "white",
            "ticks": ""
           },
           "bgcolor": "#E5ECF6",
           "caxis": {
            "gridcolor": "white",
            "linecolor": "white",
            "ticks": ""
           }
          },
          "title": {
           "x": 0.05
          },
          "xaxis": {
           "automargin": true,
           "gridcolor": "white",
           "linecolor": "white",
           "ticks": "",
           "title": {
            "standoff": 15
           },
           "zerolinecolor": "white",
           "zerolinewidth": 2
          },
          "yaxis": {
           "automargin": true,
           "gridcolor": "white",
           "linecolor": "white",
           "ticks": "",
           "title": {
            "standoff": 15
           },
           "zerolinecolor": "white",
           "zerolinewidth": 2
          }
         }
        },
        "title": {
         "text": "Loss variation for CNN with 4500 images"
        },
        "xaxis": {
         "anchor": "y",
         "domain": [
          0,
          1
         ],
         "title": {
          "text": "Epochs"
         }
        },
        "yaxis": {
         "anchor": "x",
         "domain": [
          0,
          1
         ],
         "title": {
          "text": "Loss rate"
         }
        }
       }
      },
      "text/html": [
       "<div>\n",
       "        \n",
       "        \n",
       "            <div id=\"c30f480d-0a44-474e-9942-a6858bdf80f1\" class=\"plotly-graph-div\" style=\"height:525px; width:100%;\"></div>\n",
       "            <script type=\"text/javascript\">\n",
       "                require([\"plotly\"], function(Plotly) {\n",
       "                    window.PLOTLYENV=window.PLOTLYENV || {};\n",
       "                    \n",
       "                if (document.getElementById(\"c30f480d-0a44-474e-9942-a6858bdf80f1\")) {\n",
       "                    Plotly.newPlot(\n",
       "                        'c30f480d-0a44-474e-9942-a6858bdf80f1',\n",
       "                        [{\"hovertemplate\": \"Legend=Training loss<br>Epochs=%{x}<br>Loss rate=%{y}<extra></extra>\", \"legendgroup\": \"Training loss\", \"line\": {\"color\": \"#636efa\", \"dash\": \"solid\"}, \"mode\": \"lines\", \"name\": \"Training loss\", \"orientation\": \"v\", \"showlegend\": true, \"type\": \"scatter\", \"x\": [0, 1, 2, 3, 4, 5, 6, 7, 8, 9, 10, 11, 12, 13, 14, 15, 16, 17, 18, 19, 20, 21, 22, 23, 24, 25, 26, 27, 28, 29], \"xaxis\": \"x\", \"y\": [0.9057329893112183, 0.5532724261283875, 0.49392053484916687, 0.4606890082359314, 0.4356973469257355, 0.4217510521411896, 0.39703574776649475, 0.38503149151802063, 0.3775438666343689, 0.3529919385910034, 0.3467142581939697, 0.3218809962272644, 0.31796589493751526, 0.3078439235687256, 0.28705987334251404, 0.2778405547142029, 0.2677353322505951, 0.25164392590522766, 0.2554778456687927, 0.24098818004131317, 0.23204408586025238, 0.22636213898658752, 0.21720294654369354, 0.19875586032867432, 0.19119416177272797, 0.19975979626178741, 0.1823274791240692, 0.17894873023033142, 0.16429691016674042, 0.15555725991725922], \"yaxis\": \"y\"}, {\"name\": \"Validation loss\", \"type\": \"scatter\", \"y\": [0.6800655126571655, 0.6127241253852844, 0.5311493873596191, 0.4920933246612549, 0.4959573447704315, 0.48250511288642883, 0.4571695923805237, 0.4384378492832184, 0.43041905760765076, 0.4332600235939026, 0.42826682329177856, 0.41631126403808594, 0.4026997983455658, 0.41978681087493896, 0.4143383800983429, 0.40768614411354065, 0.39621642231941223, 0.3997902274131775, 0.4226375222206116, 0.4036576747894287, 0.42715632915496826, 0.441082626581192, 0.39407026767730713, 0.4463062584400177, 0.4089074432849884, 0.42441749572753906, 0.4475017786026001, 0.44329458475112915, 0.46381884813308716, 0.47460705041885376]}],\n",
       "                        {\"legend\": {\"title\": {\"text\": \"Legend\"}, \"tracegroupgap\": 0}, \"template\": {\"data\": {\"bar\": [{\"error_x\": {\"color\": \"#2a3f5f\"}, \"error_y\": {\"color\": \"#2a3f5f\"}, \"marker\": {\"line\": {\"color\": \"#E5ECF6\", \"width\": 0.5}}, \"type\": \"bar\"}], \"barpolar\": [{\"marker\": {\"line\": {\"color\": \"#E5ECF6\", \"width\": 0.5}}, \"type\": \"barpolar\"}], \"carpet\": [{\"aaxis\": {\"endlinecolor\": \"#2a3f5f\", \"gridcolor\": \"white\", \"linecolor\": \"white\", \"minorgridcolor\": \"white\", \"startlinecolor\": \"#2a3f5f\"}, \"baxis\": {\"endlinecolor\": \"#2a3f5f\", \"gridcolor\": \"white\", \"linecolor\": \"white\", \"minorgridcolor\": \"white\", \"startlinecolor\": \"#2a3f5f\"}, \"type\": \"carpet\"}], \"choropleth\": [{\"colorbar\": {\"outlinewidth\": 0, \"ticks\": \"\"}, \"type\": \"choropleth\"}], \"contour\": [{\"colorbar\": {\"outlinewidth\": 0, \"ticks\": \"\"}, \"colorscale\": [[0.0, \"#0d0887\"], [0.1111111111111111, \"#46039f\"], [0.2222222222222222, \"#7201a8\"], [0.3333333333333333, \"#9c179e\"], [0.4444444444444444, \"#bd3786\"], [0.5555555555555556, \"#d8576b\"], [0.6666666666666666, \"#ed7953\"], [0.7777777777777778, \"#fb9f3a\"], [0.8888888888888888, \"#fdca26\"], [1.0, \"#f0f921\"]], \"type\": \"contour\"}], \"contourcarpet\": [{\"colorbar\": {\"outlinewidth\": 0, \"ticks\": \"\"}, \"type\": \"contourcarpet\"}], \"heatmap\": [{\"colorbar\": {\"outlinewidth\": 0, \"ticks\": \"\"}, \"colorscale\": [[0.0, \"#0d0887\"], [0.1111111111111111, \"#46039f\"], [0.2222222222222222, \"#7201a8\"], [0.3333333333333333, \"#9c179e\"], [0.4444444444444444, \"#bd3786\"], [0.5555555555555556, \"#d8576b\"], [0.6666666666666666, \"#ed7953\"], [0.7777777777777778, \"#fb9f3a\"], [0.8888888888888888, \"#fdca26\"], [1.0, \"#f0f921\"]], \"type\": \"heatmap\"}], \"heatmapgl\": [{\"colorbar\": {\"outlinewidth\": 0, \"ticks\": \"\"}, \"colorscale\": [[0.0, \"#0d0887\"], [0.1111111111111111, \"#46039f\"], [0.2222222222222222, \"#7201a8\"], [0.3333333333333333, \"#9c179e\"], [0.4444444444444444, \"#bd3786\"], [0.5555555555555556, \"#d8576b\"], [0.6666666666666666, \"#ed7953\"], [0.7777777777777778, \"#fb9f3a\"], [0.8888888888888888, \"#fdca26\"], [1.0, \"#f0f921\"]], \"type\": \"heatmapgl\"}], \"histogram\": [{\"marker\": {\"colorbar\": {\"outlinewidth\": 0, \"ticks\": \"\"}}, \"type\": \"histogram\"}], \"histogram2d\": [{\"colorbar\": {\"outlinewidth\": 0, \"ticks\": \"\"}, \"colorscale\": [[0.0, \"#0d0887\"], [0.1111111111111111, \"#46039f\"], [0.2222222222222222, \"#7201a8\"], [0.3333333333333333, \"#9c179e\"], [0.4444444444444444, \"#bd3786\"], [0.5555555555555556, \"#d8576b\"], [0.6666666666666666, \"#ed7953\"], [0.7777777777777778, \"#fb9f3a\"], [0.8888888888888888, \"#fdca26\"], [1.0, \"#f0f921\"]], \"type\": \"histogram2d\"}], \"histogram2dcontour\": [{\"colorbar\": {\"outlinewidth\": 0, \"ticks\": \"\"}, \"colorscale\": [[0.0, \"#0d0887\"], [0.1111111111111111, \"#46039f\"], [0.2222222222222222, \"#7201a8\"], [0.3333333333333333, \"#9c179e\"], [0.4444444444444444, \"#bd3786\"], [0.5555555555555556, \"#d8576b\"], [0.6666666666666666, \"#ed7953\"], [0.7777777777777778, \"#fb9f3a\"], [0.8888888888888888, \"#fdca26\"], [1.0, \"#f0f921\"]], \"type\": \"histogram2dcontour\"}], \"mesh3d\": [{\"colorbar\": {\"outlinewidth\": 0, \"ticks\": \"\"}, \"type\": \"mesh3d\"}], \"parcoords\": [{\"line\": {\"colorbar\": {\"outlinewidth\": 0, \"ticks\": \"\"}}, \"type\": \"parcoords\"}], \"pie\": [{\"automargin\": true, \"type\": \"pie\"}], \"scatter\": [{\"marker\": {\"colorbar\": {\"outlinewidth\": 0, \"ticks\": \"\"}}, \"type\": \"scatter\"}], \"scatter3d\": [{\"line\": {\"colorbar\": {\"outlinewidth\": 0, \"ticks\": \"\"}}, \"marker\": {\"colorbar\": {\"outlinewidth\": 0, \"ticks\": \"\"}}, \"type\": \"scatter3d\"}], \"scattercarpet\": [{\"marker\": {\"colorbar\": {\"outlinewidth\": 0, \"ticks\": \"\"}}, \"type\": \"scattercarpet\"}], \"scattergeo\": [{\"marker\": {\"colorbar\": {\"outlinewidth\": 0, \"ticks\": \"\"}}, \"type\": \"scattergeo\"}], \"scattergl\": [{\"marker\": {\"colorbar\": {\"outlinewidth\": 0, \"ticks\": \"\"}}, \"type\": \"scattergl\"}], \"scattermapbox\": [{\"marker\": {\"colorbar\": {\"outlinewidth\": 0, \"ticks\": \"\"}}, \"type\": \"scattermapbox\"}], \"scatterpolar\": [{\"marker\": {\"colorbar\": {\"outlinewidth\": 0, \"ticks\": \"\"}}, \"type\": \"scatterpolar\"}], \"scatterpolargl\": [{\"marker\": {\"colorbar\": {\"outlinewidth\": 0, \"ticks\": \"\"}}, \"type\": \"scatterpolargl\"}], \"scatterternary\": [{\"marker\": {\"colorbar\": {\"outlinewidth\": 0, \"ticks\": \"\"}}, \"type\": \"scatterternary\"}], \"surface\": [{\"colorbar\": {\"outlinewidth\": 0, \"ticks\": \"\"}, \"colorscale\": [[0.0, \"#0d0887\"], [0.1111111111111111, \"#46039f\"], [0.2222222222222222, \"#7201a8\"], [0.3333333333333333, \"#9c179e\"], [0.4444444444444444, \"#bd3786\"], [0.5555555555555556, \"#d8576b\"], [0.6666666666666666, \"#ed7953\"], [0.7777777777777778, \"#fb9f3a\"], [0.8888888888888888, \"#fdca26\"], [1.0, \"#f0f921\"]], \"type\": \"surface\"}], \"table\": [{\"cells\": {\"fill\": {\"color\": \"#EBF0F8\"}, \"line\": {\"color\": \"white\"}}, \"header\": {\"fill\": {\"color\": \"#C8D4E3\"}, \"line\": {\"color\": \"white\"}}, \"type\": \"table\"}]}, \"layout\": {\"annotationdefaults\": {\"arrowcolor\": \"#2a3f5f\", \"arrowhead\": 0, \"arrowwidth\": 1}, \"coloraxis\": {\"colorbar\": {\"outlinewidth\": 0, \"ticks\": \"\"}}, \"colorscale\": {\"diverging\": [[0, \"#8e0152\"], [0.1, \"#c51b7d\"], [0.2, \"#de77ae\"], [0.3, \"#f1b6da\"], [0.4, \"#fde0ef\"], [0.5, \"#f7f7f7\"], [0.6, \"#e6f5d0\"], [0.7, \"#b8e186\"], [0.8, \"#7fbc41\"], [0.9, \"#4d9221\"], [1, \"#276419\"]], \"sequential\": [[0.0, \"#0d0887\"], [0.1111111111111111, \"#46039f\"], [0.2222222222222222, \"#7201a8\"], [0.3333333333333333, \"#9c179e\"], [0.4444444444444444, \"#bd3786\"], [0.5555555555555556, \"#d8576b\"], [0.6666666666666666, \"#ed7953\"], [0.7777777777777778, \"#fb9f3a\"], [0.8888888888888888, \"#fdca26\"], [1.0, \"#f0f921\"]], \"sequentialminus\": [[0.0, \"#0d0887\"], [0.1111111111111111, \"#46039f\"], [0.2222222222222222, \"#7201a8\"], [0.3333333333333333, \"#9c179e\"], [0.4444444444444444, \"#bd3786\"], [0.5555555555555556, \"#d8576b\"], [0.6666666666666666, \"#ed7953\"], [0.7777777777777778, \"#fb9f3a\"], [0.8888888888888888, \"#fdca26\"], [1.0, \"#f0f921\"]]}, \"colorway\": [\"#636efa\", \"#EF553B\", \"#00cc96\", \"#ab63fa\", \"#FFA15A\", \"#19d3f3\", \"#FF6692\", \"#B6E880\", \"#FF97FF\", \"#FECB52\"], \"font\": {\"color\": \"#2a3f5f\"}, \"geo\": {\"bgcolor\": \"white\", \"lakecolor\": \"white\", \"landcolor\": \"#E5ECF6\", \"showlakes\": true, \"showland\": true, \"subunitcolor\": \"white\"}, \"hoverlabel\": {\"align\": \"left\"}, \"hovermode\": \"closest\", \"mapbox\": {\"style\": \"light\"}, \"paper_bgcolor\": \"white\", \"plot_bgcolor\": \"#E5ECF6\", \"polar\": {\"angularaxis\": {\"gridcolor\": \"white\", \"linecolor\": \"white\", \"ticks\": \"\"}, \"bgcolor\": \"#E5ECF6\", \"radialaxis\": {\"gridcolor\": \"white\", \"linecolor\": \"white\", \"ticks\": \"\"}}, \"scene\": {\"xaxis\": {\"backgroundcolor\": \"#E5ECF6\", \"gridcolor\": \"white\", \"gridwidth\": 2, \"linecolor\": \"white\", \"showbackground\": true, \"ticks\": \"\", \"zerolinecolor\": \"white\"}, \"yaxis\": {\"backgroundcolor\": \"#E5ECF6\", \"gridcolor\": \"white\", \"gridwidth\": 2, \"linecolor\": \"white\", \"showbackground\": true, \"ticks\": \"\", \"zerolinecolor\": \"white\"}, \"zaxis\": {\"backgroundcolor\": \"#E5ECF6\", \"gridcolor\": \"white\", \"gridwidth\": 2, \"linecolor\": \"white\", \"showbackground\": true, \"ticks\": \"\", \"zerolinecolor\": \"white\"}}, \"shapedefaults\": {\"line\": {\"color\": \"#2a3f5f\"}}, \"ternary\": {\"aaxis\": {\"gridcolor\": \"white\", \"linecolor\": \"white\", \"ticks\": \"\"}, \"baxis\": {\"gridcolor\": \"white\", \"linecolor\": \"white\", \"ticks\": \"\"}, \"bgcolor\": \"#E5ECF6\", \"caxis\": {\"gridcolor\": \"white\", \"linecolor\": \"white\", \"ticks\": \"\"}}, \"title\": {\"x\": 0.05}, \"xaxis\": {\"automargin\": true, \"gridcolor\": \"white\", \"linecolor\": \"white\", \"ticks\": \"\", \"title\": {\"standoff\": 15}, \"zerolinecolor\": \"white\", \"zerolinewidth\": 2}, \"yaxis\": {\"automargin\": true, \"gridcolor\": \"white\", \"linecolor\": \"white\", \"ticks\": \"\", \"title\": {\"standoff\": 15}, \"zerolinecolor\": \"white\", \"zerolinewidth\": 2}}}, \"title\": {\"text\": \"Loss variation for CNN with 4500 images\"}, \"xaxis\": {\"anchor\": \"y\", \"domain\": [0.0, 1.0], \"title\": {\"text\": \"Epochs\"}}, \"yaxis\": {\"anchor\": \"x\", \"domain\": [0.0, 1.0], \"title\": {\"text\": \"Loss rate\"}}},\n",
       "                        {\"responsive\": true}\n",
       "                    ).then(function(){\n",
       "                            \n",
       "var gd = document.getElementById('c30f480d-0a44-474e-9942-a6858bdf80f1');\n",
       "var x = new MutationObserver(function (mutations, observer) {{\n",
       "        var display = window.getComputedStyle(gd).display;\n",
       "        if (!display || display === 'none') {{\n",
       "            console.log([gd, 'removed!']);\n",
       "            Plotly.purge(gd);\n",
       "            observer.disconnect();\n",
       "        }}\n",
       "}});\n",
       "\n",
       "// Listen for the removal of the full notebook cells\n",
       "var notebookContainer = gd.closest('#notebook-container');\n",
       "if (notebookContainer) {{\n",
       "    x.observe(notebookContainer, {childList: true});\n",
       "}}\n",
       "\n",
       "// Listen for the clearing of the current output cell\n",
       "var outputEl = gd.closest('.output');\n",
       "if (outputEl) {{\n",
       "    x.observe(outputEl, {childList: true});\n",
       "}}\n",
       "\n",
       "                        })\n",
       "                };\n",
       "                });\n",
       "            </script>\n",
       "        </div>"
      ]
     },
     "metadata": {},
     "output_type": "display_data"
    }
   ],
   "source": [
    "fig = px.line(y=history.history[\"loss\"], color=px.Constant(\"Training loss\"), title=f\"Loss variation for CNN with {len(full_1500)} images\",labels=dict(x=\"Epochs\", y=\"Loss rate\", color=\"Legend\")) # \n",
    "fig.add_scatter(y=history.history[\"val_loss\"], name=\"Validation loss\")\n",
    "fig.show()"
   ]
  },
  {
   "cell_type": "code",
   "execution_count": 48,
   "metadata": {},
   "outputs": [],
   "source": [
    "def plot_learning_curves(history):\n",
    "    pd.DataFrame(history.history).plot(figsize=(8, 5))\n",
    "    plt.grid(True)\n",
    "    plt.gca().set_ylim(0, 1)\n",
    "    plt.xlabel('epochs', size = 16)\n",
    "    plt.xticks(fontsize=14)\n",
    "    plt.yticks(fontsize=14)\n",
    "    plt.savefig('Figure_epochs.png')   \n",
    "    plt.close()"
   ]
  },
  {
   "cell_type": "code",
   "execution_count": 49,
   "metadata": {},
   "outputs": [],
   "source": [
    "plot_learning_curves(history)"
   ]
  },
  {
   "cell_type": "code",
   "execution_count": 50,
   "metadata": {},
   "outputs": [],
   "source": [
    "prediction = model.predict(X_test)\n",
    "pred_classes = prediction.argmax(axis=1)"
   ]
  },
  {
   "cell_type": "code",
   "execution_count": 51,
   "metadata": {},
   "outputs": [],
   "source": [
    "# Confusion Matrix With Scikit\n",
    "from sklearn.metrics import confusion_matrix\n",
    "\n",
    "cm = confusion_matrix(y_test, pred_classes)\n",
    "cm_norm =  cm.astype('float') / cm.sum(axis=1)[:, np.newaxis]"
   ]
  },
  {
   "cell_type": "code",
   "execution_count": 52,
   "metadata": {
    "scrolled": false
   },
   "outputs": [
    {
     "data": {
      "text/plain": [
       "Text(189.2400000000001, 0.5, 'True')"
      ]
     },
     "execution_count": 52,
     "metadata": {},
     "output_type": "execute_result"
    },
    {
     "data": {
      "image/png": "[encoded data removed]",
      "text/plain": [
       "<Figure size 720x432 with 2 Axes>"
      ]
     },
     "metadata": {
      "needs_background": "light"
     },
     "output_type": "display_data"
    }
   ],
   "source": [
    "# Ploting Confusion Matrix\n",
    "\n",
    "df_cm = pd.DataFrame(cm_norm, ['1', '2', '3'], ['1', '2', '3'])\n",
    "plt.figure(figsize = (10,6))\n",
    "conf = sns.heatmap(df_cm, annot=True, square=True, annot_kws={\"size\": 12})\n",
    "conf.set_xlabel('Prediction')\n",
    "conf.set_ylabel('True')"
   ]
  },
  {
   "cell_type": "code",
   "execution_count": 53,
   "metadata": {},
   "outputs": [
    {
     "data": {
      "application/vnd.plotly.v1+json": {
       "config": {
        "plotlyServerURL": "https://plot.ly"
       },
       "data": [
        {
         "coloraxis": "coloraxis",
         "hovertemplate": "x: %{x}<br>y: %{y}<br>color: %{z}<extra></extra>",
         "type": "heatmap",
         "x": [
          "1",
          "2",
          "3"
         ],
         "y": [
          "1",
          "2",
          "3"
         ],
         "z": [
          [
           0.8258706467661692,
           0.17412935323383086,
           0
          ],
          [
           0.20108695652173914,
           0.7880434782608695,
           0.010869565217391304
          ],
          [
           0.011267605633802818,
           0.059154929577464786,
           0.9295774647887324
          ]
         ]
        }
       ],
       "layout": {
        "coloraxis": {
         "colorscale": [
          [
           0,
           "#0d0887"
          ],
          [
           0.1111111111111111,
           "#46039f"
          ],
          [
           0.2222222222222222,
           "#7201a8"
          ],
          [
           0.3333333333333333,
           "#9c179e"
          ],
          [
           0.4444444444444444,
           "#bd3786"
          ],
          [
           0.5555555555555556,
           "#d8576b"
          ],
          [
           0.6666666666666666,
           "#ed7953"
          ],
          [
           0.7777777777777778,
           "#fb9f3a"
          ],
          [
           0.8888888888888888,
           "#fdca26"
          ],
          [
           1,
           "#f0f921"
          ]
         ]
        },
        "margin": {
         "t": 60
        },
        "template": {
         "data": {
          "bar": [
           {
            "error_x": {
             "color": "#2a3f5f"
            },
            "error_y": {
             "color": "#2a3f5f"
            },
            "marker": {
             "line": {
              "color": "#E5ECF6",
              "width": 0.5
             }
            },
            "type": "bar"
           }
          ],
          "barpolar": [
           {
            "marker": {
             "line": {
              "color": "#E5ECF6",
              "width": 0.5
             }
            },
            "type": "barpolar"
           }
          ],
          "carpet": [
           {
            "aaxis": {
             "endlinecolor": "#2a3f5f",
             "gridcolor": "white",
             "linecolor": "white",
             "minorgridcolor": "white",
             "startlinecolor": "#2a3f5f"
            },
            "baxis": {
             "endlinecolor": "#2a3f5f",
             "gridcolor": "white",
             "linecolor": "white",
             "minorgridcolor": "white",
             "startlinecolor": "#2a3f5f"
            },
            "type": "carpet"
           }
          ],
          "choropleth": [
           {
            "colorbar": {
             "outlinewidth": 0,
             "ticks": ""
            },
            "type": "choropleth"
           }
          ],
          "contour": [
           {
            "colorbar": {
             "outlinewidth": 0,
             "ticks": ""
            },
            "colorscale": [
             [
              0,
              "#0d0887"
             ],
             [
              0.1111111111111111,
              "#46039f"
             ],
             [
              0.2222222222222222,
              "#7201a8"
             ],
             [
              0.3333333333333333,
              "#9c179e"
             ],
             [
              0.4444444444444444,
              "#bd3786"
             ],
             [
              0.5555555555555556,
              "#d8576b"
             ],
             [
              0.6666666666666666,
              "#ed7953"
             ],
             [
              0.7777777777777778,
              "#fb9f3a"
             ],
             [
              0.8888888888888888,
              "#fdca26"
             ],
             [
              1,
              "#f0f921"
             ]
            ],
            "type": "contour"
           }
          ],
          "contourcarpet": [
           {
            "colorbar": {
             "outlinewidth": 0,
             "ticks": ""
            },
            "type": "contourcarpet"
           }
          ],
          "heatmap": [
           {
            "colorbar": {
             "outlinewidth": 0,
             "ticks": ""
            },
            "colorscale": [
             [
              0,
              "#0d0887"
             ],
             [
              0.1111111111111111,
              "#46039f"
             ],
             [
              0.2222222222222222,
              "#7201a8"
             ],
             [
              0.3333333333333333,
              "#9c179e"
             ],
             [
              0.4444444444444444,
              "#bd3786"
             ],
             [
              0.5555555555555556,
              "#d8576b"
             ],
             [
              0.6666666666666666,
              "#ed7953"
             ],
             [
              0.7777777777777778,
              "#fb9f3a"
             ],
             [
              0.8888888888888888,
              "#fdca26"
             ],
             [
              1,
              "#f0f921"
             ]
            ],
            "type": "heatmap"
           }
          ],
          "heatmapgl": [
           {
            "colorbar": {
             "outlinewidth": 0,
             "ticks": ""
            },
            "colorscale": [
             [
              0,
              "#0d0887"
             ],
             [
              0.1111111111111111,
              "#46039f"
             ],
             [
              0.2222222222222222,
              "#7201a8"
             ],
             [
              0.3333333333333333,
              "#9c179e"
             ],
             [
              0.4444444444444444,
              "#bd3786"
             ],
             [
              0.5555555555555556,
              "#d8576b"
             ],
             [
              0.6666666666666666,
              "#ed7953"
             ],
             [
              0.7777777777777778,
              "#fb9f3a"
             ],
             [
              0.8888888888888888,
              "#fdca26"
             ],
             [
              1,
              "#f0f921"
             ]
            ],
            "type": "heatmapgl"
           }
          ],
          "histogram": [
           {
            "marker": {
             "colorbar": {
              "outlinewidth": 0,
              "ticks": ""
             }
            },
            "type": "histogram"
           }
          ],
          "histogram2d": [
           {
            "colorbar": {
             "outlinewidth": 0,
             "ticks": ""
            },
            "colorscale": [
             [
              0,
              "#0d0887"
             ],
             [
              0.1111111111111111,
              "#46039f"
             ],
             [
              0.2222222222222222,
              "#7201a8"
             ],
             [
              0.3333333333333333,
              "#9c179e"
             ],
             [
              0.4444444444444444,
              "#bd3786"
             ],
             [
              0.5555555555555556,
              "#d8576b"
             ],
             [
              0.6666666666666666,
              "#ed7953"
             ],
             [
              0.7777777777777778,
              "#fb9f3a"
             ],
             [
              0.8888888888888888,
              "#fdca26"
             ],
             [
              1,
              "#f0f921"
             ]
            ],
            "type": "histogram2d"
           }
          ],
          "histogram2dcontour": [
           {
            "colorbar": {
             "outlinewidth": 0,
             "ticks": ""
            },
            "colorscale": [
             [
              0,
              "#0d0887"
             ],
             [
              0.1111111111111111,
              "#46039f"
             ],
             [
              0.2222222222222222,
              "#7201a8"
             ],
             [
              0.3333333333333333,
              "#9c179e"
             ],
             [
              0.4444444444444444,
              "#bd3786"
             ],
             [
              0.5555555555555556,
              "#d8576b"
             ],
             [
              0.6666666666666666,
              "#ed7953"
             ],
             [
              0.7777777777777778,
              "#fb9f3a"
             ],
             [
              0.8888888888888888,
              "#fdca26"
             ],
             [
              1,
              "#f0f921"
             ]
            ],
            "type": "histogram2dcontour"
           }
          ],
          "mesh3d": [
           {
            "colorbar": {
             "outlinewidth": 0,
             "ticks": ""
            },
            "type": "mesh3d"
           }
          ],
          "parcoords": [
           {
            "line": {
             "colorbar": {
              "outlinewidth": 0,
              "ticks": ""
             }
            },
            "type": "parcoords"
           }
          ],
          "pie": [
           {
            "automargin": true,
            "type": "pie"
           }
          ],
          "scatter": [
           {
            "marker": {
             "colorbar": {
              "outlinewidth": 0,
              "ticks": ""
             }
            },
            "type": "scatter"
           }
          ],
          "scatter3d": [
           {
            "line": {
             "colorbar": {
              "outlinewidth": 0,
              "ticks": ""
             }
            },
            "marker": {
             "colorbar": {
              "outlinewidth": 0,
              "ticks": ""
             }
            },
            "type": "scatter3d"
           }
          ],
          "scattercarpet": [
           {
            "marker": {
             "colorbar": {
              "outlinewidth": 0,
              "ticks": ""
             }
            },
            "type": "scattercarpet"
           }
          ],
          "scattergeo": [
           {
            "marker": {
             "colorbar": {
              "outlinewidth": 0,
              "ticks": ""
             }
            },
            "type": "scattergeo"
           }
          ],
          "scattergl": [
           {
            "marker": {
             "colorbar": {
              "outlinewidth": 0,
              "ticks": ""
             }
            },
            "type": "scattergl"
           }
          ],
          "scattermapbox": [
           {
            "marker": {
             "colorbar": {
              "outlinewidth": 0,
              "ticks": ""
             }
            },
            "type": "scattermapbox"
           }
          ],
          "scatterpolar": [
           {
            "marker": {
             "colorbar": {
              "outlinewidth": 0,
              "ticks": ""
             }
            },
            "type": "scatterpolar"
           }
          ],
          "scatterpolargl": [
           {
            "marker": {
             "colorbar": {
              "outlinewidth": 0,
              "ticks": ""
             }
            },
            "type": "scatterpolargl"
           }
          ],
          "scatterternary": [
           {
            "marker": {
             "colorbar": {
              "outlinewidth": 0,
              "ticks": ""
             }
            },
            "type": "scatterternary"
           }
          ],
          "surface": [
           {
            "colorbar": {
             "outlinewidth": 0,
             "ticks": ""
            },
            "colorscale": [
             [
              0,
              "#0d0887"
             ],
             [
              0.1111111111111111,
              "#46039f"
             ],
             [
              0.2222222222222222,
              "#7201a8"
             ],
             [
              0.3333333333333333,
              "#9c179e"
             ],
             [
              0.4444444444444444,
              "#bd3786"
             ],
             [
              0.5555555555555556,
              "#d8576b"
             ],
             [
              0.6666666666666666,
              "#ed7953"
             ],
             [
              0.7777777777777778,
              "#fb9f3a"
             ],
             [
              0.8888888888888888,
              "#fdca26"
             ],
             [
              1,
              "#f0f921"
             ]
            ],
            "type": "surface"
           }
          ],
          "table": [
           {
            "cells": {
             "fill": {
              "color": "#EBF0F8"
             },
             "line": {
              "color": "white"
             }
            },
            "header": {
             "fill": {
              "color": "#C8D4E3"
             },
             "line": {
              "color": "white"
             }
            },
            "type": "table"
           }
          ]
         },
         "layout": {
          "annotationdefaults": {
           "arrowcolor": "#2a3f5f",
           "arrowhead": 0,
           "arrowwidth": 1
          },
          "coloraxis": {
           "colorbar": {
            "outlinewidth": 0,
            "ticks": ""
           }
          },
          "colorscale": {
           "diverging": [
            [
             0,
             "#8e0152"
            ],
            [
             0.1,
             "#c51b7d"
            ],
            [
             0.2,
             "#de77ae"
            ],
            [
             0.3,
             "#f1b6da"
            ],
            [
             0.4,
             "#fde0ef"
            ],
            [
             0.5,
             "#f7f7f7"
            ],
            [
             0.6,
             "#e6f5d0"
            ],
            [
             0.7,
             "#b8e186"
            ],
            [
             0.8,
             "#7fbc41"
            ],
            [
             0.9,
             "#4d9221"
            ],
            [
             1,
             "#276419"
            ]
           ],
           "sequential": [
            [
             0,
             "#0d0887"
            ],
            [
             0.1111111111111111,
             "#46039f"
            ],
            [
             0.2222222222222222,
             "#7201a8"
            ],
            [
             0.3333333333333333,
             "#9c179e"
            ],
            [
             0.4444444444444444,
             "#bd3786"
            ],
            [
             0.5555555555555556,
             "#d8576b"
            ],
            [
             0.6666666666666666,
             "#ed7953"
            ],
            [
             0.7777777777777778,
             "#fb9f3a"
            ],
            [
             0.8888888888888888,
             "#fdca26"
            ],
            [
             1,
             "#f0f921"
            ]
           ],
           "sequentialminus": [
            [
             0,
             "#0d0887"
            ],
            [
             0.1111111111111111,
             "#46039f"
            ],
            [
             0.2222222222222222,
             "#7201a8"
            ],
            [
             0.3333333333333333,
             "#9c179e"
            ],
            [
             0.4444444444444444,
             "#bd3786"
            ],
            [
             0.5555555555555556,
             "#d8576b"
            ],
            [
             0.6666666666666666,
             "#ed7953"
            ],
            [
             0.7777777777777778,
             "#fb9f3a"
            ],
            [
             0.8888888888888888,
             "#fdca26"
            ],
            [
             1,
             "#f0f921"
            ]
           ]
          },
          "colorway": [
           "#636efa",
           "#EF553B",
           "#00cc96",
           "#ab63fa",
           "#FFA15A",
           "#19d3f3",
           "#FF6692",
           "#B6E880",
           "#FF97FF",
           "#FECB52"
          ],
          "font": {
           "color": "#2a3f5f"
          },
          "geo": {
           "bgcolor": "white",
           "lakecolor": "white",
           "landcolor": "#E5ECF6",
           "showlakes": true,
           "showland": true,
           "subunitcolor": "white"
          },
          "hoverlabel": {
           "align": "left"
          },
          "hovermode": "closest",
          "mapbox": {
           "style": "light"
          },
          "paper_bgcolor": "white",
          "plot_bgcolor": "#E5ECF6",
          "polar": {
           "angularaxis": {
            "gridcolor": "white",
            "linecolor": "white",
            "ticks": ""
           },
           "bgcolor": "#E5ECF6",
           "radialaxis": {
            "gridcolor": "white",
            "linecolor": "white",
            "ticks": ""
           }
          },
          "scene": {
           "xaxis": {
            "backgroundcolor": "#E5ECF6",
            "gridcolor": "white",
            "gridwidth": 2,
            "linecolor": "white",
            "showbackground": true,
            "ticks": "",
            "zerolinecolor": "white"
           },
           "yaxis": {
            "backgroundcolor": "#E5ECF6",
            "gridcolor": "white",
            "gridwidth": 2,
            "linecolor": "white",
            "showbackground": true,
            "ticks": "",
            "zerolinecolor": "white"
           },
           "zaxis": {
            "backgroundcolor": "#E5ECF6",
            "gridcolor": "white",
            "gridwidth": 2,
            "linecolor": "white",
            "showbackground": true,
            "ticks": "",
            "zerolinecolor": "white"
           }
          },
          "shapedefaults": {
           "line": {
            "color": "#2a3f5f"
           }
          },
          "ternary": {
           "aaxis": {
            "gridcolor": "white",
            "linecolor": "white",
            "ticks": ""
           },
           "baxis": {
            "gridcolor": "white",
            "linecolor": "white",
            "ticks": ""
           },
           "bgcolor": "#E5ECF6",
           "caxis": {
            "gridcolor": "white",
            "linecolor": "white",
            "ticks": ""
           }
          },
          "title": {
           "x": 0.05
          },
          "xaxis": {
           "automargin": true,
           "gridcolor": "white",
           "linecolor": "white",
           "ticks": "",
           "title": {
            "standoff": 15
           },
           "zerolinecolor": "white",
           "zerolinewidth": 2
          },
          "yaxis": {
           "automargin": true,
           "gridcolor": "white",
           "linecolor": "white",
           "ticks": "",
           "title": {
            "standoff": 15
           },
           "zerolinecolor": "white",
           "zerolinewidth": 2
          }
         }
        },
        "xaxis": {
         "constrain": "domain",
         "scaleanchor": "y"
        },
        "yaxis": {
         "autorange": "reversed",
         "constrain": "domain"
        }
       }
      },
      "text/html": [
       "<div>\n",
       "        \n",
       "        \n",
       "            <div id=\"fab3b026-c761-41e9-baf5-6fb70994beb0\" class=\"plotly-graph-div\" style=\"height:525px; width:100%;\"></div>\n",
       "            <script type=\"text/javascript\">\n",
       "                require([\"plotly\"], function(Plotly) {\n",
       "                    window.PLOTLYENV=window.PLOTLYENV || {};\n",
       "                    \n",
       "                if (document.getElementById(\"fab3b026-c761-41e9-baf5-6fb70994beb0\")) {\n",
       "                    Plotly.newPlot(\n",
       "                        'fab3b026-c761-41e9-baf5-6fb70994beb0',\n",
       "                        [{\"coloraxis\": \"coloraxis\", \"hovertemplate\": \"x: %{x}<br>y: %{y}<br>color: %{z}<extra></extra>\", \"type\": \"heatmap\", \"x\": [\"1\", \"2\", \"3\"], \"y\": [\"1\", \"2\", \"3\"], \"z\": [[0.8258706467661692, 0.17412935323383086, 0.0], [0.20108695652173914, 0.7880434782608695, 0.010869565217391304], [0.011267605633802818, 0.059154929577464786, 0.9295774647887324]]}],\n",
       "                        {\"coloraxis\": {\"colorscale\": [[0.0, \"#0d0887\"], [0.1111111111111111, \"#46039f\"], [0.2222222222222222, \"#7201a8\"], [0.3333333333333333, \"#9c179e\"], [0.4444444444444444, \"#bd3786\"], [0.5555555555555556, \"#d8576b\"], [0.6666666666666666, \"#ed7953\"], [0.7777777777777778, \"#fb9f3a\"], [0.8888888888888888, \"#fdca26\"], [1.0, \"#f0f921\"]]}, \"margin\": {\"t\": 60}, \"template\": {\"data\": {\"bar\": [{\"error_x\": {\"color\": \"#2a3f5f\"}, \"error_y\": {\"color\": \"#2a3f5f\"}, \"marker\": {\"line\": {\"color\": \"#E5ECF6\", \"width\": 0.5}}, \"type\": \"bar\"}], \"barpolar\": [{\"marker\": {\"line\": {\"color\": \"#E5ECF6\", \"width\": 0.5}}, \"type\": \"barpolar\"}], \"carpet\": [{\"aaxis\": {\"endlinecolor\": \"#2a3f5f\", \"gridcolor\": \"white\", \"linecolor\": \"white\", \"minorgridcolor\": \"white\", \"startlinecolor\": \"#2a3f5f\"}, \"baxis\": {\"endlinecolor\": \"#2a3f5f\", \"gridcolor\": \"white\", \"linecolor\": \"white\", \"minorgridcolor\": \"white\", \"startlinecolor\": \"#2a3f5f\"}, \"type\": \"carpet\"}], \"choropleth\": [{\"colorbar\": {\"outlinewidth\": 0, \"ticks\": \"\"}, \"type\": \"choropleth\"}], \"contour\": [{\"colorbar\": {\"outlinewidth\": 0, \"ticks\": \"\"}, \"colorscale\": [[0.0, \"#0d0887\"], [0.1111111111111111, \"#46039f\"], [0.2222222222222222, \"#7201a8\"], [0.3333333333333333, \"#9c179e\"], [0.4444444444444444, \"#bd3786\"], [0.5555555555555556, \"#d8576b\"], [0.6666666666666666, \"#ed7953\"], [0.7777777777777778, \"#fb9f3a\"], [0.8888888888888888, \"#fdca26\"], [1.0, \"#f0f921\"]], \"type\": \"contour\"}], \"contourcarpet\": [{\"colorbar\": {\"outlinewidth\": 0, \"ticks\": \"\"}, \"type\": \"contourcarpet\"}], \"heatmap\": [{\"colorbar\": {\"outlinewidth\": 0, \"ticks\": \"\"}, \"colorscale\": [[0.0, \"#0d0887\"], [0.1111111111111111, \"#46039f\"], [0.2222222222222222, \"#7201a8\"], [0.3333333333333333, \"#9c179e\"], [0.4444444444444444, \"#bd3786\"], [0.5555555555555556, \"#d8576b\"], [0.6666666666666666, \"#ed7953\"], [0.7777777777777778, \"#fb9f3a\"], [0.8888888888888888, \"#fdca26\"], [1.0, \"#f0f921\"]], \"type\": \"heatmap\"}], \"heatmapgl\": [{\"colorbar\": {\"outlinewidth\": 0, \"ticks\": \"\"}, \"colorscale\": [[0.0, \"#0d0887\"], [0.1111111111111111, \"#46039f\"], [0.2222222222222222, \"#7201a8\"], [0.3333333333333333, \"#9c179e\"], [0.4444444444444444, \"#bd3786\"], [0.5555555555555556, \"#d8576b\"], [0.6666666666666666, \"#ed7953\"], [0.7777777777777778, \"#fb9f3a\"], [0.8888888888888888, \"#fdca26\"], [1.0, \"#f0f921\"]], \"type\": \"heatmapgl\"}], \"histogram\": [{\"marker\": {\"colorbar\": {\"outlinewidth\": 0, \"ticks\": \"\"}}, \"type\": \"histogram\"}], \"histogram2d\": [{\"colorbar\": {\"outlinewidth\": 0, \"ticks\": \"\"}, \"colorscale\": [[0.0, \"#0d0887\"], [0.1111111111111111, \"#46039f\"], [0.2222222222222222, \"#7201a8\"], [0.3333333333333333, \"#9c179e\"], [0.4444444444444444, \"#bd3786\"], [0.5555555555555556, \"#d8576b\"], [0.6666666666666666, \"#ed7953\"], [0.7777777777777778, \"#fb9f3a\"], [0.8888888888888888, \"#fdca26\"], [1.0, \"#f0f921\"]], \"type\": \"histogram2d\"}], \"histogram2dcontour\": [{\"colorbar\": {\"outlinewidth\": 0, \"ticks\": \"\"}, \"colorscale\": [[0.0, \"#0d0887\"], [0.1111111111111111, \"#46039f\"], [0.2222222222222222, \"#7201a8\"], [0.3333333333333333, \"#9c179e\"], [0.4444444444444444, \"#bd3786\"], [0.5555555555555556, \"#d8576b\"], [0.6666666666666666, \"#ed7953\"], [0.7777777777777778, \"#fb9f3a\"], [0.8888888888888888, \"#fdca26\"], [1.0, \"#f0f921\"]], \"type\": \"histogram2dcontour\"}], \"mesh3d\": [{\"colorbar\": {\"outlinewidth\": 0, \"ticks\": \"\"}, \"type\": \"mesh3d\"}], \"parcoords\": [{\"line\": {\"colorbar\": {\"outlinewidth\": 0, \"ticks\": \"\"}}, \"type\": \"parcoords\"}], \"pie\": [{\"automargin\": true, \"type\": \"pie\"}], \"scatter\": [{\"marker\": {\"colorbar\": {\"outlinewidth\": 0, \"ticks\": \"\"}}, \"type\": \"scatter\"}], \"scatter3d\": [{\"line\": {\"colorbar\": {\"outlinewidth\": 0, \"ticks\": \"\"}}, \"marker\": {\"colorbar\": {\"outlinewidth\": 0, \"ticks\": \"\"}}, \"type\": \"scatter3d\"}], \"scattercarpet\": [{\"marker\": {\"colorbar\": {\"outlinewidth\": 0, \"ticks\": \"\"}}, \"type\": \"scattercarpet\"}], \"scattergeo\": [{\"marker\": {\"colorbar\": {\"outlinewidth\": 0, \"ticks\": \"\"}}, \"type\": \"scattergeo\"}], \"scattergl\": [{\"marker\": {\"colorbar\": {\"outlinewidth\": 0, \"ticks\": \"\"}}, \"type\": \"scattergl\"}], \"scattermapbox\": [{\"marker\": {\"colorbar\": {\"outlinewidth\": 0, \"ticks\": \"\"}}, \"type\": \"scattermapbox\"}], \"scatterpolar\": [{\"marker\": {\"colorbar\": {\"outlinewidth\": 0, \"ticks\": \"\"}}, \"type\": \"scatterpolar\"}], \"scatterpolargl\": [{\"marker\": {\"colorbar\": {\"outlinewidth\": 0, \"ticks\": \"\"}}, \"type\": \"scatterpolargl\"}], \"scatterternary\": [{\"marker\": {\"colorbar\": {\"outlinewidth\": 0, \"ticks\": \"\"}}, \"type\": \"scatterternary\"}], \"surface\": [{\"colorbar\": {\"outlinewidth\": 0, \"ticks\": \"\"}, \"colorscale\": [[0.0, \"#0d0887\"], [0.1111111111111111, \"#46039f\"], [0.2222222222222222, \"#7201a8\"], [0.3333333333333333, \"#9c179e\"], [0.4444444444444444, \"#bd3786\"], [0.5555555555555556, \"#d8576b\"], [0.6666666666666666, \"#ed7953\"], [0.7777777777777778, \"#fb9f3a\"], [0.8888888888888888, \"#fdca26\"], [1.0, \"#f0f921\"]], \"type\": \"surface\"}], \"table\": [{\"cells\": {\"fill\": {\"color\": \"#EBF0F8\"}, \"line\": {\"color\": \"white\"}}, \"header\": {\"fill\": {\"color\": \"#C8D4E3\"}, \"line\": {\"color\": \"white\"}}, \"type\": \"table\"}]}, \"layout\": {\"annotationdefaults\": {\"arrowcolor\": \"#2a3f5f\", \"arrowhead\": 0, \"arrowwidth\": 1}, \"coloraxis\": {\"colorbar\": {\"outlinewidth\": 0, \"ticks\": \"\"}}, \"colorscale\": {\"diverging\": [[0, \"#8e0152\"], [0.1, \"#c51b7d\"], [0.2, \"#de77ae\"], [0.3, \"#f1b6da\"], [0.4, \"#fde0ef\"], [0.5, \"#f7f7f7\"], [0.6, \"#e6f5d0\"], [0.7, \"#b8e186\"], [0.8, \"#7fbc41\"], [0.9, \"#4d9221\"], [1, \"#276419\"]], \"sequential\": [[0.0, \"#0d0887\"], [0.1111111111111111, \"#46039f\"], [0.2222222222222222, \"#7201a8\"], [0.3333333333333333, \"#9c179e\"], [0.4444444444444444, \"#bd3786\"], [0.5555555555555556, \"#d8576b\"], [0.6666666666666666, \"#ed7953\"], [0.7777777777777778, \"#fb9f3a\"], [0.8888888888888888, \"#fdca26\"], [1.0, \"#f0f921\"]], \"sequentialminus\": [[0.0, \"#0d0887\"], [0.1111111111111111, \"#46039f\"], [0.2222222222222222, \"#7201a8\"], [0.3333333333333333, \"#9c179e\"], [0.4444444444444444, \"#bd3786\"], [0.5555555555555556, \"#d8576b\"], [0.6666666666666666, \"#ed7953\"], [0.7777777777777778, \"#fb9f3a\"], [0.8888888888888888, \"#fdca26\"], [1.0, \"#f0f921\"]]}, \"colorway\": [\"#636efa\", \"#EF553B\", \"#00cc96\", \"#ab63fa\", \"#FFA15A\", \"#19d3f3\", \"#FF6692\", \"#B6E880\", \"#FF97FF\", \"#FECB52\"], \"font\": {\"color\": \"#2a3f5f\"}, \"geo\": {\"bgcolor\": \"white\", \"lakecolor\": \"white\", \"landcolor\": \"#E5ECF6\", \"showlakes\": true, \"showland\": true, \"subunitcolor\": \"white\"}, \"hoverlabel\": {\"align\": \"left\"}, \"hovermode\": \"closest\", \"mapbox\": {\"style\": \"light\"}, \"paper_bgcolor\": \"white\", \"plot_bgcolor\": \"#E5ECF6\", \"polar\": {\"angularaxis\": {\"gridcolor\": \"white\", \"linecolor\": \"white\", \"ticks\": \"\"}, \"bgcolor\": \"#E5ECF6\", \"radialaxis\": {\"gridcolor\": \"white\", \"linecolor\": \"white\", \"ticks\": \"\"}}, \"scene\": {\"xaxis\": {\"backgroundcolor\": \"#E5ECF6\", \"gridcolor\": \"white\", \"gridwidth\": 2, \"linecolor\": \"white\", \"showbackground\": true, \"ticks\": \"\", \"zerolinecolor\": \"white\"}, \"yaxis\": {\"backgroundcolor\": \"#E5ECF6\", \"gridcolor\": \"white\", \"gridwidth\": 2, \"linecolor\": \"white\", \"showbackground\": true, \"ticks\": \"\", \"zerolinecolor\": \"white\"}, \"zaxis\": {\"backgroundcolor\": \"#E5ECF6\", \"gridcolor\": \"white\", \"gridwidth\": 2, \"linecolor\": \"white\", \"showbackground\": true, \"ticks\": \"\", \"zerolinecolor\": \"white\"}}, \"shapedefaults\": {\"line\": {\"color\": \"#2a3f5f\"}}, \"ternary\": {\"aaxis\": {\"gridcolor\": \"white\", \"linecolor\": \"white\", \"ticks\": \"\"}, \"baxis\": {\"gridcolor\": \"white\", \"linecolor\": \"white\", \"ticks\": \"\"}, \"bgcolor\": \"#E5ECF6\", \"caxis\": {\"gridcolor\": \"white\", \"linecolor\": \"white\", \"ticks\": \"\"}}, \"title\": {\"x\": 0.05}, \"xaxis\": {\"automargin\": true, \"gridcolor\": \"white\", \"linecolor\": \"white\", \"ticks\": \"\", \"title\": {\"standoff\": 15}, \"zerolinecolor\": \"white\", \"zerolinewidth\": 2}, \"yaxis\": {\"automargin\": true, \"gridcolor\": \"white\", \"linecolor\": \"white\", \"ticks\": \"\", \"title\": {\"standoff\": 15}, \"zerolinecolor\": \"white\", \"zerolinewidth\": 2}}}, \"xaxis\": {\"constrain\": \"domain\", \"scaleanchor\": \"y\"}, \"yaxis\": {\"autorange\": \"reversed\", \"constrain\": \"domain\"}},\n",
       "                        {\"responsive\": true}\n",
       "                    ).then(function(){\n",
       "                            \n",
       "var gd = document.getElementById('fab3b026-c761-41e9-baf5-6fb70994beb0');\n",
       "var x = new MutationObserver(function (mutations, observer) {{\n",
       "        var display = window.getComputedStyle(gd).display;\n",
       "        if (!display || display === 'none') {{\n",
       "            console.log([gd, 'removed!']);\n",
       "            Plotly.purge(gd);\n",
       "            observer.disconnect();\n",
       "        }}\n",
       "}});\n",
       "\n",
       "// Listen for the removal of the full notebook cells\n",
       "var notebookContainer = gd.closest('#notebook-container');\n",
       "if (notebookContainer) {{\n",
       "    x.observe(notebookContainer, {childList: true});\n",
       "}}\n",
       "\n",
       "// Listen for the clearing of the current output cell\n",
       "var outputEl = gd.closest('.output');\n",
       "if (outputEl) {{\n",
       "    x.observe(outputEl, {childList: true});\n",
       "}}\n",
       "\n",
       "                        })\n",
       "                };\n",
       "                });\n",
       "            </script>\n",
       "        </div>"
      ]
     },
     "metadata": {},
     "output_type": "display_data"
    }
   ],
   "source": [
    "fig = px.imshow(df_cm)\n",
    "fig.show()"
   ]
  },
  {
   "cell_type": "code",
   "execution_count": 36,
   "metadata": {
    "scrolled": true
   },
   "outputs": [
    {
     "name": "stdout",
     "output_type": "stream",
     "text": [
      "WARNING:tensorflow:From /Users/henrymacbook/opt/anaconda3/lib/python3.7/site-packages/tensorflow/python/training/tracking/tracking.py:111: Model.state_updates (from tensorflow.python.keras.engine.training) is deprecated and will be removed in a future version.\n",
      "Instructions for updating:\n",
      "This property should not be used in TensorFlow 2.0, as updates are applied automatically.\n",
      "WARNING:tensorflow:From /Users/henrymacbook/opt/anaconda3/lib/python3.7/site-packages/tensorflow/python/training/tracking/tracking.py:111: Layer.updates (from tensorflow.python.keras.engine.base_layer) is deprecated and will be removed in a future version.\n",
      "Instructions for updating:\n",
      "This property should not be used in TensorFlow 2.0, as updates are applied automatically.\n",
      "INFO:tensorflow:Assets written to: CNN_model_all_patients/assets\n"
     ]
    }
   ],
   "source": [
    "# Save trained CNN model\n",
    "model.save(\"CNN_model_all_patients\")"
   ]
  },
  {
   "cell_type": "code",
   "execution_count": 34,
   "metadata": {},
   "outputs": [],
   "source": [
    "#model = keras.models.load_model('CNN_model')"
   ]
  },
  {
   "cell_type": "markdown",
   "metadata": {},
   "source": [
    "## 3- Test the CNN model with data production"
   ]
  },
  {
   "cell_type": "code",
   "execution_count": null,
   "metadata": {},
   "outputs": [],
   "source": [
    "# Reconstruct my CNN model\n",
    "# reconstructed_model = keras.models.load_model(\"CNN_model\")"
   ]
  },
  {
   "cell_type": "code",
   "execution_count": 142,
   "metadata": {},
   "outputs": [],
   "source": [
    "# Create reduced samples data for each class to production_size for production\n",
    "production_size = 100\n",
    "# full_prod = (arr_class_1_flatten[reduce_size:reduce_size+production_size] + arr_class_2_flatten[reduce_size:reduce_size+production_size] + arr_class_3_flatten[reduce_size:reduce_size+production_size])\n",
    "full_prod = (arr_class_1_flatten[-production_size:] + arr_class_2_flatten[-production_size:] + arr_class_3_flatten[-production_size:])\n"
   ]
  },
  {
   "cell_type": "code",
   "execution_count": 143,
   "metadata": {},
   "outputs": [
    {
     "data": {
      "application/vnd.jupyter.widget-view+json": {
       "model_id": "364643738fff43af95980682a0a72016",
       "version_major": 2,
       "version_minor": 0
      },
      "text/plain": [
       "HBox(children=(HTML(value=''), FloatProgress(value=0.0, max=300.0), HTML(value='')))"
      ]
     },
     "metadata": {},
     "output_type": "display_data"
    },
    {
     "name": "stdout",
     "output_type": "stream",
     "text": [
      "0 done!\n",
      "\n"
     ]
    }
   ],
   "source": [
    "# Test with production values : create X_prod as input production datas\n",
    "fs = len(full_prod[0])\n",
    "# sgn_length = 1000   #65536   Pay atention with ram memory! \n",
    "size_dataset = len(full_prod)\n",
    "scales = range(1, fs)\n",
    "waveletname = 'morl'\n",
    " \n",
    "X_prod = np.ndarray(shape=(size_dataset, fs-1, fs-1, 3))\n",
    "                 \n",
    "for i in tqdm(range(0, size_dataset)):\n",
    "    if i % 500 == 0:\n",
    "        print (i, 'done!')\n",
    "    for j in range(0, 3):\n",
    "        signal = full_prod[i]\n",
    "        coeff, freq = pywt.cwt(signal, scales, waveletname, 1)\n",
    "        X_prod[i, :, :, j] = coeff[:,:fs-1]"
   ]
  },
  {
   "cell_type": "code",
   "execution_count": 85,
   "metadata": {},
   "outputs": [
    {
     "data": {
      "text/plain": [
       "array([0, 0, 0, 0, 0, 0, 0, 0, 0, 0, 1, 1, 1, 1, 1, 1, 1, 1, 1, 1, 1, 1,\n",
       "       2, 2, 2, 2, 0, 1, 1, 2])"
      ]
     },
     "execution_count": 85,
     "metadata": {},
     "output_type": "execute_result"
    }
   ],
   "source": [
    "# Test model usage for classification prediction in production\n",
    "# model.predict_classes(X_prod)"
   ]
  },
  {
   "cell_type": "code",
   "execution_count": 146,
   "metadata": {},
   "outputs": [
    {
     "data": {
      "text/plain": [
       "(249, 249, 3)"
      ]
     },
     "execution_count": 146,
     "metadata": {},
     "output_type": "execute_result"
    }
   ],
   "source": [
    "X_prod[0,:,:,:].shape"
   ]
  },
  {
   "cell_type": "code",
   "execution_count": 96,
   "metadata": {
    "collapsed": true
   },
   "outputs": [
    {
     "ename": "ValueError",
     "evalue": "in user code:\n\n    /Users/henrymacbook/opt/anaconda3/lib/python3.7/site-packages/tensorflow/python/keras/engine/training.py:1462 predict_function  *\n        return step_function(self, iterator)\n    /Users/henrymacbook/opt/anaconda3/lib/python3.7/site-packages/tensorflow/python/keras/engine/training.py:1452 step_function  **\n        outputs = model.distribute_strategy.run(run_step, args=(data,))\n    /Users/henrymacbook/opt/anaconda3/lib/python3.7/site-packages/tensorflow/python/distribute/distribute_lib.py:1211 run\n        return self._extended.call_for_each_replica(fn, args=args, kwargs=kwargs)\n    /Users/henrymacbook/opt/anaconda3/lib/python3.7/site-packages/tensorflow/python/distribute/distribute_lib.py:2585 call_for_each_replica\n        return self._call_for_each_replica(fn, args, kwargs)\n    /Users/henrymacbook/opt/anaconda3/lib/python3.7/site-packages/tensorflow/python/distribute/distribute_lib.py:2945 _call_for_each_replica\n        return fn(*args, **kwargs)\n    /Users/henrymacbook/opt/anaconda3/lib/python3.7/site-packages/tensorflow/python/keras/engine/training.py:1445 run_step  **\n        outputs = model.predict_step(data)\n    /Users/henrymacbook/opt/anaconda3/lib/python3.7/site-packages/tensorflow/python/keras/engine/training.py:1418 predict_step\n        return self(x, training=False)\n    /Users/henrymacbook/opt/anaconda3/lib/python3.7/site-packages/tensorflow/python/keras/engine/base_layer.py:976 __call__\n        self.name)\n    /Users/henrymacbook/opt/anaconda3/lib/python3.7/site-packages/tensorflow/python/keras/engine/input_spec.py:196 assert_input_compatibility\n        str(x.shape.as_list()))\n\n    ValueError: Input 0 of layer sequential_2 is incompatible with the layer: : expected min_ndim=4, found ndim=3. Full shape received: [None, 249, 3]\n",
     "output_type": "error",
     "traceback": [
      "\u001b[0;31m---------------------------------------------------------------------------\u001b[0m",
      "\u001b[0;31mValueError\u001b[0m                                Traceback (most recent call last)",
      "\u001b[0;32m<ipython-input-96-cfd44c1e79a6>\u001b[0m in \u001b[0;36m<module>\u001b[0;34m\u001b[0m\n\u001b[0;32m----> 1\u001b[0;31m \u001b[0mmodel\u001b[0m\u001b[0;34m.\u001b[0m\u001b[0mpredict_proba\u001b[0m\u001b[0;34m(\u001b[0m\u001b[0mX_prod\u001b[0m\u001b[0;34m[\u001b[0m\u001b[0;36m0\u001b[0m\u001b[0;34m,\u001b[0m\u001b[0;34m:\u001b[0m\u001b[0;34m,\u001b[0m\u001b[0;34m:\u001b[0m\u001b[0;34m,\u001b[0m\u001b[0;34m:\u001b[0m\u001b[0;34m]\u001b[0m\u001b[0;34m)\u001b[0m\u001b[0;34m\u001b[0m\u001b[0;34m\u001b[0m\u001b[0m\n\u001b[0m",
      "\u001b[0;32m~/opt/anaconda3/lib/python3.7/site-packages/tensorflow/python/util/deprecation.py\u001b[0m in \u001b[0;36mnew_func\u001b[0;34m(*args, **kwargs)\u001b[0m\n\u001b[1;32m    322\u001b[0m               \u001b[0;34m'in a future version'\u001b[0m \u001b[0;32mif\u001b[0m \u001b[0mdate\u001b[0m \u001b[0;32mis\u001b[0m \u001b[0;32mNone\u001b[0m \u001b[0;32melse\u001b[0m \u001b[0;34m(\u001b[0m\u001b[0;34m'after %s'\u001b[0m \u001b[0;34m%\u001b[0m \u001b[0mdate\u001b[0m\u001b[0;34m)\u001b[0m\u001b[0;34m,\u001b[0m\u001b[0;34m\u001b[0m\u001b[0;34m\u001b[0m\u001b[0m\n\u001b[1;32m    323\u001b[0m               instructions)\n\u001b[0;32m--> 324\u001b[0;31m       \u001b[0;32mreturn\u001b[0m \u001b[0mfunc\u001b[0m\u001b[0;34m(\u001b[0m\u001b[0;34m*\u001b[0m\u001b[0margs\u001b[0m\u001b[0;34m,\u001b[0m \u001b[0;34m**\u001b[0m\u001b[0mkwargs\u001b[0m\u001b[0;34m)\u001b[0m\u001b[0;34m\u001b[0m\u001b[0;34m\u001b[0m\u001b[0m\n\u001b[0m\u001b[1;32m    325\u001b[0m     return tf_decorator.make_decorator(\n\u001b[1;32m    326\u001b[0m         \u001b[0mfunc\u001b[0m\u001b[0;34m,\u001b[0m \u001b[0mnew_func\u001b[0m\u001b[0;34m,\u001b[0m \u001b[0;34m'deprecated'\u001b[0m\u001b[0;34m,\u001b[0m\u001b[0;34m\u001b[0m\u001b[0;34m\u001b[0m\u001b[0m\n",
      "\u001b[0;32m~/opt/anaconda3/lib/python3.7/site-packages/tensorflow/python/keras/engine/sequential.py\u001b[0m in \u001b[0;36mpredict_proba\u001b[0;34m(self, x, batch_size, verbose)\u001b[0m\n\u001b[1;32m    421\u001b[0m         \u001b[0mA\u001b[0m \u001b[0mNumpy\u001b[0m \u001b[0marray\u001b[0m \u001b[0mof\u001b[0m \u001b[0mprobability\u001b[0m \u001b[0mpredictions\u001b[0m\u001b[0;34m.\u001b[0m\u001b[0;34m\u001b[0m\u001b[0;34m\u001b[0m\u001b[0m\n\u001b[1;32m    422\u001b[0m     \"\"\"\n\u001b[0;32m--> 423\u001b[0;31m     \u001b[0mpreds\u001b[0m \u001b[0;34m=\u001b[0m \u001b[0mself\u001b[0m\u001b[0;34m.\u001b[0m\u001b[0mpredict\u001b[0m\u001b[0;34m(\u001b[0m\u001b[0mx\u001b[0m\u001b[0;34m,\u001b[0m \u001b[0mbatch_size\u001b[0m\u001b[0;34m,\u001b[0m \u001b[0mverbose\u001b[0m\u001b[0;34m)\u001b[0m\u001b[0;34m\u001b[0m\u001b[0;34m\u001b[0m\u001b[0m\n\u001b[0m\u001b[1;32m    424\u001b[0m     \u001b[0;32mif\u001b[0m \u001b[0mpreds\u001b[0m\u001b[0;34m.\u001b[0m\u001b[0mmin\u001b[0m\u001b[0;34m(\u001b[0m\u001b[0;34m)\u001b[0m \u001b[0;34m<\u001b[0m \u001b[0;36m0.\u001b[0m \u001b[0;32mor\u001b[0m \u001b[0mpreds\u001b[0m\u001b[0;34m.\u001b[0m\u001b[0mmax\u001b[0m\u001b[0;34m(\u001b[0m\u001b[0;34m)\u001b[0m \u001b[0;34m>\u001b[0m \u001b[0;36m1.\u001b[0m\u001b[0;34m:\u001b[0m\u001b[0;34m\u001b[0m\u001b[0;34m\u001b[0m\u001b[0m\n\u001b[1;32m    425\u001b[0m       logging.warning('Network returning invalid probability values. '\n",
      "\u001b[0;32m~/opt/anaconda3/lib/python3.7/site-packages/tensorflow/python/keras/engine/training.py\u001b[0m in \u001b[0;36m_method_wrapper\u001b[0;34m(self, *args, **kwargs)\u001b[0m\n\u001b[1;32m    128\u001b[0m       raise ValueError('{} is not supported in multi-worker mode.'.format(\n\u001b[1;32m    129\u001b[0m           method.__name__))\n\u001b[0;32m--> 130\u001b[0;31m     \u001b[0;32mreturn\u001b[0m \u001b[0mmethod\u001b[0m\u001b[0;34m(\u001b[0m\u001b[0mself\u001b[0m\u001b[0;34m,\u001b[0m \u001b[0;34m*\u001b[0m\u001b[0margs\u001b[0m\u001b[0;34m,\u001b[0m \u001b[0;34m**\u001b[0m\u001b[0mkwargs\u001b[0m\u001b[0;34m)\u001b[0m\u001b[0;34m\u001b[0m\u001b[0;34m\u001b[0m\u001b[0m\n\u001b[0m\u001b[1;32m    131\u001b[0m \u001b[0;34m\u001b[0m\u001b[0m\n\u001b[1;32m    132\u001b[0m   return tf_decorator.make_decorator(\n",
      "\u001b[0;32m~/opt/anaconda3/lib/python3.7/site-packages/tensorflow/python/keras/engine/training.py\u001b[0m in \u001b[0;36mpredict\u001b[0;34m(self, x, batch_size, verbose, steps, callbacks, max_queue_size, workers, use_multiprocessing)\u001b[0m\n\u001b[1;32m   1597\u001b[0m           \u001b[0;32mfor\u001b[0m \u001b[0mstep\u001b[0m \u001b[0;32min\u001b[0m \u001b[0mdata_handler\u001b[0m\u001b[0;34m.\u001b[0m\u001b[0msteps\u001b[0m\u001b[0;34m(\u001b[0m\u001b[0;34m)\u001b[0m\u001b[0;34m:\u001b[0m\u001b[0;34m\u001b[0m\u001b[0;34m\u001b[0m\u001b[0m\n\u001b[1;32m   1598\u001b[0m             \u001b[0mcallbacks\u001b[0m\u001b[0;34m.\u001b[0m\u001b[0mon_predict_batch_begin\u001b[0m\u001b[0;34m(\u001b[0m\u001b[0mstep\u001b[0m\u001b[0;34m)\u001b[0m\u001b[0;34m\u001b[0m\u001b[0;34m\u001b[0m\u001b[0m\n\u001b[0;32m-> 1599\u001b[0;31m             \u001b[0mtmp_batch_outputs\u001b[0m \u001b[0;34m=\u001b[0m \u001b[0mpredict_function\u001b[0m\u001b[0;34m(\u001b[0m\u001b[0miterator\u001b[0m\u001b[0;34m)\u001b[0m\u001b[0;34m\u001b[0m\u001b[0;34m\u001b[0m\u001b[0m\n\u001b[0m\u001b[1;32m   1600\u001b[0m             \u001b[0;32mif\u001b[0m \u001b[0mdata_handler\u001b[0m\u001b[0;34m.\u001b[0m\u001b[0mshould_sync\u001b[0m\u001b[0;34m:\u001b[0m\u001b[0;34m\u001b[0m\u001b[0;34m\u001b[0m\u001b[0m\n\u001b[1;32m   1601\u001b[0m               \u001b[0mcontext\u001b[0m\u001b[0;34m.\u001b[0m\u001b[0masync_wait\u001b[0m\u001b[0;34m(\u001b[0m\u001b[0;34m)\u001b[0m\u001b[0;34m\u001b[0m\u001b[0;34m\u001b[0m\u001b[0m\n",
      "\u001b[0;32m~/opt/anaconda3/lib/python3.7/site-packages/tensorflow/python/eager/def_function.py\u001b[0m in \u001b[0;36m__call__\u001b[0;34m(self, *args, **kwds)\u001b[0m\n\u001b[1;32m    778\u001b[0m       \u001b[0;32melse\u001b[0m\u001b[0;34m:\u001b[0m\u001b[0;34m\u001b[0m\u001b[0;34m\u001b[0m\u001b[0m\n\u001b[1;32m    779\u001b[0m         \u001b[0mcompiler\u001b[0m \u001b[0;34m=\u001b[0m \u001b[0;34m\"nonXla\"\u001b[0m\u001b[0;34m\u001b[0m\u001b[0;34m\u001b[0m\u001b[0m\n\u001b[0;32m--> 780\u001b[0;31m         \u001b[0mresult\u001b[0m \u001b[0;34m=\u001b[0m \u001b[0mself\u001b[0m\u001b[0;34m.\u001b[0m\u001b[0m_call\u001b[0m\u001b[0;34m(\u001b[0m\u001b[0;34m*\u001b[0m\u001b[0margs\u001b[0m\u001b[0;34m,\u001b[0m \u001b[0;34m**\u001b[0m\u001b[0mkwds\u001b[0m\u001b[0;34m)\u001b[0m\u001b[0;34m\u001b[0m\u001b[0;34m\u001b[0m\u001b[0m\n\u001b[0m\u001b[1;32m    781\u001b[0m \u001b[0;34m\u001b[0m\u001b[0m\n\u001b[1;32m    782\u001b[0m       \u001b[0mnew_tracing_count\u001b[0m \u001b[0;34m=\u001b[0m \u001b[0mself\u001b[0m\u001b[0;34m.\u001b[0m\u001b[0m_get_tracing_count\u001b[0m\u001b[0;34m(\u001b[0m\u001b[0;34m)\u001b[0m\u001b[0;34m\u001b[0m\u001b[0;34m\u001b[0m\u001b[0m\n",
      "\u001b[0;32m~/opt/anaconda3/lib/python3.7/site-packages/tensorflow/python/eager/def_function.py\u001b[0m in \u001b[0;36m_call\u001b[0;34m(self, *args, **kwds)\u001b[0m\n\u001b[1;32m    812\u001b[0m       \u001b[0;31m# In this case we have not created variables on the first call. So we can\u001b[0m\u001b[0;34m\u001b[0m\u001b[0;34m\u001b[0m\u001b[0;34m\u001b[0m\u001b[0m\n\u001b[1;32m    813\u001b[0m       \u001b[0;31m# run the first trace but we should fail if variables are created.\u001b[0m\u001b[0;34m\u001b[0m\u001b[0;34m\u001b[0m\u001b[0;34m\u001b[0m\u001b[0m\n\u001b[0;32m--> 814\u001b[0;31m       \u001b[0mresults\u001b[0m \u001b[0;34m=\u001b[0m \u001b[0mself\u001b[0m\u001b[0;34m.\u001b[0m\u001b[0m_stateful_fn\u001b[0m\u001b[0;34m(\u001b[0m\u001b[0;34m*\u001b[0m\u001b[0margs\u001b[0m\u001b[0;34m,\u001b[0m \u001b[0;34m**\u001b[0m\u001b[0mkwds\u001b[0m\u001b[0;34m)\u001b[0m\u001b[0;34m\u001b[0m\u001b[0;34m\u001b[0m\u001b[0m\n\u001b[0m\u001b[1;32m    815\u001b[0m       \u001b[0;32mif\u001b[0m \u001b[0mself\u001b[0m\u001b[0;34m.\u001b[0m\u001b[0m_created_variables\u001b[0m\u001b[0;34m:\u001b[0m\u001b[0;34m\u001b[0m\u001b[0;34m\u001b[0m\u001b[0m\n\u001b[1;32m    816\u001b[0m         raise ValueError(\"Creating variables on a non-first call to a function\"\n",
      "\u001b[0;32m~/opt/anaconda3/lib/python3.7/site-packages/tensorflow/python/eager/function.py\u001b[0m in \u001b[0;36m__call__\u001b[0;34m(self, *args, **kwargs)\u001b[0m\n\u001b[1;32m   2826\u001b[0m     \u001b[0;34m\"\"\"Calls a graph function specialized to the inputs.\"\"\"\u001b[0m\u001b[0;34m\u001b[0m\u001b[0;34m\u001b[0m\u001b[0m\n\u001b[1;32m   2827\u001b[0m     \u001b[0;32mwith\u001b[0m \u001b[0mself\u001b[0m\u001b[0;34m.\u001b[0m\u001b[0m_lock\u001b[0m\u001b[0;34m:\u001b[0m\u001b[0;34m\u001b[0m\u001b[0;34m\u001b[0m\u001b[0m\n\u001b[0;32m-> 2828\u001b[0;31m       \u001b[0mgraph_function\u001b[0m\u001b[0;34m,\u001b[0m \u001b[0margs\u001b[0m\u001b[0;34m,\u001b[0m \u001b[0mkwargs\u001b[0m \u001b[0;34m=\u001b[0m \u001b[0mself\u001b[0m\u001b[0;34m.\u001b[0m\u001b[0m_maybe_define_function\u001b[0m\u001b[0;34m(\u001b[0m\u001b[0margs\u001b[0m\u001b[0;34m,\u001b[0m \u001b[0mkwargs\u001b[0m\u001b[0;34m)\u001b[0m\u001b[0;34m\u001b[0m\u001b[0;34m\u001b[0m\u001b[0m\n\u001b[0m\u001b[1;32m   2829\u001b[0m     \u001b[0;32mreturn\u001b[0m \u001b[0mgraph_function\u001b[0m\u001b[0;34m.\u001b[0m\u001b[0m_filtered_call\u001b[0m\u001b[0;34m(\u001b[0m\u001b[0margs\u001b[0m\u001b[0;34m,\u001b[0m \u001b[0mkwargs\u001b[0m\u001b[0;34m)\u001b[0m  \u001b[0;31m# pylint: disable=protected-access\u001b[0m\u001b[0;34m\u001b[0m\u001b[0;34m\u001b[0m\u001b[0m\n\u001b[1;32m   2830\u001b[0m \u001b[0;34m\u001b[0m\u001b[0m\n",
      "\u001b[0;32m~/opt/anaconda3/lib/python3.7/site-packages/tensorflow/python/eager/function.py\u001b[0m in \u001b[0;36m_maybe_define_function\u001b[0;34m(self, args, kwargs)\u001b[0m\n\u001b[1;32m   3208\u001b[0m           \u001b[0;32mand\u001b[0m \u001b[0mself\u001b[0m\u001b[0;34m.\u001b[0m\u001b[0minput_signature\u001b[0m \u001b[0;32mis\u001b[0m \u001b[0;32mNone\u001b[0m\u001b[0;34m\u001b[0m\u001b[0;34m\u001b[0m\u001b[0m\n\u001b[1;32m   3209\u001b[0m           and call_context_key in self._function_cache.missed):\n\u001b[0;32m-> 3210\u001b[0;31m         \u001b[0;32mreturn\u001b[0m \u001b[0mself\u001b[0m\u001b[0;34m.\u001b[0m\u001b[0m_define_function_with_shape_relaxation\u001b[0m\u001b[0;34m(\u001b[0m\u001b[0margs\u001b[0m\u001b[0;34m,\u001b[0m \u001b[0mkwargs\u001b[0m\u001b[0;34m)\u001b[0m\u001b[0;34m\u001b[0m\u001b[0;34m\u001b[0m\u001b[0m\n\u001b[0m\u001b[1;32m   3211\u001b[0m \u001b[0;34m\u001b[0m\u001b[0m\n\u001b[1;32m   3212\u001b[0m       \u001b[0mself\u001b[0m\u001b[0;34m.\u001b[0m\u001b[0m_function_cache\u001b[0m\u001b[0;34m.\u001b[0m\u001b[0mmissed\u001b[0m\u001b[0;34m.\u001b[0m\u001b[0madd\u001b[0m\u001b[0;34m(\u001b[0m\u001b[0mcall_context_key\u001b[0m\u001b[0;34m)\u001b[0m\u001b[0;34m\u001b[0m\u001b[0;34m\u001b[0m\u001b[0m\n",
      "\u001b[0;32m~/opt/anaconda3/lib/python3.7/site-packages/tensorflow/python/eager/function.py\u001b[0m in \u001b[0;36m_define_function_with_shape_relaxation\u001b[0;34m(self, args, kwargs)\u001b[0m\n\u001b[1;32m   3140\u001b[0m \u001b[0;34m\u001b[0m\u001b[0m\n\u001b[1;32m   3141\u001b[0m     graph_function = self._create_graph_function(\n\u001b[0;32m-> 3142\u001b[0;31m         args, kwargs, override_flat_arg_shapes=relaxed_arg_shapes)\n\u001b[0m\u001b[1;32m   3143\u001b[0m     \u001b[0mself\u001b[0m\u001b[0;34m.\u001b[0m\u001b[0m_function_cache\u001b[0m\u001b[0;34m.\u001b[0m\u001b[0marg_relaxed\u001b[0m\u001b[0;34m[\u001b[0m\u001b[0mrank_only_cache_key\u001b[0m\u001b[0;34m]\u001b[0m \u001b[0;34m=\u001b[0m \u001b[0mgraph_function\u001b[0m\u001b[0;34m\u001b[0m\u001b[0;34m\u001b[0m\u001b[0m\n\u001b[1;32m   3144\u001b[0m \u001b[0;34m\u001b[0m\u001b[0m\n",
      "\u001b[0;32m~/opt/anaconda3/lib/python3.7/site-packages/tensorflow/python/eager/function.py\u001b[0m in \u001b[0;36m_create_graph_function\u001b[0;34m(self, args, kwargs, override_flat_arg_shapes)\u001b[0m\n\u001b[1;32m   3073\u001b[0m             \u001b[0marg_names\u001b[0m\u001b[0;34m=\u001b[0m\u001b[0marg_names\u001b[0m\u001b[0;34m,\u001b[0m\u001b[0;34m\u001b[0m\u001b[0;34m\u001b[0m\u001b[0m\n\u001b[1;32m   3074\u001b[0m             \u001b[0moverride_flat_arg_shapes\u001b[0m\u001b[0;34m=\u001b[0m\u001b[0moverride_flat_arg_shapes\u001b[0m\u001b[0;34m,\u001b[0m\u001b[0;34m\u001b[0m\u001b[0;34m\u001b[0m\u001b[0m\n\u001b[0;32m-> 3075\u001b[0;31m             capture_by_value=self._capture_by_value),\n\u001b[0m\u001b[1;32m   3076\u001b[0m         \u001b[0mself\u001b[0m\u001b[0;34m.\u001b[0m\u001b[0m_function_attributes\u001b[0m\u001b[0;34m,\u001b[0m\u001b[0;34m\u001b[0m\u001b[0;34m\u001b[0m\u001b[0m\n\u001b[1;32m   3077\u001b[0m         \u001b[0mfunction_spec\u001b[0m\u001b[0;34m=\u001b[0m\u001b[0mself\u001b[0m\u001b[0;34m.\u001b[0m\u001b[0mfunction_spec\u001b[0m\u001b[0;34m,\u001b[0m\u001b[0;34m\u001b[0m\u001b[0;34m\u001b[0m\u001b[0m\n",
      "\u001b[0;32m~/opt/anaconda3/lib/python3.7/site-packages/tensorflow/python/framework/func_graph.py\u001b[0m in \u001b[0;36mfunc_graph_from_py_func\u001b[0;34m(name, python_func, args, kwargs, signature, func_graph, autograph, autograph_options, add_control_dependencies, arg_names, op_return_value, collections, capture_by_value, override_flat_arg_shapes)\u001b[0m\n\u001b[1;32m    984\u001b[0m         \u001b[0m_\u001b[0m\u001b[0;34m,\u001b[0m \u001b[0moriginal_func\u001b[0m \u001b[0;34m=\u001b[0m \u001b[0mtf_decorator\u001b[0m\u001b[0;34m.\u001b[0m\u001b[0munwrap\u001b[0m\u001b[0;34m(\u001b[0m\u001b[0mpython_func\u001b[0m\u001b[0;34m)\u001b[0m\u001b[0;34m\u001b[0m\u001b[0;34m\u001b[0m\u001b[0m\n\u001b[1;32m    985\u001b[0m \u001b[0;34m\u001b[0m\u001b[0m\n\u001b[0;32m--> 986\u001b[0;31m       \u001b[0mfunc_outputs\u001b[0m \u001b[0;34m=\u001b[0m \u001b[0mpython_func\u001b[0m\u001b[0;34m(\u001b[0m\u001b[0;34m*\u001b[0m\u001b[0mfunc_args\u001b[0m\u001b[0;34m,\u001b[0m \u001b[0;34m**\u001b[0m\u001b[0mfunc_kwargs\u001b[0m\u001b[0;34m)\u001b[0m\u001b[0;34m\u001b[0m\u001b[0;34m\u001b[0m\u001b[0m\n\u001b[0m\u001b[1;32m    987\u001b[0m \u001b[0;34m\u001b[0m\u001b[0m\n\u001b[1;32m    988\u001b[0m       \u001b[0;31m# invariant: `func_outputs` contains only Tensors, CompositeTensors,\u001b[0m\u001b[0;34m\u001b[0m\u001b[0;34m\u001b[0m\u001b[0;34m\u001b[0m\u001b[0m\n",
      "\u001b[0;32m~/opt/anaconda3/lib/python3.7/site-packages/tensorflow/python/eager/def_function.py\u001b[0m in \u001b[0;36mwrapped_fn\u001b[0;34m(*args, **kwds)\u001b[0m\n\u001b[1;32m    598\u001b[0m         \u001b[0;31m# __wrapped__ allows AutoGraph to swap in a converted function. We give\u001b[0m\u001b[0;34m\u001b[0m\u001b[0;34m\u001b[0m\u001b[0;34m\u001b[0m\u001b[0m\n\u001b[1;32m    599\u001b[0m         \u001b[0;31m# the function a weak reference to itself to avoid a reference cycle.\u001b[0m\u001b[0;34m\u001b[0m\u001b[0;34m\u001b[0m\u001b[0;34m\u001b[0m\u001b[0m\n\u001b[0;32m--> 600\u001b[0;31m         \u001b[0;32mreturn\u001b[0m \u001b[0mweak_wrapped_fn\u001b[0m\u001b[0;34m(\u001b[0m\u001b[0;34m)\u001b[0m\u001b[0;34m.\u001b[0m\u001b[0m__wrapped__\u001b[0m\u001b[0;34m(\u001b[0m\u001b[0;34m*\u001b[0m\u001b[0margs\u001b[0m\u001b[0;34m,\u001b[0m \u001b[0;34m**\u001b[0m\u001b[0mkwds\u001b[0m\u001b[0;34m)\u001b[0m\u001b[0;34m\u001b[0m\u001b[0;34m\u001b[0m\u001b[0m\n\u001b[0m\u001b[1;32m    601\u001b[0m     \u001b[0mweak_wrapped_fn\u001b[0m \u001b[0;34m=\u001b[0m \u001b[0mweakref\u001b[0m\u001b[0;34m.\u001b[0m\u001b[0mref\u001b[0m\u001b[0;34m(\u001b[0m\u001b[0mwrapped_fn\u001b[0m\u001b[0;34m)\u001b[0m\u001b[0;34m\u001b[0m\u001b[0;34m\u001b[0m\u001b[0m\n\u001b[1;32m    602\u001b[0m \u001b[0;34m\u001b[0m\u001b[0m\n",
      "\u001b[0;32m~/opt/anaconda3/lib/python3.7/site-packages/tensorflow/python/framework/func_graph.py\u001b[0m in \u001b[0;36mwrapper\u001b[0;34m(*args, **kwargs)\u001b[0m\n\u001b[1;32m    971\u001b[0m           \u001b[0;32mexcept\u001b[0m \u001b[0mException\u001b[0m \u001b[0;32mas\u001b[0m \u001b[0me\u001b[0m\u001b[0;34m:\u001b[0m  \u001b[0;31m# pylint:disable=broad-except\u001b[0m\u001b[0;34m\u001b[0m\u001b[0;34m\u001b[0m\u001b[0m\n\u001b[1;32m    972\u001b[0m             \u001b[0;32mif\u001b[0m \u001b[0mhasattr\u001b[0m\u001b[0;34m(\u001b[0m\u001b[0me\u001b[0m\u001b[0;34m,\u001b[0m \u001b[0;34m\"ag_error_metadata\"\u001b[0m\u001b[0;34m)\u001b[0m\u001b[0;34m:\u001b[0m\u001b[0;34m\u001b[0m\u001b[0;34m\u001b[0m\u001b[0m\n\u001b[0;32m--> 973\u001b[0;31m               \u001b[0;32mraise\u001b[0m \u001b[0me\u001b[0m\u001b[0;34m.\u001b[0m\u001b[0mag_error_metadata\u001b[0m\u001b[0;34m.\u001b[0m\u001b[0mto_exception\u001b[0m\u001b[0;34m(\u001b[0m\u001b[0me\u001b[0m\u001b[0;34m)\u001b[0m\u001b[0;34m\u001b[0m\u001b[0;34m\u001b[0m\u001b[0m\n\u001b[0m\u001b[1;32m    974\u001b[0m             \u001b[0;32melse\u001b[0m\u001b[0;34m:\u001b[0m\u001b[0;34m\u001b[0m\u001b[0;34m\u001b[0m\u001b[0m\n\u001b[1;32m    975\u001b[0m               \u001b[0;32mraise\u001b[0m\u001b[0;34m\u001b[0m\u001b[0;34m\u001b[0m\u001b[0m\n",
      "\u001b[0;31mValueError\u001b[0m: in user code:\n\n    /Users/henrymacbook/opt/anaconda3/lib/python3.7/site-packages/tensorflow/python/keras/engine/training.py:1462 predict_function  *\n        return step_function(self, iterator)\n    /Users/henrymacbook/opt/anaconda3/lib/python3.7/site-packages/tensorflow/python/keras/engine/training.py:1452 step_function  **\n        outputs = model.distribute_strategy.run(run_step, args=(data,))\n    /Users/henrymacbook/opt/anaconda3/lib/python3.7/site-packages/tensorflow/python/distribute/distribute_lib.py:1211 run\n        return self._extended.call_for_each_replica(fn, args=args, kwargs=kwargs)\n    /Users/henrymacbook/opt/anaconda3/lib/python3.7/site-packages/tensorflow/python/distribute/distribute_lib.py:2585 call_for_each_replica\n        return self._call_for_each_replica(fn, args, kwargs)\n    /Users/henrymacbook/opt/anaconda3/lib/python3.7/site-packages/tensorflow/python/distribute/distribute_lib.py:2945 _call_for_each_replica\n        return fn(*args, **kwargs)\n    /Users/henrymacbook/opt/anaconda3/lib/python3.7/site-packages/tensorflow/python/keras/engine/training.py:1445 run_step  **\n        outputs = model.predict_step(data)\n    /Users/henrymacbook/opt/anaconda3/lib/python3.7/site-packages/tensorflow/python/keras/engine/training.py:1418 predict_step\n        return self(x, training=False)\n    /Users/henrymacbook/opt/anaconda3/lib/python3.7/site-packages/tensorflow/python/keras/engine/base_layer.py:976 __call__\n        self.name)\n    /Users/henrymacbook/opt/anaconda3/lib/python3.7/site-packages/tensorflow/python/keras/engine/input_spec.py:196 assert_input_compatibility\n        str(x.shape.as_list()))\n\n    ValueError: Input 0 of layer sequential_2 is incompatible with the layer: : expected min_ndim=4, found ndim=3. Full shape received: [None, 249, 3]\n"
     ]
    }
   ],
   "source": [
    "model.predict_proba(X_prod[0,:,:,:])"
   ]
  },
  {
   "cell_type": "code",
   "execution_count": 144,
   "metadata": {},
   "outputs": [],
   "source": [
    "# Create label encoder for production tests\n",
    "list_labels_class_1_prod = ['1']*production_size \n",
    "list_labels_class_2_prod = ['2']*production_size \n",
    "list_labels_class_3_prod = ['3']*production_size \n",
    "list_labels_prod = (list_labels_class_1_prod + list_labels_class_2_prod + list_labels_class_3_prod)\n",
    "\n",
    "le = preprocessing.LabelEncoder()\n",
    "list_labels_encoded_prod = le.fit_transform(list_labels_prod)"
   ]
  },
  {
   "cell_type": "code",
   "execution_count": 145,
   "metadata": {},
   "outputs": [
    {
     "name": "stdout",
     "output_type": "stream",
     "text": [
      "10/10 [==============================] - 5s 512ms/step - loss: 0.8035 - sparse_categorical_accuracy: 0.7300\n"
     ]
    },
    {
     "data": {
      "text/plain": [
       "[0.8034822344779968, 0.7300000190734863]"
      ]
     },
     "execution_count": 145,
     "metadata": {},
     "output_type": "execute_result"
    }
   ],
   "source": [
    "model.evaluate(X_prod, list_labels_encoded_prod)"
   ]
  },
  {
   "cell_type": "code",
   "execution_count": null,
   "metadata": {},
   "outputs": [],
   "source": []
  }
 ],
 "metadata": {
  "kernelspec": {
   "display_name": "Python 3",
   "language": "python",
   "name": "python3"
  },
  "language_info": {
   "codemirror_mode": {
    "name": "ipython",
    "version": 3
   },
   "file_extension": ".py",
   "mimetype": "text/x-python",
   "name": "python",
   "nbconvert_exporter": "python",
   "pygments_lexer": "ipython3",
   "version": "3.7.9"
  }
 },
 "nbformat": 4,
 "nbformat_minor": 4
}
