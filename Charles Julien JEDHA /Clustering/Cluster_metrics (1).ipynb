{
  "nbformat": 4,
  "nbformat_minor": 0,
  "metadata": {
    "colab": {
      "name": "Cluster metrics.ipynb",
      "provenance": []
    },
    "kernelspec": {
      "name": "python3",
      "display_name": "Python 3"
    },
    "accelerator": "GPU"
  },
  "cells": [
    {
      "cell_type": "code",
      "metadata": {
        "id": "fv8fyhbEDLvR",
        "colab_type": "code",
        "colab": {}
      },
      "source": [
        "import pandas as pd"
      ],
      "execution_count": 0,
      "outputs": []
    },
    {
      "cell_type": "markdown",
      "metadata": {
        "id": "HDzCnGzvnSGK",
        "colab_type": "text"
      },
      "source": [
        "# Def\n"
      ]
    },
    {
      "cell_type": "code",
      "metadata": {
        "id": "B0SVjjrbFnq_",
        "colab_type": "code",
        "colab": {}
      },
      "source": [
        "df_cluster0 = pd.read_csv(\"df_cluster0 (1).csv\")\n",
        "df_cluster1 = pd.read_csv(\"df_cluster1 (1).csv\")\n",
        "df_cluster2 = pd.read_csv(\"df_cluster2 (1).csv\")"
      ],
      "execution_count": 0,
      "outputs": []
    },
    {
      "cell_type": "code",
      "metadata": {
        "id": "OOxFjlrFF4BL",
        "colab_type": "code",
        "colab": {}
      },
      "source": [
        "df_cluster0_v2 = pd.read_csv(\"df_cluster0_v2 (1).csv\")\n",
        "df_cluster1_v2 = pd.read_csv(\"df_cluster1_v2 (1).csv\")\n",
        "df_cluster2_v2 = pd.read_csv(\"df_cluster2_v2 (1).csv\")"
      ],
      "execution_count": 0,
      "outputs": []
    },
    {
      "cell_type": "code",
      "metadata": {
        "id": "vPqlv-T1F3ol",
        "colab_type": "code",
        "colab": {}
      },
      "source": [
        "df_label = pd.read_csv(\"xqrs_v2_cleaned.csv\")"
      ],
      "execution_count": 0,
      "outputs": []
    },
    {
      "cell_type": "code",
      "metadata": {
        "id": "259iEGeCJ2kx",
        "colab_type": "code",
        "colab": {}
      },
      "source": [
        "s_0 = pd.Series(df_cluster0['Patient'])"
      ],
      "execution_count": 0,
      "outputs": []
    },
    {
      "cell_type": "code",
      "metadata": {
        "id": "cYHRN1jSMacx",
        "colab_type": "code",
        "colab": {}
      },
      "source": [
        "l_0 = s_0.values.tolist()"
      ],
      "execution_count": 0,
      "outputs": []
    },
    {
      "cell_type": "code",
      "metadata": {
        "id": "2TP7XnNjkyaJ",
        "colab_type": "code",
        "outputId": "15575bba-c5b1-444d-894b-5547347ef21f",
        "colab": {
          "base_uri": "https://localhost:8080/",
          "height": 34
        }
      },
      "source": [
        "len(l_0)"
      ],
      "execution_count": 0,
      "outputs": [
        {
          "output_type": "execute_result",
          "data": {
            "text/plain": [
              "64"
            ]
          },
          "metadata": {
            "tags": []
          },
          "execution_count": 17
        }
      ]
    },
    {
      "cell_type": "code",
      "metadata": {
        "id": "YM16rn8jMkA9",
        "colab_type": "code",
        "colab": {}
      },
      "source": [
        "s_1 = pd.Series(df_cluster1['Patient'])"
      ],
      "execution_count": 0,
      "outputs": []
    },
    {
      "cell_type": "code",
      "metadata": {
        "id": "jbcKMc71NEnD",
        "colab_type": "code",
        "colab": {}
      },
      "source": [
        "l_1 = s_1.values.tolist()"
      ],
      "execution_count": 0,
      "outputs": []
    },
    {
      "cell_type": "code",
      "metadata": {
        "id": "8jQp47YJk1X4",
        "colab_type": "code",
        "outputId": "5ed20340-a968-4646-9916-5d35f2b2469f",
        "colab": {
          "base_uri": "https://localhost:8080/",
          "height": 34
        }
      },
      "source": [
        "len(l_1)"
      ],
      "execution_count": 0,
      "outputs": [
        {
          "output_type": "execute_result",
          "data": {
            "text/plain": [
              "302"
            ]
          },
          "metadata": {
            "tags": []
          },
          "execution_count": 18
        }
      ]
    },
    {
      "cell_type": "code",
      "metadata": {
        "id": "mlQWjnDtNvn8",
        "colab_type": "code",
        "colab": {}
      },
      "source": [
        "s_2 = pd.Series(df_cluster2['Patient'])"
      ],
      "execution_count": 0,
      "outputs": []
    },
    {
      "cell_type": "code",
      "metadata": {
        "id": "dGW_2PB2N0On",
        "colab_type": "code",
        "colab": {}
      },
      "source": [
        "l_2 = s_2.values.tolist()"
      ],
      "execution_count": 0,
      "outputs": []
    },
    {
      "cell_type": "code",
      "metadata": {
        "id": "pGH4-PxMk3l6",
        "colab_type": "code",
        "outputId": "ff2b83ce-e955-4b17-d998-c80c2c6cb65f",
        "colab": {
          "base_uri": "https://localhost:8080/",
          "height": 34
        }
      },
      "source": [
        "len(l_2)"
      ],
      "execution_count": 0,
      "outputs": [
        {
          "output_type": "execute_result",
          "data": {
            "text/plain": [
              "237"
            ]
          },
          "metadata": {
            "tags": []
          },
          "execution_count": 19
        }
      ]
    },
    {
      "cell_type": "code",
      "metadata": {
        "id": "YQn3vAXrN4D4",
        "colab_type": "code",
        "colab": {}
      },
      "source": [
        "s_0_v2 = pd.Series(df_cluster0_v2['Patient'])"
      ],
      "execution_count": 0,
      "outputs": []
    },
    {
      "cell_type": "code",
      "metadata": {
        "id": "ompMBkv8N--f",
        "colab_type": "code",
        "colab": {}
      },
      "source": [
        "l_0_v2 = s_0_v2.values.tolist()"
      ],
      "execution_count": 0,
      "outputs": []
    },
    {
      "cell_type": "code",
      "metadata": {
        "id": "rW0ibb3uk5v0",
        "colab_type": "code",
        "outputId": "940549aa-ddf4-4498-9413-a61747cd1690",
        "colab": {
          "base_uri": "https://localhost:8080/",
          "height": 34
        }
      },
      "source": [
        "len(l_0_v2)"
      ],
      "execution_count": 0,
      "outputs": [
        {
          "output_type": "execute_result",
          "data": {
            "text/plain": [
              "302"
            ]
          },
          "metadata": {
            "tags": []
          },
          "execution_count": 20
        }
      ]
    },
    {
      "cell_type": "code",
      "metadata": {
        "id": "yepPy8miOGEA",
        "colab_type": "code",
        "colab": {}
      },
      "source": [
        "s_1_v2 = pd.Series(df_cluster1_v2['Patient'])"
      ],
      "execution_count": 0,
      "outputs": []
    },
    {
      "cell_type": "code",
      "metadata": {
        "id": "VfRv1hXFOJU9",
        "colab_type": "code",
        "colab": {}
      },
      "source": [
        "l_1_v2 = s_1_v2.values.tolist()"
      ],
      "execution_count": 0,
      "outputs": []
    },
    {
      "cell_type": "code",
      "metadata": {
        "id": "ir_6xBBSk-Zb",
        "colab_type": "code",
        "outputId": "919f89f0-e15a-4028-c6c7-65be29272845",
        "colab": {
          "base_uri": "https://localhost:8080/",
          "height": 34
        }
      },
      "source": [
        "len(l_1_v2)"
      ],
      "execution_count": 0,
      "outputs": [
        {
          "output_type": "execute_result",
          "data": {
            "text/plain": [
              "205"
            ]
          },
          "metadata": {
            "tags": []
          },
          "execution_count": 21
        }
      ]
    },
    {
      "cell_type": "code",
      "metadata": {
        "id": "7myew68uOMo_",
        "colab_type": "code",
        "colab": {}
      },
      "source": [
        "s_2_v2 = pd.Series(df_cluster2_v2['Patient'])"
      ],
      "execution_count": 0,
      "outputs": []
    },
    {
      "cell_type": "code",
      "metadata": {
        "id": "QVRdw5HWOQYe",
        "colab_type": "code",
        "colab": {}
      },
      "source": [
        "l_2_v2 = s_2_v2.values.tolist()"
      ],
      "execution_count": 0,
      "outputs": []
    },
    {
      "cell_type": "code",
      "metadata": {
        "id": "AedlTUaDlDEU",
        "colab_type": "code",
        "outputId": "52474169-d4ee-472c-f4a8-4cc6f73c5e76",
        "colab": {
          "base_uri": "https://localhost:8080/",
          "height": 34
        }
      },
      "source": [
        "len(l_2_v2)"
      ],
      "execution_count": 0,
      "outputs": [
        {
          "output_type": "execute_result",
          "data": {
            "text/plain": [
              "96"
            ]
          },
          "metadata": {
            "tags": []
          },
          "execution_count": 22
        }
      ]
    },
    {
      "cell_type": "code",
      "metadata": {
        "id": "vSQ4eIEYO-hS",
        "colab_type": "code",
        "colab": {}
      },
      "source": [
        "df_age_gender_by_patient = pd.read_csv(\"age_gender_by_patient.csv\")"
      ],
      "execution_count": 0,
      "outputs": []
    },
    {
      "cell_type": "code",
      "metadata": {
        "id": "Fxmt-KgbPNIv",
        "colab_type": "code",
        "outputId": "fee6b05f-7ba3-4b20-ae8e-b84dad00fb9a",
        "colab": {
          "base_uri": "https://localhost:8080/",
          "height": 419
        }
      },
      "source": [
        "df_age_gender_by_patient"
      ],
      "execution_count": 0,
      "outputs": [
        {
          "output_type": "execute_result",
          "data": {
            "text/html": [
              "<div>\n",
              "<style scoped>\n",
              "    .dataframe tbody tr th:only-of-type {\n",
              "        vertical-align: middle;\n",
              "    }\n",
              "\n",
              "    .dataframe tbody tr th {\n",
              "        vertical-align: top;\n",
              "    }\n",
              "\n",
              "    .dataframe thead th {\n",
              "        text-align: right;\n",
              "    }\n",
              "</style>\n",
              "<table border=\"1\" class=\"dataframe\">\n",
              "  <thead>\n",
              "    <tr style=\"text-align: right;\">\n",
              "      <th></th>\n",
              "      <th>Patient</th>\n",
              "      <th>Age</th>\n",
              "      <th>path</th>\n",
              "      <th>Genre</th>\n",
              "    </tr>\n",
              "  </thead>\n",
              "  <tbody>\n",
              "    <tr>\n",
              "      <th>0</th>\n",
              "      <td>1027</td>\n",
              "      <td>50.0</td>\n",
              "      <td>/home/zozi/Downloads/info-patients-v0_4/edf/de...</td>\n",
              "      <td>male</td>\n",
              "    </tr>\n",
              "    <tr>\n",
              "      <th>1</th>\n",
              "      <td>3635</td>\n",
              "      <td>6.0</td>\n",
              "      <td>/home/zozi/Downloads/info-patients-v0_4/edf/de...</td>\n",
              "      <td>male</td>\n",
              "    </tr>\n",
              "    <tr>\n",
              "      <th>2</th>\n",
              "      <td>795</td>\n",
              "      <td>27.0</td>\n",
              "      <td>/home/zozi/Downloads/info-patients-v0_4/edf/de...</td>\n",
              "      <td>male</td>\n",
              "    </tr>\n",
              "    <tr>\n",
              "      <th>3</th>\n",
              "      <td>3306</td>\n",
              "      <td>13.0</td>\n",
              "      <td>/home/zozi/Downloads/info-patients-v0_4/edf/de...</td>\n",
              "      <td>female</td>\n",
              "    </tr>\n",
              "    <tr>\n",
              "      <th>4</th>\n",
              "      <td>4671</td>\n",
              "      <td>22.0</td>\n",
              "      <td>/home/zozi/Downloads/info-patients-v0_4/edf/de...</td>\n",
              "      <td>gentleman</td>\n",
              "    </tr>\n",
              "    <tr>\n",
              "      <th>...</th>\n",
              "      <td>...</td>\n",
              "      <td>...</td>\n",
              "      <td>...</td>\n",
              "      <td>...</td>\n",
              "    </tr>\n",
              "    <tr>\n",
              "      <th>549</th>\n",
              "      <td>8859</td>\n",
              "      <td>29.0</td>\n",
              "      <td>/home/zozi/Downloads/info-patients-v0_4/edf/tr...</td>\n",
              "      <td>woman</td>\n",
              "    </tr>\n",
              "    <tr>\n",
              "      <th>550</th>\n",
              "      <td>8829</td>\n",
              "      <td>48.0</td>\n",
              "      <td>/home/zozi/Downloads/info-patients-v0_4/edf/tr...</td>\n",
              "      <td>female</td>\n",
              "    </tr>\n",
              "    <tr>\n",
              "      <th>551</th>\n",
              "      <td>8835</td>\n",
              "      <td>21.0</td>\n",
              "      <td>/home/zozi/Downloads/info-patients-v0_4/edf/tr...</td>\n",
              "      <td>female</td>\n",
              "    </tr>\n",
              "    <tr>\n",
              "      <th>552</th>\n",
              "      <td>8886</td>\n",
              "      <td>81.0</td>\n",
              "      <td>/home/zozi/Downloads/info-patients-v0_4/edf/tr...</td>\n",
              "      <td>female</td>\n",
              "    </tr>\n",
              "    <tr>\n",
              "      <th>553</th>\n",
              "      <td>5936</td>\n",
              "      <td>43.0</td>\n",
              "      <td>/home/zozi/Downloads/info-patients-v0_4/edf/tr...</td>\n",
              "      <td>woman</td>\n",
              "    </tr>\n",
              "  </tbody>\n",
              "</table>\n",
              "<p>554 rows × 4 columns</p>\n",
              "</div>"
            ],
            "text/plain": [
              "     Patient  ...      Genre\n",
              "0       1027  ...       male\n",
              "1       3635  ...       male\n",
              "2        795  ...       male\n",
              "3       3306  ...     female\n",
              "4       4671  ...  gentleman\n",
              "..       ...  ...        ...\n",
              "549     8859  ...      woman\n",
              "550     8829  ...     female\n",
              "551     8835  ...     female\n",
              "552     8886  ...     female\n",
              "553     5936  ...      woman\n",
              "\n",
              "[554 rows x 4 columns]"
            ]
          },
          "metadata": {
            "tags": []
          },
          "execution_count": 20
        }
      ]
    },
    {
      "cell_type": "markdown",
      "metadata": {
        "id": "nhcM2wS5crpp",
        "colab_type": "text"
      },
      "source": [
        "# Cluster 0\n"
      ]
    },
    {
      "cell_type": "code",
      "metadata": {
        "id": "QQgU3UzHPQZ3",
        "colab_type": "code",
        "colab": {}
      },
      "source": [
        "df_work_0 = df_age_gender_by_patient[df_age_gender_by_patient['Patient'].isin(l_0)]"
      ],
      "execution_count": 0,
      "outputs": []
    },
    {
      "cell_type": "code",
      "metadata": {
        "id": "qJIf3qq5P0Gf",
        "colab_type": "code",
        "outputId": "31724095-a8fb-40d2-d6ba-0be832d734a2",
        "colab": {
          "base_uri": "https://localhost:8080/",
          "height": 1000
        }
      },
      "source": [
        "df_work_0"
      ],
      "execution_count": 0,
      "outputs": [
        {
          "output_type": "execute_result",
          "data": {
            "text/html": [
              "<div>\n",
              "<style scoped>\n",
              "    .dataframe tbody tr th:only-of-type {\n",
              "        vertical-align: middle;\n",
              "    }\n",
              "\n",
              "    .dataframe tbody tr th {\n",
              "        vertical-align: top;\n",
              "    }\n",
              "\n",
              "    .dataframe thead th {\n",
              "        text-align: right;\n",
              "    }\n",
              "</style>\n",
              "<table border=\"1\" class=\"dataframe\">\n",
              "  <thead>\n",
              "    <tr style=\"text-align: right;\">\n",
              "      <th></th>\n",
              "      <th>Patient</th>\n",
              "      <th>Age</th>\n",
              "      <th>path</th>\n",
              "      <th>Genre</th>\n",
              "    </tr>\n",
              "  </thead>\n",
              "  <tbody>\n",
              "    <tr>\n",
              "      <th>8</th>\n",
              "      <td>2297</td>\n",
              "      <td>66.0</td>\n",
              "      <td>/home/zozi/Downloads/info-patients-v0_4/edf/de...</td>\n",
              "      <td>woman</td>\n",
              "    </tr>\n",
              "    <tr>\n",
              "      <th>14</th>\n",
              "      <td>1984</td>\n",
              "      <td>6.0</td>\n",
              "      <td>/home/zozi/Downloads/info-patients-v0_4/edf/de...</td>\n",
              "      <td>male</td>\n",
              "    </tr>\n",
              "    <tr>\n",
              "      <th>16</th>\n",
              "      <td>4087</td>\n",
              "      <td>24.0</td>\n",
              "      <td>/home/zozi/Downloads/info-patients-v0_4/edf/de...</td>\n",
              "      <td>woman</td>\n",
              "    </tr>\n",
              "    <tr>\n",
              "      <th>27</th>\n",
              "      <td>8512</td>\n",
              "      <td>60.0</td>\n",
              "      <td>/home/zozi/Downloads/info-patients-v0_4/edf/de...</td>\n",
              "      <td>male</td>\n",
              "    </tr>\n",
              "    <tr>\n",
              "      <th>37</th>\n",
              "      <td>10062</td>\n",
              "      <td>39.0</td>\n",
              "      <td>/home/zozi/Downloads/info-patients-v0_4/edf/de...</td>\n",
              "      <td>woman</td>\n",
              "    </tr>\n",
              "    <tr>\n",
              "      <th>41</th>\n",
              "      <td>8479</td>\n",
              "      <td>49.0</td>\n",
              "      <td>/home/zozi/Downloads/info-patients-v0_4/edf/de...</td>\n",
              "      <td>male</td>\n",
              "    </tr>\n",
              "    <tr>\n",
              "      <th>43</th>\n",
              "      <td>10639</td>\n",
              "      <td>61.0</td>\n",
              "      <td>/home/zozi/Downloads/info-patients-v0_4/edf/de...</td>\n",
              "      <td>woman</td>\n",
              "    </tr>\n",
              "    <tr>\n",
              "      <th>54</th>\n",
              "      <td>6351</td>\n",
              "      <td>75.0</td>\n",
              "      <td>/home/zozi/Downloads/info-patients-v0_4/edf/tr...</td>\n",
              "      <td>woman</td>\n",
              "    </tr>\n",
              "    <tr>\n",
              "      <th>57</th>\n",
              "      <td>1843</td>\n",
              "      <td>25.0</td>\n",
              "      <td>/home/zozi/Downloads/info-patients-v0_4/edf/tr...</td>\n",
              "      <td>male</td>\n",
              "    </tr>\n",
              "    <tr>\n",
              "      <th>64</th>\n",
              "      <td>3849</td>\n",
              "      <td>40.0</td>\n",
              "      <td>/home/zozi/Downloads/info-patients-v0_4/edf/tr...</td>\n",
              "      <td>woman</td>\n",
              "    </tr>\n",
              "    <tr>\n",
              "      <th>71</th>\n",
              "      <td>1169</td>\n",
              "      <td>68.0</td>\n",
              "      <td>/home/zozi/Downloads/info-patients-v0_4/edf/tr...</td>\n",
              "      <td>male</td>\n",
              "    </tr>\n",
              "    <tr>\n",
              "      <th>75</th>\n",
              "      <td>6904</td>\n",
              "      <td>52.0</td>\n",
              "      <td>/home/zozi/Downloads/info-patients-v0_4/edf/tr...</td>\n",
              "      <td>male</td>\n",
              "    </tr>\n",
              "    <tr>\n",
              "      <th>80</th>\n",
              "      <td>5554</td>\n",
              "      <td>75.0</td>\n",
              "      <td>/home/zozi/Downloads/info-patients-v0_4/edf/tr...</td>\n",
              "      <td>woman</td>\n",
              "    </tr>\n",
              "    <tr>\n",
              "      <th>83</th>\n",
              "      <td>4208</td>\n",
              "      <td>89.0</td>\n",
              "      <td>/home/zozi/Downloads/info-patients-v0_4/edf/tr...</td>\n",
              "      <td>NaN</td>\n",
              "    </tr>\n",
              "    <tr>\n",
              "      <th>93</th>\n",
              "      <td>5804</td>\n",
              "      <td>53.0</td>\n",
              "      <td>/home/zozi/Downloads/info-patients-v0_4/edf/tr...</td>\n",
              "      <td>male</td>\n",
              "    </tr>\n",
              "    <tr>\n",
              "      <th>102</th>\n",
              "      <td>2614</td>\n",
              "      <td>61.0</td>\n",
              "      <td>/home/zozi/Downloads/info-patients-v0_4/edf/tr...</td>\n",
              "      <td>male</td>\n",
              "    </tr>\n",
              "    <tr>\n",
              "      <th>137</th>\n",
              "      <td>2232</td>\n",
              "      <td>9.0</td>\n",
              "      <td>/home/zozi/Downloads/info-patients-v0_4/edf/tr...</td>\n",
              "      <td>NaN</td>\n",
              "    </tr>\n",
              "    <tr>\n",
              "      <th>153</th>\n",
              "      <td>1357</td>\n",
              "      <td>46.0</td>\n",
              "      <td>/home/zozi/Downloads/info-patients-v0_4/edf/tr...</td>\n",
              "      <td>male</td>\n",
              "    </tr>\n",
              "    <tr>\n",
              "      <th>173</th>\n",
              "      <td>2807</td>\n",
              "      <td>77.0</td>\n",
              "      <td>/home/zozi/Downloads/info-patients-v0_4/edf/tr...</td>\n",
              "      <td>male</td>\n",
              "    </tr>\n",
              "    <tr>\n",
              "      <th>175</th>\n",
              "      <td>3546</td>\n",
              "      <td>5.0</td>\n",
              "      <td>/home/zozi/Downloads/info-patients-v0_4/edf/tr...</td>\n",
              "      <td>male</td>\n",
              "    </tr>\n",
              "    <tr>\n",
              "      <th>179</th>\n",
              "      <td>2796</td>\n",
              "      <td>2.0</td>\n",
              "      <td>/home/zozi/Downloads/info-patients-v0_4/edf/tr...</td>\n",
              "      <td>male</td>\n",
              "    </tr>\n",
              "    <tr>\n",
              "      <th>196</th>\n",
              "      <td>5347</td>\n",
              "      <td>29.0</td>\n",
              "      <td>/home/zozi/Downloads/info-patients-v0_4/edf/tr...</td>\n",
              "      <td>gentleman</td>\n",
              "    </tr>\n",
              "    <tr>\n",
              "      <th>198</th>\n",
              "      <td>5323</td>\n",
              "      <td>81.0</td>\n",
              "      <td>/home/zozi/Downloads/info-patients-v0_4/edf/tr...</td>\n",
              "      <td>gentleman</td>\n",
              "    </tr>\n",
              "    <tr>\n",
              "      <th>223</th>\n",
              "      <td>6482</td>\n",
              "      <td>30.0</td>\n",
              "      <td>/home/zozi/Downloads/info-patients-v0_4/edf/tr...</td>\n",
              "      <td>male</td>\n",
              "    </tr>\n",
              "    <tr>\n",
              "      <th>233</th>\n",
              "      <td>143</td>\n",
              "      <td>81.0</td>\n",
              "      <td>/home/zozi/Downloads/info-patients-v0_4/edf/tr...</td>\n",
              "      <td>gentleman</td>\n",
              "    </tr>\n",
              "    <tr>\n",
              "      <th>244</th>\n",
              "      <td>32</td>\n",
              "      <td>23.0</td>\n",
              "      <td>/home/zozi/Downloads/info-patients-v0_4/edf/tr...</td>\n",
              "      <td>male</td>\n",
              "    </tr>\n",
              "    <tr>\n",
              "      <th>281</th>\n",
              "      <td>5426</td>\n",
              "      <td>59.0</td>\n",
              "      <td>/home/zozi/Downloads/info-patients-v0_4/edf/tr...</td>\n",
              "      <td>male</td>\n",
              "    </tr>\n",
              "    <tr>\n",
              "      <th>309</th>\n",
              "      <td>12957</td>\n",
              "      <td>76.0</td>\n",
              "      <td>/home/zozi/Downloads/info-patients-v0_4/edf/tr...</td>\n",
              "      <td>woman</td>\n",
              "    </tr>\n",
              "    <tr>\n",
              "      <th>315</th>\n",
              "      <td>6107</td>\n",
              "      <td>89.0</td>\n",
              "      <td>/home/zozi/Downloads/info-patients-v0_4/edf/tr...</td>\n",
              "      <td>gentleman</td>\n",
              "    </tr>\n",
              "    <tr>\n",
              "      <th>319</th>\n",
              "      <td>12262</td>\n",
              "      <td>74.0</td>\n",
              "      <td>/home/zozi/Downloads/info-patients-v0_4/edf/tr...</td>\n",
              "      <td>woman</td>\n",
              "    </tr>\n",
              "    <tr>\n",
              "      <th>367</th>\n",
              "      <td>11974</td>\n",
              "      <td>39.0</td>\n",
              "      <td>/home/zozi/Downloads/info-patients-v0_4/edf/tr...</td>\n",
              "      <td>woman</td>\n",
              "    </tr>\n",
              "    <tr>\n",
              "      <th>375</th>\n",
              "      <td>9097</td>\n",
              "      <td>30.0</td>\n",
              "      <td>/home/zozi/Downloads/info-patients-v0_4/edf/tr...</td>\n",
              "      <td>man</td>\n",
              "    </tr>\n",
              "    <tr>\n",
              "      <th>376</th>\n",
              "      <td>9044</td>\n",
              "      <td>19.0</td>\n",
              "      <td>/home/zozi/Downloads/info-patients-v0_4/edf/tr...</td>\n",
              "      <td>male</td>\n",
              "    </tr>\n",
              "    <tr>\n",
              "      <th>377</th>\n",
              "      <td>9050</td>\n",
              "      <td>61.0</td>\n",
              "      <td>/home/zozi/Downloads/info-patients-v0_4/edf/tr...</td>\n",
              "      <td>male</td>\n",
              "    </tr>\n",
              "    <tr>\n",
              "      <th>394</th>\n",
              "      <td>10480</td>\n",
              "      <td>49.0</td>\n",
              "      <td>/home/zozi/Downloads/info-patients-v0_4/edf/tr...</td>\n",
              "      <td>woman</td>\n",
              "    </tr>\n",
              "    <tr>\n",
              "      <th>395</th>\n",
              "      <td>9347</td>\n",
              "      <td>20.0</td>\n",
              "      <td>/home/zozi/Downloads/info-patients-v0_4/edf/tr...</td>\n",
              "      <td>female</td>\n",
              "    </tr>\n",
              "    <tr>\n",
              "      <th>405</th>\n",
              "      <td>11454</td>\n",
              "      <td>51.0</td>\n",
              "      <td>/home/zozi/Downloads/info-patients-v0_4/edf/tr...</td>\n",
              "      <td>woman</td>\n",
              "    </tr>\n",
              "    <tr>\n",
              "      <th>412</th>\n",
              "      <td>6236</td>\n",
              "      <td>65.0</td>\n",
              "      <td>/home/zozi/Downloads/info-patients-v0_4/edf/tr...</td>\n",
              "      <td>man</td>\n",
              "    </tr>\n",
              "    <tr>\n",
              "      <th>425</th>\n",
              "      <td>5740</td>\n",
              "      <td>64.0</td>\n",
              "      <td>/home/zozi/Downloads/info-patients-v0_4/edf/tr...</td>\n",
              "      <td>woman</td>\n",
              "    </tr>\n",
              "    <tr>\n",
              "      <th>428</th>\n",
              "      <td>8345</td>\n",
              "      <td>NaN</td>\n",
              "      <td>/home/zozi/Downloads/info-patients-v0_4/edf/tr...</td>\n",
              "      <td>NaN</td>\n",
              "    </tr>\n",
              "    <tr>\n",
              "      <th>433</th>\n",
              "      <td>9694</td>\n",
              "      <td>87.0</td>\n",
              "      <td>/home/zozi/Downloads/info-patients-v0_4/edf/tr...</td>\n",
              "      <td>man</td>\n",
              "    </tr>\n",
              "    <tr>\n",
              "      <th>437</th>\n",
              "      <td>12229</td>\n",
              "      <td>NaN</td>\n",
              "      <td>/home/zozi/Downloads/info-patients-v0_4/edf/tr...</td>\n",
              "      <td>woman</td>\n",
              "    </tr>\n",
              "    <tr>\n",
              "      <th>438</th>\n",
              "      <td>12218</td>\n",
              "      <td>23.0</td>\n",
              "      <td>/home/zozi/Downloads/info-patients-v0_4/edf/tr...</td>\n",
              "      <td>male</td>\n",
              "    </tr>\n",
              "    <tr>\n",
              "      <th>455</th>\n",
              "      <td>8643</td>\n",
              "      <td>43.0</td>\n",
              "      <td>/home/zozi/Downloads/info-patients-v0_4/edf/tr...</td>\n",
              "      <td>male</td>\n",
              "    </tr>\n",
              "    <tr>\n",
              "      <th>456</th>\n",
              "      <td>8616</td>\n",
              "      <td>78.0</td>\n",
              "      <td>/home/zozi/Downloads/info-patients-v0_4/edf/tr...</td>\n",
              "      <td>woman</td>\n",
              "    </tr>\n",
              "    <tr>\n",
              "      <th>463</th>\n",
              "      <td>11379</td>\n",
              "      <td>60.0</td>\n",
              "      <td>/home/zozi/Downloads/info-patients-v0_4/edf/tr...</td>\n",
              "      <td>NaN</td>\n",
              "    </tr>\n",
              "    <tr>\n",
              "      <th>470</th>\n",
              "      <td>8100</td>\n",
              "      <td>69.0</td>\n",
              "      <td>/home/zozi/Downloads/info-patients-v0_4/edf/tr...</td>\n",
              "      <td>female</td>\n",
              "    </tr>\n",
              "    <tr>\n",
              "      <th>483</th>\n",
              "      <td>6563</td>\n",
              "      <td>55.0</td>\n",
              "      <td>/home/zozi/Downloads/info-patients-v0_4/edf/tr...</td>\n",
              "      <td>female</td>\n",
              "    </tr>\n",
              "    <tr>\n",
              "      <th>485</th>\n",
              "      <td>7038</td>\n",
              "      <td>65.0</td>\n",
              "      <td>/home/zozi/Downloads/info-patients-v0_4/edf/tr...</td>\n",
              "      <td>woman</td>\n",
              "    </tr>\n",
              "    <tr>\n",
              "      <th>486</th>\n",
              "      <td>7095</td>\n",
              "      <td>52.0</td>\n",
              "      <td>/home/zozi/Downloads/info-patients-v0_4/edf/tr...</td>\n",
              "      <td>male</td>\n",
              "    </tr>\n",
              "    <tr>\n",
              "      <th>497</th>\n",
              "      <td>10020</td>\n",
              "      <td>70.0</td>\n",
              "      <td>/home/zozi/Downloads/info-patients-v0_4/edf/tr...</td>\n",
              "      <td>female</td>\n",
              "    </tr>\n",
              "    <tr>\n",
              "      <th>517</th>\n",
              "      <td>10551</td>\n",
              "      <td>81.0</td>\n",
              "      <td>/home/zozi/Downloads/info-patients-v0_4/edf/tr...</td>\n",
              "      <td>woman</td>\n",
              "    </tr>\n",
              "    <tr>\n",
              "      <th>521</th>\n",
              "      <td>10584</td>\n",
              "      <td>NaN</td>\n",
              "      <td>/home/zozi/Downloads/info-patients-v0_4/edf/tr...</td>\n",
              "      <td>female</td>\n",
              "    </tr>\n",
              "    <tr>\n",
              "      <th>526</th>\n",
              "      <td>10201</td>\n",
              "      <td>77.0</td>\n",
              "      <td>/home/zozi/Downloads/info-patients-v0_4/edf/tr...</td>\n",
              "      <td>woman</td>\n",
              "    </tr>\n",
              "    <tr>\n",
              "      <th>541</th>\n",
              "      <td>9880</td>\n",
              "      <td>80.0</td>\n",
              "      <td>/home/zozi/Downloads/info-patients-v0_4/edf/tr...</td>\n",
              "      <td>woman</td>\n",
              "    </tr>\n",
              "    <tr>\n",
              "      <th>543</th>\n",
              "      <td>9854</td>\n",
              "      <td>77.0</td>\n",
              "      <td>/home/zozi/Downloads/info-patients-v0_4/edf/tr...</td>\n",
              "      <td>male</td>\n",
              "    </tr>\n",
              "    <tr>\n",
              "      <th>550</th>\n",
              "      <td>8829</td>\n",
              "      <td>48.0</td>\n",
              "      <td>/home/zozi/Downloads/info-patients-v0_4/edf/tr...</td>\n",
              "      <td>female</td>\n",
              "    </tr>\n",
              "    <tr>\n",
              "      <th>551</th>\n",
              "      <td>8835</td>\n",
              "      <td>21.0</td>\n",
              "      <td>/home/zozi/Downloads/info-patients-v0_4/edf/tr...</td>\n",
              "      <td>female</td>\n",
              "    </tr>\n",
              "  </tbody>\n",
              "</table>\n",
              "</div>"
            ],
            "text/plain": [
              "     Patient  ...      Genre\n",
              "8       2297  ...      woman\n",
              "14      1984  ...       male\n",
              "16      4087  ...      woman\n",
              "27      8512  ...       male\n",
              "37     10062  ...      woman\n",
              "41      8479  ...       male\n",
              "43     10639  ...      woman\n",
              "54      6351  ...      woman\n",
              "57      1843  ...       male\n",
              "64      3849  ...      woman\n",
              "71      1169  ...       male\n",
              "75      6904  ...       male\n",
              "80      5554  ...      woman\n",
              "83      4208  ...        NaN\n",
              "93      5804  ...       male\n",
              "102     2614  ...       male\n",
              "137     2232  ...        NaN\n",
              "153     1357  ...       male\n",
              "173     2807  ...       male\n",
              "175     3546  ...       male\n",
              "179     2796  ...       male\n",
              "196     5347  ...  gentleman\n",
              "198     5323  ...  gentleman\n",
              "223     6482  ...       male\n",
              "233      143  ...  gentleman\n",
              "244       32  ...       male\n",
              "281     5426  ...       male\n",
              "309    12957  ...      woman\n",
              "315     6107  ...  gentleman\n",
              "319    12262  ...      woman\n",
              "367    11974  ...      woman\n",
              "375     9097  ...        man\n",
              "376     9044  ...       male\n",
              "377     9050  ...       male\n",
              "394    10480  ...      woman\n",
              "395     9347  ...     female\n",
              "405    11454  ...      woman\n",
              "412     6236  ...        man\n",
              "425     5740  ...      woman\n",
              "428     8345  ...        NaN\n",
              "433     9694  ...        man\n",
              "437    12229  ...      woman\n",
              "438    12218  ...       male\n",
              "455     8643  ...       male\n",
              "456     8616  ...      woman\n",
              "463    11379  ...        NaN\n",
              "470     8100  ...     female\n",
              "483     6563  ...     female\n",
              "485     7038  ...      woman\n",
              "486     7095  ...       male\n",
              "497    10020  ...     female\n",
              "517    10551  ...      woman\n",
              "521    10584  ...     female\n",
              "526    10201  ...      woman\n",
              "541     9880  ...      woman\n",
              "543     9854  ...       male\n",
              "550     8829  ...     female\n",
              "551     8835  ...     female\n",
              "\n",
              "[58 rows x 4 columns]"
            ]
          },
          "metadata": {
            "tags": []
          },
          "execution_count": 22
        }
      ]
    },
    {
      "cell_type": "code",
      "metadata": {
        "id": "myKnenBcQEHg",
        "colab_type": "code",
        "colab": {}
      },
      "source": [
        "A_c0 = df_work_0['Age'].transform(lambda x: x.fillna(x.mean()))"
      ],
      "execution_count": 0,
      "outputs": []
    },
    {
      "cell_type": "code",
      "metadata": {
        "id": "rEXP-Z1PRx-M",
        "colab_type": "code",
        "outputId": "7a7dba6e-67eb-42c6-c123-689e2ebd41b5",
        "colab": {
          "base_uri": "https://localhost:8080/",
          "height": 34
        }
      },
      "source": [
        "A_c0.mean()"
      ],
      "execution_count": 0,
      "outputs": [
        {
          "output_type": "execute_result",
          "data": {
            "text/plain": [
              "52.87272727272728"
            ]
          },
          "metadata": {
            "tags": []
          },
          "execution_count": 24
        }
      ]
    },
    {
      "cell_type": "code",
      "metadata": {
        "id": "mwzyNeWwm16l",
        "colab_type": "code",
        "outputId": "4e544b6a-4e09-4238-912c-4a8da0d295b8",
        "colab": {
          "base_uri": "https://localhost:8080/",
          "height": 34
        }
      },
      "source": [
        "A_c0.median()"
      ],
      "execution_count": 0,
      "outputs": [
        {
          "output_type": "execute_result",
          "data": {
            "text/plain": [
              "54.0"
            ]
          },
          "metadata": {
            "tags": []
          },
          "execution_count": 25
        }
      ]
    },
    {
      "cell_type": "code",
      "metadata": {
        "id": "cVttAn1sVlY_",
        "colab_type": "code",
        "colab": {}
      },
      "source": [
        "df_w0g = df_work_0['Genre']"
      ],
      "execution_count": 0,
      "outputs": []
    },
    {
      "cell_type": "code",
      "metadata": {
        "id": "lssTRG-gWpHG",
        "colab_type": "code",
        "colab": {}
      },
      "source": [
        "df_w0g = df_w0g.apply(lambda x: 1 if (x in ['male','gentleman']) else 0 )"
      ],
      "execution_count": 0,
      "outputs": []
    },
    {
      "cell_type": "code",
      "metadata": {
        "id": "kXuYY4zjabjW",
        "colab_type": "code",
        "colab": {}
      },
      "source": [
        "w0g = pd.Series(df_w0g)"
      ],
      "execution_count": 0,
      "outputs": []
    },
    {
      "cell_type": "code",
      "metadata": {
        "id": "BXHRW7YqbMe2",
        "colab_type": "code",
        "outputId": "498074ca-167c-4bdc-a9fa-0b9f4aa9baac",
        "colab": {
          "base_uri": "https://localhost:8080/",
          "height": 68
        }
      },
      "source": [
        "w0g.value_counts()"
      ],
      "execution_count": 0,
      "outputs": [
        {
          "output_type": "execute_result",
          "data": {
            "text/plain": [
              "0    33\n",
              "1    25\n",
              "Name: Genre, dtype: int64"
            ]
          },
          "metadata": {
            "tags": []
          },
          "execution_count": 29
        }
      ]
    },
    {
      "cell_type": "code",
      "metadata": {
        "id": "uhDSjOd1btaG",
        "colab_type": "code",
        "outputId": "040cc7ef-0938-49c5-ed3a-3564d1a4944f",
        "colab": {
          "base_uri": "https://localhost:8080/",
          "height": 34
        }
      },
      "source": [
        "df_cluster0['crisis_frequency'].mean()"
      ],
      "execution_count": 0,
      "outputs": [
        {
          "output_type": "execute_result",
          "data": {
            "text/plain": [
              "0.09604229169712264"
            ]
          },
          "metadata": {
            "tags": []
          },
          "execution_count": 30
        }
      ]
    },
    {
      "cell_type": "code",
      "metadata": {
        "id": "RazhNNgSe1BC",
        "colab_type": "code",
        "colab": {}
      },
      "source": [
        ""
      ],
      "execution_count": 0,
      "outputs": []
    },
    {
      "cell_type": "markdown",
      "metadata": {
        "id": "TidbpqEGdbof",
        "colab_type": "text"
      },
      "source": [
        "# Cluster 1"
      ]
    },
    {
      "cell_type": "code",
      "metadata": {
        "id": "CFTtlKECdgmx",
        "colab_type": "code",
        "colab": {}
      },
      "source": [
        "df_work_1 = df_age_gender_by_patient[df_age_gender_by_patient['Patient'].isin(l_1)]"
      ],
      "execution_count": 0,
      "outputs": []
    },
    {
      "cell_type": "code",
      "metadata": {
        "id": "0ZtsqjjIdmsV",
        "colab_type": "code",
        "colab": {}
      },
      "source": [
        "A_c1 = df_work_1['Age'].transform(lambda x: x.fillna(x.mean()))"
      ],
      "execution_count": 0,
      "outputs": []
    },
    {
      "cell_type": "code",
      "metadata": {
        "id": "g72013Y9dsAS",
        "colab_type": "code",
        "outputId": "c953028d-21b4-4645-f66a-288698100d4a",
        "colab": {
          "base_uri": "https://localhost:8080/",
          "height": 34
        }
      },
      "source": [
        "A_c1.mean()"
      ],
      "execution_count": 0,
      "outputs": [
        {
          "output_type": "execute_result",
          "data": {
            "text/plain": [
              "47.02723735408559"
            ]
          },
          "metadata": {
            "tags": []
          },
          "execution_count": 33
        }
      ]
    },
    {
      "cell_type": "code",
      "metadata": {
        "id": "jZ7UIzfum6o3",
        "colab_type": "code",
        "outputId": "faa18401-bf8f-4b6c-cac3-8898b9e2a26a",
        "colab": {
          "base_uri": "https://localhost:8080/",
          "height": 34
        }
      },
      "source": [
        "A_c1.median()"
      ],
      "execution_count": 0,
      "outputs": [
        {
          "output_type": "execute_result",
          "data": {
            "text/plain": [
              "48.5"
            ]
          },
          "metadata": {
            "tags": []
          },
          "execution_count": 34
        }
      ]
    },
    {
      "cell_type": "code",
      "metadata": {
        "id": "_SJy7xrxduwk",
        "colab_type": "code",
        "colab": {}
      },
      "source": [
        "df_w1g = df_work_1['Genre']"
      ],
      "execution_count": 0,
      "outputs": []
    },
    {
      "cell_type": "code",
      "metadata": {
        "id": "YkknJJJ-dyO-",
        "colab_type": "code",
        "colab": {}
      },
      "source": [
        "df_w1g = df_w1g.apply(lambda x: 1 if (x in ['male','gentleman']) else 0 )"
      ],
      "execution_count": 0,
      "outputs": []
    },
    {
      "cell_type": "code",
      "metadata": {
        "id": "TjMcGCUld1-b",
        "colab_type": "code",
        "colab": {}
      },
      "source": [
        "w1g = pd.Series(df_w1g)"
      ],
      "execution_count": 0,
      "outputs": []
    },
    {
      "cell_type": "code",
      "metadata": {
        "id": "w69kqhtRewd5",
        "colab_type": "code",
        "outputId": "e248f63d-3f5d-4276-f6f5-66e2e4e3501d",
        "colab": {
          "base_uri": "https://localhost:8080/",
          "height": 68
        }
      },
      "source": [
        "w1g.value_counts()"
      ],
      "execution_count": 0,
      "outputs": [
        {
          "output_type": "execute_result",
          "data": {
            "text/plain": [
              "0    155\n",
              "1    109\n",
              "Name: Genre, dtype: int64"
            ]
          },
          "metadata": {
            "tags": []
          },
          "execution_count": 38
        }
      ]
    },
    {
      "cell_type": "code",
      "metadata": {
        "id": "nh2dTWxCe13q",
        "colab_type": "code",
        "outputId": "b59e81b8-fc6c-4760-80a6-068fa5db8fe8",
        "colab": {
          "base_uri": "https://localhost:8080/",
          "height": 34
        }
      },
      "source": [
        "df_cluster1['crisis_frequency'].mean()"
      ],
      "execution_count": 0,
      "outputs": [
        {
          "output_type": "execute_result",
          "data": {
            "text/plain": [
              "0.06722154636223517"
            ]
          },
          "metadata": {
            "tags": []
          },
          "execution_count": 39
        }
      ]
    },
    {
      "cell_type": "markdown",
      "metadata": {
        "id": "0ihSpfGNe4nL",
        "colab_type": "text"
      },
      "source": [
        "# Cluster 2"
      ]
    },
    {
      "cell_type": "code",
      "metadata": {
        "id": "OXrj1OFpfKxS",
        "colab_type": "code",
        "colab": {}
      },
      "source": [
        "df_work_2 = df_age_gender_by_patient[df_age_gender_by_patient['Patient'].isin(l_2)]"
      ],
      "execution_count": 0,
      "outputs": []
    },
    {
      "cell_type": "code",
      "metadata": {
        "id": "MKk-TWbafRWF",
        "colab_type": "code",
        "colab": {}
      },
      "source": [
        "A_c2 = df_work_2['Age'].transform(lambda x: x.fillna(x.mean()))"
      ],
      "execution_count": 0,
      "outputs": []
    },
    {
      "cell_type": "code",
      "metadata": {
        "id": "8_TsBt1wfjjA",
        "colab_type": "code",
        "outputId": "0dafcdfb-9f23-4b5c-b9ba-14dcec5fd7a5",
        "colab": {
          "base_uri": "https://localhost:8080/",
          "height": 34
        }
      },
      "source": [
        "A_c2.mean()"
      ],
      "execution_count": 0,
      "outputs": [
        {
          "output_type": "execute_result",
          "data": {
            "text/plain": [
              "44.31623931623933"
            ]
          },
          "metadata": {
            "tags": []
          },
          "execution_count": 42
        }
      ]
    },
    {
      "cell_type": "code",
      "metadata": {
        "id": "d3NbbwUum-zo",
        "colab_type": "code",
        "outputId": "07b3790b-41c5-4585-bc11-23d33432a192",
        "colab": {
          "base_uri": "https://localhost:8080/",
          "height": 34
        }
      },
      "source": [
        "A_c2.median()"
      ],
      "execution_count": 0,
      "outputs": [
        {
          "output_type": "execute_result",
          "data": {
            "text/plain": [
              "45.5"
            ]
          },
          "metadata": {
            "tags": []
          },
          "execution_count": 43
        }
      ]
    },
    {
      "cell_type": "code",
      "metadata": {
        "id": "NDbomHUPfmKQ",
        "colab_type": "code",
        "colab": {}
      },
      "source": [
        "df_w2g = df_work_2['Genre']"
      ],
      "execution_count": 0,
      "outputs": []
    },
    {
      "cell_type": "code",
      "metadata": {
        "id": "pAS1iXyOfuBW",
        "colab_type": "code",
        "colab": {}
      },
      "source": [
        "df_w2g = df_w2g.apply(lambda x: 1 if (x in ['male','gentleman']) else 0 )"
      ],
      "execution_count": 0,
      "outputs": []
    },
    {
      "cell_type": "code",
      "metadata": {
        "id": "bHfr7Hncfw1A",
        "colab_type": "code",
        "colab": {}
      },
      "source": [
        "w2g = pd.Series(df_w2g)"
      ],
      "execution_count": 0,
      "outputs": []
    },
    {
      "cell_type": "code",
      "metadata": {
        "id": "zPc_wbbFf0kA",
        "colab_type": "code",
        "outputId": "bee0209e-bfbb-42f6-b033-54487b0f4510",
        "colab": {
          "base_uri": "https://localhost:8080/",
          "height": 68
        }
      },
      "source": [
        "w2g.value_counts()"
      ],
      "execution_count": 0,
      "outputs": [
        {
          "output_type": "execute_result",
          "data": {
            "text/plain": [
              "0    130\n",
              "1     72\n",
              "Name: Genre, dtype: int64"
            ]
          },
          "metadata": {
            "tags": []
          },
          "execution_count": 47
        }
      ]
    },
    {
      "cell_type": "code",
      "metadata": {
        "id": "UsvyknIDf3Mu",
        "colab_type": "code",
        "outputId": "1c40fdf3-f8e0-4ef1-fc1e-578d9968cea6",
        "colab": {
          "base_uri": "https://localhost:8080/",
          "height": 34
        }
      },
      "source": [
        "df_cluster2['crisis_frequency'].mean()"
      ],
      "execution_count": 0,
      "outputs": [
        {
          "output_type": "execute_result",
          "data": {
            "text/plain": [
              "0.06647862354398265"
            ]
          },
          "metadata": {
            "tags": []
          },
          "execution_count": 48
        }
      ]
    },
    {
      "cell_type": "markdown",
      "metadata": {
        "id": "mLzPzl2nf6YG",
        "colab_type": "text"
      },
      "source": [
        "# Cluster v2 0"
      ]
    },
    {
      "cell_type": "code",
      "metadata": {
        "id": "B6rL7JsVf-lc",
        "colab_type": "code",
        "colab": {}
      },
      "source": [
        "df_work_0_v2 = df_age_gender_by_patient[df_age_gender_by_patient['Patient'].isin(l_0_v2)]"
      ],
      "execution_count": 0,
      "outputs": []
    },
    {
      "cell_type": "code",
      "metadata": {
        "id": "-C5-pQDdghfz",
        "colab_type": "code",
        "colab": {}
      },
      "source": [
        "A_c0_v2 = df_work_0_v2['Age'].transform(lambda x: x.fillna(x.mean()))"
      ],
      "execution_count": 0,
      "outputs": []
    },
    {
      "cell_type": "code",
      "metadata": {
        "id": "G_wL4rn9goKr",
        "colab_type": "code",
        "outputId": "c81a8bac-f810-4c1f-8782-99d471365bd9",
        "colab": {
          "base_uri": "https://localhost:8080/",
          "height": 34
        }
      },
      "source": [
        "A_c0_v2.mean()"
      ],
      "execution_count": 0,
      "outputs": [
        {
          "output_type": "execute_result",
          "data": {
            "text/plain": [
              "44.0899470899471"
            ]
          },
          "metadata": {
            "tags": []
          },
          "execution_count": 51
        }
      ]
    },
    {
      "cell_type": "code",
      "metadata": {
        "id": "qvQG5xJMnCsW",
        "colab_type": "code",
        "outputId": "d77563dd-77fc-4f19-a59f-0bcacf2f121d",
        "colab": {
          "base_uri": "https://localhost:8080/",
          "height": 34
        }
      },
      "source": [
        "A_c0_v2.median()"
      ],
      "execution_count": 0,
      "outputs": [
        {
          "output_type": "execute_result",
          "data": {
            "text/plain": [
              "45.0"
            ]
          },
          "metadata": {
            "tags": []
          },
          "execution_count": 52
        }
      ]
    },
    {
      "cell_type": "code",
      "metadata": {
        "id": "uhbOUESVgsAh",
        "colab_type": "code",
        "colab": {}
      },
      "source": [
        "df_w0v2g = df_work_0_v2['Genre']"
      ],
      "execution_count": 0,
      "outputs": []
    },
    {
      "cell_type": "code",
      "metadata": {
        "id": "BE_QjE1wgxYj",
        "colab_type": "code",
        "colab": {}
      },
      "source": [
        "df_w0v2g = df_w0v2g.apply(lambda x: 1 if (x in ['male','gentleman']) else 0 )"
      ],
      "execution_count": 0,
      "outputs": []
    },
    {
      "cell_type": "code",
      "metadata": {
        "id": "Ovg0T3ypg3zf",
        "colab_type": "code",
        "colab": {}
      },
      "source": [
        "w0v2g = pd.Series(df_w0v2g)"
      ],
      "execution_count": 0,
      "outputs": []
    },
    {
      "cell_type": "code",
      "metadata": {
        "id": "ef8mYGu6hBA-",
        "colab_type": "code",
        "outputId": "b47892d5-fbb0-470f-9175-4cb84d860e54",
        "colab": {
          "base_uri": "https://localhost:8080/",
          "height": 68
        }
      },
      "source": [
        "w0v2g.value_counts()"
      ],
      "execution_count": 0,
      "outputs": [
        {
          "output_type": "execute_result",
          "data": {
            "text/plain": [
              "0    164\n",
              "1     98\n",
              "Name: Genre, dtype: int64"
            ]
          },
          "metadata": {
            "tags": []
          },
          "execution_count": 56
        }
      ]
    },
    {
      "cell_type": "code",
      "metadata": {
        "id": "lUrI028EhEby",
        "colab_type": "code",
        "outputId": "3b3c303c-85de-4b9e-81b4-f49b2c1f448d",
        "colab": {
          "base_uri": "https://localhost:8080/",
          "height": 34
        }
      },
      "source": [
        "df_cluster0_v2['crisis_frequency'].mean()"
      ],
      "execution_count": 0,
      "outputs": [
        {
          "output_type": "execute_result",
          "data": {
            "text/plain": [
              "0.042025167954001824"
            ]
          },
          "metadata": {
            "tags": []
          },
          "execution_count": 57
        }
      ]
    },
    {
      "cell_type": "markdown",
      "metadata": {
        "id": "CB1Te2TGhIiF",
        "colab_type": "text"
      },
      "source": [
        "# Cluster v2 1"
      ]
    },
    {
      "cell_type": "code",
      "metadata": {
        "id": "P-iU1A5RhLgq",
        "colab_type": "code",
        "colab": {}
      },
      "source": [
        "df_work_1_v2 = df_age_gender_by_patient[df_age_gender_by_patient['Patient'].isin(l_1_v2)]"
      ],
      "execution_count": 0,
      "outputs": []
    },
    {
      "cell_type": "code",
      "metadata": {
        "id": "KBrQfiB3huRD",
        "colab_type": "code",
        "colab": {}
      },
      "source": [
        "A_c1_v2 = df_work_1_v2['Age'].transform(lambda x: x.fillna(x.mean()))"
      ],
      "execution_count": 0,
      "outputs": []
    },
    {
      "cell_type": "code",
      "metadata": {
        "id": "OdyE8Ep3hxaB",
        "colab_type": "code",
        "outputId": "fcdd3eb2-891e-468a-8738-7aec4470e537",
        "colab": {
          "base_uri": "https://localhost:8080/",
          "height": 34
        }
      },
      "source": [
        "A_c1_v2.mean()"
      ],
      "execution_count": 0,
      "outputs": [
        {
          "output_type": "execute_result",
          "data": {
            "text/plain": [
              "46.72832369942196"
            ]
          },
          "metadata": {
            "tags": []
          },
          "execution_count": 60
        }
      ]
    },
    {
      "cell_type": "code",
      "metadata": {
        "id": "FQiEiBVtnGzm",
        "colab_type": "code",
        "outputId": "f35093c0-56b6-460f-b633-c4ca288025cf",
        "colab": {
          "base_uri": "https://localhost:8080/",
          "height": 34
        }
      },
      "source": [
        "A_c1_v2.median()"
      ],
      "execution_count": 0,
      "outputs": [
        {
          "output_type": "execute_result",
          "data": {
            "text/plain": [
              "48.5"
            ]
          },
          "metadata": {
            "tags": []
          },
          "execution_count": 61
        }
      ]
    },
    {
      "cell_type": "code",
      "metadata": {
        "id": "dY3JuDhnhz03",
        "colab_type": "code",
        "colab": {}
      },
      "source": [
        "df_w1v2g = df_work_1_v2['Genre']"
      ],
      "execution_count": 0,
      "outputs": []
    },
    {
      "cell_type": "code",
      "metadata": {
        "id": "sHEasVkxh3w6",
        "colab_type": "code",
        "colab": {}
      },
      "source": [
        "df_w1v2g = df_w1v2g.apply(lambda x: 1 if (x in ['male','gentleman']) else 0 )"
      ],
      "execution_count": 0,
      "outputs": []
    },
    {
      "cell_type": "code",
      "metadata": {
        "id": "Ew8N2RwGh7T0",
        "colab_type": "code",
        "colab": {}
      },
      "source": [
        "w1v2g = pd.Series(df_w1v2g)"
      ],
      "execution_count": 0,
      "outputs": []
    },
    {
      "cell_type": "code",
      "metadata": {
        "id": "QuBba9Gkh_Av",
        "colab_type": "code",
        "outputId": "c216f6c7-a8a5-4461-93f7-aae6967acaf6",
        "colab": {
          "base_uri": "https://localhost:8080/",
          "height": 68
        }
      },
      "source": [
        "w1v2g.value_counts()"
      ],
      "execution_count": 0,
      "outputs": [
        {
          "output_type": "execute_result",
          "data": {
            "text/plain": [
              "0    106\n",
              "1     72\n",
              "Name: Genre, dtype: int64"
            ]
          },
          "metadata": {
            "tags": []
          },
          "execution_count": 65
        }
      ]
    },
    {
      "cell_type": "code",
      "metadata": {
        "id": "JEt2kJowiBnu",
        "colab_type": "code",
        "outputId": "9b5464a4-4ae5-49ad-e161-0472f87d1a6b",
        "colab": {
          "base_uri": "https://localhost:8080/",
          "height": 34
        }
      },
      "source": [
        "df_cluster1_v2['crisis_frequency'].mean()"
      ],
      "execution_count": 0,
      "outputs": [
        {
          "output_type": "execute_result",
          "data": {
            "text/plain": [
              "0.07535123588184904"
            ]
          },
          "metadata": {
            "tags": []
          },
          "execution_count": 66
        }
      ]
    },
    {
      "cell_type": "markdown",
      "metadata": {
        "id": "GKiZnNNeiEPW",
        "colab_type": "text"
      },
      "source": [
        "# Cluster v2 1"
      ]
    },
    {
      "cell_type": "code",
      "metadata": {
        "id": "0F4-Pww2iH9_",
        "colab_type": "code",
        "colab": {}
      },
      "source": [
        "df_work_2_v2 = df_age_gender_by_patient[df_age_gender_by_patient['Patient'].isin(l_2_v2)]"
      ],
      "execution_count": 0,
      "outputs": []
    },
    {
      "cell_type": "code",
      "metadata": {
        "id": "3AdPNworiLwT",
        "colab_type": "code",
        "colab": {}
      },
      "source": [
        "A_c2_v2 = df_work_2_v2['Age'].transform(lambda x: x.fillna(x.mean()))"
      ],
      "execution_count": 0,
      "outputs": []
    },
    {
      "cell_type": "code",
      "metadata": {
        "id": "-zn_YCtfiPbj",
        "colab_type": "code",
        "outputId": "dcfe73ad-4d97-42ac-f4dd-e54f1fb94df3",
        "colab": {
          "base_uri": "https://localhost:8080/",
          "height": 34
        }
      },
      "source": [
        "A_c2_v2.mean()"
      ],
      "execution_count": 0,
      "outputs": [
        {
          "output_type": "execute_result",
          "data": {
            "text/plain": [
              "54.15853658536586"
            ]
          },
          "metadata": {
            "tags": []
          },
          "execution_count": 69
        }
      ]
    },
    {
      "cell_type": "code",
      "metadata": {
        "id": "a0Uw89qanK7i",
        "colab_type": "code",
        "outputId": "21851dc2-7752-4158-9dec-77efbb1bf36a",
        "colab": {
          "base_uri": "https://localhost:8080/",
          "height": 34
        }
      },
      "source": [
        "A_c2_v2.median()"
      ],
      "execution_count": 0,
      "outputs": [
        {
          "output_type": "execute_result",
          "data": {
            "text/plain": [
              "60.0"
            ]
          },
          "metadata": {
            "tags": []
          },
          "execution_count": 70
        }
      ]
    },
    {
      "cell_type": "code",
      "metadata": {
        "id": "6ml_5PhciR2G",
        "colab_type": "code",
        "colab": {}
      },
      "source": [
        "df_w2v2g = df_work_2_v2['Genre']"
      ],
      "execution_count": 0,
      "outputs": []
    },
    {
      "cell_type": "code",
      "metadata": {
        "id": "J5gcLNX1iVAO",
        "colab_type": "code",
        "colab": {}
      },
      "source": [
        "df_w2v2g = df_w2v2g.apply(lambda x: 1 if (x in ['male','gentleman']) else 0 )"
      ],
      "execution_count": 0,
      "outputs": []
    },
    {
      "cell_type": "code",
      "metadata": {
        "id": "HvDp-icTiYDO",
        "colab_type": "code",
        "colab": {}
      },
      "source": [
        "w2v2g = pd.Series(df_w2v2g)"
      ],
      "execution_count": 0,
      "outputs": []
    },
    {
      "cell_type": "code",
      "metadata": {
        "id": "ev-B9JaqibNs",
        "colab_type": "code",
        "outputId": "ebf15da8-301f-4942-f0d1-00857efad291",
        "colab": {
          "base_uri": "https://localhost:8080/",
          "height": 68
        }
      },
      "source": [
        "w2v2g.value_counts()"
      ],
      "execution_count": 0,
      "outputs": [
        {
          "output_type": "execute_result",
          "data": {
            "text/plain": [
              "0    48\n",
              "1    36\n",
              "Name: Genre, dtype: int64"
            ]
          },
          "metadata": {
            "tags": []
          },
          "execution_count": 74
        }
      ]
    },
    {
      "cell_type": "code",
      "metadata": {
        "id": "-PWsD4pAiggE",
        "colab_type": "code",
        "outputId": "ddcea296-3340-4adc-ca75-d19944fdb06c",
        "colab": {
          "base_uri": "https://localhost:8080/",
          "height": 34
        }
      },
      "source": [
        "df_cluster2_v2['crisis_frequency'].mean()"
      ],
      "execution_count": 0,
      "outputs": [
        {
          "output_type": "execute_result",
          "data": {
            "text/plain": [
              "0.14650461845882465"
            ]
          },
          "metadata": {
            "tags": []
          },
          "execution_count": 75
        }
      ]
    }
  ]
}